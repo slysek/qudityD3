{
 "cells": [
  {
   "cell_type": "code",
   "id": "initial_id",
   "metadata": {
    "collapsed": true,
    "ExecuteTime": {
     "end_time": "2024-11-10T18:58:55.897294Z",
     "start_time": "2024-11-10T18:58:55.889301Z"
    }
   },
   "source": [
    "import numpy as np\n",
    "from qiskit.circuit import QuantumCircuit"
   ],
   "outputs": [],
   "execution_count": 141
  },
  {
   "metadata": {
    "ExecuteTime": {
     "end_time": "2024-11-10T18:59:46.573999Z",
     "start_time": "2024-11-10T18:59:46.554010Z"
    }
   },
   "cell_type": "code",
   "source": [
    "def cartanCircuit(VCxGate):\n",
    "    circ = QuantumCircuit(2)\n",
    "    phi = np.arctan(1 + np.sqrt(3))\n",
    "    #qubit 0\n",
    "    circ.x(0)\n",
    "    circ.ry(phi, 0)\n",
    "    circ.x(0)\n",
    "    circ.z(0)\n",
    "    circ.x(0)\n",
    "    circ.p(3 * np.pi / 16, 0)\n",
    "    circ.x(0)\n",
    "    circ.p(15 * np.pi / 16, 0)\n",
    "    \n",
    "    #qubit 1\n",
    "    circ.x(1)\n",
    "    circ.ry(phi, 1)\n",
    "    circ.x(1)\n",
    "    circ.z(1)\n",
    "    circ.x(1)\n",
    "    circ.p(3 * np.pi / 16, 1)\n",
    "    circ.x(1)\n",
    "    circ.p(15 * np.pi / 16, 1)\n",
    "    \n",
    "    circ.barrier(0)\n",
    "    circ.barrier(1)\n",
    "    \n",
    "    circ.append(VCxGate.decompose(), [0, 1])\n",
    "    \n",
    "    circ.barrier(0)\n",
    "    circ.barrier(1)\n",
    "    \n",
    "    #qubit 0 after VCx\n",
    "    \n",
    "    circ.x(0)\n",
    "    circ.p(3 * np.pi / 16, 0)\n",
    "    circ.x(0)\n",
    "    circ.p(15 * np.pi / 16, 0)\n",
    "    circ.x(0)\n",
    "    circ.ry(phi, 0)\n",
    "    circ.x(0)\n",
    "    circ.z(0)\n",
    "    \n",
    "    #qubit 1 after VCx\n",
    "    \n",
    "    circ.p(9 * np.pi / 16, 1)\n",
    "    circ.x(1)\n",
    "    circ.p(13 * np.pi / 16, 1)\n",
    "    circ.x(1)\n",
    "    circ.z(1)\n",
    "    circ.x(1)\n",
    "    circ.ry(phi, 1)\n",
    "    circ.x(1)\n",
    "    circ.z(1)\n",
    "    \n",
    "    return circ"
   ],
   "id": "7934e0d5c094d12c",
   "outputs": [],
   "execution_count": 153
  },
  {
   "metadata": {
    "ExecuteTime": {
     "end_time": "2024-11-10T18:59:47.418856Z",
     "start_time": "2024-11-10T18:59:47.401856Z"
    }
   },
   "cell_type": "code",
   "source": "from qiskit.synthesis import TwoQubitWeylDecomposition",
   "id": "262951d70c4c5471",
   "outputs": [],
   "execution_count": 154
  },
  {
   "metadata": {
    "ExecuteTime": {
     "end_time": "2024-11-10T18:59:47.654129Z",
     "start_time": "2024-11-10T18:59:47.636131Z"
    }
   },
   "cell_type": "code",
   "source": [
    "pi = np.pi\n",
    "sqrt = np.sqrt\n",
    "log = np.log \n",
    "\n",
    "common_log_term = log(-1 / 6 * (-1) ** (1 / 4) * (sqrt(24 - 6 * sqrt(3)) + 1j * (3 + sqrt(3))))\n",
    "common_factor = 3j + 1j * sqrt(3) + sqrt(6 * (4 - sqrt(3)))\n",
    "denominator = 15 * pi - 4 * 1j * common_log_term\n",
    "\n",
    "VCx = np.array([\n",
    "    [\n",
    "        -(((-1) ** (5 / 8) * common_factor * (30 * pi - 8 * 1j * common_log_term)) / (24 * denominator)) +\n",
    "        (3 * (-1) ** (5 / 8) * (-30 * pi + 8 * 1j * common_log_term)) / (2 * common_factor * denominator),\n",
    "        0,\n",
    "        0,\n",
    "        (3 * (-1) ** (5 / 8) * (-30 * pi + 8 * 1j * common_log_term)) / (2 * common_factor * denominator) -\n",
    "        ((-1) ** (5 / 8) * common_factor * (-30 * pi + 8 * 1j * common_log_term)) / (24 * denominator)\n",
    "    ],\n",
    "    [\n",
    "        0,\n",
    "        -(1 / 2) * (-1) ** (1 / 8) - (1 / 2) * (-1) ** (5 / 8),\n",
    "        -(1 / 2) * (-1) ** (1 / 8) + (1 / 2) * (-1) ** (5 / 8),\n",
    "        0\n",
    "    ],\n",
    "    [\n",
    "        0,\n",
    "        -(1 / 2) * (-1) ** (1 / 8) + (1 / 2) * (-1) ** (5 / 8),\n",
    "        -(1 / 2) * (-1) ** (1 / 8) - (1 / 2) * (-1) ** (5 / 8),\n",
    "        0\n",
    "    ],\n",
    "    [\n",
    "        (3 * (-1) ** (5 / 8) * (-30 * pi + 8 * 1j * common_log_term)) / (2 * common_factor * denominator) -\n",
    "        ((-1) ** (5 / 8) * common_factor * (-30 * pi + 8 * 1j * common_log_term)) / (24 * denominator),\n",
    "        0,\n",
    "        0,\n",
    "        -(((-1) ** (5 / 8) * common_factor * (30 * pi - 8 * 1j * common_log_term)) / (24 * denominator)) +\n",
    "        (3 * (-1) ** (5 / 8) * (-30 * pi + 8 * 1j * common_log_term)) / (2 * common_factor * denominator)\n",
    "    ]\n",
    "], dtype=complex)\n"
   ],
   "id": "a0f5fc50769ad866",
   "outputs": [],
   "execution_count": 155
  },
  {
   "metadata": {
    "ExecuteTime": {
     "end_time": "2024-11-10T18:59:47.871403Z",
     "start_time": "2024-11-10T18:59:47.862408Z"
    }
   },
   "cell_type": "code",
   "source": "np.dot(U, np.conjugate(U))",
   "id": "36f63658cf7cf80d",
   "outputs": [
    {
     "data": {
      "text/plain": [
       "array([[ 1.00000000e+00+2.77555756e-17j, -6.79987439e-17+3.08545131e-17j,\n",
       "         4.03527930e-17+7.02171389e-17j,  1.11022302e-16-2.22044605e-16j],\n",
       "       [ 0.00000000e+00+0.00000000e+00j,  1.00000000e+00+1.08793222e-16j,\n",
       "         5.55111512e-17+1.66533454e-16j,  0.00000000e+00+0.00000000e+00j],\n",
       "       [ 0.00000000e+00+0.00000000e+00j, -1.66533454e-16-1.66533454e-16j,\n",
       "         1.00000000e+00-8.32667268e-17j,  0.00000000e+00+0.00000000e+00j],\n",
       "       [ 5.55111512e-17+1.66533454e-16j, -9.16857144e-18-4.52087041e-17j,\n",
       "        -9.70970769e-17-1.03169747e-16j,  1.00000000e+00-2.77555756e-17j]])"
      ]
     },
     "execution_count": 156,
     "metadata": {},
     "output_type": "execute_result"
    }
   ],
   "execution_count": 156
  },
  {
   "metadata": {
    "ExecuteTime": {
     "end_time": "2024-11-10T18:59:48.401485Z",
     "start_time": "2024-11-10T18:59:48.392491Z"
    }
   },
   "cell_type": "code",
   "source": "weylDecomCirc = TwoQubitWeylDecomposition(VCx)",
   "id": "efacc667013809b0",
   "outputs": [],
   "execution_count": 157
  },
  {
   "metadata": {
    "ExecuteTime": {
     "end_time": "2024-11-10T18:59:48.759119Z",
     "start_time": "2024-11-10T18:59:48.742129Z"
    }
   },
   "cell_type": "code",
   "source": "VCxGate = weylDecomCirc.circuit()",
   "id": "129f818a0ea3b3a2",
   "outputs": [],
   "execution_count": 158
  },
  {
   "metadata": {
    "ExecuteTime": {
     "end_time": "2024-11-10T18:59:49.292155Z",
     "start_time": "2024-11-10T18:59:49.053292Z"
    }
   },
   "cell_type": "code",
   "source": "VCxGate.draw('mpl')",
   "id": "c902cd3f0b5a675c",
   "outputs": [
    {
     "data": {
      "text/plain": [
       "<Figure size 956.183x200.667 with 1 Axes>"
      ],
      "image/png": "[encoded data removed]"
     },
     "execution_count": 159,
     "metadata": {},
     "output_type": "execute_result"
    }
   ],
   "execution_count": 159
  },
  {
   "metadata": {},
   "cell_type": "markdown",
   "source": "![Original matrix VCx and after Wesley aproximation](./wesleyMatrixFDecomposition.png)",
   "id": "aadada9243ccaab7"
  },
  {
   "metadata": {
    "ExecuteTime": {
     "end_time": "2024-11-10T18:59:49.526137Z",
     "start_time": "2024-11-10T18:59:49.516146Z"
    }
   },
   "cell_type": "code",
   "source": "cartanCirc = cartanCircuit(VCxGate)",
   "id": "8d75ab135af81495",
   "outputs": [],
   "execution_count": 160
  },
  {
   "metadata": {
    "ExecuteTime": {
     "end_time": "2024-11-10T18:59:50.393058Z",
     "start_time": "2024-11-10T18:59:50.157200Z"
    }
   },
   "cell_type": "code",
   "source": "cartanCirc.draw('mpl')",
   "id": "22e1f4d8cdf9b730",
   "outputs": [
    {
     "data": {
      "text/plain": [
       "<Figure size 1875.91x200.667 with 1 Axes>"
      ],
      "image/png": "[encoded data removed]"
     },
     "execution_count": 161,
     "metadata": {},
     "output_type": "execute_result"
    }
   ],
   "execution_count": 161
  },
  {
   "metadata": {},
   "cell_type": "markdown",
   "source": "",
   "id": "a16ee8f2087e86ba"
  }
 ],
 "metadata": {
  "kernelspec": {
   "display_name": "Python 3",
   "language": "python",
   "name": "python3"
  },
  "language_info": {
   "codemirror_mode": {
    "name": "ipython",
    "version": 2
   },
   "file_extension": ".py",
   "mimetype": "text/x-python",
   "name": "python",
   "nbconvert_exporter": "python",
   "pygments_lexer": "ipython2",
   "version": "2.7.6"
  }
 },
 "nbformat": 4,
 "nbformat_minor": 5
}
