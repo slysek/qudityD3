{
 "cells": [
  {
   "cell_type": "code",
   "id": "initial_id",
   "metadata": {
    "collapsed": true,
    "ExecuteTime": {
     "end_time": "2024-12-17T22:36:52.176857Z",
     "start_time": "2024-12-17T22:36:52.139715Z"
    }
   },
   "source": [
    "import numpy as np\n",
    "from qiskit.circuit import QuantumCircuit\n",
    "from qiskit.quantum_info import Statevector"
   ],
   "outputs": [],
   "execution_count": 8
  },
  {
   "metadata": {
    "ExecuteTime": {
     "end_time": "2024-12-17T22:36:52.444402Z",
     "start_time": "2024-12-17T22:36:52.422825Z"
    }
   },
   "cell_type": "code",
   "source": [
    "def cartanCircuit(VCxGate):\n",
    "    circ = QuantumCircuit(2)\n",
    "    phi = np.arctan(1 + np.sqrt(3))\n",
    "\n",
    "    #qubit 0 after VCx\n",
    "    circ.z(0)\n",
    "    circ.x(0)\n",
    "    circ.ry(phi, 0)\n",
    "    circ.x(0)\n",
    "    circ.p(15 * np.pi / 16, 0)\n",
    "    circ.x(0)\n",
    "    circ.p(3 * np.pi / 16, 0)\n",
    "    circ.x(0)\n",
    "\n",
    "    #qubit 1 after VCx\n",
    "    circ.z(1)\n",
    "    circ.x(1)\n",
    "    circ.ry(phi, 1)\n",
    "    circ.x(1)\n",
    "    circ.z(1)\n",
    "    circ.x(1)\n",
    "    circ.p(13 * np.pi / 16, 1)\n",
    "    circ.x(1)\n",
    "    circ.p(9 * np.pi / 16, 1)\n",
    "\n",
    "    circ.barrier(0)\n",
    "    circ.barrier(1)\n",
    "\n",
    "    circ.append(VCxGate.decompose(), [0, 1])\n",
    "\n",
    "\n",
    "    #qubit 0\n",
    "    circ.p(15 * np.pi / 16, 0)\n",
    "    circ.x(0)\n",
    "    circ.p(3 * np.pi / 16, 0)\n",
    "    circ.x(0)\n",
    "    circ.z(0)\n",
    "    circ.x(0)\n",
    "    circ.ry(phi, 0)\n",
    "    circ.x(0)\n",
    "\n",
    "    #qubit 1\n",
    "    circ.p(15 * np.pi / 16, 1)\n",
    "    circ.x(1)\n",
    "    circ.p(3 * np.pi / 16, 1)\n",
    "    circ.x(1)\n",
    "    circ.z(1)\n",
    "    circ.x(1)\n",
    "    circ.ry(phi, 1)\n",
    "    circ.x(1)\n",
    "\n",
    "\n",
    "    return circ"
   ],
   "id": "7934e0d5c094d12c",
   "outputs": [],
   "execution_count": 9
  },
  {
   "metadata": {
    "ExecuteTime": {
     "end_time": "2024-12-17T22:36:52.886300Z",
     "start_time": "2024-12-17T22:36:52.869234Z"
    }
   },
   "cell_type": "code",
   "source": "from qiskit.synthesis import TwoQubitWeylDecomposition",
   "id": "d5fdabd297fb0b8f",
   "outputs": [],
   "execution_count": 10
  },
  {
   "metadata": {
    "ExecuteTime": {
     "end_time": "2024-12-17T22:36:53.218211Z",
     "start_time": "2024-12-17T22:36:53.200148Z"
    }
   },
   "cell_type": "code",
   "source": [
    "pi = np.pi\n",
    "sqrt = np.sqrt\n",
    "log = np.log \n",
    "\n",
    "common_log_term = log(-1 / 6 * (-1) ** (1 / 4) * (sqrt(24 - 6 * sqrt(3)) + 1j * (3 + sqrt(3))))\n",
    "common_factor = 3j + 1j * sqrt(3) + sqrt(6 * (4 - sqrt(3)))\n",
    "denominator = 15 * pi - 4 * 1j * common_log_term\n",
    "\n",
    "VCx = np.array([\n",
    "    [\n",
    "        -(((-1) ** (5 / 8) * common_factor * (30 * pi - 8 * 1j * common_log_term)) / (24 * denominator)) +\n",
    "        (3 * (-1) ** (5 / 8) * (-30 * pi + 8 * 1j * common_log_term)) / (2 * common_factor * denominator),\n",
    "        0,\n",
    "        0,\n",
    "        (3 * (-1) ** (5 / 8) * (-30 * pi + 8 * 1j * common_log_term)) / (2 * common_factor * denominator) -\n",
    "        ((-1) ** (5 / 8) * common_factor * (-30 * pi + 8 * 1j * common_log_term)) / (24 * denominator)\n",
    "    ],\n",
    "    [\n",
    "        0,\n",
    "        -(1 / 2) * (-1) ** (1 / 8) - (1 / 2) * (-1) ** (5 / 8),\n",
    "        -(1 / 2) * (-1) ** (1 / 8) + (1 / 2) * (-1) ** (5 / 8),\n",
    "        0\n",
    "    ],\n",
    "    [\n",
    "        0,\n",
    "        -(1 / 2) * (-1) ** (1 / 8) + (1 / 2) * (-1) ** (5 / 8),\n",
    "        -(1 / 2) * (-1) ** (1 / 8) - (1 / 2) * (-1) ** (5 / 8),\n",
    "        0\n",
    "    ],\n",
    "    [\n",
    "        (3 * (-1) ** (5 / 8) * (-30 * pi + 8 * 1j * common_log_term)) / (2 * common_factor * denominator) -\n",
    "        ((-1) ** (5 / 8) * common_factor * (-30 * pi + 8 * 1j * common_log_term)) / (24 * denominator),\n",
    "        0,\n",
    "        0,\n",
    "        -(((-1) ** (5 / 8) * common_factor * (30 * pi - 8 * 1j * common_log_term)) / (24 * denominator)) +\n",
    "        (3 * (-1) ** (5 / 8) * (-30 * pi + 8 * 1j * common_log_term)) / (2 * common_factor * denominator)\n",
    "    ]\n",
    "], dtype=complex)\n"
   ],
   "id": "4add4a9cb0641f19",
   "outputs": [],
   "execution_count": 11
  },
  {
   "metadata": {
    "ExecuteTime": {
     "end_time": "2024-12-17T22:36:54.289445Z",
     "start_time": "2024-12-17T22:36:53.710100Z"
    }
   },
   "cell_type": "code",
   "source": [
    "weylDecomCirc = TwoQubitWeylDecomposition(VCx)\n",
    "VCxGate = weylDecomCirc.circuit()\n",
    "VCxGate.draw('mpl')"
   ],
   "id": "c902cd3f0b5a675c",
   "outputs": [
    {
     "data": {
      "text/plain": [
       "<Figure size 956.183x200.667 with 1 Axes>"
      ],
      "image/png": "[encoded data removed]"
     },
     "execution_count": 12,
     "metadata": {},
     "output_type": "execute_result"
    }
   ],
   "execution_count": 12
  },
  {
   "metadata": {},
   "cell_type": "markdown",
   "source": "![Original matrix VCx and after Wesley aproximation](./wesleyMatrixFDecomposition.png)",
   "id": "aadada9243ccaab7"
  },
  {
   "metadata": {
    "ExecuteTime": {
     "end_time": "2024-12-17T22:36:57.989662Z",
     "start_time": "2024-12-17T22:36:57.972847Z"
    }
   },
   "cell_type": "code",
   "source": "cartanCirc = cartanCircuit(VCxGate)",
   "id": "8d75ab135af81495",
   "outputs": [],
   "execution_count": 13
  },
  {
   "metadata": {
    "ExecuteTime": {
     "end_time": "2024-12-17T22:36:58.803626Z",
     "start_time": "2024-12-17T22:36:58.453060Z"
    }
   },
   "cell_type": "code",
   "source": "cartanCirc.draw('mpl')",
   "id": "22e1f4d8cdf9b730",
   "outputs": [
    {
     "data": {
      "text/plain": [
       "<Figure size 1792.29x200.667 with 1 Axes>"
      ],
      "image/png": "[encoded data removed]"
     },
     "execution_count": 14,
     "metadata": {},
     "output_type": "execute_result"
    }
   ],
   "execution_count": 14
  },
  {
   "metadata": {},
   "cell_type": "markdown",
   "source": "",
   "id": "a16ee8f2087e86ba"
  },
  {
   "metadata": {
    "ExecuteTime": {
     "end_time": "2024-12-18T00:07:39.361469Z",
     "start_time": "2024-12-18T00:07:39.321469Z"
    }
   },
   "cell_type": "code",
   "source": [
    "from qiskit.circuit.library import UnitaryGate\n",
    "transforationMatrix = np.array([[1/np.sqrt(2), 1/np.sqrt(2)], [1/np.sqrt(2), -1/np.sqrt(2)]])\n",
    "\n",
    "uniGate = UnitaryGate(transforationMatrix)"
   ],
   "id": "be727f1252d7058d",
   "outputs": [],
   "execution_count": 15
  },
  {
   "metadata": {
    "ExecuteTime": {
     "end_time": "2024-12-18T00:31:38.593209Z",
     "start_time": "2024-12-18T00:31:37.100527Z"
    }
   },
   "cell_type": "code",
   "source": "Statevector(uniGate).draw('mpl')",
   "id": "b7e850bfa97b1139",
   "outputs": [
    {
     "ename": "NameError",
     "evalue": "name 'Statevector' is not defined",
     "output_type": "error",
     "traceback": [
      "\u001B[1;31m---------------------------------------------------------------------------\u001B[0m",
      "\u001B[1;31mNameError\u001B[0m                                 Traceback (most recent call last)",
      "Cell \u001B[1;32mIn[17], line 1\u001B[0m\n\u001B[1;32m----> 1\u001B[0m \u001B[43mStatevector\u001B[49m(uniGate)\u001B[38;5;241m.\u001B[39mdraw(\u001B[38;5;124m'\u001B[39m\u001B[38;5;124mmpl\u001B[39m\u001B[38;5;124m'\u001B[39m)\n",
      "\u001B[1;31mNameError\u001B[0m: name 'Statevector' is not defined"
     ]
    }
   ],
   "execution_count": 17
  },
  {
   "metadata": {},
   "cell_type": "code",
   "outputs": [],
   "execution_count": null,
   "source": "",
   "id": "3701cb491f0e39f3"
  }
 ],
 "metadata": {
  "kernelspec": {
   "display_name": "Python 3",
   "language": "python",
   "name": "python3"
  },
  "language_info": {
   "codemirror_mode": {
    "name": "ipython",
    "version": 2
   },
   "file_extension": ".py",
   "mimetype": "text/x-python",
   "name": "python",
   "nbconvert_exporter": "python",
   "pygments_lexer": "ipython2",
   "version": "2.7.6"
  }
 },
 "nbformat": 4,
 "nbformat_minor": 5
}
