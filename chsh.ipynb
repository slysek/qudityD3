{
 "cells": [
  {
   "cell_type": "code",
   "id": "initial_id",
   "metadata": {
    "collapsed": true,
    "ExecuteTime": {
     "end_time": "2025-05-22T10:17:14.289917Z",
     "start_time": "2025-05-22T10:17:14.278707Z"
    }
   },
   "source": [
    "from qiskit import QuantumCircuit\n",
    "from qiskit.circuit import Parameter\n",
    "import numpy as np\n",
    "from matplotlib import pyplot as plt\n",
    "from qiskit.primitives import StatevectorSampler\n",
    "from qiskit.quantum_info import PauliList"
   ],
   "outputs": [],
   "execution_count": 11
  },
  {
   "metadata": {
    "ExecuteTime": {
     "end_time": "2025-05-22T09:18:42.258298Z",
     "start_time": "2025-05-22T09:18:42.245781Z"
    }
   },
   "cell_type": "code",
   "source": "theta = Parameter(\"$\\\\theta$\")",
   "id": "4c828e7cabe7f949",
   "outputs": [],
   "execution_count": 2
  },
  {
   "metadata": {
    "ExecuteTime": {
     "end_time": "2025-05-22T10:27:26.372141Z",
     "start_time": "2025-05-22T10:27:26.249824Z"
    }
   },
   "cell_type": "code",
   "source": [
    "chsh_circuit = QuantumCircuit(2)\n",
    "chsh_circuit.h(0)\n",
    "chsh_circuit.cx(0, 1)\n",
    "#chsh_circuit.h(0)\n",
    "#chsh_circuit.h(1)\n",
    "chsh_circuit.measure_all()\n",
    "chsh_circuit.draw('mpl')"
   ],
   "id": "fa80c0f05287354e",
   "outputs": [
    {
     "data": {
      "text/plain": [
       "<Figure size 580.387x284.278 with 1 Axes>"
      ],
      "image/png": "[encoded data removed]"
     },
     "execution_count": 97,
     "metadata": {},
     "output_type": "execute_result"
    }
   ],
   "execution_count": 97
  },
  {
   "metadata": {
    "ExecuteTime": {
     "end_time": "2025-05-22T10:13:25.749637Z",
     "start_time": "2025-05-22T10:13:25.739107Z"
    }
   },
   "cell_type": "code",
   "source": [
    "def _paulis2inds(paulis) -> list[int]:\n",
    "    \"\"\"Convert PauliList to diagonal integers.\n",
    "    These are integer representations of the binary string with a\n",
    "    1 where there are Paulis, and 0 where there are identities.\n",
    "    \"\"\"\n",
    "    # Treat Z, X, Y the same\n",
    "    nonid = paulis.z | paulis.x\n",
    "\n",
    "    # bits are packed into uint8 in little endian\n",
    "    # e.g., i-th bit corresponds to coefficient 2^i\n",
    "    packed_vals = np.packbits(nonid, axis=1, bitorder=\"little\")\n",
    "    power_uint8 = 1 << (8 * np.arange(packed_vals.shape[1], dtype=object))\n",
    "    inds = packed_vals @ power_uint8\n",
    "    return inds.tolist()\n",
    "\n",
    "\n",
    "def _parity(integer: int) -> int:\n",
    "    \"\"\"Return the parity of an integer\"\"\"\n",
    "    return bin(integer).count(\"1\") % 2"
   ],
   "id": "4f79ce0f825d1d1f",
   "outputs": [],
   "execution_count": 5
  },
  {
   "metadata": {
    "ExecuteTime": {
     "end_time": "2025-05-22T10:13:27.196488Z",
     "start_time": "2025-05-22T10:13:27.184449Z"
    }
   },
   "cell_type": "code",
   "source": [
    "def _pauli_expval_with_variance(counts, paulis) -> tuple[np.ndarray, np.ndarray]:\n",
    "    \"\"\"Return array of expval and variance pairs for input Paulis.\n",
    "    Note: All non-identity Pauli's are treated as Z-paulis, assuming\n",
    "    that basis rotations have been applied to convert them to the\n",
    "    diagonal basis.\n",
    "    \"\"\"\n",
    "    # Diag indices\n",
    "    size = len(paulis)\n",
    "    diag_inds = _paulis2inds(paulis)\n",
    "\n",
    "    expvals = np.zeros(size, dtype=float)\n",
    "    denom = 0  # Total shots for counts dict\n",
    "    for bin_outcome, freq in counts.items():\n",
    "        split_outcome = bin_outcome.split(\" \", 1)[0] if \" \" in bin_outcome else bin_outcome\n",
    "        outcome = int(split_outcome, 2)\n",
    "        denom += freq\n",
    "        for k in range(size):\n",
    "            coeff = (-1) ** _parity(diag_inds[k] & outcome)\n",
    "            expvals[k] += freq * coeff\n",
    "\n",
    "    # Divide by total shots\n",
    "    expvals /= denom\n",
    "\n",
    "    # Compute variance\n",
    "    variances = 1 - expvals**2\n",
    "    return expvals, variances"
   ],
   "id": "3c3f2daa4efbbc98",
   "outputs": [],
   "execution_count": 6
  },
  {
   "metadata": {
    "ExecuteTime": {
     "end_time": "2025-05-22T10:27:30.473783Z",
     "start_time": "2025-05-22T10:27:30.414461Z"
    }
   },
   "cell_type": "code",
   "source": [
    "sampler = StatevectorSampler()\n",
    "\n",
    "job = sampler.run([chsh_circuit], shots = 10000)\n",
    "data_pub = job.result()[0].data\n",
    "counts = data_pub.meas.get_counts()\n",
    "\n",
    "observable = [PauliList([\"XZ\"])]\n",
    "\n",
    "val, var = _pauli_expval_with_variance(counts, observable[0])"
   ],
   "id": "6d78ce61d9281480",
   "outputs": [],
   "execution_count": 98
  },
  {
   "metadata": {
    "ExecuteTime": {
     "end_time": "2025-05-22T10:27:30.896989Z",
     "start_time": "2025-05-22T10:27:30.887471Z"
    }
   },
   "cell_type": "code",
   "source": "val",
   "id": "9e4bc2be518eeb91",
   "outputs": [
    {
     "data": {
      "text/plain": [
       "array([1.])"
      ]
     },
     "execution_count": 99,
     "metadata": {},
     "output_type": "execute_result"
    }
   ],
   "execution_count": 99
  },
  {
   "metadata": {
    "ExecuteTime": {
     "end_time": "2025-05-22T10:27:31.521237Z",
     "start_time": "2025-05-22T10:27:31.509926Z"
    }
   },
   "cell_type": "code",
   "source": "var",
   "id": "314f32da50861949",
   "outputs": [
    {
     "data": {
      "text/plain": [
       "array([0.])"
      ]
     },
     "execution_count": 100,
     "metadata": {},
     "output_type": "execute_result"
    }
   ],
   "execution_count": 100
  },
  {
   "metadata": {
    "ExecuteTime": {
     "end_time": "2025-02-13T01:39:44.687222Z",
     "start_time": "2025-02-13T01:39:43.925007Z"
    }
   },
   "cell_type": "code",
   "source": [
    "number_of_phases = 50\n",
    "phases = [2 * np.pi * i / number_of_phases for i in range(number_of_phases)]\n",
    "individual_phases = [[ph] for ph in phases]\n",
    "from qiskit.quantum_info import SparsePauliOp\n",
    "observable = SparsePauliOp.from_list([(\"ZZ\", 1), (\"ZX\", -1), (\"XZ\", 1), (\"XX\", 1)])\n"
   ],
   "id": "2b5881ea552c6194",
   "outputs": [
    {
     "ename": "NameError",
     "evalue": "name 'np' is not defined",
     "output_type": "error",
     "traceback": [
      "\u001B[1;31m---------------------------------------------------------------------------\u001B[0m",
      "\u001B[1;31mNameError\u001B[0m                                 Traceback (most recent call last)",
      "Cell \u001B[1;32mIn[1], line 2\u001B[0m\n\u001B[0;32m      1\u001B[0m number_of_phases \u001B[38;5;241m=\u001B[39m \u001B[38;5;241m50\u001B[39m\n\u001B[1;32m----> 2\u001B[0m phases \u001B[38;5;241m=\u001B[39m [\u001B[38;5;241m2\u001B[39m \u001B[38;5;241m*\u001B[39m np\u001B[38;5;241m.\u001B[39mpi \u001B[38;5;241m*\u001B[39m i \u001B[38;5;241m/\u001B[39m number_of_phases \u001B[38;5;28;01mfor\u001B[39;00m i \u001B[38;5;129;01min\u001B[39;00m \u001B[38;5;28mrange\u001B[39m(number_of_phases)]\n\u001B[0;32m      3\u001B[0m individual_phases \u001B[38;5;241m=\u001B[39m [[ph] \u001B[38;5;28;01mfor\u001B[39;00m ph \u001B[38;5;129;01min\u001B[39;00m phases]\n\u001B[0;32m      4\u001B[0m \u001B[38;5;28;01mfrom\u001B[39;00m \u001B[38;5;21;01mqiskit\u001B[39;00m\u001B[38;5;21;01m.\u001B[39;00m\u001B[38;5;21;01mquantum_info\u001B[39;00m \u001B[38;5;28;01mimport\u001B[39;00m SparsePauliOp\n",
      "Cell \u001B[1;32mIn[1], line 2\u001B[0m, in \u001B[0;36m<listcomp>\u001B[1;34m(.0)\u001B[0m\n\u001B[0;32m      1\u001B[0m number_of_phases \u001B[38;5;241m=\u001B[39m \u001B[38;5;241m50\u001B[39m\n\u001B[1;32m----> 2\u001B[0m phases \u001B[38;5;241m=\u001B[39m [\u001B[38;5;241m2\u001B[39m \u001B[38;5;241m*\u001B[39m \u001B[43mnp\u001B[49m\u001B[38;5;241m.\u001B[39mpi \u001B[38;5;241m*\u001B[39m i \u001B[38;5;241m/\u001B[39m number_of_phases \u001B[38;5;28;01mfor\u001B[39;00m i \u001B[38;5;129;01min\u001B[39;00m \u001B[38;5;28mrange\u001B[39m(number_of_phases)]\n\u001B[0;32m      3\u001B[0m individual_phases \u001B[38;5;241m=\u001B[39m [[ph] \u001B[38;5;28;01mfor\u001B[39;00m ph \u001B[38;5;129;01min\u001B[39;00m phases]\n\u001B[0;32m      4\u001B[0m \u001B[38;5;28;01mfrom\u001B[39;00m \u001B[38;5;21;01mqiskit\u001B[39;00m\u001B[38;5;21;01m.\u001B[39;00m\u001B[38;5;21;01mquantum_info\u001B[39;00m \u001B[38;5;28;01mimport\u001B[39;00m SparsePauliOp\n",
      "\u001B[1;31mNameError\u001B[0m: name 'np' is not defined"
     ]
    }
   ],
   "execution_count": 1
  },
  {
   "metadata": {
    "ExecuteTime": {
     "end_time": "2025-01-31T14:59:56.325180Z",
     "start_time": "2025-01-31T14:59:56.304488Z"
    }
   },
   "cell_type": "code",
   "source": "from qiskit.primitives import StatevectorEstimator",
   "id": "4e76dc310a665500",
   "outputs": [],
   "execution_count": 40
  },
  {
   "metadata": {
    "ExecuteTime": {
     "end_time": "2025-01-31T14:59:56.435545Z",
     "start_time": "2025-01-31T14:59:56.423340Z"
    }
   },
   "cell_type": "code",
   "source": "estimator = StatevectorEstimator()",
   "id": "1938028170f3c208",
   "outputs": [],
   "execution_count": 41
  },
  {
   "metadata": {
    "ExecuteTime": {
     "end_time": "2025-01-31T14:59:56.560137Z",
     "start_time": "2025-01-31T14:59:56.550858Z"
    }
   },
   "cell_type": "code",
   "source": "pub = (chsh_circuit, observable, individual_phases)",
   "id": "5e134ec7ca1b9087",
   "outputs": [],
   "execution_count": 42
  },
  {
   "metadata": {
    "ExecuteTime": {
     "end_time": "2025-01-31T14:59:56.702932Z",
     "start_time": "2025-01-31T14:59:56.674133Z"
    }
   },
   "cell_type": "code",
   "source": "job = estimator.run([pub])",
   "id": "444112dd1385b529",
   "outputs": [],
   "execution_count": 43
  },
  {
   "metadata": {
    "ExecuteTime": {
     "end_time": "2025-01-31T14:59:56.810872Z",
     "start_time": "2025-01-31T14:59:56.800352Z"
    }
   },
   "cell_type": "code",
   "source": "result = job.result()[0].data.evs",
   "id": "80640cf9c1fd54f2",
   "outputs": [],
   "execution_count": 44
  },
  {
   "metadata": {
    "ExecuteTime": {
     "end_time": "2025-01-31T14:59:56.920988Z",
     "start_time": "2025-01-31T14:59:56.907472Z"
    }
   },
   "cell_type": "code",
   "source": "print(result)",
   "id": "492454401dcc5b9c",
   "outputs": [
    {
     "name": "stdout",
     "output_type": "stream",
     "text": [
      "[ 2.          1.32163526  0.52583743 -0.31668336 -1.13106545 -1.84494741\n",
      " -2.39489769 -2.73205081 -2.82644922 -2.66970521 -2.27574618 -1.67957712\n",
      " -0.93417026 -0.10575827  0.73205081  1.50481396  2.14386778  2.59242955\n",
      "  2.81064257  2.77911766  2.50065596]\n"
     ]
    }
   ],
   "execution_count": 45
  },
  {
   "metadata": {
    "ExecuteTime": {
     "end_time": "2025-01-31T14:59:57.278651Z",
     "start_time": "2025-01-31T14:59:57.084722Z"
    }
   },
   "cell_type": "code",
   "source": [
    "fig, ax = plt.subplots(figsize=(10, 6))\n",
    "\n",
    "ax.plot(individual_phases, result)\n",
    "ax.axhline(y=2, color=\"0.9\", linestyle=\"--\")\n",
    "ax.axhline(y=-2, color=\"0.9\", linestyle=\"--\")\n",
    "\n",
    "ax.axhline(y=np.sqrt(2) * 2, color=\"0.9\", linestyle=\"-.\")\n",
    "ax.axhline(y=-np.sqrt(2) * 2, color=\"0.9\", linestyle=\"-.\")"
   ],
   "id": "4779008dacfd747f",
   "outputs": [
    {
     "data": {
      "text/plain": [
       "<matplotlib.lines.Line2D at 0x1317c029b40>"
      ]
     },
     "execution_count": 46,
     "metadata": {},
     "output_type": "execute_result"
    },
    {
     "data": {
      "text/plain": [
       "<Figure size 1000x600 with 1 Axes>"
      ],
      "image/png": "[encoded data removed]"
     },
     "metadata": {},
     "output_type": "display_data"
    }
   ],
   "execution_count": 46
  },
  {
   "metadata": {
    "ExecuteTime": {
     "end_time": "2025-01-31T15:02:47.741528Z",
     "start_time": "2025-01-31T15:02:47.731521Z"
    }
   },
   "cell_type": "code",
   "source": [
    "for i in range(len(result)):\n",
    "    if result[i] > 2 or result[i] < -2:\n",
    "        print(f'Angle: {individual_phases[i]}\\n Value: {result[i]}')\n",
    "        print(\"---------\")"
   ],
   "id": "3c7148c326a4fda0",
   "outputs": [
    {
     "name": "stdout",
     "output_type": "stream",
     "text": [
      "Angle: [1.7951958020513104]\n",
      " Value: -2.3948976922762757\n",
      "---------\n",
      "Angle: [2.0943951023931953]\n",
      " Value: -2.7320508075688767\n",
      "---------\n",
      "Angle: [2.3935944027350806]\n",
      " Value: -2.826449219201491\n",
      "---------\n",
      "Angle: [2.6927937030769655]\n",
      " Value: -2.669705214039954\n",
      "---------\n",
      "Angle: [2.9919930034188504]\n",
      " Value: -2.275746184802606\n",
      "---------\n",
      "Angle: [4.787188805470161]\n",
      " Value: 2.1438677815352083\n",
      "---------\n",
      "Angle: [5.086388105812047]\n",
      " Value: 2.5924295460211986\n",
      "---------\n",
      "Angle: [5.385587406153931]\n",
      " Value: 2.8106425686535257\n",
      "---------\n",
      "Angle: [5.6847867064958155]\n",
      " Value: 2.7791176647592333\n",
      "---------\n",
      "Angle: [5.983986006837701]\n",
      " Value: 2.5006559603940905\n",
      "---------\n"
     ]
    }
   ],
   "execution_count": 48
  },
  {
   "metadata": {},
   "cell_type": "code",
   "outputs": [],
   "execution_count": null,
   "source": "",
   "id": "c2eb16fd74eeec4"
  }
 ],
 "metadata": {
  "kernelspec": {
   "display_name": "Python 3",
   "language": "python",
   "name": "python3"
  },
  "language_info": {
   "codemirror_mode": {
    "name": "ipython",
    "version": 2
   },
   "file_extension": ".py",
   "mimetype": "text/x-python",
   "name": "python",
   "nbconvert_exporter": "python",
   "pygments_lexer": "ipython2",
   "version": "2.7.6"
  }
 },
 "nbformat": 4,
 "nbformat_minor": 5
}
