{
 "cells": [
  {
   "cell_type": "code",
   "id": "initial_id",
   "metadata": {
    "collapsed": true,
    "ExecuteTime": {
     "end_time": "2024-12-02T14:14:04.580153Z",
     "start_time": "2024-12-02T14:14:04.561157Z"
    }
   },
   "source": [
    "import numpy as np\n",
    "from qiskit.circuit import QuantumCircuit\n",
    "from qiskit.quantum_info import Statevector\n",
    "from qiskit.synthesis import TwoQubitWeylDecomposition"
   ],
   "outputs": [],
   "execution_count": 45
  },
  {
   "metadata": {
    "ExecuteTime": {
     "end_time": "2024-12-02T14:14:04.938499Z",
     "start_time": "2024-12-02T14:14:04.919030Z"
    }
   },
   "cell_type": "code",
   "source": [
    "def cartanCircuit(VCxGate):\n",
    "    circ = QuantumCircuit(2, name=\"+\")\n",
    "    phi = np.arctan(1 + np.sqrt(3))\n",
    "    #qubit 0\n",
    "    circ.x(0)\n",
    "    circ.ry(phi, 0)\n",
    "    circ.z(0)\n",
    "    circ.p(3 * np.pi / 16, 0)\n",
    "    circ.x(0)\n",
    "    circ.p(15 * np.pi / 16, 0)\n",
    "\n",
    "    #qubit 1\n",
    "    circ.x(1)\n",
    "    circ.ry(phi, 1)\n",
    "    circ.z(1)\n",
    "    circ.p(3 * np.pi / 16, 1)\n",
    "    circ.x(1)\n",
    "    circ.p(15 * np.pi / 16, 1)\n",
    "\n",
    "    circ.barrier(0)\n",
    "    circ.barrier(1)\n",
    "\n",
    "    circ.append(VCxGate.decompose(), [0, 1])\n",
    "\n",
    "    circ.barrier(0)\n",
    "    circ.barrier(1)\n",
    "\n",
    "    #qubit 0 after VCx\n",
    "\n",
    "    circ.x(0)\n",
    "    circ.p(3 * np.pi / 16, 0)\n",
    "    circ.x(0)\n",
    "    circ.p(15 * np.pi / 16, 0)\n",
    "    circ.x(0)\n",
    "    circ.ry(phi, 0)\n",
    "    circ.z(0)\n",
    "    circ.x(0)\n",
    "\n",
    "    #qubit 1 after VCx\n",
    "\n",
    "    circ.x(1)\n",
    "    circ.z(1)\n",
    "    circ.x(1)\n",
    "    circ.p(9 * np.pi / 16, 1)\n",
    "    circ.x(1)\n",
    "    circ.p(13 * np.pi / 16, 1)\n",
    "    circ.x(1)\n",
    "    circ.z(1)\n",
    "    circ.ry(phi, 1)\n",
    "\n",
    "    return circ"
   ],
   "id": "30ba8fa2af2cb43b",
   "outputs": [],
   "execution_count": 46
  },
  {
   "metadata": {
    "ExecuteTime": {
     "end_time": "2024-12-02T14:14:05.504254Z",
     "start_time": "2024-12-02T14:14:05.480256Z"
    }
   },
   "cell_type": "code",
   "source": [
    "pi = np.pi\n",
    "sqrt = np.sqrt\n",
    "log = np.log\n",
    "\n",
    "common_log_term = log(-1 / 6 * (-1) ** (1 / 4) * (sqrt(24 - 6 * sqrt(3)) + 1j * (3 + sqrt(3))))\n",
    "common_factor = 3j + 1j * sqrt(3) + sqrt(6 * (4 - sqrt(3)))\n",
    "denominator = 15 * pi - 4 * 1j * common_log_term\n",
    "\n",
    "VCx = np.array([\n",
    "    [\n",
    "        -(((-1) ** (5 / 8) * common_factor * (30 * pi - 8 * 1j * common_log_term)) / (24 * denominator)) +\n",
    "        (3 * (-1) ** (5 / 8) * (-30 * pi + 8 * 1j * common_log_term)) / (2 * common_factor * denominator),\n",
    "        0,\n",
    "        0,\n",
    "        (3 * (-1) ** (5 / 8) * (-30 * pi + 8 * 1j * common_log_term)) / (2 * common_factor * denominator) -\n",
    "        ((-1) ** (5 / 8) * common_factor * (-30 * pi + 8 * 1j * common_log_term)) / (24 * denominator)\n",
    "    ],\n",
    "    [\n",
    "        0,\n",
    "        -(1 / 2) * (-1) ** (1 / 8) - (1 / 2) * (-1) ** (5 / 8),\n",
    "        -(1 / 2) * (-1) ** (1 / 8) + (1 / 2) * (-1) ** (5 / 8),\n",
    "        0\n",
    "    ],\n",
    "    [\n",
    "        0,\n",
    "        -(1 / 2) * (-1) ** (1 / 8) + (1 / 2) * (-1) ** (5 / 8),\n",
    "        -(1 / 2) * (-1) ** (1 / 8) - (1 / 2) * (-1) ** (5 / 8),\n",
    "        0\n",
    "    ],\n",
    "    [\n",
    "        (3 * (-1) ** (5 / 8) * (-30 * pi + 8 * 1j * common_log_term)) / (2 * common_factor * denominator) -\n",
    "        ((-1) ** (5 / 8) * common_factor * (-30 * pi + 8 * 1j * common_log_term)) / (24 * denominator),\n",
    "        0,\n",
    "        0,\n",
    "        -(((-1) ** (5 / 8) * common_factor * (30 * pi - 8 * 1j * common_log_term)) / (24 * denominator)) +\n",
    "        (3 * (-1) ** (5 / 8) * (-30 * pi + 8 * 1j * common_log_term)) / (2 * common_factor * denominator)\n",
    "    ]\n",
    "], dtype=complex)\n"
   ],
   "id": "cd7544b2cffa77a7",
   "outputs": [],
   "execution_count": 47
  },
  {
   "metadata": {
    "ExecuteTime": {
     "end_time": "2024-12-02T14:14:06.314720Z",
     "start_time": "2024-12-02T14:14:06.099369Z"
    }
   },
   "cell_type": "code",
   "source": [
    "weylDecomCirc = TwoQubitWeylDecomposition(VCx)\n",
    "VCxGate = weylDecomCirc.circuit()\n",
    "VCxGate.draw('mpl')"
   ],
   "id": "3b9608915afa0713",
   "outputs": [
    {
     "data": {
      "text/plain": [
       "<Figure size 956.183x200.667 with 1 Axes>"
      ],
      "image/png": "[encoded data removed]"
     },
     "execution_count": 48,
     "metadata": {},
     "output_type": "execute_result"
    }
   ],
   "execution_count": 48
  },
  {
   "metadata": {
    "ExecuteTime": {
     "end_time": "2024-12-02T14:14:07.848777Z",
     "start_time": "2024-12-02T14:14:07.671858Z"
    }
   },
   "cell_type": "code",
   "source": [
    "cartanCirc = cartanCircuit(VCxGate)\n",
    "cartanCirc.draw('mpl')"
   ],
   "id": "215d19f8bd43f7e6",
   "outputs": [
    {
     "data": {
      "text/plain": [
       "<Figure size 1708.68x200.667 with 1 Axes>"
      ],
      "image/png": "[encoded data removed]"
     },
     "execution_count": 49,
     "metadata": {},
     "output_type": "execute_result"
    }
   ],
   "execution_count": 49
  },
  {
   "metadata": {
    "ExecuteTime": {
     "end_time": "2024-12-02T14:14:14.263101Z",
     "start_time": "2024-12-02T14:14:14.247107Z"
    }
   },
   "cell_type": "code",
   "source": [
    "def CZqutrit():\n",
    "    circ = QuantumCircuit(4, name=\"CZ\")\n",
    "    omega = 2*np.pi/3\n",
    "    circ.cp(omega, 0, 2)\n",
    "    circ.cp(omega, 1, 3)\n",
    "    circ.cp(-1 * omega, 0, 2)\n",
    "    circ.cp(-1 * omega, 1, 3)\n",
    "\n",
    "    return circ"
   ],
   "id": "a9c37edf3882084f",
   "outputs": [],
   "execution_count": 50
  },
  {
   "metadata": {
    "ExecuteTime": {
     "end_time": "2024-12-02T14:14:14.684237Z",
     "start_time": "2024-12-02T14:14:14.676230Z"
    }
   },
   "cell_type": "code",
   "source": "czqutrit = CZqutrit()",
   "id": "6dc8d8258346d3a",
   "outputs": [],
   "execution_count": 51
  },
  {
   "metadata": {
    "ExecuteTime": {
     "end_time": "2024-12-02T14:14:15.179901Z",
     "start_time": "2024-12-02T14:14:15.171898Z"
    }
   },
   "cell_type": "code",
   "source": "ghzcirc = QuantumCircuit(6)",
   "id": "cd4528f9e42f7988",
   "outputs": [],
   "execution_count": 52
  },
  {
   "metadata": {
    "ExecuteTime": {
     "end_time": "2024-12-02T14:14:15.660561Z",
     "start_time": "2024-12-02T14:14:15.479466Z"
    }
   },
   "cell_type": "code",
   "source": [
    "ghzcirc.append(cartanCirc, [0, 1])\n",
    "ghzcirc.append(cartanCirc, [2, 3])\n",
    "ghzcirc.append(cartanCirc, [4, 5])\n",
    "ghzcirc.append(czqutrit, [0, 1, 2, 3])\n",
    "ghzcirc.append(czqutrit, [0, 1, 4, 5])\n",
    "ghzcirc.append(czqutrit, [2, 3, 4, 5])\n",
    "\n",
    "ghzcirc.draw('mpl')"
   ],
   "id": "2a3990a73082b7b",
   "outputs": [
    {
     "data": {
      "text/plain": [
       "<Figure size 454.719x535.111 with 1 Axes>"
      ],
      "image/png": "[encoded data removed]"
     },
     "execution_count": 53,
     "metadata": {},
     "output_type": "execute_result"
    }
   ],
   "execution_count": 53
  },
  {
   "metadata": {
    "ExecuteTime": {
     "end_time": "2024-12-02T14:14:16.615251Z",
     "start_time": "2024-12-02T14:14:16.590351Z"
    }
   },
   "cell_type": "code",
   "source": [
    "from qiskit.quantum_info import Statevector\n",
    "ghzOperator = Statevector(ghzcirc).to_operator()"
   ],
   "id": "4a49f963b684d7ef",
   "outputs": [],
   "execution_count": 54
  },
  {
   "metadata": {
    "ExecuteTime": {
     "end_time": "2024-12-02T14:14:16.961532Z",
     "start_time": "2024-12-02T14:14:16.953524Z"
    }
   },
   "cell_type": "code",
   "source": "ghzMatrix = ghzOperator.to_matrix()",
   "id": "1deb2b71816f3ee8",
   "outputs": [],
   "execution_count": 55
  },
  {
   "metadata": {
    "ExecuteTime": {
     "end_time": "2024-12-02T14:14:17.532423Z",
     "start_time": "2024-12-02T14:14:17.521416Z"
    }
   },
   "cell_type": "code",
   "source": "ghzMatrix.round(3)",
   "id": "cb58780bf3e42bc0",
   "outputs": [
    {
     "data": {
      "text/plain": [
       "array([[ 0.037+0.j, -0.037+0.j, -0.037+0.j, ..., -0.   +0.j, -0.   +0.j,\n",
       "         0.   +0.j],\n",
       "       [-0.037-0.j,  0.037+0.j,  0.037+0.j, ...,  0.   -0.j,  0.   -0.j,\n",
       "        -0.   -0.j],\n",
       "       [-0.037-0.j,  0.037+0.j,  0.037+0.j, ...,  0.   -0.j,  0.   -0.j,\n",
       "        -0.   -0.j],\n",
       "       ...,\n",
       "       [-0.   -0.j,  0.   +0.j,  0.   +0.j, ...,  0.   +0.j,  0.   +0.j,\n",
       "         0.   -0.j],\n",
       "       [-0.   -0.j,  0.   +0.j,  0.   +0.j, ...,  0.   +0.j,  0.   +0.j,\n",
       "         0.   -0.j],\n",
       "       [ 0.   -0.j, -0.   +0.j, -0.   +0.j, ...,  0.   +0.j,  0.   +0.j,\n",
       "         0.   +0.j]])"
      ]
     },
     "execution_count": 56,
     "metadata": {},
     "output_type": "execute_result"
    }
   ],
   "execution_count": 56
  },
  {
   "metadata": {},
   "cell_type": "code",
   "outputs": [],
   "execution_count": null,
   "source": "",
   "id": "b1f7a6b39c8c1bbd"
  }
 ],
 "metadata": {
  "kernelspec": {
   "display_name": "Python 3",
   "language": "python",
   "name": "python3"
  },
  "language_info": {
   "codemirror_mode": {
    "name": "ipython",
    "version": 2
   },
   "file_extension": ".py",
   "mimetype": "text/x-python",
   "name": "python",
   "nbconvert_exporter": "python",
   "pygments_lexer": "ipython2",
   "version": "2.7.6"
  }
 },
 "nbformat": 4,
 "nbformat_minor": 5
}
