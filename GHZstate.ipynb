{
 "cells": [
  {
   "cell_type": "code",
   "id": "initial_id",
   "metadata": {
    "collapsed": true,
    "ExecuteTime": {
     "end_time": "2024-12-18T02:59:59.396823Z",
     "start_time": "2024-12-18T02:59:59.377822Z"
    }
   },
   "source": [
    "import numpy as np\n",
    "from qiskit.circuit import QuantumCircuit\n",
    "from qiskit.quantum_info import Statevector, Operator\n",
    "from qiskit.synthesis import TwoQubitWeylDecomposition\n",
    "from qiskit.circuit.library import UnitaryGate"
   ],
   "outputs": [],
   "execution_count": 149
  },
  {
   "metadata": {
    "ExecuteTime": {
     "end_time": "2024-12-18T02:59:59.773452Z",
     "start_time": "2024-12-18T02:59:59.743454Z"
    }
   },
   "cell_type": "code",
   "source": [
    "def cartanCircuit(VCxGate, transGate):\n",
    "    circ = QuantumCircuit(2)\n",
    "    phi = np.arctan(1 + np.sqrt(3))\n",
    "    \n",
    "\n",
    "    \n",
    "    #qubit 0 after VCx\n",
    "    circ.append(transGate, [0])\n",
    "    circ.append(transGate, [1])\n",
    "    circ.z(0)\n",
    "    circ.x(0)\n",
    "    circ.ry(phi, 0)\n",
    "    circ.x(0)\n",
    "    circ.p(15 * np.pi / 16, 0)\n",
    "    circ.x(0)\n",
    "    circ.p(3 * np.pi / 16, 0)\n",
    "    circ.x(0)\n",
    "\n",
    "    #qubit 1 after VCx\n",
    "    circ.z(1)\n",
    "    circ.x(1)\n",
    "    circ.ry(phi, 1)\n",
    "    circ.x(1)\n",
    "    circ.z(1)\n",
    "    circ.x(1)\n",
    "    circ.p(13 * np.pi / 16, 1)\n",
    "    circ.x(1)\n",
    "    circ.p(9 * np.pi / 16, 1)\n",
    "\n",
    "    circ.barrier(0)\n",
    "    circ.barrier(1)\n",
    "    \n",
    "    circ.append(VCxGate.decompose(), [0, 1])\n",
    "\n",
    "    \n",
    "    #qubit 0\n",
    "    circ.p(15 * np.pi / 16, 0)\n",
    "    circ.x(0)\n",
    "    circ.p(3 * np.pi / 16, 0)\n",
    "    circ.x(0)\n",
    "    circ.z(0)\n",
    "    circ.x(0)\n",
    "    circ.ry(phi, 0)\n",
    "    circ.x(0)\n",
    "\n",
    "    #qubit 1\n",
    "    circ.p(15 * np.pi / 16, 1)\n",
    "    circ.x(1)\n",
    "    circ.p(3 * np.pi / 16, 1)\n",
    "    circ.x(1)\n",
    "    circ.z(1)\n",
    "    circ.x(1)\n",
    "    circ.ry(phi, 1)\n",
    "    circ.x(1)\n",
    "\n",
    "    circ.append(transGate.conjugate(), [0])\n",
    "    circ.append(transGate.conjugate(), [1])\n",
    "    \n",
    "    return circ"
   ],
   "id": "30ba8fa2af2cb43b",
   "outputs": [],
   "execution_count": 150
  },
  {
   "metadata": {
    "ExecuteTime": {
     "end_time": "2024-12-18T03:00:00.121620Z",
     "start_time": "2024-12-18T03:00:00.105604Z"
    }
   },
   "cell_type": "code",
   "source": [
    "pi = np.pi\n",
    "sqrt = np.sqrt\n",
    "log = np.log\n",
    "\n",
    "common_log_term = log(-1 / 6 * (-1) ** (1 / 4) * (sqrt(24 - 6 * sqrt(3)) + 1j * (3 + sqrt(3))))\n",
    "common_factor = 3j + 1j * sqrt(3) + sqrt(6 * (4 - sqrt(3)))\n",
    "denominator = 15 * pi - 4 * 1j * common_log_term\n",
    "\n",
    "VCx = np.array([\n",
    "    [\n",
    "        -(((-1) ** (5 / 8) * common_factor * (30 * pi - 8 * 1j * common_log_term)) / (24 * denominator)) +\n",
    "        (3 * (-1) ** (5 / 8) * (-30 * pi + 8 * 1j * common_log_term)) / (2 * common_factor * denominator),\n",
    "        0,\n",
    "        0,\n",
    "        (3 * (-1) ** (5 / 8) * (-30 * pi + 8 * 1j * common_log_term)) / (2 * common_factor * denominator) -\n",
    "        ((-1) ** (5 / 8) * common_factor * (-30 * pi + 8 * 1j * common_log_term)) / (24 * denominator)\n",
    "    ],\n",
    "    [\n",
    "        0,\n",
    "        -(1 / 2) * (-1) ** (1 / 8) - (1 / 2) * (-1) ** (5 / 8),\n",
    "        -(1 / 2) * (-1) ** (1 / 8) + (1 / 2) * (-1) ** (5 / 8),\n",
    "        0\n",
    "    ],\n",
    "    [\n",
    "        0,\n",
    "        -(1 / 2) * (-1) ** (1 / 8) + (1 / 2) * (-1) ** (5 / 8),\n",
    "        -(1 / 2) * (-1) ** (1 / 8) - (1 / 2) * (-1) ** (5 / 8),\n",
    "        0\n",
    "    ],\n",
    "    [\n",
    "        (3 * (-1) ** (5 / 8) * (-30 * pi + 8 * 1j * common_log_term)) / (2 * common_factor * denominator) -\n",
    "        ((-1) ** (5 / 8) * common_factor * (-30 * pi + 8 * 1j * common_log_term)) / (24 * denominator),\n",
    "        0,\n",
    "        0,\n",
    "        -(((-1) ** (5 / 8) * common_factor * (30 * pi - 8 * 1j * common_log_term)) / (24 * denominator)) +\n",
    "        (3 * (-1) ** (5 / 8) * (-30 * pi + 8 * 1j * common_log_term)) / (2 * common_factor * denominator)\n",
    "    ]\n",
    "], dtype=complex)\n"
   ],
   "id": "cd7544b2cffa77a7",
   "outputs": [],
   "execution_count": 151
  },
  {
   "metadata": {
    "ExecuteTime": {
     "end_time": "2024-12-18T03:00:00.735917Z",
     "start_time": "2024-12-18T03:00:00.453938Z"
    }
   },
   "cell_type": "code",
   "source": [
    "weylDecomCirc = TwoQubitWeylDecomposition(VCx)\n",
    "VCxGate = weylDecomCirc.circuit()\n",
    "VCxGate.draw('mpl')"
   ],
   "id": "3b9608915afa0713",
   "outputs": [
    {
     "data": {
      "text/plain": [
       "<Figure size 956.183x200.667 with 1 Axes>"
      ],
      "image/png": "[encoded data removed]"
     },
     "execution_count": 152,
     "metadata": {},
     "output_type": "execute_result"
    }
   ],
   "execution_count": 152
  },
  {
   "metadata": {
    "ExecuteTime": {
     "end_time": "2024-12-18T03:57:35.643563Z",
     "start_time": "2024-12-18T03:57:35.363301Z"
    }
   },
   "cell_type": "code",
   "source": [
    "#basisTransformationMatrix = np.array([[1/np.sqrt(2), 1/np.sqrt(2)], [1/np.sqrt(2), -1/np.sqrt(2)]])\n",
    "basisTransformationMatrix = np.identity(2)\n",
    "uniGate = UnitaryGate(basisTransformationMatrix)\n",
    "cartanCirc = cartanCircuit(VCxGate, uniGate)\n",
    "cartanCirc.draw('mpl')"
   ],
   "id": "2a716442f4e011c8",
   "outputs": [
    {
     "data": {
      "text/plain": [
       "<Figure size 2210.35x200.667 with 1 Axes>"
      ],
      "image/png": "[encoded data removed]"
     },
     "execution_count": 183,
     "metadata": {},
     "output_type": "execute_result"
    }
   ],
   "execution_count": 183
  },
  {
   "metadata": {
    "ExecuteTime": {
     "end_time": "2024-12-18T03:57:37.095588Z",
     "start_time": "2024-12-18T03:57:37.057592Z"
    }
   },
   "cell_type": "code",
   "source": "Statevector(cartanCirc).draw('latex')",
   "id": "5500a4fcc1ed4388",
   "outputs": [
    {
     "data": {
      "text/plain": [
       "<IPython.core.display.Latex object>"
      ],
      "text/latex": "$$\\frac{\\sqrt{3}}{3} |00\\rangle+\\frac{\\sqrt{3}}{3} |01\\rangle+\\frac{\\sqrt{3}}{3} |10\\rangle$$"
     },
     "execution_count": 184,
     "metadata": {},
     "output_type": "execute_result"
    }
   ],
   "execution_count": 184
  },
  {
   "metadata": {
    "ExecuteTime": {
     "end_time": "2024-12-18T03:57:38.066591Z",
     "start_time": "2024-12-18T03:57:37.970592Z"
    }
   },
   "cell_type": "code",
   "source": "Operator(cartanCirc).draw('latex')",
   "id": "9feac5e4437ede5c",
   "outputs": [
    {
     "data": {
      "text/plain": [
       "<IPython.core.display.Latex object>"
      ],
      "text/latex": "$$\n\n\\begin{bmatrix}\n\\frac{\\sqrt{3}}{3} & \\frac{\\sqrt{3}}{3} & \\frac{\\sqrt{3}}{3} & 0  \\\\\n \\frac{\\sqrt{3}}{3} & - \\frac{\\sqrt{3}}{6} + \\frac{i}{2} & - \\frac{\\sqrt{3}}{6} - \\frac{i}{2} & 0  \\\\\n \\frac{\\sqrt{3}}{3} & - \\frac{\\sqrt{3}}{6} - \\frac{i}{2} & - \\frac{\\sqrt{3}}{6} + \\frac{i}{2} & 0  \\\\\n 0 & 0 & 0 & 1  \\\\\n \\end{bmatrix}\n$$"
     },
     "execution_count": 185,
     "metadata": {},
     "output_type": "execute_result"
    }
   ],
   "execution_count": 185
  },
  {
   "metadata": {
    "ExecuteTime": {
     "end_time": "2024-12-18T03:57:39.340686Z",
     "start_time": "2024-12-18T03:57:39.313691Z"
    }
   },
   "cell_type": "code",
   "source": "Operator(uniGate).tensor(Operator(uniGate)).dot(cartanCirc).dot(Operator(uniGate.conjugate()).tensor(Operator(uniGate.conjugate()))).to_matrix().round(3)",
   "id": "e3c5e306db7dde04",
   "outputs": [
    {
     "data": {
      "text/plain": [
       "array([[ 0.577-0.j ,  0.577-0.j ,  0.577-0.j , -0.   -0.j ],\n",
       "       [ 0.577-0.j , -0.289+0.5j, -0.289-0.5j,  0.   -0.j ],\n",
       "       [ 0.577-0.j , -0.289-0.5j, -0.289+0.5j,  0.   -0.j ],\n",
       "       [ 0.   -0.j ,  0.   +0.j ,  0.   +0.j ,  1.   -0.j ]])"
      ]
     },
     "execution_count": 186,
     "metadata": {},
     "output_type": "execute_result"
    }
   ],
   "execution_count": 186
  },
  {
   "metadata": {
    "ExecuteTime": {
     "end_time": "2024-12-18T03:57:40.114464Z",
     "start_time": "2024-12-18T03:57:40.104457Z"
    }
   },
   "cell_type": "code",
   "source": [
    "n = 3\n",
    "listOfQudtis = [[i, i+1] for i in range(n)]\n",
    "listOfQudtis"
   ],
   "id": "b2e5d9394ca0e5d5",
   "outputs": [
    {
     "data": {
      "text/plain": [
       "[[0, 1], [1, 2], [2, 3]]"
      ]
     },
     "execution_count": 187,
     "metadata": {},
     "output_type": "execute_result"
    }
   ],
   "execution_count": 187
  },
  {
   "metadata": {
    "ExecuteTime": {
     "end_time": "2024-12-18T03:57:40.844459Z",
     "start_time": "2024-12-18T03:57:40.828445Z"
    }
   },
   "cell_type": "code",
   "source": [
    "def CZqutrit(transGate):\n",
    "    circ = QuantumCircuit(4, name=\"CZ\")\n",
    "    \n",
    "    circ.append(transGate, [0])\n",
    "    circ.append(transGate, [1])\n",
    "    circ.append(transGate, [2])\n",
    "    circ.append(transGate, [3])\n",
    "    omega = 2*np.pi/3\n",
    "    \n",
    "    circ.cp(omega, 0, 2)\n",
    "    circ.cp(omega, 1, 3)\n",
    "    circ.cp(-1 * omega, 0, 3)\n",
    "    circ.cp(-1 * omega, 1, 2)\n",
    "\n",
    "    circ.append(transGate.conjugate().transpose(), [0])\n",
    "    circ.append(transGate.conjugate().transpose(), [1])\n",
    "    circ.append(transGate.conjugate().transpose(), [2])\n",
    "    circ.append(transGate.conjugate().transpose(), [3])\n",
    "    \n",
    "    return circ"
   ],
   "id": "a9c37edf3882084f",
   "outputs": [],
   "execution_count": 188
  },
  {
   "metadata": {
    "ExecuteTime": {
     "end_time": "2024-12-18T03:57:41.346367Z",
     "start_time": "2024-12-18T03:57:41.330368Z"
    }
   },
   "cell_type": "code",
   "source": "czqutrit = CZqutrit(uniGate)",
   "id": "6dc8d8258346d3a",
   "outputs": [],
   "execution_count": 189
  },
  {
   "metadata": {
    "ExecuteTime": {
     "end_time": "2024-12-18T03:57:42.408382Z",
     "start_time": "2024-12-18T03:57:41.762385Z"
    }
   },
   "cell_type": "code",
   "source": "czqutrit.draw('mpl')",
   "id": "7ff4a1c208960e93",
   "outputs": [
    {
     "data": {
      "text/plain": [
       "<Figure size 1123.61x367.889 with 1 Axes>"
      ],
      "image/png": "[encoded data removed]"
     },
     "execution_count": 190,
     "metadata": {},
     "output_type": "execute_result"
    }
   ],
   "execution_count": 190
  },
  {
   "metadata": {
    "ExecuteTime": {
     "end_time": "2024-12-18T03:57:43.386633Z",
     "start_time": "2024-12-18T03:57:43.187755Z"
    }
   },
   "cell_type": "code",
   "source": [
    "ghzcirc = QuantumCircuit(6)\n",
    "ghzcirc.append(cartanCirc, [0, 1])\n",
    "ghzcirc.append(cartanCirc, [2, 3])\n",
    "ghzcirc.append(cartanCirc, [4, 5])\n",
    "ghzcirc.append(czqutrit, [0, 1, 2, 3])\n",
    "ghzcirc.append(czqutrit, [0, 1, 4, 5])\n",
    "\n",
    "ghzcirc.draw('mpl')"
   ],
   "id": "2a3990a73082b7b",
   "outputs": [
    {
     "data": {
      "text/plain": [
       "<Figure size 538.33x535.111 with 1 Axes>"
      ],
      "image/png": "[encoded data removed]"
     },
     "execution_count": 191,
     "metadata": {},
     "output_type": "execute_result"
    }
   ],
   "execution_count": 191
  },
  {
   "metadata": {
    "ExecuteTime": {
     "end_time": "2024-12-18T03:57:44.392609Z",
     "start_time": "2024-12-18T03:57:44.353540Z"
    }
   },
   "cell_type": "code",
   "source": [
    "from qiskit.quantum_info import Statevector\n",
    "ghzState = Statevector(ghzcirc)\n",
    "ghzMatrix = ghzState.data.reshape((64,1))"
   ],
   "id": "36a1b7c23ae5274a",
   "outputs": [],
   "execution_count": 192
  },
  {
   "metadata": {
    "ExecuteTime": {
     "end_time": "2024-12-18T03:57:44.987469Z",
     "start_time": "2024-12-18T03:57:44.965880Z"
    }
   },
   "cell_type": "code",
   "source": [
    "cartanCircH = Operator(cartanCirc).conjugate().transpose()\n",
    "\n",
    "changeToDefault = cartanCircH.tensor(cartanCircH).tensor(Operator(np.identity(4))).to_matrix()\n",
    "\n",
    "default = np.dot(changeToDefault, ghzMatrix)"
   ],
   "id": "5b939528ac42464f",
   "outputs": [],
   "execution_count": 193
  },
  {
   "metadata": {
    "ExecuteTime": {
     "end_time": "2024-12-18T03:57:46.156058Z",
     "start_time": "2024-12-18T03:57:46.134050Z"
    }
   },
   "cell_type": "code",
   "source": "Statevector(default).draw('latex')",
   "id": "a9119c6348c9125c",
   "outputs": [
    {
     "data": {
      "text/plain": [
       "<IPython.core.display.Latex object>"
      ],
      "text/latex": "$$\\frac{\\sqrt{3}}{3} |000000\\rangle+\\frac{\\sqrt{3}}{3} |010101\\rangle+\\frac{\\sqrt{3}}{3} |101010\\rangle$$"
     },
     "execution_count": 194,
     "metadata": {},
     "output_type": "execute_result"
    }
   ],
   "execution_count": 194
  },
  {
   "metadata": {
    "ExecuteTime": {
     "end_time": "2024-12-18T03:02:34.925311Z",
     "start_time": "2024-12-18T03:02:34.916298Z"
    }
   },
   "cell_type": "code",
   "source": "from qiskit.quantum_info import partial_trace",
   "id": "b1f7a6b39c8c1bbd",
   "outputs": [],
   "execution_count": 171
  },
  {
   "metadata": {
    "ExecuteTime": {
     "end_time": "2024-12-18T03:02:35.426656Z",
     "start_time": "2024-12-18T03:02:35.418661Z"
    }
   },
   "cell_type": "code",
   "source": [
    "pt0 = partial_trace(ghzState, [2, 3, 4, 5])\n",
    "pt1 = partial_trace(ghzState, [0, 1, 4, 5])\n",
    "pt2 = partial_trace(ghzState, [0, 1, 2, 3])"
   ],
   "id": "4857f600854ff2f0",
   "outputs": [],
   "execution_count": 172
  },
  {
   "metadata": {
    "ExecuteTime": {
     "end_time": "2024-12-18T03:02:36.197580Z",
     "start_time": "2024-12-18T03:02:36.005579Z"
    }
   },
   "cell_type": "code",
   "source": "pt0.draw('latex')",
   "id": "bfdd1d54e10e4f78",
   "outputs": [
    {
     "data": {
      "text/plain": [
       "<IPython.core.display.Latex object>"
      ],
      "text/latex": "$$\n\n\\begin{bmatrix}\n0.4665063509 & \\frac{1}{8} & \\frac{1}{8} & 0.4665063509  \\\\\n \\frac{1}{8} & 0.0334936491 & 0.0334936491 & \\frac{1}{8}  \\\\\n \\frac{1}{8} & 0.0334936491 & 0.0334936491 & \\frac{1}{8}  \\\\\n 0.4665063509 & \\frac{1}{8} & \\frac{1}{8} & 0.4665063509  \\\\\n \\end{bmatrix}\n$$"
     },
     "execution_count": 173,
     "metadata": {},
     "output_type": "execute_result"
    }
   ],
   "execution_count": 173
  },
  {
   "metadata": {
    "ExecuteTime": {
     "end_time": "2024-12-18T03:02:37.238669Z",
     "start_time": "2024-12-18T03:02:37.043656Z"
    }
   },
   "cell_type": "code",
   "source": "pt1.draw('latex')",
   "id": "d2e99015a84b7634",
   "outputs": [
    {
     "data": {
      "text/plain": [
       "<IPython.core.display.Latex object>"
      ],
      "text/latex": "$$\n\n\\begin{bmatrix}\n0.4665063509 & \\frac{1}{8} & \\frac{1}{8} & 0.4665063509  \\\\\n \\frac{1}{8} & 0.0334936491 & 0.0334936491 & \\frac{1}{8}  \\\\\n \\frac{1}{8} & 0.0334936491 & 0.0334936491 & \\frac{1}{8}  \\\\\n 0.4665063509 & \\frac{1}{8} & \\frac{1}{8} & 0.4665063509  \\\\\n \\end{bmatrix}\n$$"
     },
     "execution_count": 174,
     "metadata": {},
     "output_type": "execute_result"
    }
   ],
   "execution_count": 174
  },
  {
   "metadata": {
    "ExecuteTime": {
     "end_time": "2024-12-18T03:02:38.171649Z",
     "start_time": "2024-12-18T03:02:37.939652Z"
    }
   },
   "cell_type": "code",
   "source": "pt2.draw('latex')",
   "id": "781acf5249232f55",
   "outputs": [
    {
     "data": {
      "text/plain": [
       "<IPython.core.display.Latex object>"
      ],
      "text/latex": "$$\n\n\\begin{bmatrix}\n0.4665063509 & \\frac{1}{8} & \\frac{1}{8} & 0.4665063509  \\\\\n \\frac{1}{8} & 0.0334936491 & 0.0334936491 & \\frac{1}{8}  \\\\\n \\frac{1}{8} & 0.0334936491 & 0.0334936491 & \\frac{1}{8}  \\\\\n 0.4665063509 & \\frac{1}{8} & \\frac{1}{8} & 0.4665063509  \\\\\n \\end{bmatrix}\n$$"
     },
     "execution_count": 175,
     "metadata": {},
     "output_type": "execute_result"
    }
   ],
   "execution_count": 175
  },
  {
   "metadata": {},
   "cell_type": "code",
   "outputs": [],
   "execution_count": null,
   "source": "",
   "id": "136df9548c9ffde6"
  }
 ],
 "metadata": {
  "kernelspec": {
   "display_name": "Python 3",
   "language": "python",
   "name": "python3"
  },
  "language_info": {
   "codemirror_mode": {
    "name": "ipython",
    "version": 2
   },
   "file_extension": ".py",
   "mimetype": "text/x-python",
   "name": "python",
   "nbconvert_exporter": "python",
   "pygments_lexer": "ipython2",
   "version": "2.7.6"
  }
 },
 "nbformat": 4,
 "nbformat_minor": 5
}
