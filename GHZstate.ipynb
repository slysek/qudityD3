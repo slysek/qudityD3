{
 "cells": [
  {
   "cell_type": "code",
   "id": "initial_id",
   "metadata": {
    "collapsed": true,
    "ExecuteTime": {
     "end_time": "2024-12-03T13:19:31.763122Z",
     "start_time": "2024-12-03T13:19:31.746813Z"
    }
   },
   "source": [
    "import numpy as np\n",
    "from qiskit.circuit import QuantumCircuit\n",
    "from qiskit.quantum_info import Statevector\n",
    "from qiskit.synthesis import TwoQubitWeylDecomposition\n",
    "from qiskit.quantum_info import Statevector"
   ],
   "outputs": [],
   "execution_count": 73
  },
  {
   "metadata": {
    "ExecuteTime": {
     "end_time": "2024-12-03T13:19:32.149529Z",
     "start_time": "2024-12-03T13:19:32.133523Z"
    }
   },
   "cell_type": "code",
   "source": [
    "def cartanCircuit(VCxGate):\n",
    "    circ = QuantumCircuit(2, name=\"+\")\n",
    "    phi = np.arctan(1 + np.sqrt(3))\n",
    "    #qubit 0\n",
    "    circ.x(0)\n",
    "    circ.ry(phi, 0)\n",
    "    circ.z(0)\n",
    "    circ.p(3 * np.pi / 16, 0)\n",
    "    circ.x(0)\n",
    "    circ.p(15 * np.pi / 16, 0)\n",
    "\n",
    "    #qubit 1\n",
    "    circ.x(1)\n",
    "    circ.ry(phi, 1)\n",
    "    circ.z(1)\n",
    "    circ.p(3 * np.pi / 16, 1)\n",
    "    circ.x(1)\n",
    "    circ.p(15 * np.pi / 16, 1)\n",
    "\n",
    "    circ.barrier(0)\n",
    "    circ.barrier(1)\n",
    "\n",
    "    circ.append(VCxGate.decompose(), [0, 1])\n",
    "\n",
    "    circ.barrier(0)\n",
    "    circ.barrier(1)\n",
    "\n",
    "    #qubit 0 after VCx\n",
    "\n",
    "    circ.x(0)\n",
    "    circ.p(3 * np.pi / 16, 0)\n",
    "    circ.x(0)\n",
    "    circ.p(15 * np.pi / 16, 0)\n",
    "    circ.x(0)\n",
    "    circ.ry(phi, 0)\n",
    "    circ.z(0)\n",
    "    circ.x(0)\n",
    "\n",
    "    #qubit 1 after VCx\n",
    "\n",
    "    circ.x(1)\n",
    "    circ.z(1)\n",
    "    circ.x(1)\n",
    "    circ.p(9 * np.pi / 16, 1)\n",
    "    circ.x(1)\n",
    "    circ.p(13 * np.pi / 16, 1)\n",
    "    circ.x(1)\n",
    "    circ.z(1)\n",
    "    circ.ry(phi, 1)\n",
    "\n",
    "    return circ"
   ],
   "id": "30ba8fa2af2cb43b",
   "outputs": [],
   "execution_count": 74
  },
  {
   "metadata": {
    "ExecuteTime": {
     "end_time": "2024-12-03T13:19:33.177316Z",
     "start_time": "2024-12-03T13:19:33.160718Z"
    }
   },
   "cell_type": "code",
   "source": [
    "pi = np.pi\n",
    "sqrt = np.sqrt\n",
    "log = np.log\n",
    "\n",
    "common_log_term = log(-1 / 6 * (-1) ** (1 / 4) * (sqrt(24 - 6 * sqrt(3)) + 1j * (3 + sqrt(3))))\n",
    "common_factor = 3j + 1j * sqrt(3) + sqrt(6 * (4 - sqrt(3)))\n",
    "denominator = 15 * pi - 4 * 1j * common_log_term\n",
    "\n",
    "VCx = np.array([\n",
    "    [\n",
    "        -(((-1) ** (5 / 8) * common_factor * (30 * pi - 8 * 1j * common_log_term)) / (24 * denominator)) +\n",
    "        (3 * (-1) ** (5 / 8) * (-30 * pi + 8 * 1j * common_log_term)) / (2 * common_factor * denominator),\n",
    "        0,\n",
    "        0,\n",
    "        (3 * (-1) ** (5 / 8) * (-30 * pi + 8 * 1j * common_log_term)) / (2 * common_factor * denominator) -\n",
    "        ((-1) ** (5 / 8) * common_factor * (-30 * pi + 8 * 1j * common_log_term)) / (24 * denominator)\n",
    "    ],\n",
    "    [\n",
    "        0,\n",
    "        -(1 / 2) * (-1) ** (1 / 8) - (1 / 2) * (-1) ** (5 / 8),\n",
    "        -(1 / 2) * (-1) ** (1 / 8) + (1 / 2) * (-1) ** (5 / 8),\n",
    "        0\n",
    "    ],\n",
    "    [\n",
    "        0,\n",
    "        -(1 / 2) * (-1) ** (1 / 8) + (1 / 2) * (-1) ** (5 / 8),\n",
    "        -(1 / 2) * (-1) ** (1 / 8) - (1 / 2) * (-1) ** (5 / 8),\n",
    "        0\n",
    "    ],\n",
    "    [\n",
    "        (3 * (-1) ** (5 / 8) * (-30 * pi + 8 * 1j * common_log_term)) / (2 * common_factor * denominator) -\n",
    "        ((-1) ** (5 / 8) * common_factor * (-30 * pi + 8 * 1j * common_log_term)) / (24 * denominator),\n",
    "        0,\n",
    "        0,\n",
    "        -(((-1) ** (5 / 8) * common_factor * (30 * pi - 8 * 1j * common_log_term)) / (24 * denominator)) +\n",
    "        (3 * (-1) ** (5 / 8) * (-30 * pi + 8 * 1j * common_log_term)) / (2 * common_factor * denominator)\n",
    "    ]\n",
    "], dtype=complex)\n"
   ],
   "id": "cd7544b2cffa77a7",
   "outputs": [],
   "execution_count": 75
  },
  {
   "metadata": {
    "ExecuteTime": {
     "end_time": "2024-12-03T13:19:34.371815Z",
     "start_time": "2024-12-03T13:19:33.710342Z"
    }
   },
   "cell_type": "code",
   "source": [
    "weylDecomCirc = TwoQubitWeylDecomposition(VCx)\n",
    "VCxGate = weylDecomCirc.circuit()\n",
    "VCxGate.draw('mpl')"
   ],
   "id": "3b9608915afa0713",
   "outputs": [
    {
     "data": {
      "text/plain": [
       "<Figure size 956.183x200.667 with 1 Axes>"
      ],
      "image/png": "[encoded data removed]"
     },
     "execution_count": 76,
     "metadata": {},
     "output_type": "execute_result"
    }
   ],
   "execution_count": 76
  },
  {
   "metadata": {
    "ExecuteTime": {
     "end_time": "2024-12-03T14:24:13.046491Z",
     "start_time": "2024-12-03T14:24:13.038489Z"
    }
   },
   "cell_type": "code",
   "source": "from qiskit.quantum_info import DensityMatrix",
   "id": "a2ce21905c4efd6d",
   "outputs": [],
   "execution_count": 140
  },
  {
   "metadata": {
    "ExecuteTime": {
     "end_time": "2024-12-03T14:24:48.955599Z",
     "start_time": "2024-12-03T14:24:48.838418Z"
    }
   },
   "cell_type": "code",
   "source": "DensityMatrix(VCxGate).draw('latex')",
   "id": "4584a2d0b49558bc",
   "outputs": [
    {
     "data": {
      "text/plain": [
       "<IPython.core.display.Latex object>"
      ],
      "text/latex": "$$\n\n\\begin{bmatrix}\n0.3779915321 & 0 & 0 & 0.4848854852 i  \\\\\n 0 & 0 & 0 & 0  \\\\\n 0 & 0 & 0 & 0  \\\\\n - 0.4848854852 i & 0 & 0 & 0.6220084679  \\\\\n \\end{bmatrix}\n$$"
     },
     "execution_count": 142,
     "metadata": {},
     "output_type": "execute_result"
    }
   ],
   "execution_count": 142
  },
  {
   "metadata": {
    "ExecuteTime": {
     "end_time": "2024-12-03T13:19:35.220853Z",
     "start_time": "2024-12-03T13:19:35.046372Z"
    }
   },
   "cell_type": "code",
   "source": [
    "cartanCirc = cartanCircuit(VCxGate)\n",
    "cartanCirc.draw('mpl')"
   ],
   "id": "215d19f8bd43f7e6",
   "outputs": [
    {
     "data": {
      "text/plain": [
       "<Figure size 1708.68x200.667 with 1 Axes>"
      ],
      "image/png": "[encoded data removed]"
     },
     "execution_count": 77,
     "metadata": {},
     "output_type": "execute_result"
    }
   ],
   "execution_count": 77
  },
  {
   "metadata": {
    "ExecuteTime": {
     "end_time": "2024-12-03T13:19:53.529128Z",
     "start_time": "2024-12-03T13:19:53.512509Z"
    }
   },
   "cell_type": "code",
   "source": "fVect = Statevector(cartanCirc)",
   "id": "6684de328a29e0b4",
   "outputs": [],
   "execution_count": 78
  },
  {
   "metadata": {
    "ExecuteTime": {
     "end_time": "2024-12-03T14:00:24.874333Z",
     "start_time": "2024-12-03T14:00:24.866331Z"
    }
   },
   "cell_type": "code",
   "source": "fVect.to_operator().to_matrix().round(3)",
   "id": "5f19c569a87f4848",
   "outputs": [
    {
     "data": {
      "text/plain": [
       "array([[ 0.333+0.j, -0.333+0.j, -0.333+0.j, -0.   +0.j],\n",
       "       [-0.333-0.j,  0.333+0.j,  0.333-0.j,  0.   -0.j],\n",
       "       [-0.333-0.j,  0.333+0.j,  0.333+0.j,  0.   -0.j],\n",
       "       [-0.   -0.j,  0.   +0.j,  0.   +0.j,  0.   +0.j]])"
      ]
     },
     "execution_count": 131,
     "metadata": {},
     "output_type": "execute_result"
    }
   ],
   "execution_count": 131
  },
  {
   "metadata": {
    "ExecuteTime": {
     "end_time": "2024-12-03T14:34:39.784733Z",
     "start_time": "2024-12-03T14:34:39.589265Z"
    }
   },
   "cell_type": "code",
   "source": "fVect.draw('hinton')",
   "id": "a32cfedf0031e15b",
   "outputs": [
    {
     "data": {
      "text/plain": [
       "<Figure size 800x500 with 2 Axes>"
      ],
      "image/png": "[encoded data removed]"
     },
     "execution_count": 143,
     "metadata": {},
     "output_type": "execute_result"
    }
   ],
   "execution_count": 143
  },
  {
   "metadata": {
    "ExecuteTime": {
     "end_time": "2024-12-03T13:41:16.293682Z",
     "start_time": "2024-12-03T13:41:16.277268Z"
    }
   },
   "cell_type": "code",
   "source": [
    "def CZqutrit():\n",
    "    circ = QuantumCircuit(4, name=\"CZ\")\n",
    "    omega = 2*np.pi/3\n",
    "    circ.cp(omega, 0, 2)\n",
    "    circ.cp(omega, 1, 3)\n",
    "    circ.cp(-1 * omega, 0, 3)\n",
    "    circ.cp(-1 * omega, 1, 2)\n",
    "\n",
    "    return circ"
   ],
   "id": "a9c37edf3882084f",
   "outputs": [],
   "execution_count": 95
  },
  {
   "metadata": {
    "ExecuteTime": {
     "end_time": "2024-12-03T13:41:55.034228Z",
     "start_time": "2024-12-03T13:41:55.009905Z"
    }
   },
   "cell_type": "code",
   "source": "czqutrit = CZqutrit()",
   "id": "6dc8d8258346d3a",
   "outputs": [],
   "execution_count": 100
  },
  {
   "metadata": {
    "ExecuteTime": {
     "end_time": "2024-12-03T13:41:55.785174Z",
     "start_time": "2024-12-03T13:41:55.629360Z"
    }
   },
   "cell_type": "code",
   "source": "czqutrit.draw('mpl')",
   "id": "b8f0b0d3d1a1d3f5",
   "outputs": [
    {
     "data": {
      "text/plain": [
       "<Figure size 789.163x367.889 with 1 Axes>"
      ],
      "image/png": "[encoded data removed]"
     },
     "execution_count": 101,
     "metadata": {},
     "output_type": "execute_result"
    }
   ],
   "execution_count": 101
  },
  {
   "metadata": {
    "ExecuteTime": {
     "end_time": "2024-12-03T13:42:39.898852Z",
     "start_time": "2024-12-03T13:42:39.874551Z"
    }
   },
   "cell_type": "code",
   "source": "Statevector(czqutrit).to_operator().to_matrix()",
   "id": "722feac836000c28",
   "outputs": [
    {
     "data": {
      "text/plain": [
       "array([[1.+0.j, 0.+0.j, 0.+0.j, 0.+0.j, 0.+0.j, 0.+0.j, 0.+0.j, 0.+0.j,\n",
       "        0.+0.j, 0.+0.j, 0.+0.j, 0.+0.j, 0.+0.j, 0.+0.j, 0.+0.j, 0.+0.j],\n",
       "       [0.+0.j, 0.+0.j, 0.+0.j, 0.+0.j, 0.+0.j, 0.+0.j, 0.+0.j, 0.+0.j,\n",
       "        0.+0.j, 0.+0.j, 0.+0.j, 0.+0.j, 0.+0.j, 0.+0.j, 0.+0.j, 0.+0.j],\n",
       "       [0.+0.j, 0.+0.j, 0.+0.j, 0.+0.j, 0.+0.j, 0.+0.j, 0.+0.j, 0.+0.j,\n",
       "        0.+0.j, 0.+0.j, 0.+0.j, 0.+0.j, 0.+0.j, 0.+0.j, 0.+0.j, 0.+0.j],\n",
       "       [0.+0.j, 0.+0.j, 0.+0.j, 0.+0.j, 0.+0.j, 0.+0.j, 0.+0.j, 0.+0.j,\n",
       "        0.+0.j, 0.+0.j, 0.+0.j, 0.+0.j, 0.+0.j, 0.+0.j, 0.+0.j, 0.+0.j],\n",
       "       [0.+0.j, 0.+0.j, 0.+0.j, 0.+0.j, 0.+0.j, 0.+0.j, 0.+0.j, 0.+0.j,\n",
       "        0.+0.j, 0.+0.j, 0.+0.j, 0.+0.j, 0.+0.j, 0.+0.j, 0.+0.j, 0.+0.j],\n",
       "       [0.+0.j, 0.+0.j, 0.+0.j, 0.+0.j, 0.+0.j, 0.+0.j, 0.+0.j, 0.+0.j,\n",
       "        0.+0.j, 0.+0.j, 0.+0.j, 0.+0.j, 0.+0.j, 0.+0.j, 0.+0.j, 0.+0.j],\n",
       "       [0.+0.j, 0.+0.j, 0.+0.j, 0.+0.j, 0.+0.j, 0.+0.j, 0.+0.j, 0.+0.j,\n",
       "        0.+0.j, 0.+0.j, 0.+0.j, 0.+0.j, 0.+0.j, 0.+0.j, 0.+0.j, 0.+0.j],\n",
       "       [0.+0.j, 0.+0.j, 0.+0.j, 0.+0.j, 0.+0.j, 0.+0.j, 0.+0.j, 0.+0.j,\n",
       "        0.+0.j, 0.+0.j, 0.+0.j, 0.+0.j, 0.+0.j, 0.+0.j, 0.+0.j, 0.+0.j],\n",
       "       [0.+0.j, 0.+0.j, 0.+0.j, 0.+0.j, 0.+0.j, 0.+0.j, 0.+0.j, 0.+0.j,\n",
       "        0.+0.j, 0.+0.j, 0.+0.j, 0.+0.j, 0.+0.j, 0.+0.j, 0.+0.j, 0.+0.j],\n",
       "       [0.+0.j, 0.+0.j, 0.+0.j, 0.+0.j, 0.+0.j, 0.+0.j, 0.+0.j, 0.+0.j,\n",
       "        0.+0.j, 0.+0.j, 0.+0.j, 0.+0.j, 0.+0.j, 0.+0.j, 0.+0.j, 0.+0.j],\n",
       "       [0.+0.j, 0.+0.j, 0.+0.j, 0.+0.j, 0.+0.j, 0.+0.j, 0.+0.j, 0.+0.j,\n",
       "        0.+0.j, 0.+0.j, 0.+0.j, 0.+0.j, 0.+0.j, 0.+0.j, 0.+0.j, 0.+0.j],\n",
       "       [0.+0.j, 0.+0.j, 0.+0.j, 0.+0.j, 0.+0.j, 0.+0.j, 0.+0.j, 0.+0.j,\n",
       "        0.+0.j, 0.+0.j, 0.+0.j, 0.+0.j, 0.+0.j, 0.+0.j, 0.+0.j, 0.+0.j],\n",
       "       [0.+0.j, 0.+0.j, 0.+0.j, 0.+0.j, 0.+0.j, 0.+0.j, 0.+0.j, 0.+0.j,\n",
       "        0.+0.j, 0.+0.j, 0.+0.j, 0.+0.j, 0.+0.j, 0.+0.j, 0.+0.j, 0.+0.j],\n",
       "       [0.+0.j, 0.+0.j, 0.+0.j, 0.+0.j, 0.+0.j, 0.+0.j, 0.+0.j, 0.+0.j,\n",
       "        0.+0.j, 0.+0.j, 0.+0.j, 0.+0.j, 0.+0.j, 0.+0.j, 0.+0.j, 0.+0.j],\n",
       "       [0.+0.j, 0.+0.j, 0.+0.j, 0.+0.j, 0.+0.j, 0.+0.j, 0.+0.j, 0.+0.j,\n",
       "        0.+0.j, 0.+0.j, 0.+0.j, 0.+0.j, 0.+0.j, 0.+0.j, 0.+0.j, 0.+0.j],\n",
       "       [0.+0.j, 0.+0.j, 0.+0.j, 0.+0.j, 0.+0.j, 0.+0.j, 0.+0.j, 0.+0.j,\n",
       "        0.+0.j, 0.+0.j, 0.+0.j, 0.+0.j, 0.+0.j, 0.+0.j, 0.+0.j, 0.+0.j]])"
      ]
     },
     "execution_count": 105,
     "metadata": {},
     "output_type": "execute_result"
    }
   ],
   "execution_count": 105
  },
  {
   "metadata": {
    "ExecuteTime": {
     "end_time": "2024-12-03T13:42:01.040960Z",
     "start_time": "2024-12-03T13:42:01.016666Z"
    }
   },
   "cell_type": "code",
   "source": "Statevector(czqutrit).draw('latex')",
   "id": "6b3b38f6cc15a847",
   "outputs": [
    {
     "data": {
      "text/plain": [
       "<IPython.core.display.Latex object>"
      ],
      "text/latex": "$$ |0000\\rangle$$"
     },
     "execution_count": 102,
     "metadata": {},
     "output_type": "execute_result"
    }
   ],
   "execution_count": 102
  },
  {
   "metadata": {
    "ExecuteTime": {
     "end_time": "2024-12-03T13:42:58.795339Z",
     "start_time": "2024-12-03T13:42:58.780591Z"
    }
   },
   "cell_type": "code",
   "source": "ghzcirc = QuantumCircuit(6)",
   "id": "cd4528f9e42f7988",
   "outputs": [],
   "execution_count": 106
  },
  {
   "metadata": {
    "ExecuteTime": {
     "end_time": "2024-12-03T13:42:59.359372Z",
     "start_time": "2024-12-03T13:42:59.211272Z"
    }
   },
   "cell_type": "code",
   "source": [
    "ghzcirc.append(cartanCirc, [0, 1])\n",
    "ghzcirc.append(cartanCirc, [2, 3])\n",
    "ghzcirc.append(cartanCirc, [4, 5])\n",
    "ghzcirc.append(czqutrit, [0, 1, 2, 3])\n",
    "ghzcirc.append(czqutrit, [0, 1, 4, 5])\n",
    "ghzcirc.append(czqutrit, [2, 3, 4, 5])\n",
    "\n",
    "ghzcirc.draw('mpl')"
   ],
   "id": "2a3990a73082b7b",
   "outputs": [
    {
     "data": {
      "text/plain": [
       "<Figure size 454.719x535.111 with 1 Axes>"
      ],
      "image/png": "[encoded data removed]"
     },
     "execution_count": 107,
     "metadata": {},
     "output_type": "execute_result"
    }
   ],
   "execution_count": 107
  },
  {
   "metadata": {
    "ExecuteTime": {
     "end_time": "2024-12-03T13:43:29.558182Z",
     "start_time": "2024-12-03T13:43:29.525928Z"
    }
   },
   "cell_type": "code",
   "source": "ghzState = Statevector(ghzcirc)",
   "id": "4a49f963b684d7ef",
   "outputs": [],
   "execution_count": 111
  },
  {
   "metadata": {
    "ExecuteTime": {
     "end_time": "2024-12-03T13:43:28.029108Z",
     "start_time": "2024-12-03T13:43:28.004664Z"
    }
   },
   "cell_type": "code",
   "source": "ghzOperator = ghzState.to_operator()",
   "id": "c2e5ebbe7c8195d2",
   "outputs": [],
   "execution_count": 110
  },
  {
   "metadata": {
    "ExecuteTime": {
     "end_time": "2024-12-03T13:43:26.592456Z",
     "start_time": "2024-12-03T13:43:26.585221Z"
    }
   },
   "cell_type": "code",
   "source": "ghzMatrix = ghzOperator.to_matrix()",
   "id": "1deb2b71816f3ee8",
   "outputs": [],
   "execution_count": 109
  },
  {
   "metadata": {
    "ExecuteTime": {
     "end_time": "2024-12-03T13:43:18.452490Z",
     "start_time": "2024-12-03T13:43:18.437192Z"
    }
   },
   "cell_type": "code",
   "source": "ghzMatrix.round(3)",
   "id": "cb58780bf3e42bc0",
   "outputs": [
    {
     "data": {
      "text/plain": [
       "array([[ 0.037+0.j, -0.037+0.j, -0.037+0.j, ..., -0.   +0.j, -0.   +0.j,\n",
       "         0.   +0.j],\n",
       "       [-0.037-0.j,  0.037+0.j,  0.037+0.j, ...,  0.   -0.j,  0.   -0.j,\n",
       "        -0.   -0.j],\n",
       "       [-0.037-0.j,  0.037+0.j,  0.037+0.j, ...,  0.   -0.j,  0.   -0.j,\n",
       "        -0.   -0.j],\n",
       "       ...,\n",
       "       [-0.   -0.j,  0.   +0.j,  0.   +0.j, ...,  0.   +0.j,  0.   +0.j,\n",
       "         0.   -0.j],\n",
       "       [-0.   -0.j,  0.   +0.j,  0.   +0.j, ...,  0.   +0.j,  0.   +0.j,\n",
       "         0.   -0.j],\n",
       "       [ 0.   -0.j, -0.   +0.j, -0.   +0.j, ...,  0.   +0.j,  0.   +0.j,\n",
       "         0.   +0.j]])"
      ]
     },
     "execution_count": 108,
     "metadata": {},
     "output_type": "execute_result"
    }
   ],
   "execution_count": 108
  },
  {
   "metadata": {
    "ExecuteTime": {
     "end_time": "2024-12-03T13:44:52.307610Z",
     "start_time": "2024-12-03T13:44:52.299214Z"
    }
   },
   "cell_type": "code",
   "source": "from qiskit.quantum_info import partial_trace",
   "id": "b1f7a6b39c8c1bbd",
   "outputs": [],
   "execution_count": 112
  },
  {
   "metadata": {
    "ExecuteTime": {
     "end_time": "2024-12-03T13:53:30.847290Z",
     "start_time": "2024-12-03T13:53:30.831020Z"
    }
   },
   "cell_type": "code",
   "source": "pt0 = partial_trace(ghzState, [0, 1])",
   "id": "e6bef69bf90541a5",
   "outputs": [],
   "execution_count": 125
  },
  {
   "metadata": {
    "ExecuteTime": {
     "end_time": "2024-12-03T13:53:42.038488Z",
     "start_time": "2024-12-03T13:53:42.022310Z"
    }
   },
   "cell_type": "code",
   "source": "pt1 = partial_trace(ghzState, [2, 3])",
   "id": "d72fefa51ab5bf67",
   "outputs": [],
   "execution_count": 127
  },
  {
   "metadata": {
    "ExecuteTime": {
     "end_time": "2024-12-03T13:54:09.411662Z",
     "start_time": "2024-12-03T13:54:09.395224Z"
    }
   },
   "cell_type": "code",
   "source": "pt2 = partial_trace(ghzState, [4, 5])",
   "id": "2451179eddef2c79",
   "outputs": [],
   "execution_count": 129
  },
  {
   "metadata": {
    "ExecuteTime": {
     "end_time": "2024-12-03T13:53:33.199655Z",
     "start_time": "2024-12-03T13:53:33.168694Z"
    }
   },
   "cell_type": "code",
   "source": "pt0.draw('latex')",
   "id": "e756a35ce819cd05",
   "outputs": [
    {
     "data": {
      "text/plain": [
       "<IPython.core.display.Latex object>"
      ],
      "text/latex": "$$\n\n\\begin{bmatrix}\n\\frac{1}{9} & 0 & 0 & 0 & \\cdots & 0 & 0 & 0  \\\\\n 0 & \\frac{1}{9} & 0 & 0 & \\cdots & 0 & 0 & 0  \\\\\n 0 & 0 & \\frac{1}{9} & 0 & \\cdots & 0 & 0 & 0  \\\\\n 0 & 0 & 0 & 0 & \\cdots & 0 & 0 & 0  \\\\\n \\vdots & \\vdots & \\vdots & \\vdots & \\ddots & \\vdots & \\vdots & \\vdots \\\\\n 0 & 0 & 0 & 0 & \\cdots & 0 & 0 & 0  \\\\\n 0 & 0 & 0 & 0 & \\cdots & 0 & 0 & 0  \\\\\n 0 & 0 & 0 & 0 & \\cdots & 0 & 0 & 0  \\\\\n \\end{bmatrix}\n$$"
     },
     "execution_count": 126,
     "metadata": {},
     "output_type": "execute_result"
    }
   ],
   "execution_count": 126
  },
  {
   "metadata": {
    "ExecuteTime": {
     "end_time": "2024-12-03T13:53:56.138225Z",
     "start_time": "2024-12-03T13:53:56.100020Z"
    }
   },
   "cell_type": "code",
   "source": "pt1.draw('latex')",
   "id": "1edbf855b6e31805",
   "outputs": [
    {
     "data": {
      "text/plain": [
       "<IPython.core.display.Latex object>"
      ],
      "text/latex": "$$\n\n\\begin{bmatrix}\n\\frac{1}{9} & 0 & 0 & 0 & \\cdots & 0 & 0 & 0  \\\\\n 0 & \\frac{1}{9} & 0 & 0 & \\cdots & 0 & 0 & 0  \\\\\n 0 & 0 & \\frac{1}{9} & 0 & \\cdots & 0 & 0 & 0  \\\\\n 0 & 0 & 0 & 0 & \\cdots & 0 & 0 & 0  \\\\\n \\vdots & \\vdots & \\vdots & \\vdots & \\ddots & \\vdots & \\vdots & \\vdots \\\\\n 0 & 0 & 0 & 0 & \\cdots & 0 & 0 & 0  \\\\\n 0 & 0 & 0 & 0 & \\cdots & 0 & 0 & 0  \\\\\n 0 & 0 & 0 & 0 & \\cdots & 0 & 0 & 0  \\\\\n \\end{bmatrix}\n$$"
     },
     "execution_count": 128,
     "metadata": {},
     "output_type": "execute_result"
    }
   ],
   "execution_count": 128
  },
  {
   "metadata": {
    "ExecuteTime": {
     "end_time": "2024-12-03T13:54:16.604669Z",
     "start_time": "2024-12-03T13:54:16.579315Z"
    }
   },
   "cell_type": "code",
   "source": "pt2.draw('latex')",
   "id": "b6b6f152bf811759",
   "outputs": [
    {
     "data": {
      "text/plain": [
       "<IPython.core.display.Latex object>"
      ],
      "text/latex": "$$\n\n\\begin{bmatrix}\n\\frac{1}{9} & 0 & 0 & 0 & \\cdots & 0 & 0 & 0  \\\\\n 0 & \\frac{1}{9} & 0 & 0 & \\cdots & 0 & 0 & 0  \\\\\n 0 & 0 & \\frac{1}{9} & 0 & \\cdots & 0 & 0 & 0  \\\\\n 0 & 0 & 0 & 0 & \\cdots & 0 & 0 & 0  \\\\\n \\vdots & \\vdots & \\vdots & \\vdots & \\ddots & \\vdots & \\vdots & \\vdots \\\\\n 0 & 0 & 0 & 0 & \\cdots & 0 & 0 & 0  \\\\\n 0 & 0 & 0 & 0 & \\cdots & 0 & 0 & 0  \\\\\n 0 & 0 & 0 & 0 & \\cdots & 0 & 0 & 0  \\\\\n \\end{bmatrix}\n$$"
     },
     "execution_count": 130,
     "metadata": {},
     "output_type": "execute_result"
    }
   ],
   "execution_count": 130
  },
  {
   "metadata": {},
   "cell_type": "code",
   "outputs": [],
   "execution_count": null,
   "source": "",
   "id": "8cb8827ecafff457"
  }
 ],
 "metadata": {
  "kernelspec": {
   "display_name": "Python 3",
   "language": "python",
   "name": "python3"
  },
  "language_info": {
   "codemirror_mode": {
    "name": "ipython",
    "version": 2
   },
   "file_extension": ".py",
   "mimetype": "text/x-python",
   "name": "python",
   "nbconvert_exporter": "python",
   "pygments_lexer": "ipython2",
   "version": "2.7.6"
  }
 },
 "nbformat": 4,
 "nbformat_minor": 5
}
