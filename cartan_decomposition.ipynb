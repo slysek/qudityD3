{
 "cells": [
  {
   "metadata": {
    "ExecuteTime": {
     "end_time": "2024-11-26T19:18:54.983075Z",
     "start_time": "2024-11-26T19:18:53.908078Z"
    }
   },
   "cell_type": "code",
   "source": [
    "import numpy as np\n",
    "import qiskit.circuit.library as lib\n",
    "from qiskit.quantum_info import Operator\n",
    "from numpy.linalg import multi_dot\n",
    "from IPython.display import display, Latex\n",
    "\n",
    "def numpy_to_latex(matrix):\n",
    "    latex_code = \"\\\\begin{bmatrix}\\n\"\n",
    "    for row in matrix:\n",
    "        latex_code += \" & \".join(map(str, row)) + \" \\\\\\\\\\n\"\n",
    "    latex_code += \"\\\\end{bmatrix}\"\n",
    "    return latex_code\n",
    "\n",
    "\n",
    "Z = Operator(lib.ZGate())\n",
    "X = Operator(lib.XGate())\n",
    "\n",
    "def Ry(theta):\n",
    "    return Operator(lib.RYGate(theta))\n",
    "\n",
    "def P(theta):\n",
    "    return Operator(lib.PhaseGate(theta))\n",
    "\n",
    "u1 = multi_dot([X, Ry(np.arctan(1 + np.sqrt(3))), Z, P(np.pi * 3 / 16), X, P(np.pi * 15 / 16)])\n",
    "u2 = u1\n",
    "v1 = multi_dot([X, P(np.pi * 3 / 16), X, P(np.pi * 15 / 16), X, Ry(np.arctan(1 + np.sqrt(3))), Z, X])\n",
    "v2 = multi_dot([X, Z, X, P(np.pi * 9 / 16), X, P(np.pi * 13 / 16), X, Z, Ry(np.arctan(1 + np.sqrt(3)))])\n",
    "pi = np.pi\n",
    "sqrt = np.sqrt\n",
    "log = np.log\n",
    "\n",
    "common_log_term = log(-1 / 6 * (-1) ** (1 / 4) * (sqrt(24 - 6 * sqrt(3)) + 1j * (3 + sqrt(3))))\n",
    "common_factor = 3j + 1j * sqrt(3) + sqrt(6 * (4 - sqrt(3)))\n",
    "denominator = 15 * pi - 4 * 1j * common_log_term\n",
    "\n",
    "VCx = np.array([\n",
    "    [\n",
    "        -(((-1) ** (5 / 8) * common_factor * (30 * pi - 8 * 1j * common_log_term)) / (24 * denominator)) +\n",
    "        (3 * (-1) ** (5 / 8) * (-30 * pi + 8 * 1j * common_log_term)) / (2 * common_factor * denominator),\n",
    "        0,\n",
    "        0,\n",
    "        (3 * (-1) ** (5 / 8) * (-30 * pi + 8 * 1j * common_log_term)) / (2 * common_factor * denominator) -\n",
    "        ((-1) ** (5 / 8) * common_factor * (-30 * pi + 8 * 1j * common_log_term)) / (24 * denominator)\n",
    "    ],\n",
    "    [\n",
    "        0,\n",
    "        -(1 / 2) * (-1) ** (1 / 8) - (1 / 2) * (-1) ** (5 / 8),\n",
    "        -(1 / 2) * (-1) ** (1 / 8) + (1 / 2) * (-1) ** (5 / 8),\n",
    "        0\n",
    "    ],\n",
    "    [\n",
    "        0,\n",
    "        -(1 / 2) * (-1) ** (1 / 8) + (1 / 2) * (-1) ** (5 / 8),\n",
    "        -(1 / 2) * (-1) ** (1 / 8) - (1 / 2) * (-1) ** (5 / 8),\n",
    "        0\n",
    "    ],\n",
    "    [\n",
    "        (3 * (-1) ** (5 / 8) * (-30 * pi + 8 * 1j * common_log_term)) / (2 * common_factor * denominator) -\n",
    "        ((-1) ** (5 / 8) * common_factor * (-30 * pi + 8 * 1j * common_log_term)) / (24 * denominator),\n",
    "        0,\n",
    "        0,\n",
    "        -(((-1) ** (5 / 8) * common_factor * (30 * pi - 8 * 1j * common_log_term)) / (24 * denominator)) +\n",
    "        (3 * (-1) ** (5 / 8) * (-30 * pi + 8 * 1j * common_log_term)) / (2 * common_factor * denominator)\n",
    "    ]\n",
    "], dtype=complex)\n",
    "\n",
    "\n",
    "fCheck = multi_dot([np.kron(u1, u2), VCx, np.kron(v1, v2)]).round(7)\n",
    "\n",
    "zero_qubit = np.array([[1],[0]])\n",
    "one_qubit = np.array([[0],[1]])\n",
    "qubity = [zero_qubit, one_qubit]"
   ],
   "id": "22d20f16c9f5539b",
   "outputs": [],
   "execution_count": 1
  },
  {
   "metadata": {
    "ExecuteTime": {
     "end_time": "2024-11-26T19:18:55.142080Z",
     "start_time": "2024-11-26T19:18:55.123079Z"
    }
   },
   "cell_type": "code",
   "source": "fCheck",
   "id": "5232780f317831a1",
   "outputs": [
    {
     "data": {
      "text/plain": [
       "array([[ 0.5773503-0.j ,  0.5773503-0.j ,  0.5773503-0.j ,\n",
       "        -0.       -0.j ],\n",
       "       [ 0.5773503-0.j , -0.2886751+0.5j, -0.2886751-0.5j,\n",
       "         0.       -0.j ],\n",
       "       [ 0.5773503-0.j , -0.2886751-0.5j, -0.2886751+0.5j,\n",
       "         0.       -0.j ],\n",
       "       [-0.       -0.j ,  0.       -0.j , -0.       -0.j ,\n",
       "         1.       -0.j ]])"
      ]
     },
     "execution_count": 2,
     "metadata": {},
     "output_type": "execute_result"
    }
   ],
   "execution_count": 2
  },
  {
   "metadata": {
    "ExecuteTime": {
     "end_time": "2024-11-26T19:19:05.131668Z",
     "start_time": "2024-11-26T19:19:05.117670Z"
    }
   },
   "cell_type": "code",
   "source": [
    "bellstatePhiMin = 1/np.sqrt(2) * (np.kron(qubity[0], qubity[1]) - np.kron(qubity[1], qubity[0]))\n",
    "bellstatePhiPlus = 1/np.sqrt(2) * (np.kron(qubity[0], qubity[1]) + np.kron(qubity[1], qubity[0]))"
   ],
   "id": "e951e4657b92e752",
   "outputs": [],
   "execution_count": 3
  },
  {
   "metadata": {
    "ExecuteTime": {
     "end_time": "2024-11-26T19:19:05.862672Z",
     "start_time": "2024-11-26T19:19:05.841681Z"
    }
   },
   "cell_type": "code",
   "source": [
    "wektorwlasny0 = np.array([ 0.888+0.j, -0.46 -0.j,  0.   -0.j])\n",
    "wektorwlasny1 = np.array([ 0.325+0.j,  0.628+0.j, -0.707+0.j])\n",
    "wektorwlasny2 = np.array([ 0.325+0.j,  0.628+0.j, 0.707+0.j])"
   ],
   "id": "20ed132014a824a8",
   "outputs": [],
   "execution_count": 4
  },
  {
   "metadata": {
    "ExecuteTime": {
     "end_time": "2024-11-26T19:19:06.324671Z",
     "start_time": "2024-11-26T19:19:06.298674Z"
    }
   },
   "cell_type": "code",
   "source": "wektorwlasny0",
   "id": "9dd6210bfed75b28",
   "outputs": [
    {
     "data": {
      "text/plain": [
       "array([ 0.888+0.j, -0.46 +0.j,  0.   +0.j])"
      ]
     },
     "execution_count": 5,
     "metadata": {},
     "output_type": "execute_result"
    }
   ],
   "execution_count": 5
  },
  {
   "metadata": {
    "ExecuteTime": {
     "end_time": "2024-11-26T19:19:06.990670Z",
     "start_time": "2024-11-26T19:19:06.961671Z"
    }
   },
   "cell_type": "code",
   "source": "bellstatePhiMin",
   "id": "59464cb841bf1f09",
   "outputs": [
    {
     "data": {
      "text/plain": [
       "array([[ 0.        ],\n",
       "       [ 0.70710678],\n",
       "       [-0.70710678],\n",
       "       [ 0.        ]])"
      ]
     },
     "execution_count": 6,
     "metadata": {},
     "output_type": "execute_result"
    }
   ],
   "execution_count": 6
  },
  {
   "metadata": {
    "ExecuteTime": {
     "end_time": "2024-11-26T19:19:07.589669Z",
     "start_time": "2024-11-26T19:19:07.580674Z"
    }
   },
   "cell_type": "code",
   "source": "bellstatePhiPlus",
   "id": "f8f1cd0e5064b721",
   "outputs": [
    {
     "data": {
      "text/plain": [
       "array([[0.        ],\n",
       "       [0.70710678],\n",
       "       [0.70710678],\n",
       "       [0.        ]])"
      ]
     },
     "execution_count": 7,
     "metadata": {},
     "output_type": "execute_result"
    }
   ],
   "execution_count": 7
  },
  {
   "metadata": {
    "ExecuteTime": {
     "end_time": "2024-11-26T23:26:29.476521Z",
     "start_time": "2024-11-26T23:26:29.455517Z"
    }
   },
   "cell_type": "code",
   "source": [
    "F = fCheck\n",
    "\n",
    "v0 = np.array([1, 0, 0, 0])  # |00>\n",
    "v1 = np.array([0, 1, 0, 0])  # |01>\n",
    "v2 = np.array([0, 0, 1, 0])  # |10>\n",
    "\n",
    "# Operatory projekcji na stany |v0>, |v1>, |v2>\n",
    "Pv0 = np.outer(v0, v0.conj())\n",
    "Pv1 = np.outer(v1, v1.conj())\n",
    "Pv2 = np.outer(v2, v2.conj())\n",
    "\n",
    "# Definicja operatora tożsamości I o wymiarach 4x4\n",
    "I = np.identity(4, dtype=complex)\n",
    "\n",
    "# Obliczenie F^2 (kwadrat macierzy F)\n",
    "F_squared = np.linalg.matrix_power(F, 2)\n",
    "\n",
    "# Konstrukcja bramki CZ o wymiarach 16x16\n",
    "# CZ = (|v0><v0| ⊗ I) + (|v1><v1| ⊗ F) + (|v2><v2| ⊗ F^2)\n",
    "CZ12 = np.zeros((16, 16), dtype=complex)\n",
    "\n",
    "# Dodanie pierwszego członu: |v0><v0| ⊗ I\n",
    "CZ12 += np.kron(Pv0, I)\n",
    "\n",
    "# Dodanie drugiego członu: |v1><v1| ⊗ F\n",
    "CZ12 += np.kron(Pv1, F)\n",
    "\n",
    "# Dodanie trzeciego członu: |v2><v2| ⊗ F^2\n",
    "CZ12 += np.kron(Pv2, F_squared)\n",
    "\n",
    "# Jeśli chcesz uwzględnić czwarty stan |11>, możesz zdefiniować go jako |v3>\n",
    "v3 = np.array([0, 0, 0, 1])  # |11>\n",
    "Pv3 = np.outer(v3, v3.conj())\n",
    "\n",
    "# Możesz zdecydować, jak bramka CZ ma działać na |v3>\n",
    "# Jeśli chcesz, aby CZ działała jak identyczność na |v3>, dodaj:\n",
    "CZ12 += np.kron(Pv3, I)\n",
    "\n",
    "# Opcjonalnie, sprawdź unitarność bramki CZ\n",
    "is_unitary = np.allclose(CZ.conj().T @ CZ, np.identity(16))\n",
    "\n",
    "\n",
    "# Teraz możesz zastosować bramkę CZ do dowolnego stanu\n",
    "# Przykładowo, zastosujmy CZ do stanu |v0> ⊗ |v1>\n",
    "state = np.kron(v0, v1)\n",
    "\n",
    "# Zastosowanie bramki CZ\n",
    "new_state = CZ @ state\n",
    "\n",
    "# Normalizacja nowego stanu (opcjonalnie)\n",
    "new_state = new_state / np.linalg.norm(new_state)\n",
    "\n",
    "# Wyświetlenie wyników\n"
   ],
   "id": "1a85bfb6e514203b",
   "outputs": [],
   "execution_count": 65
  },
  {
   "metadata": {
    "ExecuteTime": {
     "end_time": "2024-11-26T23:27:39.495925Z",
     "start_time": "2024-11-26T23:27:39.481914Z"
    }
   },
   "cell_type": "code",
   "source": "CZ.round(2)",
   "id": "ca8f3b94ba376b20",
   "outputs": [
    {
     "data": {
      "text/plain": [
       "array([[ 1.  +0.j ,  0.  +0.j ,  0.  +0.j ,  0.  +0.j ,  0.  +0.j ,\n",
       "         0.  +0.j ,  0.  +0.j ,  0.  +0.j ,  0.  +0.j ,  0.  +0.j ,\n",
       "         0.  +0.j ,  0.  +0.j ,  0.  +0.j ,  0.  +0.j ,  0.  +0.j ,\n",
       "         0.  +0.j ],\n",
       "       [ 0.  +0.j ,  1.  +0.j ,  0.  +0.j ,  0.  +0.j ,  0.  +0.j ,\n",
       "         0.  +0.j ,  0.  +0.j ,  0.  +0.j ,  0.  +0.j ,  0.  +0.j ,\n",
       "         0.  +0.j ,  0.  +0.j ,  0.  +0.j ,  0.  +0.j ,  0.  +0.j ,\n",
       "         0.  +0.j ],\n",
       "       [ 0.  +0.j ,  0.  +0.j ,  1.  +0.j ,  0.  +0.j ,  0.  +0.j ,\n",
       "         0.  +0.j ,  0.  +0.j ,  0.  +0.j ,  0.  +0.j ,  0.  +0.j ,\n",
       "         0.  +0.j ,  0.  +0.j ,  0.  +0.j ,  0.  +0.j ,  0.  +0.j ,\n",
       "         0.  +0.j ],\n",
       "       [ 0.  +0.j ,  0.  +0.j ,  0.  +0.j ,  1.  +0.j ,  0.  +0.j ,\n",
       "         0.  +0.j ,  0.  +0.j ,  0.  +0.j ,  0.  +0.j ,  0.  +0.j ,\n",
       "         0.  +0.j ,  0.  +0.j ,  0.  +0.j ,  0.  +0.j ,  0.  +0.j ,\n",
       "         0.  +0.j ],\n",
       "       [ 0.  +0.j ,  0.  +0.j ,  0.  +0.j ,  0.  +0.j ,  0.58+0.j ,\n",
       "         0.58+0.j ,  0.58+0.j ,  0.  +0.j ,  0.  +0.j ,  0.  +0.j ,\n",
       "         0.  +0.j ,  0.  +0.j ,  0.  +0.j ,  0.  +0.j ,  0.  +0.j ,\n",
       "         0.  +0.j ],\n",
       "       [ 0.  +0.j ,  0.  +0.j ,  0.  +0.j ,  0.  +0.j ,  0.58+0.j ,\n",
       "        -0.29+0.5j, -0.29-0.5j,  0.  +0.j ,  0.  +0.j ,  0.  +0.j ,\n",
       "         0.  +0.j ,  0.  +0.j ,  0.  +0.j ,  0.  +0.j ,  0.  +0.j ,\n",
       "         0.  +0.j ],\n",
       "       [ 0.  +0.j ,  0.  +0.j ,  0.  +0.j ,  0.  +0.j ,  0.58+0.j ,\n",
       "        -0.29-0.5j, -0.29+0.5j,  0.  +0.j ,  0.  +0.j ,  0.  +0.j ,\n",
       "         0.  +0.j ,  0.  +0.j ,  0.  +0.j ,  0.  +0.j ,  0.  +0.j ,\n",
       "         0.  +0.j ],\n",
       "       [ 0.  +0.j ,  0.  +0.j ,  0.  +0.j ,  0.  +0.j ,  0.  +0.j ,\n",
       "         0.  +0.j ,  0.  +0.j ,  1.  +0.j ,  0.  +0.j ,  0.  +0.j ,\n",
       "         0.  +0.j ,  0.  +0.j ,  0.  +0.j ,  0.  +0.j ,  0.  +0.j ,\n",
       "         0.  +0.j ],\n",
       "       [ 0.  +0.j ,  0.  +0.j ,  0.  +0.j ,  0.  +0.j ,  0.  +0.j ,\n",
       "         0.  +0.j ,  0.  +0.j ,  0.  +0.j ,  1.  +0.j ,  0.  +0.j ,\n",
       "         0.  +0.j ,  0.  +0.j ,  0.  +0.j ,  0.  +0.j ,  0.  +0.j ,\n",
       "         0.  +0.j ],\n",
       "       [ 0.  +0.j ,  0.  +0.j ,  0.  +0.j ,  0.  +0.j ,  0.  +0.j ,\n",
       "         0.  +0.j ,  0.  +0.j ,  0.  +0.j ,  0.  +0.j , -0.  +0.j ,\n",
       "         1.  +0.j ,  0.  +0.j ,  0.  +0.j ,  0.  +0.j ,  0.  +0.j ,\n",
       "         0.  +0.j ],\n",
       "       [ 0.  +0.j ,  0.  +0.j ,  0.  +0.j ,  0.  +0.j ,  0.  +0.j ,\n",
       "         0.  +0.j ,  0.  +0.j ,  0.  +0.j ,  0.  +0.j ,  1.  +0.j ,\n",
       "        -0.  +0.j ,  0.  +0.j ,  0.  +0.j ,  0.  +0.j ,  0.  +0.j ,\n",
       "         0.  +0.j ],\n",
       "       [ 0.  +0.j ,  0.  +0.j ,  0.  +0.j ,  0.  +0.j ,  0.  +0.j ,\n",
       "         0.  +0.j ,  0.  +0.j ,  0.  +0.j ,  0.  +0.j ,  0.  +0.j ,\n",
       "         0.  +0.j ,  1.  +0.j ,  0.  +0.j ,  0.  +0.j ,  0.  +0.j ,\n",
       "         0.  +0.j ],\n",
       "       [ 0.  +0.j ,  0.  +0.j ,  0.  +0.j ,  0.  +0.j ,  0.  +0.j ,\n",
       "         0.  +0.j ,  0.  +0.j ,  0.  +0.j ,  0.  +0.j ,  0.  +0.j ,\n",
       "         0.  +0.j ,  0.  +0.j ,  1.  +0.j ,  0.  +0.j ,  0.  +0.j ,\n",
       "         0.  +0.j ],\n",
       "       [ 0.  +0.j ,  0.  +0.j ,  0.  +0.j ,  0.  +0.j ,  0.  +0.j ,\n",
       "         0.  +0.j ,  0.  +0.j ,  0.  +0.j ,  0.  +0.j ,  0.  +0.j ,\n",
       "         0.  +0.j ,  0.  +0.j ,  0.  +0.j ,  1.  +0.j ,  0.  +0.j ,\n",
       "         0.  +0.j ],\n",
       "       [ 0.  +0.j ,  0.  +0.j ,  0.  +0.j ,  0.  +0.j ,  0.  +0.j ,\n",
       "         0.  +0.j ,  0.  +0.j ,  0.  +0.j ,  0.  +0.j ,  0.  +0.j ,\n",
       "         0.  +0.j ,  0.  +0.j ,  0.  +0.j ,  0.  +0.j ,  1.  +0.j ,\n",
       "         0.  +0.j ],\n",
       "       [ 0.  +0.j ,  0.  +0.j ,  0.  +0.j ,  0.  +0.j ,  0.  +0.j ,\n",
       "         0.  +0.j ,  0.  +0.j ,  0.  +0.j ,  0.  +0.j ,  0.  +0.j ,\n",
       "         0.  +0.j ,  0.  +0.j ,  0.  +0.j ,  0.  +0.j ,  0.  +0.j ,\n",
       "         1.  +0.j ]])"
      ]
     },
     "execution_count": 71,
     "metadata": {},
     "output_type": "execute_result"
    }
   ],
   "execution_count": 71
  },
  {
   "metadata": {
    "ExecuteTime": {
     "end_time": "2024-11-26T23:25:21.910741Z",
     "start_time": "2024-11-26T23:25:21.887739Z"
    }
   },
   "cell_type": "code",
   "source": [
    "baza = [wektory_wlasne[0], wektory_wlasne[1], wektory_wlasne[2]]\n",
    "stan0x0 = np.outer(baza[0], baza[0])\n",
    "stan1x1 = np.outer(baza[1], baza[1])\n",
    "stan2x2 = np.outer(baza[2], baza[2])\n",
    "\n",
    "stanPlus = multi_dot([fCheck, baza[0]])\n",
    "\n",
    "stanPrzygotowany = np.kron(fCheck, np.kron(np.identity(4), np.identity(4)))\n",
    "\n",
    "Cz01 = np.kron(stan0x0, fCheck) + np.kron(stan1x1, multi_dot([fCheck, fCheck])) + np.kron(stan2x2, np.identity(4))\n",
    "CZ01 = np.kron(Cz01, np.identity(4))\n",
    "\n",
    "\n",
    "\n",
    "Cz02 = np.kron(np.kron(stan0x0, np.identity(4)), fCheck) + np.kron(np.kron(stan1x1, np.identity(4)), np.identity(4)) + np.kron(np.kron(stan2x2, np.identity(4)), multi_dot([fCheck, fCheck]))\n",
    "\n",
    "\n",
    "#print(f'Cz02 = {Cz02}')\n",
    "\n",
    "Cz12 = np.kron(np.identity(4), np.kron(stan0x0, np.identity(4)) + np.kron(stan1x1, fCheck) + np.kron(stan2x2, multi_dot([fCheck, fCheck])))\n",
    "\n",
    "\n",
    "\n",
    "U = multi_dot([CZ01, Cz02, stanPrzygotowany])\n",
    "\n",
    "#print(f'GHZ = {GHZ}')\n",
    "\n",
    "stanStart = np.kron(baza[0], np.kron(baza[0], baza[0]))\n",
    "\n",
    "GHZ = multi_dot([U, stanStart])\n",
    "\n",
    "wspolczynnik_zmiany_bazy = np.kron(np.identity(4), np.kron(fCheck.conj().T, fCheck.conj().T))\n",
    "\n",
    "GHZqubity = multi_dot([wspolczynnik_zmiany_bazy, GHZ])\n"
   ],
   "id": "b109270ae4e8f3a",
   "outputs": [],
   "execution_count": 60
  },
  {
   "metadata": {
    "ExecuteTime": {
     "end_time": "2024-11-26T23:13:31.543163Z",
     "start_time": "2024-11-26T23:13:31.517167Z"
    }
   },
   "cell_type": "code",
   "source": "np.kron(np.outer(qubity[0], qubity[0]), np.identity(2)) + np.kron(np.outer(qubity[1], qubity[1]), Z)",
   "id": "3f64894793f12313",
   "outputs": [
    {
     "data": {
      "text/plain": [
       "array([[ 1.+0.j,  0.+0.j,  0.+0.j,  0.+0.j],\n",
       "       [ 0.+0.j,  1.+0.j,  0.+0.j,  0.+0.j],\n",
       "       [ 0.+0.j,  0.+0.j,  1.+0.j,  0.+0.j],\n",
       "       [ 0.+0.j,  0.+0.j,  0.+0.j, -1.+0.j]])"
      ]
     },
     "execution_count": 47,
     "metadata": {},
     "output_type": "execute_result"
    }
   ],
   "execution_count": 47
  },
  {
   "metadata": {
    "ExecuteTime": {
     "end_time": "2024-11-26T23:13:33.170162Z",
     "start_time": "2024-11-26T23:13:33.154167Z"
    }
   },
   "cell_type": "code",
   "source": "stanPrzygotowany.shape",
   "id": "5c725d51da436d31",
   "outputs": [
    {
     "data": {
      "text/plain": [
       "(64, 64)"
      ]
     },
     "execution_count": 48,
     "metadata": {},
     "output_type": "execute_result"
    }
   ],
   "execution_count": 48
  },
  {
   "metadata": {
    "ExecuteTime": {
     "end_time": "2024-11-26T23:13:34.320180Z",
     "start_time": "2024-11-26T23:13:34.299187Z"
    }
   },
   "cell_type": "code",
   "source": "GHZ.shape",
   "id": "7613cfbaf774bf20",
   "outputs": [
    {
     "data": {
      "text/plain": [
       "(64,)"
      ]
     },
     "execution_count": 49,
     "metadata": {},
     "output_type": "execute_result"
    }
   ],
   "execution_count": 49
  },
  {
   "metadata": {
    "ExecuteTime": {
     "end_time": "2024-11-26T23:13:35.063150Z",
     "start_time": "2024-11-26T23:13:35.042115Z"
    }
   },
   "cell_type": "code",
   "source": "stan0x0.round(3)",
   "id": "3eaeffc6db89b650",
   "outputs": [
    {
     "data": {
      "text/plain": [
       "array([[ 0.789+0.j, -0.408-0.j,  0.   +0.j,  0.   +0.j],\n",
       "       [-0.408-0.j,  0.211+0.j, -0.   -0.j,  0.   -0.j],\n",
       "       [ 0.   +0.j, -0.   -0.j,  0.   +0.j,  0.   +0.j],\n",
       "       [ 0.   +0.j,  0.   -0.j,  0.   +0.j,  0.   +0.j]])"
      ]
     },
     "execution_count": 50,
     "metadata": {},
     "output_type": "execute_result"
    }
   ],
   "execution_count": 50
  },
  {
   "metadata": {
    "ExecuteTime": {
     "end_time": "2024-11-26T23:13:35.769332Z",
     "start_time": "2024-11-26T23:13:35.756330Z"
    }
   },
   "cell_type": "code",
   "source": "stan1x1",
   "id": "314051f38dc25977",
   "outputs": [
    {
     "data": {
      "text/plain": [
       "array([[ 0.10566243+2.90324630e-17j,  0.20412415+2.80432058e-17j,\n",
       "        -0.22985042-2.25554009e-17j,  0.        +0.00000000e+00j],\n",
       "       [ 0.20412415+2.80432058e-17j,  0.39433757+0.00000000e+00j,\n",
       "        -0.44403692+1.74294754e-17j,  0.        +0.00000000e+00j],\n",
       "       [-0.22985042-2.25554009e-17j, -0.44403692+1.74294754e-17j,\n",
       "         0.5       -3.92523115e-17j, -0.        +0.00000000e+00j],\n",
       "       [ 0.        +0.00000000e+00j,  0.        +0.00000000e+00j,\n",
       "        -0.        +0.00000000e+00j,  0.        +0.00000000e+00j]])"
      ]
     },
     "execution_count": 51,
     "metadata": {},
     "output_type": "execute_result"
    }
   ],
   "execution_count": 51
  },
  {
   "metadata": {
    "ExecuteTime": {
     "end_time": "2024-11-26T23:13:36.831083Z",
     "start_time": "2024-11-26T23:13:36.821083Z"
    }
   },
   "cell_type": "code",
   "source": "stan2x2",
   "id": "f93be8a5a555b40",
   "outputs": [
    {
     "data": {
      "text/plain": [
       "array([[0.10566243+2.90324630e-17j, 0.20412415+2.80432058e-17j,\n",
       "        0.22985042+3.15775612e-17j, 0.        +0.00000000e+00j],\n",
       "       [0.20412415+2.80432058e-17j, 0.39433757+0.00000000e+00j,\n",
       "        0.44403692+0.00000000e+00j, 0.        +0.00000000e+00j],\n",
       "       [0.22985042+3.15775612e-17j, 0.44403692+0.00000000e+00j,\n",
       "        0.5       +0.00000000e+00j, 0.        +0.00000000e+00j],\n",
       "       [0.        +0.00000000e+00j, 0.        +0.00000000e+00j,\n",
       "        0.        +0.00000000e+00j, 0.        +0.00000000e+00j]])"
      ]
     },
     "execution_count": 52,
     "metadata": {},
     "output_type": "execute_result"
    }
   ],
   "execution_count": 52
  },
  {
   "metadata": {
    "ExecuteTime": {
     "end_time": "2024-11-26T23:13:37.660048Z",
     "start_time": "2024-11-26T23:13:37.646053Z"
    }
   },
   "cell_type": "code",
   "source": "(multi_dot([fCheck, baza[1]]) * np.sqrt(3)).round(3)",
   "id": "66b95451ca11a19b",
   "outputs": [
    {
     "data": {
      "text/plain": [
       "array([0.246+0.j   , 0.365+1.156j, 0.365-1.156j, 0.   +0.j   ])"
      ]
     },
     "execution_count": 53,
     "metadata": {},
     "output_type": "execute_result"
    }
   ],
   "execution_count": 53
  },
  {
   "metadata": {
    "ExecuteTime": {
     "end_time": "2024-11-26T23:13:38.057051Z",
     "start_time": "2024-11-26T23:13:38.041052Z"
    }
   },
   "cell_type": "code",
   "source": "(multi_dot([fCheck, baza[2]]))",
   "id": "cd7898d8a685f000",
   "outputs": [
    {
     "data": {
      "text/plain": [
       "array([ 0.95847505+2.57829721e-17j, -0.19772932-3.95718755e-02j,\n",
       "       -0.19772932+3.95718755e-02j,  0.        +0.00000000e+00j])"
      ]
     },
     "execution_count": 54,
     "metadata": {},
     "output_type": "execute_result"
    }
   ],
   "execution_count": 54
  },
  {
   "metadata": {
    "ExecuteTime": {
     "end_time": "2024-11-26T23:13:38.530890Z",
     "start_time": "2024-11-26T23:13:38.506897Z"
    }
   },
   "cell_type": "code",
   "source": "Cz01.round(3)",
   "id": "309c1cc873d4f544",
   "outputs": [
    {
     "data": {
      "text/plain": [
       "array([[ 0.667+0.j   ,  0.455+0.j   ,  0.455+0.j   ,  0.   +0.j   ,\n",
       "         0.173+0.j   , -0.236-0.j   , -0.236-0.j   ,  0.   +0.j   ,\n",
       "        -0.   +0.j   , -0.   -0.j   , -0.   -0.j   ,  0.   +0.j   ,\n",
       "         0.   +0.j   ,  0.   +0.j   ,  0.   +0.j   ,  0.   +0.j   ],\n",
       "       [ 0.455+0.j   , -0.122+0.394j, -0.122-0.394j,  0.   +0.j   ,\n",
       "        -0.236-0.j   ,  0.322-0.204j,  0.322+0.204j,  0.   +0.j   ,\n",
       "        -0.   -0.j   ,  0.23 +0.j   , -0.23 -0.j   ,  0.   +0.j   ,\n",
       "         0.   +0.j   ,  0.   +0.j   ,  0.   +0.j   ,  0.   +0.j   ],\n",
       "       [ 0.455+0.j   , -0.122-0.394j, -0.122+0.394j,  0.   +0.j   ,\n",
       "        -0.236-0.j   ,  0.322+0.204j,  0.322-0.204j,  0.   +0.j   ,\n",
       "        -0.   -0.j   , -0.23 -0.j   ,  0.23 +0.j   ,  0.   +0.j   ,\n",
       "         0.   +0.j   ,  0.   +0.j   ,  0.   +0.j   ,  0.   +0.j   ],\n",
       "       [ 0.   +0.j   ,  0.   +0.j   ,  0.   +0.j   ,  1.   +0.j   ,\n",
       "         0.   +0.j   ,  0.   +0.j   ,  0.   +0.j   ,  0.   +0.j   ,\n",
       "         0.   +0.j   ,  0.   +0.j   ,  0.   +0.j   ,  0.   +0.j   ,\n",
       "         0.   +0.j   ,  0.   +0.j   ,  0.   +0.j   ,  0.   +0.j   ],\n",
       "       [ 0.173+0.j   , -0.236-0.j   , -0.236-0.j   ,  0.   +0.j   ,\n",
       "         0.911+0.j   ,  0.122+0.j   ,  0.122+0.j   ,  0.   +0.j   ,\n",
       "        -0.   +0.j   , -0.   +0.j   , -0.   +0.j   ,  0.   +0.j   ,\n",
       "         0.   +0.j   ,  0.   +0.j   ,  0.   +0.j   ,  0.   +0.j   ],\n",
       "       [-0.236-0.j   ,  0.322-0.204j,  0.322+0.204j,  0.   +0.j   ,\n",
       "         0.122+0.j   ,  0.333+0.106j,  0.333-0.106j,  0.   +0.j   ,\n",
       "        -0.   +0.j   ,  0.444-0.j   , -0.444+0.j   ,  0.   +0.j   ,\n",
       "         0.   +0.j   ,  0.   +0.j   ,  0.   +0.j   ,  0.   +0.j   ],\n",
       "       [-0.236-0.j   ,  0.322+0.204j,  0.322-0.204j,  0.   +0.j   ,\n",
       "         0.122+0.j   ,  0.333-0.106j,  0.333+0.106j,  0.   +0.j   ,\n",
       "        -0.   +0.j   , -0.444+0.j   ,  0.444-0.j   ,  0.   +0.j   ,\n",
       "         0.   +0.j   ,  0.   +0.j   ,  0.   +0.j   ,  0.   +0.j   ],\n",
       "       [ 0.   +0.j   ,  0.   +0.j   ,  0.   +0.j   ,  0.   +0.j   ,\n",
       "         0.   +0.j   ,  0.   +0.j   ,  0.   +0.j   ,  1.   +0.j   ,\n",
       "         0.   +0.j   ,  0.   +0.j   ,  0.   +0.j   ,  0.   +0.j   ,\n",
       "         0.   +0.j   ,  0.   +0.j   ,  0.   +0.j   ,  0.   +0.j   ],\n",
       "       [-0.   +0.j   , -0.   -0.j   , -0.   -0.j   ,  0.   +0.j   ,\n",
       "        -0.   +0.j   , -0.   +0.j   , -0.   +0.j   ,  0.   +0.j   ,\n",
       "         1.   -0.j   ,  0.   -0.j   ,  0.   -0.j   ,  0.   +0.j   ,\n",
       "         0.   +0.j   ,  0.   +0.j   ,  0.   +0.j   ,  0.   +0.j   ],\n",
       "       [-0.   -0.j   ,  0.23 +0.j   , -0.23 -0.j   ,  0.   +0.j   ,\n",
       "        -0.   +0.j   ,  0.444-0.j   , -0.444+0.j   ,  0.   +0.j   ,\n",
       "         0.   -0.j   ,  0.5  +0.j   ,  0.5  -0.j   ,  0.   +0.j   ,\n",
       "         0.   +0.j   ,  0.   +0.j   ,  0.   +0.j   ,  0.   +0.j   ],\n",
       "       [-0.   -0.j   , -0.23 -0.j   ,  0.23 +0.j   ,  0.   +0.j   ,\n",
       "        -0.   +0.j   , -0.444+0.j   ,  0.444-0.j   ,  0.   +0.j   ,\n",
       "         0.   -0.j   ,  0.5  -0.j   ,  0.5  +0.j   ,  0.   +0.j   ,\n",
       "         0.   +0.j   ,  0.   +0.j   ,  0.   +0.j   ,  0.   +0.j   ],\n",
       "       [ 0.   +0.j   ,  0.   +0.j   ,  0.   +0.j   ,  0.   +0.j   ,\n",
       "         0.   +0.j   ,  0.   +0.j   ,  0.   +0.j   ,  0.   +0.j   ,\n",
       "         0.   +0.j   ,  0.   +0.j   ,  0.   +0.j   ,  1.   -0.j   ,\n",
       "         0.   +0.j   ,  0.   +0.j   ,  0.   +0.j   ,  0.   +0.j   ],\n",
       "       [ 0.   +0.j   ,  0.   +0.j   ,  0.   +0.j   ,  0.   +0.j   ,\n",
       "         0.   +0.j   ,  0.   +0.j   ,  0.   +0.j   ,  0.   +0.j   ,\n",
       "         0.   +0.j   ,  0.   +0.j   ,  0.   +0.j   ,  0.   +0.j   ,\n",
       "         0.   +0.j   ,  0.   +0.j   ,  0.   +0.j   ,  0.   +0.j   ],\n",
       "       [ 0.   +0.j   ,  0.   +0.j   ,  0.   +0.j   ,  0.   +0.j   ,\n",
       "         0.   +0.j   ,  0.   +0.j   ,  0.   +0.j   ,  0.   +0.j   ,\n",
       "         0.   +0.j   ,  0.   +0.j   ,  0.   +0.j   ,  0.   +0.j   ,\n",
       "         0.   +0.j   ,  0.   +0.j   ,  0.   +0.j   ,  0.   +0.j   ],\n",
       "       [ 0.   +0.j   ,  0.   +0.j   ,  0.   +0.j   ,  0.   +0.j   ,\n",
       "         0.   +0.j   ,  0.   +0.j   ,  0.   +0.j   ,  0.   +0.j   ,\n",
       "         0.   +0.j   ,  0.   +0.j   ,  0.   +0.j   ,  0.   +0.j   ,\n",
       "         0.   +0.j   ,  0.   +0.j   ,  0.   +0.j   ,  0.   +0.j   ],\n",
       "       [ 0.   +0.j   ,  0.   +0.j   ,  0.   +0.j   ,  0.   +0.j   ,\n",
       "         0.   +0.j   ,  0.   +0.j   ,  0.   +0.j   ,  0.   +0.j   ,\n",
       "         0.   +0.j   ,  0.   +0.j   ,  0.   +0.j   ,  0.   +0.j   ,\n",
       "         0.   +0.j   ,  0.   +0.j   ,  0.   +0.j   ,  0.   +0.j   ]])"
      ]
     },
     "execution_count": 55,
     "metadata": {},
     "output_type": "execute_result"
    }
   ],
   "execution_count": 55
  },
  {
   "metadata": {
    "ExecuteTime": {
     "end_time": "2024-11-26T23:13:39.606943Z",
     "start_time": "2024-11-26T23:13:39.587949Z"
    }
   },
   "cell_type": "code",
   "source": "np.dot(Cz01, Cz01.conj().T).round(2)",
   "id": "8547e1c3936a66f0",
   "outputs": [
    {
     "data": {
      "text/plain": [
       "array([[ 1.+0.j,  0.-0.j,  0.-0.j,  0.+0.j,  0.+0.j,  0.-0.j,  0.-0.j,\n",
       "         0.+0.j, -0.-0.j, -0.-0.j, -0.-0.j,  0.+0.j,  0.+0.j,  0.+0.j,\n",
       "         0.+0.j,  0.+0.j],\n",
       "       [ 0.+0.j,  1.-0.j, -0.-0.j,  0.+0.j,  0.-0.j,  0.+0.j,  0.+0.j,\n",
       "         0.+0.j, -0.-0.j,  0.+0.j,  0.-0.j,  0.+0.j,  0.+0.j,  0.+0.j,\n",
       "         0.+0.j,  0.+0.j],\n",
       "       [ 0.+0.j, -0.-0.j,  1.-0.j,  0.+0.j,  0.-0.j,  0.+0.j,  0.+0.j,\n",
       "         0.+0.j, -0.-0.j,  0.+0.j,  0.+0.j,  0.+0.j,  0.+0.j,  0.+0.j,\n",
       "         0.+0.j,  0.+0.j],\n",
       "       [ 0.+0.j,  0.+0.j,  0.+0.j,  1.+0.j,  0.+0.j,  0.+0.j,  0.+0.j,\n",
       "         0.-0.j,  0.+0.j,  0.+0.j,  0.+0.j,  0.+0.j,  0.+0.j,  0.+0.j,\n",
       "         0.+0.j,  0.+0.j],\n",
       "       [ 0.-0.j,  0.+0.j,  0.+0.j,  0.+0.j,  1.-0.j,  0.-0.j,  0.-0.j,\n",
       "         0.+0.j, -0.-0.j, -0.-0.j, -0.-0.j,  0.+0.j,  0.+0.j,  0.+0.j,\n",
       "         0.+0.j,  0.+0.j],\n",
       "       [ 0.+0.j,  0.-0.j,  0.-0.j,  0.+0.j,  0.-0.j,  1.-0.j, -0.-0.j,\n",
       "         0.+0.j, -0.-0.j,  0.-0.j,  0.+0.j,  0.+0.j,  0.+0.j,  0.+0.j,\n",
       "         0.+0.j,  0.+0.j],\n",
       "       [ 0.+0.j,  0.-0.j,  0.-0.j,  0.+0.j,  0.-0.j, -0.-0.j,  1.+0.j,\n",
       "         0.+0.j, -0.-0.j,  0.+0.j,  0.-0.j,  0.+0.j,  0.+0.j,  0.+0.j,\n",
       "         0.+0.j,  0.+0.j],\n",
       "       [ 0.+0.j,  0.+0.j,  0.+0.j,  0.+0.j,  0.+0.j,  0.+0.j,  0.+0.j,\n",
       "         1.+0.j,  0.+0.j,  0.+0.j,  0.+0.j,  0.+0.j,  0.+0.j,  0.+0.j,\n",
       "         0.+0.j,  0.+0.j],\n",
       "       [-0.+0.j, -0.+0.j, -0.+0.j,  0.+0.j, -0.+0.j, -0.+0.j, -0.+0.j,\n",
       "         0.+0.j,  1.-0.j,  0.+0.j,  0.+0.j,  0.+0.j,  0.+0.j,  0.+0.j,\n",
       "         0.+0.j,  0.+0.j],\n",
       "       [-0.+0.j,  0.-0.j,  0.-0.j,  0.+0.j, -0.+0.j,  0.+0.j,  0.-0.j,\n",
       "         0.+0.j,  0.+0.j,  1.-0.j, -0.-0.j,  0.+0.j,  0.+0.j,  0.+0.j,\n",
       "         0.+0.j,  0.+0.j],\n",
       "       [-0.+0.j,  0.+0.j,  0.-0.j,  0.+0.j, -0.+0.j,  0.-0.j,  0.+0.j,\n",
       "         0.+0.j,  0.+0.j, -0.-0.j,  1.-0.j,  0.+0.j,  0.+0.j,  0.+0.j,\n",
       "         0.+0.j,  0.+0.j],\n",
       "       [ 0.+0.j,  0.+0.j,  0.+0.j,  0.-0.j,  0.+0.j,  0.+0.j,  0.+0.j,\n",
       "         0.-0.j,  0.+0.j,  0.+0.j,  0.+0.j,  1.+0.j,  0.+0.j,  0.+0.j,\n",
       "         0.+0.j,  0.+0.j],\n",
       "       [ 0.+0.j,  0.+0.j,  0.+0.j,  0.+0.j,  0.+0.j,  0.+0.j,  0.+0.j,\n",
       "         0.+0.j,  0.+0.j,  0.+0.j,  0.+0.j,  0.+0.j,  0.+0.j,  0.+0.j,\n",
       "         0.+0.j,  0.+0.j],\n",
       "       [ 0.+0.j,  0.+0.j,  0.+0.j,  0.+0.j,  0.+0.j,  0.+0.j,  0.+0.j,\n",
       "         0.+0.j,  0.+0.j,  0.+0.j,  0.+0.j,  0.+0.j,  0.+0.j,  0.+0.j,\n",
       "         0.+0.j,  0.+0.j],\n",
       "       [ 0.+0.j,  0.+0.j,  0.+0.j,  0.+0.j,  0.+0.j,  0.+0.j,  0.+0.j,\n",
       "         0.+0.j,  0.+0.j,  0.+0.j,  0.+0.j,  0.+0.j,  0.+0.j,  0.+0.j,\n",
       "         0.+0.j,  0.+0.j],\n",
       "       [ 0.+0.j,  0.+0.j,  0.+0.j,  0.+0.j,  0.+0.j,  0.+0.j,  0.+0.j,\n",
       "         0.+0.j,  0.+0.j,  0.+0.j,  0.+0.j,  0.+0.j,  0.+0.j,  0.+0.j,\n",
       "         0.+0.j,  0.+0.j]])"
      ]
     },
     "execution_count": 56,
     "metadata": {},
     "output_type": "execute_result"
    }
   ],
   "execution_count": 56
  },
  {
   "metadata": {
    "ExecuteTime": {
     "end_time": "2024-11-26T23:13:55.968217Z",
     "start_time": "2024-11-26T23:13:55.960211Z"
    }
   },
   "cell_type": "code",
   "source": "(GHZ * np.sqrt(3)).round(3)",
   "id": "3448820a2093a0fb",
   "outputs": [
    {
     "data": {
      "text/plain": [
       "array([ 0.424-0.118j, -0.016+0.103j, -0.245+0.015j,  0.   +0.j   ,\n",
       "       -0.226+0.029j,  0.005+0.094j,  0.056+0.078j,  0.   +0.j   ,\n",
       "       -0.035+0.09j , -0.052+0.04j , -0.091+0.024j,  0.   +0.j   ,\n",
       "        0.   +0.j   ,  0.   +0.j   ,  0.   +0.j   ,  0.   +0.j   ,\n",
       "        0.837-0.253j, -0.008+0.119j, -0.404-0.018j,  0.   +0.j   ,\n",
       "       -0.413-0.025j, -0.003-0.049j,  0.245-0.035j,  0.   +0.j   ,\n",
       "        0.002+0.126j,  0.036-0.11j ,  0.047-0.012j,  0.   +0.j   ,\n",
       "        0.   +0.j   ,  0.   +0.j   ,  0.   +0.j   ,  0.   +0.j   ,\n",
       "        0.882+0.314j,  0.015-0.153j, -0.471-0.009j,  0.   +0.j   ,\n",
       "       -0.471-0.009j, -0.   -0.j   ,  0.244+0.005j,  0.   +0.j   ,\n",
       "        0.015-0.153j, -0.008+0.079j, -0.   -0.j   ,  0.   +0.j   ,\n",
       "        0.   +0.j   ,  0.   +0.j   ,  0.   +0.j   ,  0.   +0.j   ,\n",
       "        0.   +0.j   ,  0.   +0.j   ,  0.   +0.j   ,  0.   +0.j   ,\n",
       "        0.   +0.j   ,  0.   +0.j   ,  0.   +0.j   ,  0.   +0.j   ,\n",
       "        0.   +0.j   ,  0.   +0.j   ,  0.   +0.j   ,  0.   +0.j   ,\n",
       "        0.   +0.j   ,  0.   +0.j   ,  0.   +0.j   ,  0.   +0.j   ])"
      ]
     },
     "execution_count": 57,
     "metadata": {},
     "output_type": "execute_result"
    }
   ],
   "execution_count": 57
  },
  {
   "metadata": {
    "ExecuteTime": {
     "end_time": "2024-11-26T19:31:40.067325Z",
     "start_time": "2024-11-26T19:31:40.055310Z"
    }
   },
   "cell_type": "code",
   "source": "(GHZqubity).round(3)",
   "id": "de3450a05940fa3e",
   "outputs": [
    {
     "data": {
      "text/plain": [
       "array([-0.035+0.068j,  0.084-0.07j ,  0.044+0.002j,  0.   +0.j   ,\n",
       "        0.072-0.036j,  0.134-0.024j,  0.084+0.054j,  0.   +0.j   ,\n",
       "        0.056-0.032j,  0.146-0.122j,  0.148-0.044j,  0.   +0.j   ,\n",
       "        0.   +0.j   ,  0.   +0.j   ,  0.   +0.j   ,  0.   +0.j   ,\n",
       "        0.065-0.049j,  0.095-0.042j,  0.086+0.004j,  0.   +0.j   ,\n",
       "        0.071+0.023j,  0.294-0.095j,  0.161+0.104j,  0.   +0.j   ,\n",
       "        0.109-0.062j,  0.282-0.236j,  0.286-0.085j,  0.   +0.j   ,\n",
       "        0.   +0.j   ,  0.   +0.j   ,  0.   +0.j   ,  0.   +0.j   ,\n",
       "        0.039+0.014j,  0.091-0.002j,  0.115+0.076j,  0.   +0.j   ,\n",
       "        0.115+0.076j,  0.303+0.108j,  0.295+0.287j,  0.   +0.j   ,\n",
       "        0.091-0.002j,  0.174-0.12j ,  0.303+0.108j,  0.   +0.j   ,\n",
       "        0.   +0.j   ,  0.   +0.j   ,  0.   +0.j   ,  0.   +0.j   ,\n",
       "        0.   +0.j   ,  0.   +0.j   ,  0.   +0.j   ,  0.   +0.j   ,\n",
       "        0.   +0.j   ,  0.   +0.j   ,  0.   +0.j   ,  0.   +0.j   ,\n",
       "        0.   +0.j   ,  0.   +0.j   ,  0.   +0.j   ,  0.   +0.j   ,\n",
       "        0.   +0.j   ,  0.   +0.j   ,  0.   +0.j   ,  0.   +0.j   ])"
      ]
     },
     "execution_count": 43,
     "metadata": {},
     "output_type": "execute_result"
    }
   ],
   "execution_count": 43
  },
  {
   "metadata": {
    "ExecuteTime": {
     "end_time": "2024-11-26T19:31:47.706244Z",
     "start_time": "2024-11-26T19:31:47.693245Z"
    }
   },
   "cell_type": "code",
   "source": "np.kron(baza[0], np.kron(baza[0], baza[0])) + np.kron(baza[1], np.kron(baza[1], baza[1])) + np.kron(baza[2], np.kron(baza[2], baza[2])).round(2)",
   "id": "dffe8597c0464068",
   "outputs": [
    {
     "data": {
      "text/plain": [
       "array([ 0.76474813+1.41558334e-17j, -0.22620252-3.15775612e-17j,\n",
       "       -0.00471462-1.75963298e-17j,  0.        +0.00000000e+00j,\n",
       "       -0.22620252-3.15775612e-17j,  0.4458545 +6.91760380e-17j,\n",
       "       -0.00433757-1.41639579e-17j,  0.        +0.00000000e+00j,\n",
       "       -0.00471462-1.75963298e-17j, -0.00433757-1.41639579e-17j,\n",
       "        0.32252879+9.56944614e-18j,  0.        +0.00000000e+00j,\n",
       "        0.        +0.00000000e+00j,  0.        +0.00000000e+00j,\n",
       "        0.        +0.00000000e+00j,  0.        +0.00000000e+00j,\n",
       "       -0.22620252-3.15775612e-17j,  0.4458545 +6.91760380e-17j,\n",
       "       -0.00433757-1.41639579e-17j,  0.        +0.00000000e+00j,\n",
       "        0.4458545 +6.91760380e-17j,  0.40048319-4.00387432e-17j,\n",
       "        0.00116123+1.09450662e-17j,  0.        +0.00000000e+00j,\n",
       "       -0.00433757-1.41639579e-17j,  0.00116123+1.09450662e-17j,\n",
       "        0.62398152-2.46490005e-17j,  0.        +0.00000000e+00j,\n",
       "        0.        +0.00000000e+00j,  0.        +0.00000000e+00j,\n",
       "        0.        +0.00000000e+00j,  0.        +0.00000000e+00j,\n",
       "       -0.00471462-1.75963298e-17j, -0.00433757-1.41639579e-17j,\n",
       "        0.32252879+9.56944614e-18j,  0.        +0.00000000e+00j,\n",
       "       -0.00433757-1.41639579e-17j,  0.00116123+1.09450662e-17j,\n",
       "        0.62398152-2.46490005e-17j,  0.        +0.00000000e+00j,\n",
       "        0.32252879+9.56944614e-18j,  0.62398152-2.46490005e-17j,\n",
       "       -0.00355339+4.16333634e-17j,  0.        +0.00000000e+00j,\n",
       "        0.        +0.00000000e+00j,  0.        +0.00000000e+00j,\n",
       "        0.        +0.00000000e+00j,  0.        +0.00000000e+00j,\n",
       "        0.        +0.00000000e+00j,  0.        +0.00000000e+00j,\n",
       "        0.        +0.00000000e+00j,  0.        +0.00000000e+00j,\n",
       "        0.        +0.00000000e+00j,  0.        +0.00000000e+00j,\n",
       "        0.        +0.00000000e+00j,  0.        +0.00000000e+00j,\n",
       "        0.        +0.00000000e+00j,  0.        +0.00000000e+00j,\n",
       "        0.        +0.00000000e+00j,  0.        +0.00000000e+00j,\n",
       "        0.        +0.00000000e+00j,  0.        +0.00000000e+00j,\n",
       "        0.        +0.00000000e+00j,  0.        +0.00000000e+00j])"
      ]
     },
     "execution_count": 44,
     "metadata": {},
     "output_type": "execute_result"
    }
   ],
   "execution_count": 44
  },
  {
   "metadata": {
    "ExecuteTime": {
     "end_time": "2024-11-20T09:23:16.922950Z",
     "start_time": "2024-11-20T09:23:16.909164Z"
    }
   },
   "cell_type": "code",
   "source": [
    "zeroQ3 = np.array([[1], [0], [0]])\n",
    "oneQ3 = np.array([[0], [1], [0]])\n",
    "twoQ3 = np.array([[0], [0], [1]])"
   ],
   "id": "7c5c08f46fde4307",
   "outputs": [],
   "execution_count": 20
  },
  {
   "metadata": {},
   "cell_type": "code",
   "outputs": [],
   "execution_count": null,
   "source": "",
   "id": "4f021e9f64cd7e1"
  },
  {
   "metadata": {
    "ExecuteTime": {
     "end_time": "2024-11-20T09:30:27.863309Z",
     "start_time": "2024-11-20T09:30:27.854118Z"
    }
   },
   "cell_type": "code",
   "source": [
    "zeroXzeroQ3 = np.outer(zeroQ3, zeroQ3)\n",
    "oneXoneQ3 = np.outer(oneQ3, oneQ3)\n",
    "twoXtwoQ3 = np.outer(twoQ3, twoQ3)"
   ],
   "id": "9e8d362556984ed5",
   "outputs": [],
   "execution_count": 33
  },
  {
   "metadata": {
    "ExecuteTime": {
     "end_time": "2024-11-20T09:27:39.590470Z",
     "start_time": "2024-11-20T09:27:39.579960Z"
    }
   },
   "cell_type": "code",
   "source": "1j",
   "id": "db654594cc455f72",
   "outputs": [
    {
     "data": {
      "text/plain": [
       "1j"
      ]
     },
     "execution_count": 27,
     "metadata": {},
     "output_type": "execute_result"
    }
   ],
   "execution_count": 27
  },
  {
   "metadata": {
    "ExecuteTime": {
     "end_time": "2024-11-20T09:28:59.758061Z",
     "start_time": "2024-11-20T09:28:59.742426Z"
    }
   },
   "cell_type": "code",
   "source": "F = np.array([[1, 0, 0], [0, np.exp(np.pi*2/3 * 1j), 0], [0, 0, np.exp(np.pi*4/3 * 1j)]])",
   "id": "8eee1ede32b87288",
   "outputs": [],
   "execution_count": 30
  },
  {
   "metadata": {
    "ExecuteTime": {
     "end_time": "2024-11-20T09:29:06.230191Z",
     "start_time": "2024-11-20T09:29:06.217138Z"
    }
   },
   "cell_type": "code",
   "source": "F.round(3)",
   "id": "f0a44e62c5c2a8ec",
   "outputs": [
    {
     "data": {
      "text/plain": [
       "array([[ 1. +0.j   ,  0. +0.j   ,  0. +0.j   ],\n",
       "       [ 0. +0.j   , -0.5+0.866j,  0. +0.j   ],\n",
       "       [ 0. +0.j   ,  0. +0.j   , -0.5-0.866j]])"
      ]
     },
     "execution_count": 32,
     "metadata": {},
     "output_type": "execute_result"
    }
   ],
   "execution_count": 32
  },
  {
   "metadata": {
    "ExecuteTime": {
     "end_time": "2024-11-20T09:31:22.829990Z",
     "start_time": "2024-11-20T09:31:22.814365Z"
    }
   },
   "cell_type": "code",
   "source": "czTEST = np.kron(zeroXzeroQ3, np.identity(3)) + np.kron(oneXoneQ3, F) + np.kron(twoXtwoQ3, multi_dot([F, F]))",
   "id": "64afe1b5d0fb0921",
   "outputs": [],
   "execution_count": 35
  },
  {
   "metadata": {
    "ExecuteTime": {
     "end_time": "2024-11-20T09:31:26.972593Z",
     "start_time": "2024-11-20T09:31:26.961940Z"
    }
   },
   "cell_type": "code",
   "source": "czTEST",
   "id": "936929f6396b7e00",
   "outputs": [
    {
     "data": {
      "text/plain": [
       "array([[ 1. +0.j       ,  0. +0.j       ,  0. +0.j       ,\n",
       "         0. +0.j       ,  0. +0.j       ,  0. +0.j       ,\n",
       "         0. +0.j       ,  0. +0.j       ,  0. +0.j       ],\n",
       "       [ 0. +0.j       ,  1. +0.j       ,  0. +0.j       ,\n",
       "         0. +0.j       ,  0. +0.j       ,  0. +0.j       ,\n",
       "         0. +0.j       ,  0. +0.j       ,  0. +0.j       ],\n",
       "       [ 0. +0.j       ,  0. +0.j       ,  1. +0.j       ,\n",
       "         0. +0.j       ,  0. +0.j       ,  0. +0.j       ,\n",
       "         0. +0.j       ,  0. +0.j       ,  0. +0.j       ],\n",
       "       [ 0. +0.j       ,  0. +0.j       ,  0. +0.j       ,\n",
       "         1. +0.j       ,  0. +0.j       ,  0. +0.j       ,\n",
       "         0. +0.j       ,  0. +0.j       ,  0. +0.j       ],\n",
       "       [ 0. +0.j       ,  0. +0.j       ,  0. +0.j       ,\n",
       "         0. +0.j       , -0.5+0.8660254j,  0. +0.j       ,\n",
       "         0. +0.j       ,  0. +0.j       ,  0. +0.j       ],\n",
       "       [ 0. +0.j       ,  0. +0.j       ,  0. +0.j       ,\n",
       "         0. +0.j       ,  0. +0.j       , -0.5-0.8660254j,\n",
       "         0. +0.j       ,  0. +0.j       ,  0. +0.j       ],\n",
       "       [ 0. +0.j       ,  0. +0.j       ,  0. +0.j       ,\n",
       "         0. +0.j       ,  0. +0.j       ,  0. +0.j       ,\n",
       "         1. +0.j       ,  0. +0.j       ,  0. +0.j       ],\n",
       "       [ 0. +0.j       ,  0. +0.j       ,  0. +0.j       ,\n",
       "         0. +0.j       ,  0. +0.j       ,  0. +0.j       ,\n",
       "         0. +0.j       , -0.5-0.8660254j,  0. +0.j       ],\n",
       "       [ 0. +0.j       ,  0. +0.j       ,  0. +0.j       ,\n",
       "         0. +0.j       ,  0. +0.j       ,  0. +0.j       ,\n",
       "         0. +0.j       ,  0. +0.j       , -0.5+0.8660254j]])"
      ]
     },
     "execution_count": 36,
     "metadata": {},
     "output_type": "execute_result"
    }
   ],
   "execution_count": 36
  },
  {
   "metadata": {
    "ExecuteTime": {
     "end_time": "2024-11-20T09:31:47.849901Z",
     "start_time": "2024-11-20T09:31:47.837892Z"
    }
   },
   "cell_type": "code",
   "source": "np.dot(czTEST, czTEST.conj().T)",
   "id": "f25fc09f4abbb909",
   "outputs": [
    {
     "data": {
      "text/plain": [
       "array([[1.+0.j, 0.+0.j, 0.+0.j, 0.+0.j, 0.+0.j, 0.+0.j, 0.+0.j, 0.+0.j,\n",
       "        0.+0.j],\n",
       "       [0.+0.j, 1.+0.j, 0.+0.j, 0.+0.j, 0.+0.j, 0.+0.j, 0.+0.j, 0.+0.j,\n",
       "        0.+0.j],\n",
       "       [0.+0.j, 0.+0.j, 1.+0.j, 0.+0.j, 0.+0.j, 0.+0.j, 0.+0.j, 0.+0.j,\n",
       "        0.+0.j],\n",
       "       [0.+0.j, 0.+0.j, 0.+0.j, 1.+0.j, 0.+0.j, 0.+0.j, 0.+0.j, 0.+0.j,\n",
       "        0.+0.j],\n",
       "       [0.+0.j, 0.+0.j, 0.+0.j, 0.+0.j, 1.+0.j, 0.+0.j, 0.+0.j, 0.+0.j,\n",
       "        0.+0.j],\n",
       "       [0.+0.j, 0.+0.j, 0.+0.j, 0.+0.j, 0.+0.j, 1.+0.j, 0.+0.j, 0.+0.j,\n",
       "        0.+0.j],\n",
       "       [0.+0.j, 0.+0.j, 0.+0.j, 0.+0.j, 0.+0.j, 0.+0.j, 1.+0.j, 0.+0.j,\n",
       "        0.+0.j],\n",
       "       [0.+0.j, 0.+0.j, 0.+0.j, 0.+0.j, 0.+0.j, 0.+0.j, 0.+0.j, 1.+0.j,\n",
       "        0.+0.j],\n",
       "       [0.+0.j, 0.+0.j, 0.+0.j, 0.+0.j, 0.+0.j, 0.+0.j, 0.+0.j, 0.+0.j,\n",
       "        1.+0.j]])"
      ]
     },
     "execution_count": 37,
     "metadata": {},
     "output_type": "execute_result"
    }
   ],
   "execution_count": 37
  },
  {
   "metadata": {},
   "cell_type": "code",
   "outputs": [],
   "execution_count": null,
   "source": "",
   "id": "5553e19dfbe640b3"
  }
 ],
 "metadata": {
  "kernelspec": {
   "display_name": "Python 3",
   "language": "python",
   "name": "python3"
  },
  "language_info": {
   "codemirror_mode": {
    "name": "ipython",
    "version": 2
   },
   "file_extension": ".py",
   "mimetype": "text/x-python",
   "name": "python",
   "nbconvert_exporter": "python",
   "pygments_lexer": "ipython2",
   "version": "2.7.6"
  }
 },
 "nbformat": 4,
 "nbformat_minor": 5
}
