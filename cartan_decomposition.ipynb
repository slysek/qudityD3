{
 "cells": [
  {
   "metadata": {
    "ExecuteTime": {
     "end_time": "2024-11-19T22:49:42.357494Z",
     "start_time": "2024-11-19T22:49:42.319516Z"
    }
   },
   "cell_type": "code",
   "source": [
    "import numpy as np\n",
    "import qiskit.circuit.library as lib\n",
    "from qiskit.quantum_info import Operator\n",
    "from numpy.linalg import multi_dot\n",
    "from IPython.display import display, Latex\n",
    "\n",
    "def numpy_to_latex(matrix):\n",
    "    latex_code = \"\\\\begin{bmatrix}\\n\"\n",
    "    for row in matrix:\n",
    "        latex_code += \" & \".join(map(str, row)) + \" \\\\\\\\\\n\"\n",
    "    latex_code += \"\\\\end{bmatrix}\"\n",
    "    return latex_code\n",
    "\n",
    "\n",
    "Z = Operator(lib.ZGate())\n",
    "X = Operator(lib.XGate())\n",
    "\n",
    "def Ry(theta):\n",
    "    return Operator(lib.RYGate(theta))\n",
    "\n",
    "def P(theta):\n",
    "    return Operator(lib.PhaseGate(theta))\n",
    "\n",
    "u1 = multi_dot([X, Ry(np.arctan(1 + np.sqrt(3))), Z, P(np.pi * 3 / 16), X, P(np.pi * 15 / 16)])\n",
    "u2 = u1\n",
    "v1 = multi_dot([X, P(np.pi * 3 / 16), X, P(np.pi * 15 / 16), X, Ry(np.arctan(1 + np.sqrt(3))), Z, X])\n",
    "v2 = multi_dot([X, Z, X, P(np.pi * 9 / 16), X, P(np.pi * 13 / 16), X, Z, Ry(np.arctan(1 + np.sqrt(3)))])\n",
    "pi = np.pi\n",
    "sqrt = np.sqrt\n",
    "log = np.log\n",
    "\n",
    "common_log_term = log(-1 / 6 * (-1) ** (1 / 4) * (sqrt(24 - 6 * sqrt(3)) + 1j * (3 + sqrt(3))))\n",
    "common_factor = 3j + 1j * sqrt(3) + sqrt(6 * (4 - sqrt(3)))\n",
    "denominator = 15 * pi - 4 * 1j * common_log_term\n",
    "\n",
    "VCx = np.array([\n",
    "    [\n",
    "        -(((-1) ** (5 / 8) * common_factor * (30 * pi - 8 * 1j * common_log_term)) / (24 * denominator)) +\n",
    "        (3 * (-1) ** (5 / 8) * (-30 * pi + 8 * 1j * common_log_term)) / (2 * common_factor * denominator),\n",
    "        0,\n",
    "        0,\n",
    "        (3 * (-1) ** (5 / 8) * (-30 * pi + 8 * 1j * common_log_term)) / (2 * common_factor * denominator) -\n",
    "        ((-1) ** (5 / 8) * common_factor * (-30 * pi + 8 * 1j * common_log_term)) / (24 * denominator)\n",
    "    ],\n",
    "    [\n",
    "        0,\n",
    "        -(1 / 2) * (-1) ** (1 / 8) - (1 / 2) * (-1) ** (5 / 8),\n",
    "        -(1 / 2) * (-1) ** (1 / 8) + (1 / 2) * (-1) ** (5 / 8),\n",
    "        0\n",
    "    ],\n",
    "    [\n",
    "        0,\n",
    "        -(1 / 2) * (-1) ** (1 / 8) + (1 / 2) * (-1) ** (5 / 8),\n",
    "        -(1 / 2) * (-1) ** (1 / 8) - (1 / 2) * (-1) ** (5 / 8),\n",
    "        0\n",
    "    ],\n",
    "    [\n",
    "        (3 * (-1) ** (5 / 8) * (-30 * pi + 8 * 1j * common_log_term)) / (2 * common_factor * denominator) -\n",
    "        ((-1) ** (5 / 8) * common_factor * (-30 * pi + 8 * 1j * common_log_term)) / (24 * denominator),\n",
    "        0,\n",
    "        0,\n",
    "        -(((-1) ** (5 / 8) * common_factor * (30 * pi - 8 * 1j * common_log_term)) / (24 * denominator)) +\n",
    "        (3 * (-1) ** (5 / 8) * (-30 * pi + 8 * 1j * common_log_term)) / (2 * common_factor * denominator)\n",
    "    ]\n",
    "], dtype=complex)\n",
    "\n",
    "\n",
    "fCheck = multi_dot([np.kron(u1, u2), VCx, np.kron(v1, v2)]).round(7)\n",
    "\n",
    "zero_qubit = np.array([[1],[0]])\n",
    "one_qubit = np.array([[0],[1]])\n",
    "qubity = [zero_qubit, one_qubit]"
   ],
   "id": "22d20f16c9f5539b",
   "outputs": [],
   "execution_count": 121
  },
  {
   "metadata": {
    "ExecuteTime": {
     "end_time": "2024-11-20T01:22:28.774240Z",
     "start_time": "2024-11-20T01:22:28.766259Z"
    }
   },
   "cell_type": "code",
   "source": "baza = [np.kron(qubity[0], qubity[0]), np.kron(qubity[0], qubity[1]), np.kron(qubity[1], qubity[1])]",
   "id": "b109270ae4e8f3a",
   "outputs": [],
   "execution_count": 171
  },
  {
   "metadata": {
    "ExecuteTime": {
     "end_time": "2024-11-20T01:36:11.653553Z",
     "start_time": "2024-11-20T01:36:11.619575Z"
    }
   },
   "cell_type": "code",
   "source": [
    "stan0x0 = np.outer(baza[0], baza[0])\n",
    "stan1x1 = np.outer(baza[1], baza[1])\n",
    "stan2x2 = np.outer(baza[2], baza[2])\n",
    "\n",
    "stanPlus = multi_dot([fCheck, baza[0]])\n",
    "\n",
    "stanPrzygotowany = np.kron(fCheck, np.kron(np.identity(4), np.identity(4)))\n",
    "\n",
    "Cz01 = np.kron(stan0x0, fCheck) + np.kron(stan1x1, multi_dot([fCheck, fCheck])) + np.kron(stan2x2, np.identity(4))\n",
    "CZ01 = np.kron(Cz01, np.identity(4))\n",
    "\n",
    "\n",
    "\n",
    "Cz02 = np.kron(np.kron(stan0x0, np.identity(4)), fCheck) + np.kron(np.kron(stan1x1, np.identity(4)), np.identity(4)) + np.kron(np.kron(stan2x2, np.identity(4)), multi_dot([fCheck, fCheck]))\n",
    "\n",
    "\n",
    "#print(f'Cz02 = {Cz02}')\n",
    "\n",
    "'''\n",
    "Cz12 = np.kron(np.identity(4), np.kron(stan0x0, np.identity(4)) + np.kron(stan1x1, fCheck) + np.kron(stan2x2, multi_dot([fCheck, fCheck])))\n",
    "\n",
    "print(f'Cz12 = {Cz12}')\n",
    "'''\n",
    "\n",
    "U = multi_dot([CZ01, Cz02, stanPrzygotowany])\n",
    "\n",
    "#print(f'GHZ = {GHZ}')\n",
    "\n",
    "stanStart = np.kron(baza[0], np.kron(baza[0], baza[0]))\n",
    "\n",
    "GHZ = multi_dot([U, stanStart])\n",
    "\n",
    "wspolczynnik_zmiany_bazy = np.kron(np.identity(4), np.kron(fCheck.conj().T, fCheck.conj().T))\n",
    "\n",
    "GHZqubity = multi_dot([wspolczynnik_zmiany_bazy, GHZ])\n"
   ],
   "id": "be90502f8a7bbbf8",
   "outputs": [],
   "execution_count": 185
  },
  {
   "metadata": {
    "ExecuteTime": {
     "end_time": "2024-11-20T01:36:12.326170Z",
     "start_time": "2024-11-20T01:36:12.314180Z"
    }
   },
   "cell_type": "code",
   "source": "stanPrzygotowany.shape",
   "id": "5c725d51da436d31",
   "outputs": [
    {
     "data": {
      "text/plain": [
       "(64, 64)"
      ]
     },
     "execution_count": 186,
     "metadata": {},
     "output_type": "execute_result"
    }
   ],
   "execution_count": 186
  },
  {
   "metadata": {
    "ExecuteTime": {
     "end_time": "2024-11-20T01:36:12.593019Z",
     "start_time": "2024-11-20T01:36:12.580027Z"
    }
   },
   "cell_type": "code",
   "source": "GHZ.shape",
   "id": "7613cfbaf774bf20",
   "outputs": [
    {
     "data": {
      "text/plain": [
       "(64, 1)"
      ]
     },
     "execution_count": 187,
     "metadata": {},
     "output_type": "execute_result"
    }
   ],
   "execution_count": 187
  },
  {
   "metadata": {
    "ExecuteTime": {
     "end_time": "2024-11-20T01:36:13.545473Z",
     "start_time": "2024-11-20T01:36:13.537481Z"
    }
   },
   "cell_type": "code",
   "source": "stan0x0",
   "id": "3eaeffc6db89b650",
   "outputs": [
    {
     "data": {
      "text/plain": [
       "array([[1, 0, 0, 0],\n",
       "       [0, 0, 0, 0],\n",
       "       [0, 0, 0, 0],\n",
       "       [0, 0, 0, 0]])"
      ]
     },
     "execution_count": 188,
     "metadata": {},
     "output_type": "execute_result"
    }
   ],
   "execution_count": 188
  },
  {
   "metadata": {
    "ExecuteTime": {
     "end_time": "2024-11-20T01:36:14.561896Z",
     "start_time": "2024-11-20T01:36:14.550902Z"
    }
   },
   "cell_type": "code",
   "source": "stan1x1",
   "id": "314051f38dc25977",
   "outputs": [
    {
     "data": {
      "text/plain": [
       "array([[0, 0, 0, 0],\n",
       "       [0, 1, 0, 0],\n",
       "       [0, 0, 0, 0],\n",
       "       [0, 0, 0, 0]])"
      ]
     },
     "execution_count": 189,
     "metadata": {},
     "output_type": "execute_result"
    }
   ],
   "execution_count": 189
  },
  {
   "metadata": {
    "ExecuteTime": {
     "end_time": "2024-11-20T01:36:14.966663Z",
     "start_time": "2024-11-20T01:36:14.944676Z"
    }
   },
   "cell_type": "code",
   "source": "stan2x2",
   "id": "f93be8a5a555b40",
   "outputs": [
    {
     "data": {
      "text/plain": [
       "array([[0, 0, 0, 0],\n",
       "       [0, 0, 0, 0],\n",
       "       [0, 0, 0, 0],\n",
       "       [0, 0, 0, 1]])"
      ]
     },
     "execution_count": 190,
     "metadata": {},
     "output_type": "execute_result"
    }
   ],
   "execution_count": 190
  },
  {
   "metadata": {
    "ExecuteTime": {
     "end_time": "2024-11-20T01:36:15.588308Z",
     "start_time": "2024-11-20T01:36:15.573318Z"
    }
   },
   "cell_type": "code",
   "source": "(stanPlusQubity * np.sqrt(3)).round(3)",
   "id": "fca72aa75d520c7b",
   "outputs": [
    {
     "data": {
      "text/plain": [
       "array([[1.+0.j],\n",
       "       [1.+0.j],\n",
       "       [1.+0.j],\n",
       "       [0.+0.j]])"
      ]
     },
     "execution_count": 191,
     "metadata": {},
     "output_type": "execute_result"
    }
   ],
   "execution_count": 191
  },
  {
   "metadata": {
    "ExecuteTime": {
     "end_time": "2024-11-20T01:36:16.373860Z",
     "start_time": "2024-11-20T01:36:16.359870Z"
    }
   },
   "cell_type": "code",
   "source": "(multi_dot([fCheck, baza[1]]) * np.sqrt(3)).round(3)",
   "id": "66b95451ca11a19b",
   "outputs": [
    {
     "data": {
      "text/plain": [
       "array([[ 1. +0.j   ],\n",
       "       [-0.5+0.866j],\n",
       "       [-0.5-0.866j],\n",
       "       [ 0. +0.j   ]])"
      ]
     },
     "execution_count": 192,
     "metadata": {},
     "output_type": "execute_result"
    }
   ],
   "execution_count": 192
  },
  {
   "metadata": {
    "ExecuteTime": {
     "end_time": "2024-11-20T01:36:17.057471Z",
     "start_time": "2024-11-20T01:36:17.043480Z"
    }
   },
   "cell_type": "code",
   "source": "(multi_dot([fCheck, baza[2]]))",
   "id": "cd7898d8a685f000",
   "outputs": [
    {
     "data": {
      "text/plain": [
       "array([[0.+0.j],\n",
       "       [0.+0.j],\n",
       "       [0.+0.j],\n",
       "       [1.+0.j]])"
      ]
     },
     "execution_count": 193,
     "metadata": {},
     "output_type": "execute_result"
    }
   ],
   "execution_count": 193
  },
  {
   "metadata": {
    "ExecuteTime": {
     "end_time": "2024-11-20T01:36:18.060898Z",
     "start_time": "2024-11-20T01:36:18.036913Z"
    }
   },
   "cell_type": "code",
   "source": "(GHZ * np.sqrt(3)).round(3)",
   "id": "3448820a2093a0fb",
   "outputs": [
    {
     "data": {
      "text/plain": [
       "array([[0.333+0.j],\n",
       "       [0.333+0.j],\n",
       "       [0.333+0.j],\n",
       "       [0.   +0.j],\n",
       "       [0.333+0.j],\n",
       "       [0.333+0.j],\n",
       "       [0.333+0.j],\n",
       "       [0.   +0.j],\n",
       "       [0.333+0.j],\n",
       "       [0.333+0.j],\n",
       "       [0.333+0.j],\n",
       "       [0.   +0.j],\n",
       "       [0.   +0.j],\n",
       "       [0.   +0.j],\n",
       "       [0.   +0.j],\n",
       "       [0.   +0.j],\n",
       "       [1.   +0.j],\n",
       "       [0.   +0.j],\n",
       "       [0.   +0.j],\n",
       "       [0.   +0.j],\n",
       "       [0.   +0.j],\n",
       "       [0.   +0.j],\n",
       "       [0.   +0.j],\n",
       "       [0.   +0.j],\n",
       "       [0.   +0.j],\n",
       "       [0.   +0.j],\n",
       "       [0.   +0.j],\n",
       "       [0.   +0.j],\n",
       "       [0.   +0.j],\n",
       "       [0.   +0.j],\n",
       "       [0.   +0.j],\n",
       "       [0.   +0.j],\n",
       "       [0.   +0.j],\n",
       "       [0.   +0.j],\n",
       "       [0.   +0.j],\n",
       "       [0.   +0.j],\n",
       "       [0.   +0.j],\n",
       "       [0.   +0.j],\n",
       "       [0.   +0.j],\n",
       "       [0.   +0.j],\n",
       "       [0.   +0.j],\n",
       "       [0.   +0.j],\n",
       "       [0.   +0.j],\n",
       "       [0.   +0.j],\n",
       "       [0.   +0.j],\n",
       "       [0.   +0.j],\n",
       "       [0.   +0.j],\n",
       "       [0.   +0.j],\n",
       "       [0.   +0.j],\n",
       "       [0.   +0.j],\n",
       "       [0.   +0.j],\n",
       "       [0.   +0.j],\n",
       "       [0.   +0.j],\n",
       "       [0.   +0.j],\n",
       "       [0.   +0.j],\n",
       "       [0.   +0.j],\n",
       "       [0.   +0.j],\n",
       "       [0.   +0.j],\n",
       "       [0.   +0.j],\n",
       "       [0.   +0.j],\n",
       "       [0.   +0.j],\n",
       "       [0.   +0.j],\n",
       "       [0.   +0.j],\n",
       "       [0.   +0.j]])"
      ]
     },
     "execution_count": 194,
     "metadata": {},
     "output_type": "execute_result"
    }
   ],
   "execution_count": 194
  },
  {
   "metadata": {
    "ExecuteTime": {
     "end_time": "2024-11-20T01:36:19.731924Z",
     "start_time": "2024-11-20T01:36:19.712938Z"
    }
   },
   "cell_type": "code",
   "source": "(GHZqubity * np.sqrt(3)).round(3)",
   "id": "de3450a05940fa3e",
   "outputs": [
    {
     "data": {
      "text/plain": [
       "array([[1.   +0.j],\n",
       "       [0.   +0.j],\n",
       "       [0.   +0.j],\n",
       "       [0.   +0.j],\n",
       "       [0.   -0.j],\n",
       "       [0.   +0.j],\n",
       "       [0.   +0.j],\n",
       "       [0.   +0.j],\n",
       "       [0.   +0.j],\n",
       "       [0.   -0.j],\n",
       "       [0.   +0.j],\n",
       "       [0.   +0.j],\n",
       "       [0.   +0.j],\n",
       "       [0.   +0.j],\n",
       "       [0.   +0.j],\n",
       "       [0.   +0.j],\n",
       "       [0.333+0.j],\n",
       "       [0.333+0.j],\n",
       "       [0.333+0.j],\n",
       "       [0.   +0.j],\n",
       "       [0.333+0.j],\n",
       "       [0.333+0.j],\n",
       "       [0.333+0.j],\n",
       "       [0.   +0.j],\n",
       "       [0.333-0.j],\n",
       "       [0.333-0.j],\n",
       "       [0.333-0.j],\n",
       "       [0.   +0.j],\n",
       "       [0.   +0.j],\n",
       "       [0.   +0.j],\n",
       "       [0.   +0.j],\n",
       "       [0.   +0.j],\n",
       "       [0.   +0.j],\n",
       "       [0.   +0.j],\n",
       "       [0.   +0.j],\n",
       "       [0.   +0.j],\n",
       "       [0.   +0.j],\n",
       "       [0.   +0.j],\n",
       "       [0.   +0.j],\n",
       "       [0.   +0.j],\n",
       "       [0.   +0.j],\n",
       "       [0.   +0.j],\n",
       "       [0.   +0.j],\n",
       "       [0.   +0.j],\n",
       "       [0.   +0.j],\n",
       "       [0.   +0.j],\n",
       "       [0.   +0.j],\n",
       "       [0.   +0.j],\n",
       "       [0.   +0.j],\n",
       "       [0.   +0.j],\n",
       "       [0.   +0.j],\n",
       "       [0.   +0.j],\n",
       "       [0.   +0.j],\n",
       "       [0.   +0.j],\n",
       "       [0.   +0.j],\n",
       "       [0.   +0.j],\n",
       "       [0.   +0.j],\n",
       "       [0.   +0.j],\n",
       "       [0.   +0.j],\n",
       "       [0.   +0.j],\n",
       "       [0.   +0.j],\n",
       "       [0.   +0.j],\n",
       "       [0.   +0.j],\n",
       "       [0.   +0.j]])"
      ]
     },
     "execution_count": 195,
     "metadata": {},
     "output_type": "execute_result"
    }
   ],
   "execution_count": 195
  },
  {
   "metadata": {
    "ExecuteTime": {
     "end_time": "2024-11-20T01:26:57.357979Z",
     "start_time": "2024-11-20T01:26:57.336991Z"
    }
   },
   "cell_type": "code",
   "source": "np.kron(baza[0], np.kron(baza[0], baza[0])) + np.kron(baza[1], np.kron(baza[1], baza[1])) + np.kron(baza[2], np.kron(baza[2], baza[2]))",
   "id": "dffe8597c0464068",
   "outputs": [
    {
     "data": {
      "text/plain": [
       "array([[1],\n",
       "       [0],\n",
       "       [0],\n",
       "       [0],\n",
       "       [0],\n",
       "       [0],\n",
       "       [0],\n",
       "       [0],\n",
       "       [0],\n",
       "       [0],\n",
       "       [0],\n",
       "       [0],\n",
       "       [0],\n",
       "       [0],\n",
       "       [0],\n",
       "       [0],\n",
       "       [0],\n",
       "       [0],\n",
       "       [0],\n",
       "       [0],\n",
       "       [0],\n",
       "       [1],\n",
       "       [0],\n",
       "       [0],\n",
       "       [0],\n",
       "       [0],\n",
       "       [0],\n",
       "       [0],\n",
       "       [0],\n",
       "       [0],\n",
       "       [0],\n",
       "       [0],\n",
       "       [0],\n",
       "       [0],\n",
       "       [0],\n",
       "       [0],\n",
       "       [0],\n",
       "       [0],\n",
       "       [0],\n",
       "       [0],\n",
       "       [0],\n",
       "       [0],\n",
       "       [0],\n",
       "       [0],\n",
       "       [0],\n",
       "       [0],\n",
       "       [0],\n",
       "       [0],\n",
       "       [0],\n",
       "       [0],\n",
       "       [0],\n",
       "       [0],\n",
       "       [0],\n",
       "       [0],\n",
       "       [0],\n",
       "       [0],\n",
       "       [0],\n",
       "       [0],\n",
       "       [0],\n",
       "       [0],\n",
       "       [0],\n",
       "       [0],\n",
       "       [0],\n",
       "       [1]])"
      ]
     },
     "execution_count": 184,
     "metadata": {},
     "output_type": "execute_result"
    }
   ],
   "execution_count": 184
  },
  {
   "metadata": {},
   "cell_type": "code",
   "outputs": [],
   "execution_count": null,
   "source": "",
   "id": "7c5c08f46fde4307"
  }
 ],
 "metadata": {
  "kernelspec": {
   "display_name": "Python 3",
   "language": "python",
   "name": "python3"
  },
  "language_info": {
   "codemirror_mode": {
    "name": "ipython",
    "version": 2
   },
   "file_extension": ".py",
   "mimetype": "text/x-python",
   "name": "python",
   "nbconvert_exporter": "python",
   "pygments_lexer": "ipython2",
   "version": "2.7.6"
  }
 },
 "nbformat": 4,
 "nbformat_minor": 5
}
