{
 "cells": [
  {
   "metadata": {
    "ExecuteTime": {
     "end_time": "2024-11-26T14:10:04.149774Z",
     "start_time": "2024-11-26T14:10:03.062750Z"
    }
   },
   "cell_type": "code",
   "source": [
    "import numpy as np\n",
    "import qiskit.circuit.library as lib\n",
    "from qiskit.quantum_info import Operator\n",
    "from numpy.linalg import multi_dot\n",
    "from IPython.display import display, Latex\n",
    "\n",
    "def numpy_to_latex(matrix):\n",
    "    latex_code = \"\\\\begin{bmatrix}\\n\"\n",
    "    for row in matrix:\n",
    "        latex_code += \" & \".join(map(str, row)) + \" \\\\\\\\\\n\"\n",
    "    latex_code += \"\\\\end{bmatrix}\"\n",
    "    return latex_code\n",
    "\n",
    "\n",
    "Z = Operator(lib.ZGate())\n",
    "X = Operator(lib.XGate())\n",
    "\n",
    "def Ry(theta):\n",
    "    return Operator(lib.RYGate(theta))\n",
    "\n",
    "def P(theta):\n",
    "    return Operator(lib.PhaseGate(theta))\n",
    "\n",
    "u1 = multi_dot([X, Ry(np.arctan(1 + np.sqrt(3))), Z, P(np.pi * 3 / 16), X, P(np.pi * 15 / 16)])\n",
    "u2 = u1\n",
    "v1 = multi_dot([X, P(np.pi * 3 / 16), X, P(np.pi * 15 / 16), X, Ry(np.arctan(1 + np.sqrt(3))), Z, X])\n",
    "v2 = multi_dot([X, Z, X, P(np.pi * 9 / 16), X, P(np.pi * 13 / 16), X, Z, Ry(np.arctan(1 + np.sqrt(3)))])\n",
    "pi = np.pi\n",
    "sqrt = np.sqrt\n",
    "log = np.log\n",
    "\n",
    "common_log_term = log(-1 / 6 * (-1) ** (1 / 4) * (sqrt(24 - 6 * sqrt(3)) + 1j * (3 + sqrt(3))))\n",
    "common_factor = 3j + 1j * sqrt(3) + sqrt(6 * (4 - sqrt(3)))\n",
    "denominator = 15 * pi - 4 * 1j * common_log_term\n",
    "\n",
    "VCx = np.array([\n",
    "    [\n",
    "        -(((-1) ** (5 / 8) * common_factor * (30 * pi - 8 * 1j * common_log_term)) / (24 * denominator)) +\n",
    "        (3 * (-1) ** (5 / 8) * (-30 * pi + 8 * 1j * common_log_term)) / (2 * common_factor * denominator),\n",
    "        0,\n",
    "        0,\n",
    "        (3 * (-1) ** (5 / 8) * (-30 * pi + 8 * 1j * common_log_term)) / (2 * common_factor * denominator) -\n",
    "        ((-1) ** (5 / 8) * common_factor * (-30 * pi + 8 * 1j * common_log_term)) / (24 * denominator)\n",
    "    ],\n",
    "    [\n",
    "        0,\n",
    "        -(1 / 2) * (-1) ** (1 / 8) - (1 / 2) * (-1) ** (5 / 8),\n",
    "        -(1 / 2) * (-1) ** (1 / 8) + (1 / 2) * (-1) ** (5 / 8),\n",
    "        0\n",
    "    ],\n",
    "    [\n",
    "        0,\n",
    "        -(1 / 2) * (-1) ** (1 / 8) + (1 / 2) * (-1) ** (5 / 8),\n",
    "        -(1 / 2) * (-1) ** (1 / 8) - (1 / 2) * (-1) ** (5 / 8),\n",
    "        0\n",
    "    ],\n",
    "    [\n",
    "        (3 * (-1) ** (5 / 8) * (-30 * pi + 8 * 1j * common_log_term)) / (2 * common_factor * denominator) -\n",
    "        ((-1) ** (5 / 8) * common_factor * (-30 * pi + 8 * 1j * common_log_term)) / (24 * denominator),\n",
    "        0,\n",
    "        0,\n",
    "        -(((-1) ** (5 / 8) * common_factor * (30 * pi - 8 * 1j * common_log_term)) / (24 * denominator)) +\n",
    "        (3 * (-1) ** (5 / 8) * (-30 * pi + 8 * 1j * common_log_term)) / (2 * common_factor * denominator)\n",
    "    ]\n",
    "], dtype=complex)\n",
    "\n",
    "\n",
    "fCheck = multi_dot([np.kron(u1, u2), VCx, np.kron(v1, v2)]).round(7)\n",
    "\n",
    "zero_qubit = np.array([[1],[0]])\n",
    "one_qubit = np.array([[0],[1]])\n",
    "qubity = [zero_qubit, one_qubit]"
   ],
   "id": "22d20f16c9f5539b",
   "outputs": [],
   "execution_count": 1
  },
  {
   "metadata": {
    "ExecuteTime": {
     "end_time": "2024-11-26T14:38:46.638419Z",
     "start_time": "2024-11-26T14:38:46.612279Z"
    }
   },
   "cell_type": "code",
   "source": "fCheck",
   "id": "5232780f317831a1",
   "outputs": [
    {
     "data": {
      "text/plain": [
       "array([[ 0.5773503-0.j ,  0.5773503-0.j ,  0.5773503-0.j ,\n",
       "        -0.       -0.j ],\n",
       "       [ 0.5773503-0.j , -0.2886751+0.5j, -0.2886751-0.5j,\n",
       "         0.       -0.j ],\n",
       "       [ 0.5773503-0.j , -0.2886751-0.5j, -0.2886751+0.5j,\n",
       "         0.       -0.j ],\n",
       "       [-0.       -0.j ,  0.       -0.j ,  0.       -0.j ,\n",
       "         1.       -0.j ]])"
      ]
     },
     "execution_count": 80,
     "metadata": {},
     "output_type": "execute_result"
    }
   ],
   "execution_count": 80
  },
  {
   "metadata": {
    "ExecuteTime": {
     "end_time": "2024-11-26T14:10:30.006181Z",
     "start_time": "2024-11-26T14:10:29.974922Z"
    }
   },
   "cell_type": "code",
   "source": [
    "bellstatePhiMin = 1/np.sqrt(2) * (np.kron(qubity[0], qubity[1]) - np.kron(qubity[1], qubity[0]))\n",
    "bellstatePhiPlus = 1/np.sqrt(2) * (np.kron(qubity[0], qubity[1]) + np.kron(qubity[1], qubity[0]))"
   ],
   "id": "e951e4657b92e752",
   "outputs": [],
   "execution_count": 2
  },
  {
   "metadata": {
    "ExecuteTime": {
     "end_time": "2024-11-26T14:45:46.590375Z",
     "start_time": "2024-11-26T14:45:46.574735Z"
    }
   },
   "cell_type": "code",
   "source": [
    "wektorwlasny0 = np.array([ 0.888+0.j, -0.46 -0.j,  0.   -0.j])\n",
    "wektorwlasny1 = np.array([ 0.325+0.j,  0.628+0.j, -0.707+0.j])\n",
    "wektorwlasny2 = np.array([ 0.325+0.j,  0.628+0.j, 0.707+0.j])"
   ],
   "id": "20ed132014a824a8",
   "outputs": [],
   "execution_count": 81
  },
  {
   "metadata": {
    "ExecuteTime": {
     "end_time": "2024-11-26T14:45:46.846135Z",
     "start_time": "2024-11-26T14:45:46.830580Z"
    }
   },
   "cell_type": "code",
   "source": "wektorwlasny0",
   "id": "9dd6210bfed75b28",
   "outputs": [
    {
     "data": {
      "text/plain": [
       "array([ 0.888+0.j, -0.46 +0.j,  0.   +0.j])"
      ]
     },
     "execution_count": 82,
     "metadata": {},
     "output_type": "execute_result"
    }
   ],
   "execution_count": 82
  },
  {
   "metadata": {
    "ExecuteTime": {
     "end_time": "2024-11-26T14:45:47.052269Z",
     "start_time": "2024-11-26T14:45:47.030198Z"
    }
   },
   "cell_type": "code",
   "source": "bellstatePhiMin",
   "id": "59464cb841bf1f09",
   "outputs": [
    {
     "data": {
      "text/plain": [
       "array([[ 0.        ],\n",
       "       [ 0.70710678],\n",
       "       [-0.70710678],\n",
       "       [ 0.        ]])"
      ]
     },
     "execution_count": 83,
     "metadata": {},
     "output_type": "execute_result"
    }
   ],
   "execution_count": 83
  },
  {
   "metadata": {
    "ExecuteTime": {
     "end_time": "2024-11-26T14:45:47.209822Z",
     "start_time": "2024-11-26T14:45:47.179821Z"
    }
   },
   "cell_type": "code",
   "source": "bellstatePhiPlus",
   "id": "f8f1cd0e5064b721",
   "outputs": [
    {
     "data": {
      "text/plain": [
       "array([[0.        ],\n",
       "       [0.70710678],\n",
       "       [0.70710678],\n",
       "       [0.        ]])"
      ]
     },
     "execution_count": 84,
     "metadata": {},
     "output_type": "execute_result"
    }
   ],
   "execution_count": 84
  },
  {
   "metadata": {
    "ExecuteTime": {
     "end_time": "2024-11-26T14:45:47.431580Z",
     "start_time": "2024-11-26T14:45:47.415952Z"
    }
   },
   "cell_type": "code",
   "source": "baza = [np.kron(qubity[1], qubity[1]), wektorwlasny0, wektorwlasny1]",
   "id": "b109270ae4e8f3a",
   "outputs": [],
   "execution_count": 85
  },
  {
   "metadata": {
    "ExecuteTime": {
     "end_time": "2024-11-26T14:45:48.963847Z",
     "start_time": "2024-11-26T14:45:47.558980Z"
    }
   },
   "cell_type": "code",
   "source": [
    "stan0x0 = np.outer(baza[0], baza[0])\n",
    "stan1x1 = np.outer(baza[1], baza[1])\n",
    "stan2x2 = np.outer(baza[2], baza[2])\n",
    "\n",
    "stanPlus = multi_dot([fCheck, baza[0]])\n",
    "\n",
    "stanPrzygotowany = np.kron(fCheck, np.kron(np.identity(4), np.identity(4)))\n",
    "\n",
    "Cz01 = np.kron(stan0x0, fCheck) + np.kron(stan1x1, multi_dot([fCheck, fCheck])) + np.kron(stan2x2, np.identity(4))\n",
    "CZ01 = np.kron(Cz01, np.identity(4))\n",
    "\n",
    "\n",
    "\n",
    "Cz02 = np.kron(np.kron(stan0x0, np.identity(4)), fCheck) + np.kron(np.kron(stan1x1, np.identity(4)), np.identity(4)) + np.kron(np.kron(stan2x2, np.identity(4)), multi_dot([fCheck, fCheck]))\n",
    "\n",
    "\n",
    "#print(f'Cz02 = {Cz02}')\n",
    "\n",
    "Cz12 = np.kron(np.identity(4), np.kron(stan0x0, np.identity(4)) + np.kron(stan1x1, fCheck) + np.kron(stan2x2, multi_dot([fCheck, fCheck])))\n",
    "\n",
    "\n",
    "\n",
    "U = multi_dot([CZ01, Cz02, stanPrzygotowany])\n",
    "\n",
    "#print(f'GHZ = {GHZ}')\n",
    "\n",
    "stanStart = np.kron(baza[0], np.kron(baza[0], baza[0]))\n",
    "\n",
    "GHZ = multi_dot([U, stanStart])\n",
    "\n",
    "wspolczynnik_zmiany_bazy = np.kron(np.identity(4), np.kron(fCheck.conj().T, fCheck.conj().T))\n",
    "\n",
    "GHZqubity = multi_dot([wspolczynnik_zmiany_bazy, GHZ])\n"
   ],
   "id": "be90502f8a7bbbf8",
   "outputs": [
    {
     "ename": "ValueError",
     "evalue": "operands could not be broadcast together with shapes (16,16) (12,12) ",
     "output_type": "error",
     "traceback": [
      "\u001B[1;31m---------------------------------------------------------------------------\u001B[0m",
      "\u001B[1;31mValueError\u001B[0m                                Traceback (most recent call last)",
      "Cell \u001B[1;32mIn[86], line 9\u001B[0m\n\u001B[0;32m      5\u001B[0m stanPlus \u001B[38;5;241m=\u001B[39m multi_dot([fCheck, baza[\u001B[38;5;241m0\u001B[39m]])\n\u001B[0;32m      7\u001B[0m stanPrzygotowany \u001B[38;5;241m=\u001B[39m np\u001B[38;5;241m.\u001B[39mkron(fCheck, np\u001B[38;5;241m.\u001B[39mkron(np\u001B[38;5;241m.\u001B[39midentity(\u001B[38;5;241m4\u001B[39m), np\u001B[38;5;241m.\u001B[39midentity(\u001B[38;5;241m4\u001B[39m)))\n\u001B[1;32m----> 9\u001B[0m Cz01 \u001B[38;5;241m=\u001B[39m \u001B[43mnp\u001B[49m\u001B[38;5;241;43m.\u001B[39;49m\u001B[43mkron\u001B[49m\u001B[43m(\u001B[49m\u001B[43mstan0x0\u001B[49m\u001B[43m,\u001B[49m\u001B[43m \u001B[49m\u001B[43mfCheck\u001B[49m\u001B[43m)\u001B[49m\u001B[43m \u001B[49m\u001B[38;5;241;43m+\u001B[39;49m\u001B[43m \u001B[49m\u001B[43mnp\u001B[49m\u001B[38;5;241;43m.\u001B[39;49m\u001B[43mkron\u001B[49m\u001B[43m(\u001B[49m\u001B[43mstan1x1\u001B[49m\u001B[43m,\u001B[49m\u001B[43m \u001B[49m\u001B[43mmulti_dot\u001B[49m\u001B[43m(\u001B[49m\u001B[43m[\u001B[49m\u001B[43mfCheck\u001B[49m\u001B[43m,\u001B[49m\u001B[43m \u001B[49m\u001B[43mfCheck\u001B[49m\u001B[43m]\u001B[49m\u001B[43m)\u001B[49m\u001B[43m)\u001B[49m \u001B[38;5;241m+\u001B[39m np\u001B[38;5;241m.\u001B[39mkron(stan2x2, np\u001B[38;5;241m.\u001B[39midentity(\u001B[38;5;241m4\u001B[39m))\n\u001B[0;32m     10\u001B[0m CZ01 \u001B[38;5;241m=\u001B[39m np\u001B[38;5;241m.\u001B[39mkron(Cz01, np\u001B[38;5;241m.\u001B[39midentity(\u001B[38;5;241m4\u001B[39m))\n\u001B[0;32m     14\u001B[0m Cz02 \u001B[38;5;241m=\u001B[39m np\u001B[38;5;241m.\u001B[39mkron(np\u001B[38;5;241m.\u001B[39mkron(stan0x0, np\u001B[38;5;241m.\u001B[39midentity(\u001B[38;5;241m4\u001B[39m)), fCheck) \u001B[38;5;241m+\u001B[39m np\u001B[38;5;241m.\u001B[39mkron(np\u001B[38;5;241m.\u001B[39mkron(stan1x1, np\u001B[38;5;241m.\u001B[39midentity(\u001B[38;5;241m4\u001B[39m)), np\u001B[38;5;241m.\u001B[39midentity(\u001B[38;5;241m4\u001B[39m)) \u001B[38;5;241m+\u001B[39m np\u001B[38;5;241m.\u001B[39mkron(np\u001B[38;5;241m.\u001B[39mkron(stan2x2, np\u001B[38;5;241m.\u001B[39midentity(\u001B[38;5;241m4\u001B[39m)), multi_dot([fCheck, fCheck]))\n",
      "\u001B[1;31mValueError\u001B[0m: operands could not be broadcast together with shapes (16,16) (12,12) "
     ]
    }
   ],
   "execution_count": 86
  },
  {
   "metadata": {
    "ExecuteTime": {
     "end_time": "2024-11-26T14:45:48.978861100Z",
     "start_time": "2024-11-26T14:32:38.468790Z"
    }
   },
   "cell_type": "code",
   "source": "np.kron(np.outer(qubity[0], qubity[0]), np.identity(2)) + np.kron(np.outer(qubity[1], qubity[1]), Z)",
   "id": "3f64894793f12313",
   "outputs": [
    {
     "data": {
      "text/plain": [
       "array([[ 1.+0.j,  0.+0.j,  0.+0.j,  0.+0.j],\n",
       "       [ 0.+0.j,  1.+0.j,  0.+0.j,  0.+0.j],\n",
       "       [ 0.+0.j,  0.+0.j,  1.+0.j,  0.+0.j],\n",
       "       [ 0.+0.j,  0.+0.j,  0.+0.j, -1.+0.j]])"
      ]
     },
     "execution_count": 67,
     "metadata": {},
     "output_type": "execute_result"
    }
   ],
   "execution_count": 67
  },
  {
   "metadata": {
    "ExecuteTime": {
     "end_time": "2024-11-26T14:45:48.978861100Z",
     "start_time": "2024-11-26T14:32:40.570841Z"
    }
   },
   "cell_type": "code",
   "source": "stanPrzygotowany.shape",
   "id": "5c725d51da436d31",
   "outputs": [
    {
     "data": {
      "text/plain": [
       "(64, 64)"
      ]
     },
     "execution_count": 68,
     "metadata": {},
     "output_type": "execute_result"
    }
   ],
   "execution_count": 68
  },
  {
   "metadata": {
    "ExecuteTime": {
     "end_time": "2024-11-26T14:45:48.978861100Z",
     "start_time": "2024-11-26T14:32:41.170573Z"
    }
   },
   "cell_type": "code",
   "source": "GHZ.shape",
   "id": "7613cfbaf774bf20",
   "outputs": [
    {
     "data": {
      "text/plain": [
       "(64, 1)"
      ]
     },
     "execution_count": 69,
     "metadata": {},
     "output_type": "execute_result"
    }
   ],
   "execution_count": 69
  },
  {
   "metadata": {
    "ExecuteTime": {
     "end_time": "2024-11-26T14:45:48.978861100Z",
     "start_time": "2024-11-26T14:32:41.865598Z"
    }
   },
   "cell_type": "code",
   "source": "stan0x0",
   "id": "3eaeffc6db89b650",
   "outputs": [
    {
     "data": {
      "text/plain": [
       "array([[0, 0, 0, 0],\n",
       "       [0, 0, 0, 0],\n",
       "       [0, 0, 0, 0],\n",
       "       [0, 0, 0, 1]])"
      ]
     },
     "execution_count": 70,
     "metadata": {},
     "output_type": "execute_result"
    }
   ],
   "execution_count": 70
  },
  {
   "metadata": {
    "ExecuteTime": {
     "end_time": "2024-11-26T14:45:48.978861100Z",
     "start_time": "2024-11-26T14:32:43.108746Z"
    }
   },
   "cell_type": "code",
   "source": "stan1x1",
   "id": "314051f38dc25977",
   "outputs": [
    {
     "data": {
      "text/plain": [
       "array([[ 0.10569001+0.j,  0.2041628 +0.j, -0.22987821+0.j,\n",
       "         0.        +0.j],\n",
       "       [ 0.2041628 +0.j,  0.394384  +0.j, -0.4440588 +0.j,\n",
       "         0.        +0.j],\n",
       "       [-0.22987821+0.j, -0.4440588 +0.j,  0.49999041-0.j,\n",
       "        -0.        +0.j],\n",
       "       [ 0.        +0.j,  0.        +0.j, -0.        +0.j,\n",
       "         0.        +0.j]])"
      ]
     },
     "execution_count": 71,
     "metadata": {},
     "output_type": "execute_result"
    }
   ],
   "execution_count": 71
  },
  {
   "metadata": {
    "ExecuteTime": {
     "end_time": "2024-11-26T14:45:48.978861100Z",
     "start_time": "2024-11-26T14:32:52.295947Z"
    }
   },
   "cell_type": "code",
   "source": "stan2x2",
   "id": "f93be8a5a555b40",
   "outputs": [
    {
     "data": {
      "text/plain": [
       "array([[0.10569001+0.j, 0.2041628 +0.j, 0.22987821+0.j, 0.        +0.j],\n",
       "       [0.2041628 +0.j, 0.394384  +0.j, 0.4440588 +0.j, 0.        +0.j],\n",
       "       [0.22987821+0.j, 0.4440588 +0.j, 0.49999041+0.j, 0.        +0.j],\n",
       "       [0.        +0.j, 0.        +0.j, 0.        +0.j, 0.        +0.j]])"
      ]
     },
     "execution_count": 72,
     "metadata": {},
     "output_type": "execute_result"
    }
   ],
   "execution_count": 72
  },
  {
   "metadata": {
    "ExecuteTime": {
     "end_time": "2024-11-26T14:45:48.978861100Z",
     "start_time": "2024-11-26T14:33:01.486626Z"
    }
   },
   "cell_type": "code",
   "source": "(multi_dot([fCheck, baza[1]]) * np.sqrt(3)).round(3)",
   "id": "66b95451ca11a19b",
   "outputs": [
    {
     "data": {
      "text/plain": [
       "array([0.246+0.j   , 0.365+1.156j, 0.365-1.156j, 0.   +0.j   ])"
      ]
     },
     "execution_count": 73,
     "metadata": {},
     "output_type": "execute_result"
    }
   ],
   "execution_count": 73
  },
  {
   "metadata": {
    "ExecuteTime": {
     "end_time": "2024-11-26T14:45:48.978861100Z",
     "start_time": "2024-11-26T14:33:04.449362Z"
    }
   },
   "cell_type": "code",
   "source": "(multi_dot([fCheck, baza[2]]))",
   "id": "cd7898d8a685f000",
   "outputs": [
    {
     "data": {
      "text/plain": [
       "array([ 0.95851697+0.j     , -0.19771354-0.03955j, -0.19771354+0.03955j,\n",
       "        0.        +0.j     ])"
      ]
     },
     "execution_count": 74,
     "metadata": {},
     "output_type": "execute_result"
    }
   ],
   "execution_count": 74
  },
  {
   "metadata": {
    "ExecuteTime": {
     "end_time": "2024-11-26T14:45:48.978861100Z",
     "start_time": "2024-11-26T14:33:11.528193Z"
    }
   },
   "cell_type": "code",
   "source": "Cz01.round(3)",
   "id": "309c1cc873d4f544",
   "outputs": [
    {
     "data": {
      "text/plain": [
       "array([[ 0.211+0.j ,  0.   +0.j ,  0.   +0.j ,  0.   +0.j ,  0.408+0.j ,\n",
       "         0.   +0.j ,  0.   +0.j ,  0.   +0.j , -0.   +0.j , -0.   +0.j ,\n",
       "        -0.   +0.j ,  0.   +0.j ,  0.   +0.j ,  0.   +0.j ,  0.   +0.j ,\n",
       "         0.   +0.j ],\n",
       "       [ 0.   +0.j ,  0.106+0.j ,  0.106+0.j ,  0.   +0.j ,  0.   +0.j ,\n",
       "         0.204+0.j ,  0.204+0.j ,  0.   +0.j , -0.   +0.j ,  0.23 +0.j ,\n",
       "        -0.23 +0.j ,  0.   +0.j ,  0.   +0.j ,  0.   +0.j ,  0.   +0.j ,\n",
       "         0.   +0.j ],\n",
       "       [ 0.   +0.j ,  0.106+0.j ,  0.106+0.j ,  0.   +0.j ,  0.   +0.j ,\n",
       "         0.204+0.j ,  0.204+0.j ,  0.   +0.j , -0.   +0.j , -0.23 +0.j ,\n",
       "         0.23 +0.j ,  0.   +0.j ,  0.   +0.j ,  0.   +0.j ,  0.   +0.j ,\n",
       "         0.   +0.j ],\n",
       "       [ 0.   +0.j ,  0.   +0.j ,  0.   +0.j ,  0.211+0.j ,  0.   +0.j ,\n",
       "         0.   +0.j ,  0.   +0.j ,  0.408+0.j ,  0.   +0.j ,  0.   +0.j ,\n",
       "         0.   +0.j ,  0.   +0.j ,  0.   +0.j ,  0.   +0.j ,  0.   +0.j ,\n",
       "         0.   +0.j ],\n",
       "       [ 0.408+0.j ,  0.   +0.j ,  0.   +0.j ,  0.   +0.j ,  0.789+0.j ,\n",
       "         0.   +0.j ,  0.   +0.j ,  0.   +0.j , -0.   +0.j , -0.   +0.j ,\n",
       "        -0.   +0.j ,  0.   +0.j ,  0.   +0.j ,  0.   +0.j ,  0.   +0.j ,\n",
       "         0.   +0.j ],\n",
       "       [ 0.   +0.j ,  0.204+0.j ,  0.204+0.j ,  0.   +0.j ,  0.   +0.j ,\n",
       "         0.394+0.j ,  0.394+0.j ,  0.   +0.j , -0.   +0.j ,  0.444+0.j ,\n",
       "        -0.444+0.j ,  0.   +0.j ,  0.   +0.j ,  0.   +0.j ,  0.   +0.j ,\n",
       "         0.   +0.j ],\n",
       "       [ 0.   +0.j ,  0.204+0.j ,  0.204+0.j ,  0.   +0.j ,  0.   +0.j ,\n",
       "         0.394+0.j ,  0.394+0.j ,  0.   +0.j , -0.   +0.j , -0.444+0.j ,\n",
       "         0.444+0.j ,  0.   +0.j ,  0.   +0.j ,  0.   +0.j ,  0.   +0.j ,\n",
       "         0.   +0.j ],\n",
       "       [ 0.   +0.j ,  0.   +0.j ,  0.   +0.j ,  0.408+0.j ,  0.   +0.j ,\n",
       "         0.   +0.j ,  0.   +0.j ,  0.789+0.j ,  0.   +0.j ,  0.   +0.j ,\n",
       "         0.   +0.j ,  0.   +0.j ,  0.   +0.j ,  0.   +0.j ,  0.   +0.j ,\n",
       "         0.   +0.j ],\n",
       "       [-0.   +0.j , -0.   +0.j , -0.   +0.j ,  0.   +0.j , -0.   +0.j ,\n",
       "        -0.   +0.j , -0.   +0.j ,  0.   +0.j ,  1.   +0.j ,  0.   +0.j ,\n",
       "         0.   +0.j ,  0.   +0.j ,  0.   +0.j ,  0.   +0.j ,  0.   +0.j ,\n",
       "         0.   +0.j ],\n",
       "       [-0.   +0.j ,  0.23 +0.j , -0.23 +0.j ,  0.   +0.j , -0.   +0.j ,\n",
       "         0.444+0.j , -0.444+0.j ,  0.   +0.j ,  0.   +0.j ,  0.5  +0.j ,\n",
       "         0.5  +0.j ,  0.   +0.j ,  0.   +0.j ,  0.   +0.j ,  0.   +0.j ,\n",
       "         0.   +0.j ],\n",
       "       [-0.   +0.j , -0.23 +0.j ,  0.23 +0.j ,  0.   +0.j , -0.   +0.j ,\n",
       "        -0.444+0.j ,  0.444+0.j ,  0.   +0.j ,  0.   +0.j ,  0.5  +0.j ,\n",
       "         0.5  +0.j ,  0.   +0.j ,  0.   +0.j ,  0.   +0.j ,  0.   +0.j ,\n",
       "         0.   +0.j ],\n",
       "       [ 0.   +0.j ,  0.   +0.j ,  0.   +0.j ,  0.   +0.j ,  0.   +0.j ,\n",
       "         0.   +0.j ,  0.   +0.j ,  0.   +0.j ,  0.   +0.j ,  0.   +0.j ,\n",
       "         0.   +0.j ,  1.   +0.j ,  0.   +0.j ,  0.   +0.j ,  0.   +0.j ,\n",
       "         0.   +0.j ],\n",
       "       [ 0.   +0.j ,  0.   +0.j ,  0.   +0.j ,  0.   +0.j ,  0.   +0.j ,\n",
       "         0.   +0.j ,  0.   +0.j ,  0.   +0.j ,  0.   +0.j ,  0.   +0.j ,\n",
       "         0.   +0.j ,  0.   +0.j ,  0.577+0.j ,  0.577+0.j ,  0.577+0.j ,\n",
       "         0.   +0.j ],\n",
       "       [ 0.   +0.j ,  0.   +0.j ,  0.   +0.j ,  0.   +0.j ,  0.   +0.j ,\n",
       "         0.   +0.j ,  0.   +0.j ,  0.   +0.j ,  0.   +0.j ,  0.   +0.j ,\n",
       "         0.   +0.j ,  0.   +0.j ,  0.577+0.j , -0.289+0.5j, -0.289-0.5j,\n",
       "         0.   +0.j ],\n",
       "       [ 0.   +0.j ,  0.   +0.j ,  0.   +0.j ,  0.   +0.j ,  0.   +0.j ,\n",
       "         0.   +0.j ,  0.   +0.j ,  0.   +0.j ,  0.   +0.j ,  0.   +0.j ,\n",
       "         0.   +0.j ,  0.   +0.j ,  0.577+0.j , -0.289-0.5j, -0.289+0.5j,\n",
       "         0.   +0.j ],\n",
       "       [ 0.   +0.j ,  0.   +0.j ,  0.   +0.j ,  0.   +0.j ,  0.   +0.j ,\n",
       "         0.   +0.j ,  0.   +0.j ,  0.   +0.j ,  0.   +0.j ,  0.   +0.j ,\n",
       "         0.   +0.j ,  0.   +0.j ,  0.   +0.j ,  0.   +0.j ,  0.   +0.j ,\n",
       "         1.   +0.j ]])"
      ]
     },
     "execution_count": 75,
     "metadata": {},
     "output_type": "execute_result"
    }
   ],
   "execution_count": 75
  },
  {
   "metadata": {
    "ExecuteTime": {
     "end_time": "2024-11-26T14:45:49.280743Z",
     "start_time": "2024-11-26T14:45:49.251087Z"
    }
   },
   "cell_type": "code",
   "source": "np.dot(Cz01, Cz01.conj().T).round(2)",
   "id": "8547e1c3936a66f0",
   "outputs": [
    {
     "data": {
      "text/plain": [
       "array([[ 0.21+0.j,  0.  +0.j,  0.  +0.j,  0.  +0.j,  0.41+0.j,  0.  +0.j,\n",
       "         0.  +0.j,  0.  +0.j, -0.  +0.j, -0.  +0.j, -0.  +0.j,  0.  +0.j,\n",
       "         0.  +0.j,  0.  +0.j,  0.  +0.j,  0.  +0.j],\n",
       "       [ 0.  +0.j,  0.21+0.j,  0.  +0.j,  0.  +0.j,  0.  +0.j,  0.41+0.j,\n",
       "         0.  +0.j,  0.  +0.j, -0.  +0.j,  0.  +0.j,  0.  +0.j,  0.  +0.j,\n",
       "         0.  +0.j,  0.  +0.j,  0.  +0.j,  0.  +0.j],\n",
       "       [ 0.  +0.j,  0.  +0.j,  0.21+0.j,  0.  +0.j,  0.  +0.j,  0.  +0.j,\n",
       "         0.41+0.j,  0.  +0.j, -0.  +0.j,  0.  +0.j,  0.  +0.j,  0.  +0.j,\n",
       "         0.  +0.j,  0.  +0.j,  0.  +0.j,  0.  +0.j],\n",
       "       [ 0.  +0.j,  0.  +0.j,  0.  +0.j,  0.21+0.j,  0.  +0.j,  0.  +0.j,\n",
       "         0.  +0.j,  0.41+0.j,  0.  +0.j,  0.  +0.j,  0.  +0.j,  0.  +0.j,\n",
       "         0.  +0.j,  0.  +0.j,  0.  +0.j,  0.  +0.j],\n",
       "       [ 0.41+0.j,  0.  +0.j,  0.  +0.j,  0.  +0.j,  0.79+0.j,  0.  +0.j,\n",
       "         0.  +0.j,  0.  +0.j, -0.  +0.j, -0.  +0.j, -0.  +0.j,  0.  +0.j,\n",
       "         0.  +0.j,  0.  +0.j,  0.  +0.j,  0.  +0.j],\n",
       "       [ 0.  +0.j,  0.41+0.j,  0.  +0.j,  0.  +0.j,  0.  +0.j,  0.79+0.j,\n",
       "         0.  +0.j,  0.  +0.j, -0.  +0.j,  0.  +0.j,  0.  +0.j,  0.  +0.j,\n",
       "         0.  +0.j,  0.  +0.j,  0.  +0.j,  0.  +0.j],\n",
       "       [ 0.  +0.j,  0.  +0.j,  0.41+0.j,  0.  +0.j,  0.  +0.j,  0.  +0.j,\n",
       "         0.79+0.j,  0.  +0.j, -0.  +0.j,  0.  +0.j,  0.  +0.j,  0.  +0.j,\n",
       "         0.  +0.j,  0.  +0.j,  0.  +0.j,  0.  +0.j],\n",
       "       [ 0.  +0.j,  0.  +0.j,  0.  +0.j,  0.41+0.j,  0.  +0.j,  0.  +0.j,\n",
       "         0.  +0.j,  0.79+0.j,  0.  +0.j,  0.  +0.j,  0.  +0.j,  0.  +0.j,\n",
       "         0.  +0.j,  0.  +0.j,  0.  +0.j,  0.  +0.j],\n",
       "       [-0.  +0.j, -0.  +0.j, -0.  +0.j,  0.  +0.j, -0.  +0.j, -0.  +0.j,\n",
       "        -0.  +0.j,  0.  +0.j,  1.  +0.j,  0.  +0.j,  0.  +0.j,  0.  +0.j,\n",
       "         0.  +0.j,  0.  +0.j,  0.  +0.j,  0.  +0.j],\n",
       "       [-0.  +0.j,  0.  +0.j,  0.  +0.j,  0.  +0.j, -0.  +0.j,  0.  +0.j,\n",
       "         0.  +0.j,  0.  +0.j,  0.  +0.j,  1.  +0.j, -0.  +0.j,  0.  +0.j,\n",
       "         0.  +0.j,  0.  +0.j,  0.  +0.j,  0.  +0.j],\n",
       "       [-0.  +0.j,  0.  +0.j,  0.  +0.j,  0.  +0.j, -0.  +0.j,  0.  +0.j,\n",
       "         0.  +0.j,  0.  +0.j,  0.  +0.j, -0.  +0.j,  1.  +0.j,  0.  +0.j,\n",
       "         0.  +0.j,  0.  +0.j,  0.  +0.j,  0.  +0.j],\n",
       "       [ 0.  +0.j,  0.  +0.j,  0.  +0.j,  0.  +0.j,  0.  +0.j,  0.  +0.j,\n",
       "         0.  +0.j,  0.  +0.j,  0.  +0.j,  0.  +0.j,  0.  +0.j,  1.  +0.j,\n",
       "         0.  +0.j,  0.  +0.j,  0.  +0.j,  0.  +0.j],\n",
       "       [ 0.  +0.j,  0.  +0.j,  0.  +0.j,  0.  +0.j,  0.  +0.j,  0.  +0.j,\n",
       "         0.  +0.j,  0.  +0.j,  0.  +0.j,  0.  +0.j,  0.  +0.j,  0.  +0.j,\n",
       "         1.  +0.j,  0.  +0.j,  0.  +0.j,  0.  +0.j],\n",
       "       [ 0.  +0.j,  0.  +0.j,  0.  +0.j,  0.  +0.j,  0.  +0.j,  0.  +0.j,\n",
       "         0.  +0.j,  0.  +0.j,  0.  +0.j,  0.  +0.j,  0.  +0.j,  0.  +0.j,\n",
       "         0.  +0.j,  1.  +0.j, -0.  +0.j,  0.  +0.j],\n",
       "       [ 0.  +0.j,  0.  +0.j,  0.  +0.j,  0.  +0.j,  0.  +0.j,  0.  +0.j,\n",
       "         0.  +0.j,  0.  +0.j,  0.  +0.j,  0.  +0.j,  0.  +0.j,  0.  +0.j,\n",
       "         0.  +0.j, -0.  +0.j,  1.  +0.j,  0.  +0.j],\n",
       "       [ 0.  +0.j,  0.  +0.j,  0.  +0.j,  0.  +0.j,  0.  +0.j,  0.  +0.j,\n",
       "         0.  +0.j,  0.  +0.j,  0.  +0.j,  0.  +0.j,  0.  +0.j,  0.  +0.j,\n",
       "         0.  +0.j,  0.  +0.j,  0.  +0.j,  1.  +0.j]])"
      ]
     },
     "execution_count": 87,
     "metadata": {},
     "output_type": "execute_result"
    }
   ],
   "execution_count": 87
  },
  {
   "metadata": {
    "ExecuteTime": {
     "end_time": "2024-11-26T14:45:49.625256Z",
     "start_time": "2024-11-26T14:45:49.598167Z"
    }
   },
   "cell_type": "code",
   "source": "(GHZ * np.sqrt(3)).round(3)",
   "id": "3448820a2093a0fb",
   "outputs": [
    {
     "data": {
      "text/plain": [
       "array([[0.   +0.j],\n",
       "       [0.   +0.j],\n",
       "       [0.   +0.j],\n",
       "       [0.   +0.j],\n",
       "       [0.   +0.j],\n",
       "       [0.   +0.j],\n",
       "       [0.   +0.j],\n",
       "       [0.   +0.j],\n",
       "       [0.   +0.j],\n",
       "       [0.   +0.j],\n",
       "       [0.   +0.j],\n",
       "       [0.   +0.j],\n",
       "       [0.   +0.j],\n",
       "       [0.   +0.j],\n",
       "       [0.   +0.j],\n",
       "       [0.   +0.j],\n",
       "       [0.   +0.j],\n",
       "       [0.   +0.j],\n",
       "       [0.   +0.j],\n",
       "       [0.   +0.j],\n",
       "       [0.   +0.j],\n",
       "       [0.   +0.j],\n",
       "       [0.   +0.j],\n",
       "       [0.   +0.j],\n",
       "       [0.   +0.j],\n",
       "       [0.   +0.j],\n",
       "       [0.   +0.j],\n",
       "       [0.   +0.j],\n",
       "       [0.   +0.j],\n",
       "       [0.   +0.j],\n",
       "       [0.   +0.j],\n",
       "       [0.   +0.j],\n",
       "       [0.   +0.j],\n",
       "       [0.   +0.j],\n",
       "       [0.   +0.j],\n",
       "       [0.   +0.j],\n",
       "       [0.   +0.j],\n",
       "       [0.   +0.j],\n",
       "       [0.   +0.j],\n",
       "       [0.   +0.j],\n",
       "       [0.   +0.j],\n",
       "       [0.   +0.j],\n",
       "       [0.   +0.j],\n",
       "       [0.   +0.j],\n",
       "       [0.   +0.j],\n",
       "       [0.   +0.j],\n",
       "       [0.   +0.j],\n",
       "       [0.   +0.j],\n",
       "       [0.   +0.j],\n",
       "       [0.   +0.j],\n",
       "       [0.   +0.j],\n",
       "       [0.   +0.j],\n",
       "       [0.   +0.j],\n",
       "       [0.   +0.j],\n",
       "       [0.   +0.j],\n",
       "       [0.   +0.j],\n",
       "       [0.   +0.j],\n",
       "       [0.   +0.j],\n",
       "       [0.   +0.j],\n",
       "       [0.   +0.j],\n",
       "       [0.   +0.j],\n",
       "       [0.   +0.j],\n",
       "       [0.   +0.j],\n",
       "       [1.732+0.j]])"
      ]
     },
     "execution_count": 88,
     "metadata": {},
     "output_type": "execute_result"
    }
   ],
   "execution_count": 88
  },
  {
   "metadata": {
    "ExecuteTime": {
     "end_time": "2024-11-26T14:46:58.961598Z",
     "start_time": "2024-11-26T14:46:58.929971Z"
    }
   },
   "cell_type": "code",
   "source": "(GHZqubity).round(3)",
   "id": "de3450a05940fa3e",
   "outputs": [
    {
     "data": {
      "text/plain": [
       "array([[0.+0.j],\n",
       "       [0.+0.j],\n",
       "       [0.+0.j],\n",
       "       [0.+0.j],\n",
       "       [0.+0.j],\n",
       "       [0.+0.j],\n",
       "       [0.+0.j],\n",
       "       [0.+0.j],\n",
       "       [0.+0.j],\n",
       "       [0.+0.j],\n",
       "       [0.+0.j],\n",
       "       [0.+0.j],\n",
       "       [0.+0.j],\n",
       "       [0.+0.j],\n",
       "       [0.+0.j],\n",
       "       [0.+0.j],\n",
       "       [0.+0.j],\n",
       "       [0.+0.j],\n",
       "       [0.+0.j],\n",
       "       [0.+0.j],\n",
       "       [0.+0.j],\n",
       "       [0.+0.j],\n",
       "       [0.+0.j],\n",
       "       [0.+0.j],\n",
       "       [0.+0.j],\n",
       "       [0.+0.j],\n",
       "       [0.+0.j],\n",
       "       [0.+0.j],\n",
       "       [0.+0.j],\n",
       "       [0.+0.j],\n",
       "       [0.+0.j],\n",
       "       [0.+0.j],\n",
       "       [0.+0.j],\n",
       "       [0.+0.j],\n",
       "       [0.+0.j],\n",
       "       [0.+0.j],\n",
       "       [0.+0.j],\n",
       "       [0.+0.j],\n",
       "       [0.+0.j],\n",
       "       [0.+0.j],\n",
       "       [0.+0.j],\n",
       "       [0.+0.j],\n",
       "       [0.+0.j],\n",
       "       [0.+0.j],\n",
       "       [0.+0.j],\n",
       "       [0.+0.j],\n",
       "       [0.+0.j],\n",
       "       [0.+0.j],\n",
       "       [0.+0.j],\n",
       "       [0.+0.j],\n",
       "       [0.+0.j],\n",
       "       [0.+0.j],\n",
       "       [0.+0.j],\n",
       "       [0.+0.j],\n",
       "       [0.+0.j],\n",
       "       [0.+0.j],\n",
       "       [0.+0.j],\n",
       "       [0.+0.j],\n",
       "       [0.+0.j],\n",
       "       [0.+0.j],\n",
       "       [0.+0.j],\n",
       "       [0.+0.j],\n",
       "       [0.+0.j],\n",
       "       [1.+0.j]])"
      ]
     },
     "execution_count": 91,
     "metadata": {},
     "output_type": "execute_result"
    }
   ],
   "execution_count": 91
  },
  {
   "metadata": {
    "ExecuteTime": {
     "end_time": "2024-11-26T14:45:50.128357Z",
     "start_time": "2024-11-26T14:45:50.097089Z"
    }
   },
   "cell_type": "code",
   "source": "np.kron(baza[0], np.kron(baza[0], baza[0])) + np.kron(baza[1], np.kron(baza[1], baza[1])) + np.kron(baza[2], np.kron(baza[2], baza[2]))",
   "id": "dffe8597c0464068",
   "outputs": [
    {
     "data": {
      "text/plain": [
       "array([[ 0.7345552 +0.j, -0.29639774+0.j, -0.07467688+0.j, ...,\n",
       "         0.16245092+0.j,  0.31390517+0.j, -0.35339324+0.j],\n",
       "       [ 0.7345552 +0.j, -0.29639774+0.j, -0.07467688+0.j, ...,\n",
       "         0.16245092+0.j,  0.31390517+0.j, -0.35339324+0.j],\n",
       "       [ 0.7345552 +0.j, -0.29639774+0.j, -0.07467688+0.j, ...,\n",
       "         0.16245092+0.j,  0.31390517+0.j, -0.35339324+0.j],\n",
       "       ...,\n",
       "       [ 0.7345552 +0.j, -0.29639774+0.j, -0.07467688+0.j, ...,\n",
       "         0.16245092+0.j,  0.31390517+0.j, -0.35339324+0.j],\n",
       "       [ 0.7345552 +0.j, -0.29639774+0.j, -0.07467688+0.j, ...,\n",
       "         0.16245092+0.j,  0.31390517+0.j, -0.35339324+0.j],\n",
       "       [ 1.7345552 +0.j,  0.70360226+0.j,  0.92532313+0.j, ...,\n",
       "         1.16245092+0.j,  1.31390517+0.j,  0.64660676+0.j]])"
      ]
     },
     "execution_count": 90,
     "metadata": {},
     "output_type": "execute_result"
    }
   ],
   "execution_count": 90
  },
  {
   "metadata": {
    "ExecuteTime": {
     "end_time": "2024-11-20T09:23:16.922950Z",
     "start_time": "2024-11-20T09:23:16.909164Z"
    }
   },
   "cell_type": "code",
   "source": [
    "zeroQ3 = np.array([[1], [0], [0]])\n",
    "oneQ3 = np.array([[0], [1], [0]])\n",
    "twoQ3 = np.array([[0], [0], [1]])"
   ],
   "id": "7c5c08f46fde4307",
   "outputs": [],
   "execution_count": 20
  },
  {
   "metadata": {},
   "cell_type": "code",
   "outputs": [],
   "execution_count": null,
   "source": "",
   "id": "4f021e9f64cd7e1"
  },
  {
   "metadata": {
    "ExecuteTime": {
     "end_time": "2024-11-20T09:30:27.863309Z",
     "start_time": "2024-11-20T09:30:27.854118Z"
    }
   },
   "cell_type": "code",
   "source": [
    "zeroXzeroQ3 = np.outer(zeroQ3, zeroQ3)\n",
    "oneXoneQ3 = np.outer(oneQ3, oneQ3)\n",
    "twoXtwoQ3 = np.outer(twoQ3, twoQ3)"
   ],
   "id": "9e8d362556984ed5",
   "outputs": [],
   "execution_count": 33
  },
  {
   "metadata": {
    "ExecuteTime": {
     "end_time": "2024-11-20T09:27:39.590470Z",
     "start_time": "2024-11-20T09:27:39.579960Z"
    }
   },
   "cell_type": "code",
   "source": "1j",
   "id": "db654594cc455f72",
   "outputs": [
    {
     "data": {
      "text/plain": [
       "1j"
      ]
     },
     "execution_count": 27,
     "metadata": {},
     "output_type": "execute_result"
    }
   ],
   "execution_count": 27
  },
  {
   "metadata": {
    "ExecuteTime": {
     "end_time": "2024-11-20T09:28:59.758061Z",
     "start_time": "2024-11-20T09:28:59.742426Z"
    }
   },
   "cell_type": "code",
   "source": "F = np.array([[1, 0, 0], [0, np.exp(np.pi*2/3 * 1j), 0], [0, 0, np.exp(np.pi*4/3 * 1j)]])",
   "id": "8eee1ede32b87288",
   "outputs": [],
   "execution_count": 30
  },
  {
   "metadata": {
    "ExecuteTime": {
     "end_time": "2024-11-20T09:29:06.230191Z",
     "start_time": "2024-11-20T09:29:06.217138Z"
    }
   },
   "cell_type": "code",
   "source": "F.round(3)",
   "id": "f0a44e62c5c2a8ec",
   "outputs": [
    {
     "data": {
      "text/plain": [
       "array([[ 1. +0.j   ,  0. +0.j   ,  0. +0.j   ],\n",
       "       [ 0. +0.j   , -0.5+0.866j,  0. +0.j   ],\n",
       "       [ 0. +0.j   ,  0. +0.j   , -0.5-0.866j]])"
      ]
     },
     "execution_count": 32,
     "metadata": {},
     "output_type": "execute_result"
    }
   ],
   "execution_count": 32
  },
  {
   "metadata": {
    "ExecuteTime": {
     "end_time": "2024-11-20T09:31:22.829990Z",
     "start_time": "2024-11-20T09:31:22.814365Z"
    }
   },
   "cell_type": "code",
   "source": "czTEST = np.kron(zeroXzeroQ3, np.identity(3)) + np.kron(oneXoneQ3, F) + np.kron(twoXtwoQ3, multi_dot([F, F]))",
   "id": "64afe1b5d0fb0921",
   "outputs": [],
   "execution_count": 35
  },
  {
   "metadata": {
    "ExecuteTime": {
     "end_time": "2024-11-20T09:31:26.972593Z",
     "start_time": "2024-11-20T09:31:26.961940Z"
    }
   },
   "cell_type": "code",
   "source": "czTEST",
   "id": "936929f6396b7e00",
   "outputs": [
    {
     "data": {
      "text/plain": [
       "array([[ 1. +0.j       ,  0. +0.j       ,  0. +0.j       ,\n",
       "         0. +0.j       ,  0. +0.j       ,  0. +0.j       ,\n",
       "         0. +0.j       ,  0. +0.j       ,  0. +0.j       ],\n",
       "       [ 0. +0.j       ,  1. +0.j       ,  0. +0.j       ,\n",
       "         0. +0.j       ,  0. +0.j       ,  0. +0.j       ,\n",
       "         0. +0.j       ,  0. +0.j       ,  0. +0.j       ],\n",
       "       [ 0. +0.j       ,  0. +0.j       ,  1. +0.j       ,\n",
       "         0. +0.j       ,  0. +0.j       ,  0. +0.j       ,\n",
       "         0. +0.j       ,  0. +0.j       ,  0. +0.j       ],\n",
       "       [ 0. +0.j       ,  0. +0.j       ,  0. +0.j       ,\n",
       "         1. +0.j       ,  0. +0.j       ,  0. +0.j       ,\n",
       "         0. +0.j       ,  0. +0.j       ,  0. +0.j       ],\n",
       "       [ 0. +0.j       ,  0. +0.j       ,  0. +0.j       ,\n",
       "         0. +0.j       , -0.5+0.8660254j,  0. +0.j       ,\n",
       "         0. +0.j       ,  0. +0.j       ,  0. +0.j       ],\n",
       "       [ 0. +0.j       ,  0. +0.j       ,  0. +0.j       ,\n",
       "         0. +0.j       ,  0. +0.j       , -0.5-0.8660254j,\n",
       "         0. +0.j       ,  0. +0.j       ,  0. +0.j       ],\n",
       "       [ 0. +0.j       ,  0. +0.j       ,  0. +0.j       ,\n",
       "         0. +0.j       ,  0. +0.j       ,  0. +0.j       ,\n",
       "         1. +0.j       ,  0. +0.j       ,  0. +0.j       ],\n",
       "       [ 0. +0.j       ,  0. +0.j       ,  0. +0.j       ,\n",
       "         0. +0.j       ,  0. +0.j       ,  0. +0.j       ,\n",
       "         0. +0.j       , -0.5-0.8660254j,  0. +0.j       ],\n",
       "       [ 0. +0.j       ,  0. +0.j       ,  0. +0.j       ,\n",
       "         0. +0.j       ,  0. +0.j       ,  0. +0.j       ,\n",
       "         0. +0.j       ,  0. +0.j       , -0.5+0.8660254j]])"
      ]
     },
     "execution_count": 36,
     "metadata": {},
     "output_type": "execute_result"
    }
   ],
   "execution_count": 36
  },
  {
   "metadata": {
    "ExecuteTime": {
     "end_time": "2024-11-20T09:31:47.849901Z",
     "start_time": "2024-11-20T09:31:47.837892Z"
    }
   },
   "cell_type": "code",
   "source": "np.dot(czTEST, czTEST.conj().T)",
   "id": "f25fc09f4abbb909",
   "outputs": [
    {
     "data": {
      "text/plain": [
       "array([[1.+0.j, 0.+0.j, 0.+0.j, 0.+0.j, 0.+0.j, 0.+0.j, 0.+0.j, 0.+0.j,\n",
       "        0.+0.j],\n",
       "       [0.+0.j, 1.+0.j, 0.+0.j, 0.+0.j, 0.+0.j, 0.+0.j, 0.+0.j, 0.+0.j,\n",
       "        0.+0.j],\n",
       "       [0.+0.j, 0.+0.j, 1.+0.j, 0.+0.j, 0.+0.j, 0.+0.j, 0.+0.j, 0.+0.j,\n",
       "        0.+0.j],\n",
       "       [0.+0.j, 0.+0.j, 0.+0.j, 1.+0.j, 0.+0.j, 0.+0.j, 0.+0.j, 0.+0.j,\n",
       "        0.+0.j],\n",
       "       [0.+0.j, 0.+0.j, 0.+0.j, 0.+0.j, 1.+0.j, 0.+0.j, 0.+0.j, 0.+0.j,\n",
       "        0.+0.j],\n",
       "       [0.+0.j, 0.+0.j, 0.+0.j, 0.+0.j, 0.+0.j, 1.+0.j, 0.+0.j, 0.+0.j,\n",
       "        0.+0.j],\n",
       "       [0.+0.j, 0.+0.j, 0.+0.j, 0.+0.j, 0.+0.j, 0.+0.j, 1.+0.j, 0.+0.j,\n",
       "        0.+0.j],\n",
       "       [0.+0.j, 0.+0.j, 0.+0.j, 0.+0.j, 0.+0.j, 0.+0.j, 0.+0.j, 1.+0.j,\n",
       "        0.+0.j],\n",
       "       [0.+0.j, 0.+0.j, 0.+0.j, 0.+0.j, 0.+0.j, 0.+0.j, 0.+0.j, 0.+0.j,\n",
       "        1.+0.j]])"
      ]
     },
     "execution_count": 37,
     "metadata": {},
     "output_type": "execute_result"
    }
   ],
   "execution_count": 37
  },
  {
   "metadata": {},
   "cell_type": "code",
   "outputs": [],
   "execution_count": null,
   "source": "",
   "id": "5553e19dfbe640b3"
  }
 ],
 "metadata": {
  "kernelspec": {
   "display_name": "Python 3",
   "language": "python",
   "name": "python3"
  },
  "language_info": {
   "codemirror_mode": {
    "name": "ipython",
    "version": 2
   },
   "file_extension": ".py",
   "mimetype": "text/x-python",
   "name": "python",
   "nbconvert_exporter": "python",
   "pygments_lexer": "ipython2",
   "version": "2.7.6"
  }
 },
 "nbformat": 4,
 "nbformat_minor": 5
}
