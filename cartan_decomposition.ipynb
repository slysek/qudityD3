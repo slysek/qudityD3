{
 "cells": [
  {
   "metadata": {
    "ExecuteTime": {
     "end_time": "2024-11-20T09:05:25.137392Z",
     "start_time": "2024-11-20T09:05:23.797475Z"
    }
   },
   "cell_type": "code",
   "source": [
    "import numpy as np\n",
    "import qiskit.circuit.library as lib\n",
    "from qiskit.quantum_info import Operator\n",
    "from numpy.linalg import multi_dot\n",
    "from IPython.display import display, Latex\n",
    "\n",
    "def numpy_to_latex(matrix):\n",
    "    latex_code = \"\\\\begin{bmatrix}\\n\"\n",
    "    for row in matrix:\n",
    "        latex_code += \" & \".join(map(str, row)) + \" \\\\\\\\\\n\"\n",
    "    latex_code += \"\\\\end{bmatrix}\"\n",
    "    return latex_code\n",
    "\n",
    "\n",
    "Z = Operator(lib.ZGate())\n",
    "X = Operator(lib.XGate())\n",
    "\n",
    "def Ry(theta):\n",
    "    return Operator(lib.RYGate(theta))\n",
    "\n",
    "def P(theta):\n",
    "    return Operator(lib.PhaseGate(theta))\n",
    "\n",
    "u1 = multi_dot([X, Ry(np.arctan(1 + np.sqrt(3))), Z, P(np.pi * 3 / 16), X, P(np.pi * 15 / 16)])\n",
    "u2 = u1\n",
    "v1 = multi_dot([X, P(np.pi * 3 / 16), X, P(np.pi * 15 / 16), X, Ry(np.arctan(1 + np.sqrt(3))), Z, X])\n",
    "v2 = multi_dot([X, Z, X, P(np.pi * 9 / 16), X, P(np.pi * 13 / 16), X, Z, Ry(np.arctan(1 + np.sqrt(3)))])\n",
    "pi = np.pi\n",
    "sqrt = np.sqrt\n",
    "log = np.log\n",
    "\n",
    "common_log_term = log(-1 / 6 * (-1) ** (1 / 4) * (sqrt(24 - 6 * sqrt(3)) + 1j * (3 + sqrt(3))))\n",
    "common_factor = 3j + 1j * sqrt(3) + sqrt(6 * (4 - sqrt(3)))\n",
    "denominator = 15 * pi - 4 * 1j * common_log_term\n",
    "\n",
    "VCx = np.array([\n",
    "    [\n",
    "        -(((-1) ** (5 / 8) * common_factor * (30 * pi - 8 * 1j * common_log_term)) / (24 * denominator)) +\n",
    "        (3 * (-1) ** (5 / 8) * (-30 * pi + 8 * 1j * common_log_term)) / (2 * common_factor * denominator),\n",
    "        0,\n",
    "        0,\n",
    "        (3 * (-1) ** (5 / 8) * (-30 * pi + 8 * 1j * common_log_term)) / (2 * common_factor * denominator) -\n",
    "        ((-1) ** (5 / 8) * common_factor * (-30 * pi + 8 * 1j * common_log_term)) / (24 * denominator)\n",
    "    ],\n",
    "    [\n",
    "        0,\n",
    "        -(1 / 2) * (-1) ** (1 / 8) - (1 / 2) * (-1) ** (5 / 8),\n",
    "        -(1 / 2) * (-1) ** (1 / 8) + (1 / 2) * (-1) ** (5 / 8),\n",
    "        0\n",
    "    ],\n",
    "    [\n",
    "        0,\n",
    "        -(1 / 2) * (-1) ** (1 / 8) + (1 / 2) * (-1) ** (5 / 8),\n",
    "        -(1 / 2) * (-1) ** (1 / 8) - (1 / 2) * (-1) ** (5 / 8),\n",
    "        0\n",
    "    ],\n",
    "    [\n",
    "        (3 * (-1) ** (5 / 8) * (-30 * pi + 8 * 1j * common_log_term)) / (2 * common_factor * denominator) -\n",
    "        ((-1) ** (5 / 8) * common_factor * (-30 * pi + 8 * 1j * common_log_term)) / (24 * denominator),\n",
    "        0,\n",
    "        0,\n",
    "        -(((-1) ** (5 / 8) * common_factor * (30 * pi - 8 * 1j * common_log_term)) / (24 * denominator)) +\n",
    "        (3 * (-1) ** (5 / 8) * (-30 * pi + 8 * 1j * common_log_term)) / (2 * common_factor * denominator)\n",
    "    ]\n",
    "], dtype=complex)\n",
    "\n",
    "\n",
    "fCheck = multi_dot([np.kron(u1, u2), VCx, np.kron(v1, v2)]).round(7)\n",
    "\n",
    "zero_qubit = np.array([[1],[0]])\n",
    "one_qubit = np.array([[0],[1]])\n",
    "qubity = [zero_qubit, one_qubit]"
   ],
   "id": "22d20f16c9f5539b",
   "outputs": [],
   "execution_count": 1
  },
  {
   "metadata": {
    "ExecuteTime": {
     "end_time": "2024-11-20T09:34:03.832947Z",
     "start_time": "2024-11-20T09:34:03.817302Z"
    }
   },
   "cell_type": "code",
   "source": "bellPlus = 1/np.sqrt(2) * (np.kron(qubity[0], qubity[0]) + np.kron(qubity[1], qubity[1]))",
   "id": "e951e4657b92e752",
   "outputs": [],
   "execution_count": 38
  },
  {
   "metadata": {
    "ExecuteTime": {
     "end_time": "2024-11-20T09:34:07.761451Z",
     "start_time": "2024-11-20T09:34:07.745816Z"
    }
   },
   "cell_type": "code",
   "source": "bellPlus",
   "id": "59464cb841bf1f09",
   "outputs": [
    {
     "data": {
      "text/plain": [
       "array([[0.70710678],\n",
       "       [0.        ],\n",
       "       [0.        ],\n",
       "       [0.70710678]])"
      ]
     },
     "execution_count": 39,
     "metadata": {},
     "output_type": "execute_result"
    }
   ],
   "execution_count": 39
  },
  {
   "metadata": {
    "ExecuteTime": {
     "end_time": "2024-11-20T09:48:35.870963Z",
     "start_time": "2024-11-20T09:48:35.855293Z"
    }
   },
   "cell_type": "code",
   "source": "stanBazy = 1/np.sqrt(2) * np.array([[0], [0], [1], [1]])",
   "id": "f8f1cd0e5064b721",
   "outputs": [],
   "execution_count": 52
  },
  {
   "metadata": {
    "ExecuteTime": {
     "end_time": "2024-11-20T09:48:41.260224Z",
     "start_time": "2024-11-20T09:48:41.228638Z"
    }
   },
   "cell_type": "code",
   "source": "stanBazy",
   "id": "92dc13bb262f6733",
   "outputs": [
    {
     "data": {
      "text/plain": [
       "array([[0.        ],\n",
       "       [0.        ],\n",
       "       [0.70710678],\n",
       "       [0.70710678]])"
      ]
     },
     "execution_count": 53,
     "metadata": {},
     "output_type": "execute_result"
    }
   ],
   "execution_count": 53
  },
  {
   "metadata": {
    "ExecuteTime": {
     "end_time": "2024-11-20T09:48:48.544132Z",
     "start_time": "2024-11-20T09:48:48.534621Z"
    }
   },
   "cell_type": "code",
   "source": "baza = [np.kron(qubity[0], qubity[0]), np.kron(qubity[0], qubity[1]), stanBazy]",
   "id": "b109270ae4e8f3a",
   "outputs": [],
   "execution_count": 54
  },
  {
   "metadata": {
    "ExecuteTime": {
     "end_time": "2024-11-20T09:48:49.231478Z",
     "start_time": "2024-11-20T09:48:49.203003Z"
    }
   },
   "cell_type": "code",
   "source": [
    "stan0x0 = np.outer(baza[0], baza[0])\n",
    "stan1x1 = np.outer(baza[1], baza[1])\n",
    "stan2x2 = np.outer(baza[2], baza[2])\n",
    "\n",
    "stanPlus = multi_dot([fCheck, baza[0]])\n",
    "\n",
    "stanPrzygotowany = np.kron(fCheck, np.kron(np.identity(4), np.identity(4)))\n",
    "\n",
    "Cz01 = np.kron(stan0x0, fCheck) + np.kron(stan1x1, multi_dot([fCheck, fCheck])) + np.kron(stan2x2, np.identity(4))\n",
    "CZ01 = np.kron(Cz01, np.identity(4))\n",
    "\n",
    "\n",
    "\n",
    "Cz02 = np.kron(np.kron(stan0x0, np.identity(4)), fCheck) + np.kron(np.kron(stan1x1, np.identity(4)), np.identity(4)) + np.kron(np.kron(stan2x2, np.identity(4)), multi_dot([fCheck, fCheck]))\n",
    "\n",
    "\n",
    "#print(f'Cz02 = {Cz02}')\n",
    "\n",
    "Cz12 = np.kron(np.identity(4), np.kron(stan0x0, np.identity(4)) + np.kron(stan1x1, fCheck) + np.kron(stan2x2, multi_dot([fCheck, fCheck])))\n",
    "\n",
    "\n",
    "\n",
    "U = multi_dot([CZ01, Cz02, stanPrzygotowany])\n",
    "\n",
    "#print(f'GHZ = {GHZ}')\n",
    "\n",
    "stanStart = np.kron(baza[0], np.kron(baza[0], baza[0]))\n",
    "\n",
    "GHZ = multi_dot([U, stanStart])\n",
    "\n",
    "wspolczynnik_zmiany_bazy = np.kron(np.identity(4), np.kron(fCheck.conj().T, fCheck.conj().T))\n",
    "\n",
    "GHZqubity = multi_dot([wspolczynnik_zmiany_bazy, GHZ])\n"
   ],
   "id": "be90502f8a7bbbf8",
   "outputs": [],
   "execution_count": 55
  },
  {
   "metadata": {
    "ExecuteTime": {
     "end_time": "2024-11-20T09:48:49.827161Z",
     "start_time": "2024-11-20T09:48:49.795289Z"
    }
   },
   "cell_type": "code",
   "source": "np.kron(np.outer(qubity[0], qubity[0]), np.identity(2)) + np.kron(np.outer(qubity[1], qubity[1]), Z)",
   "id": "3f64894793f12313",
   "outputs": [
    {
     "data": {
      "text/plain": [
       "array([[ 1.+0.j,  0.+0.j,  0.+0.j,  0.+0.j],\n",
       "       [ 0.+0.j,  1.+0.j,  0.+0.j,  0.+0.j],\n",
       "       [ 0.+0.j,  0.+0.j,  1.+0.j,  0.+0.j],\n",
       "       [ 0.+0.j,  0.+0.j,  0.+0.j, -1.+0.j]])"
      ]
     },
     "execution_count": 56,
     "metadata": {},
     "output_type": "execute_result"
    }
   ],
   "execution_count": 56
  },
  {
   "metadata": {
    "ExecuteTime": {
     "end_time": "2024-11-20T09:48:50.468444Z",
     "start_time": "2024-11-20T09:48:50.455933Z"
    }
   },
   "cell_type": "code",
   "source": "stanPrzygotowany.shape",
   "id": "5c725d51da436d31",
   "outputs": [
    {
     "data": {
      "text/plain": [
       "(64, 64)"
      ]
     },
     "execution_count": 57,
     "metadata": {},
     "output_type": "execute_result"
    }
   ],
   "execution_count": 57
  },
  {
   "metadata": {
    "ExecuteTime": {
     "end_time": "2024-11-20T09:48:51.260233Z",
     "start_time": "2024-11-20T09:48:51.238587Z"
    }
   },
   "cell_type": "code",
   "source": "GHZ.shape",
   "id": "7613cfbaf774bf20",
   "outputs": [
    {
     "data": {
      "text/plain": [
       "(64, 1)"
      ]
     },
     "execution_count": 58,
     "metadata": {},
     "output_type": "execute_result"
    }
   ],
   "execution_count": 58
  },
  {
   "metadata": {
    "ExecuteTime": {
     "end_time": "2024-11-20T09:48:52.154838Z",
     "start_time": "2024-11-20T09:48:52.139204Z"
    }
   },
   "cell_type": "code",
   "source": "stan0x0",
   "id": "3eaeffc6db89b650",
   "outputs": [
    {
     "data": {
      "text/plain": [
       "array([[1, 0, 0, 0],\n",
       "       [0, 0, 0, 0],\n",
       "       [0, 0, 0, 0],\n",
       "       [0, 0, 0, 0]])"
      ]
     },
     "execution_count": 59,
     "metadata": {},
     "output_type": "execute_result"
    }
   ],
   "execution_count": 59
  },
  {
   "metadata": {
    "ExecuteTime": {
     "end_time": "2024-11-20T09:48:53.196133Z",
     "start_time": "2024-11-20T09:48:53.180181Z"
    }
   },
   "cell_type": "code",
   "source": "stan1x1",
   "id": "314051f38dc25977",
   "outputs": [
    {
     "data": {
      "text/plain": [
       "array([[0, 0, 0, 0],\n",
       "       [0, 1, 0, 0],\n",
       "       [0, 0, 0, 0],\n",
       "       [0, 0, 0, 0]])"
      ]
     },
     "execution_count": 60,
     "metadata": {},
     "output_type": "execute_result"
    }
   ],
   "execution_count": 60
  },
  {
   "metadata": {
    "ExecuteTime": {
     "end_time": "2024-11-20T09:48:53.947713Z",
     "start_time": "2024-11-20T09:48:53.931661Z"
    }
   },
   "cell_type": "code",
   "source": "stan2x2",
   "id": "f93be8a5a555b40",
   "outputs": [
    {
     "data": {
      "text/plain": [
       "array([[0. , 0. , 0. , 0. ],\n",
       "       [0. , 0. , 0. , 0. ],\n",
       "       [0. , 0. , 0.5, 0.5],\n",
       "       [0. , 0. , 0.5, 0.5]])"
      ]
     },
     "execution_count": 61,
     "metadata": {},
     "output_type": "execute_result"
    }
   ],
   "execution_count": 61
  },
  {
   "metadata": {
    "ExecuteTime": {
     "end_time": "2024-11-20T09:49:03.404488Z",
     "start_time": "2024-11-20T09:49:03.372829Z"
    }
   },
   "cell_type": "code",
   "source": "(multi_dot([fCheck, baza[1]]) * np.sqrt(3)).round(3)",
   "id": "66b95451ca11a19b",
   "outputs": [
    {
     "data": {
      "text/plain": [
       "array([[ 1. +0.j   ],\n",
       "       [-0.5+0.866j],\n",
       "       [-0.5-0.866j],\n",
       "       [ 0. +0.j   ]])"
      ]
     },
     "execution_count": 62,
     "metadata": {},
     "output_type": "execute_result"
    }
   ],
   "execution_count": 62
  },
  {
   "metadata": {
    "ExecuteTime": {
     "end_time": "2024-11-20T09:49:05.092161Z",
     "start_time": "2024-11-20T09:49:05.076904Z"
    }
   },
   "cell_type": "code",
   "source": "(multi_dot([fCheck, baza[2]]))",
   "id": "cd7898d8a685f000",
   "outputs": [
    {
     "data": {
      "text/plain": [
       "array([[ 0.40824831+0.j        ],\n",
       "       [-0.20412412-0.35355339j],\n",
       "       [-0.20412412+0.35355339j],\n",
       "       [ 0.70710678+0.j        ]])"
      ]
     },
     "execution_count": 63,
     "metadata": {},
     "output_type": "execute_result"
    }
   ],
   "execution_count": 63
  },
  {
   "metadata": {
    "ExecuteTime": {
     "end_time": "2024-11-20T09:49:25.891930Z",
     "start_time": "2024-11-20T09:49:25.861547Z"
    }
   },
   "cell_type": "code",
   "source": "Cz01 ",
   "id": "309c1cc873d4f544",
   "outputs": [
    {
     "data": {
      "text/plain": [
       "array([[ 5.77350300e-01+0.j ,  5.77350300e-01+0.j ,  5.77350300e-01+0.j ,\n",
       "         0.00000000e+00+0.j ,  0.00000000e+00+0.j ,  0.00000000e+00+0.j ,\n",
       "         0.00000000e+00+0.j ,  0.00000000e+00+0.j ,  0.00000000e+00+0.j ,\n",
       "         0.00000000e+00+0.j ,  0.00000000e+00+0.j ,  0.00000000e+00+0.j ,\n",
       "         0.00000000e+00+0.j ,  0.00000000e+00+0.j ,  0.00000000e+00+0.j ,\n",
       "         0.00000000e+00+0.j ],\n",
       "       [ 5.77350300e-01+0.j , -2.88675100e-01+0.5j, -2.88675100e-01-0.5j,\n",
       "         0.00000000e+00+0.j ,  0.00000000e+00+0.j ,  0.00000000e+00+0.j ,\n",
       "         0.00000000e+00+0.j ,  0.00000000e+00+0.j ,  0.00000000e+00+0.j ,\n",
       "         0.00000000e+00+0.j ,  0.00000000e+00+0.j ,  0.00000000e+00+0.j ,\n",
       "         0.00000000e+00+0.j ,  0.00000000e+00+0.j ,  0.00000000e+00+0.j ,\n",
       "         0.00000000e+00+0.j ],\n",
       "       [ 5.77350300e-01+0.j , -2.88675100e-01-0.5j, -2.88675100e-01+0.5j,\n",
       "         0.00000000e+00+0.j ,  0.00000000e+00+0.j ,  0.00000000e+00+0.j ,\n",
       "         0.00000000e+00+0.j ,  0.00000000e+00+0.j ,  0.00000000e+00+0.j ,\n",
       "         0.00000000e+00+0.j ,  0.00000000e+00+0.j ,  0.00000000e+00+0.j ,\n",
       "         0.00000000e+00+0.j ,  0.00000000e+00+0.j ,  0.00000000e+00+0.j ,\n",
       "         0.00000000e+00+0.j ],\n",
       "       [ 0.00000000e+00+0.j ,  0.00000000e+00+0.j ,  0.00000000e+00+0.j ,\n",
       "         1.00000000e+00+0.j ,  0.00000000e+00+0.j ,  0.00000000e+00+0.j ,\n",
       "         0.00000000e+00+0.j ,  0.00000000e+00+0.j ,  0.00000000e+00+0.j ,\n",
       "         0.00000000e+00+0.j ,  0.00000000e+00+0.j ,  0.00000000e+00+0.j ,\n",
       "         0.00000000e+00+0.j ,  0.00000000e+00+0.j ,  0.00000000e+00+0.j ,\n",
       "         0.00000000e+00+0.j ],\n",
       "       [ 0.00000000e+00+0.j ,  0.00000000e+00+0.j ,  0.00000000e+00+0.j ,\n",
       "         0.00000000e+00+0.j ,  1.00000011e+00+0.j ,  5.77350300e-08+0.j ,\n",
       "         5.77350300e-08+0.j ,  0.00000000e+00+0.j ,  0.00000000e+00+0.j ,\n",
       "         0.00000000e+00+0.j ,  0.00000000e+00+0.j ,  0.00000000e+00+0.j ,\n",
       "         0.00000000e+00+0.j ,  0.00000000e+00+0.j ,  0.00000000e+00+0.j ,\n",
       "         0.00000000e+00+0.j ],\n",
       "       [ 0.00000000e+00+0.j ,  0.00000000e+00+0.j ,  0.00000000e+00+0.j ,\n",
       "         0.00000000e+00+0.j ,  5.77350300e-08+0.j , -4.36989001e-09+0.j ,\n",
       "         9.99999996e-01+0.j ,  0.00000000e+00+0.j ,  0.00000000e+00+0.j ,\n",
       "         0.00000000e+00+0.j ,  0.00000000e+00+0.j ,  0.00000000e+00+0.j ,\n",
       "         0.00000000e+00+0.j ,  0.00000000e+00+0.j ,  0.00000000e+00+0.j ,\n",
       "         0.00000000e+00+0.j ],\n",
       "       [ 0.00000000e+00+0.j ,  0.00000000e+00+0.j ,  0.00000000e+00+0.j ,\n",
       "         0.00000000e+00+0.j ,  5.77350300e-08+0.j ,  9.99999996e-01+0.j ,\n",
       "        -4.36989001e-09+0.j ,  0.00000000e+00+0.j ,  0.00000000e+00+0.j ,\n",
       "         0.00000000e+00+0.j ,  0.00000000e+00+0.j ,  0.00000000e+00+0.j ,\n",
       "         0.00000000e+00+0.j ,  0.00000000e+00+0.j ,  0.00000000e+00+0.j ,\n",
       "         0.00000000e+00+0.j ],\n",
       "       [ 0.00000000e+00+0.j ,  0.00000000e+00+0.j ,  0.00000000e+00+0.j ,\n",
       "         0.00000000e+00+0.j ,  0.00000000e+00+0.j ,  0.00000000e+00+0.j ,\n",
       "         0.00000000e+00+0.j ,  1.00000000e+00+0.j ,  0.00000000e+00+0.j ,\n",
       "         0.00000000e+00+0.j ,  0.00000000e+00+0.j ,  0.00000000e+00+0.j ,\n",
       "         0.00000000e+00+0.j ,  0.00000000e+00+0.j ,  0.00000000e+00+0.j ,\n",
       "         0.00000000e+00+0.j ],\n",
       "       [ 0.00000000e+00+0.j ,  0.00000000e+00+0.j ,  0.00000000e+00+0.j ,\n",
       "         0.00000000e+00+0.j ,  0.00000000e+00+0.j ,  0.00000000e+00+0.j ,\n",
       "         0.00000000e+00+0.j ,  0.00000000e+00+0.j ,  5.00000000e-01+0.j ,\n",
       "         0.00000000e+00+0.j ,  0.00000000e+00+0.j ,  0.00000000e+00+0.j ,\n",
       "         5.00000000e-01+0.j ,  0.00000000e+00+0.j ,  0.00000000e+00+0.j ,\n",
       "         0.00000000e+00+0.j ],\n",
       "       [ 0.00000000e+00+0.j ,  0.00000000e+00+0.j ,  0.00000000e+00+0.j ,\n",
       "         0.00000000e+00+0.j ,  0.00000000e+00+0.j ,  0.00000000e+00+0.j ,\n",
       "         0.00000000e+00+0.j ,  0.00000000e+00+0.j ,  0.00000000e+00+0.j ,\n",
       "         5.00000000e-01+0.j ,  0.00000000e+00+0.j ,  0.00000000e+00+0.j ,\n",
       "         0.00000000e+00+0.j ,  5.00000000e-01+0.j ,  0.00000000e+00+0.j ,\n",
       "         0.00000000e+00+0.j ],\n",
       "       [ 0.00000000e+00+0.j ,  0.00000000e+00+0.j ,  0.00000000e+00+0.j ,\n",
       "         0.00000000e+00+0.j ,  0.00000000e+00+0.j ,  0.00000000e+00+0.j ,\n",
       "         0.00000000e+00+0.j ,  0.00000000e+00+0.j ,  0.00000000e+00+0.j ,\n",
       "         0.00000000e+00+0.j ,  5.00000000e-01+0.j ,  0.00000000e+00+0.j ,\n",
       "         0.00000000e+00+0.j ,  0.00000000e+00+0.j ,  5.00000000e-01+0.j ,\n",
       "         0.00000000e+00+0.j ],\n",
       "       [ 0.00000000e+00+0.j ,  0.00000000e+00+0.j ,  0.00000000e+00+0.j ,\n",
       "         0.00000000e+00+0.j ,  0.00000000e+00+0.j ,  0.00000000e+00+0.j ,\n",
       "         0.00000000e+00+0.j ,  0.00000000e+00+0.j ,  0.00000000e+00+0.j ,\n",
       "         0.00000000e+00+0.j ,  0.00000000e+00+0.j ,  5.00000000e-01+0.j ,\n",
       "         0.00000000e+00+0.j ,  0.00000000e+00+0.j ,  0.00000000e+00+0.j ,\n",
       "         5.00000000e-01+0.j ],\n",
       "       [ 0.00000000e+00+0.j ,  0.00000000e+00+0.j ,  0.00000000e+00+0.j ,\n",
       "         0.00000000e+00+0.j ,  0.00000000e+00+0.j ,  0.00000000e+00+0.j ,\n",
       "         0.00000000e+00+0.j ,  0.00000000e+00+0.j ,  5.00000000e-01+0.j ,\n",
       "         0.00000000e+00+0.j ,  0.00000000e+00+0.j ,  0.00000000e+00+0.j ,\n",
       "         5.00000000e-01+0.j ,  0.00000000e+00+0.j ,  0.00000000e+00+0.j ,\n",
       "         0.00000000e+00+0.j ],\n",
       "       [ 0.00000000e+00+0.j ,  0.00000000e+00+0.j ,  0.00000000e+00+0.j ,\n",
       "         0.00000000e+00+0.j ,  0.00000000e+00+0.j ,  0.00000000e+00+0.j ,\n",
       "         0.00000000e+00+0.j ,  0.00000000e+00+0.j ,  0.00000000e+00+0.j ,\n",
       "         5.00000000e-01+0.j ,  0.00000000e+00+0.j ,  0.00000000e+00+0.j ,\n",
       "         0.00000000e+00+0.j ,  5.00000000e-01+0.j ,  0.00000000e+00+0.j ,\n",
       "         0.00000000e+00+0.j ],\n",
       "       [ 0.00000000e+00+0.j ,  0.00000000e+00+0.j ,  0.00000000e+00+0.j ,\n",
       "         0.00000000e+00+0.j ,  0.00000000e+00+0.j ,  0.00000000e+00+0.j ,\n",
       "         0.00000000e+00+0.j ,  0.00000000e+00+0.j ,  0.00000000e+00+0.j ,\n",
       "         0.00000000e+00+0.j ,  5.00000000e-01+0.j ,  0.00000000e+00+0.j ,\n",
       "         0.00000000e+00+0.j ,  0.00000000e+00+0.j ,  5.00000000e-01+0.j ,\n",
       "         0.00000000e+00+0.j ],\n",
       "       [ 0.00000000e+00+0.j ,  0.00000000e+00+0.j ,  0.00000000e+00+0.j ,\n",
       "         0.00000000e+00+0.j ,  0.00000000e+00+0.j ,  0.00000000e+00+0.j ,\n",
       "         0.00000000e+00+0.j ,  0.00000000e+00+0.j ,  0.00000000e+00+0.j ,\n",
       "         0.00000000e+00+0.j ,  0.00000000e+00+0.j ,  5.00000000e-01+0.j ,\n",
       "         0.00000000e+00+0.j ,  0.00000000e+00+0.j ,  0.00000000e+00+0.j ,\n",
       "         5.00000000e-01+0.j ]])"
      ]
     },
     "execution_count": 64,
     "metadata": {},
     "output_type": "execute_result"
    }
   ],
   "execution_count": 64
  },
  {
   "metadata": {
    "ExecuteTime": {
     "end_time": "2024-11-20T09:50:10.075578Z",
     "start_time": "2024-11-20T09:50:10.059481Z"
    }
   },
   "cell_type": "code",
   "source": "np.dot(Cz01, Cz01.conj().T).round(2)",
   "id": "8547e1c3936a66f0",
   "outputs": [
    {
     "data": {
      "text/plain": [
       "array([[ 1. +0.j,  0. +0.j,  0. +0.j,  0. +0.j,  0. +0.j,  0. +0.j,\n",
       "         0. +0.j,  0. +0.j,  0. +0.j,  0. +0.j,  0. +0.j,  0. +0.j,\n",
       "         0. +0.j,  0. +0.j,  0. +0.j,  0. +0.j],\n",
       "       [ 0. +0.j,  1. +0.j, -0. +0.j,  0. +0.j,  0. +0.j,  0. +0.j,\n",
       "         0. +0.j,  0. +0.j,  0. +0.j,  0. +0.j,  0. +0.j,  0. +0.j,\n",
       "         0. +0.j,  0. +0.j,  0. +0.j,  0. +0.j],\n",
       "       [ 0. +0.j, -0. +0.j,  1. +0.j,  0. +0.j,  0. +0.j,  0. +0.j,\n",
       "         0. +0.j,  0. +0.j,  0. +0.j,  0. +0.j,  0. +0.j,  0. +0.j,\n",
       "         0. +0.j,  0. +0.j,  0. +0.j,  0. +0.j],\n",
       "       [ 0. +0.j,  0. +0.j,  0. +0.j,  1. +0.j,  0. +0.j,  0. +0.j,\n",
       "         0. +0.j,  0. +0.j,  0. +0.j,  0. +0.j,  0. +0.j,  0. +0.j,\n",
       "         0. +0.j,  0. +0.j,  0. +0.j,  0. +0.j],\n",
       "       [ 0. +0.j,  0. +0.j,  0. +0.j,  0. +0.j,  1. +0.j,  0. +0.j,\n",
       "         0. +0.j,  0. +0.j,  0. +0.j,  0. +0.j,  0. +0.j,  0. +0.j,\n",
       "         0. +0.j,  0. +0.j,  0. +0.j,  0. +0.j],\n",
       "       [ 0. +0.j,  0. +0.j,  0. +0.j,  0. +0.j,  0. +0.j,  1. +0.j,\n",
       "        -0. +0.j,  0. +0.j,  0. +0.j,  0. +0.j,  0. +0.j,  0. +0.j,\n",
       "         0. +0.j,  0. +0.j,  0. +0.j,  0. +0.j],\n",
       "       [ 0. +0.j,  0. +0.j,  0. +0.j,  0. +0.j,  0. +0.j, -0. +0.j,\n",
       "         1. +0.j,  0. +0.j,  0. +0.j,  0. +0.j,  0. +0.j,  0. +0.j,\n",
       "         0. +0.j,  0. +0.j,  0. +0.j,  0. +0.j],\n",
       "       [ 0. +0.j,  0. +0.j,  0. +0.j,  0. +0.j,  0. +0.j,  0. +0.j,\n",
       "         0. +0.j,  1. +0.j,  0. +0.j,  0. +0.j,  0. +0.j,  0. +0.j,\n",
       "         0. +0.j,  0. +0.j,  0. +0.j,  0. +0.j],\n",
       "       [ 0. +0.j,  0. +0.j,  0. +0.j,  0. +0.j,  0. +0.j,  0. +0.j,\n",
       "         0. +0.j,  0. +0.j,  0.5+0.j,  0. +0.j,  0. +0.j,  0. +0.j,\n",
       "         0.5+0.j,  0. +0.j,  0. +0.j,  0. +0.j],\n",
       "       [ 0. +0.j,  0. +0.j,  0. +0.j,  0. +0.j,  0. +0.j,  0. +0.j,\n",
       "         0. +0.j,  0. +0.j,  0. +0.j,  0.5+0.j,  0. +0.j,  0. +0.j,\n",
       "         0. +0.j,  0.5+0.j,  0. +0.j,  0. +0.j],\n",
       "       [ 0. +0.j,  0. +0.j,  0. +0.j,  0. +0.j,  0. +0.j,  0. +0.j,\n",
       "         0. +0.j,  0. +0.j,  0. +0.j,  0. +0.j,  0.5+0.j,  0. +0.j,\n",
       "         0. +0.j,  0. +0.j,  0.5+0.j,  0. +0.j],\n",
       "       [ 0. +0.j,  0. +0.j,  0. +0.j,  0. +0.j,  0. +0.j,  0. +0.j,\n",
       "         0. +0.j,  0. +0.j,  0. +0.j,  0. +0.j,  0. +0.j,  0.5+0.j,\n",
       "         0. +0.j,  0. +0.j,  0. +0.j,  0.5+0.j],\n",
       "       [ 0. +0.j,  0. +0.j,  0. +0.j,  0. +0.j,  0. +0.j,  0. +0.j,\n",
       "         0. +0.j,  0. +0.j,  0.5+0.j,  0. +0.j,  0. +0.j,  0. +0.j,\n",
       "         0.5+0.j,  0. +0.j,  0. +0.j,  0. +0.j],\n",
       "       [ 0. +0.j,  0. +0.j,  0. +0.j,  0. +0.j,  0. +0.j,  0. +0.j,\n",
       "         0. +0.j,  0. +0.j,  0. +0.j,  0.5+0.j,  0. +0.j,  0. +0.j,\n",
       "         0. +0.j,  0.5+0.j,  0. +0.j,  0. +0.j],\n",
       "       [ 0. +0.j,  0. +0.j,  0. +0.j,  0. +0.j,  0. +0.j,  0. +0.j,\n",
       "         0. +0.j,  0. +0.j,  0. +0.j,  0. +0.j,  0.5+0.j,  0. +0.j,\n",
       "         0. +0.j,  0. +0.j,  0.5+0.j,  0. +0.j],\n",
       "       [ 0. +0.j,  0. +0.j,  0. +0.j,  0. +0.j,  0. +0.j,  0. +0.j,\n",
       "         0. +0.j,  0. +0.j,  0. +0.j,  0. +0.j,  0. +0.j,  0.5+0.j,\n",
       "         0. +0.j,  0. +0.j,  0. +0.j,  0.5+0.j]])"
      ]
     },
     "execution_count": 66,
     "metadata": {},
     "output_type": "execute_result"
    }
   ],
   "execution_count": 66
  },
  {
   "metadata": {
    "ExecuteTime": {
     "end_time": "2024-11-20T01:36:18.060898Z",
     "start_time": "2024-11-20T01:36:18.036913Z"
    }
   },
   "cell_type": "code",
   "source": "(GHZ * np.sqrt(3)).round(3)",
   "id": "3448820a2093a0fb",
   "outputs": [
    {
     "data": {
      "text/plain": [
       "array([[0.333+0.j],\n",
       "       [0.333+0.j],\n",
       "       [0.333+0.j],\n",
       "       [0.   +0.j],\n",
       "       [0.333+0.j],\n",
       "       [0.333+0.j],\n",
       "       [0.333+0.j],\n",
       "       [0.   +0.j],\n",
       "       [0.333+0.j],\n",
       "       [0.333+0.j],\n",
       "       [0.333+0.j],\n",
       "       [0.   +0.j],\n",
       "       [0.   +0.j],\n",
       "       [0.   +0.j],\n",
       "       [0.   +0.j],\n",
       "       [0.   +0.j],\n",
       "       [1.   +0.j],\n",
       "       [0.   +0.j],\n",
       "       [0.   +0.j],\n",
       "       [0.   +0.j],\n",
       "       [0.   +0.j],\n",
       "       [0.   +0.j],\n",
       "       [0.   +0.j],\n",
       "       [0.   +0.j],\n",
       "       [0.   +0.j],\n",
       "       [0.   +0.j],\n",
       "       [0.   +0.j],\n",
       "       [0.   +0.j],\n",
       "       [0.   +0.j],\n",
       "       [0.   +0.j],\n",
       "       [0.   +0.j],\n",
       "       [0.   +0.j],\n",
       "       [0.   +0.j],\n",
       "       [0.   +0.j],\n",
       "       [0.   +0.j],\n",
       "       [0.   +0.j],\n",
       "       [0.   +0.j],\n",
       "       [0.   +0.j],\n",
       "       [0.   +0.j],\n",
       "       [0.   +0.j],\n",
       "       [0.   +0.j],\n",
       "       [0.   +0.j],\n",
       "       [0.   +0.j],\n",
       "       [0.   +0.j],\n",
       "       [0.   +0.j],\n",
       "       [0.   +0.j],\n",
       "       [0.   +0.j],\n",
       "       [0.   +0.j],\n",
       "       [0.   +0.j],\n",
       "       [0.   +0.j],\n",
       "       [0.   +0.j],\n",
       "       [0.   +0.j],\n",
       "       [0.   +0.j],\n",
       "       [0.   +0.j],\n",
       "       [0.   +0.j],\n",
       "       [0.   +0.j],\n",
       "       [0.   +0.j],\n",
       "       [0.   +0.j],\n",
       "       [0.   +0.j],\n",
       "       [0.   +0.j],\n",
       "       [0.   +0.j],\n",
       "       [0.   +0.j],\n",
       "       [0.   +0.j],\n",
       "       [0.   +0.j]])"
      ]
     },
     "execution_count": 194,
     "metadata": {},
     "output_type": "execute_result"
    }
   ],
   "execution_count": 194
  },
  {
   "metadata": {
    "ExecuteTime": {
     "end_time": "2024-11-20T01:36:19.731924Z",
     "start_time": "2024-11-20T01:36:19.712938Z"
    }
   },
   "cell_type": "code",
   "source": "(GHZqubity * np.sqrt(3)).round(3)",
   "id": "de3450a05940fa3e",
   "outputs": [
    {
     "data": {
      "text/plain": [
       "array([[1.   +0.j],\n",
       "       [0.   +0.j],\n",
       "       [0.   +0.j],\n",
       "       [0.   +0.j],\n",
       "       [0.   -0.j],\n",
       "       [0.   +0.j],\n",
       "       [0.   +0.j],\n",
       "       [0.   +0.j],\n",
       "       [0.   +0.j],\n",
       "       [0.   -0.j],\n",
       "       [0.   +0.j],\n",
       "       [0.   +0.j],\n",
       "       [0.   +0.j],\n",
       "       [0.   +0.j],\n",
       "       [0.   +0.j],\n",
       "       [0.   +0.j],\n",
       "       [0.333+0.j],\n",
       "       [0.333+0.j],\n",
       "       [0.333+0.j],\n",
       "       [0.   +0.j],\n",
       "       [0.333+0.j],\n",
       "       [0.333+0.j],\n",
       "       [0.333+0.j],\n",
       "       [0.   +0.j],\n",
       "       [0.333-0.j],\n",
       "       [0.333-0.j],\n",
       "       [0.333-0.j],\n",
       "       [0.   +0.j],\n",
       "       [0.   +0.j],\n",
       "       [0.   +0.j],\n",
       "       [0.   +0.j],\n",
       "       [0.   +0.j],\n",
       "       [0.   +0.j],\n",
       "       [0.   +0.j],\n",
       "       [0.   +0.j],\n",
       "       [0.   +0.j],\n",
       "       [0.   +0.j],\n",
       "       [0.   +0.j],\n",
       "       [0.   +0.j],\n",
       "       [0.   +0.j],\n",
       "       [0.   +0.j],\n",
       "       [0.   +0.j],\n",
       "       [0.   +0.j],\n",
       "       [0.   +0.j],\n",
       "       [0.   +0.j],\n",
       "       [0.   +0.j],\n",
       "       [0.   +0.j],\n",
       "       [0.   +0.j],\n",
       "       [0.   +0.j],\n",
       "       [0.   +0.j],\n",
       "       [0.   +0.j],\n",
       "       [0.   +0.j],\n",
       "       [0.   +0.j],\n",
       "       [0.   +0.j],\n",
       "       [0.   +0.j],\n",
       "       [0.   +0.j],\n",
       "       [0.   +0.j],\n",
       "       [0.   +0.j],\n",
       "       [0.   +0.j],\n",
       "       [0.   +0.j],\n",
       "       [0.   +0.j],\n",
       "       [0.   +0.j],\n",
       "       [0.   +0.j],\n",
       "       [0.   +0.j]])"
      ]
     },
     "execution_count": 195,
     "metadata": {},
     "output_type": "execute_result"
    }
   ],
   "execution_count": 195
  },
  {
   "metadata": {
    "ExecuteTime": {
     "end_time": "2024-11-20T01:26:57.357979Z",
     "start_time": "2024-11-20T01:26:57.336991Z"
    }
   },
   "cell_type": "code",
   "source": "np.kron(baza[0], np.kron(baza[0], baza[0])) + np.kron(baza[1], np.kron(baza[1], baza[1])) + np.kron(baza[2], np.kron(baza[2], baza[2]))",
   "id": "dffe8597c0464068",
   "outputs": [
    {
     "data": {
      "text/plain": [
       "array([[1],\n",
       "       [0],\n",
       "       [0],\n",
       "       [0],\n",
       "       [0],\n",
       "       [0],\n",
       "       [0],\n",
       "       [0],\n",
       "       [0],\n",
       "       [0],\n",
       "       [0],\n",
       "       [0],\n",
       "       [0],\n",
       "       [0],\n",
       "       [0],\n",
       "       [0],\n",
       "       [0],\n",
       "       [0],\n",
       "       [0],\n",
       "       [0],\n",
       "       [0],\n",
       "       [1],\n",
       "       [0],\n",
       "       [0],\n",
       "       [0],\n",
       "       [0],\n",
       "       [0],\n",
       "       [0],\n",
       "       [0],\n",
       "       [0],\n",
       "       [0],\n",
       "       [0],\n",
       "       [0],\n",
       "       [0],\n",
       "       [0],\n",
       "       [0],\n",
       "       [0],\n",
       "       [0],\n",
       "       [0],\n",
       "       [0],\n",
       "       [0],\n",
       "       [0],\n",
       "       [0],\n",
       "       [0],\n",
       "       [0],\n",
       "       [0],\n",
       "       [0],\n",
       "       [0],\n",
       "       [0],\n",
       "       [0],\n",
       "       [0],\n",
       "       [0],\n",
       "       [0],\n",
       "       [0],\n",
       "       [0],\n",
       "       [0],\n",
       "       [0],\n",
       "       [0],\n",
       "       [0],\n",
       "       [0],\n",
       "       [0],\n",
       "       [0],\n",
       "       [0],\n",
       "       [1]])"
      ]
     },
     "execution_count": 184,
     "metadata": {},
     "output_type": "execute_result"
    }
   ],
   "execution_count": 184
  },
  {
   "metadata": {
    "ExecuteTime": {
     "end_time": "2024-11-20T09:23:16.922950Z",
     "start_time": "2024-11-20T09:23:16.909164Z"
    }
   },
   "cell_type": "code",
   "source": [
    "zeroQ3 = np.array([[1], [0], [0]])\n",
    "oneQ3 = np.array([[0], [1], [0]])\n",
    "twoQ3 = np.array([[0], [0], [1]])"
   ],
   "id": "7c5c08f46fde4307",
   "outputs": [],
   "execution_count": 20
  },
  {
   "metadata": {},
   "cell_type": "code",
   "outputs": [],
   "execution_count": null,
   "source": "",
   "id": "4f021e9f64cd7e1"
  },
  {
   "metadata": {
    "ExecuteTime": {
     "end_time": "2024-11-20T09:30:27.863309Z",
     "start_time": "2024-11-20T09:30:27.854118Z"
    }
   },
   "cell_type": "code",
   "source": [
    "zeroXzeroQ3 = np.outer(zeroQ3, zeroQ3)\n",
    "oneXoneQ3 = np.outer(oneQ3, oneQ3)\n",
    "twoXtwoQ3 = np.outer(twoQ3, twoQ3)"
   ],
   "id": "9e8d362556984ed5",
   "outputs": [],
   "execution_count": 33
  },
  {
   "metadata": {
    "ExecuteTime": {
     "end_time": "2024-11-20T09:27:39.590470Z",
     "start_time": "2024-11-20T09:27:39.579960Z"
    }
   },
   "cell_type": "code",
   "source": "1j",
   "id": "db654594cc455f72",
   "outputs": [
    {
     "data": {
      "text/plain": [
       "1j"
      ]
     },
     "execution_count": 27,
     "metadata": {},
     "output_type": "execute_result"
    }
   ],
   "execution_count": 27
  },
  {
   "metadata": {
    "ExecuteTime": {
     "end_time": "2024-11-20T09:28:59.758061Z",
     "start_time": "2024-11-20T09:28:59.742426Z"
    }
   },
   "cell_type": "code",
   "source": "F = np.array([[1, 0, 0], [0, np.exp(np.pi*2/3 * 1j), 0], [0, 0, np.exp(np.pi*4/3 * 1j)]])",
   "id": "8eee1ede32b87288",
   "outputs": [],
   "execution_count": 30
  },
  {
   "metadata": {
    "ExecuteTime": {
     "end_time": "2024-11-20T09:29:06.230191Z",
     "start_time": "2024-11-20T09:29:06.217138Z"
    }
   },
   "cell_type": "code",
   "source": "F.round(3)",
   "id": "f0a44e62c5c2a8ec",
   "outputs": [
    {
     "data": {
      "text/plain": [
       "array([[ 1. +0.j   ,  0. +0.j   ,  0. +0.j   ],\n",
       "       [ 0. +0.j   , -0.5+0.866j,  0. +0.j   ],\n",
       "       [ 0. +0.j   ,  0. +0.j   , -0.5-0.866j]])"
      ]
     },
     "execution_count": 32,
     "metadata": {},
     "output_type": "execute_result"
    }
   ],
   "execution_count": 32
  },
  {
   "metadata": {
    "ExecuteTime": {
     "end_time": "2024-11-20T09:31:22.829990Z",
     "start_time": "2024-11-20T09:31:22.814365Z"
    }
   },
   "cell_type": "code",
   "source": "czTEST = np.kron(zeroXzeroQ3, np.identity(3)) + np.kron(oneXoneQ3, F) + np.kron(twoXtwoQ3, multi_dot([F, F]))",
   "id": "64afe1b5d0fb0921",
   "outputs": [],
   "execution_count": 35
  },
  {
   "metadata": {
    "ExecuteTime": {
     "end_time": "2024-11-20T09:31:26.972593Z",
     "start_time": "2024-11-20T09:31:26.961940Z"
    }
   },
   "cell_type": "code",
   "source": "czTEST",
   "id": "936929f6396b7e00",
   "outputs": [
    {
     "data": {
      "text/plain": [
       "array([[ 1. +0.j       ,  0. +0.j       ,  0. +0.j       ,\n",
       "         0. +0.j       ,  0. +0.j       ,  0. +0.j       ,\n",
       "         0. +0.j       ,  0. +0.j       ,  0. +0.j       ],\n",
       "       [ 0. +0.j       ,  1. +0.j       ,  0. +0.j       ,\n",
       "         0. +0.j       ,  0. +0.j       ,  0. +0.j       ,\n",
       "         0. +0.j       ,  0. +0.j       ,  0. +0.j       ],\n",
       "       [ 0. +0.j       ,  0. +0.j       ,  1. +0.j       ,\n",
       "         0. +0.j       ,  0. +0.j       ,  0. +0.j       ,\n",
       "         0. +0.j       ,  0. +0.j       ,  0. +0.j       ],\n",
       "       [ 0. +0.j       ,  0. +0.j       ,  0. +0.j       ,\n",
       "         1. +0.j       ,  0. +0.j       ,  0. +0.j       ,\n",
       "         0. +0.j       ,  0. +0.j       ,  0. +0.j       ],\n",
       "       [ 0. +0.j       ,  0. +0.j       ,  0. +0.j       ,\n",
       "         0. +0.j       , -0.5+0.8660254j,  0. +0.j       ,\n",
       "         0. +0.j       ,  0. +0.j       ,  0. +0.j       ],\n",
       "       [ 0. +0.j       ,  0. +0.j       ,  0. +0.j       ,\n",
       "         0. +0.j       ,  0. +0.j       , -0.5-0.8660254j,\n",
       "         0. +0.j       ,  0. +0.j       ,  0. +0.j       ],\n",
       "       [ 0. +0.j       ,  0. +0.j       ,  0. +0.j       ,\n",
       "         0. +0.j       ,  0. +0.j       ,  0. +0.j       ,\n",
       "         1. +0.j       ,  0. +0.j       ,  0. +0.j       ],\n",
       "       [ 0. +0.j       ,  0. +0.j       ,  0. +0.j       ,\n",
       "         0. +0.j       ,  0. +0.j       ,  0. +0.j       ,\n",
       "         0. +0.j       , -0.5-0.8660254j,  0. +0.j       ],\n",
       "       [ 0. +0.j       ,  0. +0.j       ,  0. +0.j       ,\n",
       "         0. +0.j       ,  0. +0.j       ,  0. +0.j       ,\n",
       "         0. +0.j       ,  0. +0.j       , -0.5+0.8660254j]])"
      ]
     },
     "execution_count": 36,
     "metadata": {},
     "output_type": "execute_result"
    }
   ],
   "execution_count": 36
  },
  {
   "metadata": {
    "ExecuteTime": {
     "end_time": "2024-11-20T09:31:47.849901Z",
     "start_time": "2024-11-20T09:31:47.837892Z"
    }
   },
   "cell_type": "code",
   "source": "np.dot(czTEST, czTEST.conj().T)",
   "id": "f25fc09f4abbb909",
   "outputs": [
    {
     "data": {
      "text/plain": [
       "array([[1.+0.j, 0.+0.j, 0.+0.j, 0.+0.j, 0.+0.j, 0.+0.j, 0.+0.j, 0.+0.j,\n",
       "        0.+0.j],\n",
       "       [0.+0.j, 1.+0.j, 0.+0.j, 0.+0.j, 0.+0.j, 0.+0.j, 0.+0.j, 0.+0.j,\n",
       "        0.+0.j],\n",
       "       [0.+0.j, 0.+0.j, 1.+0.j, 0.+0.j, 0.+0.j, 0.+0.j, 0.+0.j, 0.+0.j,\n",
       "        0.+0.j],\n",
       "       [0.+0.j, 0.+0.j, 0.+0.j, 1.+0.j, 0.+0.j, 0.+0.j, 0.+0.j, 0.+0.j,\n",
       "        0.+0.j],\n",
       "       [0.+0.j, 0.+0.j, 0.+0.j, 0.+0.j, 1.+0.j, 0.+0.j, 0.+0.j, 0.+0.j,\n",
       "        0.+0.j],\n",
       "       [0.+0.j, 0.+0.j, 0.+0.j, 0.+0.j, 0.+0.j, 1.+0.j, 0.+0.j, 0.+0.j,\n",
       "        0.+0.j],\n",
       "       [0.+0.j, 0.+0.j, 0.+0.j, 0.+0.j, 0.+0.j, 0.+0.j, 1.+0.j, 0.+0.j,\n",
       "        0.+0.j],\n",
       "       [0.+0.j, 0.+0.j, 0.+0.j, 0.+0.j, 0.+0.j, 0.+0.j, 0.+0.j, 1.+0.j,\n",
       "        0.+0.j],\n",
       "       [0.+0.j, 0.+0.j, 0.+0.j, 0.+0.j, 0.+0.j, 0.+0.j, 0.+0.j, 0.+0.j,\n",
       "        1.+0.j]])"
      ]
     },
     "execution_count": 37,
     "metadata": {},
     "output_type": "execute_result"
    }
   ],
   "execution_count": 37
  },
  {
   "metadata": {},
   "cell_type": "code",
   "outputs": [],
   "execution_count": null,
   "source": "",
   "id": "5553e19dfbe640b3"
  }
 ],
 "metadata": {
  "kernelspec": {
   "display_name": "Python 3",
   "language": "python",
   "name": "python3"
  },
  "language_info": {
   "codemirror_mode": {
    "name": "ipython",
    "version": 2
   },
   "file_extension": ".py",
   "mimetype": "text/x-python",
   "name": "python",
   "nbconvert_exporter": "python",
   "pygments_lexer": "ipython2",
   "version": "2.7.6"
  }
 },
 "nbformat": 4,
 "nbformat_minor": 5
}
