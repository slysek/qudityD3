{
 "cells": [
  {
   "cell_type": "code",
   "id": "initial_id",
   "metadata": {
    "collapsed": true,
    "ExecuteTime": {
     "end_time": "2024-12-02T13:52:56.487346Z",
     "start_time": "2024-12-02T13:52:56.463078Z"
    }
   },
   "source": [
    "import numpy as np\n",
    "from numpy.lib.function_base import interp"
   ],
   "outputs": [],
   "execution_count": 36
  },
  {
   "metadata": {
    "ExecuteTime": {
     "end_time": "2024-12-02T13:52:57.017415Z",
     "start_time": "2024-12-02T13:52:57.009392Z"
    }
   },
   "cell_type": "code",
   "source": [
    "qubit0 = np.array([[1],[0]])\n",
    "qubit1 = np.array([[0], [1]])"
   ],
   "id": "7181d9ed40ebe2c3",
   "outputs": [],
   "execution_count": 37
  },
  {
   "metadata": {
    "ExecuteTime": {
     "end_time": "2024-12-02T13:52:57.281737Z",
     "start_time": "2024-12-02T13:52:57.266071Z"
    }
   },
   "cell_type": "code",
   "source": "qubit0",
   "id": "72066346db8cc54f",
   "outputs": [
    {
     "data": {
      "text/plain": [
       "array([[1],\n",
       "       [0]])"
      ]
     },
     "execution_count": 38,
     "metadata": {},
     "output_type": "execute_result"
    }
   ],
   "execution_count": 38
  },
  {
   "metadata": {
    "ExecuteTime": {
     "end_time": "2024-12-02T13:52:58.145095Z",
     "start_time": "2024-12-02T13:52:58.130593Z"
    }
   },
   "cell_type": "code",
   "source": [
    "qudit0 = np.kron(qubit0, qubit0)\n",
    "qudit1 = np.kron(qubit0, qubit1)\n",
    "qudit2 = np.kron(qubit1, qubit0)"
   ],
   "id": "309072ebbbf188b5",
   "outputs": [],
   "execution_count": 39
  },
  {
   "metadata": {
    "ExecuteTime": {
     "end_time": "2024-12-02T13:52:58.407951Z",
     "start_time": "2024-12-02T13:52:58.391949Z"
    }
   },
   "cell_type": "code",
   "source": [
    "qubitStan0x0 = np.kron(qubit0, qubit0.conjugate().T)\n",
    "qubitStan1x1 = np.kron(qubit1, qubit1.conjugate().T)"
   ],
   "id": "a63efee433d9411e",
   "outputs": [],
   "execution_count": 40
  },
  {
   "metadata": {
    "ExecuteTime": {
     "end_time": "2024-12-02T13:53:00.014684Z",
     "start_time": "2024-12-02T13:52:59.997374Z"
    }
   },
   "cell_type": "code",
   "source": [
    "stan0x0 = np.kron(qudit0, qudit0.conj().T)\n",
    "stan1x1 = np.kron(qudit1, qudit1.conj().T)\n",
    "stan2x2 = np.kron(qudit2, qudit2.conj().T)"
   ],
   "id": "cedb3e38b4ec5467",
   "outputs": [],
   "execution_count": 41
  },
  {
   "metadata": {
    "ExecuteTime": {
     "end_time": "2024-12-02T13:53:00.156376Z",
     "start_time": "2024-12-02T13:53:00.140338Z"
    }
   },
   "cell_type": "code",
   "source": "stan0x0",
   "id": "a784e2148f2dccf7",
   "outputs": [
    {
     "data": {
      "text/plain": [
       "array([[1, 0, 0, 0],\n",
       "       [0, 0, 0, 0],\n",
       "       [0, 0, 0, 0],\n",
       "       [0, 0, 0, 0]])"
      ]
     },
     "execution_count": 42,
     "metadata": {},
     "output_type": "execute_result"
    }
   ],
   "execution_count": 42
  },
  {
   "metadata": {
    "ExecuteTime": {
     "end_time": "2024-12-02T13:53:00.297947Z",
     "start_time": "2024-12-02T13:53:00.275735Z"
    }
   },
   "cell_type": "code",
   "source": "qubitStan0x0",
   "id": "5e61e6686b7c678",
   "outputs": [
    {
     "data": {
      "text/plain": [
       "array([[1, 0],\n",
       "       [0, 0]])"
      ]
     },
     "execution_count": 43,
     "metadata": {},
     "output_type": "execute_result"
    }
   ],
   "execution_count": 43
  },
  {
   "metadata": {
    "ExecuteTime": {
     "end_time": "2024-12-02T13:53:02.077425Z",
     "start_time": "2024-12-02T13:53:02.057128Z"
    }
   },
   "cell_type": "code",
   "source": "qubitStan1x1",
   "id": "7107c354af8db058",
   "outputs": [
    {
     "data": {
      "text/plain": [
       "array([[0, 0],\n",
       "       [0, 1]])"
      ]
     },
     "execution_count": 44,
     "metadata": {},
     "output_type": "execute_result"
    }
   ],
   "execution_count": 44
  },
  {
   "metadata": {
    "ExecuteTime": {
     "end_time": "2024-12-02T13:57:33.722602Z",
     "start_time": "2024-12-02T13:57:33.696101Z"
    }
   },
   "cell_type": "code",
   "source": [
    "import itertools\n",
    "\n",
    "def CZgate(control, track):\n",
    "    final = []\n",
    "    \n",
    "    P = np.array([[1, 0], [0, np.exp(2*1j*np.pi/3)]])\n",
    "    I = np.identity(2)\n",
    "    \n",
    "    print(P)\n",
    "    \n",
    "    temp = itertools.product([qubitStan0x0, qubitStan1x1], repeat=5)\n",
    "    \n",
    "    for i in temp:\n",
    "        lst = [0] * 6\n",
    "        indexes = list([i for i in range(6) if i != track])\n",
    "        for idx, val in zip(indexes, i):\n",
    "            lst[idx] = val\n",
    "        if np.array_equal(lst[control], qubitStan1x1):\n",
    "            lst[track] = P\n",
    "        else:\n",
    "            lst[track] = I\n",
    "        final.append(lst)\n",
    "        \n",
    "    return final"
   ],
   "id": "cbe816f8bf002023",
   "outputs": [],
   "execution_count": 57
  },
  {
   "metadata": {
    "ExecuteTime": {
     "end_time": "2024-12-02T13:57:34.090405Z",
     "start_time": "2024-12-02T13:57:34.077034Z"
    }
   },
   "cell_type": "code",
   "source": "test = CZgate(3, 4)",
   "id": "11adf88b6ccba268",
   "outputs": [
    {
     "name": "stdout",
     "output_type": "stream",
     "text": [
      "[[ 1. +0.j         0. +0.j       ]\n",
      " [ 0. +0.j        -0.5+0.8660254j]]\n"
     ]
    }
   ],
   "execution_count": 58
  },
  {
   "metadata": {
    "ExecuteTime": {
     "end_time": "2024-12-02T13:57:35.629499Z",
     "start_time": "2024-12-02T13:57:35.613641Z"
    }
   },
   "cell_type": "code",
   "source": "len(test)",
   "id": "2af6ff708fc79eae",
   "outputs": [
    {
     "data": {
      "text/plain": [
       "32"
      ]
     },
     "execution_count": 59,
     "metadata": {},
     "output_type": "execute_result"
    }
   ],
   "execution_count": 59
  },
  {
   "metadata": {
    "ExecuteTime": {
     "end_time": "2024-12-02T13:57:36.449619Z",
     "start_time": "2024-12-02T13:57:36.409387Z"
    }
   },
   "cell_type": "code",
   "source": "test",
   "id": "e45b47a623369096",
   "outputs": [
    {
     "data": {
      "text/plain": [
       "[[array([[1, 0],\n",
       "         [0, 0]]),\n",
       "  array([[1, 0],\n",
       "         [0, 0]]),\n",
       "  array([[1, 0],\n",
       "         [0, 0]]),\n",
       "  array([[1, 0],\n",
       "         [0, 0]]),\n",
       "  array([[1., 0.],\n",
       "         [0., 1.]]),\n",
       "  array([[1, 0],\n",
       "         [0, 0]])],\n",
       " [array([[1, 0],\n",
       "         [0, 0]]),\n",
       "  array([[1, 0],\n",
       "         [0, 0]]),\n",
       "  array([[1, 0],\n",
       "         [0, 0]]),\n",
       "  array([[1, 0],\n",
       "         [0, 0]]),\n",
       "  array([[1., 0.],\n",
       "         [0., 1.]]),\n",
       "  array([[0, 0],\n",
       "         [0, 1]])],\n",
       " [array([[1, 0],\n",
       "         [0, 0]]),\n",
       "  array([[1, 0],\n",
       "         [0, 0]]),\n",
       "  array([[1, 0],\n",
       "         [0, 0]]),\n",
       "  array([[0, 0],\n",
       "         [0, 1]]),\n",
       "  array([[ 1. +0.j       ,  0. +0.j       ],\n",
       "         [ 0. +0.j       , -0.5+0.8660254j]]),\n",
       "  array([[1, 0],\n",
       "         [0, 0]])],\n",
       " [array([[1, 0],\n",
       "         [0, 0]]),\n",
       "  array([[1, 0],\n",
       "         [0, 0]]),\n",
       "  array([[1, 0],\n",
       "         [0, 0]]),\n",
       "  array([[0, 0],\n",
       "         [0, 1]]),\n",
       "  array([[ 1. +0.j       ,  0. +0.j       ],\n",
       "         [ 0. +0.j       , -0.5+0.8660254j]]),\n",
       "  array([[0, 0],\n",
       "         [0, 1]])],\n",
       " [array([[1, 0],\n",
       "         [0, 0]]),\n",
       "  array([[1, 0],\n",
       "         [0, 0]]),\n",
       "  array([[0, 0],\n",
       "         [0, 1]]),\n",
       "  array([[1, 0],\n",
       "         [0, 0]]),\n",
       "  array([[1., 0.],\n",
       "         [0., 1.]]),\n",
       "  array([[1, 0],\n",
       "         [0, 0]])],\n",
       " [array([[1, 0],\n",
       "         [0, 0]]),\n",
       "  array([[1, 0],\n",
       "         [0, 0]]),\n",
       "  array([[0, 0],\n",
       "         [0, 1]]),\n",
       "  array([[1, 0],\n",
       "         [0, 0]]),\n",
       "  array([[1., 0.],\n",
       "         [0., 1.]]),\n",
       "  array([[0, 0],\n",
       "         [0, 1]])],\n",
       " [array([[1, 0],\n",
       "         [0, 0]]),\n",
       "  array([[1, 0],\n",
       "         [0, 0]]),\n",
       "  array([[0, 0],\n",
       "         [0, 1]]),\n",
       "  array([[0, 0],\n",
       "         [0, 1]]),\n",
       "  array([[ 1. +0.j       ,  0. +0.j       ],\n",
       "         [ 0. +0.j       , -0.5+0.8660254j]]),\n",
       "  array([[1, 0],\n",
       "         [0, 0]])],\n",
       " [array([[1, 0],\n",
       "         [0, 0]]),\n",
       "  array([[1, 0],\n",
       "         [0, 0]]),\n",
       "  array([[0, 0],\n",
       "         [0, 1]]),\n",
       "  array([[0, 0],\n",
       "         [0, 1]]),\n",
       "  array([[ 1. +0.j       ,  0. +0.j       ],\n",
       "         [ 0. +0.j       , -0.5+0.8660254j]]),\n",
       "  array([[0, 0],\n",
       "         [0, 1]])],\n",
       " [array([[1, 0],\n",
       "         [0, 0]]),\n",
       "  array([[0, 0],\n",
       "         [0, 1]]),\n",
       "  array([[1, 0],\n",
       "         [0, 0]]),\n",
       "  array([[1, 0],\n",
       "         [0, 0]]),\n",
       "  array([[1., 0.],\n",
       "         [0., 1.]]),\n",
       "  array([[1, 0],\n",
       "         [0, 0]])],\n",
       " [array([[1, 0],\n",
       "         [0, 0]]),\n",
       "  array([[0, 0],\n",
       "         [0, 1]]),\n",
       "  array([[1, 0],\n",
       "         [0, 0]]),\n",
       "  array([[1, 0],\n",
       "         [0, 0]]),\n",
       "  array([[1., 0.],\n",
       "         [0., 1.]]),\n",
       "  array([[0, 0],\n",
       "         [0, 1]])],\n",
       " [array([[1, 0],\n",
       "         [0, 0]]),\n",
       "  array([[0, 0],\n",
       "         [0, 1]]),\n",
       "  array([[1, 0],\n",
       "         [0, 0]]),\n",
       "  array([[0, 0],\n",
       "         [0, 1]]),\n",
       "  array([[ 1. +0.j       ,  0. +0.j       ],\n",
       "         [ 0. +0.j       , -0.5+0.8660254j]]),\n",
       "  array([[1, 0],\n",
       "         [0, 0]])],\n",
       " [array([[1, 0],\n",
       "         [0, 0]]),\n",
       "  array([[0, 0],\n",
       "         [0, 1]]),\n",
       "  array([[1, 0],\n",
       "         [0, 0]]),\n",
       "  array([[0, 0],\n",
       "         [0, 1]]),\n",
       "  array([[ 1. +0.j       ,  0. +0.j       ],\n",
       "         [ 0. +0.j       , -0.5+0.8660254j]]),\n",
       "  array([[0, 0],\n",
       "         [0, 1]])],\n",
       " [array([[1, 0],\n",
       "         [0, 0]]),\n",
       "  array([[0, 0],\n",
       "         [0, 1]]),\n",
       "  array([[0, 0],\n",
       "         [0, 1]]),\n",
       "  array([[1, 0],\n",
       "         [0, 0]]),\n",
       "  array([[1., 0.],\n",
       "         [0., 1.]]),\n",
       "  array([[1, 0],\n",
       "         [0, 0]])],\n",
       " [array([[1, 0],\n",
       "         [0, 0]]),\n",
       "  array([[0, 0],\n",
       "         [0, 1]]),\n",
       "  array([[0, 0],\n",
       "         [0, 1]]),\n",
       "  array([[1, 0],\n",
       "         [0, 0]]),\n",
       "  array([[1., 0.],\n",
       "         [0., 1.]]),\n",
       "  array([[0, 0],\n",
       "         [0, 1]])],\n",
       " [array([[1, 0],\n",
       "         [0, 0]]),\n",
       "  array([[0, 0],\n",
       "         [0, 1]]),\n",
       "  array([[0, 0],\n",
       "         [0, 1]]),\n",
       "  array([[0, 0],\n",
       "         [0, 1]]),\n",
       "  array([[ 1. +0.j       ,  0. +0.j       ],\n",
       "         [ 0. +0.j       , -0.5+0.8660254j]]),\n",
       "  array([[1, 0],\n",
       "         [0, 0]])],\n",
       " [array([[1, 0],\n",
       "         [0, 0]]),\n",
       "  array([[0, 0],\n",
       "         [0, 1]]),\n",
       "  array([[0, 0],\n",
       "         [0, 1]]),\n",
       "  array([[0, 0],\n",
       "         [0, 1]]),\n",
       "  array([[ 1. +0.j       ,  0. +0.j       ],\n",
       "         [ 0. +0.j       , -0.5+0.8660254j]]),\n",
       "  array([[0, 0],\n",
       "         [0, 1]])],\n",
       " [array([[0, 0],\n",
       "         [0, 1]]),\n",
       "  array([[1, 0],\n",
       "         [0, 0]]),\n",
       "  array([[1, 0],\n",
       "         [0, 0]]),\n",
       "  array([[1, 0],\n",
       "         [0, 0]]),\n",
       "  array([[1., 0.],\n",
       "         [0., 1.]]),\n",
       "  array([[1, 0],\n",
       "         [0, 0]])],\n",
       " [array([[0, 0],\n",
       "         [0, 1]]),\n",
       "  array([[1, 0],\n",
       "         [0, 0]]),\n",
       "  array([[1, 0],\n",
       "         [0, 0]]),\n",
       "  array([[1, 0],\n",
       "         [0, 0]]),\n",
       "  array([[1., 0.],\n",
       "         [0., 1.]]),\n",
       "  array([[0, 0],\n",
       "         [0, 1]])],\n",
       " [array([[0, 0],\n",
       "         [0, 1]]),\n",
       "  array([[1, 0],\n",
       "         [0, 0]]),\n",
       "  array([[1, 0],\n",
       "         [0, 0]]),\n",
       "  array([[0, 0],\n",
       "         [0, 1]]),\n",
       "  array([[ 1. +0.j       ,  0. +0.j       ],\n",
       "         [ 0. +0.j       , -0.5+0.8660254j]]),\n",
       "  array([[1, 0],\n",
       "         [0, 0]])],\n",
       " [array([[0, 0],\n",
       "         [0, 1]]),\n",
       "  array([[1, 0],\n",
       "         [0, 0]]),\n",
       "  array([[1, 0],\n",
       "         [0, 0]]),\n",
       "  array([[0, 0],\n",
       "         [0, 1]]),\n",
       "  array([[ 1. +0.j       ,  0. +0.j       ],\n",
       "         [ 0. +0.j       , -0.5+0.8660254j]]),\n",
       "  array([[0, 0],\n",
       "         [0, 1]])],\n",
       " [array([[0, 0],\n",
       "         [0, 1]]),\n",
       "  array([[1, 0],\n",
       "         [0, 0]]),\n",
       "  array([[0, 0],\n",
       "         [0, 1]]),\n",
       "  array([[1, 0],\n",
       "         [0, 0]]),\n",
       "  array([[1., 0.],\n",
       "         [0., 1.]]),\n",
       "  array([[1, 0],\n",
       "         [0, 0]])],\n",
       " [array([[0, 0],\n",
       "         [0, 1]]),\n",
       "  array([[1, 0],\n",
       "         [0, 0]]),\n",
       "  array([[0, 0],\n",
       "         [0, 1]]),\n",
       "  array([[1, 0],\n",
       "         [0, 0]]),\n",
       "  array([[1., 0.],\n",
       "         [0., 1.]]),\n",
       "  array([[0, 0],\n",
       "         [0, 1]])],\n",
       " [array([[0, 0],\n",
       "         [0, 1]]),\n",
       "  array([[1, 0],\n",
       "         [0, 0]]),\n",
       "  array([[0, 0],\n",
       "         [0, 1]]),\n",
       "  array([[0, 0],\n",
       "         [0, 1]]),\n",
       "  array([[ 1. +0.j       ,  0. +0.j       ],\n",
       "         [ 0. +0.j       , -0.5+0.8660254j]]),\n",
       "  array([[1, 0],\n",
       "         [0, 0]])],\n",
       " [array([[0, 0],\n",
       "         [0, 1]]),\n",
       "  array([[1, 0],\n",
       "         [0, 0]]),\n",
       "  array([[0, 0],\n",
       "         [0, 1]]),\n",
       "  array([[0, 0],\n",
       "         [0, 1]]),\n",
       "  array([[ 1. +0.j       ,  0. +0.j       ],\n",
       "         [ 0. +0.j       , -0.5+0.8660254j]]),\n",
       "  array([[0, 0],\n",
       "         [0, 1]])],\n",
       " [array([[0, 0],\n",
       "         [0, 1]]),\n",
       "  array([[0, 0],\n",
       "         [0, 1]]),\n",
       "  array([[1, 0],\n",
       "         [0, 0]]),\n",
       "  array([[1, 0],\n",
       "         [0, 0]]),\n",
       "  array([[1., 0.],\n",
       "         [0., 1.]]),\n",
       "  array([[1, 0],\n",
       "         [0, 0]])],\n",
       " [array([[0, 0],\n",
       "         [0, 1]]),\n",
       "  array([[0, 0],\n",
       "         [0, 1]]),\n",
       "  array([[1, 0],\n",
       "         [0, 0]]),\n",
       "  array([[1, 0],\n",
       "         [0, 0]]),\n",
       "  array([[1., 0.],\n",
       "         [0., 1.]]),\n",
       "  array([[0, 0],\n",
       "         [0, 1]])],\n",
       " [array([[0, 0],\n",
       "         [0, 1]]),\n",
       "  array([[0, 0],\n",
       "         [0, 1]]),\n",
       "  array([[1, 0],\n",
       "         [0, 0]]),\n",
       "  array([[0, 0],\n",
       "         [0, 1]]),\n",
       "  array([[ 1. +0.j       ,  0. +0.j       ],\n",
       "         [ 0. +0.j       , -0.5+0.8660254j]]),\n",
       "  array([[1, 0],\n",
       "         [0, 0]])],\n",
       " [array([[0, 0],\n",
       "         [0, 1]]),\n",
       "  array([[0, 0],\n",
       "         [0, 1]]),\n",
       "  array([[1, 0],\n",
       "         [0, 0]]),\n",
       "  array([[0, 0],\n",
       "         [0, 1]]),\n",
       "  array([[ 1. +0.j       ,  0. +0.j       ],\n",
       "         [ 0. +0.j       , -0.5+0.8660254j]]),\n",
       "  array([[0, 0],\n",
       "         [0, 1]])],\n",
       " [array([[0, 0],\n",
       "         [0, 1]]),\n",
       "  array([[0, 0],\n",
       "         [0, 1]]),\n",
       "  array([[0, 0],\n",
       "         [0, 1]]),\n",
       "  array([[1, 0],\n",
       "         [0, 0]]),\n",
       "  array([[1., 0.],\n",
       "         [0., 1.]]),\n",
       "  array([[1, 0],\n",
       "         [0, 0]])],\n",
       " [array([[0, 0],\n",
       "         [0, 1]]),\n",
       "  array([[0, 0],\n",
       "         [0, 1]]),\n",
       "  array([[0, 0],\n",
       "         [0, 1]]),\n",
       "  array([[1, 0],\n",
       "         [0, 0]]),\n",
       "  array([[1., 0.],\n",
       "         [0., 1.]]),\n",
       "  array([[0, 0],\n",
       "         [0, 1]])],\n",
       " [array([[0, 0],\n",
       "         [0, 1]]),\n",
       "  array([[0, 0],\n",
       "         [0, 1]]),\n",
       "  array([[0, 0],\n",
       "         [0, 1]]),\n",
       "  array([[0, 0],\n",
       "         [0, 1]]),\n",
       "  array([[ 1. +0.j       ,  0. +0.j       ],\n",
       "         [ 0. +0.j       , -0.5+0.8660254j]]),\n",
       "  array([[1, 0],\n",
       "         [0, 0]])],\n",
       " [array([[0, 0],\n",
       "         [0, 1]]),\n",
       "  array([[0, 0],\n",
       "         [0, 1]]),\n",
       "  array([[0, 0],\n",
       "         [0, 1]]),\n",
       "  array([[0, 0],\n",
       "         [0, 1]]),\n",
       "  array([[ 1. +0.j       ,  0. +0.j       ],\n",
       "         [ 0. +0.j       , -0.5+0.8660254j]]),\n",
       "  array([[0, 0],\n",
       "         [0, 1]])]]"
      ]
     },
     "execution_count": 60,
     "metadata": {},
     "output_type": "execute_result"
    }
   ],
   "execution_count": 60
  },
  {
   "metadata": {
    "ExecuteTime": {
     "end_time": "2024-12-02T13:36:48.766814Z",
     "start_time": "2024-12-02T13:36:48.753433Z"
    }
   },
   "cell_type": "code",
   "source": [
    "import qiskit.circuit.library\n",
    "from qiskit import QuantumCircuit\n",
    "import numpy as np\n",
    "from qiskit.quantum_info import Statevector\n",
    "\n",
    "circ =QuantumCircuit(2) \n",
    "omega = 2*np.pi/3\n",
    "\n",
    "circ.cp(omega, 0, 1)\n",
    "circ.draw()"
   ],
   "id": "72cc0cd42f55aefa",
   "outputs": [
    {
     "data": {
      "text/plain": [
       "               \n",
       "q_0: ─■────────\n",
       "      │P(2π/3) \n",
       "q_1: ─■────────\n",
       "               "
      ],
      "text/html": [
       "<pre style=\"word-wrap: normal;white-space: pre;background: #fff0;line-height: 1.1;font-family: &quot;Courier New&quot;,Courier,monospace\">               \n",
       "q_0: ─■────────\n",
       "      │P(2π/3) \n",
       "q_1: ─■────────\n",
       "               </pre>"
      ]
     },
     "execution_count": 26,
     "metadata": {},
     "output_type": "execute_result"
    }
   ],
   "execution_count": 26
  },
  {
   "metadata": {
    "ExecuteTime": {
     "end_time": "2024-12-02T13:36:50.905565Z",
     "start_time": "2024-12-02T13:36:50.883017Z"
    }
   },
   "cell_type": "code",
   "source": [
    "def CZqutrit():\n",
    "    circ = QuantumCircuit(4)\n",
    "    omega = 2*np.pi/3\n",
    "    circ.cp(omega, 0, 2)\n",
    "    circ.cp(omega, 1, 3)\n",
    "    circ.cp(-1 * omega, 0, 2)\n",
    "    circ.cp(-1 * omega, 1, 3)\n",
    "    \n",
    "    return circ"
   ],
   "id": "9038ecbac57f9b74",
   "outputs": [],
   "execution_count": 27
  },
  {
   "metadata": {
    "ExecuteTime": {
     "end_time": "2024-12-02T13:36:51.239304Z",
     "start_time": "2024-12-02T13:36:51.220199Z"
    }
   },
   "cell_type": "code",
   "source": "czcirc = CZqutrit()",
   "id": "b27b1b3c5490ae27",
   "outputs": [],
   "execution_count": 28
  },
  {
   "metadata": {
    "ExecuteTime": {
     "end_time": "2024-12-02T13:36:51.837059Z",
     "start_time": "2024-12-02T13:36:51.615189Z"
    }
   },
   "cell_type": "code",
   "source": "czcirc.draw('mpl')",
   "id": "78282010068b120",
   "outputs": [
    {
     "data": {
      "text/plain": [
       "<Figure size 789.163x367.889 with 1 Axes>"
      ],
      "image/png": "[encoded data removed]"
     },
     "execution_count": 29,
     "metadata": {},
     "output_type": "execute_result"
    }
   ],
   "execution_count": 29
  },
  {
   "metadata": {
    "ExecuteTime": {
     "end_time": "2024-12-02T13:37:32.323959Z",
     "start_time": "2024-12-02T13:37:32.307360Z"
    }
   },
   "cell_type": "code",
   "source": "vec = Statevector(czcirc)",
   "id": "3ad0a9e99389d58f",
   "outputs": [],
   "execution_count": 30
  },
  {
   "metadata": {
    "ExecuteTime": {
     "end_time": "2024-12-02T13:37:43.275718Z",
     "start_time": "2024-12-02T13:37:42.588187Z"
    }
   },
   "cell_type": "code",
   "source": "vec.draw('latex')",
   "id": "6253c140dd18e306",
   "outputs": [
    {
     "data": {
      "text/plain": [
       "<IPython.core.display.Latex object>"
      ],
      "text/latex": "$$ |0000\\rangle$$"
     },
     "execution_count": 32,
     "metadata": {},
     "output_type": "execute_result"
    }
   ],
   "execution_count": 32
  },
  {
   "metadata": {
    "ExecuteTime": {
     "end_time": "2024-12-02T13:38:45.971869Z",
     "start_time": "2024-12-02T13:38:45.866958Z"
    }
   },
   "cell_type": "code",
   "source": [
    "test = QuantumCircuit(2)\n",
    "test.x(0)\n",
    "test.h(1)\n",
    "test.draw('mpl')"
   ],
   "id": "70dd08024ef0ce96",
   "outputs": [
    {
     "data": {
      "text/plain": [
       "<Figure size 203.683x200.667 with 1 Axes>"
      ],
      "image/png": "[encoded data removed]"
     },
     "execution_count": 33,
     "metadata": {},
     "output_type": "execute_result"
    }
   ],
   "execution_count": 33
  },
  {
   "metadata": {
    "ExecuteTime": {
     "end_time": "2024-12-02T13:39:11.038489Z",
     "start_time": "2024-12-02T13:39:10.997507Z"
    }
   },
   "cell_type": "code",
   "source": "Statevector(czcirc).draw('latex')",
   "id": "8b2dca9d9bfc04f4",
   "outputs": [
    {
     "data": {
      "text/plain": [
       "<IPython.core.display.Latex object>"
      ],
      "text/latex": "$$ |0000\\rangle$$"
     },
     "execution_count": 35,
     "metadata": {},
     "output_type": "execute_result"
    }
   ],
   "execution_count": 35
  },
  {
   "metadata": {},
   "cell_type": "code",
   "outputs": [],
   "execution_count": null,
   "source": "",
   "id": "4c844172d79ab5f4"
  }
 ],
 "metadata": {
  "kernelspec": {
   "display_name": "Python 3",
   "language": "python",
   "name": "python3"
  },
  "language_info": {
   "codemirror_mode": {
    "name": "ipython",
    "version": 2
   },
   "file_extension": ".py",
   "mimetype": "text/x-python",
   "name": "python",
   "nbconvert_exporter": "python",
   "pygments_lexer": "ipython2",
   "version": "2.7.6"
  }
 },
 "nbformat": 4,
 "nbformat_minor": 5
}
