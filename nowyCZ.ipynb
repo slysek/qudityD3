{
 "cells": [
  {
   "cell_type": "code",
   "id": "initial_id",
   "metadata": {
    "collapsed": true,
    "ExecuteTime": {
     "end_time": "2024-11-27T09:46:56.077190Z",
     "start_time": "2024-11-27T09:46:55.784696Z"
    }
   },
   "source": "import numpy as np",
   "outputs": [],
   "execution_count": 1
  },
  {
   "metadata": {
    "ExecuteTime": {
     "end_time": "2024-11-27T09:48:39.944744Z",
     "start_time": "2024-11-27T09:48:39.929119Z"
    }
   },
   "cell_type": "code",
   "source": [
    "qubit0 = np.array([[1],[0]])\n",
    "qubit1 = np.array([[0], [1]])"
   ],
   "id": "7181d9ed40ebe2c3",
   "outputs": [],
   "execution_count": 4
  },
  {
   "metadata": {
    "ExecuteTime": {
     "end_time": "2024-11-27T09:48:43.852451Z",
     "start_time": "2024-11-27T09:48:43.831228Z"
    }
   },
   "cell_type": "code",
   "source": "qubit0",
   "id": "72066346db8cc54f",
   "outputs": [
    {
     "data": {
      "text/plain": [
       "array([[1],\n",
       "       [0]])"
      ]
     },
     "execution_count": 5,
     "metadata": {},
     "output_type": "execute_result"
    }
   ],
   "execution_count": 5
  },
  {
   "metadata": {
    "ExecuteTime": {
     "end_time": "2024-11-27T09:49:23.147293Z",
     "start_time": "2024-11-27T09:49:23.131185Z"
    }
   },
   "cell_type": "code",
   "source": [
    "qudit0 = np.kron(qubit0, qubit0)\n",
    "qudit1 = np.kron(qubit0, qubit1)\n",
    "qudit2 = np.kron(qubit1, qubit0)"
   ],
   "id": "309072ebbbf188b5",
   "outputs": [],
   "execution_count": 6
  },
  {
   "metadata": {
    "ExecuteTime": {
     "end_time": "2024-11-27T10:34:39.364096Z",
     "start_time": "2024-11-27T10:34:39.348446Z"
    }
   },
   "cell_type": "code",
   "source": [
    "qubitStan0x0 = np.kron(qubit0, qubit0.conjugate().T)\n",
    "qubitStan1x1 = np.kron(qubit1, qubit1.conjugate().T)"
   ],
   "id": "a63efee433d9411e",
   "outputs": [],
   "execution_count": 120
  },
  {
   "metadata": {
    "ExecuteTime": {
     "end_time": "2024-11-27T10:09:46.986369Z",
     "start_time": "2024-11-27T10:09:46.968289Z"
    }
   },
   "cell_type": "code",
   "source": [
    "stan0x0 = np.kron(qudit0, qudit0.conj().T)\n",
    "stan1x1 = np.kron(qudit1, qudit1.conj().T)\n",
    "stan2x2 = np.kron(qudit2, qudit2.conj().T)"
   ],
   "id": "cedb3e38b4ec5467",
   "outputs": [],
   "execution_count": 41
  },
  {
   "metadata": {
    "ExecuteTime": {
     "end_time": "2024-11-27T10:09:47.488722Z",
     "start_time": "2024-11-27T10:09:47.475228Z"
    }
   },
   "cell_type": "code",
   "source": "stan0x0",
   "id": "a784e2148f2dccf7",
   "outputs": [
    {
     "data": {
      "text/plain": [
       "array([[1, 0, 0, 0],\n",
       "       [0, 0, 0, 0],\n",
       "       [0, 0, 0, 0],\n",
       "       [0, 0, 0, 0]])"
      ]
     },
     "execution_count": 42,
     "metadata": {},
     "output_type": "execute_result"
    }
   ],
   "execution_count": 42
  },
  {
   "metadata": {
    "ExecuteTime": {
     "end_time": "2024-11-27T10:11:13.697304Z",
     "start_time": "2024-11-27T10:11:13.674284Z"
    }
   },
   "cell_type": "code",
   "source": [
    "def reset(M):\n",
    "    for i in range(len(M)):\n",
    "        M[i] = qubitStan0x0\n",
    "    return M"
   ],
   "id": "bc82e511d41a0f3d",
   "outputs": [],
   "execution_count": 46
  },
  {
   "metadata": {
    "ExecuteTime": {
     "end_time": "2024-11-27T10:14:45.295444Z",
     "start_time": "2024-11-27T10:14:45.264177Z"
    }
   },
   "cell_type": "code",
   "source": "qubitStan0x0",
   "id": "5e61e6686b7c678",
   "outputs": [
    {
     "data": {
      "text/plain": [
       "array([[1],\n",
       "       [0],\n",
       "       [0],\n",
       "       [0]])"
      ]
     },
     "execution_count": 67,
     "metadata": {},
     "output_type": "execute_result"
    }
   ],
   "execution_count": 67
  },
  {
   "metadata": {
    "ExecuteTime": {
     "end_time": "2024-11-27T10:35:19.175747Z",
     "start_time": "2024-11-27T10:35:19.155523Z"
    }
   },
   "cell_type": "code",
   "source": "qubitStan1x1",
   "id": "7107c354af8db058",
   "outputs": [
    {
     "data": {
      "text/plain": [
       "array([[0, 0],\n",
       "       [0, 1]])"
      ]
     },
     "execution_count": 125,
     "metadata": {},
     "output_type": "execute_result"
    }
   ],
   "execution_count": 125
  },
  {
   "metadata": {
    "ExecuteTime": {
     "end_time": "2024-11-27T10:35:36.945959Z",
     "start_time": "2024-11-27T10:35:36.930297Z"
    }
   },
   "cell_type": "code",
   "source": [
    "temp = np.zeros((2,2,2))\n",
    "temp[0] = qubitStan0x0"
   ],
   "id": "5afed96253b9d936",
   "outputs": [],
   "execution_count": 126
  },
  {
   "metadata": {
    "ExecuteTime": {
     "end_time": "2024-11-27T10:35:38.357716Z",
     "start_time": "2024-11-27T10:35:38.349550Z"
    }
   },
   "cell_type": "code",
   "source": "temp",
   "id": "24b505df6bb40fff",
   "outputs": [
    {
     "data": {
      "text/plain": [
       "array([[[1., 0.],\n",
       "        [0., 0.]],\n",
       "\n",
       "       [[0., 0.],\n",
       "        [0., 0.]]])"
      ]
     },
     "execution_count": 127,
     "metadata": {},
     "output_type": "execute_result"
    }
   ],
   "execution_count": 127
  },
  {
   "metadata": {
    "ExecuteTime": {
     "end_time": "2024-11-27T10:53:18.599471Z",
     "start_time": "2024-11-27T10:53:18.568196Z"
    }
   },
   "cell_type": "code",
   "source": [
    "def decomCZ(n, k, l):\n",
    "    Ph = np.array([[1, 0], [0 , np.exp(np.pi*2/3)]])\n",
    "    temp = np.zeros((n, 2, 2))\n",
    "    temp2 = np.zeros((n, 2, 2))\n",
    "    stany = []\n",
    "    for i in range(n):\n",
    "        temp2[i] = qubitStan0x0\n",
    "        temp2[l] = np.identity(2)\n",
    "        stany.append(temp2)\n",
    "    for i in range(n):\n",
    "        temp = reset(temp)\n",
    "        print(f'I: {i}')\n",
    "        print(f'Temp po resecie {temp}')\n",
    "        temp[i] = qubitStan1x1\n",
    "        print(f'Po dodaniu 1x1 na indexie {temp}')\n",
    "        for j in range(len(temp)):\n",
    "            tempJ = temp\n",
    "            if i != j:\n",
    "                print(f'J: {j}')\n",
    "                tempJ[j] = Ph\n",
    "                print(f'Po dodaniu j: {tempJ}')\n",
    "                print(f'tempK {tempJ[k]}')\n",
    "                if np.array_equal(tempJ[k], qubitStan1x1):\n",
    "                    tempJ[l] = Ph\n",
    "                else:\n",
    "                    tempJ[l] = np.identity(2)\n",
    "                \n",
    "                stany.append(tempJ)\n",
    "            \n",
    "    return stany"
   ],
   "id": "be6d7d5edc9517b2",
   "outputs": [],
   "execution_count": 162
  },
  {
   "metadata": {
    "ExecuteTime": {
     "end_time": "2024-11-27T10:53:19.080899Z",
     "start_time": "2024-11-27T10:53:19.065280Z"
    }
   },
   "cell_type": "code",
   "source": "stany2 = decomCZ(3, 0, 1)",
   "id": "20db0e05918251b6",
   "outputs": [
    {
     "name": "stdout",
     "output_type": "stream",
     "text": [
      "I: 0\n",
      "Temp po resecie [[[1. 0.]\n",
      "  [0. 0.]]\n",
      "\n",
      " [[1. 0.]\n",
      "  [0. 0.]]\n",
      "\n",
      " [[1. 0.]\n",
      "  [0. 0.]]]\n",
      "Po dodaniu 1x1 na indexie [[[0. 0.]\n",
      "  [0. 1.]]\n",
      "\n",
      " [[1. 0.]\n",
      "  [0. 0.]]\n",
      "\n",
      " [[1. 0.]\n",
      "  [0. 0.]]]\n",
      "J: 1\n",
      "Po dodaniu j: [[[0.        0.       ]\n",
      "  [0.        1.       ]]\n",
      "\n",
      " [[1.        0.       ]\n",
      "  [0.        8.1205274]]\n",
      "\n",
      " [[1.        0.       ]\n",
      "  [0.        0.       ]]]\n",
      "tempK [[0. 0.]\n",
      " [0. 1.]]\n",
      "J: 2\n",
      "Po dodaniu j: [[[0.        0.       ]\n",
      "  [0.        1.       ]]\n",
      "\n",
      " [[1.        0.       ]\n",
      "  [0.        8.1205274]]\n",
      "\n",
      " [[1.        0.       ]\n",
      "  [0.        8.1205274]]]\n",
      "tempK [[0. 0.]\n",
      " [0. 1.]]\n",
      "I: 1\n",
      "Temp po resecie [[[1. 0.]\n",
      "  [0. 0.]]\n",
      "\n",
      " [[1. 0.]\n",
      "  [0. 0.]]\n",
      "\n",
      " [[1. 0.]\n",
      "  [0. 0.]]]\n",
      "Po dodaniu 1x1 na indexie [[[1. 0.]\n",
      "  [0. 0.]]\n",
      "\n",
      " [[0. 0.]\n",
      "  [0. 1.]]\n",
      "\n",
      " [[1. 0.]\n",
      "  [0. 0.]]]\n",
      "J: 0\n",
      "Po dodaniu j: [[[1.        0.       ]\n",
      "  [0.        8.1205274]]\n",
      "\n",
      " [[0.        0.       ]\n",
      "  [0.        1.       ]]\n",
      "\n",
      " [[1.        0.       ]\n",
      "  [0.        0.       ]]]\n",
      "tempK [[1.        0.       ]\n",
      " [0.        8.1205274]]\n",
      "J: 2\n",
      "Po dodaniu j: [[[1.        0.       ]\n",
      "  [0.        8.1205274]]\n",
      "\n",
      " [[1.        0.       ]\n",
      "  [0.        1.       ]]\n",
      "\n",
      " [[1.        0.       ]\n",
      "  [0.        8.1205274]]]\n",
      "tempK [[1.        0.       ]\n",
      " [0.        8.1205274]]\n",
      "I: 2\n",
      "Temp po resecie [[[1. 0.]\n",
      "  [0. 0.]]\n",
      "\n",
      " [[1. 0.]\n",
      "  [0. 0.]]\n",
      "\n",
      " [[1. 0.]\n",
      "  [0. 0.]]]\n",
      "Po dodaniu 1x1 na indexie [[[1. 0.]\n",
      "  [0. 0.]]\n",
      "\n",
      " [[1. 0.]\n",
      "  [0. 0.]]\n",
      "\n",
      " [[0. 0.]\n",
      "  [0. 1.]]]\n",
      "J: 0\n",
      "Po dodaniu j: [[[1.        0.       ]\n",
      "  [0.        8.1205274]]\n",
      "\n",
      " [[1.        0.       ]\n",
      "  [0.        0.       ]]\n",
      "\n",
      " [[0.        0.       ]\n",
      "  [0.        1.       ]]]\n",
      "tempK [[1.        0.       ]\n",
      " [0.        8.1205274]]\n",
      "J: 1\n",
      "Po dodaniu j: [[[1.        0.       ]\n",
      "  [0.        8.1205274]]\n",
      "\n",
      " [[1.        0.       ]\n",
      "  [0.        8.1205274]]\n",
      "\n",
      " [[0.        0.       ]\n",
      "  [0.        1.       ]]]\n",
      "tempK [[1.        0.       ]\n",
      " [0.        8.1205274]]\n"
     ]
    }
   ],
   "execution_count": 163
  },
  {
   "metadata": {
    "ExecuteTime": {
     "end_time": "2024-11-27T10:40:26.174039Z",
     "start_time": "2024-11-27T10:40:26.158416Z"
    }
   },
   "cell_type": "code",
   "source": [
    "for i in stany2:\n",
    "    print(i)"
   ],
   "id": "977113289ce47b4d",
   "outputs": [
    {
     "name": "stdout",
     "output_type": "stream",
     "text": [
      "[[[1. 0.]\n",
      "  [0. 0.]]\n",
      "\n",
      " [[1. 0.]\n",
      "  [0. 0.]]\n",
      "\n",
      " [[0. 0.]\n",
      "  [0. 1.]]]\n",
      "[[[1. 0.]\n",
      "  [0. 0.]]\n",
      "\n",
      " [[1. 0.]\n",
      "  [0. 0.]]\n",
      "\n",
      " [[0. 0.]\n",
      "  [0. 1.]]]\n",
      "[[[1. 0.]\n",
      "  [0. 0.]]\n",
      "\n",
      " [[1. 0.]\n",
      "  [0. 0.]]\n",
      "\n",
      " [[0. 0.]\n",
      "  [0. 1.]]]\n",
      "[[[1. 0.]\n",
      "  [0. 0.]]\n",
      "\n",
      " [[1. 0.]\n",
      "  [0. 0.]]\n",
      "\n",
      " [[0. 0.]\n",
      "  [0. 1.]]]\n",
      "[[[1. 0.]\n",
      "  [0. 0.]]\n",
      "\n",
      " [[1. 0.]\n",
      "  [0. 0.]]\n",
      "\n",
      " [[0. 0.]\n",
      "  [0. 1.]]]\n"
     ]
    }
   ],
   "execution_count": 142
  },
  {
   "metadata": {
    "ExecuteTime": {
     "end_time": "2024-11-27T10:40:38.151509Z",
     "start_time": "2024-11-27T10:40:38.135573Z"
    }
   },
   "cell_type": "code",
   "source": "len(stany2)",
   "id": "670686b3f1cd4a33",
   "outputs": [
    {
     "data": {
      "text/plain": [
       "5"
      ]
     },
     "execution_count": 143,
     "metadata": {},
     "output_type": "execute_result"
    }
   ],
   "execution_count": 143
  },
  {
   "metadata": {
    "ExecuteTime": {
     "end_time": "2024-11-27T10:36:13.502126Z",
     "start_time": "2024-11-27T10:36:13.472990Z"
    }
   },
   "cell_type": "code",
   "source": "",
   "id": "166d6bf52ced9d34",
   "outputs": [
    {
     "ename": "IndexError",
     "evalue": "list index out of range",
     "output_type": "error",
     "traceback": [
      "\u001B[1;31m---------------------------------------------------------------------------\u001B[0m",
      "\u001B[1;31mIndexError\u001B[0m                                Traceback (most recent call last)",
      "Cell \u001B[1;32mIn[132], line 1\u001B[0m\n\u001B[1;32m----> 1\u001B[0m \u001B[43mstany\u001B[49m\u001B[43m[\u001B[49m\u001B[38;5;241;43m1\u001B[39;49m\u001B[43m]\u001B[49m\n",
      "\u001B[1;31mIndexError\u001B[0m: list index out of range"
     ]
    }
   ],
   "execution_count": 132
  },
  {
   "metadata": {},
   "cell_type": "code",
   "outputs": [],
   "execution_count": null,
   "source": "",
   "id": "a94ee0e0ed04d00a"
  }
 ],
 "metadata": {
  "kernelspec": {
   "display_name": "Python 3",
   "language": "python",
   "name": "python3"
  },
  "language_info": {
   "codemirror_mode": {
    "name": "ipython",
    "version": 2
   },
   "file_extension": ".py",
   "mimetype": "text/x-python",
   "name": "python",
   "nbconvert_exporter": "python",
   "pygments_lexer": "ipython2",
   "version": "2.7.6"
  }
 },
 "nbformat": 4,
 "nbformat_minor": 5
}
