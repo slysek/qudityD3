{
 "cells": [
  {
   "cell_type": "code",
   "id": "initial_id",
   "metadata": {
    "collapsed": true,
    "ExecuteTime": {
     "end_time": "2024-12-01T18:08:04.401115Z",
     "start_time": "2024-12-01T18:08:03.702343Z"
    }
   },
   "source": [
    "import numpy as np\n",
    "from numpy.lib.function_base import interp"
   ],
   "outputs": [],
   "execution_count": 1
  },
  {
   "metadata": {
    "ExecuteTime": {
     "end_time": "2024-12-01T18:08:05.061270Z",
     "start_time": "2024-12-01T18:08:05.039692Z"
    }
   },
   "cell_type": "code",
   "source": [
    "qubit0 = np.array([[1],[0]])\n",
    "qubit1 = np.array([[0], [1]])"
   ],
   "id": "7181d9ed40ebe2c3",
   "outputs": [],
   "execution_count": 2
  },
  {
   "metadata": {
    "ExecuteTime": {
     "end_time": "2024-12-01T18:08:05.449076Z",
     "start_time": "2024-12-01T18:08:05.424229Z"
    }
   },
   "cell_type": "code",
   "source": "qubit0",
   "id": "72066346db8cc54f",
   "outputs": [
    {
     "data": {
      "text/plain": [
       "array([[1],\n",
       "       [0]])"
      ]
     },
     "execution_count": 3,
     "metadata": {},
     "output_type": "execute_result"
    }
   ],
   "execution_count": 3
  },
  {
   "metadata": {
    "ExecuteTime": {
     "end_time": "2024-12-01T18:08:06.059179Z",
     "start_time": "2024-12-01T18:08:06.046572Z"
    }
   },
   "cell_type": "code",
   "source": [
    "qudit0 = np.kron(qubit0, qubit0)\n",
    "qudit1 = np.kron(qubit0, qubit1)\n",
    "qudit2 = np.kron(qubit1, qubit0)"
   ],
   "id": "309072ebbbf188b5",
   "outputs": [],
   "execution_count": 4
  },
  {
   "metadata": {
    "ExecuteTime": {
     "end_time": "2024-12-01T18:08:08.331681Z",
     "start_time": "2024-12-01T18:08:08.322558Z"
    }
   },
   "cell_type": "code",
   "source": [
    "qubitStan0x0 = np.kron(qubit0, qubit0.conjugate().T)\n",
    "qubitStan1x1 = np.kron(qubit1, qubit1.conjugate().T)"
   ],
   "id": "a63efee433d9411e",
   "outputs": [],
   "execution_count": 5
  },
  {
   "metadata": {
    "ExecuteTime": {
     "end_time": "2024-12-01T18:08:10.727539Z",
     "start_time": "2024-12-01T18:08:10.721530Z"
    }
   },
   "cell_type": "code",
   "source": [
    "stan0x0 = np.kron(qudit0, qudit0.conj().T)\n",
    "stan1x1 = np.kron(qudit1, qudit1.conj().T)\n",
    "stan2x2 = np.kron(qudit2, qudit2.conj().T)"
   ],
   "id": "cedb3e38b4ec5467",
   "outputs": [],
   "execution_count": 6
  },
  {
   "metadata": {
    "ExecuteTime": {
     "end_time": "2024-12-01T18:08:11.952662Z",
     "start_time": "2024-12-01T18:08:11.929653Z"
    }
   },
   "cell_type": "code",
   "source": "stan0x0",
   "id": "a784e2148f2dccf7",
   "outputs": [
    {
     "data": {
      "text/plain": [
       "array([[1, 0, 0, 0],\n",
       "       [0, 0, 0, 0],\n",
       "       [0, 0, 0, 0],\n",
       "       [0, 0, 0, 0]])"
      ]
     },
     "execution_count": 7,
     "metadata": {},
     "output_type": "execute_result"
    }
   ],
   "execution_count": 7
  },
  {
   "metadata": {
    "ExecuteTime": {
     "end_time": "2024-12-01T18:08:14.230135Z",
     "start_time": "2024-12-01T18:08:14.216353Z"
    }
   },
   "cell_type": "code",
   "source": "qubitStan0x0",
   "id": "5e61e6686b7c678",
   "outputs": [
    {
     "data": {
      "text/plain": [
       "array([[1, 0],\n",
       "       [0, 0]])"
      ]
     },
     "execution_count": 9,
     "metadata": {},
     "output_type": "execute_result"
    }
   ],
   "execution_count": 9
  },
  {
   "metadata": {
    "ExecuteTime": {
     "end_time": "2024-12-01T18:08:15.144909Z",
     "start_time": "2024-12-01T18:08:15.124880Z"
    }
   },
   "cell_type": "code",
   "source": "qubitStan1x1",
   "id": "7107c354af8db058",
   "outputs": [
    {
     "data": {
      "text/plain": [
       "array([[0, 0],\n",
       "       [0, 1]])"
      ]
     },
     "execution_count": 10,
     "metadata": {},
     "output_type": "execute_result"
    }
   ],
   "execution_count": 10
  },
  {
   "metadata": {
    "ExecuteTime": {
     "end_time": "2024-12-01T19:08:23.440907Z",
     "start_time": "2024-12-01T19:08:23.429909Z"
    }
   },
   "cell_type": "code",
   "source": [
    "import itertools\n",
    "\n",
    "def CZgate(control, track):\n",
    "    final = []\n",
    "    \n",
    "    temp = itertools.product([qubitStan0x0, qubitStan1x1], repeat=5)\n",
    "    \n",
    "    for i in temp:\n",
    "        lst = [0] * lst_length\n",
    "        indexes = list([i for i in range(lst_length) if i != track])\n",
    "        for idx, val in zip(indexes, i):\n",
    "            lst[idx] = val\n",
    "        if np.array_equal(lst[control], qubitStan1x1):\n",
    "            lst[track] = 'P'\n",
    "        else:\n",
    "            lst[track] = 'I'\n",
    "        final.append(lst)\n",
    "        \n",
    "    return final"
   ],
   "id": "cbe816f8bf002023",
   "outputs": [],
   "execution_count": 119
  },
  {
   "metadata": {
    "ExecuteTime": {
     "end_time": "2024-12-01T19:08:23.803592Z",
     "start_time": "2024-12-01T19:08:23.795573Z"
    }
   },
   "cell_type": "code",
   "source": "test = CZgate(3, 4)",
   "id": "11adf88b6ccba268",
   "outputs": [],
   "execution_count": 120
  },
  {
   "metadata": {
    "ExecuteTime": {
     "end_time": "2024-12-01T19:08:24.295614Z",
     "start_time": "2024-12-01T19:08:24.276619Z"
    }
   },
   "cell_type": "code",
   "source": "len(test)",
   "id": "2af6ff708fc79eae",
   "outputs": [
    {
     "data": {
      "text/plain": [
       "32"
      ]
     },
     "execution_count": 121,
     "metadata": {},
     "output_type": "execute_result"
    }
   ],
   "execution_count": 121
  },
  {
   "metadata": {
    "ExecuteTime": {
     "end_time": "2024-12-01T19:08:32.233773Z",
     "start_time": "2024-12-01T19:08:32.194775Z"
    }
   },
   "cell_type": "code",
   "source": "test",
   "id": "e45b47a623369096",
   "outputs": [
    {
     "data": {
      "text/plain": [
       "[[array([[1, 0],\n",
       "         [0, 0]]),\n",
       "  array([[1, 0],\n",
       "         [0, 0]]),\n",
       "  array([[1, 0],\n",
       "         [0, 0]]),\n",
       "  array([[1, 0],\n",
       "         [0, 0]]),\n",
       "  'I',\n",
       "  array([[1, 0],\n",
       "         [0, 0]])],\n",
       " [array([[1, 0],\n",
       "         [0, 0]]),\n",
       "  array([[1, 0],\n",
       "         [0, 0]]),\n",
       "  array([[1, 0],\n",
       "         [0, 0]]),\n",
       "  array([[1, 0],\n",
       "         [0, 0]]),\n",
       "  'I',\n",
       "  array([[0, 0],\n",
       "         [0, 1]])],\n",
       " [array([[1, 0],\n",
       "         [0, 0]]),\n",
       "  array([[1, 0],\n",
       "         [0, 0]]),\n",
       "  array([[1, 0],\n",
       "         [0, 0]]),\n",
       "  array([[0, 0],\n",
       "         [0, 1]]),\n",
       "  'P',\n",
       "  array([[1, 0],\n",
       "         [0, 0]])],\n",
       " [array([[1, 0],\n",
       "         [0, 0]]),\n",
       "  array([[1, 0],\n",
       "         [0, 0]]),\n",
       "  array([[1, 0],\n",
       "         [0, 0]]),\n",
       "  array([[0, 0],\n",
       "         [0, 1]]),\n",
       "  'P',\n",
       "  array([[0, 0],\n",
       "         [0, 1]])],\n",
       " [array([[1, 0],\n",
       "         [0, 0]]),\n",
       "  array([[1, 0],\n",
       "         [0, 0]]),\n",
       "  array([[0, 0],\n",
       "         [0, 1]]),\n",
       "  array([[1, 0],\n",
       "         [0, 0]]),\n",
       "  'I',\n",
       "  array([[1, 0],\n",
       "         [0, 0]])],\n",
       " [array([[1, 0],\n",
       "         [0, 0]]),\n",
       "  array([[1, 0],\n",
       "         [0, 0]]),\n",
       "  array([[0, 0],\n",
       "         [0, 1]]),\n",
       "  array([[1, 0],\n",
       "         [0, 0]]),\n",
       "  'I',\n",
       "  array([[0, 0],\n",
       "         [0, 1]])],\n",
       " [array([[1, 0],\n",
       "         [0, 0]]),\n",
       "  array([[1, 0],\n",
       "         [0, 0]]),\n",
       "  array([[0, 0],\n",
       "         [0, 1]]),\n",
       "  array([[0, 0],\n",
       "         [0, 1]]),\n",
       "  'P',\n",
       "  array([[1, 0],\n",
       "         [0, 0]])],\n",
       " [array([[1, 0],\n",
       "         [0, 0]]),\n",
       "  array([[1, 0],\n",
       "         [0, 0]]),\n",
       "  array([[0, 0],\n",
       "         [0, 1]]),\n",
       "  array([[0, 0],\n",
       "         [0, 1]]),\n",
       "  'P',\n",
       "  array([[0, 0],\n",
       "         [0, 1]])],\n",
       " [array([[1, 0],\n",
       "         [0, 0]]),\n",
       "  array([[0, 0],\n",
       "         [0, 1]]),\n",
       "  array([[1, 0],\n",
       "         [0, 0]]),\n",
       "  array([[1, 0],\n",
       "         [0, 0]]),\n",
       "  'I',\n",
       "  array([[1, 0],\n",
       "         [0, 0]])],\n",
       " [array([[1, 0],\n",
       "         [0, 0]]),\n",
       "  array([[0, 0],\n",
       "         [0, 1]]),\n",
       "  array([[1, 0],\n",
       "         [0, 0]]),\n",
       "  array([[1, 0],\n",
       "         [0, 0]]),\n",
       "  'I',\n",
       "  array([[0, 0],\n",
       "         [0, 1]])],\n",
       " [array([[1, 0],\n",
       "         [0, 0]]),\n",
       "  array([[0, 0],\n",
       "         [0, 1]]),\n",
       "  array([[1, 0],\n",
       "         [0, 0]]),\n",
       "  array([[0, 0],\n",
       "         [0, 1]]),\n",
       "  'P',\n",
       "  array([[1, 0],\n",
       "         [0, 0]])],\n",
       " [array([[1, 0],\n",
       "         [0, 0]]),\n",
       "  array([[0, 0],\n",
       "         [0, 1]]),\n",
       "  array([[1, 0],\n",
       "         [0, 0]]),\n",
       "  array([[0, 0],\n",
       "         [0, 1]]),\n",
       "  'P',\n",
       "  array([[0, 0],\n",
       "         [0, 1]])],\n",
       " [array([[1, 0],\n",
       "         [0, 0]]),\n",
       "  array([[0, 0],\n",
       "         [0, 1]]),\n",
       "  array([[0, 0],\n",
       "         [0, 1]]),\n",
       "  array([[1, 0],\n",
       "         [0, 0]]),\n",
       "  'I',\n",
       "  array([[1, 0],\n",
       "         [0, 0]])],\n",
       " [array([[1, 0],\n",
       "         [0, 0]]),\n",
       "  array([[0, 0],\n",
       "         [0, 1]]),\n",
       "  array([[0, 0],\n",
       "         [0, 1]]),\n",
       "  array([[1, 0],\n",
       "         [0, 0]]),\n",
       "  'I',\n",
       "  array([[0, 0],\n",
       "         [0, 1]])],\n",
       " [array([[1, 0],\n",
       "         [0, 0]]),\n",
       "  array([[0, 0],\n",
       "         [0, 1]]),\n",
       "  array([[0, 0],\n",
       "         [0, 1]]),\n",
       "  array([[0, 0],\n",
       "         [0, 1]]),\n",
       "  'P',\n",
       "  array([[1, 0],\n",
       "         [0, 0]])],\n",
       " [array([[1, 0],\n",
       "         [0, 0]]),\n",
       "  array([[0, 0],\n",
       "         [0, 1]]),\n",
       "  array([[0, 0],\n",
       "         [0, 1]]),\n",
       "  array([[0, 0],\n",
       "         [0, 1]]),\n",
       "  'P',\n",
       "  array([[0, 0],\n",
       "         [0, 1]])],\n",
       " [array([[0, 0],\n",
       "         [0, 1]]),\n",
       "  array([[1, 0],\n",
       "         [0, 0]]),\n",
       "  array([[1, 0],\n",
       "         [0, 0]]),\n",
       "  array([[1, 0],\n",
       "         [0, 0]]),\n",
       "  'I',\n",
       "  array([[1, 0],\n",
       "         [0, 0]])],\n",
       " [array([[0, 0],\n",
       "         [0, 1]]),\n",
       "  array([[1, 0],\n",
       "         [0, 0]]),\n",
       "  array([[1, 0],\n",
       "         [0, 0]]),\n",
       "  array([[1, 0],\n",
       "         [0, 0]]),\n",
       "  'I',\n",
       "  array([[0, 0],\n",
       "         [0, 1]])],\n",
       " [array([[0, 0],\n",
       "         [0, 1]]),\n",
       "  array([[1, 0],\n",
       "         [0, 0]]),\n",
       "  array([[1, 0],\n",
       "         [0, 0]]),\n",
       "  array([[0, 0],\n",
       "         [0, 1]]),\n",
       "  'P',\n",
       "  array([[1, 0],\n",
       "         [0, 0]])],\n",
       " [array([[0, 0],\n",
       "         [0, 1]]),\n",
       "  array([[1, 0],\n",
       "         [0, 0]]),\n",
       "  array([[1, 0],\n",
       "         [0, 0]]),\n",
       "  array([[0, 0],\n",
       "         [0, 1]]),\n",
       "  'P',\n",
       "  array([[0, 0],\n",
       "         [0, 1]])],\n",
       " [array([[0, 0],\n",
       "         [0, 1]]),\n",
       "  array([[1, 0],\n",
       "         [0, 0]]),\n",
       "  array([[0, 0],\n",
       "         [0, 1]]),\n",
       "  array([[1, 0],\n",
       "         [0, 0]]),\n",
       "  'I',\n",
       "  array([[1, 0],\n",
       "         [0, 0]])],\n",
       " [array([[0, 0],\n",
       "         [0, 1]]),\n",
       "  array([[1, 0],\n",
       "         [0, 0]]),\n",
       "  array([[0, 0],\n",
       "         [0, 1]]),\n",
       "  array([[1, 0],\n",
       "         [0, 0]]),\n",
       "  'I',\n",
       "  array([[0, 0],\n",
       "         [0, 1]])],\n",
       " [array([[0, 0],\n",
       "         [0, 1]]),\n",
       "  array([[1, 0],\n",
       "         [0, 0]]),\n",
       "  array([[0, 0],\n",
       "         [0, 1]]),\n",
       "  array([[0, 0],\n",
       "         [0, 1]]),\n",
       "  'P',\n",
       "  array([[1, 0],\n",
       "         [0, 0]])],\n",
       " [array([[0, 0],\n",
       "         [0, 1]]),\n",
       "  array([[1, 0],\n",
       "         [0, 0]]),\n",
       "  array([[0, 0],\n",
       "         [0, 1]]),\n",
       "  array([[0, 0],\n",
       "         [0, 1]]),\n",
       "  'P',\n",
       "  array([[0, 0],\n",
       "         [0, 1]])],\n",
       " [array([[0, 0],\n",
       "         [0, 1]]),\n",
       "  array([[0, 0],\n",
       "         [0, 1]]),\n",
       "  array([[1, 0],\n",
       "         [0, 0]]),\n",
       "  array([[1, 0],\n",
       "         [0, 0]]),\n",
       "  'I',\n",
       "  array([[1, 0],\n",
       "         [0, 0]])],\n",
       " [array([[0, 0],\n",
       "         [0, 1]]),\n",
       "  array([[0, 0],\n",
       "         [0, 1]]),\n",
       "  array([[1, 0],\n",
       "         [0, 0]]),\n",
       "  array([[1, 0],\n",
       "         [0, 0]]),\n",
       "  'I',\n",
       "  array([[0, 0],\n",
       "         [0, 1]])],\n",
       " [array([[0, 0],\n",
       "         [0, 1]]),\n",
       "  array([[0, 0],\n",
       "         [0, 1]]),\n",
       "  array([[1, 0],\n",
       "         [0, 0]]),\n",
       "  array([[0, 0],\n",
       "         [0, 1]]),\n",
       "  'P',\n",
       "  array([[1, 0],\n",
       "         [0, 0]])],\n",
       " [array([[0, 0],\n",
       "         [0, 1]]),\n",
       "  array([[0, 0],\n",
       "         [0, 1]]),\n",
       "  array([[1, 0],\n",
       "         [0, 0]]),\n",
       "  array([[0, 0],\n",
       "         [0, 1]]),\n",
       "  'P',\n",
       "  array([[0, 0],\n",
       "         [0, 1]])],\n",
       " [array([[0, 0],\n",
       "         [0, 1]]),\n",
       "  array([[0, 0],\n",
       "         [0, 1]]),\n",
       "  array([[0, 0],\n",
       "         [0, 1]]),\n",
       "  array([[1, 0],\n",
       "         [0, 0]]),\n",
       "  'I',\n",
       "  array([[1, 0],\n",
       "         [0, 0]])],\n",
       " [array([[0, 0],\n",
       "         [0, 1]]),\n",
       "  array([[0, 0],\n",
       "         [0, 1]]),\n",
       "  array([[0, 0],\n",
       "         [0, 1]]),\n",
       "  array([[1, 0],\n",
       "         [0, 0]]),\n",
       "  'I',\n",
       "  array([[0, 0],\n",
       "         [0, 1]])],\n",
       " [array([[0, 0],\n",
       "         [0, 1]]),\n",
       "  array([[0, 0],\n",
       "         [0, 1]]),\n",
       "  array([[0, 0],\n",
       "         [0, 1]]),\n",
       "  array([[0, 0],\n",
       "         [0, 1]]),\n",
       "  'P',\n",
       "  array([[1, 0],\n",
       "         [0, 0]])],\n",
       " [array([[0, 0],\n",
       "         [0, 1]]),\n",
       "  array([[0, 0],\n",
       "         [0, 1]]),\n",
       "  array([[0, 0],\n",
       "         [0, 1]]),\n",
       "  array([[0, 0],\n",
       "         [0, 1]]),\n",
       "  'P',\n",
       "  array([[0, 0],\n",
       "         [0, 1]])]]"
      ]
     },
     "execution_count": 123,
     "metadata": {},
     "output_type": "execute_result"
    }
   ],
   "execution_count": 123
  },
  {
   "metadata": {},
   "cell_type": "code",
   "outputs": [],
   "execution_count": null,
   "source": "",
   "id": "922b9d7b4f551240"
  }
 ],
 "metadata": {
  "kernelspec": {
   "display_name": "Python 3",
   "language": "python",
   "name": "python3"
  },
  "language_info": {
   "codemirror_mode": {
    "name": "ipython",
    "version": 2
   },
   "file_extension": ".py",
   "mimetype": "text/x-python",
   "name": "python",
   "nbconvert_exporter": "python",
   "pygments_lexer": "ipython2",
   "version": "2.7.6"
  }
 },
 "nbformat": 4,
 "nbformat_minor": 5
}
