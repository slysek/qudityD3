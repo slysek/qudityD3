{
 "cells": [
  {
   "cell_type": "code",
   "id": "initial_id",
   "metadata": {
    "collapsed": true,
    "ExecuteTime": {
     "end_time": "2024-12-02T21:30:08.109165Z",
     "start_time": "2024-12-02T21:30:08.095112Z"
    }
   },
   "source": [
    "import numpy as np\n",
    "from numpy.lib.function_base import interp\n",
    "from numpy.linalg import multi_dot"
   ],
   "outputs": [],
   "execution_count": 30
  },
  {
   "metadata": {
    "ExecuteTime": {
     "end_time": "2024-12-02T21:07:49.182305Z",
     "start_time": "2024-12-02T21:07:49.174307Z"
    }
   },
   "cell_type": "code",
   "source": [
    "qubit0 = np.array([[1],[0]])\n",
    "qubit1 = np.array([[0], [1]])"
   ],
   "id": "7181d9ed40ebe2c3",
   "outputs": [],
   "execution_count": 4
  },
  {
   "metadata": {
    "ExecuteTime": {
     "end_time": "2024-12-02T21:07:49.508721Z",
     "start_time": "2024-12-02T21:07:49.486678Z"
    }
   },
   "cell_type": "code",
   "source": "qubit0",
   "id": "72066346db8cc54f",
   "outputs": [
    {
     "data": {
      "text/plain": [
       "array([[1],\n",
       "       [0]])"
      ]
     },
     "execution_count": 5,
     "metadata": {},
     "output_type": "execute_result"
    }
   ],
   "execution_count": 5
  },
  {
   "metadata": {
    "ExecuteTime": {
     "end_time": "2024-12-02T21:07:49.744675Z",
     "start_time": "2024-12-02T21:07:49.731675Z"
    }
   },
   "cell_type": "code",
   "source": [
    "qudit0 = np.kron(qubit0, qubit0)\n",
    "qudit1 = np.kron(qubit0, qubit1)\n",
    "qudit2 = np.kron(qubit1, qubit0)"
   ],
   "id": "309072ebbbf188b5",
   "outputs": [],
   "execution_count": 6
  },
  {
   "metadata": {
    "ExecuteTime": {
     "end_time": "2024-12-02T21:07:49.984707Z",
     "start_time": "2024-12-02T21:07:49.970708Z"
    }
   },
   "cell_type": "code",
   "source": [
    "qubitStan0x0 = np.kron(qubit0, qubit0.conjugate().T)\n",
    "qubitStan1x1 = np.kron(qubit1, qubit1.conjugate().T)"
   ],
   "id": "a63efee433d9411e",
   "outputs": [],
   "execution_count": 7
  },
  {
   "metadata": {
    "ExecuteTime": {
     "end_time": "2024-12-02T21:07:50.252685Z",
     "start_time": "2024-12-02T21:07:50.236693Z"
    }
   },
   "cell_type": "code",
   "source": [
    "stan0x0 = np.kron(qudit0, qudit0.conj().T)\n",
    "stan1x1 = np.kron(qudit1, qudit1.conj().T)\n",
    "stan2x2 = np.kron(qudit2, qudit2.conj().T)"
   ],
   "id": "cedb3e38b4ec5467",
   "outputs": [],
   "execution_count": 8
  },
  {
   "metadata": {
    "ExecuteTime": {
     "end_time": "2024-12-02T21:07:50.565929Z",
     "start_time": "2024-12-02T21:07:50.546933Z"
    }
   },
   "cell_type": "code",
   "source": "stan0x0",
   "id": "a784e2148f2dccf7",
   "outputs": [
    {
     "data": {
      "text/plain": [
       "array([[1, 0, 0, 0],\n",
       "       [0, 0, 0, 0],\n",
       "       [0, 0, 0, 0],\n",
       "       [0, 0, 0, 0]])"
      ]
     },
     "execution_count": 9,
     "metadata": {},
     "output_type": "execute_result"
    }
   ],
   "execution_count": 9
  },
  {
   "metadata": {
    "ExecuteTime": {
     "end_time": "2024-12-02T21:07:51.194936Z",
     "start_time": "2024-12-02T21:07:51.179937Z"
    }
   },
   "cell_type": "code",
   "source": "qubitStan0x0",
   "id": "5e61e6686b7c678",
   "outputs": [
    {
     "data": {
      "text/plain": [
       "array([[1, 0],\n",
       "       [0, 0]])"
      ]
     },
     "execution_count": 10,
     "metadata": {},
     "output_type": "execute_result"
    }
   ],
   "execution_count": 10
  },
  {
   "metadata": {
    "ExecuteTime": {
     "end_time": "2024-12-02T21:07:51.698935Z",
     "start_time": "2024-12-02T21:07:51.691935Z"
    }
   },
   "cell_type": "code",
   "source": "qubitStan1x1",
   "id": "7107c354af8db058",
   "outputs": [
    {
     "data": {
      "text/plain": [
       "array([[0, 0],\n",
       "       [0, 1]])"
      ]
     },
     "execution_count": 11,
     "metadata": {},
     "output_type": "execute_result"
    }
   ],
   "execution_count": 11
  },
  {
   "metadata": {
    "ExecuteTime": {
     "end_time": "2024-12-02T21:15:13.620606Z",
     "start_time": "2024-12-02T21:15:13.609095Z"
    }
   },
   "cell_type": "code",
   "source": [
    "import itertools\n",
    "\n",
    "def PhaseGate(sign):\n",
    "    P = np.array([[1, 0], [0, sign*np.exp(2*1j*np.pi/3)]])\n",
    "    return P\n",
    "    \n",
    "def CZgate(control, track, sign):\n",
    "    final = []\n",
    "    \n",
    "    P = PhaseGate(sign)\n",
    "    I = np.identity(2)\n",
    "    \n",
    "    temp = itertools.product([qubitStan0x0, qubitStan1x1], repeat=5)\n",
    "    \n",
    "    for i in temp:\n",
    "        lst = [0] * 6\n",
    "        indexes = list([i for i in range(6) if i != track])\n",
    "        for idx, val in zip(indexes, i):\n",
    "            lst[idx] = val\n",
    "        if np.array_equal(lst[control], qubitStan1x1):\n",
    "            lst[track] = P\n",
    "        else:\n",
    "            lst[track] = I\n",
    "        final.append(lst)\n",
    "    sumbig = []\n",
    "    for i in final:\n",
    "        sum = i[0]\n",
    "        for j in i:\n",
    "            sum = np.kron(sum, j)\n",
    "        sumbig.append(sum)  \n",
    "    finalMatrix = np.empty((128,128), dtype=complex)    \n",
    "    for elem in sumbig:\n",
    "        finalMatrix += elem\n",
    "    return finalMatrix"
   ],
   "id": "cbe816f8bf002023",
   "outputs": [],
   "execution_count": 26
  },
  {
   "metadata": {
    "ExecuteTime": {
     "end_time": "2024-12-02T21:15:14.108012Z",
     "start_time": "2024-12-02T21:15:14.064436Z"
    }
   },
   "cell_type": "code",
   "source": "test = CZgate(3, 4, 1)",
   "id": "11adf88b6ccba268",
   "outputs": [],
   "execution_count": 27
  },
  {
   "metadata": {
    "ExecuteTime": {
     "end_time": "2024-12-02T13:57:35.629499Z",
     "start_time": "2024-12-02T13:57:35.613641Z"
    }
   },
   "cell_type": "code",
   "source": "len(test)",
   "id": "2af6ff708fc79eae",
   "outputs": [
    {
     "data": {
      "text/plain": [
       "32"
      ]
     },
     "execution_count": 59,
     "metadata": {},
     "output_type": "execute_result"
    }
   ],
   "execution_count": 59
  },
  {
   "metadata": {
    "ExecuteTime": {
     "end_time": "2024-12-02T21:33:40.936103Z",
     "start_time": "2024-12-02T21:33:40.718867Z"
    }
   },
   "cell_type": "code",
   "source": [
    "CZqudit01 = multi_dot([CZgate(0, 2, 1), CZgate(0, 3, -1), CZgate(1, 3, 1), CZgate(1, 2, -1)])\n",
    "CZqudit02 = multi_dot([CZgate(0, 4, 1), CZgate(0, 5, -1), CZgate(1, 5, 1), CZgate(1, 4, -1)])\n",
    "CZqudit12 = multi_dot([CZgate(2, 4, 1), CZgate(2, 5, -1), CZgate(3, 5, 1), CZgate(3, 4, -1)])\n",
    "\n",
    "CZgates = multi_dot([CZqudit01, CZqudit02, CZqudit12])"
   ],
   "id": "5390d66cb8a9defe",
   "outputs": [],
   "execution_count": 31
  },
  {
   "metadata": {
    "ExecuteTime": {
     "end_time": "2024-12-02T21:37:36.192726Z",
     "start_time": "2024-12-02T21:37:36.178838Z"
    }
   },
   "cell_type": "code",
   "source": "CZgates.round(3)",
   "id": "715daa5adcc58a2e",
   "outputs": [
    {
     "data": {
      "text/plain": [
       "array([[ 1.00000e+00+0.0000000e+00j,  0.00000e+00+0.0000000e+00j,\n",
       "         0.00000e+00+0.0000000e+00j, ...,  0.00000e+00+0.0000000e+00j,\n",
       "         0.00000e+00+0.0000000e+00j,  0.00000e+00+0.0000000e+00j],\n",
       "       [ 0.00000e+00+0.0000000e+00j,  1.00000e+00+0.0000000e+00j,\n",
       "         0.00000e+00+0.0000000e+00j, ...,  0.00000e+00+0.0000000e+00j,\n",
       "         0.00000e+00+0.0000000e+00j,  0.00000e+00+0.0000000e+00j],\n",
       "       [ 0.00000e+00+0.0000000e+00j,  0.00000e+00+0.0000000e+00j,\n",
       "         1.00000e+00+0.0000000e+00j, ...,  0.00000e+00+0.0000000e+00j,\n",
       "         0.00000e+00+0.0000000e+00j,  0.00000e+00+0.0000000e+00j],\n",
       "       ...,\n",
       "       [ 1.28295e+04-2.5818815e+04j, -5.90000e+01+3.1177000e+01j,\n",
       "        -7.02000e+02-8.3138000e+01j, ...,  3.68500e+02-8.0107300e+02j,\n",
       "        -2.14750e+03-7.3352400e+02j, -5.21500e+02-6.9368600e+02j],\n",
       "       [ 4.97000e+02+8.5736500e+02j,  1.00000e+00-1.7320000e+00j,\n",
       "         4.05000e+01-8.6600000e-01j, ...,  1.75000e+01+2.6847000e+01j,\n",
       "         8.70000e+01-3.1177000e+01j,  3.15000e+01-2.5980000e+00j],\n",
       "       [ 2.88135e+04+1.7225250e+03j, -2.50000e+00-6.6684000e+01j,\n",
       "         1.38350e+03-1.4679130e+03j, ...,  9.79500e+02-2.3383000e+01j,\n",
       "         1.41750e+03-3.1081650e+03j,  4.41500e+02-8.6342700e+02j]])"
      ]
     },
     "execution_count": 33,
     "metadata": {},
     "output_type": "execute_result"
    }
   ],
   "execution_count": 33
  },
  {
   "metadata": {
    "ExecuteTime": {
     "end_time": "2024-12-02T21:38:52.203946Z",
     "start_time": "2024-12-02T21:38:52.185438Z"
    }
   },
   "cell_type": "code",
   "source": "multi_dot([CZgates, CZgates.conj().T]).round(2)",
   "id": "1972f42f1bdd4784",
   "outputs": [
    {
     "data": {
      "text/plain": [
       "array([[ 1.00000000e+00+0.00000000e+00j,  0.00000000e+00+0.00000000e+00j,\n",
       "         0.00000000e+00+0.00000000e+00j, ...,\n",
       "         1.28295000e+04+2.58188200e+04j,  4.97000000e+02-8.57370000e+02j,\n",
       "         2.88135000e+04-1.72252000e+03j],\n",
       "       [ 0.00000000e+00+0.00000000e+00j,  1.00000000e+00+0.00000000e+00j,\n",
       "         0.00000000e+00+0.00000000e+00j, ...,\n",
       "        -5.90000000e+01-3.11800000e+01j,  1.00000000e+00+1.73000000e+00j,\n",
       "        -2.50000000e+00+6.66800000e+01j],\n",
       "       [ 0.00000000e+00+0.00000000e+00j,  0.00000000e+00+0.00000000e+00j,\n",
       "         1.00000000e+00+0.00000000e+00j, ...,\n",
       "        -7.02000000e+02+8.31400000e+01j,  4.05000000e+01+8.70000000e-01j,\n",
       "         1.38350000e+03+1.46791000e+03j],\n",
       "       ...,\n",
       "       [ 1.28295000e+04-2.58188200e+04j, -5.90000000e+01+3.11800000e+01j,\n",
       "        -7.02000000e+02-8.31400000e+01j, ...,\n",
       "         9.26392818e+08-0.00000000e+00j, -1.88219390e+07-2.49112450e+07j,\n",
       "         2.43691120e+08-8.73088998e+08j],\n",
       "       [ 4.97000000e+02+8.57370000e+02j,  1.00000000e+00-1.73000000e+00j,\n",
       "         4.05000000e+01-8.70000000e-01j, ...,\n",
       "        -1.88219390e+07+2.49112450e+07j,  1.10616200e+06+0.00000000e+00j,\n",
       "         1.99967200e+07+2.70486840e+07j],\n",
       "       [ 2.88135000e+04+1.72252000e+03j, -2.50000000e+00-6.66800000e+01j,\n",
       "         1.38350000e+03-1.46791000e+03j, ...,\n",
       "         2.43691120e+08+8.73088998e+08j,  1.99967200e+07-2.70486840e+07j,\n",
       "         1.06814655e+09+0.00000000e+00j]])"
      ]
     },
     "execution_count": 35,
     "metadata": {},
     "output_type": "execute_result"
    }
   ],
   "execution_count": 35
  },
  {
   "metadata": {
    "ExecuteTime": {
     "end_time": "2024-12-02T21:44:07.805476Z",
     "start_time": "2024-12-02T21:44:07.794963Z"
    }
   },
   "cell_type": "code",
   "source": [
    "import matplotlib.pyplot as plt\n",
    "from matplotlib.colors import hsv_to_rgb\n",
    "\n",
    "def narysuj_macierz_zespolona(A):\n",
    "    modul = np.abs(A)\n",
    "    faza = np.angle(A)\n",
    "    modul_norm = modul / np.max(modul)\n",
    "    faza_norm = (faza + np.pi) / (2 * np.pi)\n",
    "    HSV = np.zeros((*A.shape, 3))\n",
    "    HSV[..., 0] = faza_norm\n",
    "    HSV[..., 1] = 1\n",
    "    HSV[..., 2] = modul_norm\n",
    "    RGB = hsv_to_rgb(HSV)\n",
    "    plt.imshow(RGB)\n",
    "    plt.axis('off')\n",
    "    plt.show()"
   ],
   "id": "8997f18622f06891",
   "outputs": [],
   "execution_count": 38
  },
  {
   "metadata": {
    "ExecuteTime": {
     "end_time": "2024-12-02T21:44:09.525748Z",
     "start_time": "2024-12-02T21:44:09.433702Z"
    }
   },
   "cell_type": "code",
   "source": "narysuj_macierz_zespolona(multi_dot([CZgates, CZgates.conj().T]).round(2))",
   "id": "b420d89a2910ad6f",
   "outputs": [
    {
     "data": {
      "text/plain": [
       "<Figure size 640x480 with 1 Axes>"
      ],
      "image/png": "[encoded data removed]"
     },
     "metadata": {},
     "output_type": "display_data"
    }
   ],
   "execution_count": 39
  },
  {
   "metadata": {
    "ExecuteTime": {
     "end_time": "2024-12-02T21:46:08.455381Z",
     "start_time": "2024-12-02T21:46:07.332865Z"
    }
   },
   "cell_type": "code",
   "source": [
    "import qiskit.circuit.library\n",
    "from qiskit import QuantumCircuit\n",
    "import numpy as np\n",
    "from qiskit.quantum_info import Statevector\n",
    "\n",
    "circ =QuantumCircuit(2) \n",
    "omega = 2*np.pi/3\n",
    "\n",
    "circ.cp(omega, 0, 1)\n",
    "circ.draw()"
   ],
   "id": "72cc0cd42f55aefa",
   "outputs": [
    {
     "data": {
      "text/plain": [
       "               \n",
       "q_0: ─■────────\n",
       "      │P(2π/3) \n",
       "q_1: ─■────────\n",
       "               "
      ],
      "text/html": [
       "<pre style=\"word-wrap: normal;white-space: pre;background: #fff0;line-height: 1.1;font-family: &quot;Courier New&quot;,Courier,monospace\">               \n",
       "q_0: ─■────────\n",
       "      │P(2π/3) \n",
       "q_1: ─■────────\n",
       "               </pre>"
      ]
     },
     "execution_count": 41,
     "metadata": {},
     "output_type": "execute_result"
    }
   ],
   "execution_count": 41
  },
  {
   "metadata": {
    "ExecuteTime": {
     "end_time": "2024-12-02T21:46:08.485926Z",
     "start_time": "2024-12-02T21:46:08.467409Z"
    }
   },
   "cell_type": "code",
   "source": [
    "def CZqutrit():\n",
    "    circ = QuantumCircuit(4)\n",
    "    omega = 2*np.pi/3\n",
    "    circ.cp(omega, 0, 2)\n",
    "    circ.cp(omega, 1, 3)\n",
    "    circ.cp(-1 * omega, 0, 2)\n",
    "    circ.cp(-1 * omega, 1, 3)\n",
    "    \n",
    "    return circ"
   ],
   "id": "9038ecbac57f9b74",
   "outputs": [],
   "execution_count": 42
  },
  {
   "metadata": {
    "ExecuteTime": {
     "end_time": "2024-12-02T21:46:08.533251Z",
     "start_time": "2024-12-02T21:46:08.520735Z"
    }
   },
   "cell_type": "code",
   "source": "czcirc = CZqutrit()",
   "id": "b27b1b3c5490ae27",
   "outputs": [],
   "execution_count": 43
  },
  {
   "metadata": {
    "ExecuteTime": {
     "end_time": "2024-12-02T21:46:09.099799Z",
     "start_time": "2024-12-02T21:46:08.568016Z"
    }
   },
   "cell_type": "code",
   "source": "czcirc.draw('mpl')",
   "id": "78282010068b120",
   "outputs": [
    {
     "data": {
      "text/plain": [
       "<Figure size 789.163x367.889 with 1 Axes>"
      ],
      "image/png": "[encoded data removed]"
     },
     "execution_count": 44,
     "metadata": {},
     "output_type": "execute_result"
    }
   ],
   "execution_count": 44
  },
  {
   "metadata": {
    "ExecuteTime": {
     "end_time": "2024-12-02T21:46:09.146058Z",
     "start_time": "2024-12-02T21:46:09.133537Z"
    }
   },
   "cell_type": "code",
   "source": "vec = Statevector(czcirc)",
   "id": "3ad0a9e99389d58f",
   "outputs": [],
   "execution_count": 45
  },
  {
   "metadata": {
    "ExecuteTime": {
     "end_time": "2024-12-02T21:46:10.212429Z",
     "start_time": "2024-12-02T21:46:09.182166Z"
    }
   },
   "cell_type": "code",
   "source": "vec.draw('latex')",
   "id": "6253c140dd18e306",
   "outputs": [
    {
     "data": {
      "text/plain": [
       "<IPython.core.display.Latex object>"
      ],
      "text/latex": "$$ |0000\\rangle$$"
     },
     "execution_count": 46,
     "metadata": {},
     "output_type": "execute_result"
    }
   ],
   "execution_count": 46
  },
  {
   "metadata": {
    "ExecuteTime": {
     "end_time": "2024-12-02T21:46:10.371247Z",
     "start_time": "2024-12-02T21:46:10.246705Z"
    }
   },
   "cell_type": "code",
   "source": [
    "test = QuantumCircuit(2)\n",
    "test.x(0)\n",
    "test.h(1)\n",
    "test.draw('mpl')"
   ],
   "id": "70dd08024ef0ce96",
   "outputs": [
    {
     "data": {
      "text/plain": [
       "<Figure size 203.683x200.667 with 1 Axes>"
      ],
      "image/png": "[encoded data removed]"
     },
     "execution_count": 47,
     "metadata": {},
     "output_type": "execute_result"
    }
   ],
   "execution_count": 47
  },
  {
   "metadata": {
    "ExecuteTime": {
     "end_time": "2024-12-02T21:46:10.465419Z",
     "start_time": "2024-12-02T21:46:10.436735Z"
    }
   },
   "cell_type": "code",
   "source": "Statevector(test).draw('latex')",
   "id": "8b2dca9d9bfc04f4",
   "outputs": [
    {
     "data": {
      "text/plain": [
       "<IPython.core.display.Latex object>"
      ],
      "text/latex": "$$\\frac{\\sqrt{2}}{2} |01\\rangle+\\frac{\\sqrt{2}}{2} |11\\rangle$$"
     },
     "execution_count": 48,
     "metadata": {},
     "output_type": "execute_result"
    }
   ],
   "execution_count": 48
  },
  {
   "metadata": {},
   "cell_type": "code",
   "outputs": [],
   "execution_count": null,
   "source": "",
   "id": "4c844172d79ab5f4"
  }
 ],
 "metadata": {
  "kernelspec": {
   "display_name": "Python 3",
   "language": "python",
   "name": "python3"
  },
  "language_info": {
   "codemirror_mode": {
    "name": "ipython",
    "version": 2
   },
   "file_extension": ".py",
   "mimetype": "text/x-python",
   "name": "python",
   "nbconvert_exporter": "python",
   "pygments_lexer": "ipython2",
   "version": "2.7.6"
  }
 },
 "nbformat": 4,
 "nbformat_minor": 5
}
