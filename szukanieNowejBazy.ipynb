{
 "cells": [
  {
   "cell_type": "code",
   "id": "initial_id",
   "metadata": {
    "collapsed": true,
    "ExecuteTime": {
     "end_time": "2024-11-26T14:04:22.010180Z",
     "start_time": "2024-11-26T14:04:21.989791Z"
    }
   },
   "source": "import numpy as np",
   "outputs": [],
   "execution_count": 3
  },
  {
   "metadata": {
    "ExecuteTime": {
     "end_time": "2024-11-26T14:04:22.648373Z",
     "start_time": "2024-11-26T14:04:22.626428Z"
    }
   },
   "cell_type": "code",
   "source": [
    "def proj(matrix):\n",
    "    return np.kron(matrix, matrix.conj().T)"
   ],
   "id": "e671396f9b3df8de",
   "outputs": [],
   "execution_count": 4
  },
  {
   "metadata": {
    "ExecuteTime": {
     "end_time": "2024-11-26T14:04:23.023520Z",
     "start_time": "2024-11-26T14:04:23.012008Z"
    }
   },
   "cell_type": "code",
   "source": [
    "qubit0 = np.array([[1], [0]])\n",
    "qubit1 = np.array([[0], [1]])\n",
    "\n",
    "qubit = [qubit0, qubit1]"
   ],
   "id": "f3d68b7123f92b36",
   "outputs": [],
   "execution_count": 5
  },
  {
   "metadata": {
    "ExecuteTime": {
     "end_time": "2024-11-26T14:04:23.218336Z",
     "start_time": "2024-11-26T14:04:23.212326Z"
    }
   },
   "cell_type": "code",
   "source": [
    "stan0 = np.kron(qubit[0], qubit[0])\n",
    "stan1 = np.kron(qubit[1], qubit[0])\n",
    "stan2 = np.kron(qubit[0], qubit[1])"
   ],
   "id": "731ff9f51d06392e",
   "outputs": [],
   "execution_count": 6
  },
  {
   "metadata": {
    "ExecuteTime": {
     "end_time": "2024-11-26T14:04:23.427270Z",
     "start_time": "2024-11-26T14:04:23.412762Z"
    }
   },
   "cell_type": "code",
   "source": "stan0",
   "id": "5e7518008cd7bf46",
   "outputs": [
    {
     "data": {
      "text/plain": [
       "array([[1],\n",
       "       [0],\n",
       "       [0],\n",
       "       [0]])"
      ]
     },
     "execution_count": 7,
     "metadata": {},
     "output_type": "execute_result"
    }
   ],
   "execution_count": 7
  },
  {
   "metadata": {
    "ExecuteTime": {
     "end_time": "2024-11-26T14:04:25.455790Z",
     "start_time": "2024-11-26T14:04:25.440780Z"
    }
   },
   "cell_type": "code",
   "source": [
    "stan0teo = np.array([['a0'], ['b0'], ['c0'], ['d0']])\n",
    "stan1teo = np.array([['a1'], ['b1'], ['c1'], ['d1']])\n",
    "stan2teo = np.array([['a2'], ['b2'], ['c2'], ['d2']])"
   ],
   "id": "30acb2878f451482",
   "outputs": [],
   "execution_count": 8
  },
  {
   "metadata": {
    "ExecuteTime": {
     "end_time": "2024-11-26T14:04:25.564945Z",
     "start_time": "2024-11-26T14:04:25.551564Z"
    }
   },
   "cell_type": "code",
   "source": [
    "baza = [stan0, stan1, stan2]\n",
    "bazateo = [stan0teo, stan1teo, stan2teo]"
   ],
   "id": "f25ffba685755c20",
   "outputs": [],
   "execution_count": 9
  },
  {
   "metadata": {
    "ExecuteTime": {
     "end_time": "2024-11-26T07:28:25.825865Z",
     "start_time": "2024-11-26T07:28:24.720870Z"
    }
   },
   "cell_type": "code",
   "source": [
    "check = proj(baza[0]) + proj(baza[1]) + proj(baza[2])\n",
    "checkteo = proj(bazateo[0]) + proj(bazateo[1]) + proj(bazateo[2])"
   ],
   "id": "e983ce71c52f610b",
   "outputs": [
    {
     "name": "stderr",
     "output_type": "stream",
     "text": [
      "C:\\Users\\szymon\\AppData\\Local\\Temp\\ipykernel_17504\\4267056448.py:2: DeprecationWarning: attempting to conjugate non-numeric dtype; this will error in the future to match the behavior of np.conjugate\n",
      "  return np.kron(matrix, matrix.conj().T)\n"
     ]
    },
    {
     "ename": "UFuncTypeError",
     "evalue": "ufunc 'multiply' did not contain a loop with signature matching types (dtype('<U2'), dtype('<U2')) -> None",
     "output_type": "error",
     "traceback": [
      "\u001B[1;31m---------------------------------------------------------------------------\u001B[0m",
      "\u001B[1;31mUFuncTypeError\u001B[0m                            Traceback (most recent call last)",
      "Cell \u001B[1;32mIn[7], line 2\u001B[0m\n\u001B[0;32m      1\u001B[0m check \u001B[38;5;241m=\u001B[39m proj(baza[\u001B[38;5;241m0\u001B[39m]) \u001B[38;5;241m+\u001B[39m proj(baza[\u001B[38;5;241m1\u001B[39m]) \u001B[38;5;241m+\u001B[39m proj(baza[\u001B[38;5;241m2\u001B[39m])\n\u001B[1;32m----> 2\u001B[0m checkteo \u001B[38;5;241m=\u001B[39m \u001B[43mproj\u001B[49m\u001B[43m(\u001B[49m\u001B[43mbazateo\u001B[49m\u001B[43m[\u001B[49m\u001B[38;5;241;43m0\u001B[39;49m\u001B[43m]\u001B[49m\u001B[43m)\u001B[49m \u001B[38;5;241m+\u001B[39m proj(bazateo[\u001B[38;5;241m1\u001B[39m]) \u001B[38;5;241m+\u001B[39m proj(bazateo[\u001B[38;5;241m2\u001B[39m])\n",
      "Cell \u001B[1;32mIn[2], line 2\u001B[0m, in \u001B[0;36mproj\u001B[1;34m(matrix)\u001B[0m\n\u001B[0;32m      1\u001B[0m \u001B[38;5;28;01mdef\u001B[39;00m \u001B[38;5;21mproj\u001B[39m(matrix):\n\u001B[1;32m----> 2\u001B[0m     \u001B[38;5;28;01mreturn\u001B[39;00m \u001B[43mnp\u001B[49m\u001B[38;5;241;43m.\u001B[39;49m\u001B[43mkron\u001B[49m\u001B[43m(\u001B[49m\u001B[43mmatrix\u001B[49m\u001B[43m,\u001B[49m\u001B[43m \u001B[49m\u001B[43mmatrix\u001B[49m\u001B[38;5;241;43m.\u001B[39;49m\u001B[43mconj\u001B[49m\u001B[43m(\u001B[49m\u001B[43m)\u001B[49m\u001B[38;5;241;43m.\u001B[39;49m\u001B[43mT\u001B[49m\u001B[43m)\u001B[49m\n",
      "File \u001B[1;32m<__array_function__ internals>:200\u001B[0m, in \u001B[0;36mkron\u001B[1;34m(*args, **kwargs)\u001B[0m\n",
      "File \u001B[1;32m~\\.conda\\envs\\qudityD3\\lib\\site-packages\\numpy\\lib\\shape_base.py:1179\u001B[0m, in \u001B[0;36mkron\u001B[1;34m(a, b)\u001B[0m\n\u001B[0;32m   1177\u001B[0m b_arr \u001B[38;5;241m=\u001B[39m expand_dims(b_arr, axis\u001B[38;5;241m=\u001B[39m\u001B[38;5;28mtuple\u001B[39m(\u001B[38;5;28mrange\u001B[39m(\u001B[38;5;241m0\u001B[39m, nd\u001B[38;5;241m*\u001B[39m\u001B[38;5;241m2\u001B[39m, \u001B[38;5;241m2\u001B[39m)))\n\u001B[0;32m   1178\u001B[0m \u001B[38;5;66;03m# In case of `mat`, convert result to `array`\u001B[39;00m\n\u001B[1;32m-> 1179\u001B[0m result \u001B[38;5;241m=\u001B[39m \u001B[43m_nx\u001B[49m\u001B[38;5;241;43m.\u001B[39;49m\u001B[43mmultiply\u001B[49m\u001B[43m(\u001B[49m\u001B[43ma_arr\u001B[49m\u001B[43m,\u001B[49m\u001B[43m \u001B[49m\u001B[43mb_arr\u001B[49m\u001B[43m,\u001B[49m\u001B[43m \u001B[49m\u001B[43msubok\u001B[49m\u001B[38;5;241;43m=\u001B[39;49m\u001B[43m(\u001B[49m\u001B[38;5;129;43;01mnot\u001B[39;49;00m\u001B[43m \u001B[49m\u001B[43mis_any_mat\u001B[49m\u001B[43m)\u001B[49m\u001B[43m)\u001B[49m\n\u001B[0;32m   1181\u001B[0m \u001B[38;5;66;03m# Reshape back\u001B[39;00m\n\u001B[0;32m   1182\u001B[0m result \u001B[38;5;241m=\u001B[39m result\u001B[38;5;241m.\u001B[39mreshape(_nx\u001B[38;5;241m.\u001B[39mmultiply(as_, bs))\n",
      "\u001B[1;31mUFuncTypeError\u001B[0m: ufunc 'multiply' did not contain a loop with signature matching types (dtype('<U2'), dtype('<U2')) -> None"
     ]
    }
   ],
   "execution_count": 7
  },
  {
   "metadata": {
    "ExecuteTime": {
     "end_time": "2024-11-26T07:28:31.203934Z",
     "start_time": "2024-11-26T07:28:31.189929Z"
    }
   },
   "cell_type": "code",
   "source": "np.kron(qubit[0], qubit[1].conj().T)",
   "id": "485db27fa1fc254",
   "outputs": [
    {
     "data": {
      "text/plain": [
       "array([[0, 1],\n",
       "       [0, 0]])"
      ]
     },
     "execution_count": 9,
     "metadata": {},
     "output_type": "execute_result"
    }
   ],
   "execution_count": 9
  },
  {
   "metadata": {
    "ExecuteTime": {
     "end_time": "2024-11-26T07:28:26.326115Z",
     "start_time": "2024-11-26T07:28:26.303110Z"
    }
   },
   "cell_type": "code",
   "source": "np.kron(qubit[1], qubit[0].conj().T)",
   "id": "6c0efc6bd85b4e12",
   "outputs": [
    {
     "data": {
      "text/plain": [
       "array([[0, 0],\n",
       "       [1, 0]])"
      ]
     },
     "execution_count": 8,
     "metadata": {},
     "output_type": "execute_result"
    }
   ],
   "execution_count": 8
  },
  {
   "metadata": {
    "ExecuteTime": {
     "end_time": "2024-11-26T14:23:50.798889Z",
     "start_time": "2024-11-26T14:23:50.751697Z"
    }
   },
   "cell_type": "code",
   "source": [
    "import numpy as np\n",
    "from scipy.linalg import eig\n",
    "from numpy.linalg import norm\n",
    "# Definicja prymitywnego pierwiastka z jedności\n",
    "omega = np.exp(2 * np.pi * 1j / 3)\n",
    "\n",
    "# Definicja bramki F w bazie |00>, |01>, |10>, |11>\n",
    "F = 1/np.sqrt(3) * np.array([\n",
    "    [1,      1,      1,      0],\n",
    "    [1, omega,      omega**2,      0],\n",
    "    [1,      omega**2, omega,    0],\n",
    "    [0,      0,      0,      1]\n",
    "], dtype=complex)\n",
    "\n",
    "# Obliczanie wartości własnych i wektorów własnych operatora F\n",
    "wartosci_wlasne, wektory_wlasne = eig(F)\n",
    "\n",
    "# Wyświetlenie wartości własnych\n",
    "print(\"Wartości własne operatora F:\")\n",
    "print(wartosci_wlasne)\n",
    "\n",
    "# Wyświetlenie wektorów własnych\n",
    "print(\"\\nWektory własne operatora F:\")\n",
    "for i in range(len(wektory_wlasne)):\n",
    "    print(f\"Wektor własny {i}: {wektory_wlasne[:, i]}\")\n",
    "\n",
    "# Wybór pierwszych trzech wektorów własnych jako zakodowane stany\n",
    "v0 = wektory_wlasne[:, 0]\n",
    "v1 = wektory_wlasne[:, 1]\n",
    "v2 = wektory_wlasne[:, 2]\n",
    "\n",
    "# Ortonormalizacja wektorów\n",
    "def gram_schmidt(vectors):\n",
    "    ortho_vectors = []\n",
    "    for v in vectors:\n",
    "        for ortho_v in ortho_vectors:\n",
    "            v = v - np.dot(np.conj(ortho_v), v) * ortho_v\n",
    "        v = v / norm(v)\n",
    "        ortho_vectors.append(v)\n",
    "    return np.array(ortho_vectors)\n",
    "\n",
    "wektory_ortonormalne = gram_schmidt([v0, v1, v2])\n",
    "v0o = wektory_ortonormalne[0]\n",
    "v1o = wektory_ortonormalne[1]\n",
    "v2o = wektory_ortonormalne[2]\n",
    "\n",
    "# Sprawdzenie ortonormalności\n",
    "print(\"\\nSprawdzenie ortonormalności:\")\n",
    "print(f\"Norma v0o: {norm(v0o)}\")\n",
    "print(f\"Norma v1o: {norm(v1o)}\")\n",
    "print(f\"Norma v2o: {norm(v2o)}\")\n",
    "print(f\"Iloczyn skalarny v0o i v1o: {np.dot(np.conj(v0o), v1o)}\")\n",
    "print(f\"Iloczyn skalarny v0o i v2o: {np.dot(np.conj(v0o), v2o)}\")\n",
    "print(f\"Iloczyn skalarny v1o i v2o: {np.dot(np.conj(v1o), v2o)}\")\n",
    "\n",
    "# Sprawdzenie działania operatora F na wektorach\n",
    "Fv0 = F @ v0o\n",
    "Fv1 = F @ v1o\n",
    "Fv2 = F @ v2o\n",
    "\n",
    "wartosc_wlasna_v0 = np.vdot(v0o, Fv0)\n",
    "wartosc_wlasna_v1 = np.vdot(v1o, Fv1)\n",
    "wartosc_wlasna_v2 = np.vdot(v2o, Fv2)\n",
    "\n",
    "print(\"\\nWartości własne po ortonormalizacji:\")\n",
    "print(f\"Wartość własna dla v0o: {wartosc_wlasna_v0}\")\n",
    "print(f\"Wartość własna dla v1o: {wartosc_wlasna_v1}\")\n",
    "print(f\"Wartość własna dla v2o: {wartosc_wlasna_v2}\")\n",
    "\n",
    "# Definicja operatora projekcji\n",
    "def projector(v):\n",
    "    return np.outer(v, np.conj(v))\n",
    "\n",
    "# Inicjalizacja bramki CZ jako macierzy zerowej 16x16\n",
    "CZ = np.zeros((16, 16), dtype=complex)\n",
    "\n",
    "# Definicja identyczności 4x4\n",
    "I4 = np.identity(4, dtype=complex)\n",
    "\n",
    "# Tworzenie bramki CZ\n",
    "for i in range(3):\n",
    "    temp_projector = projector(wektory_ortonormalne[i])\n",
    "    if np.allclose(wartosci_wlasne[i], omega):\n",
    "        temp_matrix = np.kron(temp_projector, F)\n",
    "    elif np.allclose(wartosci_wlasne[i], omega**2):\n",
    "        temp_matrix = np.kron(temp_projector, np.linalg.matrix_power(F, 2))\n",
    "    else:\n",
    "        temp_matrix = np.kron(temp_projector, I4)\n",
    "    CZ += temp_matrix\n",
    "\n",
    "# Sprawdzenie wymiarów bramki CZ\n",
    "print(\"\\nWymiary bramki CZ:\", CZ.shape)\n",
    "\n",
    "# Definicja stanu\n",
    "stan = np.kron(v0o, v1o)\n",
    "print(\"Wymiary stanu:\", stan.shape)\n",
    "\n",
    "# Mnożenie bramki CZ przez stan\n",
    "CZ_stan = CZ @ stan\n",
    "\n",
    "# Wyświetlenie wyniku\n",
    "print(\"\\nStan po zastosowaniu bramki CZ:\")\n",
    "print(CZ_stan)\n",
    "\n",
    "# Sprawdzenie czy wynik jest w podprzestrzeni kodowania\n",
    "def is_in_subspace(state, basis_vectors):\n",
    "    projections = [np.vdot(bv, state) for bv in basis_vectors]\n",
    "    reconstructed_state = sum(proj * bv for proj, bv in zip(projections, basis_vectors))\n",
    "    return np.allclose(state, reconstructed_state)\n",
    "\n",
    "in_subspace = is_in_subspace(CZ_stan, [np.kron(v0o, v0o), np.kron(v1o, v1o), np.kron(v2o, v2o)])\n",
    "\n",
    "print(\"\\nCzy wynikowy stan jest w podprzestrzeni kodowania?\", in_subspace)"
   ],
   "id": "c0d7ff4b5f7ee4da",
   "outputs": [
    {
     "name": "stdout",
     "output_type": "stream",
     "text": [
      "Wartości własne operatora F:\n",
      "[ 1.00000000e+00+5.80649261e-17j -1.00000000e+00+2.16701254e-16j\n",
      "  2.22044605e-16+1.00000000e+00j  5.77350269e-01+0.00000000e+00j]\n",
      "\n",
      "Wektory własne operatora F:\n",
      "Wektor własny 0: [0.88807383+0.00000000e+00j 0.32505758+4.46574153e-17j\n",
      " 0.32505758+4.46574153e-17j 0.        -0.00000000e+00j]\n",
      "Wektor własny 1: [-0.45970084-6.31551224e-17j  0.62796303+0.00000000e+00j\n",
      "  0.62796303+0.00000000e+00j  0.        +0.00000000e+00j]\n",
      "Wektor własny 2: [ 1.60246891e-17-2.04776892e-35j -7.07106781e-01+2.77555756e-17j\n",
      "  7.07106781e-01+0.00000000e+00j  0.00000000e+00+0.00000000e+00j]\n",
      "Wektor własny 3: [0.+0.j 0.+0.j 0.+0.j 1.+0.j]\n",
      "\n",
      "Sprawdzenie ortonormalności:\n",
      "Norma v0o: 1.0\n",
      "Norma v1o: 1.0\n",
      "Norma v2o: 1.0\n",
      "Iloczyn skalarny v0o i v1o: (3.2566533477189495e-33+0j)\n",
      "Iloczyn skalarny v0o i v2o: (2.7755575615628914e-17-2.311115933264683e-33j)\n",
      "Iloczyn skalarny v1o i v2o: (5.551115123125783e-17+0j)\n",
      "\n",
      "Wartości własne po ortonormalizacji:\n",
      "Wartość własna dla v0o: (1.0000000000000002+3.608864137215264e-17j)\n",
      "Wartość własna dla v1o: (-1.0000000000000002+1.3943580294818555e-16j)\n",
      "Wartość własna dla v2o: (2.9439233600320783e-16+0.9999999999999999j)\n",
      "\n",
      "Wymiary bramki CZ: (16, 16)\n",
      "Wymiary stanu: (16,)\n",
      "\n",
      "Stan po zastosowaniu bramki CZ:\n",
      "[-0.40824829+3.23815049e-17j  0.55767754+3.23815049e-17j\n",
      "  0.55767754+3.23815049e-17j  0.        +0.00000000e+00j\n",
      " -0.14942925-8.67659808e-18j  0.20412415+3.98956592e-17j\n",
      "  0.20412415+3.98956592e-17j  0.        +0.00000000e+00j\n",
      " -0.14942925-8.67659808e-18j  0.20412415+3.98956592e-17j\n",
      "  0.20412415+3.98956592e-17j  0.        +0.00000000e+00j\n",
      "  0.        +0.00000000e+00j  0.        +0.00000000e+00j\n",
      "  0.        +0.00000000e+00j  0.        +0.00000000e+00j]\n",
      "\n",
      "Czy wynikowy stan jest w podprzestrzeni kodowania? False\n"
     ]
    }
   ],
   "execution_count": 19
  },
  {
   "metadata": {
    "ExecuteTime": {
     "end_time": "2024-11-26T14:24:46.000991Z",
     "start_time": "2024-11-26T14:24:45.969398Z"
    }
   },
   "cell_type": "code",
   "source": "wektory_wlasne[0].round(4)",
   "id": "188b20f5bae97600",
   "outputs": [
    {
     "data": {
      "text/plain": [
       "array([ 0.8881+0.j, -0.4597-0.j,  0.    -0.j,  0.    +0.j])"
      ]
     },
     "execution_count": 21,
     "metadata": {},
     "output_type": "execute_result"
    }
   ],
   "execution_count": 21
  },
  {
   "metadata": {
    "ExecuteTime": {
     "end_time": "2024-11-26T14:25:04.191755Z",
     "start_time": "2024-11-26T14:25:04.176111Z"
    }
   },
   "cell_type": "code",
   "source": "wektory_wlasne[1].round(4)",
   "id": "c1899912ba34e57e",
   "outputs": [
    {
     "data": {
      "text/plain": [
       "array([ 0.3251+0.j,  0.628 +0.j, -0.7071+0.j,  0.    +0.j])"
      ]
     },
     "execution_count": 22,
     "metadata": {},
     "output_type": "execute_result"
    }
   ],
   "execution_count": 22
  },
  {
   "metadata": {
    "ExecuteTime": {
     "end_time": "2024-11-26T14:25:20.206567Z",
     "start_time": "2024-11-26T14:25:20.175774Z"
    }
   },
   "cell_type": "code",
   "source": "wektory_wlasne[2].round(4)",
   "id": "53fbb1973d55e67f",
   "outputs": [
    {
     "data": {
      "text/plain": [
       "array([0.3251+0.j, 0.628 +0.j, 0.7071+0.j, 0.    +0.j])"
      ]
     },
     "execution_count": 23,
     "metadata": {},
     "output_type": "execute_result"
    }
   ],
   "execution_count": 23
  },
  {
   "metadata": {
    "ExecuteTime": {
     "end_time": "2024-11-26T14:25:27.667247Z",
     "start_time": "2024-11-26T14:25:27.635444Z"
    }
   },
   "cell_type": "code",
   "source": "wektory_wlasne[3].round(4)",
   "id": "9a2d1e1bfff996b3",
   "outputs": [
    {
     "data": {
      "text/plain": [
       "array([0.-0.j, 0.+0.j, 0.+0.j, 1.+0.j])"
      ]
     },
     "execution_count": 24,
     "metadata": {},
     "output_type": "execute_result"
    }
   ],
   "execution_count": 24
  },
  {
   "metadata": {
    "ExecuteTime": {
     "end_time": "2024-11-26T14:07:45.925036Z",
     "start_time": "2024-11-26T14:07:45.893784Z"
    }
   },
   "cell_type": "code",
   "source": "bellstatePhiMin = 1/np.sqrt(2) * (np.kron(qubit[0], qubit[1]) - np.kron(qubit[1], qubit[0]))",
   "id": "42ac0ea4dc5e8f2f",
   "outputs": [],
   "execution_count": 15
  },
  {
   "metadata": {
    "ExecuteTime": {
     "end_time": "2024-11-26T14:09:21.683860Z",
     "start_time": "2024-11-26T14:09:21.667812Z"
    }
   },
   "cell_type": "code",
   "source": "bellstatePhiPlus = 1/np.sqrt(2) * (np.kron(qubit[0], qubit[1]) + np.kron(qubit[1], qubit[0]))",
   "id": "e24a3a499a23ee29",
   "outputs": [],
   "execution_count": 17
  },
  {
   "metadata": {
    "ExecuteTime": {
     "end_time": "2024-11-26T14:09:25.148986Z",
     "start_time": "2024-11-26T14:09:25.133363Z"
    }
   },
   "cell_type": "code",
   "source": "bellstatePhiPlus",
   "id": "fc9c0c219ddeb229",
   "outputs": [
    {
     "data": {
      "text/plain": [
       "array([[0.        ],\n",
       "       [0.70710678],\n",
       "       [0.70710678],\n",
       "       [0.        ]])"
      ]
     },
     "execution_count": 18,
     "metadata": {},
     "output_type": "execute_result"
    }
   ],
   "execution_count": 18
  },
  {
   "metadata": {
    "ExecuteTime": {
     "end_time": "2024-11-26T14:43:47.846558Z",
     "start_time": "2024-11-26T14:43:47.800338Z"
    }
   },
   "cell_type": "code",
   "source": [
    "import numpy as np\n",
    "from scipy.linalg import eig\n",
    "from numpy.linalg import norm\n",
    "\n",
    "omega = np.exp(2 * np.pi * 1j / 3)\n",
    "\n",
    "# Zredukowana macierz F o wymiarze 3x3\n",
    "F_reduced = (1 / np.sqrt(3)) * np.array([\n",
    "    [1,          1,          1],\n",
    "    [1,      omega,      omega**2],\n",
    "    [1,  omega**2,      omega]\n",
    "], dtype=complex)\n",
    "\n",
    "# Obliczanie wartości własnych i wektorów własnych\n",
    "wartosci_wlasne, wektory_wlasne = eig(F_reduced)\n",
    "\n",
    "print(\"Wartości własne operatora F_reduced:\")\n",
    "for i, wartosc in enumerate(wartosci_wlasne):\n",
    "    print(f\"Wartość własna {i}: {wartosc}\")\n",
    "\n",
    "print(\"\\nWektory własne operatora F_reduced:\")\n",
    "for i in range(len(wektory_wlasne)):\n",
    "    print(f\"Wektor własny {i}: {wektory_wlasne[:, i]}\")\n",
    "\n",
    "# Ortonormalizacja wektorów\n",
    "def gram_schmidt(vectors):\n",
    "    ortho_vectors = []\n",
    "    for v in vectors:\n",
    "        for u in ortho_vectors:\n",
    "            v = v - np.dot(u.conj().T, v) * u\n",
    "        norm_v = np.linalg.norm(v)\n",
    "        if norm_v > 1e-10:\n",
    "            v = v / norm_v\n",
    "            ortho_vectors.append(v)\n",
    "    return np.array(ortho_vectors)\n",
    "\n",
    "wektory_ortonormalne = gram_schmidt(wektory_wlasne.T)\n",
    "v0o = wektory_ortonormalne[0]\n",
    "v1o = wektory_ortonormalne[1]\n",
    "v2o = wektory_ortonormalne[2]\n",
    "\n",
    "# Sprawdzenie ortonormalności\n",
    "print(\"\\nSprawdzenie ortonormalności:\")\n",
    "print(f\"Norma v0o: {norm(v0o)}\")\n",
    "print(f\"Norma v1o: {norm(v1o)}\")\n",
    "print(f\"Norma v2o: {norm(v2o)}\")\n",
    "print(f\"Iloczyn skalarny v0o i v1o: {np.dot(np.conj(v0o), v1o)}\")\n",
    "print(f\"Iloczyn skalarny v0o i v2o: {np.dot(np.conj(v0o), v2o)}\")\n",
    "print(f\"Iloczyn skalarny v1o i v2o: {np.dot(np.conj(v1o), v2o)}\")\n"
   ],
   "id": "3fa768cbcd6f64e9",
   "outputs": [
    {
     "name": "stdout",
     "output_type": "stream",
     "text": [
      "Wartości własne operatora F_reduced:\n",
      "Wartość własna 0: (1.0000000000000004+5.80649260633834e-17j)\n",
      "Wartość własna 1: (-1+2.1670125420627727e-16j)\n",
      "Wartość własna 2: (2.220446049250313e-16+1j)\n",
      "\n",
      "Wektory własne operatora F_reduced:\n",
      "Wektor własny 0: [0.88807383+0.00000000e+00j 0.32505758+4.46574153e-17j\n",
      " 0.32505758+4.46574153e-17j]\n",
      "Wektor własny 1: [-0.45970084-6.31551224e-17j  0.62796303+0.00000000e+00j\n",
      "  0.62796303+0.00000000e+00j]\n",
      "Wektor własny 2: [ 1.60246891e-17-2.04776892e-35j -7.07106781e-01+2.77555756e-17j\n",
      "  7.07106781e-01+0.00000000e+00j]\n",
      "\n",
      "Sprawdzenie ortonormalności:\n",
      "Norma v0o: 1.0\n",
      "Norma v1o: 1.0\n",
      "Norma v2o: 1.0\n",
      "Iloczyn skalarny v0o i v1o: (3.2566533477189495e-33+0j)\n",
      "Iloczyn skalarny v0o i v2o: (2.7755575615628914e-17-2.311115933264683e-33j)\n",
      "Iloczyn skalarny v1o i v2o: (5.551115123125783e-17+0j)\n"
     ]
    }
   ],
   "execution_count": 25
  },
  {
   "metadata": {
    "ExecuteTime": {
     "end_time": "2024-11-26T14:44:21.048138Z",
     "start_time": "2024-11-26T14:44:21.019093Z"
    }
   },
   "cell_type": "code",
   "source": "wektory_wlasne[0].round(3)",
   "id": "3c246bf4a27a63a3",
   "outputs": [
    {
     "data": {
      "text/plain": [
       "array([ 0.888+0.j, -0.46 -0.j,  0.   -0.j])"
      ]
     },
     "execution_count": 27,
     "metadata": {},
     "output_type": "execute_result"
    }
   ],
   "execution_count": 27
  },
  {
   "metadata": {
    "ExecuteTime": {
     "end_time": "2024-11-26T14:44:29.925391Z",
     "start_time": "2024-11-26T14:44:29.909362Z"
    }
   },
   "cell_type": "code",
   "source": "wektory_wlasne[1].round(3)",
   "id": "84a136053dac02fb",
   "outputs": [
    {
     "data": {
      "text/plain": [
       "array([ 0.325+0.j,  0.628+0.j, -0.707+0.j])"
      ]
     },
     "execution_count": 28,
     "metadata": {},
     "output_type": "execute_result"
    }
   ],
   "execution_count": 28
  },
  {
   "metadata": {
    "ExecuteTime": {
     "end_time": "2024-11-26T14:44:39.849377Z",
     "start_time": "2024-11-26T14:44:39.821146Z"
    }
   },
   "cell_type": "code",
   "source": "wektory_wlasne[2].round(3)",
   "id": "17ce2e69bd341dcf",
   "outputs": [
    {
     "data": {
      "text/plain": [
       "array([0.325+0.j, 0.628+0.j, 0.707+0.j])"
      ]
     },
     "execution_count": 29,
     "metadata": {},
     "output_type": "execute_result"
    }
   ],
   "execution_count": 29
  },
  {
   "metadata": {},
   "cell_type": "code",
   "outputs": [],
   "execution_count": null,
   "source": "",
   "id": "4f4ba11538e7becb"
  }
 ],
 "metadata": {
  "kernelspec": {
   "display_name": "Python 3",
   "language": "python",
   "name": "python3"
  },
  "language_info": {
   "codemirror_mode": {
    "name": "ipython",
    "version": 2
   },
   "file_extension": ".py",
   "mimetype": "text/x-python",
   "name": "python",
   "nbconvert_exporter": "python",
   "pygments_lexer": "ipython2",
   "version": "2.7.6"
  }
 },
 "nbformat": 4,
 "nbformat_minor": 5
}
