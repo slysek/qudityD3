{
 "cells": [
  {
   "cell_type": "code",
   "id": "initial_id",
   "metadata": {
    "collapsed": true,
    "ExecuteTime": {
     "end_time": "2024-11-26T07:28:20.721186Z",
     "start_time": "2024-11-26T07:28:19.956166Z"
    }
   },
   "source": "import numpy as np",
   "outputs": [],
   "execution_count": 1
  },
  {
   "metadata": {
    "ExecuteTime": {
     "end_time": "2024-11-26T07:28:20.752187Z",
     "start_time": "2024-11-26T07:28:20.739170Z"
    }
   },
   "cell_type": "code",
   "source": [
    "def proj(matrix):\n",
    "    return np.kron(matrix, matrix.conj().T)"
   ],
   "id": "e671396f9b3df8de",
   "outputs": [],
   "execution_count": 2
  },
  {
   "metadata": {
    "ExecuteTime": {
     "end_time": "2024-11-26T07:28:20.783168Z",
     "start_time": "2024-11-26T07:28:20.762168Z"
    }
   },
   "cell_type": "code",
   "source": [
    "qubit0 = np.array([[1], [0]])\n",
    "qubit1 = np.array([[0], [1]])\n",
    "\n",
    "qubit = [qubit0, qubit1]"
   ],
   "id": "f3d68b7123f92b36",
   "outputs": [],
   "execution_count": 3
  },
  {
   "metadata": {
    "ExecuteTime": {
     "end_time": "2024-11-26T07:28:23.625158Z",
     "start_time": "2024-11-26T07:28:23.614159Z"
    }
   },
   "cell_type": "code",
   "source": [
    "stan0 = np.kron(qubit[0], qubit[0])\n",
    "stan1 = np.kron(qubit[1], qubit[0])\n",
    "stan2 = np.kron(qubit[0], qubit[1])"
   ],
   "id": "731ff9f51d06392e",
   "outputs": [],
   "execution_count": 4
  },
  {
   "metadata": {
    "ExecuteTime": {
     "end_time": "2024-11-26T07:28:42.825695Z",
     "start_time": "2024-11-26T07:28:42.813695Z"
    }
   },
   "cell_type": "code",
   "source": "stan0",
   "id": "5e7518008cd7bf46",
   "outputs": [
    {
     "data": {
      "text/plain": [
       "array([[1],\n",
       "       [0],\n",
       "       [0],\n",
       "       [0]])"
      ]
     },
     "execution_count": 10,
     "metadata": {},
     "output_type": "execute_result"
    }
   ],
   "execution_count": 10
  },
  {
   "metadata": {
    "ExecuteTime": {
     "end_time": "2024-11-26T07:28:24.032868Z",
     "start_time": "2024-11-26T07:28:24.021869Z"
    }
   },
   "cell_type": "code",
   "source": [
    "stan0teo = np.array([['a0'], ['b0'], ['c0'], ['d0']])\n",
    "stan1teo = np.array([['a1'], ['b1'], ['c1'], ['d1']])\n",
    "stan2teo = np.array([['a2'], ['b2'], ['c2'], ['d2']])"
   ],
   "id": "30acb2878f451482",
   "outputs": [],
   "execution_count": 5
  },
  {
   "metadata": {
    "ExecuteTime": {
     "end_time": "2024-11-26T07:28:24.394869Z",
     "start_time": "2024-11-26T07:28:24.382868Z"
    }
   },
   "cell_type": "code",
   "source": [
    "baza = [stan0, stan1, stan2]\n",
    "bazateo = [stan0teo, stan1teo, stan2teo]"
   ],
   "id": "f25ffba685755c20",
   "outputs": [],
   "execution_count": 6
  },
  {
   "metadata": {
    "ExecuteTime": {
     "end_time": "2024-11-26T07:28:25.825865Z",
     "start_time": "2024-11-26T07:28:24.720870Z"
    }
   },
   "cell_type": "code",
   "source": [
    "check = proj(baza[0]) + proj(baza[1]) + proj(baza[2])\n",
    "checkteo = proj(bazateo[0]) + proj(bazateo[1]) + proj(bazateo[2])"
   ],
   "id": "e983ce71c52f610b",
   "outputs": [
    {
     "name": "stderr",
     "output_type": "stream",
     "text": [
      "C:\\Users\\szymon\\AppData\\Local\\Temp\\ipykernel_17504\\4267056448.py:2: DeprecationWarning: attempting to conjugate non-numeric dtype; this will error in the future to match the behavior of np.conjugate\n",
      "  return np.kron(matrix, matrix.conj().T)\n"
     ]
    },
    {
     "ename": "UFuncTypeError",
     "evalue": "ufunc 'multiply' did not contain a loop with signature matching types (dtype('<U2'), dtype('<U2')) -> None",
     "output_type": "error",
     "traceback": [
      "\u001B[1;31m---------------------------------------------------------------------------\u001B[0m",
      "\u001B[1;31mUFuncTypeError\u001B[0m                            Traceback (most recent call last)",
      "Cell \u001B[1;32mIn[7], line 2\u001B[0m\n\u001B[0;32m      1\u001B[0m check \u001B[38;5;241m=\u001B[39m proj(baza[\u001B[38;5;241m0\u001B[39m]) \u001B[38;5;241m+\u001B[39m proj(baza[\u001B[38;5;241m1\u001B[39m]) \u001B[38;5;241m+\u001B[39m proj(baza[\u001B[38;5;241m2\u001B[39m])\n\u001B[1;32m----> 2\u001B[0m checkteo \u001B[38;5;241m=\u001B[39m \u001B[43mproj\u001B[49m\u001B[43m(\u001B[49m\u001B[43mbazateo\u001B[49m\u001B[43m[\u001B[49m\u001B[38;5;241;43m0\u001B[39;49m\u001B[43m]\u001B[49m\u001B[43m)\u001B[49m \u001B[38;5;241m+\u001B[39m proj(bazateo[\u001B[38;5;241m1\u001B[39m]) \u001B[38;5;241m+\u001B[39m proj(bazateo[\u001B[38;5;241m2\u001B[39m])\n",
      "Cell \u001B[1;32mIn[2], line 2\u001B[0m, in \u001B[0;36mproj\u001B[1;34m(matrix)\u001B[0m\n\u001B[0;32m      1\u001B[0m \u001B[38;5;28;01mdef\u001B[39;00m \u001B[38;5;21mproj\u001B[39m(matrix):\n\u001B[1;32m----> 2\u001B[0m     \u001B[38;5;28;01mreturn\u001B[39;00m \u001B[43mnp\u001B[49m\u001B[38;5;241;43m.\u001B[39;49m\u001B[43mkron\u001B[49m\u001B[43m(\u001B[49m\u001B[43mmatrix\u001B[49m\u001B[43m,\u001B[49m\u001B[43m \u001B[49m\u001B[43mmatrix\u001B[49m\u001B[38;5;241;43m.\u001B[39;49m\u001B[43mconj\u001B[49m\u001B[43m(\u001B[49m\u001B[43m)\u001B[49m\u001B[38;5;241;43m.\u001B[39;49m\u001B[43mT\u001B[49m\u001B[43m)\u001B[49m\n",
      "File \u001B[1;32m<__array_function__ internals>:200\u001B[0m, in \u001B[0;36mkron\u001B[1;34m(*args, **kwargs)\u001B[0m\n",
      "File \u001B[1;32m~\\.conda\\envs\\qudityD3\\lib\\site-packages\\numpy\\lib\\shape_base.py:1179\u001B[0m, in \u001B[0;36mkron\u001B[1;34m(a, b)\u001B[0m\n\u001B[0;32m   1177\u001B[0m b_arr \u001B[38;5;241m=\u001B[39m expand_dims(b_arr, axis\u001B[38;5;241m=\u001B[39m\u001B[38;5;28mtuple\u001B[39m(\u001B[38;5;28mrange\u001B[39m(\u001B[38;5;241m0\u001B[39m, nd\u001B[38;5;241m*\u001B[39m\u001B[38;5;241m2\u001B[39m, \u001B[38;5;241m2\u001B[39m)))\n\u001B[0;32m   1178\u001B[0m \u001B[38;5;66;03m# In case of `mat`, convert result to `array`\u001B[39;00m\n\u001B[1;32m-> 1179\u001B[0m result \u001B[38;5;241m=\u001B[39m \u001B[43m_nx\u001B[49m\u001B[38;5;241;43m.\u001B[39;49m\u001B[43mmultiply\u001B[49m\u001B[43m(\u001B[49m\u001B[43ma_arr\u001B[49m\u001B[43m,\u001B[49m\u001B[43m \u001B[49m\u001B[43mb_arr\u001B[49m\u001B[43m,\u001B[49m\u001B[43m \u001B[49m\u001B[43msubok\u001B[49m\u001B[38;5;241;43m=\u001B[39;49m\u001B[43m(\u001B[49m\u001B[38;5;129;43;01mnot\u001B[39;49;00m\u001B[43m \u001B[49m\u001B[43mis_any_mat\u001B[49m\u001B[43m)\u001B[49m\u001B[43m)\u001B[49m\n\u001B[0;32m   1181\u001B[0m \u001B[38;5;66;03m# Reshape back\u001B[39;00m\n\u001B[0;32m   1182\u001B[0m result \u001B[38;5;241m=\u001B[39m result\u001B[38;5;241m.\u001B[39mreshape(_nx\u001B[38;5;241m.\u001B[39mmultiply(as_, bs))\n",
      "\u001B[1;31mUFuncTypeError\u001B[0m: ufunc 'multiply' did not contain a loop with signature matching types (dtype('<U2'), dtype('<U2')) -> None"
     ]
    }
   ],
   "execution_count": 7
  },
  {
   "metadata": {
    "ExecuteTime": {
     "end_time": "2024-11-26T07:28:31.203934Z",
     "start_time": "2024-11-26T07:28:31.189929Z"
    }
   },
   "cell_type": "code",
   "source": "np.kron(qubit[0], qubit[1].conj().T)",
   "id": "485db27fa1fc254",
   "outputs": [
    {
     "data": {
      "text/plain": [
       "array([[0, 1],\n",
       "       [0, 0]])"
      ]
     },
     "execution_count": 9,
     "metadata": {},
     "output_type": "execute_result"
    }
   ],
   "execution_count": 9
  },
  {
   "metadata": {
    "ExecuteTime": {
     "end_time": "2024-11-26T07:28:26.326115Z",
     "start_time": "2024-11-26T07:28:26.303110Z"
    }
   },
   "cell_type": "code",
   "source": "np.kron(qubit[1], qubit[0].conj().T)",
   "id": "6c0efc6bd85b4e12",
   "outputs": [
    {
     "data": {
      "text/plain": [
       "array([[0, 0],\n",
       "       [1, 0]])"
      ]
     },
     "execution_count": 8,
     "metadata": {},
     "output_type": "execute_result"
    }
   ],
   "execution_count": 8
  },
  {
   "metadata": {},
   "cell_type": "code",
   "outputs": [],
   "execution_count": null,
   "source": "",
   "id": "c0d7ff4b5f7ee4da"
  }
 ],
 "metadata": {
  "kernelspec": {
   "display_name": "Python 3",
   "language": "python",
   "name": "python3"
  },
  "language_info": {
   "codemirror_mode": {
    "name": "ipython",
    "version": 2
   },
   "file_extension": ".py",
   "mimetype": "text/x-python",
   "name": "python",
   "nbconvert_exporter": "python",
   "pygments_lexer": "ipython2",
   "version": "2.7.6"
  }
 },
 "nbformat": 4,
 "nbformat_minor": 5
}
