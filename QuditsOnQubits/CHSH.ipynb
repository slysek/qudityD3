{
 "cells": [
  {
   "cell_type": "code",
   "id": "initial_id",
   "metadata": {
    "collapsed": true,
    "ExecuteTime": {
     "end_time": "2025-03-28T09:44:38.929643Z",
     "start_time": "2025-03-28T09:44:25.512710Z"
    }
   },
   "source": [
    "from qiskit.quantum_info import Statevector, Operator\n",
    "from QuditsOnQubits import QuditsOnQubits\n",
    "import numpy as np\n",
    "import networkx as nx\n",
    "from numpy.linalg import multi_dot\n",
    "import matplotlib.pyplot as plt\n",
    "import igraph as ig\n",
    "import pandas as pd\n",
    "from itertools import product"
   ],
   "outputs": [],
   "execution_count": 1
  },
  {
   "metadata": {
    "ExecuteTime": {
     "end_time": "2025-03-28T09:44:41.693951Z",
     "start_time": "2025-03-28T09:44:41.474337Z"
    }
   },
   "cell_type": "code",
   "source": "ame43 = QuditsOnQubits().ame43circ",
   "id": "5ce24cdd72e2eb7d",
   "outputs": [],
   "execution_count": 2
  },
  {
   "metadata": {
    "ExecuteTime": {
     "end_time": "2025-03-28T09:44:42.768849Z",
     "start_time": "2025-03-28T09:44:42.188149Z"
    }
   },
   "cell_type": "code",
   "source": "ame43.draw('mpl')",
   "id": "691ea53d9edb2cd1",
   "outputs": [
    {
     "data": {
      "text/plain": [
       "<Figure size 621.941x702.333 with 1 Axes>"
      ],
      "image/png": "[encoded data removed]"
     },
     "execution_count": 3,
     "metadata": {},
     "output_type": "execute_result"
    }
   ],
   "execution_count": 3
  },
  {
   "metadata": {
    "ExecuteTime": {
     "end_time": "2025-03-28T09:44:43.954159Z",
     "start_time": "2025-03-28T09:44:43.926161Z"
    }
   },
   "cell_type": "code",
   "source": [
    "omega = np.exp(2*np.pi*1.j/3)\n",
    "Z = [[1, 0, 0, 0], [0, omega, 0, 0], [0, 0, omega*omega, 0], [0, 0, 0, 1]]\n",
    "X = [[0,0,1,0], [1,0,0,0], [0,1,0,0],[0,0,0,1]]\n",
    "\n",
    "G1 = np.kron(np.kron(np.kron(X, Z), np.identity(4)), Z)\n",
    "G1G2 = np.kron(np.kron(np.kron(np.dot(X, Z), np.dot(Z, X)), Z), Z)\n",
    "G1G2pow2 = np.kron(np.kron(np.kron(multi_dot([X, Z, Z]), multi_dot([Z, X, X])), multi_dot([Z, Z])), Z)\n",
    "G3 = np.kron(np.kron(np.kron(np.identity(4), Z), X), multi_dot([Z, Z]))\n",
    "G1G4 = np.kron(np.kron(np.kron(multi_dot([X, Z]), Z), multi_dot([Z, Z])), multi_dot([Z, X]))"
   ],
   "id": "50f7b14f4186c2b2",
   "outputs": [],
   "execution_count": 4
  },
  {
   "metadata": {
    "ExecuteTime": {
     "end_time": "2025-03-28T09:44:47.687504Z",
     "start_time": "2025-03-28T09:44:47.660505Z"
    }
   },
   "cell_type": "code",
   "source": "ame43state = Statevector(ame43).data",
   "id": "2da492f8433798f",
   "outputs": [],
   "execution_count": 5
  },
  {
   "metadata": {
    "ExecuteTime": {
     "end_time": "2025-03-28T09:44:48.036549Z",
     "start_time": "2025-03-28T09:44:48.020547Z"
    }
   },
   "cell_type": "code",
   "source": "multi_dot([ame43state.conj().transpose(), G1, ame43state]).round()",
   "id": "cded9a4a20b164d0",
   "outputs": [
    {
     "data": {
      "text/plain": [
       "np.complex128(-0j)"
      ]
     },
     "execution_count": 6,
     "metadata": {},
     "output_type": "execute_result"
    }
   ],
   "execution_count": 6
  },
  {
   "metadata": {
    "ExecuteTime": {
     "end_time": "2025-03-28T09:53:54.001632Z",
     "start_time": "2025-03-28T09:53:53.973634Z"
    }
   },
   "cell_type": "code",
   "source": [
    "def ame43_checker_gen(ameMTX):\n",
    "    omega = np.exp(2*np.pi*1.j/3)\n",
    "    Z = [[1, 0, 0, 0], [0, omega, 0, 0], [0, 0, omega*omega, 0], [0, 0, 0, 1]]\n",
    "    X = [[0,0,1,0], [1,0,0,0], [0,1,0,0],[0,0,0,1]]\n",
    "    I = np.identity(4)\n",
    "    ops = [Z, X, I]\n",
    "    names = [\"Z\", \"X\", \"I\"]\n",
    "\n",
    "    G1_dict = {}\n",
    "    G1G2_dict = {}\n",
    "    G1G2pow2_dict = {}\n",
    "    G3_dict = {}\n",
    "    G1G4_dict = {}\n",
    "\n",
    "    tensor_symbol = \"\\u2297\"\n",
    "\n",
    "    for combination in product(zip(ops, names), repeat=9):\n",
    "\n",
    "        if len(G1_dict) > 2 and len(G1G2_dict) > 2 and len(G1G2pow2_dict) > 2 and len(G3_dict) > 2 and len(G1G4_dict) > 2:\n",
    "            break\n",
    "\n",
    "        (i, i2), (j, j2), (k, k2), (l, l2), (m, m2), (n, n2), (o, o2), (p, p2), (q, q2) = combination\n",
    "        G1 = np.kron(np.kron(np.kron(i, j), k), l)\n",
    "        G1G2 = np.kron(np.kron(np.kron(np.dot(i, j), np.dot(k, l)), m), n)\n",
    "        G1G2pow2 = np.kron(np.kron(np.kron(multi_dot([i, j, k]), multi_dot([l, m, n])), multi_dot([o, p])), q)\n",
    "        G3 = np.kron(np.kron(np.kron(i, j), k), multi_dot([l, m]))\n",
    "        G1G4 = np.kron(np.kron(np.kron(multi_dot([i, j]), k), multi_dot([l, m])), multi_dot([n, o]))\n",
    "\n",
    "        G1_text = f'{i2}{tensor_symbol}{j2}{tensor_symbol}{k2}{tensor_symbol}{l2}'\n",
    "\n",
    "        G1G2_text = f'{i2}{j2}{tensor_symbol}{k2}{l2}{tensor_symbol}{m2}{tensor_symbol}{n2}'\n",
    "\n",
    "        G1G2pow2_text = f'{i2}{j2}{k2}{tensor_symbol}{l2}{m2}{n2}{tensor_symbol}{o2}{p2}{tensor_symbol}{q2}'\n",
    "\n",
    "        G3_text = f'{i2}{tensor_symbol}{j2}{tensor_symbol}{k2}{tensor_symbol}{l2}{m2}'\n",
    "\n",
    "        G1G4_text = f'{i2}{j2}{tensor_symbol}{k2}{tensor_symbol}{l2}{m2}{tensor_symbol}{n2}{o2}'\n",
    "\n",
    "        evG1 = multi_dot([ameMTX.conj().transpose(), G1, ameMTX])\n",
    "        evG1G2 = multi_dot([ameMTX.conj().transpose(), G1G2, ameMTX])\n",
    "        evG1G2pow2 = multi_dot([ameMTX.conj().transpose(), G1G2pow2, ameMTX])\n",
    "        evG3 = multi_dot([ameMTX.conj().transpose(), G3, ameMTX])\n",
    "        evG1G4 = multi_dot([ameMTX.conj().transpose(), G1G4, ameMTX])\n",
    "\n",
    "        ev_list = [evG1, evG1G2, evG1G2pow2, evG3, evG1G4]\n",
    "\n",
    "        if np.real(evG1.round(4)) == 1 and G1_text not in G1_dict:\n",
    "            G1_dict[G1_text] = evG1.round(4)\n",
    "        if np.real(evG1G2.round(4)) == 1 and G1G2_text not in G1G2_dict:\n",
    "            G1G2_dict[G1G2_text] = evG1G2.round(4)\n",
    "        if np.real(evG1G2pow2.round(4)) == 1 and G1G2pow2_text not in G1G2pow2_dict:\n",
    "            G1G2pow2_dict[G1G2pow2_text] = evG1G2pow2.round(4)\n",
    "        if np.real(evG3.round(4)) == 1 and G3_text not in G3_dict:\n",
    "            G3_dict[G3_text] = evG3.round(4)\n",
    "        if np.real(evG1G4.round(4)) == 1 and G1G4_text not in G1G4_dict:\n",
    "            G1G4_dict[G1G4_text] = evG1G4.round(4)\n",
    "\n",
    "        # if any(np.real(x.round(4)) == 1 for x in ev_list):\n",
    "        #     print(f'G1: {G1_text} => {evG1.round(4)}')\n",
    "        #     print(f'G1G2: {G1G2_text} => {evG1G2.round(4)}')\n",
    "        #     print(f'G1G2pow2: {G1G2pow2_text} => {evG1G2pow2.round(4)}')\n",
    "        #     print(f'G3: {G3_text} => {evG3.round(4)}')\n",
    "        #     print(f'G1G4: {G1G4_text} => {evG1G4.round(4)}')\n",
    "        #     print(\"----------------------------------\")\n",
    "\n",
    "    return G1_dict, G1G2_dict, G1G2pow2_dict, G3_dict, G1G4_dict"
   ],
   "id": "c50eda9845a1e4a9",
   "outputs": [],
   "execution_count": 23
  },
  {
   "metadata": {
    "ExecuteTime": {
     "end_time": "2025-03-28T09:56:01.559483Z",
     "start_time": "2025-03-28T09:53:54.295640Z"
    }
   },
   "cell_type": "code",
   "source": "G1_dict, G1G2_dict, G1G2pow2_dict, G3_dict, G1G4_dict = ame43_checker_gen(ame43state)",
   "id": "b5cada4e89352804",
   "outputs": [],
   "execution_count": 24
  },
  {
   "metadata": {
    "ExecuteTime": {
     "end_time": "2025-03-28T09:56:04.776869Z",
     "start_time": "2025-03-28T09:56:04.765873Z"
    }
   },
   "cell_type": "code",
   "source": "G1_dict",
   "id": "b3d588d113021ca3",
   "outputs": [
    {
     "data": {
      "text/plain": [
       "{'Z⊗I⊗Z⊗Z': np.complex128(1-0j), 'I⊗I⊗I⊗I': np.complex128(1+0j)}"
      ]
     },
     "execution_count": 25,
     "metadata": {},
     "output_type": "execute_result"
    }
   ],
   "execution_count": 25
  },
  {
   "metadata": {
    "ExecuteTime": {
     "end_time": "2025-03-28T09:56:08.320961Z",
     "start_time": "2025-03-28T09:56:08.308961Z"
    }
   },
   "cell_type": "code",
   "source": "G1G2_dict",
   "id": "a0e1d0b3b4d18b90",
   "outputs": [
    {
     "data": {
      "text/plain": [
       "{'ZZ⊗ZZ⊗Z⊗I': np.complex128(1-0j),\n",
       " 'ZZ⊗ZI⊗I⊗Z': np.complex128(1-0j),\n",
       " 'ZZ⊗IZ⊗I⊗Z': np.complex128(1-0j),\n",
       " 'ZI⊗II⊗Z⊗Z': np.complex128(1-0j),\n",
       " 'IZ⊗II⊗Z⊗Z': np.complex128(1-0j),\n",
       " 'II⊗II⊗I⊗I': np.complex128(1+0j)}"
      ]
     },
     "execution_count": 26,
     "metadata": {},
     "output_type": "execute_result"
    }
   ],
   "execution_count": 26
  },
  {
   "metadata": {
    "ExecuteTime": {
     "end_time": "2025-03-28T10:04:20.275454Z",
     "start_time": "2025-03-28T10:04:20.248455Z"
    }
   },
   "cell_type": "code",
   "source": "G1G2pow2_dict",
   "id": "3f0f3f3ebc57b9c9",
   "outputs": [
    {
     "data": {
      "text/plain": [
       "{'ZZZ⊗ZZZ⊗II⊗I': np.complex128(1-0j),\n",
       " 'ZZZ⊗ZZI⊗ZZ⊗Z': np.complex128(1-0j),\n",
       " 'ZZZ⊗ZIZ⊗ZZ⊗Z': np.complex128(1-0j),\n",
       " 'ZZZ⊗XXX⊗II⊗I': np.complex128(1-0j),\n",
       " 'ZZZ⊗IZZ⊗ZZ⊗Z': np.complex128(1-0j),\n",
       " 'ZZZ⊗III⊗II⊗I': np.complex128(1-0j),\n",
       " 'ZZI⊗ZZI⊗ZI⊗I': np.complex128(1-0j),\n",
       " 'ZZI⊗ZZI⊗IZ⊗I': np.complex128(1-0j),\n",
       " 'ZZI⊗ZIZ⊗ZI⊗I': np.complex128(1-0j),\n",
       " 'ZZI⊗ZIZ⊗IZ⊗I': np.complex128(1-0j),\n",
       " 'ZZI⊗ZII⊗II⊗Z': np.complex128(1-0j),\n",
       " 'ZZI⊗IZZ⊗ZI⊗I': np.complex128(1-0j),\n",
       " 'ZZI⊗IZZ⊗IZ⊗I': np.complex128(1-0j),\n",
       " 'ZZI⊗IZI⊗II⊗Z': np.complex128(1-0j),\n",
       " 'ZZI⊗IIZ⊗II⊗Z': np.complex128(1-0j),\n",
       " 'ZIZ⊗ZZI⊗ZI⊗I': np.complex128(1-0j),\n",
       " 'ZIZ⊗ZZI⊗IZ⊗I': np.complex128(1-0j),\n",
       " 'ZIZ⊗ZIZ⊗ZI⊗I': np.complex128(1-0j),\n",
       " 'ZIZ⊗ZIZ⊗IZ⊗I': np.complex128(1-0j),\n",
       " 'ZIZ⊗ZII⊗II⊗Z': np.complex128(1-0j),\n",
       " 'ZIZ⊗IZZ⊗ZI⊗I': np.complex128(1-0j),\n",
       " 'ZIZ⊗IZZ⊗IZ⊗I': np.complex128(1-0j),\n",
       " 'ZIZ⊗IZI⊗II⊗Z': np.complex128(1-0j),\n",
       " 'ZIZ⊗IIZ⊗II⊗Z': np.complex128(1-0j),\n",
       " 'ZII⊗ZZZ⊗ZI⊗Z': np.complex128(1-0j),\n",
       " 'ZII⊗ZZZ⊗IZ⊗Z': np.complex128(1-0j),\n",
       " 'ZII⊗ZII⊗ZZ⊗I': np.complex128(1-0j),\n",
       " 'ZII⊗XXX⊗ZI⊗Z': np.complex128(1-0j),\n",
       " 'ZII⊗XXX⊗IZ⊗Z': np.complex128(1-0j),\n",
       " 'ZII⊗IZI⊗ZZ⊗I': np.complex128(1-0j),\n",
       " 'ZII⊗IIZ⊗ZZ⊗I': np.complex128(1-0j),\n",
       " 'ZII⊗III⊗ZI⊗Z': np.complex128(1-0j),\n",
       " 'ZII⊗III⊗IZ⊗Z': np.complex128(1-0j),\n",
       " 'XXX⊗ZZZ⊗II⊗I': np.complex128(1-0j),\n",
       " 'XXX⊗ZZI⊗ZZ⊗Z': np.complex128(1-0j),\n",
       " 'XXX⊗ZIZ⊗ZZ⊗Z': np.complex128(1-0j),\n",
       " 'XXX⊗XXX⊗II⊗I': np.complex128(1+0j),\n",
       " 'XXX⊗IZZ⊗ZZ⊗Z': np.complex128(1-0j),\n",
       " 'XXX⊗III⊗II⊗I': np.complex128(1+0j),\n",
       " 'IZZ⊗ZZI⊗ZI⊗I': np.complex128(1-0j),\n",
       " 'IZZ⊗ZZI⊗IZ⊗I': np.complex128(1-0j),\n",
       " 'IZZ⊗ZIZ⊗ZI⊗I': np.complex128(1-0j),\n",
       " 'IZZ⊗ZIZ⊗IZ⊗I': np.complex128(1-0j),\n",
       " 'IZZ⊗ZII⊗II⊗Z': np.complex128(1-0j),\n",
       " 'IZZ⊗IZZ⊗ZI⊗I': np.complex128(1-0j),\n",
       " 'IZZ⊗IZZ⊗IZ⊗I': np.complex128(1-0j),\n",
       " 'IZZ⊗IZI⊗II⊗Z': np.complex128(1-0j),\n",
       " 'IZZ⊗IIZ⊗II⊗Z': np.complex128(1-0j),\n",
       " 'IZI⊗ZZZ⊗ZI⊗Z': np.complex128(1-0j),\n",
       " 'IZI⊗ZZZ⊗IZ⊗Z': np.complex128(1-0j),\n",
       " 'IZI⊗ZII⊗ZZ⊗I': np.complex128(1-0j),\n",
       " 'IZI⊗XXX⊗ZI⊗Z': np.complex128(1-0j),\n",
       " 'IZI⊗XXX⊗IZ⊗Z': np.complex128(1-0j),\n",
       " 'IZI⊗IZI⊗ZZ⊗I': np.complex128(1-0j),\n",
       " 'IZI⊗IIZ⊗ZZ⊗I': np.complex128(1-0j),\n",
       " 'IZI⊗III⊗ZI⊗Z': np.complex128(1-0j),\n",
       " 'IZI⊗III⊗IZ⊗Z': np.complex128(1-0j),\n",
       " 'IIZ⊗ZZZ⊗ZI⊗Z': np.complex128(1-0j),\n",
       " 'IIZ⊗ZZZ⊗IZ⊗Z': np.complex128(1-0j),\n",
       " 'IIZ⊗ZII⊗ZZ⊗I': np.complex128(1-0j),\n",
       " 'IIZ⊗XXX⊗ZI⊗Z': np.complex128(1-0j),\n",
       " 'IIZ⊗XXX⊗IZ⊗Z': np.complex128(1-0j),\n",
       " 'IIZ⊗IZI⊗ZZ⊗I': np.complex128(1-0j),\n",
       " 'IIZ⊗IIZ⊗ZZ⊗I': np.complex128(1-0j),\n",
       " 'IIZ⊗III⊗ZI⊗Z': np.complex128(1-0j),\n",
       " 'IIZ⊗III⊗IZ⊗Z': np.complex128(1-0j),\n",
       " 'III⊗ZZZ⊗II⊗I': np.complex128(1-0j),\n",
       " 'III⊗ZZI⊗ZZ⊗Z': np.complex128(1-0j),\n",
       " 'III⊗ZIZ⊗ZZ⊗Z': np.complex128(1-0j),\n",
       " 'III⊗XXX⊗II⊗I': np.complex128(1+0j),\n",
       " 'III⊗IZZ⊗ZZ⊗Z': np.complex128(1-0j),\n",
       " 'III⊗III⊗II⊗I': np.complex128(1+0j)}"
      ]
     },
     "execution_count": 27,
     "metadata": {},
     "output_type": "execute_result"
    }
   ],
   "execution_count": 27
  },
  {
   "metadata": {
    "ExecuteTime": {
     "end_time": "2025-03-28T10:05:38.418871Z",
     "start_time": "2025-03-28T10:05:38.408877Z"
    }
   },
   "cell_type": "code",
   "source": "G3_dict",
   "id": "26352d5370019c12",
   "outputs": [
    {
     "data": {
      "text/plain": [
       "{'Z⊗I⊗Z⊗ZI': np.complex128(1-0j),\n",
       " 'Z⊗I⊗Z⊗IZ': np.complex128(1-0j),\n",
       " 'I⊗Z⊗Z⊗ZZ': np.complex128(1-0j),\n",
       " 'I⊗I⊗I⊗II': np.complex128(1+0j)}"
      ]
     },
     "execution_count": 28,
     "metadata": {},
     "output_type": "execute_result"
    }
   ],
   "execution_count": 28
  },
  {
   "metadata": {
    "ExecuteTime": {
     "end_time": "2025-03-28T10:06:00.737876Z",
     "start_time": "2025-03-28T10:06:00.724874Z"
    }
   },
   "cell_type": "code",
   "source": "G1G4_dict",
   "id": "b8d8a763020ee247",
   "outputs": [
    {
     "data": {
      "text/plain": [
       "{'ZZ⊗Z⊗II⊗ZI': np.complex128(1-0j),\n",
       " 'ZZ⊗Z⊗II⊗IZ': np.complex128(1-0j),\n",
       " 'ZZ⊗I⊗ZZ⊗ZZ': np.complex128(1-0j),\n",
       " 'ZI⊗Z⊗ZZ⊗II': np.complex128(1-0j),\n",
       " 'ZI⊗I⊗ZI⊗ZI': np.complex128(1-0j),\n",
       " 'ZI⊗I⊗ZI⊗IZ': np.complex128(1-0j),\n",
       " 'ZI⊗I⊗IZ⊗ZI': np.complex128(1-0j),\n",
       " 'ZI⊗I⊗IZ⊗IZ': np.complex128(1-0j),\n",
       " 'IZ⊗Z⊗ZZ⊗II': np.complex128(1-0j),\n",
       " 'IZ⊗I⊗ZI⊗ZI': np.complex128(1-0j),\n",
       " 'IZ⊗I⊗ZI⊗IZ': np.complex128(1-0j),\n",
       " 'IZ⊗I⊗IZ⊗ZI': np.complex128(1-0j),\n",
       " 'IZ⊗I⊗IZ⊗IZ': np.complex128(1-0j),\n",
       " 'II⊗Z⊗ZI⊗ZZ': np.complex128(1-0j),\n",
       " 'II⊗Z⊗IZ⊗ZZ': np.complex128(1-0j),\n",
       " 'II⊗I⊗II⊗II': np.complex128(1+0j)}"
      ]
     },
     "execution_count": 29,
     "metadata": {},
     "output_type": "execute_result"
    }
   ],
   "execution_count": 29
  },
  {
   "metadata": {},
   "cell_type": "code",
   "outputs": [],
   "execution_count": null,
   "source": "",
   "id": "d91021495dd7e696"
  }
 ],
 "metadata": {
  "kernelspec": {
   "display_name": "Python 3",
   "language": "python",
   "name": "python3"
  },
  "language_info": {
   "codemirror_mode": {
    "name": "ipython",
    "version": 2
   },
   "file_extension": ".py",
   "mimetype": "text/x-python",
   "name": "python",
   "nbconvert_exporter": "python",
   "pygments_lexer": "ipython2",
   "version": "2.7.6"
  }
 },
 "nbformat": 4,
 "nbformat_minor": 5
}
