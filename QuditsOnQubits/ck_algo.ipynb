{
 "cells": [
  {
   "cell_type": "code",
   "id": "initial_id",
   "metadata": {
    "collapsed": true,
    "ExecuteTime": {
     "end_time": "2025-04-22T18:03:47.703945Z",
     "start_time": "2025-04-22T18:03:45.951065Z"
    }
   },
   "source": [
    "import igraph as ig\n",
    "\n",
    "g = ig.Graph(n=3, directed=False)\n",
    "\n",
    "edges = [(0,1), (0,2)]\n",
    "g.add_edges(edges)"
   ],
   "outputs": [],
   "execution_count": 1
  },
  {
   "metadata": {
    "ExecuteTime": {
     "end_time": "2025-04-22T18:12:58.319617Z",
     "start_time": "2025-04-22T18:12:58.166050Z"
    }
   },
   "cell_type": "code",
   "source": [
    "import matplotlib.pyplot as plt\n",
    "fig, ax = plt.subplots()\n",
    "ig.plot(g, target=ax, vertex_label=[str(idx) for idx in range(g.vcount())])\n",
    "for e in g.es:\n",
    "    e[\"r\"] = 1"
   ],
   "id": "ee07a819c8a3f45a",
   "outputs": [
    {
     "data": {
      "text/plain": [
       "<Figure size 640x480 with 1 Axes>"
      ],
      "image/png": "[encoded data removed]"
     },
     "metadata": {},
     "output_type": "display_data"
    }
   ],
   "execution_count": 16
  },
  {
   "metadata": {
    "ExecuteTime": {
     "end_time": "2025-04-22T18:07:51.151410Z",
     "start_time": "2025-04-22T18:07:51.141418Z"
    }
   },
   "cell_type": "code",
   "source": "g.vcount()",
   "id": "a279e0d523bf68f5",
   "outputs": [
    {
     "data": {
      "text/plain": [
       "3"
      ]
     },
     "execution_count": 7,
     "metadata": {},
     "output_type": "execute_result"
    }
   ],
   "execution_count": 7
  },
  {
   "metadata": {
    "ExecuteTime": {
     "end_time": "2025-04-22T18:07:56.229325Z",
     "start_time": "2025-04-22T18:07:56.220332Z"
    }
   },
   "cell_type": "code",
   "source": [
    "v1, v2 = None, None\n",
    "for e in g.es:\n",
    "    if (e[\"r\"] % 3) != 0:\n",
    "        v1, v2 = e.source, e.target\n",
    "        break"
   ],
   "id": "cd621b6587b28844",
   "outputs": [],
   "execution_count": 9
  },
  {
   "metadata": {
    "ExecuteTime": {
     "end_time": "2025-04-22T18:07:59.226888Z",
     "start_time": "2025-04-22T18:07:59.213897Z"
    }
   },
   "cell_type": "code",
   "source": "v1",
   "id": "9857414dbfa56655",
   "outputs": [
    {
     "data": {
      "text/plain": [
       "0"
      ]
     },
     "execution_count": 10,
     "metadata": {},
     "output_type": "execute_result"
    }
   ],
   "execution_count": 10
  },
  {
   "metadata": {
    "ExecuteTime": {
     "end_time": "2025-04-22T18:08:00.923156Z",
     "start_time": "2025-04-22T18:08:00.911149Z"
    }
   },
   "cell_type": "code",
   "source": "v2",
   "id": "6a5145cea2b49053",
   "outputs": [
    {
     "data": {
      "text/plain": [
       "1"
      ]
     },
     "execution_count": 11,
     "metadata": {},
     "output_type": "execute_result"
    }
   ],
   "execution_count": 11
  },
  {
   "metadata": {
    "ExecuteTime": {
     "end_time": "2025-04-22T18:09:31.673123Z",
     "start_time": "2025-04-22T18:09:31.649127Z"
    }
   },
   "cell_type": "code",
   "source": "g.neighbors(1)",
   "id": "9d7dce7e3089f435",
   "outputs": [
    {
     "data": {
      "text/plain": [
       "[0]"
      ]
     },
     "execution_count": 15,
     "metadata": {},
     "output_type": "execute_result"
    }
   ],
   "execution_count": 15
  },
  {
   "metadata": {},
   "cell_type": "code",
   "outputs": [],
   "execution_count": null,
   "source": "",
   "id": "8366609d8ff7da25"
  }
 ],
 "metadata": {
  "kernelspec": {
   "display_name": "Python 3",
   "language": "python",
   "name": "python3"
  },
  "language_info": {
   "codemirror_mode": {
    "name": "ipython",
    "version": 2
   },
   "file_extension": ".py",
   "mimetype": "text/x-python",
   "name": "python",
   "nbconvert_exporter": "python",
   "pygments_lexer": "ipython2",
   "version": "2.7.6"
  }
 },
 "nbformat": 4,
 "nbformat_minor": 5
}
