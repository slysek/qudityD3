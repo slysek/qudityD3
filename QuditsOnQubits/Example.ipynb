{
 "cells": [
  {
   "cell_type": "code",
   "id": "initial_id",
   "metadata": {
    "collapsed": true,
    "ExecuteTime": {
     "end_time": "2025-04-23T23:35:51.614687Z",
     "start_time": "2025-04-23T23:35:48.685092Z"
    }
   },
   "source": [
    "from QuditsOnQubits import brisbane, torino, fidelity, create_ghz, create_graph_ghz, create_ame43\n",
    "import igraph as ig\n",
    "import numpy as np"
   ],
   "outputs": [],
   "execution_count": 1
  },
  {
   "metadata": {
    "ExecuteTime": {
     "end_time": "2025-04-23T23:35:53.042365Z",
     "start_time": "2025-04-23T23:35:52.998829Z"
    }
   },
   "cell_type": "code",
   "source": "ghz_circ, state_ghz = create_ghz()",
   "id": "871c9af571779539",
   "outputs": [],
   "execution_count": 2
  },
  {
   "metadata": {
    "ExecuteTime": {
     "end_time": "2025-04-14T11:17:38.262791Z",
     "start_time": "2025-04-14T11:17:37.550323Z"
    }
   },
   "cell_type": "code",
   "source": "bris = brisbane(ghz_circ)",
   "id": "fc7b40a00aad5c8c",
   "outputs": [],
   "execution_count": 3
  },
  {
   "metadata": {
    "ExecuteTime": {
     "end_time": "2025-04-14T11:17:39.119041Z",
     "start_time": "2025-04-14T11:17:39.105015Z"
    }
   },
   "cell_type": "code",
   "source": "#bris.draw('mpl', idle_wires=False)",
   "id": "9bfc3dc3d89e6fbe",
   "outputs": [],
   "execution_count": 4
  },
  {
   "metadata": {
    "ExecuteTime": {
     "end_time": "2025-04-14T11:17:50.732098Z",
     "start_time": "2025-04-14T11:17:39.932384Z"
    }
   },
   "cell_type": "code",
   "source": "fidelity(ghz_circ, bris)",
   "id": "28f8e60b9cb4af53",
   "outputs": [
    {
     "data": {
      "text/plain": [
       "0.8985440108480046"
      ]
     },
     "execution_count": 5,
     "metadata": {},
     "output_type": "execute_result"
    }
   ],
   "execution_count": 5
  },
  {
   "metadata": {
    "ExecuteTime": {
     "end_time": "2025-04-14T11:17:51.952924Z",
     "start_time": "2025-04-14T11:17:51.446098Z"
    }
   },
   "cell_type": "code",
   "source": "torino = torino(ghz_circ)",
   "id": "582819bd4575c191",
   "outputs": [],
   "execution_count": 6
  },
  {
   "metadata": {
    "ExecuteTime": {
     "end_time": "2025-04-14T11:18:10.783945Z",
     "start_time": "2025-04-14T11:17:53.901435Z"
    }
   },
   "cell_type": "code",
   "source": "fidelity(ghz_circ, torino)",
   "id": "e772a98e5e1462f3",
   "outputs": [
    {
     "name": "stderr",
     "output_type": "stream",
     "text": [
      "C:\\Users\\szymon\\.conda\\envs\\qudityPAN\\lib\\site-packages\\qiskit\\pulse\\calibration_entries.py:337: UserWarning: Pulse calibration cannot be built and the entry is ignored: Instruction CZ90_u0 on channel u0 is not found in Qiskit namespace. This instruction cannot be deserialized..\n",
      "  warnings.warn(\n",
      "C:\\Users\\szymon\\.conda\\envs\\qudityPAN\\lib\\site-packages\\qiskit\\pulse\\calibration_entries.py:337: UserWarning: Pulse calibration cannot be built and the entry is ignored: Instruction CZ90_u1 on channel u1 is not found in Qiskit namespace. This instruction cannot be deserialized..\n",
      "  warnings.warn(\n",
      "C:\\Users\\szymon\\.conda\\envs\\qudityPAN\\lib\\site-packages\\qiskit\\pulse\\calibration_entries.py:337: UserWarning: Pulse calibration cannot be built and the entry is ignored: Instruction CZ90_u0 on channel u0 is not found in Qiskit namespace. This instruction cannot be deserialized..\n",
      "  warnings.warn(\n",
      "C:\\Users\\szymon\\.conda\\envs\\qudityPAN\\lib\\site-packages\\qiskit\\pulse\\calibration_entries.py:337: UserWarning: Pulse calibration cannot be built and the entry is ignored: Instruction CZ90_u2 on channel u2 is not found in Qiskit namespace. This instruction cannot be deserialized..\n",
      "  warnings.warn(\n",
      "C:\\Users\\szymon\\.conda\\envs\\qudityPAN\\lib\\site-packages\\qiskit\\pulse\\calibration_entries.py:337: UserWarning: Pulse calibration cannot be built and the entry is ignored: Instruction CZ90_u2 on channel u2 is not found in Qiskit namespace. This instruction cannot be deserialized..\n",
      "  warnings.warn(\n",
      "C:\\Users\\szymon\\.conda\\envs\\qudityPAN\\lib\\site-packages\\qiskit\\pulse\\calibration_entries.py:337: UserWarning: Pulse calibration cannot be built and the entry is ignored: Instruction CZ90_u3 on channel u3 is not found in Qiskit namespace. This instruction cannot be deserialized..\n",
      "  warnings.warn(\n",
      "C:\\Users\\szymon\\.conda\\envs\\qudityPAN\\lib\\site-packages\\qiskit\\pulse\\calibration_entries.py:337: UserWarning: Pulse calibration cannot be built and the entry is ignored: Instruction CZ90_u3 on channel u3 is not found in Qiskit namespace. This instruction cannot be deserialized..\n",
      "  warnings.warn(\n",
      "C:\\Users\\szymon\\.conda\\envs\\qudityPAN\\lib\\site-packages\\qiskit\\pulse\\calibration_entries.py:337: UserWarning: Pulse calibration cannot be built and the entry is ignored: Instruction CZ90_u4 on channel u4 is not found in Qiskit namespace. This instruction cannot be deserialized..\n",
      "  warnings.warn(\n",
      "C:\\Users\\szymon\\.conda\\envs\\qudityPAN\\lib\\site-packages\\qiskit\\pulse\\calibration_entries.py:337: UserWarning: Pulse calibration cannot be built and the entry is ignored: Instruction CZ90_u4 on channel u4 is not found in Qiskit namespace. This instruction cannot be deserialized..\n",
      "  warnings.warn(\n",
      "C:\\Users\\szymon\\.conda\\envs\\qudityPAN\\lib\\site-packages\\qiskit\\pulse\\calibration_entries.py:337: UserWarning: Pulse calibration cannot be built and the entry is ignored: Instruction CZ90_u5 on channel u5 is not found in Qiskit namespace. This instruction cannot be deserialized..\n",
      "  warnings.warn(\n",
      "C:\\Users\\szymon\\.conda\\envs\\qudityPAN\\lib\\site-packages\\qiskit\\pulse\\calibration_entries.py:337: UserWarning: Pulse calibration cannot be built and the entry is ignored: Instruction CZ90_u6 on channel u6 is not found in Qiskit namespace. This instruction cannot be deserialized..\n",
      "  warnings.warn(\n",
      "C:\\Users\\szymon\\.conda\\envs\\qudityPAN\\lib\\site-packages\\qiskit\\pulse\\calibration_entries.py:337: UserWarning: Pulse calibration cannot be built and the entry is ignored: Instruction CZ90_u5 on channel u5 is not found in Qiskit namespace. This instruction cannot be deserialized..\n",
      "  warnings.warn(\n",
      "C:\\Users\\szymon\\.conda\\envs\\qudityPAN\\lib\\site-packages\\qiskit\\pulse\\calibration_entries.py:337: UserWarning: Pulse calibration cannot be built and the entry is ignored: Instruction CZ90_u7 on channel u7 is not found in Qiskit namespace. This instruction cannot be deserialized..\n",
      "  warnings.warn(\n",
      "C:\\Users\\szymon\\.conda\\envs\\qudityPAN\\lib\\site-packages\\qiskit\\pulse\\calibration_entries.py:337: UserWarning: Pulse calibration cannot be built and the entry is ignored: Instruction CZ90_u7 on channel u7 is not found in Qiskit namespace. This instruction cannot be deserialized..\n",
      "  warnings.warn(\n",
      "C:\\Users\\szymon\\.conda\\envs\\qudityPAN\\lib\\site-packages\\qiskit\\pulse\\calibration_entries.py:337: UserWarning: Pulse calibration cannot be built and the entry is ignored: Instruction CZ90_u8 on channel u8 is not found in Qiskit namespace. This instruction cannot be deserialized..\n",
      "  warnings.warn(\n",
      "C:\\Users\\szymon\\.conda\\envs\\qudityPAN\\lib\\site-packages\\qiskit\\pulse\\calibration_entries.py:337: UserWarning: Pulse calibration cannot be built and the entry is ignored: Instruction CZ90_u8 on channel u8 is not found in Qiskit namespace. This instruction cannot be deserialized..\n",
      "  warnings.warn(\n",
      "C:\\Users\\szymon\\.conda\\envs\\qudityPAN\\lib\\site-packages\\qiskit\\pulse\\calibration_entries.py:337: UserWarning: Pulse calibration cannot be built and the entry is ignored: Instruction CZ90_u9 on channel u9 is not found in Qiskit namespace. This instruction cannot be deserialized..\n",
      "  warnings.warn(\n",
      "C:\\Users\\szymon\\.conda\\envs\\qudityPAN\\lib\\site-packages\\qiskit\\pulse\\calibration_entries.py:337: UserWarning: Pulse calibration cannot be built and the entry is ignored: Instruction CZ90_u9 on channel u9 is not found in Qiskit namespace. This instruction cannot be deserialized..\n",
      "  warnings.warn(\n",
      "C:\\Users\\szymon\\.conda\\envs\\qudityPAN\\lib\\site-packages\\qiskit\\pulse\\calibration_entries.py:337: UserWarning: Pulse calibration cannot be built and the entry is ignored: Instruction CZ90_u10 on channel u10 is not found in Qiskit namespace. This instruction cannot be deserialized..\n",
      "  warnings.warn(\n",
      "C:\\Users\\szymon\\.conda\\envs\\qudityPAN\\lib\\site-packages\\qiskit\\pulse\\calibration_entries.py:337: UserWarning: Pulse calibration cannot be built and the entry is ignored: Instruction CZ90_u11 on channel u11 is not found in Qiskit namespace. This instruction cannot be deserialized..\n",
      "  warnings.warn(\n",
      "C:\\Users\\szymon\\.conda\\envs\\qudityPAN\\lib\\site-packages\\qiskit\\pulse\\calibration_entries.py:337: UserWarning: Pulse calibration cannot be built and the entry is ignored: Instruction CZ90_u10 on channel u10 is not found in Qiskit namespace. This instruction cannot be deserialized..\n",
      "  warnings.warn(\n",
      "C:\\Users\\szymon\\.conda\\envs\\qudityPAN\\lib\\site-packages\\qiskit\\pulse\\calibration_entries.py:337: UserWarning: Pulse calibration cannot be built and the entry is ignored: Instruction CZ90_u12 on channel u12 is not found in Qiskit namespace. This instruction cannot be deserialized..\n",
      "  warnings.warn(\n",
      "C:\\Users\\szymon\\.conda\\envs\\qudityPAN\\lib\\site-packages\\qiskit\\pulse\\calibration_entries.py:337: UserWarning: Pulse calibration cannot be built and the entry is ignored: Instruction CZ90_u12 on channel u12 is not found in Qiskit namespace. This instruction cannot be deserialized..\n",
      "  warnings.warn(\n",
      "C:\\Users\\szymon\\.conda\\envs\\qudityPAN\\lib\\site-packages\\qiskit\\pulse\\calibration_entries.py:337: UserWarning: Pulse calibration cannot be built and the entry is ignored: Instruction CZ90_u13 on channel u13 is not found in Qiskit namespace. This instruction cannot be deserialized..\n",
      "  warnings.warn(\n",
      "C:\\Users\\szymon\\.conda\\envs\\qudityPAN\\lib\\site-packages\\qiskit\\pulse\\calibration_entries.py:337: UserWarning: Pulse calibration cannot be built and the entry is ignored: Instruction CZ90_u13 on channel u13 is not found in Qiskit namespace. This instruction cannot be deserialized..\n",
      "  warnings.warn(\n",
      "C:\\Users\\szymon\\.conda\\envs\\qudityPAN\\lib\\site-packages\\qiskit\\pulse\\calibration_entries.py:337: UserWarning: Pulse calibration cannot be built and the entry is ignored: Instruction CZ90_u14 on channel u14 is not found in Qiskit namespace. This instruction cannot be deserialized..\n",
      "  warnings.warn(\n",
      "C:\\Users\\szymon\\.conda\\envs\\qudityPAN\\lib\\site-packages\\qiskit\\pulse\\calibration_entries.py:337: UserWarning: Pulse calibration cannot be built and the entry is ignored: Instruction CZ90_u14 on channel u14 is not found in Qiskit namespace. This instruction cannot be deserialized..\n",
      "  warnings.warn(\n",
      "C:\\Users\\szymon\\.conda\\envs\\qudityPAN\\lib\\site-packages\\qiskit\\pulse\\calibration_entries.py:337: UserWarning: Pulse calibration cannot be built and the entry is ignored: Instruction CZ90_u15 on channel u15 is not found in Qiskit namespace. This instruction cannot be deserialized..\n",
      "  warnings.warn(\n",
      "C:\\Users\\szymon\\.conda\\envs\\qudityPAN\\lib\\site-packages\\qiskit\\pulse\\calibration_entries.py:337: UserWarning: Pulse calibration cannot be built and the entry is ignored: Instruction CZ90_u16 on channel u16 is not found in Qiskit namespace. This instruction cannot be deserialized..\n",
      "  warnings.warn(\n",
      "C:\\Users\\szymon\\.conda\\envs\\qudityPAN\\lib\\site-packages\\qiskit\\pulse\\calibration_entries.py:337: UserWarning: Pulse calibration cannot be built and the entry is ignored: Instruction CZ90_u15 on channel u15 is not found in Qiskit namespace. This instruction cannot be deserialized..\n",
      "  warnings.warn(\n",
      "C:\\Users\\szymon\\.conda\\envs\\qudityPAN\\lib\\site-packages\\qiskit\\pulse\\calibration_entries.py:337: UserWarning: Pulse calibration cannot be built and the entry is ignored: Instruction CZ90_u17 on channel u17 is not found in Qiskit namespace. This instruction cannot be deserialized..\n",
      "  warnings.warn(\n",
      "C:\\Users\\szymon\\.conda\\envs\\qudityPAN\\lib\\site-packages\\qiskit\\pulse\\calibration_entries.py:337: UserWarning: Pulse calibration cannot be built and the entry is ignored: Instruction CZ90_u17 on channel u17 is not found in Qiskit namespace. This instruction cannot be deserialized..\n",
      "  warnings.warn(\n",
      "C:\\Users\\szymon\\.conda\\envs\\qudityPAN\\lib\\site-packages\\qiskit\\pulse\\calibration_entries.py:337: UserWarning: Pulse calibration cannot be built and the entry is ignored: Instruction CZ90_u1 on channel u1 is not found in Qiskit namespace. This instruction cannot be deserialized..\n",
      "  warnings.warn(\n",
      "C:\\Users\\szymon\\.conda\\envs\\qudityPAN\\lib\\site-packages\\qiskit\\pulse\\calibration_entries.py:337: UserWarning: Pulse calibration cannot be built and the entry is ignored: Instruction CZ90_u18 on channel u18 is not found in Qiskit namespace. This instruction cannot be deserialized..\n",
      "  warnings.warn(\n",
      "C:\\Users\\szymon\\.conda\\envs\\qudityPAN\\lib\\site-packages\\qiskit\\pulse\\calibration_entries.py:337: UserWarning: Pulse calibration cannot be built and the entry is ignored: Instruction CZ90_u6 on channel u6 is not found in Qiskit namespace. This instruction cannot be deserialized..\n",
      "  warnings.warn(\n",
      "C:\\Users\\szymon\\.conda\\envs\\qudityPAN\\lib\\site-packages\\qiskit\\pulse\\calibration_entries.py:337: UserWarning: Pulse calibration cannot be built and the entry is ignored: Instruction CZ90_u19 on channel u19 is not found in Qiskit namespace. This instruction cannot be deserialized..\n",
      "  warnings.warn(\n",
      "C:\\Users\\szymon\\.conda\\envs\\qudityPAN\\lib\\site-packages\\qiskit\\pulse\\calibration_entries.py:337: UserWarning: Pulse calibration cannot be built and the entry is ignored: Instruction CZ90_u11 on channel u11 is not found in Qiskit namespace. This instruction cannot be deserialized..\n",
      "  warnings.warn(\n",
      "C:\\Users\\szymon\\.conda\\envs\\qudityPAN\\lib\\site-packages\\qiskit\\pulse\\calibration_entries.py:337: UserWarning: Pulse calibration cannot be built and the entry is ignored: Instruction CZ90_u20 on channel u20 is not found in Qiskit namespace. This instruction cannot be deserialized..\n",
      "  warnings.warn(\n",
      "C:\\Users\\szymon\\.conda\\envs\\qudityPAN\\lib\\site-packages\\qiskit\\pulse\\calibration_entries.py:337: UserWarning: Pulse calibration cannot be built and the entry is ignored: Instruction CZ90_u16 on channel u16 is not found in Qiskit namespace. This instruction cannot be deserialized..\n",
      "  warnings.warn(\n",
      "C:\\Users\\szymon\\.conda\\envs\\qudityPAN\\lib\\site-packages\\qiskit\\pulse\\calibration_entries.py:337: UserWarning: Pulse calibration cannot be built and the entry is ignored: Instruction CZ90_u21 on channel u21 is not found in Qiskit namespace. This instruction cannot be deserialized..\n",
      "  warnings.warn(\n",
      "C:\\Users\\szymon\\.conda\\envs\\qudityPAN\\lib\\site-packages\\qiskit\\pulse\\calibration_entries.py:337: UserWarning: Pulse calibration cannot be built and the entry is ignored: Instruction CZ90_u18 on channel u18 is not found in Qiskit namespace. This instruction cannot be deserialized..\n",
      "  warnings.warn(\n",
      "C:\\Users\\szymon\\.conda\\envs\\qudityPAN\\lib\\site-packages\\qiskit\\pulse\\calibration_entries.py:337: UserWarning: Pulse calibration cannot be built and the entry is ignored: Instruction CZ90_u22 on channel u22 is not found in Qiskit namespace. This instruction cannot be deserialized..\n",
      "  warnings.warn(\n",
      "C:\\Users\\szymon\\.conda\\envs\\qudityPAN\\lib\\site-packages\\qiskit\\pulse\\calibration_entries.py:337: UserWarning: Pulse calibration cannot be built and the entry is ignored: Instruction CZ90_u22 on channel u22 is not found in Qiskit namespace. This instruction cannot be deserialized..\n",
      "  warnings.warn(\n",
      "C:\\Users\\szymon\\.conda\\envs\\qudityPAN\\lib\\site-packages\\qiskit\\pulse\\calibration_entries.py:337: UserWarning: Pulse calibration cannot be built and the entry is ignored: Instruction CZ90_u23 on channel u23 is not found in Qiskit namespace. This instruction cannot be deserialized..\n",
      "  warnings.warn(\n",
      "C:\\Users\\szymon\\.conda\\envs\\qudityPAN\\lib\\site-packages\\qiskit\\pulse\\calibration_entries.py:337: UserWarning: Pulse calibration cannot be built and the entry is ignored: Instruction CZ90_u23 on channel u23 is not found in Qiskit namespace. This instruction cannot be deserialized..\n",
      "  warnings.warn(\n",
      "C:\\Users\\szymon\\.conda\\envs\\qudityPAN\\lib\\site-packages\\qiskit\\pulse\\calibration_entries.py:337: UserWarning: Pulse calibration cannot be built and the entry is ignored: Instruction CZ90_u24 on channel u24 is not found in Qiskit namespace. This instruction cannot be deserialized..\n",
      "  warnings.warn(\n",
      "C:\\Users\\szymon\\.conda\\envs\\qudityPAN\\lib\\site-packages\\qiskit\\pulse\\calibration_entries.py:337: UserWarning: Pulse calibration cannot be built and the entry is ignored: Instruction CZ90_u25 on channel u25 is not found in Qiskit namespace. This instruction cannot be deserialized..\n",
      "  warnings.warn(\n",
      "C:\\Users\\szymon\\.conda\\envs\\qudityPAN\\lib\\site-packages\\qiskit\\pulse\\calibration_entries.py:337: UserWarning: Pulse calibration cannot be built and the entry is ignored: Instruction CZ90_u24 on channel u24 is not found in Qiskit namespace. This instruction cannot be deserialized..\n",
      "  warnings.warn(\n",
      "C:\\Users\\szymon\\.conda\\envs\\qudityPAN\\lib\\site-packages\\qiskit\\pulse\\calibration_entries.py:337: UserWarning: Pulse calibration cannot be built and the entry is ignored: Instruction CZ90_u26 on channel u26 is not found in Qiskit namespace. This instruction cannot be deserialized..\n",
      "  warnings.warn(\n",
      "C:\\Users\\szymon\\.conda\\envs\\qudityPAN\\lib\\site-packages\\qiskit\\pulse\\calibration_entries.py:337: UserWarning: Pulse calibration cannot be built and the entry is ignored: Instruction CZ90_u19 on channel u19 is not found in Qiskit namespace. This instruction cannot be deserialized..\n",
      "  warnings.warn(\n",
      "C:\\Users\\szymon\\.conda\\envs\\qudityPAN\\lib\\site-packages\\qiskit\\pulse\\calibration_entries.py:337: UserWarning: Pulse calibration cannot be built and the entry is ignored: Instruction CZ90_u26 on channel u26 is not found in Qiskit namespace. This instruction cannot be deserialized..\n",
      "  warnings.warn(\n",
      "C:\\Users\\szymon\\.conda\\envs\\qudityPAN\\lib\\site-packages\\qiskit\\pulse\\calibration_entries.py:337: UserWarning: Pulse calibration cannot be built and the entry is ignored: Instruction CZ90_u27 on channel u27 is not found in Qiskit namespace. This instruction cannot be deserialized..\n",
      "  warnings.warn(\n",
      "C:\\Users\\szymon\\.conda\\envs\\qudityPAN\\lib\\site-packages\\qiskit\\pulse\\calibration_entries.py:337: UserWarning: Pulse calibration cannot be built and the entry is ignored: Instruction CZ90_u27 on channel u27 is not found in Qiskit namespace. This instruction cannot be deserialized..\n",
      "  warnings.warn(\n",
      "C:\\Users\\szymon\\.conda\\envs\\qudityPAN\\lib\\site-packages\\qiskit\\pulse\\calibration_entries.py:337: UserWarning: Pulse calibration cannot be built and the entry is ignored: Instruction CZ90_u28 on channel u28 is not found in Qiskit namespace. This instruction cannot be deserialized..\n",
      "  warnings.warn(\n",
      "C:\\Users\\szymon\\.conda\\envs\\qudityPAN\\lib\\site-packages\\qiskit\\pulse\\calibration_entries.py:337: UserWarning: Pulse calibration cannot be built and the entry is ignored: Instruction CZ90_u28 on channel u28 is not found in Qiskit namespace. This instruction cannot be deserialized..\n",
      "  warnings.warn(\n",
      "C:\\Users\\szymon\\.conda\\envs\\qudityPAN\\lib\\site-packages\\qiskit\\pulse\\calibration_entries.py:337: UserWarning: Pulse calibration cannot be built and the entry is ignored: Instruction CZ90_u29 on channel u29 is not found in Qiskit namespace. This instruction cannot be deserialized..\n",
      "  warnings.warn(\n",
      "C:\\Users\\szymon\\.conda\\envs\\qudityPAN\\lib\\site-packages\\qiskit\\pulse\\calibration_entries.py:337: UserWarning: Pulse calibration cannot be built and the entry is ignored: Instruction CZ90_u30 on channel u30 is not found in Qiskit namespace. This instruction cannot be deserialized..\n",
      "  warnings.warn(\n",
      "C:\\Users\\szymon\\.conda\\envs\\qudityPAN\\lib\\site-packages\\qiskit\\pulse\\calibration_entries.py:337: UserWarning: Pulse calibration cannot be built and the entry is ignored: Instruction CZ90_u29 on channel u29 is not found in Qiskit namespace. This instruction cannot be deserialized..\n",
      "  warnings.warn(\n",
      "C:\\Users\\szymon\\.conda\\envs\\qudityPAN\\lib\\site-packages\\qiskit\\pulse\\calibration_entries.py:337: UserWarning: Pulse calibration cannot be built and the entry is ignored: Instruction CZ90_u31 on channel u31 is not found in Qiskit namespace. This instruction cannot be deserialized..\n",
      "  warnings.warn(\n",
      "C:\\Users\\szymon\\.conda\\envs\\qudityPAN\\lib\\site-packages\\qiskit\\pulse\\calibration_entries.py:337: UserWarning: Pulse calibration cannot be built and the entry is ignored: Instruction CZ90_u20 on channel u20 is not found in Qiskit namespace. This instruction cannot be deserialized..\n",
      "  warnings.warn(\n",
      "C:\\Users\\szymon\\.conda\\envs\\qudityPAN\\lib\\site-packages\\qiskit\\pulse\\calibration_entries.py:337: UserWarning: Pulse calibration cannot be built and the entry is ignored: Instruction CZ90_u31 on channel u31 is not found in Qiskit namespace. This instruction cannot be deserialized..\n",
      "  warnings.warn(\n",
      "C:\\Users\\szymon\\.conda\\envs\\qudityPAN\\lib\\site-packages\\qiskit\\pulse\\calibration_entries.py:337: UserWarning: Pulse calibration cannot be built and the entry is ignored: Instruction CZ90_u32 on channel u32 is not found in Qiskit namespace. This instruction cannot be deserialized..\n",
      "  warnings.warn(\n",
      "C:\\Users\\szymon\\.conda\\envs\\qudityPAN\\lib\\site-packages\\qiskit\\pulse\\calibration_entries.py:337: UserWarning: Pulse calibration cannot be built and the entry is ignored: Instruction CZ90_u32 on channel u32 is not found in Qiskit namespace. This instruction cannot be deserialized..\n",
      "  warnings.warn(\n",
      "C:\\Users\\szymon\\.conda\\envs\\qudityPAN\\lib\\site-packages\\qiskit\\pulse\\calibration_entries.py:337: UserWarning: Pulse calibration cannot be built and the entry is ignored: Instruction CZ90_u33 on channel u33 is not found in Qiskit namespace. This instruction cannot be deserialized..\n",
      "  warnings.warn(\n",
      "C:\\Users\\szymon\\.conda\\envs\\qudityPAN\\lib\\site-packages\\qiskit\\pulse\\calibration_entries.py:337: UserWarning: Pulse calibration cannot be built and the entry is ignored: Instruction CZ90_u33 on channel u33 is not found in Qiskit namespace. This instruction cannot be deserialized..\n",
      "  warnings.warn(\n",
      "C:\\Users\\szymon\\.conda\\envs\\qudityPAN\\lib\\site-packages\\qiskit\\pulse\\calibration_entries.py:337: UserWarning: Pulse calibration cannot be built and the entry is ignored: Instruction CZ90_u34 on channel u34 is not found in Qiskit namespace. This instruction cannot be deserialized..\n",
      "  warnings.warn(\n",
      "C:\\Users\\szymon\\.conda\\envs\\qudityPAN\\lib\\site-packages\\qiskit\\pulse\\calibration_entries.py:337: UserWarning: Pulse calibration cannot be built and the entry is ignored: Instruction CZ90_u35 on channel u35 is not found in Qiskit namespace. This instruction cannot be deserialized..\n",
      "  warnings.warn(\n",
      "C:\\Users\\szymon\\.conda\\envs\\qudityPAN\\lib\\site-packages\\qiskit\\pulse\\calibration_entries.py:337: UserWarning: Pulse calibration cannot be built and the entry is ignored: Instruction CZ90_u34 on channel u34 is not found in Qiskit namespace. This instruction cannot be deserialized..\n",
      "  warnings.warn(\n",
      "C:\\Users\\szymon\\.conda\\envs\\qudityPAN\\lib\\site-packages\\qiskit\\pulse\\calibration_entries.py:337: UserWarning: Pulse calibration cannot be built and the entry is ignored: Instruction CZ90_u36 on channel u36 is not found in Qiskit namespace. This instruction cannot be deserialized..\n",
      "  warnings.warn(\n",
      "C:\\Users\\szymon\\.conda\\envs\\qudityPAN\\lib\\site-packages\\qiskit\\pulse\\calibration_entries.py:337: UserWarning: Pulse calibration cannot be built and the entry is ignored: Instruction CZ90_u21 on channel u21 is not found in Qiskit namespace. This instruction cannot be deserialized..\n",
      "  warnings.warn(\n",
      "C:\\Users\\szymon\\.conda\\envs\\qudityPAN\\lib\\site-packages\\qiskit\\pulse\\calibration_entries.py:337: UserWarning: Pulse calibration cannot be built and the entry is ignored: Instruction CZ90_u36 on channel u36 is not found in Qiskit namespace. This instruction cannot be deserialized..\n",
      "  warnings.warn(\n",
      "C:\\Users\\szymon\\.conda\\envs\\qudityPAN\\lib\\site-packages\\qiskit\\pulse\\calibration_entries.py:337: UserWarning: Pulse calibration cannot be built and the entry is ignored: Instruction CZ90_u37 on channel u37 is not found in Qiskit namespace. This instruction cannot be deserialized..\n",
      "  warnings.warn(\n",
      "C:\\Users\\szymon\\.conda\\envs\\qudityPAN\\lib\\site-packages\\qiskit\\pulse\\calibration_entries.py:337: UserWarning: Pulse calibration cannot be built and the entry is ignored: Instruction CZ90_u37 on channel u37 is not found in Qiskit namespace. This instruction cannot be deserialized..\n",
      "  warnings.warn(\n",
      "C:\\Users\\szymon\\.conda\\envs\\qudityPAN\\lib\\site-packages\\qiskit\\pulse\\calibration_entries.py:337: UserWarning: Pulse calibration cannot be built and the entry is ignored: Instruction CZ90_u38 on channel u38 is not found in Qiskit namespace. This instruction cannot be deserialized..\n",
      "  warnings.warn(\n",
      "C:\\Users\\szymon\\.conda\\envs\\qudityPAN\\lib\\site-packages\\qiskit\\pulse\\calibration_entries.py:337: UserWarning: Pulse calibration cannot be built and the entry is ignored: Instruction CZ90_u38 on channel u38 is not found in Qiskit namespace. This instruction cannot be deserialized..\n",
      "  warnings.warn(\n",
      "C:\\Users\\szymon\\.conda\\envs\\qudityPAN\\lib\\site-packages\\qiskit\\pulse\\calibration_entries.py:337: UserWarning: Pulse calibration cannot be built and the entry is ignored: Instruction CZ90_u39 on channel u39 is not found in Qiskit namespace. This instruction cannot be deserialized..\n",
      "  warnings.warn(\n",
      "C:\\Users\\szymon\\.conda\\envs\\qudityPAN\\lib\\site-packages\\qiskit\\pulse\\calibration_entries.py:337: UserWarning: Pulse calibration cannot be built and the entry is ignored: Instruction CZ90_u25 on channel u25 is not found in Qiskit namespace. This instruction cannot be deserialized..\n",
      "  warnings.warn(\n",
      "C:\\Users\\szymon\\.conda\\envs\\qudityPAN\\lib\\site-packages\\qiskit\\pulse\\calibration_entries.py:337: UserWarning: Pulse calibration cannot be built and the entry is ignored: Instruction CZ90_u40 on channel u40 is not found in Qiskit namespace. This instruction cannot be deserialized..\n",
      "  warnings.warn(\n",
      "C:\\Users\\szymon\\.conda\\envs\\qudityPAN\\lib\\site-packages\\qiskit\\pulse\\calibration_entries.py:337: UserWarning: Pulse calibration cannot be built and the entry is ignored: Instruction CZ90_u30 on channel u30 is not found in Qiskit namespace. This instruction cannot be deserialized..\n",
      "  warnings.warn(\n",
      "C:\\Users\\szymon\\.conda\\envs\\qudityPAN\\lib\\site-packages\\qiskit\\pulse\\calibration_entries.py:337: UserWarning: Pulse calibration cannot be built and the entry is ignored: Instruction CZ90_u41 on channel u41 is not found in Qiskit namespace. This instruction cannot be deserialized..\n",
      "  warnings.warn(\n",
      "C:\\Users\\szymon\\.conda\\envs\\qudityPAN\\lib\\site-packages\\qiskit\\pulse\\calibration_entries.py:337: UserWarning: Pulse calibration cannot be built and the entry is ignored: Instruction CZ90_u35 on channel u35 is not found in Qiskit namespace. This instruction cannot be deserialized..\n",
      "  warnings.warn(\n",
      "C:\\Users\\szymon\\.conda\\envs\\qudityPAN\\lib\\site-packages\\qiskit\\pulse\\calibration_entries.py:337: UserWarning: Pulse calibration cannot be built and the entry is ignored: Instruction CZ90_u42 on channel u42 is not found in Qiskit namespace. This instruction cannot be deserialized..\n",
      "  warnings.warn(\n",
      "C:\\Users\\szymon\\.conda\\envs\\qudityPAN\\lib\\site-packages\\qiskit\\pulse\\calibration_entries.py:337: UserWarning: Pulse calibration cannot be built and the entry is ignored: Instruction CZ90_u39 on channel u39 is not found in Qiskit namespace. This instruction cannot be deserialized..\n",
      "  warnings.warn(\n",
      "C:\\Users\\szymon\\.conda\\envs\\qudityPAN\\lib\\site-packages\\qiskit\\pulse\\calibration_entries.py:337: UserWarning: Pulse calibration cannot be built and the entry is ignored: Instruction CZ90_u43 on channel u43 is not found in Qiskit namespace. This instruction cannot be deserialized..\n",
      "  warnings.warn(\n",
      "C:\\Users\\szymon\\.conda\\envs\\qudityPAN\\lib\\site-packages\\qiskit\\pulse\\calibration_entries.py:337: UserWarning: Pulse calibration cannot be built and the entry is ignored: Instruction CZ90_u44 on channel u44 is not found in Qiskit namespace. This instruction cannot be deserialized..\n",
      "  warnings.warn(\n",
      "C:\\Users\\szymon\\.conda\\envs\\qudityPAN\\lib\\site-packages\\qiskit\\pulse\\calibration_entries.py:337: UserWarning: Pulse calibration cannot be built and the entry is ignored: Instruction CZ90_u45 on channel u45 is not found in Qiskit namespace. This instruction cannot be deserialized..\n",
      "  warnings.warn(\n",
      "C:\\Users\\szymon\\.conda\\envs\\qudityPAN\\lib\\site-packages\\qiskit\\pulse\\calibration_entries.py:337: UserWarning: Pulse calibration cannot be built and the entry is ignored: Instruction CZ90_u44 on channel u44 is not found in Qiskit namespace. This instruction cannot be deserialized..\n",
      "  warnings.warn(\n",
      "C:\\Users\\szymon\\.conda\\envs\\qudityPAN\\lib\\site-packages\\qiskit\\pulse\\calibration_entries.py:337: UserWarning: Pulse calibration cannot be built and the entry is ignored: Instruction CZ90_u46 on channel u46 is not found in Qiskit namespace. This instruction cannot be deserialized..\n",
      "  warnings.warn(\n",
      "C:\\Users\\szymon\\.conda\\envs\\qudityPAN\\lib\\site-packages\\qiskit\\pulse\\calibration_entries.py:337: UserWarning: Pulse calibration cannot be built and the entry is ignored: Instruction CZ90_u40 on channel u40 is not found in Qiskit namespace. This instruction cannot be deserialized..\n",
      "  warnings.warn(\n",
      "C:\\Users\\szymon\\.conda\\envs\\qudityPAN\\lib\\site-packages\\qiskit\\pulse\\calibration_entries.py:337: UserWarning: Pulse calibration cannot be built and the entry is ignored: Instruction CZ90_u46 on channel u46 is not found in Qiskit namespace. This instruction cannot be deserialized..\n",
      "  warnings.warn(\n",
      "C:\\Users\\szymon\\.conda\\envs\\qudityPAN\\lib\\site-packages\\qiskit\\pulse\\calibration_entries.py:337: UserWarning: Pulse calibration cannot be built and the entry is ignored: Instruction CZ90_u47 on channel u47 is not found in Qiskit namespace. This instruction cannot be deserialized..\n",
      "  warnings.warn(\n",
      "C:\\Users\\szymon\\.conda\\envs\\qudityPAN\\lib\\site-packages\\qiskit\\pulse\\calibration_entries.py:337: UserWarning: Pulse calibration cannot be built and the entry is ignored: Instruction CZ90_u47 on channel u47 is not found in Qiskit namespace. This instruction cannot be deserialized..\n",
      "  warnings.warn(\n",
      "C:\\Users\\szymon\\.conda\\envs\\qudityPAN\\lib\\site-packages\\qiskit\\pulse\\calibration_entries.py:337: UserWarning: Pulse calibration cannot be built and the entry is ignored: Instruction CZ90_u48 on channel u48 is not found in Qiskit namespace. This instruction cannot be deserialized..\n",
      "  warnings.warn(\n",
      "C:\\Users\\szymon\\.conda\\envs\\qudityPAN\\lib\\site-packages\\qiskit\\pulse\\calibration_entries.py:337: UserWarning: Pulse calibration cannot be built and the entry is ignored: Instruction CZ90_u48 on channel u48 is not found in Qiskit namespace. This instruction cannot be deserialized..\n",
      "  warnings.warn(\n",
      "C:\\Users\\szymon\\.conda\\envs\\qudityPAN\\lib\\site-packages\\qiskit\\pulse\\calibration_entries.py:337: UserWarning: Pulse calibration cannot be built and the entry is ignored: Instruction CZ90_u49 on channel u49 is not found in Qiskit namespace. This instruction cannot be deserialized..\n",
      "  warnings.warn(\n",
      "C:\\Users\\szymon\\.conda\\envs\\qudityPAN\\lib\\site-packages\\qiskit\\pulse\\calibration_entries.py:337: UserWarning: Pulse calibration cannot be built and the entry is ignored: Instruction CZ90_u50 on channel u50 is not found in Qiskit namespace. This instruction cannot be deserialized..\n",
      "  warnings.warn(\n",
      "C:\\Users\\szymon\\.conda\\envs\\qudityPAN\\lib\\site-packages\\qiskit\\pulse\\calibration_entries.py:337: UserWarning: Pulse calibration cannot be built and the entry is ignored: Instruction CZ90_u49 on channel u49 is not found in Qiskit namespace. This instruction cannot be deserialized..\n",
      "  warnings.warn(\n",
      "C:\\Users\\szymon\\.conda\\envs\\qudityPAN\\lib\\site-packages\\qiskit\\pulse\\calibration_entries.py:337: UserWarning: Pulse calibration cannot be built and the entry is ignored: Instruction CZ90_u51 on channel u51 is not found in Qiskit namespace. This instruction cannot be deserialized..\n",
      "  warnings.warn(\n",
      "C:\\Users\\szymon\\.conda\\envs\\qudityPAN\\lib\\site-packages\\qiskit\\pulse\\calibration_entries.py:337: UserWarning: Pulse calibration cannot be built and the entry is ignored: Instruction CZ90_u41 on channel u41 is not found in Qiskit namespace. This instruction cannot be deserialized..\n",
      "  warnings.warn(\n",
      "C:\\Users\\szymon\\.conda\\envs\\qudityPAN\\lib\\site-packages\\qiskit\\pulse\\calibration_entries.py:337: UserWarning: Pulse calibration cannot be built and the entry is ignored: Instruction CZ90_u51 on channel u51 is not found in Qiskit namespace. This instruction cannot be deserialized..\n",
      "  warnings.warn(\n",
      "C:\\Users\\szymon\\.conda\\envs\\qudityPAN\\lib\\site-packages\\qiskit\\pulse\\calibration_entries.py:337: UserWarning: Pulse calibration cannot be built and the entry is ignored: Instruction CZ90_u52 on channel u52 is not found in Qiskit namespace. This instruction cannot be deserialized..\n",
      "  warnings.warn(\n",
      "C:\\Users\\szymon\\.conda\\envs\\qudityPAN\\lib\\site-packages\\qiskit\\pulse\\calibration_entries.py:337: UserWarning: Pulse calibration cannot be built and the entry is ignored: Instruction CZ90_u52 on channel u52 is not found in Qiskit namespace. This instruction cannot be deserialized..\n",
      "  warnings.warn(\n",
      "C:\\Users\\szymon\\.conda\\envs\\qudityPAN\\lib\\site-packages\\qiskit\\pulse\\calibration_entries.py:337: UserWarning: Pulse calibration cannot be built and the entry is ignored: Instruction CZ90_u53 on channel u53 is not found in Qiskit namespace. This instruction cannot be deserialized..\n",
      "  warnings.warn(\n",
      "C:\\Users\\szymon\\.conda\\envs\\qudityPAN\\lib\\site-packages\\qiskit\\pulse\\calibration_entries.py:337: UserWarning: Pulse calibration cannot be built and the entry is ignored: Instruction CZ90_u53 on channel u53 is not found in Qiskit namespace. This instruction cannot be deserialized..\n",
      "  warnings.warn(\n",
      "C:\\Users\\szymon\\.conda\\envs\\qudityPAN\\lib\\site-packages\\qiskit\\pulse\\calibration_entries.py:337: UserWarning: Pulse calibration cannot be built and the entry is ignored: Instruction CZ90_u54 on channel u54 is not found in Qiskit namespace. This instruction cannot be deserialized..\n",
      "  warnings.warn(\n",
      "C:\\Users\\szymon\\.conda\\envs\\qudityPAN\\lib\\site-packages\\qiskit\\pulse\\calibration_entries.py:337: UserWarning: Pulse calibration cannot be built and the entry is ignored: Instruction CZ90_u55 on channel u55 is not found in Qiskit namespace. This instruction cannot be deserialized..\n",
      "  warnings.warn(\n",
      "C:\\Users\\szymon\\.conda\\envs\\qudityPAN\\lib\\site-packages\\qiskit\\pulse\\calibration_entries.py:337: UserWarning: Pulse calibration cannot be built and the entry is ignored: Instruction CZ90_u54 on channel u54 is not found in Qiskit namespace. This instruction cannot be deserialized..\n",
      "  warnings.warn(\n",
      "C:\\Users\\szymon\\.conda\\envs\\qudityPAN\\lib\\site-packages\\qiskit\\pulse\\calibration_entries.py:337: UserWarning: Pulse calibration cannot be built and the entry is ignored: Instruction CZ90_u56 on channel u56 is not found in Qiskit namespace. This instruction cannot be deserialized..\n",
      "  warnings.warn(\n",
      "C:\\Users\\szymon\\.conda\\envs\\qudityPAN\\lib\\site-packages\\qiskit\\pulse\\calibration_entries.py:337: UserWarning: Pulse calibration cannot be built and the entry is ignored: Instruction CZ90_u42 on channel u42 is not found in Qiskit namespace. This instruction cannot be deserialized..\n",
      "  warnings.warn(\n",
      "C:\\Users\\szymon\\.conda\\envs\\qudityPAN\\lib\\site-packages\\qiskit\\pulse\\calibration_entries.py:337: UserWarning: Pulse calibration cannot be built and the entry is ignored: Instruction CZ90_u56 on channel u56 is not found in Qiskit namespace. This instruction cannot be deserialized..\n",
      "  warnings.warn(\n",
      "C:\\Users\\szymon\\.conda\\envs\\qudityPAN\\lib\\site-packages\\qiskit\\pulse\\calibration_entries.py:337: UserWarning: Pulse calibration cannot be built and the entry is ignored: Instruction CZ90_u57 on channel u57 is not found in Qiskit namespace. This instruction cannot be deserialized..\n",
      "  warnings.warn(\n",
      "C:\\Users\\szymon\\.conda\\envs\\qudityPAN\\lib\\site-packages\\qiskit\\pulse\\calibration_entries.py:337: UserWarning: Pulse calibration cannot be built and the entry is ignored: Instruction CZ90_u57 on channel u57 is not found in Qiskit namespace. This instruction cannot be deserialized..\n",
      "  warnings.warn(\n",
      "C:\\Users\\szymon\\.conda\\envs\\qudityPAN\\lib\\site-packages\\qiskit\\pulse\\calibration_entries.py:337: UserWarning: Pulse calibration cannot be built and the entry is ignored: Instruction CZ90_u58 on channel u58 is not found in Qiskit namespace. This instruction cannot be deserialized..\n",
      "  warnings.warn(\n",
      "C:\\Users\\szymon\\.conda\\envs\\qudityPAN\\lib\\site-packages\\qiskit\\pulse\\calibration_entries.py:337: UserWarning: Pulse calibration cannot be built and the entry is ignored: Instruction CZ90_u58 on channel u58 is not found in Qiskit namespace. This instruction cannot be deserialized..\n",
      "  warnings.warn(\n",
      "C:\\Users\\szymon\\.conda\\envs\\qudityPAN\\lib\\site-packages\\qiskit\\pulse\\calibration_entries.py:337: UserWarning: Pulse calibration cannot be built and the entry is ignored: Instruction CZ90_u59 on channel u59 is not found in Qiskit namespace. This instruction cannot be deserialized..\n",
      "  warnings.warn(\n",
      "C:\\Users\\szymon\\.conda\\envs\\qudityPAN\\lib\\site-packages\\qiskit\\pulse\\calibration_entries.py:337: UserWarning: Pulse calibration cannot be built and the entry is ignored: Instruction CZ90_u60 on channel u60 is not found in Qiskit namespace. This instruction cannot be deserialized..\n",
      "  warnings.warn(\n",
      "C:\\Users\\szymon\\.conda\\envs\\qudityPAN\\lib\\site-packages\\qiskit\\pulse\\calibration_entries.py:337: UserWarning: Pulse calibration cannot be built and the entry is ignored: Instruction CZ90_u59 on channel u59 is not found in Qiskit namespace. This instruction cannot be deserialized..\n",
      "  warnings.warn(\n",
      "C:\\Users\\szymon\\.conda\\envs\\qudityPAN\\lib\\site-packages\\qiskit\\pulse\\calibration_entries.py:337: UserWarning: Pulse calibration cannot be built and the entry is ignored: Instruction CZ90_u61 on channel u61 is not found in Qiskit namespace. This instruction cannot be deserialized..\n",
      "  warnings.warn(\n",
      "C:\\Users\\szymon\\.conda\\envs\\qudityPAN\\lib\\site-packages\\qiskit\\pulse\\calibration_entries.py:337: UserWarning: Pulse calibration cannot be built and the entry is ignored: Instruction CZ90_u43 on channel u43 is not found in Qiskit namespace. This instruction cannot be deserialized..\n",
      "  warnings.warn(\n",
      "C:\\Users\\szymon\\.conda\\envs\\qudityPAN\\lib\\site-packages\\qiskit\\pulse\\calibration_entries.py:337: UserWarning: Pulse calibration cannot be built and the entry is ignored: Instruction CZ90_u61 on channel u61 is not found in Qiskit namespace. This instruction cannot be deserialized..\n",
      "  warnings.warn(\n",
      "C:\\Users\\szymon\\.conda\\envs\\qudityPAN\\lib\\site-packages\\qiskit\\pulse\\calibration_entries.py:337: UserWarning: Pulse calibration cannot be built and the entry is ignored: Instruction CZ90_u45 on channel u45 is not found in Qiskit namespace. This instruction cannot be deserialized..\n",
      "  warnings.warn(\n",
      "C:\\Users\\szymon\\.conda\\envs\\qudityPAN\\lib\\site-packages\\qiskit\\pulse\\calibration_entries.py:337: UserWarning: Pulse calibration cannot be built and the entry is ignored: Instruction CZ90_u62 on channel u62 is not found in Qiskit namespace. This instruction cannot be deserialized..\n",
      "  warnings.warn(\n",
      "C:\\Users\\szymon\\.conda\\envs\\qudityPAN\\lib\\site-packages\\qiskit\\pulse\\calibration_entries.py:337: UserWarning: Pulse calibration cannot be built and the entry is ignored: Instruction CZ90_u50 on channel u50 is not found in Qiskit namespace. This instruction cannot be deserialized..\n",
      "  warnings.warn(\n",
      "C:\\Users\\szymon\\.conda\\envs\\qudityPAN\\lib\\site-packages\\qiskit\\pulse\\calibration_entries.py:337: UserWarning: Pulse calibration cannot be built and the entry is ignored: Instruction CZ90_u63 on channel u63 is not found in Qiskit namespace. This instruction cannot be deserialized..\n",
      "  warnings.warn(\n",
      "C:\\Users\\szymon\\.conda\\envs\\qudityPAN\\lib\\site-packages\\qiskit\\pulse\\calibration_entries.py:337: UserWarning: Pulse calibration cannot be built and the entry is ignored: Instruction CZ90_u55 on channel u55 is not found in Qiskit namespace. This instruction cannot be deserialized..\n",
      "  warnings.warn(\n",
      "C:\\Users\\szymon\\.conda\\envs\\qudityPAN\\lib\\site-packages\\qiskit\\pulse\\calibration_entries.py:337: UserWarning: Pulse calibration cannot be built and the entry is ignored: Instruction CZ90_u64 on channel u64 is not found in Qiskit namespace. This instruction cannot be deserialized..\n",
      "  warnings.warn(\n",
      "C:\\Users\\szymon\\.conda\\envs\\qudityPAN\\lib\\site-packages\\qiskit\\pulse\\calibration_entries.py:337: UserWarning: Pulse calibration cannot be built and the entry is ignored: Instruction CZ90_u60 on channel u60 is not found in Qiskit namespace. This instruction cannot be deserialized..\n",
      "  warnings.warn(\n",
      "C:\\Users\\szymon\\.conda\\envs\\qudityPAN\\lib\\site-packages\\qiskit\\pulse\\calibration_entries.py:337: UserWarning: Pulse calibration cannot be built and the entry is ignored: Instruction CZ90_u65 on channel u65 is not found in Qiskit namespace. This instruction cannot be deserialized..\n",
      "  warnings.warn(\n",
      "C:\\Users\\szymon\\.conda\\envs\\qudityPAN\\lib\\site-packages\\qiskit\\pulse\\calibration_entries.py:337: UserWarning: Pulse calibration cannot be built and the entry is ignored: Instruction CZ90_u62 on channel u62 is not found in Qiskit namespace. This instruction cannot be deserialized..\n",
      "  warnings.warn(\n",
      "C:\\Users\\szymon\\.conda\\envs\\qudityPAN\\lib\\site-packages\\qiskit\\pulse\\calibration_entries.py:337: UserWarning: Pulse calibration cannot be built and the entry is ignored: Instruction CZ90_u66 on channel u66 is not found in Qiskit namespace. This instruction cannot be deserialized..\n",
      "  warnings.warn(\n",
      "C:\\Users\\szymon\\.conda\\envs\\qudityPAN\\lib\\site-packages\\qiskit\\pulse\\calibration_entries.py:337: UserWarning: Pulse calibration cannot be built and the entry is ignored: Instruction CZ90_u66 on channel u66 is not found in Qiskit namespace. This instruction cannot be deserialized..\n",
      "  warnings.warn(\n",
      "C:\\Users\\szymon\\.conda\\envs\\qudityPAN\\lib\\site-packages\\qiskit\\pulse\\calibration_entries.py:337: UserWarning: Pulse calibration cannot be built and the entry is ignored: Instruction CZ90_u67 on channel u67 is not found in Qiskit namespace. This instruction cannot be deserialized..\n",
      "  warnings.warn(\n",
      "C:\\Users\\szymon\\.conda\\envs\\qudityPAN\\lib\\site-packages\\qiskit\\pulse\\calibration_entries.py:337: UserWarning: Pulse calibration cannot be built and the entry is ignored: Instruction CZ90_u67 on channel u67 is not found in Qiskit namespace. This instruction cannot be deserialized..\n",
      "  warnings.warn(\n",
      "C:\\Users\\szymon\\.conda\\envs\\qudityPAN\\lib\\site-packages\\qiskit\\pulse\\calibration_entries.py:337: UserWarning: Pulse calibration cannot be built and the entry is ignored: Instruction CZ90_u68 on channel u68 is not found in Qiskit namespace. This instruction cannot be deserialized..\n",
      "  warnings.warn(\n",
      "C:\\Users\\szymon\\.conda\\envs\\qudityPAN\\lib\\site-packages\\qiskit\\pulse\\calibration_entries.py:337: UserWarning: Pulse calibration cannot be built and the entry is ignored: Instruction CZ90_u69 on channel u69 is not found in Qiskit namespace. This instruction cannot be deserialized..\n",
      "  warnings.warn(\n",
      "C:\\Users\\szymon\\.conda\\envs\\qudityPAN\\lib\\site-packages\\qiskit\\pulse\\calibration_entries.py:337: UserWarning: Pulse calibration cannot be built and the entry is ignored: Instruction CZ90_u68 on channel u68 is not found in Qiskit namespace. This instruction cannot be deserialized..\n",
      "  warnings.warn(\n",
      "C:\\Users\\szymon\\.conda\\envs\\qudityPAN\\lib\\site-packages\\qiskit\\pulse\\calibration_entries.py:337: UserWarning: Pulse calibration cannot be built and the entry is ignored: Instruction CZ90_u70 on channel u70 is not found in Qiskit namespace. This instruction cannot be deserialized..\n",
      "  warnings.warn(\n",
      "C:\\Users\\szymon\\.conda\\envs\\qudityPAN\\lib\\site-packages\\qiskit\\pulse\\calibration_entries.py:337: UserWarning: Pulse calibration cannot be built and the entry is ignored: Instruction CZ90_u63 on channel u63 is not found in Qiskit namespace. This instruction cannot be deserialized..\n",
      "  warnings.warn(\n",
      "C:\\Users\\szymon\\.conda\\envs\\qudityPAN\\lib\\site-packages\\qiskit\\pulse\\calibration_entries.py:337: UserWarning: Pulse calibration cannot be built and the entry is ignored: Instruction CZ90_u70 on channel u70 is not found in Qiskit namespace. This instruction cannot be deserialized..\n",
      "  warnings.warn(\n",
      "C:\\Users\\szymon\\.conda\\envs\\qudityPAN\\lib\\site-packages\\qiskit\\pulse\\calibration_entries.py:337: UserWarning: Pulse calibration cannot be built and the entry is ignored: Instruction CZ90_u71 on channel u71 is not found in Qiskit namespace. This instruction cannot be deserialized..\n",
      "  warnings.warn(\n",
      "C:\\Users\\szymon\\.conda\\envs\\qudityPAN\\lib\\site-packages\\qiskit\\pulse\\calibration_entries.py:337: UserWarning: Pulse calibration cannot be built and the entry is ignored: Instruction CZ90_u71 on channel u71 is not found in Qiskit namespace. This instruction cannot be deserialized..\n",
      "  warnings.warn(\n",
      "C:\\Users\\szymon\\.conda\\envs\\qudityPAN\\lib\\site-packages\\qiskit\\pulse\\calibration_entries.py:337: UserWarning: Pulse calibration cannot be built and the entry is ignored: Instruction CZ90_u72 on channel u72 is not found in Qiskit namespace. This instruction cannot be deserialized..\n",
      "  warnings.warn(\n",
      "C:\\Users\\szymon\\.conda\\envs\\qudityPAN\\lib\\site-packages\\qiskit\\pulse\\calibration_entries.py:337: UserWarning: Pulse calibration cannot be built and the entry is ignored: Instruction CZ90_u72 on channel u72 is not found in Qiskit namespace. This instruction cannot be deserialized..\n",
      "  warnings.warn(\n",
      "C:\\Users\\szymon\\.conda\\envs\\qudityPAN\\lib\\site-packages\\qiskit\\pulse\\calibration_entries.py:337: UserWarning: Pulse calibration cannot be built and the entry is ignored: Instruction CZ90_u73 on channel u73 is not found in Qiskit namespace. This instruction cannot be deserialized..\n",
      "  warnings.warn(\n",
      "C:\\Users\\szymon\\.conda\\envs\\qudityPAN\\lib\\site-packages\\qiskit\\pulse\\calibration_entries.py:337: UserWarning: Pulse calibration cannot be built and the entry is ignored: Instruction CZ90_u74 on channel u74 is not found in Qiskit namespace. This instruction cannot be deserialized..\n",
      "  warnings.warn(\n",
      "C:\\Users\\szymon\\.conda\\envs\\qudityPAN\\lib\\site-packages\\qiskit\\pulse\\calibration_entries.py:337: UserWarning: Pulse calibration cannot be built and the entry is ignored: Instruction CZ90_u73 on channel u73 is not found in Qiskit namespace. This instruction cannot be deserialized..\n",
      "  warnings.warn(\n",
      "C:\\Users\\szymon\\.conda\\envs\\qudityPAN\\lib\\site-packages\\qiskit\\pulse\\calibration_entries.py:337: UserWarning: Pulse calibration cannot be built and the entry is ignored: Instruction CZ90_u75 on channel u75 is not found in Qiskit namespace. This instruction cannot be deserialized..\n",
      "  warnings.warn(\n",
      "C:\\Users\\szymon\\.conda\\envs\\qudityPAN\\lib\\site-packages\\qiskit\\pulse\\calibration_entries.py:337: UserWarning: Pulse calibration cannot be built and the entry is ignored: Instruction CZ90_u64 on channel u64 is not found in Qiskit namespace. This instruction cannot be deserialized..\n",
      "  warnings.warn(\n",
      "C:\\Users\\szymon\\.conda\\envs\\qudityPAN\\lib\\site-packages\\qiskit\\pulse\\calibration_entries.py:337: UserWarning: Pulse calibration cannot be built and the entry is ignored: Instruction CZ90_u75 on channel u75 is not found in Qiskit namespace. This instruction cannot be deserialized..\n",
      "  warnings.warn(\n",
      "C:\\Users\\szymon\\.conda\\envs\\qudityPAN\\lib\\site-packages\\qiskit\\pulse\\calibration_entries.py:337: UserWarning: Pulse calibration cannot be built and the entry is ignored: Instruction CZ90_u76 on channel u76 is not found in Qiskit namespace. This instruction cannot be deserialized..\n",
      "  warnings.warn(\n",
      "C:\\Users\\szymon\\.conda\\envs\\qudityPAN\\lib\\site-packages\\qiskit\\pulse\\calibration_entries.py:337: UserWarning: Pulse calibration cannot be built and the entry is ignored: Instruction CZ90_u76 on channel u76 is not found in Qiskit namespace. This instruction cannot be deserialized..\n",
      "  warnings.warn(\n",
      "C:\\Users\\szymon\\.conda\\envs\\qudityPAN\\lib\\site-packages\\qiskit\\pulse\\calibration_entries.py:337: UserWarning: Pulse calibration cannot be built and the entry is ignored: Instruction CZ90_u77 on channel u77 is not found in Qiskit namespace. This instruction cannot be deserialized..\n",
      "  warnings.warn(\n",
      "C:\\Users\\szymon\\.conda\\envs\\qudityPAN\\lib\\site-packages\\qiskit\\pulse\\calibration_entries.py:337: UserWarning: Pulse calibration cannot be built and the entry is ignored: Instruction CZ90_u77 on channel u77 is not found in Qiskit namespace. This instruction cannot be deserialized..\n",
      "  warnings.warn(\n",
      "C:\\Users\\szymon\\.conda\\envs\\qudityPAN\\lib\\site-packages\\qiskit\\pulse\\calibration_entries.py:337: UserWarning: Pulse calibration cannot be built and the entry is ignored: Instruction CZ90_u78 on channel u78 is not found in Qiskit namespace. This instruction cannot be deserialized..\n",
      "  warnings.warn(\n",
      "C:\\Users\\szymon\\.conda\\envs\\qudityPAN\\lib\\site-packages\\qiskit\\pulse\\calibration_entries.py:337: UserWarning: Pulse calibration cannot be built and the entry is ignored: Instruction CZ90_u79 on channel u79 is not found in Qiskit namespace. This instruction cannot be deserialized..\n",
      "  warnings.warn(\n",
      "C:\\Users\\szymon\\.conda\\envs\\qudityPAN\\lib\\site-packages\\qiskit\\pulse\\calibration_entries.py:337: UserWarning: Pulse calibration cannot be built and the entry is ignored: Instruction CZ90_u78 on channel u78 is not found in Qiskit namespace. This instruction cannot be deserialized..\n",
      "  warnings.warn(\n",
      "C:\\Users\\szymon\\.conda\\envs\\qudityPAN\\lib\\site-packages\\qiskit\\pulse\\calibration_entries.py:337: UserWarning: Pulse calibration cannot be built and the entry is ignored: Instruction CZ90_u80 on channel u80 is not found in Qiskit namespace. This instruction cannot be deserialized..\n",
      "  warnings.warn(\n",
      "C:\\Users\\szymon\\.conda\\envs\\qudityPAN\\lib\\site-packages\\qiskit\\pulse\\calibration_entries.py:337: UserWarning: Pulse calibration cannot be built and the entry is ignored: Instruction CZ90_u65 on channel u65 is not found in Qiskit namespace. This instruction cannot be deserialized..\n",
      "  warnings.warn(\n",
      "C:\\Users\\szymon\\.conda\\envs\\qudityPAN\\lib\\site-packages\\qiskit\\pulse\\calibration_entries.py:337: UserWarning: Pulse calibration cannot be built and the entry is ignored: Instruction CZ90_u80 on channel u80 is not found in Qiskit namespace. This instruction cannot be deserialized..\n",
      "  warnings.warn(\n",
      "C:\\Users\\szymon\\.conda\\envs\\qudityPAN\\lib\\site-packages\\qiskit\\pulse\\calibration_entries.py:337: UserWarning: Pulse calibration cannot be built and the entry is ignored: Instruction CZ90_u81 on channel u81 is not found in Qiskit namespace. This instruction cannot be deserialized..\n",
      "  warnings.warn(\n",
      "C:\\Users\\szymon\\.conda\\envs\\qudityPAN\\lib\\site-packages\\qiskit\\pulse\\calibration_entries.py:337: UserWarning: Pulse calibration cannot be built and the entry is ignored: Instruction CZ90_u81 on channel u81 is not found in Qiskit namespace. This instruction cannot be deserialized..\n",
      "  warnings.warn(\n",
      "C:\\Users\\szymon\\.conda\\envs\\qudityPAN\\lib\\site-packages\\qiskit\\pulse\\calibration_entries.py:337: UserWarning: Pulse calibration cannot be built and the entry is ignored: Instruction CZ90_u82 on channel u82 is not found in Qiskit namespace. This instruction cannot be deserialized..\n",
      "  warnings.warn(\n",
      "C:\\Users\\szymon\\.conda\\envs\\qudityPAN\\lib\\site-packages\\qiskit\\pulse\\calibration_entries.py:337: UserWarning: Pulse calibration cannot be built and the entry is ignored: Instruction CZ90_u82 on channel u82 is not found in Qiskit namespace. This instruction cannot be deserialized..\n",
      "  warnings.warn(\n",
      "C:\\Users\\szymon\\.conda\\envs\\qudityPAN\\lib\\site-packages\\qiskit\\pulse\\calibration_entries.py:337: UserWarning: Pulse calibration cannot be built and the entry is ignored: Instruction CZ90_u83 on channel u83 is not found in Qiskit namespace. This instruction cannot be deserialized..\n",
      "  warnings.warn(\n",
      "C:\\Users\\szymon\\.conda\\envs\\qudityPAN\\lib\\site-packages\\qiskit\\pulse\\calibration_entries.py:337: UserWarning: Pulse calibration cannot be built and the entry is ignored: Instruction CZ90_u69 on channel u69 is not found in Qiskit namespace. This instruction cannot be deserialized..\n",
      "  warnings.warn(\n",
      "C:\\Users\\szymon\\.conda\\envs\\qudityPAN\\lib\\site-packages\\qiskit\\pulse\\calibration_entries.py:337: UserWarning: Pulse calibration cannot be built and the entry is ignored: Instruction CZ90_u84 on channel u84 is not found in Qiskit namespace. This instruction cannot be deserialized..\n",
      "  warnings.warn(\n",
      "C:\\Users\\szymon\\.conda\\envs\\qudityPAN\\lib\\site-packages\\qiskit\\pulse\\calibration_entries.py:337: UserWarning: Pulse calibration cannot be built and the entry is ignored: Instruction CZ90_u74 on channel u74 is not found in Qiskit namespace. This instruction cannot be deserialized..\n",
      "  warnings.warn(\n",
      "C:\\Users\\szymon\\.conda\\envs\\qudityPAN\\lib\\site-packages\\qiskit\\pulse\\calibration_entries.py:337: UserWarning: Pulse calibration cannot be built and the entry is ignored: Instruction CZ90_u85 on channel u85 is not found in Qiskit namespace. This instruction cannot be deserialized..\n",
      "  warnings.warn(\n",
      "C:\\Users\\szymon\\.conda\\envs\\qudityPAN\\lib\\site-packages\\qiskit\\pulse\\calibration_entries.py:337: UserWarning: Pulse calibration cannot be built and the entry is ignored: Instruction CZ90_u79 on channel u79 is not found in Qiskit namespace. This instruction cannot be deserialized..\n",
      "  warnings.warn(\n",
      "C:\\Users\\szymon\\.conda\\envs\\qudityPAN\\lib\\site-packages\\qiskit\\pulse\\calibration_entries.py:337: UserWarning: Pulse calibration cannot be built and the entry is ignored: Instruction CZ90_u86 on channel u86 is not found in Qiskit namespace. This instruction cannot be deserialized..\n",
      "  warnings.warn(\n",
      "C:\\Users\\szymon\\.conda\\envs\\qudityPAN\\lib\\site-packages\\qiskit\\pulse\\calibration_entries.py:337: UserWarning: Pulse calibration cannot be built and the entry is ignored: Instruction CZ90_u83 on channel u83 is not found in Qiskit namespace. This instruction cannot be deserialized..\n",
      "  warnings.warn(\n",
      "C:\\Users\\szymon\\.conda\\envs\\qudityPAN\\lib\\site-packages\\qiskit\\pulse\\calibration_entries.py:337: UserWarning: Pulse calibration cannot be built and the entry is ignored: Instruction CZ90_u87 on channel u87 is not found in Qiskit namespace. This instruction cannot be deserialized..\n",
      "  warnings.warn(\n",
      "C:\\Users\\szymon\\.conda\\envs\\qudityPAN\\lib\\site-packages\\qiskit\\pulse\\calibration_entries.py:337: UserWarning: Pulse calibration cannot be built and the entry is ignored: Instruction CZ90_u88 on channel u88 is not found in Qiskit namespace. This instruction cannot be deserialized..\n",
      "  warnings.warn(\n",
      "C:\\Users\\szymon\\.conda\\envs\\qudityPAN\\lib\\site-packages\\qiskit\\pulse\\calibration_entries.py:337: UserWarning: Pulse calibration cannot be built and the entry is ignored: Instruction CZ90_u89 on channel u89 is not found in Qiskit namespace. This instruction cannot be deserialized..\n",
      "  warnings.warn(\n",
      "C:\\Users\\szymon\\.conda\\envs\\qudityPAN\\lib\\site-packages\\qiskit\\pulse\\calibration_entries.py:337: UserWarning: Pulse calibration cannot be built and the entry is ignored: Instruction CZ90_u88 on channel u88 is not found in Qiskit namespace. This instruction cannot be deserialized..\n",
      "  warnings.warn(\n",
      "C:\\Users\\szymon\\.conda\\envs\\qudityPAN\\lib\\site-packages\\qiskit\\pulse\\calibration_entries.py:337: UserWarning: Pulse calibration cannot be built and the entry is ignored: Instruction CZ90_u90 on channel u90 is not found in Qiskit namespace. This instruction cannot be deserialized..\n",
      "  warnings.warn(\n",
      "C:\\Users\\szymon\\.conda\\envs\\qudityPAN\\lib\\site-packages\\qiskit\\pulse\\calibration_entries.py:337: UserWarning: Pulse calibration cannot be built and the entry is ignored: Instruction CZ90_u84 on channel u84 is not found in Qiskit namespace. This instruction cannot be deserialized..\n",
      "  warnings.warn(\n",
      "C:\\Users\\szymon\\.conda\\envs\\qudityPAN\\lib\\site-packages\\qiskit\\pulse\\calibration_entries.py:337: UserWarning: Pulse calibration cannot be built and the entry is ignored: Instruction CZ90_u90 on channel u90 is not found in Qiskit namespace. This instruction cannot be deserialized..\n",
      "  warnings.warn(\n",
      "C:\\Users\\szymon\\.conda\\envs\\qudityPAN\\lib\\site-packages\\qiskit\\pulse\\calibration_entries.py:337: UserWarning: Pulse calibration cannot be built and the entry is ignored: Instruction CZ90_u91 on channel u91 is not found in Qiskit namespace. This instruction cannot be deserialized..\n",
      "  warnings.warn(\n",
      "C:\\Users\\szymon\\.conda\\envs\\qudityPAN\\lib\\site-packages\\qiskit\\pulse\\calibration_entries.py:337: UserWarning: Pulse calibration cannot be built and the entry is ignored: Instruction CZ90_u91 on channel u91 is not found in Qiskit namespace. This instruction cannot be deserialized..\n",
      "  warnings.warn(\n",
      "C:\\Users\\szymon\\.conda\\envs\\qudityPAN\\lib\\site-packages\\qiskit\\pulse\\calibration_entries.py:337: UserWarning: Pulse calibration cannot be built and the entry is ignored: Instruction CZ90_u92 on channel u92 is not found in Qiskit namespace. This instruction cannot be deserialized..\n",
      "  warnings.warn(\n",
      "C:\\Users\\szymon\\.conda\\envs\\qudityPAN\\lib\\site-packages\\qiskit\\pulse\\calibration_entries.py:337: UserWarning: Pulse calibration cannot be built and the entry is ignored: Instruction CZ90_u92 on channel u92 is not found in Qiskit namespace. This instruction cannot be deserialized..\n",
      "  warnings.warn(\n",
      "C:\\Users\\szymon\\.conda\\envs\\qudityPAN\\lib\\site-packages\\qiskit\\pulse\\calibration_entries.py:337: UserWarning: Pulse calibration cannot be built and the entry is ignored: Instruction CZ90_u93 on channel u93 is not found in Qiskit namespace. This instruction cannot be deserialized..\n",
      "  warnings.warn(\n",
      "C:\\Users\\szymon\\.conda\\envs\\qudityPAN\\lib\\site-packages\\qiskit\\pulse\\calibration_entries.py:337: UserWarning: Pulse calibration cannot be built and the entry is ignored: Instruction CZ90_u94 on channel u94 is not found in Qiskit namespace. This instruction cannot be deserialized..\n",
      "  warnings.warn(\n",
      "C:\\Users\\szymon\\.conda\\envs\\qudityPAN\\lib\\site-packages\\qiskit\\pulse\\calibration_entries.py:337: UserWarning: Pulse calibration cannot be built and the entry is ignored: Instruction CZ90_u93 on channel u93 is not found in Qiskit namespace. This instruction cannot be deserialized..\n",
      "  warnings.warn(\n",
      "C:\\Users\\szymon\\.conda\\envs\\qudityPAN\\lib\\site-packages\\qiskit\\pulse\\calibration_entries.py:337: UserWarning: Pulse calibration cannot be built and the entry is ignored: Instruction CZ90_u95 on channel u95 is not found in Qiskit namespace. This instruction cannot be deserialized..\n",
      "  warnings.warn(\n",
      "C:\\Users\\szymon\\.conda\\envs\\qudityPAN\\lib\\site-packages\\qiskit\\pulse\\calibration_entries.py:337: UserWarning: Pulse calibration cannot be built and the entry is ignored: Instruction CZ90_u85 on channel u85 is not found in Qiskit namespace. This instruction cannot be deserialized..\n",
      "  warnings.warn(\n",
      "C:\\Users\\szymon\\.conda\\envs\\qudityPAN\\lib\\site-packages\\qiskit\\pulse\\calibration_entries.py:337: UserWarning: Pulse calibration cannot be built and the entry is ignored: Instruction CZ90_u95 on channel u95 is not found in Qiskit namespace. This instruction cannot be deserialized..\n",
      "  warnings.warn(\n",
      "C:\\Users\\szymon\\.conda\\envs\\qudityPAN\\lib\\site-packages\\qiskit\\pulse\\calibration_entries.py:337: UserWarning: Pulse calibration cannot be built and the entry is ignored: Instruction CZ90_u96 on channel u96 is not found in Qiskit namespace. This instruction cannot be deserialized..\n",
      "  warnings.warn(\n",
      "C:\\Users\\szymon\\.conda\\envs\\qudityPAN\\lib\\site-packages\\qiskit\\pulse\\calibration_entries.py:337: UserWarning: Pulse calibration cannot be built and the entry is ignored: Instruction CZ90_u96 on channel u96 is not found in Qiskit namespace. This instruction cannot be deserialized..\n",
      "  warnings.warn(\n",
      "C:\\Users\\szymon\\.conda\\envs\\qudityPAN\\lib\\site-packages\\qiskit\\pulse\\calibration_entries.py:337: UserWarning: Pulse calibration cannot be built and the entry is ignored: Instruction CZ90_u97 on channel u97 is not found in Qiskit namespace. This instruction cannot be deserialized..\n",
      "  warnings.warn(\n",
      "C:\\Users\\szymon\\.conda\\envs\\qudityPAN\\lib\\site-packages\\qiskit\\pulse\\calibration_entries.py:337: UserWarning: Pulse calibration cannot be built and the entry is ignored: Instruction CZ90_u97 on channel u97 is not found in Qiskit namespace. This instruction cannot be deserialized..\n",
      "  warnings.warn(\n",
      "C:\\Users\\szymon\\.conda\\envs\\qudityPAN\\lib\\site-packages\\qiskit\\pulse\\calibration_entries.py:337: UserWarning: Pulse calibration cannot be built and the entry is ignored: Instruction CZ90_u98 on channel u98 is not found in Qiskit namespace. This instruction cannot be deserialized..\n",
      "  warnings.warn(\n",
      "C:\\Users\\szymon\\.conda\\envs\\qudityPAN\\lib\\site-packages\\qiskit\\pulse\\calibration_entries.py:337: UserWarning: Pulse calibration cannot be built and the entry is ignored: Instruction CZ90_u99 on channel u99 is not found in Qiskit namespace. This instruction cannot be deserialized..\n",
      "  warnings.warn(\n",
      "C:\\Users\\szymon\\.conda\\envs\\qudityPAN\\lib\\site-packages\\qiskit\\pulse\\calibration_entries.py:337: UserWarning: Pulse calibration cannot be built and the entry is ignored: Instruction CZ90_u98 on channel u98 is not found in Qiskit namespace. This instruction cannot be deserialized..\n",
      "  warnings.warn(\n",
      "C:\\Users\\szymon\\.conda\\envs\\qudityPAN\\lib\\site-packages\\qiskit\\pulse\\calibration_entries.py:337: UserWarning: Pulse calibration cannot be built and the entry is ignored: Instruction CZ90_u100 on channel u100 is not found in Qiskit namespace. This instruction cannot be deserialized..\n",
      "  warnings.warn(\n",
      "C:\\Users\\szymon\\.conda\\envs\\qudityPAN\\lib\\site-packages\\qiskit\\pulse\\calibration_entries.py:337: UserWarning: Pulse calibration cannot be built and the entry is ignored: Instruction CZ90_u86 on channel u86 is not found in Qiskit namespace. This instruction cannot be deserialized..\n",
      "  warnings.warn(\n",
      "C:\\Users\\szymon\\.conda\\envs\\qudityPAN\\lib\\site-packages\\qiskit\\pulse\\calibration_entries.py:337: UserWarning: Pulse calibration cannot be built and the entry is ignored: Instruction CZ90_u100 on channel u100 is not found in Qiskit namespace. This instruction cannot be deserialized..\n",
      "  warnings.warn(\n",
      "C:\\Users\\szymon\\.conda\\envs\\qudityPAN\\lib\\site-packages\\qiskit\\pulse\\calibration_entries.py:337: UserWarning: Pulse calibration cannot be built and the entry is ignored: Instruction CZ90_u101 on channel u101 is not found in Qiskit namespace. This instruction cannot be deserialized..\n",
      "  warnings.warn(\n",
      "C:\\Users\\szymon\\.conda\\envs\\qudityPAN\\lib\\site-packages\\qiskit\\pulse\\calibration_entries.py:337: UserWarning: Pulse calibration cannot be built and the entry is ignored: Instruction CZ90_u101 on channel u101 is not found in Qiskit namespace. This instruction cannot be deserialized..\n",
      "  warnings.warn(\n",
      "C:\\Users\\szymon\\.conda\\envs\\qudityPAN\\lib\\site-packages\\qiskit\\pulse\\calibration_entries.py:337: UserWarning: Pulse calibration cannot be built and the entry is ignored: Instruction CZ90_u102 on channel u102 is not found in Qiskit namespace. This instruction cannot be deserialized..\n",
      "  warnings.warn(\n",
      "C:\\Users\\szymon\\.conda\\envs\\qudityPAN\\lib\\site-packages\\qiskit\\pulse\\calibration_entries.py:337: UserWarning: Pulse calibration cannot be built and the entry is ignored: Instruction CZ90_u102 on channel u102 is not found in Qiskit namespace. This instruction cannot be deserialized..\n",
      "  warnings.warn(\n",
      "C:\\Users\\szymon\\.conda\\envs\\qudityPAN\\lib\\site-packages\\qiskit\\pulse\\calibration_entries.py:337: UserWarning: Pulse calibration cannot be built and the entry is ignored: Instruction CZ90_u103 on channel u103 is not found in Qiskit namespace. This instruction cannot be deserialized..\n",
      "  warnings.warn(\n",
      "C:\\Users\\szymon\\.conda\\envs\\qudityPAN\\lib\\site-packages\\qiskit\\pulse\\calibration_entries.py:337: UserWarning: Pulse calibration cannot be built and the entry is ignored: Instruction CZ90_u104 on channel u104 is not found in Qiskit namespace. This instruction cannot be deserialized..\n",
      "  warnings.warn(\n",
      "C:\\Users\\szymon\\.conda\\envs\\qudityPAN\\lib\\site-packages\\qiskit\\pulse\\calibration_entries.py:337: UserWarning: Pulse calibration cannot be built and the entry is ignored: Instruction CZ90_u103 on channel u103 is not found in Qiskit namespace. This instruction cannot be deserialized..\n",
      "  warnings.warn(\n",
      "C:\\Users\\szymon\\.conda\\envs\\qudityPAN\\lib\\site-packages\\qiskit\\pulse\\calibration_entries.py:337: UserWarning: Pulse calibration cannot be built and the entry is ignored: Instruction CZ90_u105 on channel u105 is not found in Qiskit namespace. This instruction cannot be deserialized..\n",
      "  warnings.warn(\n",
      "C:\\Users\\szymon\\.conda\\envs\\qudityPAN\\lib\\site-packages\\qiskit\\pulse\\calibration_entries.py:337: UserWarning: Pulse calibration cannot be built and the entry is ignored: Instruction CZ90_u87 on channel u87 is not found in Qiskit namespace. This instruction cannot be deserialized..\n",
      "  warnings.warn(\n",
      "C:\\Users\\szymon\\.conda\\envs\\qudityPAN\\lib\\site-packages\\qiskit\\pulse\\calibration_entries.py:337: UserWarning: Pulse calibration cannot be built and the entry is ignored: Instruction CZ90_u105 on channel u105 is not found in Qiskit namespace. This instruction cannot be deserialized..\n",
      "  warnings.warn(\n",
      "C:\\Users\\szymon\\.conda\\envs\\qudityPAN\\lib\\site-packages\\qiskit\\pulse\\calibration_entries.py:337: UserWarning: Pulse calibration cannot be built and the entry is ignored: Instruction CZ90_u89 on channel u89 is not found in Qiskit namespace. This instruction cannot be deserialized..\n",
      "  warnings.warn(\n",
      "C:\\Users\\szymon\\.conda\\envs\\qudityPAN\\lib\\site-packages\\qiskit\\pulse\\calibration_entries.py:337: UserWarning: Pulse calibration cannot be built and the entry is ignored: Instruction CZ90_u106 on channel u106 is not found in Qiskit namespace. This instruction cannot be deserialized..\n",
      "  warnings.warn(\n",
      "C:\\Users\\szymon\\.conda\\envs\\qudityPAN\\lib\\site-packages\\qiskit\\pulse\\calibration_entries.py:337: UserWarning: Pulse calibration cannot be built and the entry is ignored: Instruction CZ90_u94 on channel u94 is not found in Qiskit namespace. This instruction cannot be deserialized..\n",
      "  warnings.warn(\n",
      "C:\\Users\\szymon\\.conda\\envs\\qudityPAN\\lib\\site-packages\\qiskit\\pulse\\calibration_entries.py:337: UserWarning: Pulse calibration cannot be built and the entry is ignored: Instruction CZ90_u107 on channel u107 is not found in Qiskit namespace. This instruction cannot be deserialized..\n",
      "  warnings.warn(\n",
      "C:\\Users\\szymon\\.conda\\envs\\qudityPAN\\lib\\site-packages\\qiskit\\pulse\\calibration_entries.py:337: UserWarning: Pulse calibration cannot be built and the entry is ignored: Instruction CZ90_u99 on channel u99 is not found in Qiskit namespace. This instruction cannot be deserialized..\n",
      "  warnings.warn(\n",
      "C:\\Users\\szymon\\.conda\\envs\\qudityPAN\\lib\\site-packages\\qiskit\\pulse\\calibration_entries.py:337: UserWarning: Pulse calibration cannot be built and the entry is ignored: Instruction CZ90_u108 on channel u108 is not found in Qiskit namespace. This instruction cannot be deserialized..\n",
      "  warnings.warn(\n",
      "C:\\Users\\szymon\\.conda\\envs\\qudityPAN\\lib\\site-packages\\qiskit\\pulse\\calibration_entries.py:337: UserWarning: Pulse calibration cannot be built and the entry is ignored: Instruction CZ90_u104 on channel u104 is not found in Qiskit namespace. This instruction cannot be deserialized..\n",
      "  warnings.warn(\n",
      "C:\\Users\\szymon\\.conda\\envs\\qudityPAN\\lib\\site-packages\\qiskit\\pulse\\calibration_entries.py:337: UserWarning: Pulse calibration cannot be built and the entry is ignored: Instruction CZ90_u109 on channel u109 is not found in Qiskit namespace. This instruction cannot be deserialized..\n",
      "  warnings.warn(\n",
      "C:\\Users\\szymon\\.conda\\envs\\qudityPAN\\lib\\site-packages\\qiskit\\pulse\\calibration_entries.py:337: UserWarning: Pulse calibration cannot be built and the entry is ignored: Instruction CZ90_u106 on channel u106 is not found in Qiskit namespace. This instruction cannot be deserialized..\n",
      "  warnings.warn(\n",
      "C:\\Users\\szymon\\.conda\\envs\\qudityPAN\\lib\\site-packages\\qiskit\\pulse\\calibration_entries.py:337: UserWarning: Pulse calibration cannot be built and the entry is ignored: Instruction CZ90_u110 on channel u110 is not found in Qiskit namespace. This instruction cannot be deserialized..\n",
      "  warnings.warn(\n",
      "C:\\Users\\szymon\\.conda\\envs\\qudityPAN\\lib\\site-packages\\qiskit\\pulse\\calibration_entries.py:337: UserWarning: Pulse calibration cannot be built and the entry is ignored: Instruction CZ90_u110 on channel u110 is not found in Qiskit namespace. This instruction cannot be deserialized..\n",
      "  warnings.warn(\n",
      "C:\\Users\\szymon\\.conda\\envs\\qudityPAN\\lib\\site-packages\\qiskit\\pulse\\calibration_entries.py:337: UserWarning: Pulse calibration cannot be built and the entry is ignored: Instruction CZ90_u111 on channel u111 is not found in Qiskit namespace. This instruction cannot be deserialized..\n",
      "  warnings.warn(\n",
      "C:\\Users\\szymon\\.conda\\envs\\qudityPAN\\lib\\site-packages\\qiskit\\pulse\\calibration_entries.py:337: UserWarning: Pulse calibration cannot be built and the entry is ignored: Instruction CZ90_u111 on channel u111 is not found in Qiskit namespace. This instruction cannot be deserialized..\n",
      "  warnings.warn(\n",
      "C:\\Users\\szymon\\.conda\\envs\\qudityPAN\\lib\\site-packages\\qiskit\\pulse\\calibration_entries.py:337: UserWarning: Pulse calibration cannot be built and the entry is ignored: Instruction CZ90_u112 on channel u112 is not found in Qiskit namespace. This instruction cannot be deserialized..\n",
      "  warnings.warn(\n",
      "C:\\Users\\szymon\\.conda\\envs\\qudityPAN\\lib\\site-packages\\qiskit\\pulse\\calibration_entries.py:337: UserWarning: Pulse calibration cannot be built and the entry is ignored: Instruction CZ90_u113 on channel u113 is not found in Qiskit namespace. This instruction cannot be deserialized..\n",
      "  warnings.warn(\n",
      "C:\\Users\\szymon\\.conda\\envs\\qudityPAN\\lib\\site-packages\\qiskit\\pulse\\calibration_entries.py:337: UserWarning: Pulse calibration cannot be built and the entry is ignored: Instruction CZ90_u112 on channel u112 is not found in Qiskit namespace. This instruction cannot be deserialized..\n",
      "  warnings.warn(\n",
      "C:\\Users\\szymon\\.conda\\envs\\qudityPAN\\lib\\site-packages\\qiskit\\pulse\\calibration_entries.py:337: UserWarning: Pulse calibration cannot be built and the entry is ignored: Instruction CZ90_u114 on channel u114 is not found in Qiskit namespace. This instruction cannot be deserialized..\n",
      "  warnings.warn(\n",
      "C:\\Users\\szymon\\.conda\\envs\\qudityPAN\\lib\\site-packages\\qiskit\\pulse\\calibration_entries.py:337: UserWarning: Pulse calibration cannot be built and the entry is ignored: Instruction CZ90_u107 on channel u107 is not found in Qiskit namespace. This instruction cannot be deserialized..\n",
      "  warnings.warn(\n",
      "C:\\Users\\szymon\\.conda\\envs\\qudityPAN\\lib\\site-packages\\qiskit\\pulse\\calibration_entries.py:337: UserWarning: Pulse calibration cannot be built and the entry is ignored: Instruction CZ90_u114 on channel u114 is not found in Qiskit namespace. This instruction cannot be deserialized..\n",
      "  warnings.warn(\n",
      "C:\\Users\\szymon\\.conda\\envs\\qudityPAN\\lib\\site-packages\\qiskit\\pulse\\calibration_entries.py:337: UserWarning: Pulse calibration cannot be built and the entry is ignored: Instruction CZ90_u115 on channel u115 is not found in Qiskit namespace. This instruction cannot be deserialized..\n",
      "  warnings.warn(\n",
      "C:\\Users\\szymon\\.conda\\envs\\qudityPAN\\lib\\site-packages\\qiskit\\pulse\\calibration_entries.py:337: UserWarning: Pulse calibration cannot be built and the entry is ignored: Instruction CZ90_u115 on channel u115 is not found in Qiskit namespace. This instruction cannot be deserialized..\n",
      "  warnings.warn(\n",
      "C:\\Users\\szymon\\.conda\\envs\\qudityPAN\\lib\\site-packages\\qiskit\\pulse\\calibration_entries.py:337: UserWarning: Pulse calibration cannot be built and the entry is ignored: Instruction CZ90_u116 on channel u116 is not found in Qiskit namespace. This instruction cannot be deserialized..\n",
      "  warnings.warn(\n",
      "C:\\Users\\szymon\\.conda\\envs\\qudityPAN\\lib\\site-packages\\qiskit\\pulse\\calibration_entries.py:337: UserWarning: Pulse calibration cannot be built and the entry is ignored: Instruction CZ90_u116 on channel u116 is not found in Qiskit namespace. This instruction cannot be deserialized..\n",
      "  warnings.warn(\n",
      "C:\\Users\\szymon\\.conda\\envs\\qudityPAN\\lib\\site-packages\\qiskit\\pulse\\calibration_entries.py:337: UserWarning: Pulse calibration cannot be built and the entry is ignored: Instruction CZ90_u117 on channel u117 is not found in Qiskit namespace. This instruction cannot be deserialized..\n",
      "  warnings.warn(\n",
      "C:\\Users\\szymon\\.conda\\envs\\qudityPAN\\lib\\site-packages\\qiskit\\pulse\\calibration_entries.py:337: UserWarning: Pulse calibration cannot be built and the entry is ignored: Instruction CZ90_u118 on channel u118 is not found in Qiskit namespace. This instruction cannot be deserialized..\n",
      "  warnings.warn(\n",
      "C:\\Users\\szymon\\.conda\\envs\\qudityPAN\\lib\\site-packages\\qiskit\\pulse\\calibration_entries.py:337: UserWarning: Pulse calibration cannot be built and the entry is ignored: Instruction CZ90_u117 on channel u117 is not found in Qiskit namespace. This instruction cannot be deserialized..\n",
      "  warnings.warn(\n",
      "C:\\Users\\szymon\\.conda\\envs\\qudityPAN\\lib\\site-packages\\qiskit\\pulse\\calibration_entries.py:337: UserWarning: Pulse calibration cannot be built and the entry is ignored: Instruction CZ90_u119 on channel u119 is not found in Qiskit namespace. This instruction cannot be deserialized..\n",
      "  warnings.warn(\n",
      "C:\\Users\\szymon\\.conda\\envs\\qudityPAN\\lib\\site-packages\\qiskit\\pulse\\calibration_entries.py:337: UserWarning: Pulse calibration cannot be built and the entry is ignored: Instruction CZ90_u108 on channel u108 is not found in Qiskit namespace. This instruction cannot be deserialized..\n",
      "  warnings.warn(\n",
      "C:\\Users\\szymon\\.conda\\envs\\qudityPAN\\lib\\site-packages\\qiskit\\pulse\\calibration_entries.py:337: UserWarning: Pulse calibration cannot be built and the entry is ignored: Instruction CZ90_u119 on channel u119 is not found in Qiskit namespace. This instruction cannot be deserialized..\n",
      "  warnings.warn(\n",
      "C:\\Users\\szymon\\.conda\\envs\\qudityPAN\\lib\\site-packages\\qiskit\\pulse\\calibration_entries.py:337: UserWarning: Pulse calibration cannot be built and the entry is ignored: Instruction CZ90_u120 on channel u120 is not found in Qiskit namespace. This instruction cannot be deserialized..\n",
      "  warnings.warn(\n",
      "C:\\Users\\szymon\\.conda\\envs\\qudityPAN\\lib\\site-packages\\qiskit\\pulse\\calibration_entries.py:337: UserWarning: Pulse calibration cannot be built and the entry is ignored: Instruction CZ90_u120 on channel u120 is not found in Qiskit namespace. This instruction cannot be deserialized..\n",
      "  warnings.warn(\n",
      "C:\\Users\\szymon\\.conda\\envs\\qudityPAN\\lib\\site-packages\\qiskit\\pulse\\calibration_entries.py:337: UserWarning: Pulse calibration cannot be built and the entry is ignored: Instruction CZ90_u121 on channel u121 is not found in Qiskit namespace. This instruction cannot be deserialized..\n",
      "  warnings.warn(\n",
      "C:\\Users\\szymon\\.conda\\envs\\qudityPAN\\lib\\site-packages\\qiskit\\pulse\\calibration_entries.py:337: UserWarning: Pulse calibration cannot be built and the entry is ignored: Instruction CZ90_u121 on channel u121 is not found in Qiskit namespace. This instruction cannot be deserialized..\n",
      "  warnings.warn(\n",
      "C:\\Users\\szymon\\.conda\\envs\\qudityPAN\\lib\\site-packages\\qiskit\\pulse\\calibration_entries.py:337: UserWarning: Pulse calibration cannot be built and the entry is ignored: Instruction CZ90_u122 on channel u122 is not found in Qiskit namespace. This instruction cannot be deserialized..\n",
      "  warnings.warn(\n",
      "C:\\Users\\szymon\\.conda\\envs\\qudityPAN\\lib\\site-packages\\qiskit\\pulse\\calibration_entries.py:337: UserWarning: Pulse calibration cannot be built and the entry is ignored: Instruction CZ90_u123 on channel u123 is not found in Qiskit namespace. This instruction cannot be deserialized..\n",
      "  warnings.warn(\n",
      "C:\\Users\\szymon\\.conda\\envs\\qudityPAN\\lib\\site-packages\\qiskit\\pulse\\calibration_entries.py:337: UserWarning: Pulse calibration cannot be built and the entry is ignored: Instruction CZ90_u122 on channel u122 is not found in Qiskit namespace. This instruction cannot be deserialized..\n",
      "  warnings.warn(\n",
      "C:\\Users\\szymon\\.conda\\envs\\qudityPAN\\lib\\site-packages\\qiskit\\pulse\\calibration_entries.py:337: UserWarning: Pulse calibration cannot be built and the entry is ignored: Instruction CZ90_u124 on channel u124 is not found in Qiskit namespace. This instruction cannot be deserialized..\n",
      "  warnings.warn(\n",
      "C:\\Users\\szymon\\.conda\\envs\\qudityPAN\\lib\\site-packages\\qiskit\\pulse\\calibration_entries.py:337: UserWarning: Pulse calibration cannot be built and the entry is ignored: Instruction CZ90_u109 on channel u109 is not found in Qiskit namespace. This instruction cannot be deserialized..\n",
      "  warnings.warn(\n",
      "C:\\Users\\szymon\\.conda\\envs\\qudityPAN\\lib\\site-packages\\qiskit\\pulse\\calibration_entries.py:337: UserWarning: Pulse calibration cannot be built and the entry is ignored: Instruction CZ90_u124 on channel u124 is not found in Qiskit namespace. This instruction cannot be deserialized..\n",
      "  warnings.warn(\n",
      "C:\\Users\\szymon\\.conda\\envs\\qudityPAN\\lib\\site-packages\\qiskit\\pulse\\calibration_entries.py:337: UserWarning: Pulse calibration cannot be built and the entry is ignored: Instruction CZ90_u125 on channel u125 is not found in Qiskit namespace. This instruction cannot be deserialized..\n",
      "  warnings.warn(\n",
      "C:\\Users\\szymon\\.conda\\envs\\qudityPAN\\lib\\site-packages\\qiskit\\pulse\\calibration_entries.py:337: UserWarning: Pulse calibration cannot be built and the entry is ignored: Instruction CZ90_u125 on channel u125 is not found in Qiskit namespace. This instruction cannot be deserialized..\n",
      "  warnings.warn(\n",
      "C:\\Users\\szymon\\.conda\\envs\\qudityPAN\\lib\\site-packages\\qiskit\\pulse\\calibration_entries.py:337: UserWarning: Pulse calibration cannot be built and the entry is ignored: Instruction CZ90_u126 on channel u126 is not found in Qiskit namespace. This instruction cannot be deserialized..\n",
      "  warnings.warn(\n",
      "C:\\Users\\szymon\\.conda\\envs\\qudityPAN\\lib\\site-packages\\qiskit\\pulse\\calibration_entries.py:337: UserWarning: Pulse calibration cannot be built and the entry is ignored: Instruction CZ90_u126 on channel u126 is not found in Qiskit namespace. This instruction cannot be deserialized..\n",
      "  warnings.warn(\n",
      "C:\\Users\\szymon\\.conda\\envs\\qudityPAN\\lib\\site-packages\\qiskit\\pulse\\calibration_entries.py:337: UserWarning: Pulse calibration cannot be built and the entry is ignored: Instruction CZ90_u127 on channel u127 is not found in Qiskit namespace. This instruction cannot be deserialized..\n",
      "  warnings.warn(\n",
      "C:\\Users\\szymon\\.conda\\envs\\qudityPAN\\lib\\site-packages\\qiskit\\pulse\\calibration_entries.py:337: UserWarning: Pulse calibration cannot be built and the entry is ignored: Instruction CZ90_u113 on channel u113 is not found in Qiskit namespace. This instruction cannot be deserialized..\n",
      "  warnings.warn(\n",
      "C:\\Users\\szymon\\.conda\\envs\\qudityPAN\\lib\\site-packages\\qiskit\\pulse\\calibration_entries.py:337: UserWarning: Pulse calibration cannot be built and the entry is ignored: Instruction CZ90_u128 on channel u128 is not found in Qiskit namespace. This instruction cannot be deserialized..\n",
      "  warnings.warn(\n",
      "C:\\Users\\szymon\\.conda\\envs\\qudityPAN\\lib\\site-packages\\qiskit\\pulse\\calibration_entries.py:337: UserWarning: Pulse calibration cannot be built and the entry is ignored: Instruction CZ90_u118 on channel u118 is not found in Qiskit namespace. This instruction cannot be deserialized..\n",
      "  warnings.warn(\n",
      "C:\\Users\\szymon\\.conda\\envs\\qudityPAN\\lib\\site-packages\\qiskit\\pulse\\calibration_entries.py:337: UserWarning: Pulse calibration cannot be built and the entry is ignored: Instruction CZ90_u129 on channel u129 is not found in Qiskit namespace. This instruction cannot be deserialized..\n",
      "  warnings.warn(\n",
      "C:\\Users\\szymon\\.conda\\envs\\qudityPAN\\lib\\site-packages\\qiskit\\pulse\\calibration_entries.py:337: UserWarning: Pulse calibration cannot be built and the entry is ignored: Instruction CZ90_u123 on channel u123 is not found in Qiskit namespace. This instruction cannot be deserialized..\n",
      "  warnings.warn(\n",
      "C:\\Users\\szymon\\.conda\\envs\\qudityPAN\\lib\\site-packages\\qiskit\\pulse\\calibration_entries.py:337: UserWarning: Pulse calibration cannot be built and the entry is ignored: Instruction CZ90_u130 on channel u130 is not found in Qiskit namespace. This instruction cannot be deserialized..\n",
      "  warnings.warn(\n",
      "C:\\Users\\szymon\\.conda\\envs\\qudityPAN\\lib\\site-packages\\qiskit\\pulse\\calibration_entries.py:337: UserWarning: Pulse calibration cannot be built and the entry is ignored: Instruction CZ90_u127 on channel u127 is not found in Qiskit namespace. This instruction cannot be deserialized..\n",
      "  warnings.warn(\n",
      "C:\\Users\\szymon\\.conda\\envs\\qudityPAN\\lib\\site-packages\\qiskit\\pulse\\calibration_entries.py:337: UserWarning: Pulse calibration cannot be built and the entry is ignored: Instruction CZ90_u131 on channel u131 is not found in Qiskit namespace. This instruction cannot be deserialized..\n",
      "  warnings.warn(\n",
      "C:\\Users\\szymon\\.conda\\envs\\qudityPAN\\lib\\site-packages\\qiskit\\pulse\\calibration_entries.py:337: UserWarning: Pulse calibration cannot be built and the entry is ignored: Instruction CZ90_u132 on channel u132 is not found in Qiskit namespace. This instruction cannot be deserialized..\n",
      "  warnings.warn(\n",
      "C:\\Users\\szymon\\.conda\\envs\\qudityPAN\\lib\\site-packages\\qiskit\\pulse\\calibration_entries.py:337: UserWarning: Pulse calibration cannot be built and the entry is ignored: Instruction CZ90_u133 on channel u133 is not found in Qiskit namespace. This instruction cannot be deserialized..\n",
      "  warnings.warn(\n",
      "C:\\Users\\szymon\\.conda\\envs\\qudityPAN\\lib\\site-packages\\qiskit\\pulse\\calibration_entries.py:337: UserWarning: Pulse calibration cannot be built and the entry is ignored: Instruction CZ90_u132 on channel u132 is not found in Qiskit namespace. This instruction cannot be deserialized..\n",
      "  warnings.warn(\n",
      "C:\\Users\\szymon\\.conda\\envs\\qudityPAN\\lib\\site-packages\\qiskit\\pulse\\calibration_entries.py:337: UserWarning: Pulse calibration cannot be built and the entry is ignored: Instruction CZ90_u134 on channel u134 is not found in Qiskit namespace. This instruction cannot be deserialized..\n",
      "  warnings.warn(\n",
      "C:\\Users\\szymon\\.conda\\envs\\qudityPAN\\lib\\site-packages\\qiskit\\pulse\\calibration_entries.py:337: UserWarning: Pulse calibration cannot be built and the entry is ignored: Instruction CZ90_u128 on channel u128 is not found in Qiskit namespace. This instruction cannot be deserialized..\n",
      "  warnings.warn(\n",
      "C:\\Users\\szymon\\.conda\\envs\\qudityPAN\\lib\\site-packages\\qiskit\\pulse\\calibration_entries.py:337: UserWarning: Pulse calibration cannot be built and the entry is ignored: Instruction CZ90_u134 on channel u134 is not found in Qiskit namespace. This instruction cannot be deserialized..\n",
      "  warnings.warn(\n",
      "C:\\Users\\szymon\\.conda\\envs\\qudityPAN\\lib\\site-packages\\qiskit\\pulse\\calibration_entries.py:337: UserWarning: Pulse calibration cannot be built and the entry is ignored: Instruction CZ90_u135 on channel u135 is not found in Qiskit namespace. This instruction cannot be deserialized..\n",
      "  warnings.warn(\n",
      "C:\\Users\\szymon\\.conda\\envs\\qudityPAN\\lib\\site-packages\\qiskit\\pulse\\calibration_entries.py:337: UserWarning: Pulse calibration cannot be built and the entry is ignored: Instruction CZ90_u135 on channel u135 is not found in Qiskit namespace. This instruction cannot be deserialized..\n",
      "  warnings.warn(\n",
      "C:\\Users\\szymon\\.conda\\envs\\qudityPAN\\lib\\site-packages\\qiskit\\pulse\\calibration_entries.py:337: UserWarning: Pulse calibration cannot be built and the entry is ignored: Instruction CZ90_u136 on channel u136 is not found in Qiskit namespace. This instruction cannot be deserialized..\n",
      "  warnings.warn(\n",
      "C:\\Users\\szymon\\.conda\\envs\\qudityPAN\\lib\\site-packages\\qiskit\\pulse\\calibration_entries.py:337: UserWarning: Pulse calibration cannot be built and the entry is ignored: Instruction CZ90_u136 on channel u136 is not found in Qiskit namespace. This instruction cannot be deserialized..\n",
      "  warnings.warn(\n",
      "C:\\Users\\szymon\\.conda\\envs\\qudityPAN\\lib\\site-packages\\qiskit\\pulse\\calibration_entries.py:337: UserWarning: Pulse calibration cannot be built and the entry is ignored: Instruction CZ90_u137 on channel u137 is not found in Qiskit namespace. This instruction cannot be deserialized..\n",
      "  warnings.warn(\n",
      "C:\\Users\\szymon\\.conda\\envs\\qudityPAN\\lib\\site-packages\\qiskit\\pulse\\calibration_entries.py:337: UserWarning: Pulse calibration cannot be built and the entry is ignored: Instruction CZ90_u138 on channel u138 is not found in Qiskit namespace. This instruction cannot be deserialized..\n",
      "  warnings.warn(\n",
      "C:\\Users\\szymon\\.conda\\envs\\qudityPAN\\lib\\site-packages\\qiskit\\pulse\\calibration_entries.py:337: UserWarning: Pulse calibration cannot be built and the entry is ignored: Instruction CZ90_u137 on channel u137 is not found in Qiskit namespace. This instruction cannot be deserialized..\n",
      "  warnings.warn(\n",
      "C:\\Users\\szymon\\.conda\\envs\\qudityPAN\\lib\\site-packages\\qiskit\\pulse\\calibration_entries.py:337: UserWarning: Pulse calibration cannot be built and the entry is ignored: Instruction CZ90_u139 on channel u139 is not found in Qiskit namespace. This instruction cannot be deserialized..\n",
      "  warnings.warn(\n",
      "C:\\Users\\szymon\\.conda\\envs\\qudityPAN\\lib\\site-packages\\qiskit\\pulse\\calibration_entries.py:337: UserWarning: Pulse calibration cannot be built and the entry is ignored: Instruction CZ90_u129 on channel u129 is not found in Qiskit namespace. This instruction cannot be deserialized..\n",
      "  warnings.warn(\n",
      "C:\\Users\\szymon\\.conda\\envs\\qudityPAN\\lib\\site-packages\\qiskit\\pulse\\calibration_entries.py:337: UserWarning: Pulse calibration cannot be built and the entry is ignored: Instruction CZ90_u139 on channel u139 is not found in Qiskit namespace. This instruction cannot be deserialized..\n",
      "  warnings.warn(\n",
      "C:\\Users\\szymon\\.conda\\envs\\qudityPAN\\lib\\site-packages\\qiskit\\pulse\\calibration_entries.py:337: UserWarning: Pulse calibration cannot be built and the entry is ignored: Instruction CZ90_u140 on channel u140 is not found in Qiskit namespace. This instruction cannot be deserialized..\n",
      "  warnings.warn(\n",
      "C:\\Users\\szymon\\.conda\\envs\\qudityPAN\\lib\\site-packages\\qiskit\\pulse\\calibration_entries.py:337: UserWarning: Pulse calibration cannot be built and the entry is ignored: Instruction CZ90_u140 on channel u140 is not found in Qiskit namespace. This instruction cannot be deserialized..\n",
      "  warnings.warn(\n",
      "C:\\Users\\szymon\\.conda\\envs\\qudityPAN\\lib\\site-packages\\qiskit\\pulse\\calibration_entries.py:337: UserWarning: Pulse calibration cannot be built and the entry is ignored: Instruction CZ90_u141 on channel u141 is not found in Qiskit namespace. This instruction cannot be deserialized..\n",
      "  warnings.warn(\n",
      "C:\\Users\\szymon\\.conda\\envs\\qudityPAN\\lib\\site-packages\\qiskit\\pulse\\calibration_entries.py:337: UserWarning: Pulse calibration cannot be built and the entry is ignored: Instruction CZ90_u141 on channel u141 is not found in Qiskit namespace. This instruction cannot be deserialized..\n",
      "  warnings.warn(\n",
      "C:\\Users\\szymon\\.conda\\envs\\qudityPAN\\lib\\site-packages\\qiskit\\pulse\\calibration_entries.py:337: UserWarning: Pulse calibration cannot be built and the entry is ignored: Instruction CZ90_u142 on channel u142 is not found in Qiskit namespace. This instruction cannot be deserialized..\n",
      "  warnings.warn(\n",
      "C:\\Users\\szymon\\.conda\\envs\\qudityPAN\\lib\\site-packages\\qiskit\\pulse\\calibration_entries.py:337: UserWarning: Pulse calibration cannot be built and the entry is ignored: Instruction CZ90_u143 on channel u143 is not found in Qiskit namespace. This instruction cannot be deserialized..\n",
      "  warnings.warn(\n",
      "C:\\Users\\szymon\\.conda\\envs\\qudityPAN\\lib\\site-packages\\qiskit\\pulse\\calibration_entries.py:337: UserWarning: Pulse calibration cannot be built and the entry is ignored: Instruction CZ90_u142 on channel u142 is not found in Qiskit namespace. This instruction cannot be deserialized..\n",
      "  warnings.warn(\n",
      "C:\\Users\\szymon\\.conda\\envs\\qudityPAN\\lib\\site-packages\\qiskit\\pulse\\calibration_entries.py:337: UserWarning: Pulse calibration cannot be built and the entry is ignored: Instruction CZ90_u144 on channel u144 is not found in Qiskit namespace. This instruction cannot be deserialized..\n",
      "  warnings.warn(\n",
      "C:\\Users\\szymon\\.conda\\envs\\qudityPAN\\lib\\site-packages\\qiskit\\pulse\\calibration_entries.py:337: UserWarning: Pulse calibration cannot be built and the entry is ignored: Instruction CZ90_u130 on channel u130 is not found in Qiskit namespace. This instruction cannot be deserialized..\n",
      "  warnings.warn(\n",
      "C:\\Users\\szymon\\.conda\\envs\\qudityPAN\\lib\\site-packages\\qiskit\\pulse\\calibration_entries.py:337: UserWarning: Pulse calibration cannot be built and the entry is ignored: Instruction CZ90_u144 on channel u144 is not found in Qiskit namespace. This instruction cannot be deserialized..\n",
      "  warnings.warn(\n",
      "C:\\Users\\szymon\\.conda\\envs\\qudityPAN\\lib\\site-packages\\qiskit\\pulse\\calibration_entries.py:337: UserWarning: Pulse calibration cannot be built and the entry is ignored: Instruction CZ90_u145 on channel u145 is not found in Qiskit namespace. This instruction cannot be deserialized..\n",
      "  warnings.warn(\n",
      "C:\\Users\\szymon\\.conda\\envs\\qudityPAN\\lib\\site-packages\\qiskit\\pulse\\calibration_entries.py:337: UserWarning: Pulse calibration cannot be built and the entry is ignored: Instruction CZ90_u145 on channel u145 is not found in Qiskit namespace. This instruction cannot be deserialized..\n",
      "  warnings.warn(\n",
      "C:\\Users\\szymon\\.conda\\envs\\qudityPAN\\lib\\site-packages\\qiskit\\pulse\\calibration_entries.py:337: UserWarning: Pulse calibration cannot be built and the entry is ignored: Instruction CZ90_u146 on channel u146 is not found in Qiskit namespace. This instruction cannot be deserialized..\n",
      "  warnings.warn(\n",
      "C:\\Users\\szymon\\.conda\\envs\\qudityPAN\\lib\\site-packages\\qiskit\\pulse\\calibration_entries.py:337: UserWarning: Pulse calibration cannot be built and the entry is ignored: Instruction CZ90_u146 on channel u146 is not found in Qiskit namespace. This instruction cannot be deserialized..\n",
      "  warnings.warn(\n",
      "C:\\Users\\szymon\\.conda\\envs\\qudityPAN\\lib\\site-packages\\qiskit\\pulse\\calibration_entries.py:337: UserWarning: Pulse calibration cannot be built and the entry is ignored: Instruction CZ90_u147 on channel u147 is not found in Qiskit namespace. This instruction cannot be deserialized..\n",
      "  warnings.warn(\n",
      "C:\\Users\\szymon\\.conda\\envs\\qudityPAN\\lib\\site-packages\\qiskit\\pulse\\calibration_entries.py:337: UserWarning: Pulse calibration cannot be built and the entry is ignored: Instruction CZ90_u148 on channel u148 is not found in Qiskit namespace. This instruction cannot be deserialized..\n",
      "  warnings.warn(\n",
      "C:\\Users\\szymon\\.conda\\envs\\qudityPAN\\lib\\site-packages\\qiskit\\pulse\\calibration_entries.py:337: UserWarning: Pulse calibration cannot be built and the entry is ignored: Instruction CZ90_u147 on channel u147 is not found in Qiskit namespace. This instruction cannot be deserialized..\n",
      "  warnings.warn(\n",
      "C:\\Users\\szymon\\.conda\\envs\\qudityPAN\\lib\\site-packages\\qiskit\\pulse\\calibration_entries.py:337: UserWarning: Pulse calibration cannot be built and the entry is ignored: Instruction CZ90_u149 on channel u149 is not found in Qiskit namespace. This instruction cannot be deserialized..\n",
      "  warnings.warn(\n",
      "C:\\Users\\szymon\\.conda\\envs\\qudityPAN\\lib\\site-packages\\qiskit\\pulse\\calibration_entries.py:337: UserWarning: Pulse calibration cannot be built and the entry is ignored: Instruction CZ90_u131 on channel u131 is not found in Qiskit namespace. This instruction cannot be deserialized..\n",
      "  warnings.warn(\n",
      "C:\\Users\\szymon\\.conda\\envs\\qudityPAN\\lib\\site-packages\\qiskit\\pulse\\calibration_entries.py:337: UserWarning: Pulse calibration cannot be built and the entry is ignored: Instruction CZ90_u149 on channel u149 is not found in Qiskit namespace. This instruction cannot be deserialized..\n",
      "  warnings.warn(\n",
      "C:\\Users\\szymon\\.conda\\envs\\qudityPAN\\lib\\site-packages\\qiskit\\pulse\\calibration_entries.py:337: UserWarning: Pulse calibration cannot be built and the entry is ignored: Instruction CZ90_u133 on channel u133 is not found in Qiskit namespace. This instruction cannot be deserialized..\n",
      "  warnings.warn(\n",
      "C:\\Users\\szymon\\.conda\\envs\\qudityPAN\\lib\\site-packages\\qiskit\\pulse\\calibration_entries.py:337: UserWarning: Pulse calibration cannot be built and the entry is ignored: Instruction CZ90_u138 on channel u138 is not found in Qiskit namespace. This instruction cannot be deserialized..\n",
      "  warnings.warn(\n",
      "C:\\Users\\szymon\\.conda\\envs\\qudityPAN\\lib\\site-packages\\qiskit\\pulse\\calibration_entries.py:337: UserWarning: Pulse calibration cannot be built and the entry is ignored: Instruction CZ90_u143 on channel u143 is not found in Qiskit namespace. This instruction cannot be deserialized..\n",
      "  warnings.warn(\n",
      "C:\\Users\\szymon\\.conda\\envs\\qudityPAN\\lib\\site-packages\\qiskit\\pulse\\calibration_entries.py:337: UserWarning: Pulse calibration cannot be built and the entry is ignored: Instruction CZ90_u148 on channel u148 is not found in Qiskit namespace. This instruction cannot be deserialized..\n",
      "  warnings.warn(\n",
      "C:\\Users\\szymon\\.conda\\envs\\qudityPAN\\lib\\site-packages\\qiskit\\pulse\\calibration_entries.py:337: UserWarning: Pulse calibration cannot be built and the entry is ignored: Instruction QId_d0 on channel d0 is not found in Qiskit namespace. This instruction cannot be deserialized..\n",
      "  warnings.warn(\n",
      "C:\\Users\\szymon\\.conda\\envs\\qudityPAN\\lib\\site-packages\\qiskit\\pulse\\calibration_entries.py:337: UserWarning: Pulse calibration cannot be built and the entry is ignored: Instruction QId_d1 on channel d1 is not found in Qiskit namespace. This instruction cannot be deserialized..\n",
      "  warnings.warn(\n",
      "C:\\Users\\szymon\\.conda\\envs\\qudityPAN\\lib\\site-packages\\qiskit\\pulse\\calibration_entries.py:337: UserWarning: Pulse calibration cannot be built and the entry is ignored: Instruction QId_d2 on channel d2 is not found in Qiskit namespace. This instruction cannot be deserialized..\n",
      "  warnings.warn(\n",
      "C:\\Users\\szymon\\.conda\\envs\\qudityPAN\\lib\\site-packages\\qiskit\\pulse\\calibration_entries.py:337: UserWarning: Pulse calibration cannot be built and the entry is ignored: Instruction QId_d3 on channel d3 is not found in Qiskit namespace. This instruction cannot be deserialized..\n",
      "  warnings.warn(\n",
      "C:\\Users\\szymon\\.conda\\envs\\qudityPAN\\lib\\site-packages\\qiskit\\pulse\\calibration_entries.py:337: UserWarning: Pulse calibration cannot be built and the entry is ignored: Instruction QId_d4 on channel d4 is not found in Qiskit namespace. This instruction cannot be deserialized..\n",
      "  warnings.warn(\n",
      "C:\\Users\\szymon\\.conda\\envs\\qudityPAN\\lib\\site-packages\\qiskit\\pulse\\calibration_entries.py:337: UserWarning: Pulse calibration cannot be built and the entry is ignored: Instruction QId_d5 on channel d5 is not found in Qiskit namespace. This instruction cannot be deserialized..\n",
      "  warnings.warn(\n",
      "C:\\Users\\szymon\\.conda\\envs\\qudityPAN\\lib\\site-packages\\qiskit\\pulse\\calibration_entries.py:337: UserWarning: Pulse calibration cannot be built and the entry is ignored: Instruction QId_d6 on channel d6 is not found in Qiskit namespace. This instruction cannot be deserialized..\n",
      "  warnings.warn(\n",
      "C:\\Users\\szymon\\.conda\\envs\\qudityPAN\\lib\\site-packages\\qiskit\\pulse\\calibration_entries.py:337: UserWarning: Pulse calibration cannot be built and the entry is ignored: Instruction QId_d7 on channel d7 is not found in Qiskit namespace. This instruction cannot be deserialized..\n",
      "  warnings.warn(\n",
      "C:\\Users\\szymon\\.conda\\envs\\qudityPAN\\lib\\site-packages\\qiskit\\pulse\\calibration_entries.py:337: UserWarning: Pulse calibration cannot be built and the entry is ignored: Instruction QId_d8 on channel d8 is not found in Qiskit namespace. This instruction cannot be deserialized..\n",
      "  warnings.warn(\n",
      "C:\\Users\\szymon\\.conda\\envs\\qudityPAN\\lib\\site-packages\\qiskit\\pulse\\calibration_entries.py:337: UserWarning: Pulse calibration cannot be built and the entry is ignored: Instruction QId_d9 on channel d9 is not found in Qiskit namespace. This instruction cannot be deserialized..\n",
      "  warnings.warn(\n",
      "C:\\Users\\szymon\\.conda\\envs\\qudityPAN\\lib\\site-packages\\qiskit\\pulse\\calibration_entries.py:337: UserWarning: Pulse calibration cannot be built and the entry is ignored: Instruction QId_d10 on channel d10 is not found in Qiskit namespace. This instruction cannot be deserialized..\n",
      "  warnings.warn(\n",
      "C:\\Users\\szymon\\.conda\\envs\\qudityPAN\\lib\\site-packages\\qiskit\\pulse\\calibration_entries.py:337: UserWarning: Pulse calibration cannot be built and the entry is ignored: Instruction QId_d11 on channel d11 is not found in Qiskit namespace. This instruction cannot be deserialized..\n",
      "  warnings.warn(\n",
      "C:\\Users\\szymon\\.conda\\envs\\qudityPAN\\lib\\site-packages\\qiskit\\pulse\\calibration_entries.py:337: UserWarning: Pulse calibration cannot be built and the entry is ignored: Instruction QId_d12 on channel d12 is not found in Qiskit namespace. This instruction cannot be deserialized..\n",
      "  warnings.warn(\n",
      "C:\\Users\\szymon\\.conda\\envs\\qudityPAN\\lib\\site-packages\\qiskit\\pulse\\calibration_entries.py:337: UserWarning: Pulse calibration cannot be built and the entry is ignored: Instruction QId_d13 on channel d13 is not found in Qiskit namespace. This instruction cannot be deserialized..\n",
      "  warnings.warn(\n",
      "C:\\Users\\szymon\\.conda\\envs\\qudityPAN\\lib\\site-packages\\qiskit\\pulse\\calibration_entries.py:337: UserWarning: Pulse calibration cannot be built and the entry is ignored: Instruction QId_d14 on channel d14 is not found in Qiskit namespace. This instruction cannot be deserialized..\n",
      "  warnings.warn(\n",
      "C:\\Users\\szymon\\.conda\\envs\\qudityPAN\\lib\\site-packages\\qiskit\\pulse\\calibration_entries.py:337: UserWarning: Pulse calibration cannot be built and the entry is ignored: Instruction QId_d15 on channel d15 is not found in Qiskit namespace. This instruction cannot be deserialized..\n",
      "  warnings.warn(\n",
      "C:\\Users\\szymon\\.conda\\envs\\qudityPAN\\lib\\site-packages\\qiskit\\pulse\\calibration_entries.py:337: UserWarning: Pulse calibration cannot be built and the entry is ignored: Instruction QId_d16 on channel d16 is not found in Qiskit namespace. This instruction cannot be deserialized..\n",
      "  warnings.warn(\n",
      "C:\\Users\\szymon\\.conda\\envs\\qudityPAN\\lib\\site-packages\\qiskit\\pulse\\calibration_entries.py:337: UserWarning: Pulse calibration cannot be built and the entry is ignored: Instruction QId_d17 on channel d17 is not found in Qiskit namespace. This instruction cannot be deserialized..\n",
      "  warnings.warn(\n",
      "C:\\Users\\szymon\\.conda\\envs\\qudityPAN\\lib\\site-packages\\qiskit\\pulse\\calibration_entries.py:337: UserWarning: Pulse calibration cannot be built and the entry is ignored: Instruction QId_d18 on channel d18 is not found in Qiskit namespace. This instruction cannot be deserialized..\n",
      "  warnings.warn(\n",
      "C:\\Users\\szymon\\.conda\\envs\\qudityPAN\\lib\\site-packages\\qiskit\\pulse\\calibration_entries.py:337: UserWarning: Pulse calibration cannot be built and the entry is ignored: Instruction QId_d19 on channel d19 is not found in Qiskit namespace. This instruction cannot be deserialized..\n",
      "  warnings.warn(\n",
      "C:\\Users\\szymon\\.conda\\envs\\qudityPAN\\lib\\site-packages\\qiskit\\pulse\\calibration_entries.py:337: UserWarning: Pulse calibration cannot be built and the entry is ignored: Instruction QId_d20 on channel d20 is not found in Qiskit namespace. This instruction cannot be deserialized..\n",
      "  warnings.warn(\n",
      "C:\\Users\\szymon\\.conda\\envs\\qudityPAN\\lib\\site-packages\\qiskit\\pulse\\calibration_entries.py:337: UserWarning: Pulse calibration cannot be built and the entry is ignored: Instruction QId_d21 on channel d21 is not found in Qiskit namespace. This instruction cannot be deserialized..\n",
      "  warnings.warn(\n",
      "C:\\Users\\szymon\\.conda\\envs\\qudityPAN\\lib\\site-packages\\qiskit\\pulse\\calibration_entries.py:337: UserWarning: Pulse calibration cannot be built and the entry is ignored: Instruction QId_d22 on channel d22 is not found in Qiskit namespace. This instruction cannot be deserialized..\n",
      "  warnings.warn(\n",
      "C:\\Users\\szymon\\.conda\\envs\\qudityPAN\\lib\\site-packages\\qiskit\\pulse\\calibration_entries.py:337: UserWarning: Pulse calibration cannot be built and the entry is ignored: Instruction QId_d23 on channel d23 is not found in Qiskit namespace. This instruction cannot be deserialized..\n",
      "  warnings.warn(\n",
      "C:\\Users\\szymon\\.conda\\envs\\qudityPAN\\lib\\site-packages\\qiskit\\pulse\\calibration_entries.py:337: UserWarning: Pulse calibration cannot be built and the entry is ignored: Instruction QId_d24 on channel d24 is not found in Qiskit namespace. This instruction cannot be deserialized..\n",
      "  warnings.warn(\n",
      "C:\\Users\\szymon\\.conda\\envs\\qudityPAN\\lib\\site-packages\\qiskit\\pulse\\calibration_entries.py:337: UserWarning: Pulse calibration cannot be built and the entry is ignored: Instruction QId_d25 on channel d25 is not found in Qiskit namespace. This instruction cannot be deserialized..\n",
      "  warnings.warn(\n",
      "C:\\Users\\szymon\\.conda\\envs\\qudityPAN\\lib\\site-packages\\qiskit\\pulse\\calibration_entries.py:337: UserWarning: Pulse calibration cannot be built and the entry is ignored: Instruction QId_d26 on channel d26 is not found in Qiskit namespace. This instruction cannot be deserialized..\n",
      "  warnings.warn(\n",
      "C:\\Users\\szymon\\.conda\\envs\\qudityPAN\\lib\\site-packages\\qiskit\\pulse\\calibration_entries.py:337: UserWarning: Pulse calibration cannot be built and the entry is ignored: Instruction QId_d27 on channel d27 is not found in Qiskit namespace. This instruction cannot be deserialized..\n",
      "  warnings.warn(\n",
      "C:\\Users\\szymon\\.conda\\envs\\qudityPAN\\lib\\site-packages\\qiskit\\pulse\\calibration_entries.py:337: UserWarning: Pulse calibration cannot be built and the entry is ignored: Instruction QId_d28 on channel d28 is not found in Qiskit namespace. This instruction cannot be deserialized..\n",
      "  warnings.warn(\n",
      "C:\\Users\\szymon\\.conda\\envs\\qudityPAN\\lib\\site-packages\\qiskit\\pulse\\calibration_entries.py:337: UserWarning: Pulse calibration cannot be built and the entry is ignored: Instruction QId_d29 on channel d29 is not found in Qiskit namespace. This instruction cannot be deserialized..\n",
      "  warnings.warn(\n",
      "C:\\Users\\szymon\\.conda\\envs\\qudityPAN\\lib\\site-packages\\qiskit\\pulse\\calibration_entries.py:337: UserWarning: Pulse calibration cannot be built and the entry is ignored: Instruction QId_d30 on channel d30 is not found in Qiskit namespace. This instruction cannot be deserialized..\n",
      "  warnings.warn(\n",
      "C:\\Users\\szymon\\.conda\\envs\\qudityPAN\\lib\\site-packages\\qiskit\\pulse\\calibration_entries.py:337: UserWarning: Pulse calibration cannot be built and the entry is ignored: Instruction QId_d31 on channel d31 is not found in Qiskit namespace. This instruction cannot be deserialized..\n",
      "  warnings.warn(\n",
      "C:\\Users\\szymon\\.conda\\envs\\qudityPAN\\lib\\site-packages\\qiskit\\pulse\\calibration_entries.py:337: UserWarning: Pulse calibration cannot be built and the entry is ignored: Instruction QId_d32 on channel d32 is not found in Qiskit namespace. This instruction cannot be deserialized..\n",
      "  warnings.warn(\n",
      "C:\\Users\\szymon\\.conda\\envs\\qudityPAN\\lib\\site-packages\\qiskit\\pulse\\calibration_entries.py:337: UserWarning: Pulse calibration cannot be built and the entry is ignored: Instruction QId_d33 on channel d33 is not found in Qiskit namespace. This instruction cannot be deserialized..\n",
      "  warnings.warn(\n",
      "C:\\Users\\szymon\\.conda\\envs\\qudityPAN\\lib\\site-packages\\qiskit\\pulse\\calibration_entries.py:337: UserWarning: Pulse calibration cannot be built and the entry is ignored: Instruction QId_d34 on channel d34 is not found in Qiskit namespace. This instruction cannot be deserialized..\n",
      "  warnings.warn(\n",
      "C:\\Users\\szymon\\.conda\\envs\\qudityPAN\\lib\\site-packages\\qiskit\\pulse\\calibration_entries.py:337: UserWarning: Pulse calibration cannot be built and the entry is ignored: Instruction QId_d35 on channel d35 is not found in Qiskit namespace. This instruction cannot be deserialized..\n",
      "  warnings.warn(\n",
      "C:\\Users\\szymon\\.conda\\envs\\qudityPAN\\lib\\site-packages\\qiskit\\pulse\\calibration_entries.py:337: UserWarning: Pulse calibration cannot be built and the entry is ignored: Instruction QId_d36 on channel d36 is not found in Qiskit namespace. This instruction cannot be deserialized..\n",
      "  warnings.warn(\n",
      "C:\\Users\\szymon\\.conda\\envs\\qudityPAN\\lib\\site-packages\\qiskit\\pulse\\calibration_entries.py:337: UserWarning: Pulse calibration cannot be built and the entry is ignored: Instruction QId_d37 on channel d37 is not found in Qiskit namespace. This instruction cannot be deserialized..\n",
      "  warnings.warn(\n",
      "C:\\Users\\szymon\\.conda\\envs\\qudityPAN\\lib\\site-packages\\qiskit\\pulse\\calibration_entries.py:337: UserWarning: Pulse calibration cannot be built and the entry is ignored: Instruction QId_d38 on channel d38 is not found in Qiskit namespace. This instruction cannot be deserialized..\n",
      "  warnings.warn(\n",
      "C:\\Users\\szymon\\.conda\\envs\\qudityPAN\\lib\\site-packages\\qiskit\\pulse\\calibration_entries.py:337: UserWarning: Pulse calibration cannot be built and the entry is ignored: Instruction QId_d39 on channel d39 is not found in Qiskit namespace. This instruction cannot be deserialized..\n",
      "  warnings.warn(\n",
      "C:\\Users\\szymon\\.conda\\envs\\qudityPAN\\lib\\site-packages\\qiskit\\pulse\\calibration_entries.py:337: UserWarning: Pulse calibration cannot be built and the entry is ignored: Instruction QId_d40 on channel d40 is not found in Qiskit namespace. This instruction cannot be deserialized..\n",
      "  warnings.warn(\n",
      "C:\\Users\\szymon\\.conda\\envs\\qudityPAN\\lib\\site-packages\\qiskit\\pulse\\calibration_entries.py:337: UserWarning: Pulse calibration cannot be built and the entry is ignored: Instruction QId_d41 on channel d41 is not found in Qiskit namespace. This instruction cannot be deserialized..\n",
      "  warnings.warn(\n",
      "C:\\Users\\szymon\\.conda\\envs\\qudityPAN\\lib\\site-packages\\qiskit\\pulse\\calibration_entries.py:337: UserWarning: Pulse calibration cannot be built and the entry is ignored: Instruction QId_d42 on channel d42 is not found in Qiskit namespace. This instruction cannot be deserialized..\n",
      "  warnings.warn(\n",
      "C:\\Users\\szymon\\.conda\\envs\\qudityPAN\\lib\\site-packages\\qiskit\\pulse\\calibration_entries.py:337: UserWarning: Pulse calibration cannot be built and the entry is ignored: Instruction QId_d43 on channel d43 is not found in Qiskit namespace. This instruction cannot be deserialized..\n",
      "  warnings.warn(\n",
      "C:\\Users\\szymon\\.conda\\envs\\qudityPAN\\lib\\site-packages\\qiskit\\pulse\\calibration_entries.py:337: UserWarning: Pulse calibration cannot be built and the entry is ignored: Instruction QId_d44 on channel d44 is not found in Qiskit namespace. This instruction cannot be deserialized..\n",
      "  warnings.warn(\n",
      "C:\\Users\\szymon\\.conda\\envs\\qudityPAN\\lib\\site-packages\\qiskit\\pulse\\calibration_entries.py:337: UserWarning: Pulse calibration cannot be built and the entry is ignored: Instruction QId_d45 on channel d45 is not found in Qiskit namespace. This instruction cannot be deserialized..\n",
      "  warnings.warn(\n",
      "C:\\Users\\szymon\\.conda\\envs\\qudityPAN\\lib\\site-packages\\qiskit\\pulse\\calibration_entries.py:337: UserWarning: Pulse calibration cannot be built and the entry is ignored: Instruction QId_d46 on channel d46 is not found in Qiskit namespace. This instruction cannot be deserialized..\n",
      "  warnings.warn(\n",
      "C:\\Users\\szymon\\.conda\\envs\\qudityPAN\\lib\\site-packages\\qiskit\\pulse\\calibration_entries.py:337: UserWarning: Pulse calibration cannot be built and the entry is ignored: Instruction QId_d47 on channel d47 is not found in Qiskit namespace. This instruction cannot be deserialized..\n",
      "  warnings.warn(\n",
      "C:\\Users\\szymon\\.conda\\envs\\qudityPAN\\lib\\site-packages\\qiskit\\pulse\\calibration_entries.py:337: UserWarning: Pulse calibration cannot be built and the entry is ignored: Instruction QId_d48 on channel d48 is not found in Qiskit namespace. This instruction cannot be deserialized..\n",
      "  warnings.warn(\n",
      "C:\\Users\\szymon\\.conda\\envs\\qudityPAN\\lib\\site-packages\\qiskit\\pulse\\calibration_entries.py:337: UserWarning: Pulse calibration cannot be built and the entry is ignored: Instruction QId_d49 on channel d49 is not found in Qiskit namespace. This instruction cannot be deserialized..\n",
      "  warnings.warn(\n",
      "C:\\Users\\szymon\\.conda\\envs\\qudityPAN\\lib\\site-packages\\qiskit\\pulse\\calibration_entries.py:337: UserWarning: Pulse calibration cannot be built and the entry is ignored: Instruction QId_d50 on channel d50 is not found in Qiskit namespace. This instruction cannot be deserialized..\n",
      "  warnings.warn(\n",
      "C:\\Users\\szymon\\.conda\\envs\\qudityPAN\\lib\\site-packages\\qiskit\\pulse\\calibration_entries.py:337: UserWarning: Pulse calibration cannot be built and the entry is ignored: Instruction QId_d51 on channel d51 is not found in Qiskit namespace. This instruction cannot be deserialized..\n",
      "  warnings.warn(\n",
      "C:\\Users\\szymon\\.conda\\envs\\qudityPAN\\lib\\site-packages\\qiskit\\pulse\\calibration_entries.py:337: UserWarning: Pulse calibration cannot be built and the entry is ignored: Instruction QId_d52 on channel d52 is not found in Qiskit namespace. This instruction cannot be deserialized..\n",
      "  warnings.warn(\n",
      "C:\\Users\\szymon\\.conda\\envs\\qudityPAN\\lib\\site-packages\\qiskit\\pulse\\calibration_entries.py:337: UserWarning: Pulse calibration cannot be built and the entry is ignored: Instruction QId_d53 on channel d53 is not found in Qiskit namespace. This instruction cannot be deserialized..\n",
      "  warnings.warn(\n",
      "C:\\Users\\szymon\\.conda\\envs\\qudityPAN\\lib\\site-packages\\qiskit\\pulse\\calibration_entries.py:337: UserWarning: Pulse calibration cannot be built and the entry is ignored: Instruction QId_d54 on channel d54 is not found in Qiskit namespace. This instruction cannot be deserialized..\n",
      "  warnings.warn(\n",
      "C:\\Users\\szymon\\.conda\\envs\\qudityPAN\\lib\\site-packages\\qiskit\\pulse\\calibration_entries.py:337: UserWarning: Pulse calibration cannot be built and the entry is ignored: Instruction QId_d55 on channel d55 is not found in Qiskit namespace. This instruction cannot be deserialized..\n",
      "  warnings.warn(\n",
      "C:\\Users\\szymon\\.conda\\envs\\qudityPAN\\lib\\site-packages\\qiskit\\pulse\\calibration_entries.py:337: UserWarning: Pulse calibration cannot be built and the entry is ignored: Instruction QId_d56 on channel d56 is not found in Qiskit namespace. This instruction cannot be deserialized..\n",
      "  warnings.warn(\n",
      "C:\\Users\\szymon\\.conda\\envs\\qudityPAN\\lib\\site-packages\\qiskit\\pulse\\calibration_entries.py:337: UserWarning: Pulse calibration cannot be built and the entry is ignored: Instruction QId_d57 on channel d57 is not found in Qiskit namespace. This instruction cannot be deserialized..\n",
      "  warnings.warn(\n",
      "C:\\Users\\szymon\\.conda\\envs\\qudityPAN\\lib\\site-packages\\qiskit\\pulse\\calibration_entries.py:337: UserWarning: Pulse calibration cannot be built and the entry is ignored: Instruction QId_d58 on channel d58 is not found in Qiskit namespace. This instruction cannot be deserialized..\n",
      "  warnings.warn(\n",
      "C:\\Users\\szymon\\.conda\\envs\\qudityPAN\\lib\\site-packages\\qiskit\\pulse\\calibration_entries.py:337: UserWarning: Pulse calibration cannot be built and the entry is ignored: Instruction QId_d59 on channel d59 is not found in Qiskit namespace. This instruction cannot be deserialized..\n",
      "  warnings.warn(\n",
      "C:\\Users\\szymon\\.conda\\envs\\qudityPAN\\lib\\site-packages\\qiskit\\pulse\\calibration_entries.py:337: UserWarning: Pulse calibration cannot be built and the entry is ignored: Instruction QId_d60 on channel d60 is not found in Qiskit namespace. This instruction cannot be deserialized..\n",
      "  warnings.warn(\n",
      "C:\\Users\\szymon\\.conda\\envs\\qudityPAN\\lib\\site-packages\\qiskit\\pulse\\calibration_entries.py:337: UserWarning: Pulse calibration cannot be built and the entry is ignored: Instruction QId_d61 on channel d61 is not found in Qiskit namespace. This instruction cannot be deserialized..\n",
      "  warnings.warn(\n",
      "C:\\Users\\szymon\\.conda\\envs\\qudityPAN\\lib\\site-packages\\qiskit\\pulse\\calibration_entries.py:337: UserWarning: Pulse calibration cannot be built and the entry is ignored: Instruction QId_d62 on channel d62 is not found in Qiskit namespace. This instruction cannot be deserialized..\n",
      "  warnings.warn(\n",
      "C:\\Users\\szymon\\.conda\\envs\\qudityPAN\\lib\\site-packages\\qiskit\\pulse\\calibration_entries.py:337: UserWarning: Pulse calibration cannot be built and the entry is ignored: Instruction QId_d63 on channel d63 is not found in Qiskit namespace. This instruction cannot be deserialized..\n",
      "  warnings.warn(\n",
      "C:\\Users\\szymon\\.conda\\envs\\qudityPAN\\lib\\site-packages\\qiskit\\pulse\\calibration_entries.py:337: UserWarning: Pulse calibration cannot be built and the entry is ignored: Instruction QId_d64 on channel d64 is not found in Qiskit namespace. This instruction cannot be deserialized..\n",
      "  warnings.warn(\n",
      "C:\\Users\\szymon\\.conda\\envs\\qudityPAN\\lib\\site-packages\\qiskit\\pulse\\calibration_entries.py:337: UserWarning: Pulse calibration cannot be built and the entry is ignored: Instruction QId_d65 on channel d65 is not found in Qiskit namespace. This instruction cannot be deserialized..\n",
      "  warnings.warn(\n",
      "C:\\Users\\szymon\\.conda\\envs\\qudityPAN\\lib\\site-packages\\qiskit\\pulse\\calibration_entries.py:337: UserWarning: Pulse calibration cannot be built and the entry is ignored: Instruction QId_d66 on channel d66 is not found in Qiskit namespace. This instruction cannot be deserialized..\n",
      "  warnings.warn(\n",
      "C:\\Users\\szymon\\.conda\\envs\\qudityPAN\\lib\\site-packages\\qiskit\\pulse\\calibration_entries.py:337: UserWarning: Pulse calibration cannot be built and the entry is ignored: Instruction QId_d67 on channel d67 is not found in Qiskit namespace. This instruction cannot be deserialized..\n",
      "  warnings.warn(\n",
      "C:\\Users\\szymon\\.conda\\envs\\qudityPAN\\lib\\site-packages\\qiskit\\pulse\\calibration_entries.py:337: UserWarning: Pulse calibration cannot be built and the entry is ignored: Instruction QId_d68 on channel d68 is not found in Qiskit namespace. This instruction cannot be deserialized..\n",
      "  warnings.warn(\n",
      "C:\\Users\\szymon\\.conda\\envs\\qudityPAN\\lib\\site-packages\\qiskit\\pulse\\calibration_entries.py:337: UserWarning: Pulse calibration cannot be built and the entry is ignored: Instruction QId_d69 on channel d69 is not found in Qiskit namespace. This instruction cannot be deserialized..\n",
      "  warnings.warn(\n",
      "C:\\Users\\szymon\\.conda\\envs\\qudityPAN\\lib\\site-packages\\qiskit\\pulse\\calibration_entries.py:337: UserWarning: Pulse calibration cannot be built and the entry is ignored: Instruction QId_d70 on channel d70 is not found in Qiskit namespace. This instruction cannot be deserialized..\n",
      "  warnings.warn(\n",
      "C:\\Users\\szymon\\.conda\\envs\\qudityPAN\\lib\\site-packages\\qiskit\\pulse\\calibration_entries.py:337: UserWarning: Pulse calibration cannot be built and the entry is ignored: Instruction QId_d71 on channel d71 is not found in Qiskit namespace. This instruction cannot be deserialized..\n",
      "  warnings.warn(\n",
      "C:\\Users\\szymon\\.conda\\envs\\qudityPAN\\lib\\site-packages\\qiskit\\pulse\\calibration_entries.py:337: UserWarning: Pulse calibration cannot be built and the entry is ignored: Instruction QId_d72 on channel d72 is not found in Qiskit namespace. This instruction cannot be deserialized..\n",
      "  warnings.warn(\n",
      "C:\\Users\\szymon\\.conda\\envs\\qudityPAN\\lib\\site-packages\\qiskit\\pulse\\calibration_entries.py:337: UserWarning: Pulse calibration cannot be built and the entry is ignored: Instruction QId_d73 on channel d73 is not found in Qiskit namespace. This instruction cannot be deserialized..\n",
      "  warnings.warn(\n",
      "C:\\Users\\szymon\\.conda\\envs\\qudityPAN\\lib\\site-packages\\qiskit\\pulse\\calibration_entries.py:337: UserWarning: Pulse calibration cannot be built and the entry is ignored: Instruction QId_d74 on channel d74 is not found in Qiskit namespace. This instruction cannot be deserialized..\n",
      "  warnings.warn(\n",
      "C:\\Users\\szymon\\.conda\\envs\\qudityPAN\\lib\\site-packages\\qiskit\\pulse\\calibration_entries.py:337: UserWarning: Pulse calibration cannot be built and the entry is ignored: Instruction QId_d75 on channel d75 is not found in Qiskit namespace. This instruction cannot be deserialized..\n",
      "  warnings.warn(\n",
      "C:\\Users\\szymon\\.conda\\envs\\qudityPAN\\lib\\site-packages\\qiskit\\pulse\\calibration_entries.py:337: UserWarning: Pulse calibration cannot be built and the entry is ignored: Instruction QId_d76 on channel d76 is not found in Qiskit namespace. This instruction cannot be deserialized..\n",
      "  warnings.warn(\n",
      "C:\\Users\\szymon\\.conda\\envs\\qudityPAN\\lib\\site-packages\\qiskit\\pulse\\calibration_entries.py:337: UserWarning: Pulse calibration cannot be built and the entry is ignored: Instruction QId_d77 on channel d77 is not found in Qiskit namespace. This instruction cannot be deserialized..\n",
      "  warnings.warn(\n",
      "C:\\Users\\szymon\\.conda\\envs\\qudityPAN\\lib\\site-packages\\qiskit\\pulse\\calibration_entries.py:337: UserWarning: Pulse calibration cannot be built and the entry is ignored: Instruction QId_d78 on channel d78 is not found in Qiskit namespace. This instruction cannot be deserialized..\n",
      "  warnings.warn(\n",
      "C:\\Users\\szymon\\.conda\\envs\\qudityPAN\\lib\\site-packages\\qiskit\\pulse\\calibration_entries.py:337: UserWarning: Pulse calibration cannot be built and the entry is ignored: Instruction QId_d79 on channel d79 is not found in Qiskit namespace. This instruction cannot be deserialized..\n",
      "  warnings.warn(\n",
      "C:\\Users\\szymon\\.conda\\envs\\qudityPAN\\lib\\site-packages\\qiskit\\pulse\\calibration_entries.py:337: UserWarning: Pulse calibration cannot be built and the entry is ignored: Instruction QId_d80 on channel d80 is not found in Qiskit namespace. This instruction cannot be deserialized..\n",
      "  warnings.warn(\n",
      "C:\\Users\\szymon\\.conda\\envs\\qudityPAN\\lib\\site-packages\\qiskit\\pulse\\calibration_entries.py:337: UserWarning: Pulse calibration cannot be built and the entry is ignored: Instruction QId_d81 on channel d81 is not found in Qiskit namespace. This instruction cannot be deserialized..\n",
      "  warnings.warn(\n",
      "C:\\Users\\szymon\\.conda\\envs\\qudityPAN\\lib\\site-packages\\qiskit\\pulse\\calibration_entries.py:337: UserWarning: Pulse calibration cannot be built and the entry is ignored: Instruction QId_d82 on channel d82 is not found in Qiskit namespace. This instruction cannot be deserialized..\n",
      "  warnings.warn(\n",
      "C:\\Users\\szymon\\.conda\\envs\\qudityPAN\\lib\\site-packages\\qiskit\\pulse\\calibration_entries.py:337: UserWarning: Pulse calibration cannot be built and the entry is ignored: Instruction QId_d83 on channel d83 is not found in Qiskit namespace. This instruction cannot be deserialized..\n",
      "  warnings.warn(\n",
      "C:\\Users\\szymon\\.conda\\envs\\qudityPAN\\lib\\site-packages\\qiskit\\pulse\\calibration_entries.py:337: UserWarning: Pulse calibration cannot be built and the entry is ignored: Instruction QId_d84 on channel d84 is not found in Qiskit namespace. This instruction cannot be deserialized..\n",
      "  warnings.warn(\n",
      "C:\\Users\\szymon\\.conda\\envs\\qudityPAN\\lib\\site-packages\\qiskit\\pulse\\calibration_entries.py:337: UserWarning: Pulse calibration cannot be built and the entry is ignored: Instruction QId_d85 on channel d85 is not found in Qiskit namespace. This instruction cannot be deserialized..\n",
      "  warnings.warn(\n",
      "C:\\Users\\szymon\\.conda\\envs\\qudityPAN\\lib\\site-packages\\qiskit\\pulse\\calibration_entries.py:337: UserWarning: Pulse calibration cannot be built and the entry is ignored: Instruction QId_d86 on channel d86 is not found in Qiskit namespace. This instruction cannot be deserialized..\n",
      "  warnings.warn(\n",
      "C:\\Users\\szymon\\.conda\\envs\\qudityPAN\\lib\\site-packages\\qiskit\\pulse\\calibration_entries.py:337: UserWarning: Pulse calibration cannot be built and the entry is ignored: Instruction QId_d87 on channel d87 is not found in Qiskit namespace. This instruction cannot be deserialized..\n",
      "  warnings.warn(\n",
      "C:\\Users\\szymon\\.conda\\envs\\qudityPAN\\lib\\site-packages\\qiskit\\pulse\\calibration_entries.py:337: UserWarning: Pulse calibration cannot be built and the entry is ignored: Instruction QId_d88 on channel d88 is not found in Qiskit namespace. This instruction cannot be deserialized..\n",
      "  warnings.warn(\n",
      "C:\\Users\\szymon\\.conda\\envs\\qudityPAN\\lib\\site-packages\\qiskit\\pulse\\calibration_entries.py:337: UserWarning: Pulse calibration cannot be built and the entry is ignored: Instruction QId_d89 on channel d89 is not found in Qiskit namespace. This instruction cannot be deserialized..\n",
      "  warnings.warn(\n",
      "C:\\Users\\szymon\\.conda\\envs\\qudityPAN\\lib\\site-packages\\qiskit\\pulse\\calibration_entries.py:337: UserWarning: Pulse calibration cannot be built and the entry is ignored: Instruction QId_d90 on channel d90 is not found in Qiskit namespace. This instruction cannot be deserialized..\n",
      "  warnings.warn(\n",
      "C:\\Users\\szymon\\.conda\\envs\\qudityPAN\\lib\\site-packages\\qiskit\\pulse\\calibration_entries.py:337: UserWarning: Pulse calibration cannot be built and the entry is ignored: Instruction QId_d91 on channel d91 is not found in Qiskit namespace. This instruction cannot be deserialized..\n",
      "  warnings.warn(\n",
      "C:\\Users\\szymon\\.conda\\envs\\qudityPAN\\lib\\site-packages\\qiskit\\pulse\\calibration_entries.py:337: UserWarning: Pulse calibration cannot be built and the entry is ignored: Instruction QId_d92 on channel d92 is not found in Qiskit namespace. This instruction cannot be deserialized..\n",
      "  warnings.warn(\n",
      "C:\\Users\\szymon\\.conda\\envs\\qudityPAN\\lib\\site-packages\\qiskit\\pulse\\calibration_entries.py:337: UserWarning: Pulse calibration cannot be built and the entry is ignored: Instruction QId_d93 on channel d93 is not found in Qiskit namespace. This instruction cannot be deserialized..\n",
      "  warnings.warn(\n",
      "C:\\Users\\szymon\\.conda\\envs\\qudityPAN\\lib\\site-packages\\qiskit\\pulse\\calibration_entries.py:337: UserWarning: Pulse calibration cannot be built and the entry is ignored: Instruction QId_d94 on channel d94 is not found in Qiskit namespace. This instruction cannot be deserialized..\n",
      "  warnings.warn(\n",
      "C:\\Users\\szymon\\.conda\\envs\\qudityPAN\\lib\\site-packages\\qiskit\\pulse\\calibration_entries.py:337: UserWarning: Pulse calibration cannot be built and the entry is ignored: Instruction QId_d95 on channel d95 is not found in Qiskit namespace. This instruction cannot be deserialized..\n",
      "  warnings.warn(\n",
      "C:\\Users\\szymon\\.conda\\envs\\qudityPAN\\lib\\site-packages\\qiskit\\pulse\\calibration_entries.py:337: UserWarning: Pulse calibration cannot be built and the entry is ignored: Instruction QId_d96 on channel d96 is not found in Qiskit namespace. This instruction cannot be deserialized..\n",
      "  warnings.warn(\n",
      "C:\\Users\\szymon\\.conda\\envs\\qudityPAN\\lib\\site-packages\\qiskit\\pulse\\calibration_entries.py:337: UserWarning: Pulse calibration cannot be built and the entry is ignored: Instruction QId_d97 on channel d97 is not found in Qiskit namespace. This instruction cannot be deserialized..\n",
      "  warnings.warn(\n",
      "C:\\Users\\szymon\\.conda\\envs\\qudityPAN\\lib\\site-packages\\qiskit\\pulse\\calibration_entries.py:337: UserWarning: Pulse calibration cannot be built and the entry is ignored: Instruction QId_d98 on channel d98 is not found in Qiskit namespace. This instruction cannot be deserialized..\n",
      "  warnings.warn(\n",
      "C:\\Users\\szymon\\.conda\\envs\\qudityPAN\\lib\\site-packages\\qiskit\\pulse\\calibration_entries.py:337: UserWarning: Pulse calibration cannot be built and the entry is ignored: Instruction QId_d99 on channel d99 is not found in Qiskit namespace. This instruction cannot be deserialized..\n",
      "  warnings.warn(\n",
      "C:\\Users\\szymon\\.conda\\envs\\qudityPAN\\lib\\site-packages\\qiskit\\pulse\\calibration_entries.py:337: UserWarning: Pulse calibration cannot be built and the entry is ignored: Instruction QId_d100 on channel d100 is not found in Qiskit namespace. This instruction cannot be deserialized..\n",
      "  warnings.warn(\n",
      "C:\\Users\\szymon\\.conda\\envs\\qudityPAN\\lib\\site-packages\\qiskit\\pulse\\calibration_entries.py:337: UserWarning: Pulse calibration cannot be built and the entry is ignored: Instruction QId_d101 on channel d101 is not found in Qiskit namespace. This instruction cannot be deserialized..\n",
      "  warnings.warn(\n",
      "C:\\Users\\szymon\\.conda\\envs\\qudityPAN\\lib\\site-packages\\qiskit\\pulse\\calibration_entries.py:337: UserWarning: Pulse calibration cannot be built and the entry is ignored: Instruction QId_d102 on channel d102 is not found in Qiskit namespace. This instruction cannot be deserialized..\n",
      "  warnings.warn(\n",
      "C:\\Users\\szymon\\.conda\\envs\\qudityPAN\\lib\\site-packages\\qiskit\\pulse\\calibration_entries.py:337: UserWarning: Pulse calibration cannot be built and the entry is ignored: Instruction QId_d103 on channel d103 is not found in Qiskit namespace. This instruction cannot be deserialized..\n",
      "  warnings.warn(\n",
      "C:\\Users\\szymon\\.conda\\envs\\qudityPAN\\lib\\site-packages\\qiskit\\pulse\\calibration_entries.py:337: UserWarning: Pulse calibration cannot be built and the entry is ignored: Instruction QId_d104 on channel d104 is not found in Qiskit namespace. This instruction cannot be deserialized..\n",
      "  warnings.warn(\n",
      "C:\\Users\\szymon\\.conda\\envs\\qudityPAN\\lib\\site-packages\\qiskit\\pulse\\calibration_entries.py:337: UserWarning: Pulse calibration cannot be built and the entry is ignored: Instruction QId_d105 on channel d105 is not found in Qiskit namespace. This instruction cannot be deserialized..\n",
      "  warnings.warn(\n",
      "C:\\Users\\szymon\\.conda\\envs\\qudityPAN\\lib\\site-packages\\qiskit\\pulse\\calibration_entries.py:337: UserWarning: Pulse calibration cannot be built and the entry is ignored: Instruction QId_d106 on channel d106 is not found in Qiskit namespace. This instruction cannot be deserialized..\n",
      "  warnings.warn(\n",
      "C:\\Users\\szymon\\.conda\\envs\\qudityPAN\\lib\\site-packages\\qiskit\\pulse\\calibration_entries.py:337: UserWarning: Pulse calibration cannot be built and the entry is ignored: Instruction QId_d107 on channel d107 is not found in Qiskit namespace. This instruction cannot be deserialized..\n",
      "  warnings.warn(\n",
      "C:\\Users\\szymon\\.conda\\envs\\qudityPAN\\lib\\site-packages\\qiskit\\pulse\\calibration_entries.py:337: UserWarning: Pulse calibration cannot be built and the entry is ignored: Instruction QId_d108 on channel d108 is not found in Qiskit namespace. This instruction cannot be deserialized..\n",
      "  warnings.warn(\n",
      "C:\\Users\\szymon\\.conda\\envs\\qudityPAN\\lib\\site-packages\\qiskit\\pulse\\calibration_entries.py:337: UserWarning: Pulse calibration cannot be built and the entry is ignored: Instruction QId_d109 on channel d109 is not found in Qiskit namespace. This instruction cannot be deserialized..\n",
      "  warnings.warn(\n",
      "C:\\Users\\szymon\\.conda\\envs\\qudityPAN\\lib\\site-packages\\qiskit\\pulse\\calibration_entries.py:337: UserWarning: Pulse calibration cannot be built and the entry is ignored: Instruction QId_d110 on channel d110 is not found in Qiskit namespace. This instruction cannot be deserialized..\n",
      "  warnings.warn(\n",
      "C:\\Users\\szymon\\.conda\\envs\\qudityPAN\\lib\\site-packages\\qiskit\\pulse\\calibration_entries.py:337: UserWarning: Pulse calibration cannot be built and the entry is ignored: Instruction QId_d111 on channel d111 is not found in Qiskit namespace. This instruction cannot be deserialized..\n",
      "  warnings.warn(\n",
      "C:\\Users\\szymon\\.conda\\envs\\qudityPAN\\lib\\site-packages\\qiskit\\pulse\\calibration_entries.py:337: UserWarning: Pulse calibration cannot be built and the entry is ignored: Instruction QId_d112 on channel d112 is not found in Qiskit namespace. This instruction cannot be deserialized..\n",
      "  warnings.warn(\n",
      "C:\\Users\\szymon\\.conda\\envs\\qudityPAN\\lib\\site-packages\\qiskit\\pulse\\calibration_entries.py:337: UserWarning: Pulse calibration cannot be built and the entry is ignored: Instruction QId_d113 on channel d113 is not found in Qiskit namespace. This instruction cannot be deserialized..\n",
      "  warnings.warn(\n",
      "C:\\Users\\szymon\\.conda\\envs\\qudityPAN\\lib\\site-packages\\qiskit\\pulse\\calibration_entries.py:337: UserWarning: Pulse calibration cannot be built and the entry is ignored: Instruction QId_d114 on channel d114 is not found in Qiskit namespace. This instruction cannot be deserialized..\n",
      "  warnings.warn(\n",
      "C:\\Users\\szymon\\.conda\\envs\\qudityPAN\\lib\\site-packages\\qiskit\\pulse\\calibration_entries.py:337: UserWarning: Pulse calibration cannot be built and the entry is ignored: Instruction QId_d115 on channel d115 is not found in Qiskit namespace. This instruction cannot be deserialized..\n",
      "  warnings.warn(\n",
      "C:\\Users\\szymon\\.conda\\envs\\qudityPAN\\lib\\site-packages\\qiskit\\pulse\\calibration_entries.py:337: UserWarning: Pulse calibration cannot be built and the entry is ignored: Instruction QId_d116 on channel d116 is not found in Qiskit namespace. This instruction cannot be deserialized..\n",
      "  warnings.warn(\n",
      "C:\\Users\\szymon\\.conda\\envs\\qudityPAN\\lib\\site-packages\\qiskit\\pulse\\calibration_entries.py:337: UserWarning: Pulse calibration cannot be built and the entry is ignored: Instruction QId_d117 on channel d117 is not found in Qiskit namespace. This instruction cannot be deserialized..\n",
      "  warnings.warn(\n",
      "C:\\Users\\szymon\\.conda\\envs\\qudityPAN\\lib\\site-packages\\qiskit\\pulse\\calibration_entries.py:337: UserWarning: Pulse calibration cannot be built and the entry is ignored: Instruction QId_d118 on channel d118 is not found in Qiskit namespace. This instruction cannot be deserialized..\n",
      "  warnings.warn(\n",
      "C:\\Users\\szymon\\.conda\\envs\\qudityPAN\\lib\\site-packages\\qiskit\\pulse\\calibration_entries.py:337: UserWarning: Pulse calibration cannot be built and the entry is ignored: Instruction QId_d119 on channel d119 is not found in Qiskit namespace. This instruction cannot be deserialized..\n",
      "  warnings.warn(\n",
      "C:\\Users\\szymon\\.conda\\envs\\qudityPAN\\lib\\site-packages\\qiskit\\pulse\\calibration_entries.py:337: UserWarning: Pulse calibration cannot be built and the entry is ignored: Instruction QId_d120 on channel d120 is not found in Qiskit namespace. This instruction cannot be deserialized..\n",
      "  warnings.warn(\n",
      "C:\\Users\\szymon\\.conda\\envs\\qudityPAN\\lib\\site-packages\\qiskit\\pulse\\calibration_entries.py:337: UserWarning: Pulse calibration cannot be built and the entry is ignored: Instruction QId_d121 on channel d121 is not found in Qiskit namespace. This instruction cannot be deserialized..\n",
      "  warnings.warn(\n",
      "C:\\Users\\szymon\\.conda\\envs\\qudityPAN\\lib\\site-packages\\qiskit\\pulse\\calibration_entries.py:337: UserWarning: Pulse calibration cannot be built and the entry is ignored: Instruction QId_d122 on channel d122 is not found in Qiskit namespace. This instruction cannot be deserialized..\n",
      "  warnings.warn(\n",
      "C:\\Users\\szymon\\.conda\\envs\\qudityPAN\\lib\\site-packages\\qiskit\\pulse\\calibration_entries.py:337: UserWarning: Pulse calibration cannot be built and the entry is ignored: Instruction QId_d123 on channel d123 is not found in Qiskit namespace. This instruction cannot be deserialized..\n",
      "  warnings.warn(\n",
      "C:\\Users\\szymon\\.conda\\envs\\qudityPAN\\lib\\site-packages\\qiskit\\pulse\\calibration_entries.py:337: UserWarning: Pulse calibration cannot be built and the entry is ignored: Instruction QId_d124 on channel d124 is not found in Qiskit namespace. This instruction cannot be deserialized..\n",
      "  warnings.warn(\n",
      "C:\\Users\\szymon\\.conda\\envs\\qudityPAN\\lib\\site-packages\\qiskit\\pulse\\calibration_entries.py:337: UserWarning: Pulse calibration cannot be built and the entry is ignored: Instruction QId_d125 on channel d125 is not found in Qiskit namespace. This instruction cannot be deserialized..\n",
      "  warnings.warn(\n",
      "C:\\Users\\szymon\\.conda\\envs\\qudityPAN\\lib\\site-packages\\qiskit\\pulse\\calibration_entries.py:337: UserWarning: Pulse calibration cannot be built and the entry is ignored: Instruction QId_d126 on channel d126 is not found in Qiskit namespace. This instruction cannot be deserialized..\n",
      "  warnings.warn(\n",
      "C:\\Users\\szymon\\.conda\\envs\\qudityPAN\\lib\\site-packages\\qiskit\\pulse\\calibration_entries.py:337: UserWarning: Pulse calibration cannot be built and the entry is ignored: Instruction QId_d127 on channel d127 is not found in Qiskit namespace. This instruction cannot be deserialized..\n",
      "  warnings.warn(\n",
      "C:\\Users\\szymon\\.conda\\envs\\qudityPAN\\lib\\site-packages\\qiskit\\pulse\\calibration_entries.py:337: UserWarning: Pulse calibration cannot be built and the entry is ignored: Instruction QId_d128 on channel d128 is not found in Qiskit namespace. This instruction cannot be deserialized..\n",
      "  warnings.warn(\n",
      "C:\\Users\\szymon\\.conda\\envs\\qudityPAN\\lib\\site-packages\\qiskit\\pulse\\calibration_entries.py:337: UserWarning: Pulse calibration cannot be built and the entry is ignored: Instruction QId_d129 on channel d129 is not found in Qiskit namespace. This instruction cannot be deserialized..\n",
      "  warnings.warn(\n",
      "C:\\Users\\szymon\\.conda\\envs\\qudityPAN\\lib\\site-packages\\qiskit\\pulse\\calibration_entries.py:337: UserWarning: Pulse calibration cannot be built and the entry is ignored: Instruction QId_d130 on channel d130 is not found in Qiskit namespace. This instruction cannot be deserialized..\n",
      "  warnings.warn(\n",
      "C:\\Users\\szymon\\.conda\\envs\\qudityPAN\\lib\\site-packages\\qiskit\\pulse\\calibration_entries.py:337: UserWarning: Pulse calibration cannot be built and the entry is ignored: Instruction QId_d131 on channel d131 is not found in Qiskit namespace. This instruction cannot be deserialized..\n",
      "  warnings.warn(\n",
      "C:\\Users\\szymon\\.conda\\envs\\qudityPAN\\lib\\site-packages\\qiskit\\pulse\\calibration_entries.py:337: UserWarning: Pulse calibration cannot be built and the entry is ignored: Instruction QId_d132 on channel d132 is not found in Qiskit namespace. This instruction cannot be deserialized..\n",
      "  warnings.warn(\n"
     ]
    },
    {
     "data": {
      "text/plain": [
       "0.9198121318712994"
      ]
     },
     "execution_count": 7,
     "metadata": {},
     "output_type": "execute_result"
    }
   ],
   "execution_count": 7
  },
  {
   "metadata": {
    "ExecuteTime": {
     "end_time": "2025-04-23T23:35:56.787985Z",
     "start_time": "2025-04-23T23:35:56.773991Z"
    }
   },
   "cell_type": "code",
   "source": [
    "g = ig.Graph(n=3, directed=False)\n",
    "\n",
    "edges = [(0,1), (0,2)]\n",
    "g.add_edges(edges)"
   ],
   "id": "edc4e1dc8796240f",
   "outputs": [],
   "execution_count": 3
  },
  {
   "metadata": {
    "ExecuteTime": {
     "end_time": "2025-04-23T23:35:57.367560Z",
     "start_time": "2025-04-23T23:35:57.200298Z"
    }
   },
   "cell_type": "code",
   "source": [
    "import matplotlib.pyplot as plt\n",
    "fig, ax = plt.subplots()\n",
    "ig.plot(g, target=ax)"
   ],
   "id": "5ef58c19d535ab26",
   "outputs": [
    {
     "data": {
      "text/plain": [
       "<igraph.drawing.matplotlib.graph.GraphArtist at 0x20102f199f0>"
      ]
     },
     "execution_count": 4,
     "metadata": {},
     "output_type": "execute_result"
    },
    {
     "data": {
      "text/plain": [
       "<Figure size 640x480 with 1 Axes>"
      ],
      "image/png": "[encoded data removed]"
     },
     "metadata": {},
     "output_type": "display_data"
    }
   ],
   "execution_count": 4
  },
  {
   "metadata": {
    "ExecuteTime": {
     "end_time": "2025-04-23T23:35:59.714494Z",
     "start_time": "2025-04-23T23:35:59.700495Z"
    }
   },
   "cell_type": "code",
   "source": "ghz_test = create_graph_ghz(g)",
   "id": "7aaefaba388397ca",
   "outputs": [],
   "execution_count": 5
  },
  {
   "metadata": {
    "ExecuteTime": {
     "end_time": "2025-04-23T23:36:02.246955Z",
     "start_time": "2025-04-23T23:36:00.331919Z"
    }
   },
   "cell_type": "code",
   "source": [
    "from QuditsOnQubits import bell_operator\n",
    "from qiskit import QuantumCircuit, qpy\n",
    "\n",
    "for e in g.es:\n",
    "    e[\"r\"] = 1\n",
    "\n",
    "bellexps, circs = bell_operator(g, ghz_circ)"
   ],
   "id": "2a522774000232da",
   "outputs": [
    {
     "ename": "InternalError",
     "evalue": "Error at src/graph/type_indexededgelist.c:1443: Cannot get edge ID, no such edge. -- Invalid value",
     "output_type": "error",
     "traceback": [
      "\u001B[1;31m---------------------------------------------------------------------------\u001B[0m",
      "\u001B[1;31mInternalError\u001B[0m                             Traceback (most recent call last)",
      "Cell \u001B[1;32mIn[6], line 7\u001B[0m\n\u001B[0;32m      4\u001B[0m \u001B[38;5;28;01mfor\u001B[39;00m e \u001B[38;5;129;01min\u001B[39;00m g\u001B[38;5;241m.\u001B[39mes:\n\u001B[0;32m      5\u001B[0m     e[\u001B[38;5;124m\"\u001B[39m\u001B[38;5;124mr\u001B[39m\u001B[38;5;124m\"\u001B[39m] \u001B[38;5;241m=\u001B[39m \u001B[38;5;241m1\u001B[39m\n\u001B[1;32m----> 7\u001B[0m bellexps, circs \u001B[38;5;241m=\u001B[39m \u001B[43mbell_operator\u001B[49m\u001B[43m(\u001B[49m\u001B[43mg\u001B[49m\u001B[43m,\u001B[49m\u001B[43m \u001B[49m\u001B[43mghz_circ\u001B[49m\u001B[43m)\u001B[49m\n",
      "File \u001B[1;32m~\\DataspellProjects\\qudityD3\\QuditsOnQubits\\QuditsOnQubits\\bell3.py:87\u001B[0m, in \u001B[0;36mbell_operator\u001B[1;34m(g, prep_circ)\u001B[0m\n\u001B[0;32m     85\u001B[0m \u001B[38;5;28;01mfor\u001B[39;00m j \u001B[38;5;129;01min\u001B[39;00m nbrs:\n\u001B[0;32m     86\u001B[0m     r1j \u001B[38;5;241m=\u001B[39m g\u001B[38;5;241m.\u001B[39mes[g\u001B[38;5;241m.\u001B[39mget_eid(v1, j)][\u001B[38;5;124m\"\u001B[39m\u001B[38;5;124mr\u001B[39m\u001B[38;5;124m\"\u001B[39m] \u001B[38;5;241m%\u001B[39m d\n\u001B[1;32m---> 87\u001B[0m     r2j \u001B[38;5;241m=\u001B[39m g\u001B[38;5;241m.\u001B[39mes[\u001B[43mg\u001B[49m\u001B[38;5;241;43m.\u001B[39;49m\u001B[43mget_eid\u001B[49m\u001B[43m(\u001B[49m\u001B[43mv2\u001B[49m\u001B[43m,\u001B[49m\u001B[43m \u001B[49m\u001B[43mj\u001B[49m\u001B[43m)\u001B[49m][\u001B[38;5;124m\"\u001B[39m\u001B[38;5;124mr\u001B[39m\u001B[38;5;124m\"\u001B[39m] \u001B[38;5;241m%\u001B[39m d\n\u001B[0;32m     88\u001B[0m     pat[j] \u001B[38;5;241m=\u001B[39m \u001B[38;5;124m\"\u001B[39m\u001B[38;5;124mZ\u001B[39m\u001B[38;5;124m\"\u001B[39m\u001B[38;5;241m*\u001B[39m((r1j \u001B[38;5;241m+\u001B[39m k\u001B[38;5;241m*\u001B[39mr2j)\u001B[38;5;241m%\u001B[39md) \u001B[38;5;241m+\u001B[39m \u001B[38;5;124m\"\u001B[39m\u001B[38;5;124mX\u001B[39m\u001B[38;5;124m\"\u001B[39m\n\u001B[0;32m     89\u001B[0m \u001B[38;5;66;03m# reszta\u001B[39;00m\n",
      "\u001B[1;31mInternalError\u001B[0m: Error at src/graph/type_indexededgelist.c:1443: Cannot get edge ID, no such edge. -- Invalid value"
     ]
    }
   ],
   "execution_count": 6
  },
  {
   "metadata": {
    "ExecuteTime": {
     "end_time": "2025-04-23T23:24:04.418309Z",
     "start_time": "2025-04-23T23:24:04.406313Z"
    }
   },
   "cell_type": "code",
   "source": "bellexps",
   "id": "78f667b692f4c916",
   "outputs": [
    {
     "data": {
      "text/plain": [
       "[np.float64(-0.49999999999999983),\n",
       " np.float64(-0.5000000000000002),\n",
       " np.float64(0.9999999999999999),\n",
       " np.float64(-0.5000000000000003),\n",
       " np.float64(0.9999999999999998),\n",
       " np.float64(-0.4999999999999993),\n",
       " np.float64(-0.500000000000001),\n",
       " np.float64(-0.49999999999999917),\n",
       " np.float64(0.9999999999999996)]"
      ]
     },
     "execution_count": 7,
     "metadata": {},
     "output_type": "execute_result"
    }
   ],
   "execution_count": 7
  },
  {
   "metadata": {
    "ExecuteTime": {
     "end_time": "2025-04-23T23:27:28.447550Z",
     "start_time": "2025-04-23T23:27:28.434553Z"
    }
   },
   "cell_type": "code",
   "source": [
    "g2 = ig.Graph(n=3, directed=False, edges=[(0, 1), (1, 2), (2, 3), (3, 0), (3, 0)])\n",
    "for e in g2.es:\n",
    "    e[\"r\"] = 1"
   ],
   "id": "f4d83963bf4d6761",
   "outputs": [],
   "execution_count": 14
  },
  {
   "metadata": {
    "ExecuteTime": {
     "end_time": "2025-04-23T23:27:29.098549Z",
     "start_time": "2025-04-23T23:27:28.899554Z"
    }
   },
   "cell_type": "code",
   "source": [
    "fig, ax = plt.subplots()\n",
    "ig.plot(g2, target=ax)"
   ],
   "id": "b50bd974cd329d6d",
   "outputs": [
    {
     "data": {
      "text/plain": [
       "<igraph.drawing.matplotlib.graph.GraphArtist at 0x1c4ae7bdb70>"
      ]
     },
     "execution_count": 15,
     "metadata": {},
     "output_type": "execute_result"
    },
    {
     "data": {
      "text/plain": [
       "<Figure size 640x480 with 1 Axes>"
      ],
      "image/png": "[encoded data removed]"
     },
     "metadata": {},
     "output_type": "display_data"
    }
   ],
   "execution_count": 15
  },
  {
   "metadata": {
    "ExecuteTime": {
     "end_time": "2025-04-23T23:28:41.214557Z",
     "start_time": "2025-04-23T23:28:41.201560Z"
    }
   },
   "cell_type": "code",
   "source": "ame43 = create_graph_ghz(g2)",
   "id": "71ade1eba46f0d84",
   "outputs": [],
   "execution_count": 17
  },
  {
   "metadata": {
    "ExecuteTime": {
     "end_time": "2025-04-23T23:28:42.255556Z",
     "start_time": "2025-04-23T23:28:41.846556Z"
    }
   },
   "cell_type": "code",
   "source": "ame43.draw(\"mpl\")",
   "id": "56a5ffcdd311ef3c",
   "outputs": [
    {
     "data": {
      "text/plain": [
       "<Figure size 621.941x702.333 with 1 Axes>"
      ],
      "image/png": "[encoded data removed]"
     },
     "execution_count": 18,
     "metadata": {},
     "output_type": "execute_result"
    }
   ],
   "execution_count": 18
  },
  {
   "metadata": {
    "ExecuteTime": {
     "end_time": "2025-04-23T23:29:06.757927Z",
     "start_time": "2025-04-23T23:29:05.529927Z"
    }
   },
   "cell_type": "code",
   "source": "bellexps2, circs2 = bell_operator(g2, ame43)",
   "id": "5ba0d4b837202614",
   "outputs": [
    {
     "name": "stdout",
     "output_type": "stream",
     "text": [
      "I_Bell = 0.250000\n"
     ]
    }
   ],
   "execution_count": 19
  },
  {
   "metadata": {},
   "cell_type": "code",
   "source": "circs2[0].decompose().draw(\"mpl\")",
   "id": "a5d1926a5f28fd84",
   "outputs": [],
   "execution_count": null
  },
  {
   "metadata": {
    "ExecuteTime": {
     "end_time": "2025-04-14T11:27:50.315009Z",
     "start_time": "2025-04-14T11:27:50.146369Z"
    }
   },
   "cell_type": "code",
   "source": [
    "for i in stanSquare:\n",
    "    i.draw(\"mpl\")"
   ],
   "id": "faf82721efdd3464",
   "outputs": [],
   "execution_count": 10
  },
  {
   "metadata": {
    "ExecuteTime": {
     "end_time": "2025-04-14T11:47:37.592274Z",
     "start_time": "2025-04-14T11:47:37.580298Z"
    }
   },
   "cell_type": "code",
   "source": "g2 = ig.Graph(n=3, directed=False, edges=[(0, 1), (0, 2)])\n",
   "id": "6b57600411d362c5",
   "outputs": [],
   "execution_count": 24
  },
  {
   "metadata": {
    "ExecuteTime": {
     "end_time": "2025-04-14T11:47:38.797778Z",
     "start_time": "2025-04-14T11:47:38.675779Z"
    }
   },
   "cell_type": "code",
   "source": [
    "import matplotlib.pyplot as plt\n",
    "fig, ax = plt.subplots()\n",
    "ig.plot(g2, target=ax)"
   ],
   "id": "fc56b454a7fe44d6",
   "outputs": [
    {
     "data": {
      "text/plain": [
       "<igraph.drawing.matplotlib.graph.GraphArtist at 0x164e2e7ec50>"
      ]
     },
     "execution_count": 25,
     "metadata": {},
     "output_type": "execute_result"
    },
    {
     "data": {
      "text/plain": [
       "<Figure size 640x480 with 1 Axes>"
      ],
      "image/png": "[encoded data removed]"
     },
     "metadata": {},
     "output_type": "display_data"
    }
   ],
   "execution_count": 25
  },
  {
   "metadata": {
    "ExecuteTime": {
     "end_time": "2025-04-14T11:47:44.667693Z",
     "start_time": "2025-04-14T11:47:44.654694Z"
    }
   },
   "cell_type": "code",
   "source": [
    "for e in g2.es:\n",
    "    e[\"r\"] = 1"
   ],
   "id": "c6496829666aac28",
   "outputs": [],
   "execution_count": 26
  },
  {
   "metadata": {
    "ExecuteTime": {
     "end_time": "2025-04-14T11:48:19.803302Z",
     "start_time": "2025-04-14T11:48:19.731302Z"
    }
   },
   "cell_type": "code",
   "source": "ghz_bell = bell_operator(g2)",
   "id": "5901fb42456e540a",
   "outputs": [
    {
     "name": "stdout",
     "output_type": "stream",
     "text": [
      "-----------------------------\n",
      "0\n",
      "X\n",
      "[0, 1]\n",
      "-----------------------------\n",
      "-----------------------------\n",
      "1\n",
      "Z\n",
      "[2, 3]\n",
      "-----------------------------\n",
      "-----------------------------\n",
      "2\n",
      "ZX\n",
      "[4, 5]\n",
      "-----------------------------\n",
      "-----------------------------\n",
      "0\n",
      "X\n",
      "[0, 1]\n",
      "-----------------------------\n",
      "-----------------------------\n",
      "1\n",
      "ZX\n",
      "[2, 3]\n",
      "-----------------------------\n",
      "-----------------------------\n",
      "2\n",
      "ZX\n",
      "[4, 5]\n",
      "-----------------------------\n",
      "-----------------------------\n",
      "0\n",
      "X\n",
      "[0, 1]\n",
      "-----------------------------\n",
      "-----------------------------\n",
      "1\n",
      "ZXX\n",
      "[2, 3]\n",
      "-----------------------------\n",
      "-----------------------------\n",
      "2\n",
      "ZX\n",
      "[4, 5]\n",
      "-----------------------------\n",
      "-----------------------------\n",
      "0\n",
      "XZ\n",
      "[0, 1]\n",
      "-----------------------------\n",
      "-----------------------------\n",
      "1\n",
      "Z\n",
      "[2, 3]\n",
      "-----------------------------\n",
      "-----------------------------\n",
      "2\n",
      "ZX\n",
      "[4, 5]\n",
      "-----------------------------\n",
      "-----------------------------\n",
      "0\n",
      "XZ\n",
      "[0, 1]\n",
      "-----------------------------\n",
      "-----------------------------\n",
      "1\n",
      "ZX\n",
      "[2, 3]\n",
      "-----------------------------\n",
      "-----------------------------\n",
      "2\n",
      "ZX\n",
      "[4, 5]\n",
      "-----------------------------\n",
      "-----------------------------\n",
      "0\n",
      "XZ\n",
      "[0, 1]\n",
      "-----------------------------\n",
      "-----------------------------\n",
      "1\n",
      "ZXX\n",
      "[2, 3]\n",
      "-----------------------------\n",
      "-----------------------------\n",
      "2\n",
      "ZX\n",
      "[4, 5]\n",
      "-----------------------------\n",
      "-----------------------------\n",
      "0\n",
      "XZZ\n",
      "[0, 1]\n",
      "-----------------------------\n",
      "-----------------------------\n",
      "1\n",
      "Z\n",
      "[2, 3]\n",
      "-----------------------------\n",
      "-----------------------------\n",
      "2\n",
      "ZX\n",
      "[4, 5]\n",
      "-----------------------------\n",
      "-----------------------------\n",
      "0\n",
      "XZZ\n",
      "[0, 1]\n",
      "-----------------------------\n",
      "-----------------------------\n",
      "1\n",
      "ZX\n",
      "[2, 3]\n",
      "-----------------------------\n",
      "-----------------------------\n",
      "2\n",
      "ZX\n",
      "[4, 5]\n",
      "-----------------------------\n",
      "-----------------------------\n",
      "0\n",
      "XZZ\n",
      "[0, 1]\n",
      "-----------------------------\n",
      "-----------------------------\n",
      "1\n",
      "ZXX\n",
      "[2, 3]\n",
      "-----------------------------\n",
      "-----------------------------\n",
      "2\n",
      "ZX\n",
      "[4, 5]\n",
      "-----------------------------\n",
      "{0: ['X', 'XZ', 'XZZ'], 1: ['Z', 'ZX', 'ZXX'], 2: ['ZX']}\n"
     ]
    }
   ],
   "execution_count": 28
  },
  {
   "metadata": {
    "ExecuteTime": {
     "end_time": "2025-04-14T11:57:51.508329Z",
     "start_time": "2025-04-14T11:57:51.448335Z"
    }
   },
   "cell_type": "code",
   "source": [
    "ghz_bell_circs = []\n",
    "\n",
    "for i in ghz_bell:\n",
    "    tempcirc = ghz_circ.copy()\n",
    "    tempcirc.append(i, [0,1,2,3,4,5])\n",
    "    tempcirc.measure_all()\n",
    "    ghz_bell_circs.append(tempcirc)"
   ],
   "id": "e9bc452274cc9f17",
   "outputs": [],
   "execution_count": 49
  },
  {
   "metadata": {},
   "cell_type": "code",
   "source": "ghz_circ.draw('mpl')",
   "id": "11ac8f8b8f20a488",
   "outputs": [],
   "execution_count": null
  },
  {
   "metadata": {},
   "cell_type": "code",
   "source": "ghz_bell_circs[0].decompose().draw(\"mpl\")",
   "id": "7cbd80b19ef4f4d4",
   "outputs": [],
   "execution_count": null
  },
  {
   "metadata": {
    "ExecuteTime": {
     "end_time": "2025-04-15T18:05:13.981530Z",
     "start_time": "2025-04-15T18:05:13.568527Z"
    }
   },
   "cell_type": "code",
   "source": [
    "from qiskit.primitives import StatevectorSampler\n",
    "from qiskit.visualization import plot_histogram\n",
    "\n",
    "shots = 10000\n",
    "sampler = StatevectorSampler()\n",
    "job = sampler.run([circs[0]], shots = shots)\n",
    "data_pub = job.result()[0].data\n",
    "bitstrings = data_pub.meas.get_bitstrings()\n",
    "counts = data_pub.meas.get_counts()\n",
    "plot_histogram(counts)"
   ],
   "id": "9b5f719f90563dc2",
   "outputs": [
    {
     "data": {
      "text/plain": [
       "<Figure size 640x480 with 1 Axes>"
      ],
      "image/png": "[encoded data removed]"
     },
     "execution_count": 11,
     "metadata": {},
     "output_type": "execute_result"
    }
   ],
   "execution_count": 11
  },
  {
   "metadata": {
    "ExecuteTime": {
     "end_time": "2025-04-15T18:07:31.818525Z",
     "start_time": "2025-04-15T18:07:31.799520Z"
    }
   },
   "cell_type": "code",
   "source": "keys = list(counts.keys())[0]",
   "id": "d7111b5cc24ef446",
   "outputs": [],
   "execution_count": 20
  },
  {
   "metadata": {
    "ExecuteTime": {
     "end_time": "2025-04-15T18:07:32.099123Z",
     "start_time": "2025-04-15T18:07:32.088589Z"
    }
   },
   "cell_type": "code",
   "source": "keys",
   "id": "e9c01dcc865d72cc",
   "outputs": [
    {
     "data": {
      "text/plain": [
       "'100101'"
      ]
     },
     "execution_count": 21,
     "metadata": {},
     "output_type": "execute_result"
    }
   ],
   "execution_count": 21
  },
  {
   "metadata": {
    "ExecuteTime": {
     "end_time": "2025-04-15T18:05:45.221478Z",
     "start_time": "2025-04-15T18:05:45.206937Z"
    }
   },
   "cell_type": "code",
   "source": [
    "for i in range(0, len(keys), 2):\n",
    "    print(f'{keys[i]}{keys[i+1]}')"
   ],
   "id": "1e353a5fd780bdf3",
   "outputs": [
    {
     "name": "stdout",
     "output_type": "stream",
     "text": [
      "10\n",
      "01\n",
      "01\n"
     ]
    }
   ],
   "execution_count": 14
  },
  {
   "metadata": {
    "ExecuteTime": {
     "end_time": "2025-04-15T18:05:45.988053Z",
     "start_time": "2025-04-15T18:05:45.975085Z"
    }
   },
   "cell_type": "code",
   "source": "import numpy as np",
   "id": "48ffb1927c3ccb39",
   "outputs": [],
   "execution_count": 15
  },
  {
   "metadata": {
    "ExecuteTime": {
     "end_time": "2025-04-15T18:06:19.964433Z",
     "start_time": "2025-04-15T18:06:19.952908Z"
    }
   },
   "cell_type": "code",
   "source": [
    "def exp_bell(counts, shots):\n",
    "    oper = 0\n",
    "    for i in list(counts.keys()):\n",
    "        p = counts[i]/shots\n",
    "        sum = 0\n",
    "        for j in range(0, len(i), 2):\n",
    "            if f'{keys[j]}{keys[j+1]}' == \"00\":\n",
    "                sum += 0\n",
    "            elif f'{keys[j]}{keys[j+1]}' == \"01\":\n",
    "                sum += 1\n",
    "            elif f'{keys[j]}{keys[j+1]}' == \"10\":\n",
    "                sum += 2\n",
    "        omega = np.exp(2*np.pi*1.j/3)\n",
    "        f = pow(omega, sum)\n",
    "        oper += p*f\n",
    "\n",
    "    return oper"
   ],
   "id": "ae98e69825adfb71",
   "outputs": [],
   "execution_count": 18
  },
  {
   "metadata": {},
   "cell_type": "markdown",
   "source": "",
   "id": "aa076d637e6f77cc"
  },
  {
   "metadata": {
    "ExecuteTime": {
     "end_time": "2025-04-15T18:06:23.472120Z",
     "start_time": "2025-04-15T18:06:23.451504Z"
    }
   },
   "cell_type": "code",
   "source": "exp_bell(counts, shots)",
   "id": "f7af87f109264ed4",
   "outputs": [
    {
     "data": {
      "text/plain": [
       "np.complex128(-0.4999999999999992+0.866025403784439j)"
      ]
     },
     "execution_count": 19,
     "metadata": {},
     "output_type": "execute_result"
    }
   ],
   "execution_count": 19
  },
  {
   "metadata": {
    "ExecuteTime": {
     "end_time": "2025-04-14T12:11:22.348963Z",
     "start_time": "2025-04-14T12:11:22.335968Z"
    }
   },
   "cell_type": "code",
   "source": "from qiskit.result import QuasiDistribution",
   "id": "7fccc6093fda2ea5",
   "outputs": [],
   "execution_count": 58
  },
  {
   "metadata": {
    "ExecuteTime": {
     "end_time": "2025-04-14T12:11:33.232310Z",
     "start_time": "2025-04-14T12:11:33.219318Z"
    }
   },
   "cell_type": "code",
   "source": "quasi_dist = QuasiDistribution({outcome: freq / shots for outcome, freq in counts.items()})",
   "id": "4589a687d39c1fb5",
   "outputs": [],
   "execution_count": 59
  },
  {
   "metadata": {
    "ExecuteTime": {
     "end_time": "2025-04-14T11:18:19.241514400Z",
     "start_time": "2025-04-11T00:59:52.132814Z"
    }
   },
   "cell_type": "code",
   "source": [
    "for i in stanLine:\n",
    "    print(stanLine[i])"
   ],
   "id": "9b1d8ce2454d3032",
   "outputs": [
    {
     "name": "stdout",
     "output_type": "stream",
     "text": [
      "['X', 'XZ', 'XZZ']\n",
      "['Z', 'ZX', 'ZXX']\n",
      "['ZX']\n",
      "['ZX']\n",
      "['ZX']\n",
      "['ZX']\n"
     ]
    }
   ],
   "execution_count": 17
  },
  {
   "metadata": {
    "ExecuteTime": {
     "end_time": "2025-04-14T11:18:19.241514400Z",
     "start_time": "2025-04-11T01:02:09.623631Z"
    }
   },
   "cell_type": "code",
   "source": "import itertools",
   "id": "8754b5855dd476f0",
   "outputs": [],
   "execution_count": 18
  },
  {
   "metadata": {
    "ExecuteTime": {
     "end_time": "2025-04-14T11:18:19.241514400Z",
     "start_time": "2025-04-11T01:03:55.964301Z"
    }
   },
   "cell_type": "code",
   "source": "list(stanLine.values())",
   "id": "fd10894f5fb96310",
   "outputs": [
    {
     "data": {
      "text/plain": [
       "[['X', 'XZ', 'XZZ'], ['Z', 'ZX', 'ZXX'], ['ZX'], ['ZX'], ['ZX'], ['ZX']]"
      ]
     },
     "execution_count": 25,
     "metadata": {},
     "output_type": "execute_result"
    }
   ],
   "execution_count": 25
  },
  {
   "metadata": {
    "ExecuteTime": {
     "end_time": "2025-04-14T11:18:19.241514400Z",
     "start_time": "2025-04-11T01:14:47.313169Z"
    }
   },
   "cell_type": "code",
   "source": [
    "for combination in itertools.product(*list(stanLine.values())):\n",
    "    print(combination)\n",
    "    for j in range(len(combination)):\n",
    "        print(j)\n",
    "        print(combination[j])\n"
   ],
   "id": "18edcac7f62adee2",
   "outputs": [
    {
     "name": "stdout",
     "output_type": "stream",
     "text": [
      "('X', 'Z', 'ZX', 'ZX', 'ZX', 'ZX')\n",
      "0\n",
      "X\n",
      "1\n",
      "Z\n",
      "2\n",
      "ZX\n",
      "3\n",
      "ZX\n",
      "4\n",
      "ZX\n",
      "5\n",
      "ZX\n",
      "('X', 'ZX', 'ZX', 'ZX', 'ZX', 'ZX')\n",
      "0\n",
      "X\n",
      "1\n",
      "ZX\n",
      "2\n",
      "ZX\n",
      "3\n",
      "ZX\n",
      "4\n",
      "ZX\n",
      "5\n",
      "ZX\n",
      "('X', 'ZXX', 'ZX', 'ZX', 'ZX', 'ZX')\n",
      "0\n",
      "X\n",
      "1\n",
      "ZXX\n",
      "2\n",
      "ZX\n",
      "3\n",
      "ZX\n",
      "4\n",
      "ZX\n",
      "5\n",
      "ZX\n",
      "('XZ', 'Z', 'ZX', 'ZX', 'ZX', 'ZX')\n",
      "0\n",
      "XZ\n",
      "1\n",
      "Z\n",
      "2\n",
      "ZX\n",
      "3\n",
      "ZX\n",
      "4\n",
      "ZX\n",
      "5\n",
      "ZX\n",
      "('XZ', 'ZX', 'ZX', 'ZX', 'ZX', 'ZX')\n",
      "0\n",
      "XZ\n",
      "1\n",
      "ZX\n",
      "2\n",
      "ZX\n",
      "3\n",
      "ZX\n",
      "4\n",
      "ZX\n",
      "5\n",
      "ZX\n",
      "('XZ', 'ZXX', 'ZX', 'ZX', 'ZX', 'ZX')\n",
      "0\n",
      "XZ\n",
      "1\n",
      "ZXX\n",
      "2\n",
      "ZX\n",
      "3\n",
      "ZX\n",
      "4\n",
      "ZX\n",
      "5\n",
      "ZX\n",
      "('XZZ', 'Z', 'ZX', 'ZX', 'ZX', 'ZX')\n",
      "0\n",
      "XZZ\n",
      "1\n",
      "Z\n",
      "2\n",
      "ZX\n",
      "3\n",
      "ZX\n",
      "4\n",
      "ZX\n",
      "5\n",
      "ZX\n",
      "('XZZ', 'ZX', 'ZX', 'ZX', 'ZX', 'ZX')\n",
      "0\n",
      "XZZ\n",
      "1\n",
      "ZX\n",
      "2\n",
      "ZX\n",
      "3\n",
      "ZX\n",
      "4\n",
      "ZX\n",
      "5\n",
      "ZX\n",
      "('XZZ', 'ZXX', 'ZX', 'ZX', 'ZX', 'ZX')\n",
      "0\n",
      "XZZ\n",
      "1\n",
      "ZXX\n",
      "2\n",
      "ZX\n",
      "3\n",
      "ZX\n",
      "4\n",
      "ZX\n",
      "5\n",
      "ZX\n"
     ]
    }
   ],
   "execution_count": 33
  },
  {
   "metadata": {
    "ExecuteTime": {
     "end_time": "2025-04-14T11:18:19.242513Z",
     "start_time": "2025-02-27T02:33:42.361088Z"
    }
   },
   "cell_type": "code",
   "source": "squareState = square_graph.circuit",
   "id": "ee3dcdd1232566cf",
   "outputs": [],
   "execution_count": 8
  },
  {
   "metadata": {
    "ExecuteTime": {
     "end_time": "2025-04-14T11:18:19.242513Z",
     "start_time": "2025-02-27T02:33:42.955587Z"
    }
   },
   "cell_type": "code",
   "source": "squareState.draw('mpl')",
   "id": "44b4545b93fa30f2",
   "outputs": [
    {
     "data": {
      "text/plain": [
       "<Figure size 621.941x702.333 with 1 Axes>"
      ],
      "image/png": "[encoded data removed]"
     },
     "execution_count": 9,
     "metadata": {},
     "output_type": "execute_result"
    }
   ],
   "execution_count": 9
  },
  {
   "metadata": {},
   "cell_type": "code",
   "outputs": [],
   "execution_count": null,
   "source": "",
   "id": "b60963e18a6a731"
  }
 ],
 "metadata": {
  "kernelspec": {
   "display_name": "Python 3",
   "language": "python",
   "name": "python3"
  },
  "language_info": {
   "codemirror_mode": {
    "name": "ipython",
    "version": 2
   },
   "file_extension": ".py",
   "mimetype": "text/x-python",
   "name": "python",
   "nbconvert_exporter": "python",
   "pygments_lexer": "ipython2",
   "version": "2.7.6"
  }
 },
 "nbformat": 4,
 "nbformat_minor": 5
}
