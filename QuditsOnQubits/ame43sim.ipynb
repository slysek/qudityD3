{
 "cells": [
  {
   "cell_type": "code",
   "id": "initial_id",
   "metadata": {
    "collapsed": true,
    "ExecuteTime": {
     "end_time": "2025-05-14T19:53:50.435665Z",
     "start_time": "2025-05-14T19:53:41.307304Z"
    }
   },
   "source": [
    "from QuditsOnQubits import create_ame43\n",
    "from qiskit import qpy\n",
    "from qiskit.circuit import QuantumCircuit"
   ],
   "outputs": [],
   "execution_count": 1
  },
  {
   "metadata": {
    "ExecuteTime": {
     "end_time": "2025-05-14T19:53:50.483599Z",
     "start_time": "2025-05-14T19:53:50.447737Z"
    }
   },
   "cell_type": "code",
   "source": "ame43 = create_ame43()",
   "id": "46b1e11efdb5a9db",
   "outputs": [],
   "execution_count": 2
  },
  {
   "metadata": {
    "ExecuteTime": {
     "end_time": "2025-05-14T19:53:50.530822Z",
     "start_time": "2025-05-14T19:53:50.493812Z"
    }
   },
   "cell_type": "code",
   "source": [
    "with open('Zgate.qpy', 'rb') as fd:\n",
    "    Zgate = qpy.load(fd)[0]\n",
    "\n",
    "with open('Xgate.qpy', 'rb') as fd:\n",
    "    Xgate = qpy.load(fd)[0]"
   ],
   "id": "7e0089b6919cbf98",
   "outputs": [],
   "execution_count": 3
  },
  {
   "metadata": {
    "ExecuteTime": {
     "end_time": "2025-05-14T19:53:51.341909Z",
     "start_time": "2025-05-14T19:53:51.330354Z"
    }
   },
   "cell_type": "code",
   "source": "operators = []",
   "id": "bc94ebf8d0677a72",
   "outputs": [],
   "execution_count": 4
  },
  {
   "metadata": {
    "ExecuteTime": {
     "end_time": "2025-05-14T19:53:51.388535Z",
     "start_time": "2025-05-14T19:53:51.375483Z"
    }
   },
   "cell_type": "code",
   "source": [
    "G1 = QuantumCircuit(8)\n",
    "G1.append(Xgate, [0, 1])\n",
    "G1.append(Zgate, [2, 3])\n",
    "G1.append(Zgate, [6, 7])\n",
    "operators.append(G1)"
   ],
   "id": "9e8516e3c537125b",
   "outputs": [],
   "execution_count": 5
  },
  {
   "metadata": {
    "ExecuteTime": {
     "end_time": "2025-05-14T19:53:51.529949Z",
     "start_time": "2025-05-14T19:53:51.510858Z"
    }
   },
   "cell_type": "code",
   "source": [
    "G1G2 = QuantumCircuit(8)\n",
    "G1G2.append(Xgate, [0, 1])\n",
    "G1G2.append(Zgate, [0, 1])\n",
    "G1G2.append(Zgate, [2, 3])\n",
    "G1G2.append(Xgate, [2, 3])\n",
    "G1G2.append(Zgate, [4, 5])\n",
    "G1G2.append(Zgate, [6, 7])\n",
    "operators.append(G1G2)"
   ],
   "id": "74d4b2f121bcfd01",
   "outputs": [],
   "execution_count": 6
  },
  {
   "metadata": {
    "ExecuteTime": {
     "end_time": "2025-05-14T19:53:51.608181Z",
     "start_time": "2025-05-14T19:53:51.587131Z"
    }
   },
   "cell_type": "code",
   "source": [
    "G1G22 = QuantumCircuit(8)\n",
    "G1G22.append(Xgate, [0, 1])\n",
    "G1G22.append(Zgate, [0, 1])\n",
    "G1G22.append(Zgate, [0, 1])\n",
    "G1G22.append(Zgate, [2, 3])\n",
    "G1G22.append(Xgate, [2, 3])\n",
    "G1G22.append(Xgate, [2, 3])\n",
    "G1G22.append(Zgate, [4, 5])\n",
    "G1G22.append(Zgate, [4, 5])\n",
    "G1G22.append(Zgate, [6, 7])\n",
    "operators.append(G1G22)"
   ],
   "id": "f5953dcafbf9be87",
   "outputs": [],
   "execution_count": 7
  },
  {
   "metadata": {
    "ExecuteTime": {
     "end_time": "2025-05-14T19:53:51.670893Z",
     "start_time": "2025-05-14T19:53:51.657785Z"
    }
   },
   "cell_type": "code",
   "source": [
    "G3 = QuantumCircuit(8)\n",
    "G3.append(Zgate, [2, 3])\n",
    "G3.append(Xgate, [4, 5])\n",
    "G3.append(Zgate, [6, 7])\n",
    "G3.append(Zgate, [6, 7])\n",
    "operators.append(G3)"
   ],
   "id": "6d8ecee32053fdd5",
   "outputs": [],
   "execution_count": 8
  },
  {
   "metadata": {
    "ExecuteTime": {
     "end_time": "2025-05-14T19:53:51.734027Z",
     "start_time": "2025-05-14T19:53:51.721501Z"
    }
   },
   "cell_type": "code",
   "source": [
    "G1G4 = QuantumCircuit(8)\n",
    "G1G4.append(Xgate, [0, 1])\n",
    "G1G4.append(Zgate, [0, 1])\n",
    "G1G4.append(Zgate, [2, 3])\n",
    "G1G4.append(Zgate, [4, 5])\n",
    "G1G4.append(Zgate, [4, 5])\n",
    "G1G4.append(Zgate, [6, 7])\n",
    "G1G4.append(Xgate, [6, 7])\n",
    "operators.append(G1G4)"
   ],
   "id": "db32c89647b9976e",
   "outputs": [],
   "execution_count": 9
  },
  {
   "metadata": {
    "ExecuteTime": {
     "end_time": "2025-05-14T19:53:51.845430Z",
     "start_time": "2025-05-14T19:53:51.799772Z"
    }
   },
   "cell_type": "code",
   "source": [
    "final_circs = []\n",
    "\n",
    "for i in operators:\n",
    "    tempcirc = ame43.copy()\n",
    "    tempcirc.append(i, [0, 1, 2, 3, 4, 5, 6, 7])\n",
    "    tempcirc.measure_all()\n",
    "    final_circs.append(tempcirc)"
   ],
   "id": "a1b8aad648a7ca35",
   "outputs": [],
   "execution_count": 10
  },
  {
   "metadata": {
    "ExecuteTime": {
     "end_time": "2025-05-14T19:53:51.955660Z",
     "start_time": "2025-05-14T19:53:51.943128Z"
    }
   },
   "cell_type": "code",
   "source": [
    "import numpy as np\n",
    "\n",
    "def exp_bell(counts, shots, k):\n",
    "    oper = 0\n",
    "    keys = list(counts.keys())[k]\n",
    "    for i in list(counts.keys()):\n",
    "        p = counts[i]/shots\n",
    "        sum = 0\n",
    "        for j in range(0, len(i), 2):\n",
    "            if f'{keys[j]}{keys[j+1]}' == \"00\":\n",
    "                sum += 0\n",
    "            elif f'{keys[j]}{keys[j+1]}' == \"01\":\n",
    "                sum += 1\n",
    "            elif f'{keys[j]}{keys[j+1]}' == \"10\":\n",
    "                sum += 2\n",
    "        omega = np.exp(2*np.pi*1.j/3)\n",
    "        f = pow(omega, sum)\n",
    "        oper += p*f\n",
    "\n",
    "    return oper"
   ],
   "id": "c16168e3fc6849c6",
   "outputs": [],
   "execution_count": 11
  },
  {
   "metadata": {
    "ExecuteTime": {
     "end_time": "2025-05-14T19:53:52.644488Z",
     "start_time": "2025-05-14T19:53:52.176408Z"
    }
   },
   "cell_type": "code",
   "source": [
    "from qiskit.primitives import StatevectorSampler\n",
    "\n",
    "bell_exp_list = []\n",
    "exps_operators = []\n",
    "\n",
    "shots = 10000\n",
    "sampler = StatevectorSampler()\n",
    "\n",
    "for i, j in zip(final_circs, range(len(final_circs))):\n",
    "    job = sampler.run([i], shots = shots)\n",
    "    data_pub = job.result()[0].data\n",
    "    counts = data_pub.meas.get_counts()\n",
    "    #exps_operators.append(str_list_gates[j])\n",
    "    bell_exp = exp_bell(counts, shots, j)\n",
    "    bell_exp_list.append(np.absolute(bell_exp))"
   ],
   "id": "d8d3f1bc5a75e664",
   "outputs": [],
   "execution_count": 12
  },
  {
   "metadata": {
    "ExecuteTime": {
     "end_time": "2025-05-14T19:53:52.675534Z",
     "start_time": "2025-05-14T19:53:52.653918Z"
    }
   },
   "cell_type": "code",
   "source": "bell_exp_list",
   "id": "845b4567526bc313",
   "outputs": [
    {
     "data": {
      "text/plain": [
       "[np.float64(1.0),\n",
       " np.float64(0.9999999999999998),\n",
       " np.float64(0.9999999999999999),\n",
       " np.float64(0.9999999999999999),\n",
       " np.float64(1.0)]"
      ]
     },
     "execution_count": 13,
     "metadata": {},
     "output_type": "execute_result"
    }
   ],
   "execution_count": 13
  },
  {
   "metadata": {
    "ExecuteTime": {
     "end_time": "2025-05-14T19:53:52.895510Z",
     "start_time": "2025-05-14T19:53:52.881390Z"
    }
   },
   "cell_type": "code",
   "source": "2 * (bell_exp_list[0] + bell_exp_list[1] + 0.5 * (bell_exp_list[2] + bell_exp_list[3]) + bell_exp_list[4])",
   "id": "4e64f3b8afaec8be",
   "outputs": [
    {
     "data": {
      "text/plain": [
       "np.float64(7.999999999999999)"
      ]
     },
     "execution_count": 14,
     "metadata": {},
     "output_type": "execute_result"
    }
   ],
   "execution_count": 14
  },
  {
   "metadata": {
    "ExecuteTime": {
     "end_time": "2025-05-14T19:54:00.372430Z",
     "start_time": "2025-05-14T19:53:52.989623Z"
    }
   },
   "cell_type": "code",
   "source": [
    "from qiskit.transpiler.preset_passmanagers import generate_preset_pass_manager\n",
    "from qiskit_aer import AerSimulator\n",
    "from qiskit_ibm_runtime import QiskitRuntimeService, SamplerV2 as Sampler\n",
    "\n",
    "service = QiskitRuntimeService(channel=\"ibm_quantum\", token=\"69c33c504eae6077ab5a35bc23ed37d0e2ce46a8d88b9c3f72fd32883335a986ef5c86d80f8b561cbdbe773a8d56475d710fd741d28597d1148e2dcf74fe488d\")"
   ],
   "id": "5e5e5a53358c4d1",
   "outputs": [],
   "execution_count": 15
  },
  {
   "metadata": {
    "ExecuteTime": {
     "end_time": "2025-05-14T19:54:10.366656Z",
     "start_time": "2025-05-14T19:54:00.385467Z"
    }
   },
   "cell_type": "code",
   "source": [
    "real_backend = service.backend(\"ibm_brisbane\")\n",
    "aer = AerSimulator.from_backend(real_backend)"
   ],
   "id": "4d2ad941c3cfd84f",
   "outputs": [],
   "execution_count": 16
  },
  {
   "metadata": {
    "ExecuteTime": {
     "end_time": "2025-05-14T19:54:43.018942Z",
     "start_time": "2025-05-14T19:54:10.431459Z"
    }
   },
   "cell_type": "code",
   "source": [
    "pm = generate_preset_pass_manager(backend=aer, optimization_level=1)\n",
    "sampler = Sampler(mode=aer)\n",
    "\n",
    "bell_exp_list_sim = []\n",
    "exps_operators_sim = []\n",
    "\n",
    "shots_sim = 1000\n",
    "\n",
    "for k, l in zip(final_circs, range(len(final_circs))):\n",
    "    isa_qc = pm.run(k)\n",
    "\n",
    "    jobSim = sampler.run([isa_qc], shots = shots_sim)\n",
    "    data_pubSim = jobSim.result()[0].data\n",
    "    countsSim = data_pubSim.meas.get_counts()\n",
    "    #exps_operators.append(str_list_gates[j])\n",
    "    bell_exp_sim = exp_bell(countsSim, shots_sim, l)\n",
    "    bell_exp_list_sim.append(np.absolute(bell_exp_sim))"
   ],
   "id": "bde3b43c43447011",
   "outputs": [],
   "execution_count": 17
  },
  {
   "metadata": {
    "ExecuteTime": {
     "end_time": "2025-05-14T19:54:51.078963Z",
     "start_time": "2025-05-14T19:54:51.051355Z"
    }
   },
   "cell_type": "code",
   "source": "bell_exp_list_sim",
   "id": "19df8217447a7ef7",
   "outputs": [
    {
     "data": {
      "text/plain": [
       "[np.float64(1.0000000000000007),\n",
       " np.float64(1.000000000000002),\n",
       " np.float64(1.0000000000000016),\n",
       " np.float64(1.0000000000000004),\n",
       " np.float64(1.0000000000000018)]"
      ]
     },
     "execution_count": 18,
     "metadata": {},
     "output_type": "execute_result"
    }
   ],
   "execution_count": 18
  },
  {
   "metadata": {
    "ExecuteTime": {
     "end_time": "2025-05-14T20:09:02.900710Z",
     "start_time": "2025-05-14T20:08:46.221656Z"
    }
   },
   "cell_type": "code",
   "source": "backend = service.least_busy(simulator=False, operational=True)",
   "id": "30f2f419985d9785",
   "outputs": [],
   "execution_count": 45
  },
  {
   "metadata": {
    "ExecuteTime": {
     "end_time": "2025-05-14T20:09:06.252900Z",
     "start_time": "2025-05-14T20:09:02.912946Z"
    }
   },
   "cell_type": "code",
   "source": "backend",
   "id": "fd51bf8fe6a8180",
   "outputs": [
    {
     "data": {
      "text/plain": [
       "<IBMBackend('ibm_torino')>"
      ]
     },
     "execution_count": 46,
     "metadata": {},
     "output_type": "execute_result"
    }
   ],
   "execution_count": 46
  },
  {
   "metadata": {
    "ExecuteTime": {
     "end_time": "2025-05-14T20:11:22.579360Z",
     "start_time": "2025-05-14T20:11:05.329006Z"
    }
   },
   "cell_type": "code",
   "source": [
    "backend = service.least_busy(simulator=False, operational=True)\n",
    "pm = generate_preset_pass_manager(backend=backend, optimization_level=1)\n",
    "isa_qc_real = pm.run(final_circs[0])\n",
    "jobSim = sampler.run([isa_qc_real], shots = shots_sim)\n",
    "data_pubSim = jobSim.result()"
   ],
   "id": "6b1dc59ca4706df5",
   "outputs": [
    {
     "ename": "AerError",
     "evalue": "'unknown instruction: cz'",
     "output_type": "error",
     "traceback": [
      "\u001B[1;31m---------------------------------------------------------------------------\u001B[0m",
      "\u001B[1;31mAerError\u001B[0m                                  Traceback (most recent call last)",
      "Cell \u001B[1;32mIn[51], line 5\u001B[0m\n\u001B[0;32m      3\u001B[0m isa_qc_real \u001B[38;5;241m=\u001B[39m pm\u001B[38;5;241m.\u001B[39mrun(final_circs[\u001B[38;5;241m0\u001B[39m])\n\u001B[0;32m      4\u001B[0m jobSim \u001B[38;5;241m=\u001B[39m sampler\u001B[38;5;241m.\u001B[39mrun([isa_qc_real], shots \u001B[38;5;241m=\u001B[39m shots_sim)\n\u001B[1;32m----> 5\u001B[0m data_pubSim \u001B[38;5;241m=\u001B[39m \u001B[43mjobSim\u001B[49m\u001B[38;5;241;43m.\u001B[39;49m\u001B[43mresult\u001B[49m\u001B[43m(\u001B[49m\u001B[43m)\u001B[49m\n",
      "File \u001B[1;32m~\\.conda\\envs\\qudityPAN\\lib\\site-packages\\qiskit\\primitives\\primitive_job.py:51\u001B[0m, in \u001B[0;36mPrimitiveJob.result\u001B[1;34m(self)\u001B[0m\n\u001B[0;32m     49\u001B[0m \u001B[38;5;28;01mdef\u001B[39;00m \u001B[38;5;21mresult\u001B[39m(\u001B[38;5;28mself\u001B[39m) \u001B[38;5;241m-\u001B[39m\u001B[38;5;241m>\u001B[39m ResultT:\n\u001B[0;32m     50\u001B[0m     \u001B[38;5;28mself\u001B[39m\u001B[38;5;241m.\u001B[39m_check_submitted()\n\u001B[1;32m---> 51\u001B[0m     \u001B[38;5;28;01mreturn\u001B[39;00m \u001B[38;5;28;43mself\u001B[39;49m\u001B[38;5;241;43m.\u001B[39;49m\u001B[43m_future\u001B[49m\u001B[38;5;241;43m.\u001B[39;49m\u001B[43mresult\u001B[49m\u001B[43m(\u001B[49m\u001B[43m)\u001B[49m\n",
      "File \u001B[1;32m~\\.conda\\envs\\qudityPAN\\lib\\concurrent\\futures\\_base.py:458\u001B[0m, in \u001B[0;36mFuture.result\u001B[1;34m(self, timeout)\u001B[0m\n\u001B[0;32m    456\u001B[0m     \u001B[38;5;28;01mraise\u001B[39;00m CancelledError()\n\u001B[0;32m    457\u001B[0m \u001B[38;5;28;01melif\u001B[39;00m \u001B[38;5;28mself\u001B[39m\u001B[38;5;241m.\u001B[39m_state \u001B[38;5;241m==\u001B[39m FINISHED:\n\u001B[1;32m--> 458\u001B[0m     \u001B[38;5;28;01mreturn\u001B[39;00m \u001B[38;5;28;43mself\u001B[39;49m\u001B[38;5;241;43m.\u001B[39;49m\u001B[43m__get_result\u001B[49m\u001B[43m(\u001B[49m\u001B[43m)\u001B[49m\n\u001B[0;32m    459\u001B[0m \u001B[38;5;28;01melse\u001B[39;00m:\n\u001B[0;32m    460\u001B[0m     \u001B[38;5;28;01mraise\u001B[39;00m \u001B[38;5;167;01mTimeoutError\u001B[39;00m()\n",
      "File \u001B[1;32m~\\.conda\\envs\\qudityPAN\\lib\\concurrent\\futures\\_base.py:403\u001B[0m, in \u001B[0;36mFuture.__get_result\u001B[1;34m(self)\u001B[0m\n\u001B[0;32m    401\u001B[0m \u001B[38;5;28;01mif\u001B[39;00m \u001B[38;5;28mself\u001B[39m\u001B[38;5;241m.\u001B[39m_exception:\n\u001B[0;32m    402\u001B[0m     \u001B[38;5;28;01mtry\u001B[39;00m:\n\u001B[1;32m--> 403\u001B[0m         \u001B[38;5;28;01mraise\u001B[39;00m \u001B[38;5;28mself\u001B[39m\u001B[38;5;241m.\u001B[39m_exception\n\u001B[0;32m    404\u001B[0m     \u001B[38;5;28;01mfinally\u001B[39;00m:\n\u001B[0;32m    405\u001B[0m         \u001B[38;5;66;03m# Break a reference cycle with the exception in self._exception\u001B[39;00m\n\u001B[0;32m    406\u001B[0m         \u001B[38;5;28mself\u001B[39m \u001B[38;5;241m=\u001B[39m \u001B[38;5;28;01mNone\u001B[39;00m\n",
      "File \u001B[1;32m~\\.conda\\envs\\qudityPAN\\lib\\concurrent\\futures\\thread.py:58\u001B[0m, in \u001B[0;36m_WorkItem.run\u001B[1;34m(self)\u001B[0m\n\u001B[0;32m     55\u001B[0m     \u001B[38;5;28;01mreturn\u001B[39;00m\n\u001B[0;32m     57\u001B[0m \u001B[38;5;28;01mtry\u001B[39;00m:\n\u001B[1;32m---> 58\u001B[0m     result \u001B[38;5;241m=\u001B[39m \u001B[38;5;28mself\u001B[39m\u001B[38;5;241m.\u001B[39mfn(\u001B[38;5;241m*\u001B[39m\u001B[38;5;28mself\u001B[39m\u001B[38;5;241m.\u001B[39margs, \u001B[38;5;241m*\u001B[39m\u001B[38;5;241m*\u001B[39m\u001B[38;5;28mself\u001B[39m\u001B[38;5;241m.\u001B[39mkwargs)\n\u001B[0;32m     59\u001B[0m \u001B[38;5;28;01mexcept\u001B[39;00m \u001B[38;5;167;01mBaseException\u001B[39;00m \u001B[38;5;28;01mas\u001B[39;00m exc:\n\u001B[0;32m     60\u001B[0m     \u001B[38;5;28mself\u001B[39m\u001B[38;5;241m.\u001B[39mfuture\u001B[38;5;241m.\u001B[39mset_exception(exc)\n",
      "File \u001B[1;32m~\\.conda\\envs\\qudityPAN\\lib\\site-packages\\qiskit\\primitives\\backend_sampler_v2.py:173\u001B[0m, in \u001B[0;36mBackendSamplerV2._run\u001B[1;34m(self, pubs)\u001B[0m\n\u001B[0;32m    170\u001B[0m results \u001B[38;5;241m=\u001B[39m [\u001B[38;5;28;01mNone\u001B[39;00m] \u001B[38;5;241m*\u001B[39m \u001B[38;5;28mlen\u001B[39m(pubs)\n\u001B[0;32m    171\u001B[0m \u001B[38;5;28;01mfor\u001B[39;00m shots, lst \u001B[38;5;129;01min\u001B[39;00m pub_dict\u001B[38;5;241m.\u001B[39mitems():\n\u001B[0;32m    172\u001B[0m     \u001B[38;5;66;03m# run pubs with the same number of shots at once\u001B[39;00m\n\u001B[1;32m--> 173\u001B[0m     pub_results \u001B[38;5;241m=\u001B[39m \u001B[38;5;28;43mself\u001B[39;49m\u001B[38;5;241;43m.\u001B[39;49m\u001B[43m_run_pubs\u001B[49m\u001B[43m(\u001B[49m\u001B[43m[\u001B[49m\u001B[43mpubs\u001B[49m\u001B[43m[\u001B[49m\u001B[43mi\u001B[49m\u001B[43m]\u001B[49m\u001B[43m \u001B[49m\u001B[38;5;28;43;01mfor\u001B[39;49;00m\u001B[43m \u001B[49m\u001B[43mi\u001B[49m\u001B[43m \u001B[49m\u001B[38;5;129;43;01min\u001B[39;49;00m\u001B[43m \u001B[49m\u001B[43mlst\u001B[49m\u001B[43m]\u001B[49m\u001B[43m,\u001B[49m\u001B[43m \u001B[49m\u001B[43mshots\u001B[49m\u001B[43m)\u001B[49m\n\u001B[0;32m    174\u001B[0m     \u001B[38;5;66;03m# reconstruct the result of pubs\u001B[39;00m\n\u001B[0;32m    175\u001B[0m     \u001B[38;5;28;01mfor\u001B[39;00m i, pub_result \u001B[38;5;129;01min\u001B[39;00m \u001B[38;5;28mzip\u001B[39m(lst, pub_results):\n",
      "File \u001B[1;32m~\\.conda\\envs\\qudityPAN\\lib\\site-packages\\qiskit\\primitives\\backend_sampler_v2.py:189\u001B[0m, in \u001B[0;36mBackendSamplerV2._run_pubs\u001B[1;34m(self, pubs, shots)\u001B[0m\n\u001B[0;32m    187\u001B[0m run_opts \u001B[38;5;241m=\u001B[39m \u001B[38;5;28mself\u001B[39m\u001B[38;5;241m.\u001B[39m_options\u001B[38;5;241m.\u001B[39mrun_options \u001B[38;5;129;01mor\u001B[39;00m {}\n\u001B[0;32m    188\u001B[0m \u001B[38;5;66;03m# run circuits\u001B[39;00m\n\u001B[1;32m--> 189\u001B[0m results, _ \u001B[38;5;241m=\u001B[39m _run_circuits(\n\u001B[0;32m    190\u001B[0m     flatten_circuits,\n\u001B[0;32m    191\u001B[0m     \u001B[38;5;28mself\u001B[39m\u001B[38;5;241m.\u001B[39m_backend,\n\u001B[0;32m    192\u001B[0m     clear_metadata\u001B[38;5;241m=\u001B[39m\u001B[38;5;28;01mFalse\u001B[39;00m,\n\u001B[0;32m    193\u001B[0m     memory\u001B[38;5;241m=\u001B[39m\u001B[38;5;28;01mTrue\u001B[39;00m,\n\u001B[0;32m    194\u001B[0m     shots\u001B[38;5;241m=\u001B[39mshots,\n\u001B[0;32m    195\u001B[0m     seed_simulator\u001B[38;5;241m=\u001B[39m\u001B[38;5;28mself\u001B[39m\u001B[38;5;241m.\u001B[39m_options\u001B[38;5;241m.\u001B[39mseed_simulator,\n\u001B[0;32m    196\u001B[0m     \u001B[38;5;241m*\u001B[39m\u001B[38;5;241m*\u001B[39mrun_opts,\n\u001B[0;32m    197\u001B[0m )\n\u001B[0;32m    198\u001B[0m result_memory \u001B[38;5;241m=\u001B[39m _prepare_memory(results)\n\u001B[0;32m    200\u001B[0m \u001B[38;5;66;03m# pack memory to an ndarray of uint8\u001B[39;00m\n",
      "File \u001B[1;32m~\\.conda\\envs\\qudityPAN\\lib\\site-packages\\qiskit\\primitives\\backend_estimator.py:78\u001B[0m, in \u001B[0;36m_run_circuits\u001B[1;34m(circuits, backend, clear_metadata, **run_options)\u001B[0m\n\u001B[0;32m     73\u001B[0m \u001B[38;5;28;01mif\u001B[39;00m max_circuits:\n\u001B[0;32m     74\u001B[0m     jobs \u001B[38;5;241m=\u001B[39m [\n\u001B[0;32m     75\u001B[0m         backend\u001B[38;5;241m.\u001B[39mrun(circuits[pos : pos \u001B[38;5;241m+\u001B[39m max_circuits], \u001B[38;5;241m*\u001B[39m\u001B[38;5;241m*\u001B[39mrun_options)\n\u001B[0;32m     76\u001B[0m         \u001B[38;5;28;01mfor\u001B[39;00m pos \u001B[38;5;129;01min\u001B[39;00m \u001B[38;5;28mrange\u001B[39m(\u001B[38;5;241m0\u001B[39m, \u001B[38;5;28mlen\u001B[39m(circuits), max_circuits)\n\u001B[0;32m     77\u001B[0m     ]\n\u001B[1;32m---> 78\u001B[0m     result \u001B[38;5;241m=\u001B[39m [x\u001B[38;5;241m.\u001B[39mresult() \u001B[38;5;28;01mfor\u001B[39;00m x \u001B[38;5;129;01min\u001B[39;00m jobs]\n\u001B[0;32m     79\u001B[0m \u001B[38;5;28;01melse\u001B[39;00m:\n\u001B[0;32m     80\u001B[0m     result \u001B[38;5;241m=\u001B[39m [backend\u001B[38;5;241m.\u001B[39mrun(circuits, \u001B[38;5;241m*\u001B[39m\u001B[38;5;241m*\u001B[39mrun_options)\u001B[38;5;241m.\u001B[39mresult()]\n",
      "File \u001B[1;32m~\\.conda\\envs\\qudityPAN\\lib\\site-packages\\qiskit\\primitives\\backend_estimator.py:78\u001B[0m, in \u001B[0;36m<listcomp>\u001B[1;34m(.0)\u001B[0m\n\u001B[0;32m     73\u001B[0m \u001B[38;5;28;01mif\u001B[39;00m max_circuits:\n\u001B[0;32m     74\u001B[0m     jobs \u001B[38;5;241m=\u001B[39m [\n\u001B[0;32m     75\u001B[0m         backend\u001B[38;5;241m.\u001B[39mrun(circuits[pos : pos \u001B[38;5;241m+\u001B[39m max_circuits], \u001B[38;5;241m*\u001B[39m\u001B[38;5;241m*\u001B[39mrun_options)\n\u001B[0;32m     76\u001B[0m         \u001B[38;5;28;01mfor\u001B[39;00m pos \u001B[38;5;129;01min\u001B[39;00m \u001B[38;5;28mrange\u001B[39m(\u001B[38;5;241m0\u001B[39m, \u001B[38;5;28mlen\u001B[39m(circuits), max_circuits)\n\u001B[0;32m     77\u001B[0m     ]\n\u001B[1;32m---> 78\u001B[0m     result \u001B[38;5;241m=\u001B[39m [\u001B[43mx\u001B[49m\u001B[38;5;241;43m.\u001B[39;49m\u001B[43mresult\u001B[49m\u001B[43m(\u001B[49m\u001B[43m)\u001B[49m \u001B[38;5;28;01mfor\u001B[39;00m x \u001B[38;5;129;01min\u001B[39;00m jobs]\n\u001B[0;32m     79\u001B[0m \u001B[38;5;28;01melse\u001B[39;00m:\n\u001B[0;32m     80\u001B[0m     result \u001B[38;5;241m=\u001B[39m [backend\u001B[38;5;241m.\u001B[39mrun(circuits, \u001B[38;5;241m*\u001B[39m\u001B[38;5;241m*\u001B[39mrun_options)\u001B[38;5;241m.\u001B[39mresult()]\n",
      "File \u001B[1;32m~\\.conda\\envs\\qudityPAN\\lib\\site-packages\\qiskit_aer\\jobs\\utils.py:38\u001B[0m, in \u001B[0;36mrequires_submit.<locals>._wrapper\u001B[1;34m(self, *args, **kwargs)\u001B[0m\n\u001B[0;32m     36\u001B[0m \u001B[38;5;28;01mif\u001B[39;00m \u001B[38;5;28mself\u001B[39m\u001B[38;5;241m.\u001B[39m_future \u001B[38;5;129;01mis\u001B[39;00m \u001B[38;5;28;01mNone\u001B[39;00m:\n\u001B[0;32m     37\u001B[0m     \u001B[38;5;28;01mraise\u001B[39;00m JobError(\u001B[38;5;124m\"\u001B[39m\u001B[38;5;124mJob not submitted yet!. You have to .submit() first!\u001B[39m\u001B[38;5;124m\"\u001B[39m)\n\u001B[1;32m---> 38\u001B[0m \u001B[38;5;28;01mreturn\u001B[39;00m func(\u001B[38;5;28mself\u001B[39m, \u001B[38;5;241m*\u001B[39margs, \u001B[38;5;241m*\u001B[39m\u001B[38;5;241m*\u001B[39mkwargs)\n",
      "File \u001B[1;32m~\\.conda\\envs\\qudityPAN\\lib\\site-packages\\qiskit_aer\\jobs\\aerjob.py:96\u001B[0m, in \u001B[0;36mAerJob.result\u001B[1;34m(self, timeout)\u001B[0m\n\u001B[0;32m     78\u001B[0m \u001B[38;5;129m@requires_submit\u001B[39m\n\u001B[0;32m     79\u001B[0m \u001B[38;5;28;01mdef\u001B[39;00m \u001B[38;5;21mresult\u001B[39m(\u001B[38;5;28mself\u001B[39m, timeout\u001B[38;5;241m=\u001B[39m\u001B[38;5;28;01mNone\u001B[39;00m):\n\u001B[0;32m     80\u001B[0m     \u001B[38;5;66;03m# pylint: disable=arguments-differ\u001B[39;00m\n\u001B[0;32m     81\u001B[0m \u001B[38;5;250m    \u001B[39m\u001B[38;5;124;03m\"\"\"Get job result. The behavior is the same as the underlying\u001B[39;00m\n\u001B[0;32m     82\u001B[0m \u001B[38;5;124;03m    concurrent Future objects,\u001B[39;00m\n\u001B[0;32m     83\u001B[0m \n\u001B[1;32m   (...)\u001B[0m\n\u001B[0;32m     94\u001B[0m \u001B[38;5;124;03m        concurrent.futures.CancelledError: if job cancelled before completed.\u001B[39;00m\n\u001B[0;32m     95\u001B[0m \u001B[38;5;124;03m    \"\"\"\u001B[39;00m\n\u001B[1;32m---> 96\u001B[0m     \u001B[38;5;28;01mreturn\u001B[39;00m \u001B[38;5;28;43mself\u001B[39;49m\u001B[38;5;241;43m.\u001B[39;49m\u001B[43m_future\u001B[49m\u001B[38;5;241;43m.\u001B[39;49m\u001B[43mresult\u001B[49m\u001B[43m(\u001B[49m\u001B[43mtimeout\u001B[49m\u001B[38;5;241;43m=\u001B[39;49m\u001B[43mtimeout\u001B[49m\u001B[43m)\u001B[49m\n",
      "File \u001B[1;32m~\\.conda\\envs\\qudityPAN\\lib\\concurrent\\futures\\_base.py:458\u001B[0m, in \u001B[0;36mFuture.result\u001B[1;34m(self, timeout)\u001B[0m\n\u001B[0;32m    456\u001B[0m     \u001B[38;5;28;01mraise\u001B[39;00m CancelledError()\n\u001B[0;32m    457\u001B[0m \u001B[38;5;28;01melif\u001B[39;00m \u001B[38;5;28mself\u001B[39m\u001B[38;5;241m.\u001B[39m_state \u001B[38;5;241m==\u001B[39m FINISHED:\n\u001B[1;32m--> 458\u001B[0m     \u001B[38;5;28;01mreturn\u001B[39;00m \u001B[38;5;28;43mself\u001B[39;49m\u001B[38;5;241;43m.\u001B[39;49m\u001B[43m__get_result\u001B[49m\u001B[43m(\u001B[49m\u001B[43m)\u001B[49m\n\u001B[0;32m    459\u001B[0m \u001B[38;5;28;01melse\u001B[39;00m:\n\u001B[0;32m    460\u001B[0m     \u001B[38;5;28;01mraise\u001B[39;00m \u001B[38;5;167;01mTimeoutError\u001B[39;00m()\n",
      "File \u001B[1;32m~\\.conda\\envs\\qudityPAN\\lib\\concurrent\\futures\\_base.py:403\u001B[0m, in \u001B[0;36mFuture.__get_result\u001B[1;34m(self)\u001B[0m\n\u001B[0;32m    401\u001B[0m \u001B[38;5;28;01mif\u001B[39;00m \u001B[38;5;28mself\u001B[39m\u001B[38;5;241m.\u001B[39m_exception:\n\u001B[0;32m    402\u001B[0m     \u001B[38;5;28;01mtry\u001B[39;00m:\n\u001B[1;32m--> 403\u001B[0m         \u001B[38;5;28;01mraise\u001B[39;00m \u001B[38;5;28mself\u001B[39m\u001B[38;5;241m.\u001B[39m_exception\n\u001B[0;32m    404\u001B[0m     \u001B[38;5;28;01mfinally\u001B[39;00m:\n\u001B[0;32m    405\u001B[0m         \u001B[38;5;66;03m# Break a reference cycle with the exception in self._exception\u001B[39;00m\n\u001B[0;32m    406\u001B[0m         \u001B[38;5;28mself\u001B[39m \u001B[38;5;241m=\u001B[39m \u001B[38;5;28;01mNone\u001B[39;00m\n",
      "File \u001B[1;32m~\\.conda\\envs\\qudityPAN\\lib\\concurrent\\futures\\thread.py:58\u001B[0m, in \u001B[0;36m_WorkItem.run\u001B[1;34m(self)\u001B[0m\n\u001B[0;32m     55\u001B[0m     \u001B[38;5;28;01mreturn\u001B[39;00m\n\u001B[0;32m     57\u001B[0m \u001B[38;5;28;01mtry\u001B[39;00m:\n\u001B[1;32m---> 58\u001B[0m     result \u001B[38;5;241m=\u001B[39m \u001B[38;5;28mself\u001B[39m\u001B[38;5;241m.\u001B[39mfn(\u001B[38;5;241m*\u001B[39m\u001B[38;5;28mself\u001B[39m\u001B[38;5;241m.\u001B[39margs, \u001B[38;5;241m*\u001B[39m\u001B[38;5;241m*\u001B[39m\u001B[38;5;28mself\u001B[39m\u001B[38;5;241m.\u001B[39mkwargs)\n\u001B[0;32m     59\u001B[0m \u001B[38;5;28;01mexcept\u001B[39;00m \u001B[38;5;167;01mBaseException\u001B[39;00m \u001B[38;5;28;01mas\u001B[39;00m exc:\n\u001B[0;32m     60\u001B[0m     \u001B[38;5;28mself\u001B[39m\u001B[38;5;241m.\u001B[39mfuture\u001B[38;5;241m.\u001B[39mset_exception(exc)\n",
      "File \u001B[1;32m~\\.conda\\envs\\qudityPAN\\lib\\site-packages\\qiskit_aer\\backends\\aerbackend.py:470\u001B[0m, in \u001B[0;36mAerBackend._execute_circuits_job\u001B[1;34m(self, circuits, parameter_binds, run_options, job_id, format_result)\u001B[0m\n\u001B[0;32m    467\u001B[0m circuits, noise_model \u001B[38;5;241m=\u001B[39m \u001B[38;5;28mself\u001B[39m\u001B[38;5;241m.\u001B[39m_compile(circuits, \u001B[38;5;241m*\u001B[39m\u001B[38;5;241m*\u001B[39mrun_options)\n\u001B[0;32m    469\u001B[0m \u001B[38;5;28;01mif\u001B[39;00m \u001B[38;5;28mself\u001B[39m\u001B[38;5;241m.\u001B[39m_target \u001B[38;5;129;01mis\u001B[39;00m \u001B[38;5;129;01mnot\u001B[39;00m \u001B[38;5;28;01mNone\u001B[39;00m:\n\u001B[1;32m--> 470\u001B[0m     aer_circuits, idx_maps \u001B[38;5;241m=\u001B[39m \u001B[43massemble_circuits\u001B[49m\u001B[43m(\u001B[49m\u001B[43mcircuits\u001B[49m\u001B[43m,\u001B[49m\u001B[43m \u001B[49m\u001B[38;5;28;43mself\u001B[39;49m\u001B[38;5;241;43m.\u001B[39;49m\u001B[43mconfiguration\u001B[49m\u001B[43m(\u001B[49m\u001B[43m)\u001B[49m\u001B[38;5;241;43m.\u001B[39;49m\u001B[43mbasis_gates\u001B[49m\u001B[43m)\u001B[49m\n\u001B[0;32m    471\u001B[0m \u001B[38;5;28;01melse\u001B[39;00m:\n\u001B[0;32m    472\u001B[0m     aer_circuits, idx_maps \u001B[38;5;241m=\u001B[39m assemble_circuits(circuits)\n",
      "File \u001B[1;32m~\\.conda\\envs\\qudityPAN\\lib\\site-packages\\qiskit_aer\\backends\\aer_compiler.py:1065\u001B[0m, in \u001B[0;36massemble_circuits\u001B[1;34m(circuits, basis_gates)\u001B[0m\n\u001B[0;32m   1062\u001B[0m \u001B[38;5;28;01mif\u001B[39;00m basis_gates \u001B[38;5;129;01mis\u001B[39;00m \u001B[38;5;129;01mnot\u001B[39;00m \u001B[38;5;28;01mNone\u001B[39;00m:\n\u001B[0;32m   1063\u001B[0m     basis_gates_set \u001B[38;5;241m=\u001B[39m \u001B[38;5;28mset\u001B[39m(basis_gates)\n\u001B[0;32m   1064\u001B[0m     aer_circuits, idx_maps \u001B[38;5;241m=\u001B[39m \u001B[38;5;28mzip\u001B[39m(\n\u001B[1;32m-> 1065\u001B[0m         \u001B[38;5;241m*\u001B[39m[assemble_circuit(circuit, basis_gates_set) \u001B[38;5;28;01mfor\u001B[39;00m circuit \u001B[38;5;129;01min\u001B[39;00m circuits]\n\u001B[0;32m   1066\u001B[0m     )\n\u001B[0;32m   1067\u001B[0m \u001B[38;5;28;01melse\u001B[39;00m:\n\u001B[0;32m   1068\u001B[0m     aer_circuits, idx_maps \u001B[38;5;241m=\u001B[39m \u001B[38;5;28mzip\u001B[39m(\u001B[38;5;241m*\u001B[39m[assemble_circuit(circuit) \u001B[38;5;28;01mfor\u001B[39;00m circuit \u001B[38;5;129;01min\u001B[39;00m circuits])\n",
      "File \u001B[1;32m~\\.conda\\envs\\qudityPAN\\lib\\site-packages\\qiskit_aer\\backends\\aer_compiler.py:1065\u001B[0m, in \u001B[0;36m<listcomp>\u001B[1;34m(.0)\u001B[0m\n\u001B[0;32m   1062\u001B[0m \u001B[38;5;28;01mif\u001B[39;00m basis_gates \u001B[38;5;129;01mis\u001B[39;00m \u001B[38;5;129;01mnot\u001B[39;00m \u001B[38;5;28;01mNone\u001B[39;00m:\n\u001B[0;32m   1063\u001B[0m     basis_gates_set \u001B[38;5;241m=\u001B[39m \u001B[38;5;28mset\u001B[39m(basis_gates)\n\u001B[0;32m   1064\u001B[0m     aer_circuits, idx_maps \u001B[38;5;241m=\u001B[39m \u001B[38;5;28mzip\u001B[39m(\n\u001B[1;32m-> 1065\u001B[0m         \u001B[38;5;241m*\u001B[39m[\u001B[43massemble_circuit\u001B[49m\u001B[43m(\u001B[49m\u001B[43mcircuit\u001B[49m\u001B[43m,\u001B[49m\u001B[43m \u001B[49m\u001B[43mbasis_gates_set\u001B[49m\u001B[43m)\u001B[49m \u001B[38;5;28;01mfor\u001B[39;00m circuit \u001B[38;5;129;01min\u001B[39;00m circuits]\n\u001B[0;32m   1066\u001B[0m     )\n\u001B[0;32m   1067\u001B[0m \u001B[38;5;28;01melse\u001B[39;00m:\n\u001B[0;32m   1068\u001B[0m     aer_circuits, idx_maps \u001B[38;5;241m=\u001B[39m \u001B[38;5;28mzip\u001B[39m(\u001B[38;5;241m*\u001B[39m[assemble_circuit(circuit) \u001B[38;5;28;01mfor\u001B[39;00m circuit \u001B[38;5;129;01min\u001B[39;00m circuits])\n",
      "File \u001B[1;32m~\\.conda\\envs\\qudityPAN\\lib\\site-packages\\qiskit_aer\\backends\\aer_compiler.py:734\u001B[0m, in \u001B[0;36massemble_circuit\u001B[1;34m(circuit, basis_gates)\u001B[0m\n\u001B[0;32m    731\u001B[0m     \u001B[38;5;28;01melif\u001B[39;00m \u001B[38;5;28mhasattr\u001B[39m(inst\u001B[38;5;241m.\u001B[39moperation, \u001B[38;5;124m\"\u001B[39m\u001B[38;5;124mcondition_expr\u001B[39m\u001B[38;5;124m\"\u001B[39m) \u001B[38;5;129;01mand\u001B[39;00m inst\u001B[38;5;241m.\u001B[39moperation\u001B[38;5;241m.\u001B[39mcondition_expr:\n\u001B[0;32m    732\u001B[0m         conditional_expr \u001B[38;5;241m=\u001B[39m inst\u001B[38;5;241m.\u001B[39moperation\u001B[38;5;241m.\u001B[39mcondition_expr\n\u001B[1;32m--> 734\u001B[0m     num_of_aer_ops \u001B[38;5;241m+\u001B[39m\u001B[38;5;241m=\u001B[39m \u001B[43m_assemble_op\u001B[49m\u001B[43m(\u001B[49m\n\u001B[0;32m    735\u001B[0m \u001B[43m        \u001B[49m\u001B[43mcircuit\u001B[49m\u001B[43m,\u001B[49m\n\u001B[0;32m    736\u001B[0m \u001B[43m        \u001B[49m\u001B[43maer_circ\u001B[49m\u001B[43m,\u001B[49m\n\u001B[0;32m    737\u001B[0m \u001B[43m        \u001B[49m\u001B[43minst\u001B[49m\u001B[43m,\u001B[49m\n\u001B[0;32m    738\u001B[0m \u001B[43m        \u001B[49m\u001B[43mqubit_indices\u001B[49m\u001B[43m,\u001B[49m\n\u001B[0;32m    739\u001B[0m \u001B[43m        \u001B[49m\u001B[43mclbit_indices\u001B[49m\u001B[43m,\u001B[49m\n\u001B[0;32m    740\u001B[0m \u001B[43m        \u001B[49m\u001B[43mis_conditional\u001B[49m\u001B[43m,\u001B[49m\n\u001B[0;32m    741\u001B[0m \u001B[43m        \u001B[49m\u001B[43mconditional_reg\u001B[49m\u001B[43m,\u001B[49m\n\u001B[0;32m    742\u001B[0m \u001B[43m        \u001B[49m\u001B[43mconditional_expr\u001B[49m\u001B[43m,\u001B[49m\n\u001B[0;32m    743\u001B[0m \u001B[43m        \u001B[49m\u001B[43mbasis_gates\u001B[49m\u001B[43m,\u001B[49m\n\u001B[0;32m    744\u001B[0m \u001B[43m    \u001B[49m\u001B[43m)\u001B[49m\n\u001B[0;32m    745\u001B[0m     index_map\u001B[38;5;241m.\u001B[39mappend(num_of_aer_ops \u001B[38;5;241m-\u001B[39m \u001B[38;5;241m1\u001B[39m)\n\u001B[0;32m    747\u001B[0m \u001B[38;5;28;01mreturn\u001B[39;00m aer_circ, index_map\n",
      "File \u001B[1;32m~\\.conda\\envs\\qudityPAN\\lib\\site-packages\\qiskit_aer\\backends\\aer_compiler.py:1032\u001B[0m, in \u001B[0;36m_assemble_op\u001B[1;34m(circ, aer_circ, inst, qubit_indices, clbit_indices, is_conditional, conditional_reg, conditional_expr, basis_gates)\u001B[0m\n\u001B[0;32m   1030\u001B[0m     num_of_aer_ops \u001B[38;5;241m=\u001B[39m \u001B[38;5;241m1\u001B[39m\n\u001B[0;32m   1031\u001B[0m \u001B[38;5;28;01melse\u001B[39;00m:\n\u001B[1;32m-> 1032\u001B[0m     \u001B[38;5;28;01mraise\u001B[39;00m AerError(\u001B[38;5;124mf\u001B[39m\u001B[38;5;124m\"\u001B[39m\u001B[38;5;124munknown instruction: \u001B[39m\u001B[38;5;132;01m{\u001B[39;00mname\u001B[38;5;132;01m}\u001B[39;00m\u001B[38;5;124m\"\u001B[39m)\n\u001B[0;32m   1034\u001B[0m \u001B[38;5;28;01mreturn\u001B[39;00m num_of_aer_ops\n",
      "\u001B[1;31mAerError\u001B[0m: 'unknown instruction: cz'"
     ]
    }
   ],
   "execution_count": 51
  },
  {
   "metadata": {
    "ExecuteTime": {
     "end_time": "2025-05-14T19:55:52.648942Z",
     "start_time": "2025-05-14T19:55:46.985913Z"
    }
   },
   "cell_type": "code",
   "outputs": [
    {
     "ename": "AerError",
     "evalue": "'unknown instruction: cz'",
     "output_type": "error",
     "traceback": [
      "\u001B[1;31m---------------------------------------------------------------------------\u001B[0m",
      "\u001B[1;31mAerError\u001B[0m                                  Traceback (most recent call last)",
      "Cell \u001B[1;32mIn[22], line 4\u001B[0m\n\u001B[0;32m      1\u001B[0m isa_qc \u001B[38;5;241m=\u001B[39m pm\u001B[38;5;241m.\u001B[39mrun(final_circs[\u001B[38;5;241m0\u001B[39m])\n\u001B[0;32m      3\u001B[0m jobSim \u001B[38;5;241m=\u001B[39m sampler\u001B[38;5;241m.\u001B[39mrun([isa_qc], shots \u001B[38;5;241m=\u001B[39m shots_sim)\n\u001B[1;32m----> 4\u001B[0m data_pubSim \u001B[38;5;241m=\u001B[39m \u001B[43mjobSim\u001B[49m\u001B[38;5;241;43m.\u001B[39;49m\u001B[43mresult\u001B[49m\u001B[43m(\u001B[49m\u001B[43m)\u001B[49m[\u001B[38;5;241m0\u001B[39m]\u001B[38;5;241m.\u001B[39mdata\n\u001B[0;32m      5\u001B[0m countsSim \u001B[38;5;241m=\u001B[39m data_pubSim\u001B[38;5;241m.\u001B[39mmeas\u001B[38;5;241m.\u001B[39mget_counts()\n\u001B[0;32m      6\u001B[0m \u001B[38;5;66;03m#exps_operators.append(str_list_gates[j])\u001B[39;00m\n",
      "File \u001B[1;32m~\\.conda\\envs\\qudityPAN\\lib\\site-packages\\qiskit\\primitives\\primitive_job.py:51\u001B[0m, in \u001B[0;36mPrimitiveJob.result\u001B[1;34m(self)\u001B[0m\n\u001B[0;32m     49\u001B[0m \u001B[38;5;28;01mdef\u001B[39;00m \u001B[38;5;21mresult\u001B[39m(\u001B[38;5;28mself\u001B[39m) \u001B[38;5;241m-\u001B[39m\u001B[38;5;241m>\u001B[39m ResultT:\n\u001B[0;32m     50\u001B[0m     \u001B[38;5;28mself\u001B[39m\u001B[38;5;241m.\u001B[39m_check_submitted()\n\u001B[1;32m---> 51\u001B[0m     \u001B[38;5;28;01mreturn\u001B[39;00m \u001B[38;5;28;43mself\u001B[39;49m\u001B[38;5;241;43m.\u001B[39;49m\u001B[43m_future\u001B[49m\u001B[38;5;241;43m.\u001B[39;49m\u001B[43mresult\u001B[49m\u001B[43m(\u001B[49m\u001B[43m)\u001B[49m\n",
      "File \u001B[1;32m~\\.conda\\envs\\qudityPAN\\lib\\concurrent\\futures\\_base.py:458\u001B[0m, in \u001B[0;36mFuture.result\u001B[1;34m(self, timeout)\u001B[0m\n\u001B[0;32m    456\u001B[0m     \u001B[38;5;28;01mraise\u001B[39;00m CancelledError()\n\u001B[0;32m    457\u001B[0m \u001B[38;5;28;01melif\u001B[39;00m \u001B[38;5;28mself\u001B[39m\u001B[38;5;241m.\u001B[39m_state \u001B[38;5;241m==\u001B[39m FINISHED:\n\u001B[1;32m--> 458\u001B[0m     \u001B[38;5;28;01mreturn\u001B[39;00m \u001B[38;5;28;43mself\u001B[39;49m\u001B[38;5;241;43m.\u001B[39;49m\u001B[43m__get_result\u001B[49m\u001B[43m(\u001B[49m\u001B[43m)\u001B[49m\n\u001B[0;32m    459\u001B[0m \u001B[38;5;28;01melse\u001B[39;00m:\n\u001B[0;32m    460\u001B[0m     \u001B[38;5;28;01mraise\u001B[39;00m \u001B[38;5;167;01mTimeoutError\u001B[39;00m()\n",
      "File \u001B[1;32m~\\.conda\\envs\\qudityPAN\\lib\\concurrent\\futures\\_base.py:403\u001B[0m, in \u001B[0;36mFuture.__get_result\u001B[1;34m(self)\u001B[0m\n\u001B[0;32m    401\u001B[0m \u001B[38;5;28;01mif\u001B[39;00m \u001B[38;5;28mself\u001B[39m\u001B[38;5;241m.\u001B[39m_exception:\n\u001B[0;32m    402\u001B[0m     \u001B[38;5;28;01mtry\u001B[39;00m:\n\u001B[1;32m--> 403\u001B[0m         \u001B[38;5;28;01mraise\u001B[39;00m \u001B[38;5;28mself\u001B[39m\u001B[38;5;241m.\u001B[39m_exception\n\u001B[0;32m    404\u001B[0m     \u001B[38;5;28;01mfinally\u001B[39;00m:\n\u001B[0;32m    405\u001B[0m         \u001B[38;5;66;03m# Break a reference cycle with the exception in self._exception\u001B[39;00m\n\u001B[0;32m    406\u001B[0m         \u001B[38;5;28mself\u001B[39m \u001B[38;5;241m=\u001B[39m \u001B[38;5;28;01mNone\u001B[39;00m\n",
      "File \u001B[1;32m~\\.conda\\envs\\qudityPAN\\lib\\concurrent\\futures\\thread.py:58\u001B[0m, in \u001B[0;36m_WorkItem.run\u001B[1;34m(self)\u001B[0m\n\u001B[0;32m     55\u001B[0m     \u001B[38;5;28;01mreturn\u001B[39;00m\n\u001B[0;32m     57\u001B[0m \u001B[38;5;28;01mtry\u001B[39;00m:\n\u001B[1;32m---> 58\u001B[0m     result \u001B[38;5;241m=\u001B[39m \u001B[38;5;28mself\u001B[39m\u001B[38;5;241m.\u001B[39mfn(\u001B[38;5;241m*\u001B[39m\u001B[38;5;28mself\u001B[39m\u001B[38;5;241m.\u001B[39margs, \u001B[38;5;241m*\u001B[39m\u001B[38;5;241m*\u001B[39m\u001B[38;5;28mself\u001B[39m\u001B[38;5;241m.\u001B[39mkwargs)\n\u001B[0;32m     59\u001B[0m \u001B[38;5;28;01mexcept\u001B[39;00m \u001B[38;5;167;01mBaseException\u001B[39;00m \u001B[38;5;28;01mas\u001B[39;00m exc:\n\u001B[0;32m     60\u001B[0m     \u001B[38;5;28mself\u001B[39m\u001B[38;5;241m.\u001B[39mfuture\u001B[38;5;241m.\u001B[39mset_exception(exc)\n",
      "File \u001B[1;32m~\\.conda\\envs\\qudityPAN\\lib\\site-packages\\qiskit\\primitives\\backend_sampler_v2.py:173\u001B[0m, in \u001B[0;36mBackendSamplerV2._run\u001B[1;34m(self, pubs)\u001B[0m\n\u001B[0;32m    170\u001B[0m results \u001B[38;5;241m=\u001B[39m [\u001B[38;5;28;01mNone\u001B[39;00m] \u001B[38;5;241m*\u001B[39m \u001B[38;5;28mlen\u001B[39m(pubs)\n\u001B[0;32m    171\u001B[0m \u001B[38;5;28;01mfor\u001B[39;00m shots, lst \u001B[38;5;129;01min\u001B[39;00m pub_dict\u001B[38;5;241m.\u001B[39mitems():\n\u001B[0;32m    172\u001B[0m     \u001B[38;5;66;03m# run pubs with the same number of shots at once\u001B[39;00m\n\u001B[1;32m--> 173\u001B[0m     pub_results \u001B[38;5;241m=\u001B[39m \u001B[38;5;28;43mself\u001B[39;49m\u001B[38;5;241;43m.\u001B[39;49m\u001B[43m_run_pubs\u001B[49m\u001B[43m(\u001B[49m\u001B[43m[\u001B[49m\u001B[43mpubs\u001B[49m\u001B[43m[\u001B[49m\u001B[43mi\u001B[49m\u001B[43m]\u001B[49m\u001B[43m \u001B[49m\u001B[38;5;28;43;01mfor\u001B[39;49;00m\u001B[43m \u001B[49m\u001B[43mi\u001B[49m\u001B[43m \u001B[49m\u001B[38;5;129;43;01min\u001B[39;49;00m\u001B[43m \u001B[49m\u001B[43mlst\u001B[49m\u001B[43m]\u001B[49m\u001B[43m,\u001B[49m\u001B[43m \u001B[49m\u001B[43mshots\u001B[49m\u001B[43m)\u001B[49m\n\u001B[0;32m    174\u001B[0m     \u001B[38;5;66;03m# reconstruct the result of pubs\u001B[39;00m\n\u001B[0;32m    175\u001B[0m     \u001B[38;5;28;01mfor\u001B[39;00m i, pub_result \u001B[38;5;129;01min\u001B[39;00m \u001B[38;5;28mzip\u001B[39m(lst, pub_results):\n",
      "File \u001B[1;32m~\\.conda\\envs\\qudityPAN\\lib\\site-packages\\qiskit\\primitives\\backend_sampler_v2.py:189\u001B[0m, in \u001B[0;36mBackendSamplerV2._run_pubs\u001B[1;34m(self, pubs, shots)\u001B[0m\n\u001B[0;32m    187\u001B[0m run_opts \u001B[38;5;241m=\u001B[39m \u001B[38;5;28mself\u001B[39m\u001B[38;5;241m.\u001B[39m_options\u001B[38;5;241m.\u001B[39mrun_options \u001B[38;5;129;01mor\u001B[39;00m {}\n\u001B[0;32m    188\u001B[0m \u001B[38;5;66;03m# run circuits\u001B[39;00m\n\u001B[1;32m--> 189\u001B[0m results, _ \u001B[38;5;241m=\u001B[39m _run_circuits(\n\u001B[0;32m    190\u001B[0m     flatten_circuits,\n\u001B[0;32m    191\u001B[0m     \u001B[38;5;28mself\u001B[39m\u001B[38;5;241m.\u001B[39m_backend,\n\u001B[0;32m    192\u001B[0m     clear_metadata\u001B[38;5;241m=\u001B[39m\u001B[38;5;28;01mFalse\u001B[39;00m,\n\u001B[0;32m    193\u001B[0m     memory\u001B[38;5;241m=\u001B[39m\u001B[38;5;28;01mTrue\u001B[39;00m,\n\u001B[0;32m    194\u001B[0m     shots\u001B[38;5;241m=\u001B[39mshots,\n\u001B[0;32m    195\u001B[0m     seed_simulator\u001B[38;5;241m=\u001B[39m\u001B[38;5;28mself\u001B[39m\u001B[38;5;241m.\u001B[39m_options\u001B[38;5;241m.\u001B[39mseed_simulator,\n\u001B[0;32m    196\u001B[0m     \u001B[38;5;241m*\u001B[39m\u001B[38;5;241m*\u001B[39mrun_opts,\n\u001B[0;32m    197\u001B[0m )\n\u001B[0;32m    198\u001B[0m result_memory \u001B[38;5;241m=\u001B[39m _prepare_memory(results)\n\u001B[0;32m    200\u001B[0m \u001B[38;5;66;03m# pack memory to an ndarray of uint8\u001B[39;00m\n",
      "File \u001B[1;32m~\\.conda\\envs\\qudityPAN\\lib\\site-packages\\qiskit\\primitives\\backend_estimator.py:78\u001B[0m, in \u001B[0;36m_run_circuits\u001B[1;34m(circuits, backend, clear_metadata, **run_options)\u001B[0m\n\u001B[0;32m     73\u001B[0m \u001B[38;5;28;01mif\u001B[39;00m max_circuits:\n\u001B[0;32m     74\u001B[0m     jobs \u001B[38;5;241m=\u001B[39m [\n\u001B[0;32m     75\u001B[0m         backend\u001B[38;5;241m.\u001B[39mrun(circuits[pos : pos \u001B[38;5;241m+\u001B[39m max_circuits], \u001B[38;5;241m*\u001B[39m\u001B[38;5;241m*\u001B[39mrun_options)\n\u001B[0;32m     76\u001B[0m         \u001B[38;5;28;01mfor\u001B[39;00m pos \u001B[38;5;129;01min\u001B[39;00m \u001B[38;5;28mrange\u001B[39m(\u001B[38;5;241m0\u001B[39m, \u001B[38;5;28mlen\u001B[39m(circuits), max_circuits)\n\u001B[0;32m     77\u001B[0m     ]\n\u001B[1;32m---> 78\u001B[0m     result \u001B[38;5;241m=\u001B[39m [x\u001B[38;5;241m.\u001B[39mresult() \u001B[38;5;28;01mfor\u001B[39;00m x \u001B[38;5;129;01min\u001B[39;00m jobs]\n\u001B[0;32m     79\u001B[0m \u001B[38;5;28;01melse\u001B[39;00m:\n\u001B[0;32m     80\u001B[0m     result \u001B[38;5;241m=\u001B[39m [backend\u001B[38;5;241m.\u001B[39mrun(circuits, \u001B[38;5;241m*\u001B[39m\u001B[38;5;241m*\u001B[39mrun_options)\u001B[38;5;241m.\u001B[39mresult()]\n",
      "File \u001B[1;32m~\\.conda\\envs\\qudityPAN\\lib\\site-packages\\qiskit\\primitives\\backend_estimator.py:78\u001B[0m, in \u001B[0;36m<listcomp>\u001B[1;34m(.0)\u001B[0m\n\u001B[0;32m     73\u001B[0m \u001B[38;5;28;01mif\u001B[39;00m max_circuits:\n\u001B[0;32m     74\u001B[0m     jobs \u001B[38;5;241m=\u001B[39m [\n\u001B[0;32m     75\u001B[0m         backend\u001B[38;5;241m.\u001B[39mrun(circuits[pos : pos \u001B[38;5;241m+\u001B[39m max_circuits], \u001B[38;5;241m*\u001B[39m\u001B[38;5;241m*\u001B[39mrun_options)\n\u001B[0;32m     76\u001B[0m         \u001B[38;5;28;01mfor\u001B[39;00m pos \u001B[38;5;129;01min\u001B[39;00m \u001B[38;5;28mrange\u001B[39m(\u001B[38;5;241m0\u001B[39m, \u001B[38;5;28mlen\u001B[39m(circuits), max_circuits)\n\u001B[0;32m     77\u001B[0m     ]\n\u001B[1;32m---> 78\u001B[0m     result \u001B[38;5;241m=\u001B[39m [\u001B[43mx\u001B[49m\u001B[38;5;241;43m.\u001B[39;49m\u001B[43mresult\u001B[49m\u001B[43m(\u001B[49m\u001B[43m)\u001B[49m \u001B[38;5;28;01mfor\u001B[39;00m x \u001B[38;5;129;01min\u001B[39;00m jobs]\n\u001B[0;32m     79\u001B[0m \u001B[38;5;28;01melse\u001B[39;00m:\n\u001B[0;32m     80\u001B[0m     result \u001B[38;5;241m=\u001B[39m [backend\u001B[38;5;241m.\u001B[39mrun(circuits, \u001B[38;5;241m*\u001B[39m\u001B[38;5;241m*\u001B[39mrun_options)\u001B[38;5;241m.\u001B[39mresult()]\n",
      "File \u001B[1;32m~\\.conda\\envs\\qudityPAN\\lib\\site-packages\\qiskit_aer\\jobs\\utils.py:38\u001B[0m, in \u001B[0;36mrequires_submit.<locals>._wrapper\u001B[1;34m(self, *args, **kwargs)\u001B[0m\n\u001B[0;32m     36\u001B[0m \u001B[38;5;28;01mif\u001B[39;00m \u001B[38;5;28mself\u001B[39m\u001B[38;5;241m.\u001B[39m_future \u001B[38;5;129;01mis\u001B[39;00m \u001B[38;5;28;01mNone\u001B[39;00m:\n\u001B[0;32m     37\u001B[0m     \u001B[38;5;28;01mraise\u001B[39;00m JobError(\u001B[38;5;124m\"\u001B[39m\u001B[38;5;124mJob not submitted yet!. You have to .submit() first!\u001B[39m\u001B[38;5;124m\"\u001B[39m)\n\u001B[1;32m---> 38\u001B[0m \u001B[38;5;28;01mreturn\u001B[39;00m func(\u001B[38;5;28mself\u001B[39m, \u001B[38;5;241m*\u001B[39margs, \u001B[38;5;241m*\u001B[39m\u001B[38;5;241m*\u001B[39mkwargs)\n",
      "File \u001B[1;32m~\\.conda\\envs\\qudityPAN\\lib\\site-packages\\qiskit_aer\\jobs\\aerjob.py:96\u001B[0m, in \u001B[0;36mAerJob.result\u001B[1;34m(self, timeout)\u001B[0m\n\u001B[0;32m     78\u001B[0m \u001B[38;5;129m@requires_submit\u001B[39m\n\u001B[0;32m     79\u001B[0m \u001B[38;5;28;01mdef\u001B[39;00m \u001B[38;5;21mresult\u001B[39m(\u001B[38;5;28mself\u001B[39m, timeout\u001B[38;5;241m=\u001B[39m\u001B[38;5;28;01mNone\u001B[39;00m):\n\u001B[0;32m     80\u001B[0m     \u001B[38;5;66;03m# pylint: disable=arguments-differ\u001B[39;00m\n\u001B[0;32m     81\u001B[0m \u001B[38;5;250m    \u001B[39m\u001B[38;5;124;03m\"\"\"Get job result. The behavior is the same as the underlying\u001B[39;00m\n\u001B[0;32m     82\u001B[0m \u001B[38;5;124;03m    concurrent Future objects,\u001B[39;00m\n\u001B[0;32m     83\u001B[0m \n\u001B[1;32m   (...)\u001B[0m\n\u001B[0;32m     94\u001B[0m \u001B[38;5;124;03m        concurrent.futures.CancelledError: if job cancelled before completed.\u001B[39;00m\n\u001B[0;32m     95\u001B[0m \u001B[38;5;124;03m    \"\"\"\u001B[39;00m\n\u001B[1;32m---> 96\u001B[0m     \u001B[38;5;28;01mreturn\u001B[39;00m \u001B[38;5;28;43mself\u001B[39;49m\u001B[38;5;241;43m.\u001B[39;49m\u001B[43m_future\u001B[49m\u001B[38;5;241;43m.\u001B[39;49m\u001B[43mresult\u001B[49m\u001B[43m(\u001B[49m\u001B[43mtimeout\u001B[49m\u001B[38;5;241;43m=\u001B[39;49m\u001B[43mtimeout\u001B[49m\u001B[43m)\u001B[49m\n",
      "File \u001B[1;32m~\\.conda\\envs\\qudityPAN\\lib\\concurrent\\futures\\_base.py:458\u001B[0m, in \u001B[0;36mFuture.result\u001B[1;34m(self, timeout)\u001B[0m\n\u001B[0;32m    456\u001B[0m     \u001B[38;5;28;01mraise\u001B[39;00m CancelledError()\n\u001B[0;32m    457\u001B[0m \u001B[38;5;28;01melif\u001B[39;00m \u001B[38;5;28mself\u001B[39m\u001B[38;5;241m.\u001B[39m_state \u001B[38;5;241m==\u001B[39m FINISHED:\n\u001B[1;32m--> 458\u001B[0m     \u001B[38;5;28;01mreturn\u001B[39;00m \u001B[38;5;28;43mself\u001B[39;49m\u001B[38;5;241;43m.\u001B[39;49m\u001B[43m__get_result\u001B[49m\u001B[43m(\u001B[49m\u001B[43m)\u001B[49m\n\u001B[0;32m    459\u001B[0m \u001B[38;5;28;01melse\u001B[39;00m:\n\u001B[0;32m    460\u001B[0m     \u001B[38;5;28;01mraise\u001B[39;00m \u001B[38;5;167;01mTimeoutError\u001B[39;00m()\n",
      "File \u001B[1;32m~\\.conda\\envs\\qudityPAN\\lib\\concurrent\\futures\\_base.py:403\u001B[0m, in \u001B[0;36mFuture.__get_result\u001B[1;34m(self)\u001B[0m\n\u001B[0;32m    401\u001B[0m \u001B[38;5;28;01mif\u001B[39;00m \u001B[38;5;28mself\u001B[39m\u001B[38;5;241m.\u001B[39m_exception:\n\u001B[0;32m    402\u001B[0m     \u001B[38;5;28;01mtry\u001B[39;00m:\n\u001B[1;32m--> 403\u001B[0m         \u001B[38;5;28;01mraise\u001B[39;00m \u001B[38;5;28mself\u001B[39m\u001B[38;5;241m.\u001B[39m_exception\n\u001B[0;32m    404\u001B[0m     \u001B[38;5;28;01mfinally\u001B[39;00m:\n\u001B[0;32m    405\u001B[0m         \u001B[38;5;66;03m# Break a reference cycle with the exception in self._exception\u001B[39;00m\n\u001B[0;32m    406\u001B[0m         \u001B[38;5;28mself\u001B[39m \u001B[38;5;241m=\u001B[39m \u001B[38;5;28;01mNone\u001B[39;00m\n",
      "File \u001B[1;32m~\\.conda\\envs\\qudityPAN\\lib\\concurrent\\futures\\thread.py:58\u001B[0m, in \u001B[0;36m_WorkItem.run\u001B[1;34m(self)\u001B[0m\n\u001B[0;32m     55\u001B[0m     \u001B[38;5;28;01mreturn\u001B[39;00m\n\u001B[0;32m     57\u001B[0m \u001B[38;5;28;01mtry\u001B[39;00m:\n\u001B[1;32m---> 58\u001B[0m     result \u001B[38;5;241m=\u001B[39m \u001B[38;5;28mself\u001B[39m\u001B[38;5;241m.\u001B[39mfn(\u001B[38;5;241m*\u001B[39m\u001B[38;5;28mself\u001B[39m\u001B[38;5;241m.\u001B[39margs, \u001B[38;5;241m*\u001B[39m\u001B[38;5;241m*\u001B[39m\u001B[38;5;28mself\u001B[39m\u001B[38;5;241m.\u001B[39mkwargs)\n\u001B[0;32m     59\u001B[0m \u001B[38;5;28;01mexcept\u001B[39;00m \u001B[38;5;167;01mBaseException\u001B[39;00m \u001B[38;5;28;01mas\u001B[39;00m exc:\n\u001B[0;32m     60\u001B[0m     \u001B[38;5;28mself\u001B[39m\u001B[38;5;241m.\u001B[39mfuture\u001B[38;5;241m.\u001B[39mset_exception(exc)\n",
      "File \u001B[1;32m~\\.conda\\envs\\qudityPAN\\lib\\site-packages\\qiskit_aer\\backends\\aerbackend.py:470\u001B[0m, in \u001B[0;36mAerBackend._execute_circuits_job\u001B[1;34m(self, circuits, parameter_binds, run_options, job_id, format_result)\u001B[0m\n\u001B[0;32m    467\u001B[0m circuits, noise_model \u001B[38;5;241m=\u001B[39m \u001B[38;5;28mself\u001B[39m\u001B[38;5;241m.\u001B[39m_compile(circuits, \u001B[38;5;241m*\u001B[39m\u001B[38;5;241m*\u001B[39mrun_options)\n\u001B[0;32m    469\u001B[0m \u001B[38;5;28;01mif\u001B[39;00m \u001B[38;5;28mself\u001B[39m\u001B[38;5;241m.\u001B[39m_target \u001B[38;5;129;01mis\u001B[39;00m \u001B[38;5;129;01mnot\u001B[39;00m \u001B[38;5;28;01mNone\u001B[39;00m:\n\u001B[1;32m--> 470\u001B[0m     aer_circuits, idx_maps \u001B[38;5;241m=\u001B[39m \u001B[43massemble_circuits\u001B[49m\u001B[43m(\u001B[49m\u001B[43mcircuits\u001B[49m\u001B[43m,\u001B[49m\u001B[43m \u001B[49m\u001B[38;5;28;43mself\u001B[39;49m\u001B[38;5;241;43m.\u001B[39;49m\u001B[43mconfiguration\u001B[49m\u001B[43m(\u001B[49m\u001B[43m)\u001B[49m\u001B[38;5;241;43m.\u001B[39;49m\u001B[43mbasis_gates\u001B[49m\u001B[43m)\u001B[49m\n\u001B[0;32m    471\u001B[0m \u001B[38;5;28;01melse\u001B[39;00m:\n\u001B[0;32m    472\u001B[0m     aer_circuits, idx_maps \u001B[38;5;241m=\u001B[39m assemble_circuits(circuits)\n",
      "File \u001B[1;32m~\\.conda\\envs\\qudityPAN\\lib\\site-packages\\qiskit_aer\\backends\\aer_compiler.py:1065\u001B[0m, in \u001B[0;36massemble_circuits\u001B[1;34m(circuits, basis_gates)\u001B[0m\n\u001B[0;32m   1062\u001B[0m \u001B[38;5;28;01mif\u001B[39;00m basis_gates \u001B[38;5;129;01mis\u001B[39;00m \u001B[38;5;129;01mnot\u001B[39;00m \u001B[38;5;28;01mNone\u001B[39;00m:\n\u001B[0;32m   1063\u001B[0m     basis_gates_set \u001B[38;5;241m=\u001B[39m \u001B[38;5;28mset\u001B[39m(basis_gates)\n\u001B[0;32m   1064\u001B[0m     aer_circuits, idx_maps \u001B[38;5;241m=\u001B[39m \u001B[38;5;28mzip\u001B[39m(\n\u001B[1;32m-> 1065\u001B[0m         \u001B[38;5;241m*\u001B[39m[assemble_circuit(circuit, basis_gates_set) \u001B[38;5;28;01mfor\u001B[39;00m circuit \u001B[38;5;129;01min\u001B[39;00m circuits]\n\u001B[0;32m   1066\u001B[0m     )\n\u001B[0;32m   1067\u001B[0m \u001B[38;5;28;01melse\u001B[39;00m:\n\u001B[0;32m   1068\u001B[0m     aer_circuits, idx_maps \u001B[38;5;241m=\u001B[39m \u001B[38;5;28mzip\u001B[39m(\u001B[38;5;241m*\u001B[39m[assemble_circuit(circuit) \u001B[38;5;28;01mfor\u001B[39;00m circuit \u001B[38;5;129;01min\u001B[39;00m circuits])\n",
      "File \u001B[1;32m~\\.conda\\envs\\qudityPAN\\lib\\site-packages\\qiskit_aer\\backends\\aer_compiler.py:1065\u001B[0m, in \u001B[0;36m<listcomp>\u001B[1;34m(.0)\u001B[0m\n\u001B[0;32m   1062\u001B[0m \u001B[38;5;28;01mif\u001B[39;00m basis_gates \u001B[38;5;129;01mis\u001B[39;00m \u001B[38;5;129;01mnot\u001B[39;00m \u001B[38;5;28;01mNone\u001B[39;00m:\n\u001B[0;32m   1063\u001B[0m     basis_gates_set \u001B[38;5;241m=\u001B[39m \u001B[38;5;28mset\u001B[39m(basis_gates)\n\u001B[0;32m   1064\u001B[0m     aer_circuits, idx_maps \u001B[38;5;241m=\u001B[39m \u001B[38;5;28mzip\u001B[39m(\n\u001B[1;32m-> 1065\u001B[0m         \u001B[38;5;241m*\u001B[39m[\u001B[43massemble_circuit\u001B[49m\u001B[43m(\u001B[49m\u001B[43mcircuit\u001B[49m\u001B[43m,\u001B[49m\u001B[43m \u001B[49m\u001B[43mbasis_gates_set\u001B[49m\u001B[43m)\u001B[49m \u001B[38;5;28;01mfor\u001B[39;00m circuit \u001B[38;5;129;01min\u001B[39;00m circuits]\n\u001B[0;32m   1066\u001B[0m     )\n\u001B[0;32m   1067\u001B[0m \u001B[38;5;28;01melse\u001B[39;00m:\n\u001B[0;32m   1068\u001B[0m     aer_circuits, idx_maps \u001B[38;5;241m=\u001B[39m \u001B[38;5;28mzip\u001B[39m(\u001B[38;5;241m*\u001B[39m[assemble_circuit(circuit) \u001B[38;5;28;01mfor\u001B[39;00m circuit \u001B[38;5;129;01min\u001B[39;00m circuits])\n",
      "File \u001B[1;32m~\\.conda\\envs\\qudityPAN\\lib\\site-packages\\qiskit_aer\\backends\\aer_compiler.py:734\u001B[0m, in \u001B[0;36massemble_circuit\u001B[1;34m(circuit, basis_gates)\u001B[0m\n\u001B[0;32m    731\u001B[0m     \u001B[38;5;28;01melif\u001B[39;00m \u001B[38;5;28mhasattr\u001B[39m(inst\u001B[38;5;241m.\u001B[39moperation, \u001B[38;5;124m\"\u001B[39m\u001B[38;5;124mcondition_expr\u001B[39m\u001B[38;5;124m\"\u001B[39m) \u001B[38;5;129;01mand\u001B[39;00m inst\u001B[38;5;241m.\u001B[39moperation\u001B[38;5;241m.\u001B[39mcondition_expr:\n\u001B[0;32m    732\u001B[0m         conditional_expr \u001B[38;5;241m=\u001B[39m inst\u001B[38;5;241m.\u001B[39moperation\u001B[38;5;241m.\u001B[39mcondition_expr\n\u001B[1;32m--> 734\u001B[0m     num_of_aer_ops \u001B[38;5;241m+\u001B[39m\u001B[38;5;241m=\u001B[39m \u001B[43m_assemble_op\u001B[49m\u001B[43m(\u001B[49m\n\u001B[0;32m    735\u001B[0m \u001B[43m        \u001B[49m\u001B[43mcircuit\u001B[49m\u001B[43m,\u001B[49m\n\u001B[0;32m    736\u001B[0m \u001B[43m        \u001B[49m\u001B[43maer_circ\u001B[49m\u001B[43m,\u001B[49m\n\u001B[0;32m    737\u001B[0m \u001B[43m        \u001B[49m\u001B[43minst\u001B[49m\u001B[43m,\u001B[49m\n\u001B[0;32m    738\u001B[0m \u001B[43m        \u001B[49m\u001B[43mqubit_indices\u001B[49m\u001B[43m,\u001B[49m\n\u001B[0;32m    739\u001B[0m \u001B[43m        \u001B[49m\u001B[43mclbit_indices\u001B[49m\u001B[43m,\u001B[49m\n\u001B[0;32m    740\u001B[0m \u001B[43m        \u001B[49m\u001B[43mis_conditional\u001B[49m\u001B[43m,\u001B[49m\n\u001B[0;32m    741\u001B[0m \u001B[43m        \u001B[49m\u001B[43mconditional_reg\u001B[49m\u001B[43m,\u001B[49m\n\u001B[0;32m    742\u001B[0m \u001B[43m        \u001B[49m\u001B[43mconditional_expr\u001B[49m\u001B[43m,\u001B[49m\n\u001B[0;32m    743\u001B[0m \u001B[43m        \u001B[49m\u001B[43mbasis_gates\u001B[49m\u001B[43m,\u001B[49m\n\u001B[0;32m    744\u001B[0m \u001B[43m    \u001B[49m\u001B[43m)\u001B[49m\n\u001B[0;32m    745\u001B[0m     index_map\u001B[38;5;241m.\u001B[39mappend(num_of_aer_ops \u001B[38;5;241m-\u001B[39m \u001B[38;5;241m1\u001B[39m)\n\u001B[0;32m    747\u001B[0m \u001B[38;5;28;01mreturn\u001B[39;00m aer_circ, index_map\n",
      "File \u001B[1;32m~\\.conda\\envs\\qudityPAN\\lib\\site-packages\\qiskit_aer\\backends\\aer_compiler.py:1032\u001B[0m, in \u001B[0;36m_assemble_op\u001B[1;34m(circ, aer_circ, inst, qubit_indices, clbit_indices, is_conditional, conditional_reg, conditional_expr, basis_gates)\u001B[0m\n\u001B[0;32m   1030\u001B[0m     num_of_aer_ops \u001B[38;5;241m=\u001B[39m \u001B[38;5;241m1\u001B[39m\n\u001B[0;32m   1031\u001B[0m \u001B[38;5;28;01melse\u001B[39;00m:\n\u001B[1;32m-> 1032\u001B[0m     \u001B[38;5;28;01mraise\u001B[39;00m AerError(\u001B[38;5;124mf\u001B[39m\u001B[38;5;124m\"\u001B[39m\u001B[38;5;124munknown instruction: \u001B[39m\u001B[38;5;132;01m{\u001B[39;00mname\u001B[38;5;132;01m}\u001B[39;00m\u001B[38;5;124m\"\u001B[39m)\n\u001B[0;32m   1034\u001B[0m \u001B[38;5;28;01mreturn\u001B[39;00m num_of_aer_ops\n",
      "\u001B[1;31mAerError\u001B[0m: 'unknown instruction: cz'"
     ]
    }
   ],
   "execution_count": 22,
   "source": [
    "data_pubSim = jobSim.result()[0].data\n",
    "countsSim = data_pubSim.meas.get_counts()\n",
    "#exps_operators.append(str_list_gates[j])\n",
    "bell_exp_sim = exp_bell(countsSim, shots_sim, 0)\n",
    "bell_exp_list_sim.append(np.absolute(bell_exp_sim))"
   ],
   "id": "ff9866b703f74257"
  },
  {
   "metadata": {
    "ExecuteTime": {
     "end_time": "2025-05-14T19:55:52.694365400Z",
     "start_time": "2025-05-13T19:47:35.240902Z"
    }
   },
   "cell_type": "code",
   "outputs": [],
   "execution_count": 49,
   "source": [
    "for m, n in zip(final_circs, range(len(final_circs))):\n",
    "    isa_qc = pm.run(m)\n",
    "\n",
    "    jobSim = sampler.run([isa_qc], shots = shots_sim)\n",
    "    data_pubSim = jobSim.result()[0].data\n",
    "    countsSim = data_pubSim.meas.get_counts()\n",
    "    #exps_operators.append(str_list_gates[j])\n",
    "    bell_exp_sim = exp_bell(countsSim, shots_sim, n)\n",
    "    bell_exp_list_sim.append(np.absolute(bell_exp_sim))"
   ],
   "id": "fb287d4e95cccd71"
  },
  {
   "metadata": {
    "ExecuteTime": {
     "end_time": "2025-05-14T19:55:52.749309Z",
     "start_time": "2025-05-13T19:49:07.479668Z"
    }
   },
   "cell_type": "code",
   "source": "bell_exp_list_sim",
   "id": "da4cb557de67d1f3",
   "outputs": [
    {
     "data": {
      "text/plain": [
       "[np.float64(1.000000000000002),\n",
       " np.float64(1.0000000000000016),\n",
       " np.float64(1.0000000000000007),\n",
       " np.float64(1.000000000000002),\n",
       " np.float64(1.000000000000002),\n",
       " np.float64(1.0000000000000018),\n",
       " np.float64(1.0000000000000024),\n",
       " np.float64(1.0000000000000013),\n",
       " np.float64(1.0000000000000007),\n",
       " np.float64(1.0000000000000022)]"
      ]
     },
     "execution_count": 50,
     "metadata": {},
     "output_type": "execute_result"
    }
   ],
   "execution_count": 50
  },
  {
   "metadata": {
    "ExecuteTime": {
     "end_time": "2025-05-14T19:55:52.752312400Z",
     "start_time": "2025-05-05T21:13:17.660262Z"
    }
   },
   "cell_type": "code",
   "source": "obs_circs = [G1, G1G2, G1G22, G3, G1G4]",
   "id": "fbad05c05a5ec03f",
   "outputs": [],
   "execution_count": 83
  },
  {
   "metadata": {},
   "cell_type": "code",
   "outputs": [],
   "execution_count": null,
   "source": "",
   "id": "bfb52ef4141289d0"
  },
  {
   "metadata": {},
   "cell_type": "code",
   "outputs": [],
   "execution_count": null,
   "source": "",
   "id": "1ead52c813204d19"
  }
 ],
 "metadata": {
  "kernelspec": {
   "display_name": "Python 3",
   "language": "python",
   "name": "python3"
  },
  "language_info": {
   "codemirror_mode": {
    "name": "ipython",
    "version": 2
   },
   "file_extension": ".py",
   "mimetype": "text/x-python",
   "name": "python",
   "nbconvert_exporter": "python",
   "pygments_lexer": "ipython2",
   "version": "2.7.6"
  }
 },
 "nbformat": 4,
 "nbformat_minor": 5
}
