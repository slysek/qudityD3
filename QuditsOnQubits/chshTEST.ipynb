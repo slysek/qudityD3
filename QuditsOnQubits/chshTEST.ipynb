{
 "cells": [
  {
   "cell_type": "code",
   "id": "initial_id",
   "metadata": {
    "collapsed": true,
    "ExecuteTime": {
     "end_time": "2025-02-28T16:49:01.787755Z",
     "start_time": "2025-02-28T16:48:58.811516Z"
    }
   },
   "source": [
    "from qiskit.quantum_info import Statevector\n",
    "from QuditsOnQubits import QuditsOnQubits\n",
    "import numpy as np\n",
    "import networkx as nx\n",
    "from numpy.linalg import multi_dot\n",
    "import matplotlib.pyplot as plt"
   ],
   "outputs": [],
   "execution_count": 1
  },
  {
   "metadata": {},
   "cell_type": "markdown",
   "source": "Definicja Z i X qutrytowych zakodowanych na qubitach",
   "id": "af9567bc18aa50c9"
  },
  {
   "metadata": {
    "ExecuteTime": {
     "end_time": "2025-02-28T16:49:02.277934Z",
     "start_time": "2025-02-28T16:49:02.264936Z"
    }
   },
   "cell_type": "code",
   "source": [
    "omega = np.exp(2*np.pi*1.j/3)\n",
    "Z = [[1, 0, 0, 0], [0, omega, 0, 0], [0, 0, omega*omega, 0], [0, 0, 0, 1]]\n",
    "X = [[0,0,1,0], [1,0,0,0], [0,1,0,0],[0,0,0,1]]"
   ],
   "id": "6e5c558d4c83f304",
   "outputs": [],
   "execution_count": 2
  },
  {
   "metadata": {
    "ExecuteTime": {
     "end_time": "2025-02-28T17:01:51.278977Z",
     "start_time": "2025-02-28T17:01:51.268930Z"
    }
   },
   "cell_type": "code",
   "source": [
    "qubit0 = np.array([[1], [0]])\n",
    "qubit1 = np.array([[0], [1]])\n",
    "\n",
    "Qtrt0 = np.kron(qubit0, qubit0)\n",
    "Qtrt1 = np.kron(qubit0, qubit1)\n",
    "Qtrt2 = np.kron(qubit1, qubit0)"
   ],
   "id": "f70ef80398368ffd",
   "outputs": [],
   "execution_count": 36
  },
  {
   "metadata": {
    "ExecuteTime": {
     "end_time": "2025-02-28T17:02:34.616819Z",
     "start_time": "2025-02-28T17:02:34.605150Z"
    }
   },
   "cell_type": "code",
   "source": "Qtrt0",
   "id": "edacbe99a34cf3c0",
   "outputs": [
    {
     "data": {
      "text/plain": [
       "array([[1],\n",
       "       [0],\n",
       "       [0],\n",
       "       [0]])"
      ]
     },
     "execution_count": 38,
     "metadata": {},
     "output_type": "execute_result"
    }
   ],
   "execution_count": 38
  },
  {
   "metadata": {
    "ExecuteTime": {
     "end_time": "2025-02-28T17:02:42.365649Z",
     "start_time": "2025-02-28T17:02:42.356653Z"
    }
   },
   "cell_type": "code",
   "source": "Qtrt1",
   "id": "91c1af152325e7f9",
   "outputs": [
    {
     "data": {
      "text/plain": [
       "array([[0],\n",
       "       [1],\n",
       "       [0],\n",
       "       [0]])"
      ]
     },
     "execution_count": 39,
     "metadata": {},
     "output_type": "execute_result"
    }
   ],
   "execution_count": 39
  },
  {
   "metadata": {
    "ExecuteTime": {
     "end_time": "2025-02-28T17:02:47.332185Z",
     "start_time": "2025-02-28T17:02:47.313189Z"
    }
   },
   "cell_type": "code",
   "source": "Qtrt2",
   "id": "2cc9bb56a1ab20fb",
   "outputs": [
    {
     "data": {
      "text/plain": [
       "array([[0],\n",
       "       [0],\n",
       "       [1],\n",
       "       [0]])"
      ]
     },
     "execution_count": 40,
     "metadata": {},
     "output_type": "execute_result"
    }
   ],
   "execution_count": 40
  },
  {
   "metadata": {
    "ExecuteTime": {
     "end_time": "2025-02-28T17:03:24.886296Z",
     "start_time": "2025-02-28T17:03:24.873292Z"
    }
   },
   "cell_type": "code",
   "source": "np.dot(Z, Qtrt2)",
   "id": "b1e5e31483171836",
   "outputs": [
    {
     "data": {
      "text/plain": [
       "array([[ 0. +0.j       ],\n",
       "       [ 0. +0.j       ],\n",
       "       [-0.5-0.8660254j],\n",
       "       [ 0. +0.j       ]])"
      ]
     },
     "execution_count": 45,
     "metadata": {},
     "output_type": "execute_result"
    }
   ],
   "execution_count": 45
  },
  {
   "metadata": {},
   "cell_type": "markdown",
   "source": "Tworze graf ame43",
   "id": "df42fce4127c3d03"
  },
  {
   "metadata": {
    "ExecuteTime": {
     "end_time": "2025-02-28T16:49:03.029687Z",
     "start_time": "2025-02-28T16:49:02.911290Z"
    }
   },
   "cell_type": "code",
   "source": [
    "SQ = nx.MultiGraph()\n",
    "\n",
    "#dodawanie wezlow\n",
    "SQ.add_nodes_from([0, 3])\n",
    "\n",
    "#dodawanie kolejnych krawedzi\n",
    "SQ.add_edge(0, 1)\n",
    "SQ.add_edge(1, 2)\n",
    "SQ.add_edge(2, 3)\n",
    "SQ.add_edge(2, 3)\n",
    "SQ.add_edge(3, 0)\n",
    "\n",
    "#rysowania grafu\n",
    "nx.draw(SQ, with_labels=True, font_weight='bold')\n",
    "\n",
    "#wypisywanie liczby krawedzi\n",
    "SQ.number_of_edges()"
   ],
   "id": "8bc7da613b02e0ac",
   "outputs": [
    {
     "data": {
      "text/plain": [
       "5"
      ]
     },
     "execution_count": 3,
     "metadata": {},
     "output_type": "execute_result"
    },
    {
     "data": {
      "text/plain": [
       "<Figure size 640x480 with 1 Axes>"
      ],
      "image/png": "[encoded data removed]"
     },
     "metadata": {},
     "output_type": "display_data"
    }
   ],
   "execution_count": 3
  },
  {
   "metadata": {},
   "cell_type": "markdown",
   "source": "Tworze stan grafowy uzywajac stworzonej biblioteki QuditsOnQubits gdzie w argumencie mam graf",
   "id": "2143508220d5a3a1"
  },
  {
   "metadata": {
    "ExecuteTime": {
     "end_time": "2025-02-28T16:49:03.749923Z",
     "start_time": "2025-02-28T16:49:03.612928Z"
    }
   },
   "cell_type": "code",
   "source": "ame43 = QuditsOnQubits(SQ)",
   "id": "8ce8fd24b4ed4d46",
   "outputs": [],
   "execution_count": 4
  },
  {
   "metadata": {},
   "cell_type": "markdown",
   "source": "Tworze obwod z grafu",
   "id": "4a2bc222b3202211"
  },
  {
   "metadata": {
    "ExecuteTime": {
     "end_time": "2025-02-28T16:49:04.293965Z",
     "start_time": "2025-02-28T16:49:04.281453Z"
    }
   },
   "cell_type": "code",
   "source": "ame43circ = ame43.circuit",
   "id": "60a5fe70abedab7e",
   "outputs": [],
   "execution_count": 5
  },
  {
   "metadata": {},
   "cell_type": "markdown",
   "source": "Tworze stabilizatory według pracy Santosa. Wzor nr. 42 na stronie 11. ",
   "id": "449b52699f87b5b7"
  },
  {
   "metadata": {
    "ExecuteTime": {
     "end_time": "2025-02-28T16:49:04.890051Z",
     "start_time": "2025-02-28T16:49:04.866053Z"
    }
   },
   "cell_type": "code",
   "source": [
    "G1 = np.kron(np.kron(np.kron(X, Z), np.identity(4)), Z)\n",
    "G1G2 = np.kron(np.kron(np.kron(np.dot(X, Z), np.dot(Z, X)), Z), Z)\n",
    "G1G2pow2 = np.kron(np.kron(np.kron(multi_dot([X, Z, Z]), multi_dot([Z, X, X])), multi_dot([Z, Z])), Z)\n",
    "G3 = np.kron(np.kron(np.kron(np.identity(4), Z), X), multi_dot([Z, Z]))\n",
    "G1G4 = np.kron(np.kron(np.kron(multi_dot([X, Z]), Z), multi_dot([Z, Z])), multi_dot([Z, X]))\n",
    "\n",
    "# G1 = np.kron(X, np.kron(Z, np.kron(np.identity(4), Z)))\n",
    "# G1G2 = np.kron(np.dot(X, Z), np.kron(np.kron(Z, X), np.kron(Z, Z)))\n",
    "# G1G2pow2 = np.kron(np.dot(X, np.dot(Z, Z)), np.kron(np.kron(Z, np.dot(X, X)), np.kron(np.dot(Z, Z), Z)))\n",
    "# G3 = np.kron(np.identity(4), np.kron(Z, np.kron(X, np.dot(Z, Z))))\n",
    "# G1G4 = np.kron(np.dot(X, Z), np.kron(Z, np.kron(np.dot(Z, Z), np.dot(Z, X))))"
   ],
   "id": "b84dbdc33122b006",
   "outputs": [],
   "execution_count": 6
  },
  {
   "metadata": {
    "ExecuteTime": {
     "end_time": "2025-02-28T16:59:29.593602Z",
     "start_time": "2025-02-28T16:59:29.571600Z"
    }
   },
   "cell_type": "code",
   "source": "G1.shape",
   "id": "e68a1fb1b10f7b34",
   "outputs": [
    {
     "data": {
      "text/plain": [
       "(256, 256)"
      ]
     },
     "execution_count": 35,
     "metadata": {},
     "output_type": "execute_result"
    }
   ],
   "execution_count": 35
  },
  {
   "metadata": {},
   "cell_type": "markdown",
   "source": "Odczytuje stan z obwodu ktory stworzylem",
   "id": "7f90af8fecaa7bf3"
  },
  {
   "metadata": {
    "ExecuteTime": {
     "end_time": "2025-02-28T16:49:05.610418Z",
     "start_time": "2025-02-28T16:49:05.589421Z"
    }
   },
   "cell_type": "code",
   "source": "ame43state = Statevector(ame43circ).data",
   "id": "a8864e9d46a7ecb0",
   "outputs": [],
   "execution_count": 7
  },
  {
   "metadata": {},
   "cell_type": "markdown",
   "source": "Obliczam wartosc oczekiwana stabilizatora G1",
   "id": "92b6508cf095fde0"
  },
  {
   "metadata": {
    "ExecuteTime": {
     "end_time": "2025-02-28T16:49:06.209156Z",
     "start_time": "2025-02-28T16:49:06.195152Z"
    }
   },
   "cell_type": "code",
   "source": "ame43matrix = ame43state.reshape(256, 1)",
   "id": "f18d03ba3714ea3c",
   "outputs": [],
   "execution_count": 8
  },
  {
   "metadata": {
    "ExecuteTime": {
     "end_time": "2025-02-28T16:49:06.525167Z",
     "start_time": "2025-02-28T16:49:06.512158Z"
    }
   },
   "cell_type": "code",
   "source": "multi_dot([ame43matrix.conj().transpose(), G1, ame43matrix])",
   "id": "bd1d552284ca17a7",
   "outputs": [
    {
     "data": {
      "text/plain": [
       "array([[-2.9629077e-15-1.54185538e-15j]])"
      ]
     },
     "execution_count": 9,
     "metadata": {},
     "output_type": "execute_result"
    }
   ],
   "execution_count": 9
  },
  {
   "metadata": {
    "ExecuteTime": {
     "end_time": "2025-02-28T16:49:09.676476Z",
     "start_time": "2025-02-28T16:49:08.546204Z"
    }
   },
   "cell_type": "code",
   "source": "G1ev = ame43state.expectation_value(G1)",
   "id": "29c527a39d417421",
   "outputs": [
    {
     "ename": "AttributeError",
     "evalue": "'numpy.ndarray' object has no attribute 'expectation_value'",
     "output_type": "error",
     "traceback": [
      "\u001B[1;31m---------------------------------------------------------------------------\u001B[0m",
      "\u001B[1;31mAttributeError\u001B[0m                            Traceback (most recent call last)",
      "Cell \u001B[1;32mIn[10], line 1\u001B[0m\n\u001B[1;32m----> 1\u001B[0m G1ev \u001B[38;5;241m=\u001B[39m \u001B[43mame43state\u001B[49m\u001B[38;5;241;43m.\u001B[39;49m\u001B[43mexpectation_value\u001B[49m(G1)\n",
      "\u001B[1;31mAttributeError\u001B[0m: 'numpy.ndarray' object has no attribute 'expectation_value'"
     ]
    }
   ],
   "execution_count": 10
  },
  {
   "metadata": {
    "ExecuteTime": {
     "end_time": "2025-02-28T16:49:09.762554100Z",
     "start_time": "2025-02-27T19:28:52.617795Z"
    }
   },
   "cell_type": "code",
   "source": "G1ev",
   "id": "72b3ce35d0b9086b",
   "outputs": [
    {
     "data": {
      "text/plain": [
       "np.complex128(-2.949029909160572e-15-1.582067810090848e-15j)"
      ]
     },
     "execution_count": 88,
     "metadata": {},
     "output_type": "execute_result"
    }
   ],
   "execution_count": 88
  },
  {
   "metadata": {},
   "cell_type": "markdown",
   "source": "Sprawdzam recznie ten stan ame43",
   "id": "810d5e05afcfeea3"
  },
  {
   "metadata": {
    "ExecuteTime": {
     "end_time": "2025-02-28T16:49:10.813800Z",
     "start_time": "2025-02-28T16:49:10.801814Z"
    }
   },
   "cell_type": "code",
   "source": [
    "Zsolo = [[1, 0, 0], [0, omega, 0], [0, 0, omega*omega]]\n",
    "Xsolo = [[0,0,1], [1,0,0], [0,1,0]]"
   ],
   "id": "55a2736899b727fa",
   "outputs": [],
   "execution_count": 11
  },
  {
   "metadata": {
    "ExecuteTime": {
     "end_time": "2025-02-28T16:49:11.318446Z",
     "start_time": "2025-02-28T16:49:11.308455Z"
    }
   },
   "cell_type": "code",
   "source": [
    "qutryt0 = np.array([[1], [0], [0]])\n",
    "qutryt1 = np.array([[0], [1], [0]])\n",
    "qutryt2 = np.array([[0], [0], [1]])"
   ],
   "id": "2e708fe0d682d238",
   "outputs": [],
   "execution_count": 12
  },
  {
   "metadata": {
    "ExecuteTime": {
     "end_time": "2025-02-28T16:49:11.808352Z",
     "start_time": "2025-02-28T16:49:11.794342Z"
    }
   },
   "cell_type": "code",
   "source": "plusQutryt = 1/np.sqrt(3) * (qutryt0 + qutryt1 + qutryt2)",
   "id": "767105bc94c437c0",
   "outputs": [],
   "execution_count": 13
  },
  {
   "metadata": {},
   "cell_type": "markdown",
   "source": "Bramka CZ jest diagonalna i ma na diagonali $\\omega^{i * j}$, gdzie i oraz j to kombinacje wszystkich qutrytow np. $\\ket{0, 0}$ mamy $\\omega^{0 * 0}$, dla $\\ket{0, 1}$ mamy $\\omega^{0 * 1}$ itd",
   "id": "e6881cfec11ea8b8"
  },
  {
   "metadata": {
    "ExecuteTime": {
     "end_time": "2025-02-28T16:49:12.517673Z",
     "start_time": "2025-02-28T16:49:12.509676Z"
    }
   },
   "cell_type": "code",
   "source": "CZqutryt = np.diag([1, 1, 1, 1, omega, omega*omega, 1, omega*omega, omega])",
   "id": "c2160e133335c133",
   "outputs": [],
   "execution_count": 14
  },
  {
   "metadata": {},
   "cell_type": "markdown",
   "source": "Robie plusy na kazdym wierzcholku",
   "id": "78e6e84fa597f9ae"
  },
  {
   "metadata": {
    "ExecuteTime": {
     "end_time": "2025-02-28T16:49:13.368746Z",
     "start_time": "2025-02-28T16:49:13.350747Z"
    }
   },
   "cell_type": "code",
   "source": "stanPlus = np.kron(np.kron(np.kron(plusQutryt, plusQutryt), plusQutryt), plusQutryt)",
   "id": "accd5aa432da01af",
   "outputs": [],
   "execution_count": 15
  },
  {
   "metadata": {
    "ExecuteTime": {
     "end_time": "2025-02-28T16:49:13.710642Z",
     "start_time": "2025-02-28T16:49:13.701673Z"
    }
   },
   "cell_type": "code",
   "source": [
    "CZ01 = np.kron(CZqutryt, np.kron(np.identity(3), np.identity(3)))\n",
    "CZ12 = np.kron(np.identity(3), np.kron(CZqutryt, np.identity(3)))\n",
    "CZ23 = np.kron(np.identity(3), np.kron(np.identity(3), CZqutryt))"
   ],
   "id": "d30f0819581f6c59",
   "outputs": [],
   "execution_count": 16
  },
  {
   "metadata": {},
   "cell_type": "markdown",
   "source": "Robie funkcje poniewaz nie moge bezposrednio uzyc np.kron bo qutryty nie sa obok siebie tylko na dwoch koncach, wiec tworze juz caly stan CZ03 odrazu.",
   "id": "fae8dd8b6b363e4f"
  },
  {
   "metadata": {
    "ExecuteTime": {
     "end_time": "2025-02-28T16:49:14.541815Z",
     "start_time": "2025-02-28T16:49:14.531815Z"
    }
   },
   "cell_type": "code",
   "source": [
    "def CZ_30_4qutrits():\n",
    "    d = 3\n",
    "    dim = d**4\n",
    "    diag_elements = np.zeros(dim, dtype=complex)\n",
    "\n",
    "    omega = np.exp(2j * np.pi / d) \n",
    "\n",
    "    index = 0\n",
    "    for x0 in range(d):\n",
    "        for x1 in range(d):\n",
    "            for x2 in range(d):\n",
    "                for x3 in range(d):\n",
    "                    \n",
    "                    diag_elements[index] = omega ** (x0 * x3)\n",
    "                    index += 1\n",
    "\n",
    "    return np.diag(diag_elements)\n",
    "\n",
    "CZ30 = CZ_30_4qutrits()"
   ],
   "id": "e2aa06a11dc5f18e",
   "outputs": [],
   "execution_count": 17
  },
  {
   "metadata": {},
   "cell_type": "markdown",
   "source": "Robie CZ na kazdej krawedzi i lacze ze stanem plus na kazdym wierzcholku",
   "id": "24a937b78c0ccc7b"
  },
  {
   "metadata": {
    "ExecuteTime": {
     "end_time": "2025-02-28T16:49:15.073749Z",
     "start_time": "2025-02-28T16:49:15.065745Z"
    }
   },
   "cell_type": "code",
   "source": "ame43test = multi_dot([CZ01, CZ12, CZ23, CZ23, CZ30, stanPlus])",
   "id": "c84a61856e289f01",
   "outputs": [],
   "execution_count": 18
  },
  {
   "metadata": {
    "ExecuteTime": {
     "end_time": "2025-02-28T16:49:15.778584Z",
     "start_time": "2025-02-28T16:49:15.759570Z"
    }
   },
   "cell_type": "code",
   "source": "ame43test.shape",
   "id": "83a92d593f7e6829",
   "outputs": [
    {
     "data": {
      "text/plain": [
       "(81, 1)"
      ]
     },
     "execution_count": 19,
     "metadata": {},
     "output_type": "execute_result"
    }
   ],
   "execution_count": 19
  },
  {
   "metadata": {},
   "cell_type": "markdown",
   "source": "Analogicznie do tworzenia poprzednich stabilizatorow",
   "id": "6f8defb015eb1dea"
  },
  {
   "metadata": {
    "ExecuteTime": {
     "end_time": "2025-02-28T16:49:16.795532Z",
     "start_time": "2025-02-28T16:49:16.778533Z"
    }
   },
   "cell_type": "code",
   "source": [
    "G1test = np.kron(np.kron(np.kron(Xsolo, Zsolo), np.identity(3)), Zsolo)\n",
    "G1G2test = np.kron(np.kron(np.kron(np.dot(Xsolo, Zsolo), np.dot(Zsolo, Xsolo)), Zsolo), Zsolo)\n",
    "G1G2pow2test = np.kron(np.kron(np.kron(multi_dot([Xsolo, Zsolo, Zsolo]), multi_dot([Zsolo, Xsolo, Xsolo])), multi_dot([Zsolo, Zsolo])), Zsolo)\n",
    "G3test = np.kron(np.kron(np.kron(np.identity(3), Zsolo), Xsolo), multi_dot([Zsolo, Zsolo]))\n",
    "G1G4test = np.kron(np.kron(np.kron(multi_dot([Xsolo, Zsolo]), Zsolo), multi_dot([Zsolo, Zsolo])), multi_dot([Zsolo, Xsolo]))\n",
    "\n",
    "# G1test = np.kron(Xsolo, np.kron(Zsolo, np.kron(np.identity(3), Zsolo)))\n",
    "# G1G2test = np.kron(np.dot(Xsolo, Zsolo), np.kron(np.kron(Zsolo, Xsolo), np.kron(Zsolo, Zsolo)))\n",
    "# G1G2pow2test = np.kron(np.dot(Xsolo, np.dot(Zsolo, Zsolo)), np.kron(np.kron(Zsolo, np.dot(Xsolo, Xsolo)), np.kron(np.dot(Zsolo, Zsolo), Zsolo)))\n",
    "# G3test = np.kron(np.identity(3), np.kron(Zsolo, np.kron(Xsolo, np.dot(Zsolo, Zsolo))))\n",
    "# G1G4test = np.kron(np.dot(Xsolo, Zsolo), np.kron(Zsolo, np.kron(np.dot(Zsolo, Zsolo), np.dot(Zsolo, Xsolo))))"
   ],
   "id": "92b32283b70d2ef9",
   "outputs": [],
   "execution_count": 20
  },
  {
   "metadata": {},
   "cell_type": "markdown",
   "source": "Obliczam recznie $\\braket{ame43|G1|ame43}$",
   "id": "6c962b7171390816"
  },
  {
   "metadata": {
    "ExecuteTime": {
     "end_time": "2025-02-28T16:49:19.327871Z",
     "start_time": "2025-02-28T16:49:19.313892Z"
    }
   },
   "cell_type": "code",
   "source": "multi_dot([ame43test.conj().transpose(), G1test, ame43test])",
   "id": "e5a76d29d840ebcf",
   "outputs": [
    {
     "data": {
      "text/plain": [
       "array([[1.-4.21537805e-16j]])"
      ]
     },
     "execution_count": 21,
     "metadata": {},
     "output_type": "execute_result"
    }
   ],
   "execution_count": 21
  },
  {
   "metadata": {
    "ExecuteTime": {
     "end_time": "2025-02-28T16:49:21.000716Z",
     "start_time": "2025-02-28T16:49:20.988697Z"
    }
   },
   "cell_type": "code",
   "source": "operatory = [G1test, G1G2test, G1G2pow2test, G3test, G1G4test]",
   "id": "e2b37682c3ed6029",
   "outputs": [],
   "execution_count": 22
  },
  {
   "metadata": {
    "ExecuteTime": {
     "end_time": "2025-02-28T16:49:22.205922Z",
     "start_time": "2025-02-28T16:49:22.186926Z"
    }
   },
   "cell_type": "code",
   "source": [
    "suma = 0\n",
    "for i in operatory:\n",
    "    suma += np.real(multi_dot([ame43test.conj().transpose(), i, ame43test]))\n",
    "    print(np.real(multi_dot([ame43test.conj().transpose(), i, ame43test])))\n",
    "    \n",
    "print(suma)"
   ],
   "id": "e7ca96ccb720b3d7",
   "outputs": [
    {
     "name": "stdout",
     "output_type": "stream",
     "text": [
      "[[1.]]\n",
      "[[1.]]\n",
      "[[1.]]\n",
      "[[1.]]\n",
      "[[1.]]\n",
      "[[5.]]\n"
     ]
    }
   ],
   "execution_count": 23
  },
  {
   "metadata": {
    "ExecuteTime": {
     "end_time": "2025-02-28T16:49:25.576386Z",
     "start_time": "2025-02-28T16:49:25.562377Z"
    }
   },
   "cell_type": "code",
   "source": [
    "def exp_val(op):\n",
    "    return np.real(multi_dot([ame43test.conj().transpose(), op, ame43test]))"
   ],
   "id": "ab022f150857c494",
   "outputs": [],
   "execution_count": 24
  },
  {
   "metadata": {
    "ExecuteTime": {
     "end_time": "2025-02-28T16:49:26.292605Z",
     "start_time": "2025-02-28T16:49:26.278662Z"
    }
   },
   "cell_type": "code",
   "source": "B_ame = G1test + G1G2pow2test + 0.5*(G1G2test + G1G4test) + G3test + G1test.conj().T + G1G2pow2test.conj().T + 0.5*(G1G2test.conj().T + G1G4test.conj().T) + G3test.conj().T",
   "id": "1198c8e8b6a46d3e",
   "outputs": [],
   "execution_count": 25
  },
  {
   "metadata": {
    "ExecuteTime": {
     "end_time": "2025-02-28T16:49:26.654425Z",
     "start_time": "2025-02-28T16:49:26.636426Z"
    }
   },
   "cell_type": "code",
   "source": "np.real(multi_dot([ame43test.conj().transpose(), B_ame, ame43test]))",
   "id": "d8096f3ba1615305",
   "outputs": [
    {
     "data": {
      "text/plain": [
       "array([[8.]])"
      ]
     },
     "execution_count": 26,
     "metadata": {},
     "output_type": "execute_result"
    }
   ],
   "execution_count": 26
  },
  {
   "metadata": {},
   "cell_type": "markdown",
   "source": "Porownanie z wczesniejszym wynikiem",
   "id": "a711eb1ae5777791"
  },
  {
   "metadata": {
    "ExecuteTime": {
     "end_time": "2025-02-28T16:56:00.808805Z",
     "start_time": "2025-02-28T16:56:00.648809Z"
    }
   },
   "cell_type": "code",
   "source": "Statevector(ame43test).draw('latex')",
   "id": "936881879fa1af07",
   "outputs": [
    {
     "data": {
      "text/plain": [
       "<IPython.core.display.Latex object>"
      ],
      "text/latex": "$$\\begin{align}\n\n\n\\begin{bmatrix}\n\\frac{1}{9} & \\frac{1}{9} & \\frac{1}{9} & \\frac{1}{9} & \\cdots & -0.0555555556 - 0.0962250449 i & -0.0555555556 - 0.0962250449 i & -0.0555555556 - 0.0962250449 i  \\\\\n \\end{bmatrix}\n\\\\\n\\text{dims=(81,)}\n\\end{align}$$"
     },
     "execution_count": 34,
     "metadata": {},
     "output_type": "execute_result"
    }
   ],
   "execution_count": 34
  },
  {
   "metadata": {
    "ExecuteTime": {
     "end_time": "2025-02-28T17:05:29.263752Z",
     "start_time": "2025-02-28T17:05:29.094774Z"
    }
   },
   "cell_type": "code",
   "source": "Statevector(ame43matrix).draw('latex')",
   "id": "d84636b9096e6972",
   "outputs": [
    {
     "data": {
      "text/plain": [
       "<IPython.core.display.Latex object>"
      ],
      "text/latex": "$$\\frac{1}{9} |00000000\\rangle+\\frac{1}{9} |00000001\\rangle+\\frac{1}{9} |00000010\\rangle+\\frac{1}{9} |00000100\\rangle+(-0.0555555556 + 0.0962250449 i) |00000101\\rangle+(-0.0555555556 - 0.0962250449 i) |00000110\\rangle + \\ldots +(-0.0555555556 + 0.0962250449 i) |10100101\\rangle+(-0.0555555556 + 0.0962250449 i) |10100110\\rangle+\\frac{1}{9} |10101000\\rangle+(-0.0555555556 + 0.0962250449 i) |10101001\\rangle+(-0.0555555556 - 0.0962250449 i) |10101010\\rangle$$"
     },
     "execution_count": 46,
     "metadata": {},
     "output_type": "execute_result"
    }
   ],
   "execution_count": 46
  },
  {
   "metadata": {
    "ExecuteTime": {
     "end_time": "2025-02-28T17:10:37.233321Z",
     "start_time": "2025-02-28T17:10:37.212311Z"
    }
   },
   "cell_type": "code",
   "source": [
    "nonzero_dict = Statevector(ame43test).to_dict()\n",
    "num_terms = len(nonzero_dict)\n",
    "print(\"Liczba niezerowych składników w tym Statevector:\", num_terms)"
   ],
   "id": "b9f3ebb347a5b9b8",
   "outputs": [
    {
     "name": "stdout",
     "output_type": "stream",
     "text": [
      "Liczba niezerowych składników w tym Statevector: 81\n"
     ]
    }
   ],
   "execution_count": 48
  },
  {
   "metadata": {
    "ExecuteTime": {
     "end_time": "2025-02-28T16:45:28.704616Z",
     "start_time": "2025-02-28T16:45:28.664976Z"
    }
   },
   "cell_type": "code",
   "source": "G1ev",
   "id": "b28f2fdd082d90d9",
   "outputs": [
    {
     "ename": "NameError",
     "evalue": "name 'G1ev' is not defined",
     "output_type": "error",
     "traceback": [
      "\u001B[1;31m---------------------------------------------------------------------------\u001B[0m",
      "\u001B[1;31mNameError\u001B[0m                                 Traceback (most recent call last)",
      "Cell \u001B[1;32mIn[34], line 1\u001B[0m\n\u001B[1;32m----> 1\u001B[0m \u001B[43mG1ev\u001B[49m\n",
      "\u001B[1;31mNameError\u001B[0m: name 'G1ev' is not defined"
     ]
    }
   ],
   "execution_count": 34
  },
  {
   "metadata": {
    "ExecuteTime": {
     "end_time": "2025-02-28T16:48:44.243635Z",
     "start_time": "2025-02-28T16:48:44.202639Z"
    }
   },
   "cell_type": "code",
   "source": "diff = ame43matrix - am43test",
   "id": "16d8e27e35bddd92",
   "outputs": [
    {
     "ename": "NameError",
     "evalue": "name 'am43test' is not defined",
     "output_type": "error",
     "traceback": [
      "\u001B[1;31m---------------------------------------------------------------------------\u001B[0m",
      "\u001B[1;31mNameError\u001B[0m                                 Traceback (most recent call last)",
      "Cell \u001B[1;32mIn[38], line 1\u001B[0m\n\u001B[1;32m----> 1\u001B[0m diff \u001B[38;5;241m=\u001B[39m ame43matrix \u001B[38;5;241m-\u001B[39m \u001B[43mam43test\u001B[49m\n",
      "\u001B[1;31mNameError\u001B[0m: name 'am43test' is not defined"
     ]
    }
   ],
   "execution_count": 38
  },
  {
   "metadata": {
    "ExecuteTime": {
     "end_time": "2025-02-27T19:48:27.349144Z",
     "start_time": "2025-02-27T19:48:27.232411Z"
    }
   },
   "cell_type": "code",
   "source": "ghz_circ = QuditsOnQubits().circuit",
   "id": "3e7b0c397f6d5443",
   "outputs": [],
   "execution_count": 2
  },
  {
   "metadata": {
    "ExecuteTime": {
     "end_time": "2025-02-27T19:48:37.281921Z",
     "start_time": "2025-02-27T19:48:37.263924Z"
    }
   },
   "cell_type": "code",
   "source": "ghz_circ[0].remove_final_measurements()",
   "id": "7a6be3def90ea852",
   "outputs": [],
   "execution_count": 3
  },
  {
   "metadata": {},
   "cell_type": "code",
   "outputs": [],
   "execution_count": null,
   "source": "ghz_circ[1]",
   "id": "5ba632f6c283a89f"
  },
  {
   "metadata": {
    "ExecuteTime": {
     "end_time": "2025-02-27T19:44:00.927105Z",
     "start_time": "2025-02-27T19:44:00.919106Z"
    }
   },
   "cell_type": "code",
   "source": "ghz_circ",
   "id": "5f1905d517900944",
   "outputs": [
    {
     "data": {
      "text/plain": [
       "<qiskit.circuit.quantumcircuit.QuantumCircuit at 0x2b03a59e620>"
      ]
     },
     "execution_count": 116,
     "metadata": {},
     "output_type": "execute_result"
    }
   ],
   "execution_count": 116
  },
  {
   "metadata": {
    "ExecuteTime": {
     "end_time": "2025-02-27T19:48:50.801861Z",
     "start_time": "2025-02-27T19:48:50.784853Z"
    }
   },
   "cell_type": "code",
   "source": "ghz_matrix = Statevector(ghz_circ[1])",
   "id": "4c152f83969dfb92",
   "outputs": [],
   "execution_count": 4
  },
  {
   "metadata": {
    "ExecuteTime": {
     "end_time": "2025-02-27T19:48:52.825404Z",
     "start_time": "2025-02-27T19:48:51.745405Z"
    }
   },
   "cell_type": "code",
   "source": "ghz_matrix.draw('latex')",
   "id": "2e779e4b7214faa4",
   "outputs": [
    {
     "data": {
      "text/plain": [
       "<IPython.core.display.Latex object>"
      ],
      "text/latex": "$$- \\frac{\\sqrt{3}}{3} |000000\\rangle- \\frac{\\sqrt{3}}{3} |010101\\rangle- \\frac{\\sqrt{3}}{3} |101010\\rangle$$"
     },
     "execution_count": 5,
     "metadata": {},
     "output_type": "execute_result"
    }
   ],
   "execution_count": 5
  },
  {
   "metadata": {
    "ExecuteTime": {
     "end_time": "2025-02-27T19:50:07.159835Z",
     "start_time": "2025-02-27T19:50:07.151834Z"
    }
   },
   "cell_type": "code",
   "source": [
    "g1 = np.kron(np.kron(Z, X), X)\n",
    "g2 = np.kron(np.kron(X, Z), np.identity(4))\n",
    "g3 = np.kron(np.kron(X, np.identity(4)), Z)"
   ],
   "id": "d11fed07f4e1314e",
   "outputs": [],
   "execution_count": 8
  },
  {
   "metadata": {
    "ExecuteTime": {
     "end_time": "2025-02-27T19:51:21.201719Z",
     "start_time": "2025-02-27T19:51:21.184716Z"
    }
   },
   "cell_type": "code",
   "source": "multi_dot([ghz_matrix.data.conj().transpose(), g1, ghz_matrix.data])",
   "id": "590dbb9e7819066f",
   "outputs": [
    {
     "data": {
      "text/plain": [
       "np.complex128(-2.4421441894360897e-16+1.5402969882312747e-18j)"
      ]
     },
     "execution_count": 13,
     "metadata": {},
     "output_type": "execute_result"
    }
   ],
   "execution_count": 13
  },
  {
   "metadata": {},
   "cell_type": "code",
   "outputs": [],
   "execution_count": null,
   "source": "",
   "id": "9a3fc4e1b8632fb8"
  }
 ],
 "metadata": {
  "kernelspec": {
   "display_name": "Python 3",
   "language": "python",
   "name": "python3"
  },
  "language_info": {
   "codemirror_mode": {
    "name": "ipython",
    "version": 2
   },
   "file_extension": ".py",
   "mimetype": "text/x-python",
   "name": "python",
   "nbconvert_exporter": "python",
   "pygments_lexer": "ipython2",
   "version": "2.7.6"
  }
 },
 "nbformat": 4,
 "nbformat_minor": 5
}
