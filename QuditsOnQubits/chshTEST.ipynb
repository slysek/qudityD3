{
 "cells": [
  {
   "cell_type": "code",
   "id": "initial_id",
   "metadata": {
    "collapsed": true,
    "ExecuteTime": {
     "end_time": "2025-03-05T22:14:39.031757Z",
     "start_time": "2025-03-05T22:14:29.633241Z"
    }
   },
   "source": [
    "from qiskit.quantum_info import Statevector\n",
    "from QuditsOnQubits import QuditsOnQubits\n",
    "import numpy as np\n",
    "import networkx as nx\n",
    "from numpy.linalg import multi_dot\n",
    "import matplotlib.pyplot as plt"
   ],
   "outputs": [],
   "execution_count": 2
  },
  {
   "metadata": {},
   "cell_type": "markdown",
   "source": "Definicja Z i X qutrytowych zakodowanych na qubitach",
   "id": "af9567bc18aa50c9"
  },
  {
   "metadata": {
    "ExecuteTime": {
     "end_time": "2025-03-05T22:14:40.660067Z",
     "start_time": "2025-03-05T22:14:40.648018Z"
    }
   },
   "cell_type": "code",
   "source": [
    "omega = np.exp(2*np.pi*1.j/3)\n",
    "Z = [[1, 0, 0, 0], [0, omega, 0, 0], [0, 0, omega*omega, 0], [0, 0, 0, 1]]\n",
    "X = [[0,0,1,0], [1,0,0,0], [0,1,0,0],[0,0,0,1]]"
   ],
   "id": "6e5c558d4c83f304",
   "outputs": [],
   "execution_count": 3
  },
  {
   "metadata": {
    "ExecuteTime": {
     "end_time": "2025-03-05T22:14:41.237778Z",
     "start_time": "2025-03-05T22:14:41.225218Z"
    }
   },
   "cell_type": "code",
   "source": [
    "qubit0 = np.array([[1], [0]])\n",
    "qubit1 = np.array([[0], [1]])\n",
    "\n",
    "Qtrt0 = np.kron(qubit0, qubit0)\n",
    "Qtrt1 = np.kron(qubit0, qubit1)\n",
    "Qtrt2 = np.kron(qubit1, qubit0)"
   ],
   "id": "f70ef80398368ffd",
   "outputs": [],
   "execution_count": 4
  },
  {
   "metadata": {
    "ExecuteTime": {
     "end_time": "2025-03-05T22:14:41.612684Z",
     "start_time": "2025-03-05T22:14:41.592127Z"
    }
   },
   "cell_type": "code",
   "source": "Qtrt0",
   "id": "edacbe99a34cf3c0",
   "outputs": [
    {
     "data": {
      "text/plain": [
       "array([[1],\n",
       "       [0],\n",
       "       [0],\n",
       "       [0]])"
      ]
     },
     "execution_count": 5,
     "metadata": {},
     "output_type": "execute_result"
    }
   ],
   "execution_count": 5
  },
  {
   "metadata": {
    "ExecuteTime": {
     "end_time": "2025-03-05T22:14:42.500872Z",
     "start_time": "2025-03-05T22:14:42.491344Z"
    }
   },
   "cell_type": "code",
   "source": "Qtrt1",
   "id": "91c1af152325e7f9",
   "outputs": [
    {
     "data": {
      "text/plain": [
       "array([[0],\n",
       "       [1],\n",
       "       [0],\n",
       "       [0]])"
      ]
     },
     "execution_count": 6,
     "metadata": {},
     "output_type": "execute_result"
    }
   ],
   "execution_count": 6
  },
  {
   "metadata": {
    "ExecuteTime": {
     "end_time": "2025-03-05T22:14:42.797902Z",
     "start_time": "2025-03-05T22:14:42.784793Z"
    }
   },
   "cell_type": "code",
   "source": "Qtrt2",
   "id": "2cc9bb56a1ab20fb",
   "outputs": [
    {
     "data": {
      "text/plain": [
       "array([[0],\n",
       "       [0],\n",
       "       [1],\n",
       "       [0]])"
      ]
     },
     "execution_count": 7,
     "metadata": {},
     "output_type": "execute_result"
    }
   ],
   "execution_count": 7
  },
  {
   "metadata": {
    "ExecuteTime": {
     "end_time": "2025-03-05T22:14:42.922086Z",
     "start_time": "2025-03-05T22:14:42.909443Z"
    }
   },
   "cell_type": "code",
   "source": "np.dot(Z, Qtrt2)",
   "id": "b1e5e31483171836",
   "outputs": [
    {
     "data": {
      "text/plain": [
       "array([[ 0. +0.j       ],\n",
       "       [ 0. +0.j       ],\n",
       "       [-0.5-0.8660254j],\n",
       "       [ 0. +0.j       ]])"
      ]
     },
     "execution_count": 8,
     "metadata": {},
     "output_type": "execute_result"
    }
   ],
   "execution_count": 8
  },
  {
   "metadata": {},
   "cell_type": "markdown",
   "source": "Tworze graf ame43",
   "id": "df42fce4127c3d03"
  },
  {
   "metadata": {
    "ExecuteTime": {
     "end_time": "2025-03-05T22:14:43.935563Z",
     "start_time": "2025-03-05T22:14:43.650340Z"
    }
   },
   "cell_type": "code",
   "source": [
    "SQ = nx.MultiGraph()\n",
    "\n",
    "#dodawanie wezlow\n",
    "SQ.add_nodes_from([0, 3])\n",
    "\n",
    "#dodawanie kolejnych krawedzi\n",
    "SQ.add_edge(0, 1)\n",
    "SQ.add_edge(1, 2)\n",
    "SQ.add_edge(2, 3)\n",
    "SQ.add_edge(2, 3)\n",
    "SQ.add_edge(3, 0)\n",
    "\n",
    "#rysowania grafu\n",
    "nx.draw(SQ, with_labels=True, font_weight='bold')\n",
    "\n",
    "#wypisywanie liczby krawedzi\n",
    "SQ.number_of_edges()"
   ],
   "id": "8bc7da613b02e0ac",
   "outputs": [
    {
     "data": {
      "text/plain": [
       "5"
      ]
     },
     "execution_count": 9,
     "metadata": {},
     "output_type": "execute_result"
    },
    {
     "data": {
      "text/plain": [
       "<Figure size 640x480 with 1 Axes>"
      ],
      "image/png": "[encoded data removed]"
     },
     "metadata": {},
     "output_type": "display_data"
    }
   ],
   "execution_count": 9
  },
  {
   "metadata": {},
   "cell_type": "markdown",
   "source": "Tworze stan grafowy uzywajac stworzonej biblioteki QuditsOnQubits gdzie w argumencie mam graf",
   "id": "2143508220d5a3a1"
  },
  {
   "metadata": {
    "ExecuteTime": {
     "end_time": "2025-03-05T22:14:45.243144Z",
     "start_time": "2025-03-05T22:14:45.154925Z"
    }
   },
   "cell_type": "code",
   "source": "ame43 = QuditsOnQubits(SQ)",
   "id": "8ce8fd24b4ed4d46",
   "outputs": [],
   "execution_count": 10
  },
  {
   "metadata": {},
   "cell_type": "markdown",
   "source": "Tworze obwod z grafu",
   "id": "4a2bc222b3202211"
  },
  {
   "metadata": {
    "ExecuteTime": {
     "end_time": "2025-03-05T22:14:46.177774Z",
     "start_time": "2025-03-05T22:14:46.166665Z"
    }
   },
   "cell_type": "code",
   "source": "ame43circ = ame43.circuit",
   "id": "60a5fe70abedab7e",
   "outputs": [],
   "execution_count": 11
  },
  {
   "metadata": {},
   "cell_type": "markdown",
   "source": "Tworze stabilizatory według pracy Santosa. Wzor nr. 42 na stronie 11. ",
   "id": "449b52699f87b5b7"
  },
  {
   "metadata": {
    "ExecuteTime": {
     "end_time": "2025-03-05T22:14:46.818302Z",
     "start_time": "2025-03-05T22:14:46.789107Z"
    }
   },
   "cell_type": "code",
   "source": [
    "G1 = np.kron(np.kron(np.kron(X, Z), np.identity(4)), Z)\n",
    "G1G2 = np.kron(np.kron(np.kron(np.dot(X, Z), np.dot(Z, X)), Z), Z)\n",
    "G1G2pow2 = np.kron(np.kron(np.kron(multi_dot([X, Z, Z]), multi_dot([Z, X, X])), multi_dot([Z, Z])), Z)\n",
    "G3 = np.kron(np.kron(np.kron(np.identity(4), Z), X), multi_dot([Z, Z]))\n",
    "G1G4 = np.kron(np.kron(np.kron(multi_dot([X, Z]), Z), multi_dot([Z, Z])), multi_dot([Z, X]))\n",
    "\n",
    "# G1 = np.kron(X, np.kron(Z, np.kron(np.identity(4), Z)))\n",
    "# G1G2 = np.kron(np.dot(X, Z), np.kron(np.kron(Z, X), np.kron(Z, Z)))\n",
    "# G1G2pow2 = np.kron(np.dot(X, np.dot(Z, Z)), np.kron(np.kron(Z, np.dot(X, X)), np.kron(np.dot(Z, Z), Z)))\n",
    "# G3 = np.kron(np.identity(4), np.kron(Z, np.kron(X, np.dot(Z, Z))))\n",
    "# G1G4 = np.kron(np.dot(X, Z), np.kron(Z, np.kron(np.dot(Z, Z), np.dot(Z, X))))"
   ],
   "id": "b84dbdc33122b006",
   "outputs": [],
   "execution_count": 12
  },
  {
   "metadata": {
    "ExecuteTime": {
     "end_time": "2025-03-05T22:14:47.473312Z",
     "start_time": "2025-03-05T22:14:47.461783Z"
    }
   },
   "cell_type": "code",
   "source": "G1.shape",
   "id": "e68a1fb1b10f7b34",
   "outputs": [
    {
     "data": {
      "text/plain": [
       "(256, 256)"
      ]
     },
     "execution_count": 13,
     "metadata": {},
     "output_type": "execute_result"
    }
   ],
   "execution_count": 13
  },
  {
   "metadata": {},
   "cell_type": "markdown",
   "source": "Odczytuje stan z obwodu ktory stworzylem",
   "id": "7f90af8fecaa7bf3"
  },
  {
   "metadata": {
    "ExecuteTime": {
     "end_time": "2025-03-05T22:14:48.351965Z",
     "start_time": "2025-03-05T22:14:48.306328Z"
    }
   },
   "cell_type": "code",
   "source": "ame43state = Statevector(ame43circ).data",
   "id": "a8864e9d46a7ecb0",
   "outputs": [],
   "execution_count": 14
  },
  {
   "metadata": {},
   "cell_type": "markdown",
   "source": "Obliczam wartosc oczekiwana stabilizatora G1",
   "id": "92b6508cf095fde0"
  },
  {
   "metadata": {},
   "cell_type": "markdown",
   "source": "",
   "id": "55a4344514b90369"
  },
  {
   "metadata": {
    "ExecuteTime": {
     "end_time": "2025-03-05T22:14:49.471938Z",
     "start_time": "2025-03-05T22:14:49.446850Z"
    }
   },
   "cell_type": "code",
   "source": "ame43state",
   "id": "632de8af99457517",
   "outputs": [
    {
     "data": {
      "text/plain": [
       "array([ 1.11111111e-01+7.84095011e-16j,  1.11111111e-01+9.78384040e-16j,\n",
       "        1.11111111e-01+4.30211422e-16j, -1.50608508e-16+5.47790025e-16j,\n",
       "        1.11111111e-01+9.08995101e-16j, -5.55555556e-02+9.62250449e-02j,\n",
       "       -5.55555556e-02-9.62250449e-02j, -1.50608508e-16+5.47790025e-16j,\n",
       "        1.11111111e-01+4.09394740e-16j, -5.55555556e-02-9.62250449e-02j,\n",
       "       -5.55555556e-02+9.62250449e-02j, -1.50608508e-16+5.47790025e-16j,\n",
       "       -1.40467117e-16+5.34486498e-16j, -1.41613276e-16+5.31542012e-16j,\n",
       "       -1.55192142e-16+5.41954881e-16j, -2.43818858e-30-1.54926497e-30j,\n",
       "        1.11111111e-01+9.15933995e-16j,  1.11111111e-01+1.09634524e-15j,\n",
       "        1.11111111e-01+5.06539255e-16j, -1.50608508e-16+5.47790025e-16j,\n",
       "       -5.55555556e-02+9.62250449e-02j, -5.55555556e-02-9.62250449e-02j,\n",
       "        1.11111111e-01+6.59194921e-16j, -3.99095824e-16-4.04325807e-16j,\n",
       "       -5.55555556e-02-9.62250449e-02j, -5.55555556e-02+9.62250449e-02j,\n",
       "        1.11111111e-01+1.66533454e-16j,  5.49704332e-16-1.43464218e-16j,\n",
       "       -1.40467117e-16+5.34486498e-16j, -1.41613276e-16+5.31542012e-16j,\n",
       "       -1.55192142e-16+5.41954881e-16j, -2.43818858e-30-1.54926497e-30j,\n",
       "        1.11111111e-01+3.88578059e-16j,  1.11111111e-01+5.48172618e-16j,\n",
       "        1.11111111e-01+0.00000000e+00j, -1.50608508e-16+5.47790025e-16j,\n",
       "       -5.55555556e-02-9.62250449e-02j,  1.11111111e-01+6.93889390e-16j,\n",
       "       -5.55555556e-02+9.62250449e-02j,  5.49704332e-16-1.43464218e-16j,\n",
       "       -5.55555556e-02+9.62250449e-02j,  1.11111111e-01+2.01227923e-16j,\n",
       "       -5.55555556e-02-9.62250449e-02j, -3.99095824e-16-4.04325807e-16j,\n",
       "       -1.40467117e-16+5.34486498e-16j, -1.41613276e-16+5.31542012e-16j,\n",
       "       -1.55192142e-16+5.41954881e-16j, -2.43818858e-30-1.54926497e-30j,\n",
       "       -1.40081290e-16+5.64471777e-16j, -1.65405456e-16+5.39718182e-16j,\n",
       "       -1.48670812e-16+5.50188611e-16j, -2.51809642e-30-1.50533933e-30j,\n",
       "       -1.35636064e-16+5.20618953e-16j, -4.03375498e-16-4.10172596e-16j,\n",
       "        5.31561989e-16-1.51841911e-16j, -2.46299555e-30-1.46137497e-30j,\n",
       "       -1.60089186e-16+5.56804824e-16j,  5.54582180e-16-1.51070169e-16j,\n",
       "       -3.95863182e-16-4.01435890e-16j, -2.64182066e-30-1.49265197e-30j,\n",
       "       -2.39973583e-30-1.39151720e-30j, -2.49646943e-30-1.41480712e-30j,\n",
       "       -2.44334681e-30-1.55501299e-30j,  1.09561088e-44-9.54002103e-45j,\n",
       "        1.11111111e-01+9.22872889e-16j, -5.55555556e-02+9.62250449e-02j,\n",
       "       -5.55555556e-02-9.62250449e-02j, -1.50608508e-16+5.47790025e-16j,\n",
       "        1.11111111e-01+1.00613962e-15j, -5.55555556e-02-9.62250449e-02j,\n",
       "       -5.55555556e-02+9.62250449e-02j, -1.50608508e-16+5.47790025e-16j,\n",
       "        1.11111111e-01+5.34294831e-16j,  1.11111111e-01+7.00828284e-16j,\n",
       "        1.11111111e-01+1.17961196e-16j, -1.50608508e-16+5.47790025e-16j,\n",
       "       -1.40467117e-16+5.34486498e-16j, -3.89522247e-16-3.88411700e-16j,\n",
       "        5.46942766e-16-1.36577103e-16j, -2.43818858e-30-1.54926497e-30j,\n",
       "       -5.55555556e-02-9.62250449e-02j,  1.11111111e-01+1.14491749e-15j,\n",
       "       -5.55555556e-02+9.62250449e-02j,  5.49704332e-16-1.43464218e-16j,\n",
       "        1.11111111e-01+1.08940634e-15j, -5.55555556e-02-9.62250449e-02j,\n",
       "       -5.55555556e-02+9.62250449e-02j, -1.50608508e-16+5.47790025e-16j,\n",
       "       -5.55555556e-02+9.62250449e-02j, -5.55555556e-02+9.62250449e-02j,\n",
       "       -5.55555556e-02+9.62250449e-02j, -3.99095824e-16-4.04325807e-16j,\n",
       "        5.33112443e-16-1.45595157e-16j, -1.41613276e-16+5.31542012e-16j,\n",
       "       -3.91750624e-16-4.05377778e-16j, -1.22608528e-31+2.88616574e-30j,\n",
       "       -5.55555556e-02+9.62250449e-02j, -5.55555556e-02-9.62250449e-02j,\n",
       "        1.11111111e-01+2.08166817e-16j, -3.99095824e-16-4.04325807e-16j,\n",
       "        1.11111111e-01+7.21644966e-16j, -5.55555556e-02-9.62250449e-02j,\n",
       "       -5.55555556e-02+9.62250449e-02j, -1.50608508e-16+5.47790025e-16j,\n",
       "       -5.55555556e-02-9.62250449e-02j, -5.55555556e-02-9.62250449e-02j,\n",
       "       -5.55555556e-02-9.62250449e-02j,  5.49704332e-16-1.43464218e-16j,\n",
       "       -3.92645327e-16-3.88891340e-16j,  5.31135523e-16-1.43130311e-16j,\n",
       "       -1.55192142e-16+5.41954881e-16j,  2.56079711e-30-1.33690077e-30j,\n",
       "       -1.40081290e-16+5.64471777e-16j, -3.84706928e-16-4.13104417e-16j,\n",
       "        5.50812720e-16-1.46341606e-16j, -2.51809642e-30-1.50533933e-30j,\n",
       "       -1.35636064e-16+5.20618953e-16j,  5.56907637e-16-1.44247131e-16j,\n",
       "       -3.97279947e-16-3.84425230e-16j, -2.46299555e-30-1.46137497e-30j,\n",
       "       -1.60089186e-16+5.56804824e-16j, -1.46460486e-16+5.55817341e-16j,\n",
       "       -1.49722088e-16+5.43545517e-16j, -2.64182066e-30-1.49265197e-30j,\n",
       "       -2.39973583e-30-1.39151720e-30j,  2.47349363e-30-1.45460239e-30j,\n",
       "       -1.25007348e-31+2.89350690e-30j,  1.09561088e-44-9.54002103e-45j,\n",
       "        1.11111111e-01+4.09394740e-16j, -5.55555556e-02-9.62250449e-02j,\n",
       "       -5.55555556e-02+9.62250449e-02j, -1.50608508e-16+5.47790025e-16j,\n",
       "        1.11111111e-01+5.06539255e-16j,  1.11111111e-01+6.66133815e-16j,\n",
       "        1.11111111e-01+9.02056208e-17j, -1.50608508e-16+5.47790025e-16j,\n",
       "        1.11111111e-01+0.00000000e+00j, -5.55555556e-02+9.62250449e-02j,\n",
       "       -5.55555556e-02-9.62250449e-02j, -1.50608508e-16+5.47790025e-16j,\n",
       "       -1.40467117e-16+5.34486498e-16j,  5.31135523e-16-1.43130311e-16j,\n",
       "       -3.91750624e-16-4.05377778e-16j, -2.43818858e-30-1.54926497e-30j,\n",
       "       -5.55555556e-02+9.62250449e-02j,  1.11111111e-01+7.77156117e-16j,\n",
       "       -5.55555556e-02-9.62250449e-02j, -3.99095824e-16-4.04325807e-16j,\n",
       "       -5.55555556e-02-9.62250449e-02j, -5.55555556e-02-9.62250449e-02j,\n",
       "       -5.55555556e-02-9.62250449e-02j,  5.49704332e-16-1.43464218e-16j,\n",
       "        1.11111111e-01+2.01227923e-16j, -5.55555556e-02+9.62250449e-02j,\n",
       "       -5.55555556e-02-9.62250449e-02j, -1.50608508e-16+5.47790025e-16j,\n",
       "       -3.92645327e-16-3.88891340e-16j, -1.41613276e-16+5.31542012e-16j,\n",
       "        5.46942766e-16-1.36577103e-16j,  2.56079711e-30-1.33690077e-30j,\n",
       "       -5.55555556e-02-9.62250449e-02j, -5.55555556e-02+9.62250449e-02j,\n",
       "        1.11111111e-01-4.57966998e-16j,  5.49704332e-16-1.43464218e-16j,\n",
       "       -5.55555556e-02+9.62250449e-02j, -5.55555556e-02+9.62250449e-02j,\n",
       "       -5.55555556e-02+9.62250449e-02j, -3.99095824e-16-4.04325807e-16j,\n",
       "        1.11111111e-01-4.57966998e-16j, -5.55555556e-02+9.62250449e-02j,\n",
       "       -5.55555556e-02-9.62250449e-02j, -1.50608508e-16+5.47790025e-16j,\n",
       "        5.33112443e-16-1.45595157e-16j, -3.89522247e-16-3.88411700e-16j,\n",
       "       -1.55192142e-16+5.41954881e-16j, -1.22608528e-31+2.88616574e-30j,\n",
       "       -1.40081290e-16+5.64471777e-16j,  5.50112384e-16-1.26613764e-16j,\n",
       "       -4.02141908e-16-4.03847005e-16j, -2.51809642e-30-1.50533933e-30j,\n",
       "       -1.35636064e-16+5.20618953e-16j, -1.53532139e-16+5.54419726e-16j,\n",
       "       -1.34282042e-16+5.36267142e-16j, -2.46299555e-30-1.46137497e-30j,\n",
       "       -1.60089186e-16+5.56804824e-16j, -4.08121694e-16-4.04747172e-16j,\n",
       "        5.45585270e-16-1.42109627e-16j, -2.64182066e-30-1.49265197e-30j,\n",
       "       -2.39973583e-30-1.39151720e-30j,  2.29758042e-32+2.86940951e-30j,\n",
       "        2.56835415e-30-1.33849391e-30j,  1.09561088e-44-9.54002103e-45j,\n",
       "       -1.49193227e-16+5.44979803e-16j, -1.46311024e-16+5.55648604e-16j,\n",
       "       -1.37339400e-16+5.62660680e-16j, -2.55681726e-30-1.50612230e-30j,\n",
       "       -1.36653819e-16+5.61700079e-16j, -3.95768456e-16-4.01140377e-16j,\n",
       "        5.46659824e-16-1.38272174e-16j, -2.60087476e-30-1.50573480e-30j,\n",
       "       -1.49362017e-16+5.55616931e-16j,  5.59110953e-16-1.45297752e-16j,\n",
       "       -4.01281675e-16-4.03907370e-16j, -2.43891645e-30-1.54054726e-30j,\n",
       "       -2.45356967e-30-1.42136100e-30j, -2.38212171e-30-1.44531545e-30j,\n",
       "       -2.56932630e-30-1.45143651e-30j,  1.09302766e-44-1.05379744e-44j,\n",
       "       -1.44475909e-16+5.47592578e-16j, -1.40522999e-16+5.74190526e-16j,\n",
       "       -1.42920721e-16+5.53660875e-16j, -2.47512428e-30-1.53167253e-30j,\n",
       "       -4.29756466e-16-3.98097506e-16j,  5.58281141e-16-1.48246903e-16j,\n",
       "       -1.55858161e-16+5.50661513e-16j,  2.61188414e-30-1.55361962e-30j,\n",
       "        5.62103474e-16-1.43752080e-16j, -4.13009648e-16-4.04660728e-16j,\n",
       "       -1.40645463e-16+5.38162506e-16j, -2.99028977e-32+2.87933629e-30j,\n",
       "       -2.45195564e-30-1.40774452e-30j, -2.37519611e-30-1.40854128e-30j,\n",
       "       -2.41939170e-30-1.42581025e-30j,  1.10237700e-44-1.00166944e-44j,\n",
       "       -1.61347935e-16+5.58313085e-16j, -1.57412425e-16+5.57714723e-16j,\n",
       "       -1.44068938e-16+5.32558674e-16j, -2.47421124e-30-1.46395827e-30j,\n",
       "        5.44991093e-16-1.60034437e-16j, -1.61320734e-16+5.50677347e-16j,\n",
       "       -4.15518705e-16-3.97812757e-16j, -2.30467054e-33+2.94248561e-30j,\n",
       "       -3.86294493e-16-4.04482487e-16j, -1.38787052e-16+5.44171730e-16j,\n",
       "        5.57096544e-16-1.46535493e-16j,  2.54537535e-30-1.35997502e-30j,\n",
       "       -2.27356993e-30-1.38416689e-30j, -2.38701277e-30-1.46559813e-30j,\n",
       "       -2.38293424e-30-1.51990630e-30j,  1.09828627e-44-9.95732390e-45j,\n",
       "       -2.67514090e-30-1.47102868e-30j, -2.43068001e-30-1.54613685e-30j,\n",
       "       -2.47792053e-30-1.45658004e-30j,  1.08779454e-44-1.07368110e-44j,\n",
       "       -2.35408105e-30-1.29758562e-30j,  2.51527807e-30-1.39713102e-30j,\n",
       "        1.56266292e-31+2.93889803e-30j,  1.05211804e-44-1.00404810e-44j,\n",
       "       -2.38698858e-30-1.52163347e-30j, -6.34501181e-32+2.90576417e-30j,\n",
       "        2.58607255e-30-1.47155292e-30j,  1.11315856e-44-1.12327693e-44j,\n",
       "        1.03043542e-44-9.81319242e-45j,  1.06432494e-44-1.12797027e-44j,\n",
       "        1.10348991e-44-9.25168231e-45j,  3.49368745e-59+6.75653546e-59j])"
      ]
     },
     "execution_count": 15,
     "metadata": {},
     "output_type": "execute_result"
    }
   ],
   "execution_count": 15
  },
  {
   "metadata": {
    "ExecuteTime": {
     "end_time": "2025-03-05T22:14:50.049314Z",
     "start_time": "2025-03-05T22:14:50.036265Z"
    }
   },
   "cell_type": "code",
   "source": "ame43matrix = ame43state.reshape(256, 1)",
   "id": "f18d03ba3714ea3c",
   "outputs": [],
   "execution_count": 16
  },
  {
   "metadata": {
    "ExecuteTime": {
     "end_time": "2025-03-05T22:14:50.532743Z",
     "start_time": "2025-03-05T22:14:50.508048Z"
    }
   },
   "cell_type": "code",
   "source": "multi_dot([ame43state.conj().transpose(), G1, ame43state])",
   "id": "bd1d552284ca17a7",
   "outputs": [
    {
     "data": {
      "text/plain": [
       "np.complex128(-2.9629076969683865e-15-1.5418553804930787e-15j)"
      ]
     },
     "execution_count": 17,
     "metadata": {},
     "output_type": "execute_result"
    }
   ],
   "execution_count": 17
  },
  {
   "metadata": {
    "ExecuteTime": {
     "end_time": "2025-03-05T22:14:50.905991Z",
     "start_time": "2025-03-05T22:14:50.894469Z"
    }
   },
   "cell_type": "code",
   "source": "#G1ev = ame43state.expectation_value(G1)",
   "id": "29c527a39d417421",
   "outputs": [],
   "execution_count": 18
  },
  {
   "metadata": {},
   "cell_type": "markdown",
   "source": "Sprawdzam recznie ten stan ame43",
   "id": "810d5e05afcfeea3"
  },
  {
   "metadata": {
    "ExecuteTime": {
     "end_time": "2025-03-05T22:14:51.765562Z",
     "start_time": "2025-03-05T22:14:51.753063Z"
    }
   },
   "cell_type": "code",
   "source": [
    "Zsolo = [[1, 0, 0], [0, omega, 0], [0, 0, omega*omega]]\n",
    "Xsolo = [[0,0,1], [1,0,0], [0,1,0]]"
   ],
   "id": "55a2736899b727fa",
   "outputs": [],
   "execution_count": 19
  },
  {
   "metadata": {
    "ExecuteTime": {
     "end_time": "2025-03-05T22:14:52.215830Z",
     "start_time": "2025-03-05T22:14:52.203284Z"
    }
   },
   "cell_type": "code",
   "source": [
    "qutryt0 = np.array([[1], [0], [0]])\n",
    "qutryt1 = np.array([[0], [1], [0]])\n",
    "qutryt2 = np.array([[0], [0], [1]])"
   ],
   "id": "2e708fe0d682d238",
   "outputs": [],
   "execution_count": 20
  },
  {
   "metadata": {
    "ExecuteTime": {
     "end_time": "2025-03-05T22:14:52.480806Z",
     "start_time": "2025-03-05T22:14:52.468132Z"
    }
   },
   "cell_type": "code",
   "source": "plusQutryt = 1/np.sqrt(3) * (qutryt0 + qutryt1 + qutryt2)",
   "id": "767105bc94c437c0",
   "outputs": [],
   "execution_count": 21
  },
  {
   "metadata": {},
   "cell_type": "markdown",
   "source": "Bramka CZ jest diagonalna i ma na diagonali $\\omega^{i * j}$, gdzie i oraz j to kombinacje wszystkich qutrytow np. $\\ket{0, 0}$ mamy $\\omega^{0 * 0}$, dla $\\ket{0, 1}$ mamy $\\omega^{0 * 1}$ itd",
   "id": "e6881cfec11ea8b8"
  },
  {
   "metadata": {
    "ExecuteTime": {
     "end_time": "2025-03-05T22:14:52.870839Z",
     "start_time": "2025-03-05T22:14:52.860311Z"
    }
   },
   "cell_type": "code",
   "source": "CZqutryt = np.diag([1, 1, 1, 1, omega, omega*omega, 1, omega*omega, omega])",
   "id": "c2160e133335c133",
   "outputs": [],
   "execution_count": 22
  },
  {
   "metadata": {},
   "cell_type": "markdown",
   "source": "Robie plusy na kazdym wierzcholku",
   "id": "78e6e84fa597f9ae"
  },
  {
   "metadata": {
    "ExecuteTime": {
     "end_time": "2025-03-05T22:14:53.354537Z",
     "start_time": "2025-03-05T22:14:53.342013Z"
    }
   },
   "cell_type": "code",
   "source": "stanPlus = np.kron(np.kron(np.kron(plusQutryt, plusQutryt), plusQutryt), plusQutryt)",
   "id": "accd5aa432da01af",
   "outputs": [],
   "execution_count": 23
  },
  {
   "metadata": {
    "ExecuteTime": {
     "end_time": "2025-03-05T22:14:53.681030Z",
     "start_time": "2025-03-05T22:14:53.669497Z"
    }
   },
   "cell_type": "code",
   "source": [
    "CZ01 = np.kron(CZqutryt, np.kron(np.identity(3), np.identity(3)))\n",
    "CZ12 = np.kron(np.identity(3), np.kron(CZqutryt, np.identity(3)))\n",
    "CZ23 = np.kron(np.identity(3), np.kron(np.identity(3), CZqutryt))"
   ],
   "id": "d30f0819581f6c59",
   "outputs": [],
   "execution_count": 24
  },
  {
   "metadata": {},
   "cell_type": "markdown",
   "source": "Robie funkcje poniewaz nie moge bezposrednio uzyc np.kron bo qutryty nie sa obok siebie tylko na dwoch koncach, wiec tworze juz caly stan CZ03 odrazu.",
   "id": "fae8dd8b6b363e4f"
  },
  {
   "metadata": {
    "ExecuteTime": {
     "end_time": "2025-03-05T22:14:54.540077Z",
     "start_time": "2025-03-05T22:14:54.517180Z"
    }
   },
   "cell_type": "code",
   "source": [
    "def CZ_30_4qutrits():\n",
    "    d = 3\n",
    "    dim = d**4\n",
    "    diag_elements = np.zeros(dim, dtype=complex)\n",
    "\n",
    "    omega = np.exp(2j * np.pi / d)\n",
    "\n",
    "    index = 0\n",
    "    for x0 in range(d):\n",
    "        for x1 in range(d):\n",
    "            for x2 in range(d):\n",
    "                for x3 in range(d):\n",
    "                    \n",
    "                    diag_elements[index] = omega ** (x0 * x3)\n",
    "                    index += 1\n",
    "\n",
    "    return np.diag(diag_elements)\n",
    "\n",
    "CZ30 = CZ_30_4qutrits()"
   ],
   "id": "e2aa06a11dc5f18e",
   "outputs": [],
   "execution_count": 25
  },
  {
   "metadata": {},
   "cell_type": "markdown",
   "source": "Robie CZ na kazdej krawedzi i lacze ze stanem plus na kazdym wierzcholku",
   "id": "24a937b78c0ccc7b"
  },
  {
   "metadata": {
    "ExecuteTime": {
     "end_time": "2025-03-05T22:14:55.253078Z",
     "start_time": "2025-03-05T22:14:55.228008Z"
    }
   },
   "cell_type": "code",
   "source": "ame43test = multi_dot([CZ01, CZ12, CZ23, CZ23, CZ30, stanPlus])",
   "id": "c84a61856e289f01",
   "outputs": [],
   "execution_count": 26
  },
  {
   "metadata": {
    "ExecuteTime": {
     "end_time": "2025-03-05T22:14:55.502845Z",
     "start_time": "2025-03-05T22:14:55.491330Z"
    }
   },
   "cell_type": "code",
   "source": "ame43test.shape",
   "id": "83a92d593f7e6829",
   "outputs": [
    {
     "data": {
      "text/plain": [
       "(81, 1)"
      ]
     },
     "execution_count": 27,
     "metadata": {},
     "output_type": "execute_result"
    }
   ],
   "execution_count": 27
  },
  {
   "metadata": {},
   "cell_type": "markdown",
   "source": "Analogicznie do tworzenia poprzednich stabilizatorow",
   "id": "6f8defb015eb1dea"
  },
  {
   "metadata": {
    "ExecuteTime": {
     "end_time": "2025-03-05T22:14:56.541805Z",
     "start_time": "2025-03-05T22:14:56.512725Z"
    }
   },
   "cell_type": "code",
   "source": [
    "G1test = np.kron(np.kron(np.kron(Xsolo, Zsolo), np.identity(3)), Zsolo)\n",
    "G1G2test = np.kron(np.kron(np.kron(np.dot(Xsolo, Zsolo), np.dot(Zsolo, Xsolo)), Zsolo), Zsolo)\n",
    "G1G2pow2test = np.kron(np.kron(np.kron(multi_dot([Xsolo, Zsolo, Zsolo]), multi_dot([Zsolo, Xsolo, Xsolo])), multi_dot([Zsolo, Zsolo])), Zsolo)\n",
    "G3test = np.kron(np.kron(np.kron(np.identity(3), Zsolo), Xsolo), multi_dot([Zsolo, Zsolo]))\n",
    "G1G4test = np.kron(np.kron(np.kron(multi_dot([Xsolo, Zsolo]), Zsolo), multi_dot([Zsolo, Zsolo])), multi_dot([Zsolo, Xsolo]))\n",
    "\n",
    "# G1test = np.kron(Xsolo, np.kron(Zsolo, np.kron(np.identity(3), Zsolo)))\n",
    "# G1G2test = np.kron(np.dot(Xsolo, Zsolo), np.kron(np.kron(Zsolo, Xsolo), np.kron(Zsolo, Zsolo)))\n",
    "# G1G2pow2test = np.kron(np.dot(Xsolo, np.dot(Zsolo, Zsolo)), np.kron(np.kron(Zsolo, np.dot(Xsolo, Xsolo)), np.kron(np.dot(Zsolo, Zsolo), Zsolo)))\n",
    "# G3test = np.kron(np.identity(3), np.kron(Zsolo, np.kron(Xsolo, np.dot(Zsolo, Zsolo))))\n",
    "# G1G4test = np.kron(np.dot(Xsolo, Zsolo), np.kron(Zsolo, np.kron(np.dot(Zsolo, Zsolo), np.dot(Zsolo, Xsolo))))"
   ],
   "id": "92b32283b70d2ef9",
   "outputs": [],
   "execution_count": 28
  },
  {
   "metadata": {},
   "cell_type": "markdown",
   "source": "Obliczam recznie $\\braket{ame43|G1|ame43}$",
   "id": "6c962b7171390816"
  },
  {
   "metadata": {
    "ExecuteTime": {
     "end_time": "2025-03-05T22:14:57.462587Z",
     "start_time": "2025-03-05T22:14:57.447113Z"
    }
   },
   "cell_type": "code",
   "source": "multi_dot([ame43test.conj().transpose(), G1test, ame43test])",
   "id": "e5a76d29d840ebcf",
   "outputs": [
    {
     "data": {
      "text/plain": [
       "array([[1.-4.21537805e-16j]])"
      ]
     },
     "execution_count": 29,
     "metadata": {},
     "output_type": "execute_result"
    }
   ],
   "execution_count": 29
  },
  {
   "metadata": {
    "ExecuteTime": {
     "end_time": "2025-03-05T22:15:02.407272Z",
     "start_time": "2025-03-05T22:15:02.394764Z"
    }
   },
   "cell_type": "code",
   "source": "operatory = [G1test, G1G2test, G1G2pow2test, G3test, G1G4test]",
   "id": "e2b37682c3ed6029",
   "outputs": [],
   "execution_count": 30
  },
  {
   "metadata": {
    "ExecuteTime": {
     "end_time": "2025-03-05T22:15:03.433708Z",
     "start_time": "2025-03-05T22:15:03.423682Z"
    }
   },
   "cell_type": "code",
   "source": [
    "suma = 0\n",
    "for i in operatory:\n",
    "    suma += np.real(multi_dot([ame43test.conj().transpose(), i, ame43test]))\n",
    "    print(np.real(multi_dot([ame43test.conj().transpose(), i, ame43test])))\n",
    "    \n",
    "print(suma)"
   ],
   "id": "e7ca96ccb720b3d7",
   "outputs": [
    {
     "name": "stdout",
     "output_type": "stream",
     "text": [
      "[[1.]]\n",
      "[[1.]]\n",
      "[[1.]]\n",
      "[[1.]]\n",
      "[[1.]]\n",
      "[[5.]]\n"
     ]
    }
   ],
   "execution_count": 31
  },
  {
   "metadata": {
    "ExecuteTime": {
     "end_time": "2025-03-05T22:15:04.136845Z",
     "start_time": "2025-03-05T22:15:04.123811Z"
    }
   },
   "cell_type": "code",
   "source": [
    "def exp_val(op):\n",
    "    return np.real(multi_dot([ame43test.conj().transpose(), op, ame43test]))"
   ],
   "id": "ab022f150857c494",
   "outputs": [],
   "execution_count": 32
  },
  {
   "metadata": {
    "ExecuteTime": {
     "end_time": "2025-03-05T22:15:04.756779Z",
     "start_time": "2025-03-05T22:15:04.744258Z"
    }
   },
   "cell_type": "code",
   "source": "B_ame = G1test + G1G2pow2test + 0.5*(G1G2test + G1G4test) + G3test + G1test.conj().T + G1G2pow2test.conj().T + 0.5*(G1G2test.conj().T + G1G4test.conj().T) + G3test.conj().T",
   "id": "1198c8e8b6a46d3e",
   "outputs": [],
   "execution_count": 33
  },
  {
   "metadata": {
    "ExecuteTime": {
     "end_time": "2025-03-05T22:15:05.549182Z",
     "start_time": "2025-03-05T22:15:05.538268Z"
    }
   },
   "cell_type": "code",
   "source": "np.real(multi_dot([ame43test.conj().transpose(), B_ame, ame43test]))",
   "id": "d8096f3ba1615305",
   "outputs": [
    {
     "data": {
      "text/plain": [
       "array([[8.]])"
      ]
     },
     "execution_count": 34,
     "metadata": {},
     "output_type": "execute_result"
    }
   ],
   "execution_count": 34
  },
  {
   "metadata": {
    "ExecuteTime": {
     "end_time": "2025-03-05T22:15:15.234796Z",
     "start_time": "2025-03-05T22:15:15.087833Z"
    }
   },
   "cell_type": "code",
   "source": [
    "import sympy\n",
    "from IPython.display import Math\n",
    "vect_sympy = sympy.Matrix(Statevector(ame43circ).data.round(5).reshape((256, 1)))\n",
    "vect_sympy2 = sympy.Matrix(Statevector(ame43test).data.round(5).reshape((81, 1)))"
   ],
   "id": "8e8a128771e3fc9f",
   "outputs": [],
   "execution_count": 35
  },
  {
   "metadata": {},
   "cell_type": "markdown",
   "source": "Porownanie z wczesniejszym wynikiem",
   "id": "a711eb1ae5777791"
  },
  {
   "metadata": {},
   "cell_type": "markdown",
   "source": "Statevector qutrytowy zwykły bez kodowania policzony ręcznie",
   "id": "57fd71c95387faf9"
  },
  {
   "metadata": {
    "ExecuteTime": {
     "end_time": "2025-03-05T22:15:29.546115Z",
     "start_time": "2025-03-05T22:15:29.430309Z"
    }
   },
   "cell_type": "code",
   "source": "Statevector(ame43test).draw('latex')",
   "id": "936881879fa1af07",
   "outputs": [
    {
     "data": {
      "text/plain": [
       "<IPython.core.display.Latex object>"
      ],
      "text/latex": "$$\\begin{align}\n\n\n\\begin{bmatrix}\n\\frac{1}{9} & \\frac{1}{9} & \\frac{1}{9} & \\frac{1}{9} & \\cdots & -0.0555555556 - 0.0962250449 i & -0.0555555556 - 0.0962250449 i & -0.0555555556 - 0.0962250449 i  \\\\\n \\end{bmatrix}\n\\\\\n\\text{dims=(81,)}\n\\end{align}$$"
     },
     "execution_count": 36,
     "metadata": {},
     "output_type": "execute_result"
    }
   ],
   "execution_count": 36
  },
  {
   "metadata": {
    "ExecuteTime": {
     "end_time": "2025-03-05T22:16:01.887149Z",
     "start_time": "2025-03-05T22:16:01.831024Z"
    }
   },
   "cell_type": "code",
   "source": "Math(sympy.latex(vect_sympy2))",
   "id": "5ce55ce25d1e5e00",
   "outputs": [
    {
     "data": {
      "text/plain": [
       "<IPython.core.display.Math object>"
      ],
      "text/latex": "$\\displaystyle \\left[\\begin{matrix}0.11111\\\\0.11111\\\\0.11111\\\\0.11111\\\\-0.05556 - 0.09623 i\\\\-0.05556 + 0.09623 i\\\\0.11111\\\\-0.05556 + 0.09623 i\\\\-0.05556 - 0.09623 i\\\\0.11111\\\\0.11111\\\\0.11111\\\\-0.05556 + 0.09623 i\\\\0.11111\\\\-0.05556 - 0.09623 i\\\\-0.05556 - 0.09623 i\\\\0.11111\\\\-0.05556 + 0.09623 i\\\\0.11111\\\\0.11111\\\\0.11111\\\\-0.05556 - 0.09623 i\\\\-0.05556 + 0.09623 i\\\\0.11111\\\\-0.05556 + 0.09623 i\\\\-0.05556 - 0.09623 i\\\\0.11111\\\\0.11111\\\\-0.05556 + 0.09623 i\\\\-0.05556 - 0.09623 i\\\\0.11111\\\\0.11111\\\\0.11111\\\\0.11111\\\\-0.05556 - 0.09623 i\\\\-0.05556 + 0.09623 i\\\\-0.05556 + 0.09623 i\\\\-0.05556 - 0.09623 i\\\\0.11111\\\\-0.05556 - 0.09623 i\\\\-0.05556 - 0.09623 i\\\\-0.05556 - 0.09623 i\\\\0.11111\\\\-0.05556 - 0.09623 i\\\\-0.05556 + 0.09623 i\\\\-0.05556 - 0.09623 i\\\\0.11111\\\\-0.05556 + 0.09623 i\\\\-0.05556 + 0.09623 i\\\\-0.05556 + 0.09623 i\\\\-0.05556 + 0.09623 i\\\\0.11111\\\\-0.05556 - 0.09623 i\\\\-0.05556 + 0.09623 i\\\\0.11111\\\\-0.05556 - 0.09623 i\\\\-0.05556 + 0.09623 i\\\\0.11111\\\\-0.05556 + 0.09623 i\\\\-0.05556 - 0.09623 i\\\\0.11111\\\\0.11111\\\\0.11111\\\\-0.05556 - 0.09623 i\\\\-0.05556 + 0.09623 i\\\\0.11111\\\\0.11111\\\\-0.05556 + 0.09623 i\\\\-0.05556 - 0.09623 i\\\\-0.05556 + 0.09623 i\\\\-0.05556 + 0.09623 i\\\\-0.05556 + 0.09623 i\\\\-0.05556 + 0.09623 i\\\\0.11111\\\\-0.05556 - 0.09623 i\\\\0.11111\\\\-0.05556 + 0.09623 i\\\\-0.05556 - 0.09623 i\\\\-0.05556 - 0.09623 i\\\\-0.05556 - 0.09623 i\\\\-0.05556 - 0.09623 i\\end{matrix}\\right]$"
     },
     "execution_count": 38,
     "metadata": {},
     "output_type": "execute_result"
    }
   ],
   "execution_count": 38
  },
  {
   "metadata": {},
   "cell_type": "markdown",
   "source": "Statevector qutrytowy zakodowany na qubitach z algorytmu",
   "id": "43947a76b7ddf21d"
  },
  {
   "metadata": {
    "ExecuteTime": {
     "end_time": "2025-03-05T22:16:08.776679Z",
     "start_time": "2025-03-05T22:16:08.583650Z"
    }
   },
   "cell_type": "code",
   "source": "Statevector(ame43circ).draw('latex')",
   "id": "d84636b9096e6972",
   "outputs": [
    {
     "data": {
      "text/plain": [
       "<IPython.core.display.Latex object>"
      ],
      "text/latex": "$$\\frac{1}{9} |00000000\\rangle+\\frac{1}{9} |00000001\\rangle+\\frac{1}{9} |00000010\\rangle+\\frac{1}{9} |00000100\\rangle+(-0.0555555556 + 0.0962250449 i) |00000101\\rangle+(-0.0555555556 - 0.0962250449 i) |00000110\\rangle + \\ldots +(-0.0555555556 + 0.0962250449 i) |10100101\\rangle+(-0.0555555556 + 0.0962250449 i) |10100110\\rangle+\\frac{1}{9} |10101000\\rangle+(-0.0555555556 + 0.0962250449 i) |10101001\\rangle+(-0.0555555556 - 0.0962250449 i) |10101010\\rangle$$"
     },
     "execution_count": 39,
     "metadata": {},
     "output_type": "execute_result"
    }
   ],
   "execution_count": 39
  },
  {
   "metadata": {
    "ExecuteTime": {
     "end_time": "2025-03-05T22:16:15.075197Z",
     "start_time": "2025-03-05T22:16:15.032113Z"
    }
   },
   "cell_type": "code",
   "source": "Math(sympy.latex(vect_sympy))",
   "id": "c880eaa15415a4b5",
   "outputs": [
    {
     "data": {
      "text/plain": [
       "<IPython.core.display.Math object>"
      ],
      "text/latex": "$\\displaystyle \\left[\\begin{matrix}0.11111\\\\0.11111\\\\0.11111\\\\0\\\\0.11111\\\\-0.05556 + 0.09623 i\\\\-0.05556 - 0.09623 i\\\\0\\\\0.11111\\\\-0.05556 - 0.09623 i\\\\-0.05556 + 0.09623 i\\\\0\\\\0\\\\0\\\\0\\\\0\\\\0.11111\\\\0.11111\\\\0.11111\\\\0\\\\-0.05556 + 0.09623 i\\\\-0.05556 - 0.09623 i\\\\0.11111\\\\0\\\\-0.05556 - 0.09623 i\\\\-0.05556 + 0.09623 i\\\\0.11111\\\\0\\\\0\\\\0\\\\0\\\\0\\\\0.11111\\\\0.11111\\\\0.11111\\\\0\\\\-0.05556 - 0.09623 i\\\\0.11111\\\\-0.05556 + 0.09623 i\\\\0\\\\-0.05556 + 0.09623 i\\\\0.11111\\\\-0.05556 - 0.09623 i\\\\0\\\\0\\\\0\\\\0\\\\0\\\\0\\\\0\\\\0\\\\0\\\\0\\\\0\\\\0\\\\0\\\\0\\\\0\\\\0\\\\0\\\\0\\\\0\\\\0\\\\0\\\\0.11111\\\\-0.05556 + 0.09623 i\\\\-0.05556 - 0.09623 i\\\\0\\\\0.11111\\\\-0.05556 - 0.09623 i\\\\-0.05556 + 0.09623 i\\\\0\\\\0.11111\\\\0.11111\\\\0.11111\\\\0\\\\0\\\\0\\\\0\\\\0\\\\-0.05556 - 0.09623 i\\\\0.11111\\\\-0.05556 + 0.09623 i\\\\0\\\\0.11111\\\\-0.05556 - 0.09623 i\\\\-0.05556 + 0.09623 i\\\\0\\\\-0.05556 + 0.09623 i\\\\-0.05556 + 0.09623 i\\\\-0.05556 + 0.09623 i\\\\0\\\\0\\\\0\\\\0\\\\0\\\\-0.05556 + 0.09623 i\\\\-0.05556 - 0.09623 i\\\\0.11111\\\\0\\\\0.11111\\\\-0.05556 - 0.09623 i\\\\-0.05556 + 0.09623 i\\\\0\\\\-0.05556 - 0.09623 i\\\\-0.05556 - 0.09623 i\\\\-0.05556 - 0.09623 i\\\\0\\\\0\\\\0\\\\0\\\\0\\\\0\\\\0\\\\0\\\\0\\\\0\\\\0\\\\0\\\\0\\\\0\\\\0\\\\0\\\\0\\\\0\\\\0\\\\0\\\\0\\\\0.11111\\\\-0.05556 - 0.09623 i\\\\-0.05556 + 0.09623 i\\\\0\\\\0.11111\\\\0.11111\\\\0.11111\\\\0\\\\0.11111\\\\-0.05556 + 0.09623 i\\\\-0.05556 - 0.09623 i\\\\0\\\\0\\\\0\\\\0\\\\0\\\\-0.05556 + 0.09623 i\\\\0.11111\\\\-0.05556 - 0.09623 i\\\\0\\\\-0.05556 - 0.09623 i\\\\-0.05556 - 0.09623 i\\\\-0.05556 - 0.09623 i\\\\0\\\\0.11111\\\\-0.05556 + 0.09623 i\\\\-0.05556 - 0.09623 i\\\\0\\\\0\\\\0\\\\0\\\\0\\\\-0.05556 - 0.09623 i\\\\-0.05556 + 0.09623 i\\\\0.11111\\\\0\\\\-0.05556 + 0.09623 i\\\\-0.05556 + 0.09623 i\\\\-0.05556 + 0.09623 i\\\\0\\\\0.11111\\\\-0.05556 + 0.09623 i\\\\-0.05556 - 0.09623 i\\\\0\\\\0\\\\0\\\\0\\\\0\\\\0\\\\0\\\\0\\\\0\\\\0\\\\0\\\\0\\\\0\\\\0\\\\0\\\\0\\\\0\\\\0\\\\0\\\\0\\\\0\\\\0\\\\0\\\\0\\\\0\\\\0\\\\0\\\\0\\\\0\\\\0\\\\0\\\\0\\\\0\\\\0\\\\0\\\\0\\\\0\\\\0\\\\0\\\\0\\\\0\\\\0\\\\0\\\\0\\\\0\\\\0\\\\0\\\\0\\\\0\\\\0\\\\0\\\\0\\\\0\\\\0\\\\0\\\\0\\\\0\\\\0\\\\0\\\\0\\\\0\\\\0\\\\0\\\\0\\\\0\\\\0\\\\0\\\\0\\\\0\\\\0\\\\0\\\\0\\\\0\\\\0\\\\0\\\\0\\\\0\\\\0\\\\0\\\\0\\\\0\\\\0\\\\0\\\\0\\\\0\\end{matrix}\\right]$"
     },
     "execution_count": 40,
     "metadata": {},
     "output_type": "execute_result"
    }
   ],
   "execution_count": 40
  },
  {
   "metadata": {
    "ExecuteTime": {
     "end_time": "2025-03-04T00:38:04.167516Z",
     "start_time": "2025-03-04T00:38:04.156300Z"
    }
   },
   "cell_type": "code",
   "source": [
    "nonzero_dict = Statevector(ame43test).to_dict()\n",
    "num_terms = len(nonzero_dict)\n",
    "print(\"Liczba niezerowych składników w tym Statevector:\", num_terms)"
   ],
   "id": "b9f3ebb347a5b9b8",
   "outputs": [
    {
     "name": "stdout",
     "output_type": "stream",
     "text": [
      "Liczba niezerowych składników w tym Statevector: 81\n"
     ]
    }
   ],
   "execution_count": 36
  },
  {
   "metadata": {},
   "cell_type": "markdown",
   "source": "Poniżej brudnopis, próbowałem policzyć wartości oczekiwane dla naszego podstawowego stanu GHZ.",
   "id": "ec10cdb98351e6fc"
  },
  {
   "metadata": {
    "ExecuteTime": {
     "end_time": "2025-03-04T00:38:04.715124Z",
     "start_time": "2025-03-04T00:38:04.639852Z"
    }
   },
   "cell_type": "code",
   "source": "ghz_circ = QuditsOnQubits().circuit",
   "id": "3e7b0c397f6d5443",
   "outputs": [],
   "execution_count": 37
  },
  {
   "metadata": {
    "ExecuteTime": {
     "end_time": "2025-03-04T00:38:05.735100Z",
     "start_time": "2025-03-04T00:38:05.723961Z"
    }
   },
   "cell_type": "code",
   "source": "ghz_circ",
   "id": "5f1905d517900944",
   "outputs": [
    {
     "data": {
      "text/plain": [
       "[<qiskit.circuit.quantumcircuit.QuantumCircuit at 0x1ca7f123640>,\n",
       " array([[-5.77350269e-01-3.95243214e-15j],\n",
       "        [ 1.67231961e-17-5.70531277e-17j],\n",
       "        [-2.95360966e-17-7.70988212e-18j],\n",
       "        [ 7.82584766e-16-2.84640047e-15j],\n",
       "        [-6.95808573e-17+2.70597771e-16j],\n",
       "        [ 1.72181302e-15-6.52394803e-16j],\n",
       "        [-9.38366847e-18-1.94491073e-17j],\n",
       "        [-8.01751384e-31-9.32244759e-31j],\n",
       "        [ 1.57368925e-15-6.62931985e-16j],\n",
       "        [-3.62098557e-18+1.16542063e-17j],\n",
       "        [ 2.28774619e-16+2.54551119e-16j],\n",
       "        [ 9.37868610e-31+8.37042798e-30j],\n",
       "        [ 2.58996946e-16-1.73004099e-15j],\n",
       "        [ 1.92401140e-31+6.05637679e-30j],\n",
       "        [-9.14242598e-31+5.50895484e-31j],\n",
       "        [ 8.15876186e-30+4.01870155e-30j],\n",
       "        [-1.10428400e-16+2.25220175e-16j],\n",
       "        [ 1.77269824e-15-6.57461581e-16j],\n",
       "        [ 9.12004861e-18-2.10464381e-17j],\n",
       "        [-1.06339416e-30-9.05438080e-31j],\n",
       "        [-3.61240573e-17-2.56528861e-17j],\n",
       "        [-5.77350269e-01-4.48651244e-15j],\n",
       "        [ 0.00000000e+00-2.79486768e-18j],\n",
       "        [ 3.13658534e-32+1.91836976e-31j],\n",
       "        [-4.56566624e-17+2.94707839e-17j],\n",
       "        [ 2.98124100e-16+3.19249513e-16j],\n",
       "        [ 1.76136278e-15-5.03881176e-16j],\n",
       "        [-1.31970847e-31+8.42182460e-32j],\n",
       "        [-4.62863708e-31-5.90778009e-31j],\n",
       "        [ 5.84453599e-16-1.67821016e-15j],\n",
       "        [-2.46519033e-31+5.02898827e-30j],\n",
       "        [ 1.98251332e-45-2.88743342e-45j],\n",
       "        [ 1.53820896e-15-5.79665258e-16j],\n",
       "        [ 1.71956961e-17+1.51236533e-17j],\n",
       "        [ 2.98163558e-16+3.06592823e-16j],\n",
       "        [ 7.59142311e-31+8.49368750e-30j],\n",
       "        [-5.59493978e-18+1.86112318e-17j],\n",
       "        [ 2.07384521e-16+3.46506614e-16j],\n",
       "        [ 1.70485525e-15-5.61231232e-16j],\n",
       "        [-1.72189038e-32+4.81180031e-33j],\n",
       "        [-7.58770046e-18+1.38586965e-17j],\n",
       "        [ 0.00000000e+00-1.38776190e-19j],\n",
       "        [-5.77350269e-01-1.62233360e-15j],\n",
       "        [-9.65426781e-32+2.66189920e-31j],\n",
       "        [ 1.00112822e-30+4.57894781e-30j],\n",
       "        [-1.03537994e-30+0.00000000e+00j],\n",
       "        [ 5.16155623e-16-1.56964089e-15j],\n",
       "        [-2.59567024e-44-1.57086070e-45j],\n",
       "        [ 2.73402136e-16-1.76847705e-15j],\n",
       "        [ 1.72849312e-17+2.44064430e-17j],\n",
       "        [ 2.20250588e-17-2.71250893e-18j],\n",
       "        [ 8.44691998e-30+3.80955974e-30j],\n",
       "        [ 2.35565487e-17-4.58286443e-18j],\n",
       "        [ 6.33213547e-16-1.74254837e-15j],\n",
       "        [-1.82427277e-17+3.56259063e-17j],\n",
       "        [-6.92420996e-32+2.11033511e-31j],\n",
       "        [-3.91192184e-17-4.69369136e-17j],\n",
       "        [ 5.33165923e-18+1.54032556e-17j],\n",
       "        [ 4.92809299e-16-1.62725548e-15j],\n",
       "        [ 2.08075012e-32-1.33668621e-31j],\n",
       "        [ 5.08419701e-30+1.62660880e-30j],\n",
       "        [ 4.42085403e-30+3.56706148e-30j],\n",
       "        [ 3.85846077e-30+2.80884718e-30j],\n",
       "        [-1.60421124e-44+2.17111034e-44j]])]"
      ]
     },
     "execution_count": 40,
     "metadata": {},
     "output_type": "execute_result"
    }
   ],
   "execution_count": 40
  },
  {
   "metadata": {
    "ExecuteTime": {
     "end_time": "2025-03-04T00:38:05.985226Z",
     "start_time": "2025-03-04T00:38:05.971102Z"
    }
   },
   "cell_type": "code",
   "source": "ghz_matrix = Statevector(ghz_circ[1])",
   "id": "4c152f83969dfb92",
   "outputs": [],
   "execution_count": 41
  },
  {
   "metadata": {
    "ExecuteTime": {
     "end_time": "2025-03-04T00:38:06.373955Z",
     "start_time": "2025-03-04T00:38:06.330872Z"
    }
   },
   "cell_type": "code",
   "source": "ghz_matrix.draw('latex')",
   "id": "2e779e4b7214faa4",
   "outputs": [
    {
     "data": {
      "text/plain": [
       "<IPython.core.display.Latex object>"
      ],
      "text/latex": "$$- \\frac{\\sqrt{3}}{3} |000000\\rangle- \\frac{\\sqrt{3}}{3} |010101\\rangle- \\frac{\\sqrt{3}}{3} |101010\\rangle$$"
     },
     "execution_count": 42,
     "metadata": {},
     "output_type": "execute_result"
    }
   ],
   "execution_count": 42
  },
  {
   "metadata": {
    "ExecuteTime": {
     "end_time": "2025-03-04T00:38:06.673012Z",
     "start_time": "2025-03-04T00:38:06.660477Z"
    }
   },
   "cell_type": "code",
   "source": [
    "g1 = np.kron(np.kron(Z, X), X)\n",
    "g2 = np.kron(np.kron(X, Z), np.identity(4))\n",
    "g3 = np.kron(np.kron(X, np.identity(4)), Z)"
   ],
   "id": "d11fed07f4e1314e",
   "outputs": [],
   "execution_count": 43
  },
  {
   "metadata": {
    "ExecuteTime": {
     "end_time": "2025-03-04T00:38:06.987955Z",
     "start_time": "2025-03-04T00:38:06.977414Z"
    }
   },
   "cell_type": "code",
   "source": "multi_dot([ghz_matrix.data.conj().transpose(), g1, ghz_matrix.data])",
   "id": "590dbb9e7819066f",
   "outputs": [
    {
     "data": {
      "text/plain": [
       "np.complex128(-2.4421441894360897e-16+1.5402969882312747e-18j)"
      ]
     },
     "execution_count": 44,
     "metadata": {},
     "output_type": "execute_result"
    }
   ],
   "execution_count": 44
  },
  {
   "metadata": {
    "ExecuteTime": {
     "end_time": "2025-03-04T00:38:07.239075Z",
     "start_time": "2025-03-04T00:38:07.226006Z"
    }
   },
   "cell_type": "code",
   "source": "",
   "id": "9a3fc4e1b8632fb8",
   "outputs": [],
   "execution_count": null
  },
  {
   "metadata": {},
   "cell_type": "markdown",
   "source": "Reczne obliczanie zakodowanego ame43 na qubitach",
   "id": "7a0f27dfc4104b7f"
  },
  {
   "metadata": {
    "ExecuteTime": {
     "end_time": "2025-03-04T00:38:08.121025Z",
     "start_time": "2025-03-04T00:38:08.110071Z"
    }
   },
   "cell_type": "code",
   "source": [
    "enQ0 = np.kron(qubit0, qubit0)\n",
    "enQ1 = np.kron(qubit1, qubit0)\n",
    "enQ2 = np.kron(qubit0, qubit1)"
   ],
   "id": "e5b940d1a2a94f94",
   "outputs": [],
   "execution_count": 45
  },
  {
   "metadata": {
    "ExecuteTime": {
     "end_time": "2025-03-04T00:41:12.303770Z",
     "start_time": "2025-03-04T00:41:12.275679Z"
    }
   },
   "cell_type": "code",
   "source": [
    "pi = np.pi\n",
    "sqrt = np.sqrt\n",
    "log = np.log\n",
    "\n",
    "common_log_term = log(-1 / 6 * (-1) ** (1 / 4) * (sqrt(24 - 6 * sqrt(3)) + 1j * (3 + sqrt(3))))\n",
    "common_factor = 3j + 1j * sqrt(3) + sqrt(6 * (4 - sqrt(3)))\n",
    "denominator = 15 * pi - 4 * 1j * common_log_term\n",
    "\n",
    "VCx = np.array([\n",
    "    [\n",
    "        -(((-1) ** (5 / 8) * common_factor * (30 * pi - 8 * 1j * common_log_term)) / (24 * denominator)) +\n",
    "        (3 * (-1) ** (5 / 8) * (-30 * pi + 8 * 1j * common_log_term)) / (2 * common_factor * denominator),\n",
    "        0,\n",
    "        0,\n",
    "        (3 * (-1) ** (5 / 8) * (-30 * pi + 8 * 1j * common_log_term)) / (2 * common_factor * denominator) -\n",
    "        ((-1) ** (5 / 8) * common_factor * (-30 * pi + 8 * 1j * common_log_term)) / (24 * denominator)\n",
    "    ],\n",
    "    [\n",
    "        0,\n",
    "        -(1 / 2) * (-1) ** (1 / 8) - (1 / 2) * (-1) ** (5 / 8),\n",
    "        -(1 / 2) * (-1) ** (1 / 8) + (1 / 2) * (-1) ** (5 / 8),\n",
    "        0\n",
    "    ],\n",
    "    [\n",
    "        0,\n",
    "        -(1 / 2) * (-1) ** (1 / 8) + (1 / 2) * (-1) ** (5 / 8),\n",
    "        -(1 / 2) * (-1) ** (1 / 8) - (1 / 2) * (-1) ** (5 / 8),\n",
    "        0\n",
    "    ],\n",
    "    [\n",
    "        (3 * (-1) ** (5 / 8) * (-30 * pi + 8 * 1j * common_log_term)) / (2 * common_factor * denominator) -\n",
    "        ((-1) ** (5 / 8) * common_factor * (-30 * pi + 8 * 1j * common_log_term)) / (24 * denominator),\n",
    "        0,\n",
    "        0,\n",
    "        -(((-1) ** (5 / 8) * common_factor * (30 * pi - 8 * 1j * common_log_term)) / (24 * denominator)) +\n",
    "        (3 * (-1) ** (5 / 8) * (-30 * pi + 8 * 1j * common_log_term)) / (2 * common_factor * denominator)\n",
    "    ]\n",
    "], dtype=complex)"
   ],
   "id": "5b1b4f390fbdfcee",
   "outputs": [],
   "execution_count": 46
  },
  {
   "metadata": {
    "ExecuteTime": {
     "end_time": "2025-03-04T00:45:50.748666Z",
     "start_time": "2025-03-04T00:45:50.708547Z"
    }
   },
   "cell_type": "code",
   "source": "Statevector(ame43circ).data.round(5)",
   "id": "65f5e734674d2cd3",
   "outputs": [
    {
     "data": {
      "text/plain": [
       "array([ 0.11111+0.j     ,  0.11111+0.j     ,  0.11111+0.j     ,\n",
       "       -0.     +0.j     ,  0.11111+0.j     , -0.05556+0.09623j,\n",
       "       -0.05556-0.09623j, -0.     +0.j     ,  0.11111+0.j     ,\n",
       "       -0.05556-0.09623j, -0.05556+0.09623j, -0.     +0.j     ,\n",
       "       -0.     +0.j     , -0.     +0.j     , -0.     +0.j     ,\n",
       "       -0.     -0.j     ,  0.11111+0.j     ,  0.11111+0.j     ,\n",
       "        0.11111+0.j     , -0.     +0.j     , -0.05556+0.09623j,\n",
       "       -0.05556-0.09623j,  0.11111+0.j     , -0.     -0.j     ,\n",
       "       -0.05556-0.09623j, -0.05556+0.09623j,  0.11111+0.j     ,\n",
       "        0.     -0.j     , -0.     +0.j     , -0.     +0.j     ,\n",
       "       -0.     +0.j     , -0.     -0.j     ,  0.11111+0.j     ,\n",
       "        0.11111+0.j     ,  0.11111+0.j     , -0.     +0.j     ,\n",
       "       -0.05556-0.09623j,  0.11111+0.j     , -0.05556+0.09623j,\n",
       "        0.     -0.j     , -0.05556+0.09623j,  0.11111+0.j     ,\n",
       "       -0.05556-0.09623j, -0.     -0.j     , -0.     +0.j     ,\n",
       "       -0.     +0.j     , -0.     +0.j     , -0.     -0.j     ,\n",
       "       -0.     +0.j     , -0.     +0.j     , -0.     +0.j     ,\n",
       "       -0.     -0.j     , -0.     +0.j     , -0.     -0.j     ,\n",
       "        0.     -0.j     , -0.     -0.j     , -0.     +0.j     ,\n",
       "        0.     -0.j     , -0.     -0.j     , -0.     -0.j     ,\n",
       "       -0.     -0.j     , -0.     -0.j     , -0.     -0.j     ,\n",
       "        0.     -0.j     ,  0.11111+0.j     , -0.05556+0.09623j,\n",
       "       -0.05556-0.09623j, -0.     +0.j     ,  0.11111+0.j     ,\n",
       "       -0.05556-0.09623j, -0.05556+0.09623j, -0.     +0.j     ,\n",
       "        0.11111+0.j     ,  0.11111+0.j     ,  0.11111+0.j     ,\n",
       "       -0.     +0.j     , -0.     +0.j     , -0.     -0.j     ,\n",
       "        0.     -0.j     , -0.     -0.j     , -0.05556-0.09623j,\n",
       "        0.11111+0.j     , -0.05556+0.09623j,  0.     -0.j     ,\n",
       "        0.11111+0.j     , -0.05556-0.09623j, -0.05556+0.09623j,\n",
       "       -0.     +0.j     , -0.05556+0.09623j, -0.05556+0.09623j,\n",
       "       -0.05556+0.09623j, -0.     -0.j     ,  0.     -0.j     ,\n",
       "       -0.     +0.j     , -0.     -0.j     , -0.     +0.j     ,\n",
       "       -0.05556+0.09623j, -0.05556-0.09623j,  0.11111+0.j     ,\n",
       "       -0.     -0.j     ,  0.11111+0.j     , -0.05556-0.09623j,\n",
       "       -0.05556+0.09623j, -0.     +0.j     , -0.05556-0.09623j,\n",
       "       -0.05556-0.09623j, -0.05556-0.09623j,  0.     -0.j     ,\n",
       "       -0.     -0.j     ,  0.     -0.j     , -0.     +0.j     ,\n",
       "        0.     -0.j     , -0.     +0.j     , -0.     -0.j     ,\n",
       "        0.     -0.j     , -0.     -0.j     , -0.     +0.j     ,\n",
       "        0.     -0.j     , -0.     -0.j     , -0.     -0.j     ,\n",
       "       -0.     +0.j     , -0.     +0.j     , -0.     +0.j     ,\n",
       "       -0.     -0.j     , -0.     -0.j     ,  0.     -0.j     ,\n",
       "       -0.     +0.j     ,  0.     -0.j     ,  0.11111+0.j     ,\n",
       "       -0.05556-0.09623j, -0.05556+0.09623j, -0.     +0.j     ,\n",
       "        0.11111+0.j     ,  0.11111+0.j     ,  0.11111+0.j     ,\n",
       "       -0.     +0.j     ,  0.11111+0.j     , -0.05556+0.09623j,\n",
       "       -0.05556-0.09623j, -0.     +0.j     , -0.     +0.j     ,\n",
       "        0.     -0.j     , -0.     -0.j     , -0.     -0.j     ,\n",
       "       -0.05556+0.09623j,  0.11111+0.j     , -0.05556-0.09623j,\n",
       "       -0.     -0.j     , -0.05556-0.09623j, -0.05556-0.09623j,\n",
       "       -0.05556-0.09623j,  0.     -0.j     ,  0.11111+0.j     ,\n",
       "       -0.05556+0.09623j, -0.05556-0.09623j, -0.     +0.j     ,\n",
       "       -0.     -0.j     , -0.     +0.j     ,  0.     -0.j     ,\n",
       "        0.     -0.j     , -0.05556-0.09623j, -0.05556+0.09623j,\n",
       "        0.11111-0.j     ,  0.     -0.j     , -0.05556+0.09623j,\n",
       "       -0.05556+0.09623j, -0.05556+0.09623j, -0.     -0.j     ,\n",
       "        0.11111-0.j     , -0.05556+0.09623j, -0.05556-0.09623j,\n",
       "       -0.     +0.j     ,  0.     -0.j     , -0.     -0.j     ,\n",
       "       -0.     +0.j     , -0.     +0.j     , -0.     +0.j     ,\n",
       "        0.     -0.j     , -0.     -0.j     , -0.     -0.j     ,\n",
       "       -0.     +0.j     , -0.     +0.j     , -0.     +0.j     ,\n",
       "       -0.     -0.j     , -0.     +0.j     , -0.     -0.j     ,\n",
       "        0.     -0.j     , -0.     -0.j     , -0.     -0.j     ,\n",
       "        0.     +0.j     ,  0.     -0.j     ,  0.     -0.j     ,\n",
       "       -0.     +0.j     , -0.     +0.j     , -0.     +0.j     ,\n",
       "       -0.     -0.j     , -0.     +0.j     , -0.     -0.j     ,\n",
       "        0.     -0.j     , -0.     -0.j     , -0.     +0.j     ,\n",
       "        0.     -0.j     , -0.     -0.j     , -0.     -0.j     ,\n",
       "       -0.     -0.j     , -0.     -0.j     , -0.     -0.j     ,\n",
       "        0.     -0.j     , -0.     +0.j     , -0.     +0.j     ,\n",
       "       -0.     +0.j     , -0.     -0.j     , -0.     -0.j     ,\n",
       "        0.     -0.j     , -0.     +0.j     ,  0.     -0.j     ,\n",
       "        0.     -0.j     , -0.     -0.j     , -0.     +0.j     ,\n",
       "       -0.     +0.j     , -0.     -0.j     , -0.     -0.j     ,\n",
       "       -0.     -0.j     ,  0.     -0.j     , -0.     +0.j     ,\n",
       "       -0.     +0.j     , -0.     +0.j     , -0.     -0.j     ,\n",
       "        0.     -0.j     , -0.     +0.j     , -0.     -0.j     ,\n",
       "       -0.     +0.j     , -0.     -0.j     , -0.     +0.j     ,\n",
       "        0.     -0.j     ,  0.     -0.j     , -0.     -0.j     ,\n",
       "       -0.     -0.j     , -0.     -0.j     ,  0.     -0.j     ,\n",
       "       -0.     -0.j     , -0.     -0.j     , -0.     -0.j     ,\n",
       "        0.     -0.j     , -0.     -0.j     ,  0.     -0.j     ,\n",
       "        0.     +0.j     ,  0.     -0.j     , -0.     -0.j     ,\n",
       "       -0.     +0.j     ,  0.     -0.j     ,  0.     -0.j     ,\n",
       "        0.     -0.j     ,  0.     -0.j     ,  0.     -0.j     ,\n",
       "        0.     +0.j     ])"
      ]
     },
     "execution_count": 53,
     "metadata": {},
     "output_type": "execute_result"
    }
   ],
   "execution_count": 53
  },
  {
   "metadata": {
    "ExecuteTime": {
     "end_time": "2025-03-04T00:47:37.367969Z",
     "start_time": "2025-03-04T00:47:37.361456Z"
    }
   },
   "cell_type": "code",
   "source": "",
   "id": "5bf30a0627fdb48e",
   "outputs": [],
   "execution_count": 57
  },
  {
   "metadata": {},
   "cell_type": "code",
   "source": "",
   "id": "123b536ff4c582e3",
   "outputs": [],
   "execution_count": null
  },
  {
   "metadata": {
    "ExecuteTime": {
     "end_time": "2025-03-04T00:48:57.908878Z",
     "start_time": "2025-03-04T00:48:57.880806Z"
    }
   },
   "cell_type": "code",
   "source": "",
   "id": "1e21360d4f2895c7",
   "outputs": [],
   "execution_count": 61
  },
  {
   "metadata": {},
   "cell_type": "code",
   "source": "Math(sympy.latex(vect_sympy2))",
   "id": "9eff85b0c30ebbf1",
   "outputs": [],
   "execution_count": null
  },
  {
   "metadata": {
    "ExecuteTime": {
     "end_time": "2025-03-04T21:27:42.927723Z",
     "start_time": "2025-03-04T21:27:42.914721Z"
    }
   },
   "cell_type": "code",
   "source": [
    "from qiskit.circuit import QuantumCircuit\n",
    "import numpy as np\n",
    "\n",
    "def CZqutrit():\n",
    "    circ = QuantumCircuit(4, name=\"CZ\")\n",
    "\n",
    "    omega = 2*np.pi/3\n",
    "\n",
    "    circ.cp(omega, 2, 0)\n",
    "    circ.cp(omega, 3, 1)\n",
    "    circ.cp(-1 * omega, 3, 0)\n",
    "    circ.cp(-1 * omega, 2, 1)\n",
    "\n",
    "    return circ"
   ],
   "id": "3ba077cc616e4b6a",
   "outputs": [],
   "execution_count": 20
  },
  {
   "metadata": {
    "ExecuteTime": {
     "end_time": "2025-03-04T21:27:44.586766Z",
     "start_time": "2025-03-04T21:27:44.575763Z"
    }
   },
   "cell_type": "code",
   "source": [
    "CzCirc = QuantumCircuit(8)\n",
    "CzCirc.append(CZqutrit(), [0, 1, 2, 3])"
   ],
   "id": "c22a96f543646d47",
   "outputs": [
    {
     "data": {
      "text/plain": [
       "<qiskit.circuit.instructionset.InstructionSet at 0x1764960c3a0>"
      ]
     },
     "execution_count": 21,
     "metadata": {},
     "output_type": "execute_result"
    }
   ],
   "execution_count": 21
  },
  {
   "metadata": {
    "ExecuteTime": {
     "end_time": "2025-03-04T21:27:45.647181Z",
     "start_time": "2025-03-04T21:27:45.392188Z"
    }
   },
   "cell_type": "code",
   "source": "CzCirc.decompose().draw('mpl')",
   "id": "a4553ca1844f405e",
   "outputs": [
    {
     "data": {
      "text/plain": [
       "<Figure size 789.163x702.333 with 1 Axes>"
      ],
      "image/png": "[encoded data removed]"
     },
     "execution_count": 22,
     "metadata": {},
     "output_type": "execute_result"
    }
   ],
   "execution_count": 22
  },
  {
   "metadata": {
    "ExecuteTime": {
     "end_time": "2025-03-04T21:27:47.900512Z",
     "start_time": "2025-03-04T21:27:47.886528Z"
    }
   },
   "cell_type": "code",
   "source": [
    "from qiskit.quantum_info import Statevector\n",
    "mtx = Statevector(CzCirc).to_operator()"
   ],
   "id": "ea89f37575144ecf",
   "outputs": [],
   "execution_count": 23
  },
  {
   "metadata": {
    "ExecuteTime": {
     "end_time": "2025-03-04T21:27:48.604754Z",
     "start_time": "2025-03-04T21:27:48.593747Z"
    }
   },
   "cell_type": "code",
   "source": "mtx",
   "id": "df8769be006d6439",
   "outputs": [
    {
     "name": "stdout",
     "output_type": "stream",
     "text": [
      "Operator([[1.+0.j, 0.+0.j, 0.+0.j, ..., 0.+0.j, 0.+0.j, 0.+0.j],\n",
      "          [0.+0.j, 0.+0.j, 0.+0.j, ..., 0.+0.j, 0.+0.j, 0.+0.j],\n",
      "          [0.+0.j, 0.+0.j, 0.+0.j, ..., 0.+0.j, 0.+0.j, 0.+0.j],\n",
      "          ...,\n",
      "          [0.+0.j, 0.+0.j, 0.+0.j, ..., 0.+0.j, 0.+0.j, 0.+0.j],\n",
      "          [0.+0.j, 0.+0.j, 0.+0.j, ..., 0.+0.j, 0.+0.j, 0.+0.j],\n",
      "          [0.+0.j, 0.+0.j, 0.+0.j, ..., 0.+0.j, 0.+0.j, 0.+0.j]],\n",
      "         input_dims=(2, 2, 2, 2, 2, 2, 2, 2), output_dims=(2, 2, 2, 2, 2, 2, 2, 2))\n"
     ]
    }
   ],
   "execution_count": 24
  },
  {
   "metadata": {
    "ExecuteTime": {
     "end_time": "2025-03-04T21:27:51.341708Z",
     "start_time": "2025-03-04T21:27:51.329686Z"
    }
   },
   "cell_type": "code",
   "source": "mtx",
   "id": "39ff94b71440cbd1",
   "outputs": [
    {
     "name": "stdout",
     "output_type": "stream",
     "text": [
      "Operator([[1.+0.j, 0.+0.j, 0.+0.j, ..., 0.+0.j, 0.+0.j, 0.+0.j],\n",
      "          [0.+0.j, 0.+0.j, 0.+0.j, ..., 0.+0.j, 0.+0.j, 0.+0.j],\n",
      "          [0.+0.j, 0.+0.j, 0.+0.j, ..., 0.+0.j, 0.+0.j, 0.+0.j],\n",
      "          ...,\n",
      "          [0.+0.j, 0.+0.j, 0.+0.j, ..., 0.+0.j, 0.+0.j, 0.+0.j],\n",
      "          [0.+0.j, 0.+0.j, 0.+0.j, ..., 0.+0.j, 0.+0.j, 0.+0.j],\n",
      "          [0.+0.j, 0.+0.j, 0.+0.j, ..., 0.+0.j, 0.+0.j, 0.+0.j]],\n",
      "         input_dims=(2, 2, 2, 2, 2, 2, 2, 2), output_dims=(2, 2, 2, 2, 2, 2, 2, 2))\n"
     ]
    }
   ],
   "execution_count": 25
  },
  {
   "metadata": {},
   "cell_type": "code",
   "outputs": [],
   "execution_count": null,
   "source": "",
   "id": "a8d20e630db416aa"
  }
 ],
 "metadata": {
  "kernelspec": {
   "display_name": "Python 3",
   "language": "python",
   "name": "python3"
  },
  "language_info": {
   "codemirror_mode": {
    "name": "ipython",
    "version": 2
   },
   "file_extension": ".py",
   "mimetype": "text/x-python",
   "name": "python",
   "nbconvert_exporter": "python",
   "pygments_lexer": "ipython2",
   "version": "2.7.6"
  }
 },
 "nbformat": 4,
 "nbformat_minor": 5
}
