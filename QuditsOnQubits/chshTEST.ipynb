{
 "cells": [
  {
   "cell_type": "code",
   "id": "initial_id",
   "metadata": {
    "collapsed": true,
    "ExecuteTime": {
     "end_time": "2025-02-27T11:27:26.617358Z",
     "start_time": "2025-02-27T11:27:26.611356Z"
    }
   },
   "source": [
    "from qiskit.quantum_info import Statevector\n",
    "from qiskit_ibm_runtime.estimator import Estimator\n",
    "\n",
    "from QuditsOnQubits import QuditsOnQubits\n",
    "import numpy as np\n",
    "import numpy as np\n",
    "import networkx as nx"
   ],
   "outputs": [],
   "execution_count": 10
  },
  {
   "metadata": {},
   "cell_type": "markdown",
   "source": "Definicja Z i X qutrytowych zakodowanych na qubitach",
   "id": "af9567bc18aa50c9"
  },
  {
   "metadata": {
    "ExecuteTime": {
     "end_time": "2025-02-27T11:27:28.894172Z",
     "start_time": "2025-02-27T11:27:28.876171Z"
    }
   },
   "cell_type": "code",
   "source": [
    "omega = np.exp(2*np.pi*1.j/3)\n",
    "Z = [[1, 0, 0, 0], [0, omega, 0, 0], [0, 0, omega*omega, 0], [0, 0, 0, 1]]\n",
    "X = [[0,0,1,0], [1,0,0,0], [0,1,0,0],[0,0,0,1]]"
   ],
   "id": "6e5c558d4c83f304",
   "outputs": [],
   "execution_count": 13
  },
  {
   "metadata": {},
   "cell_type": "markdown",
   "source": "Tworze graf ame43",
   "id": "df42fce4127c3d03"
  },
  {
   "metadata": {
    "ExecuteTime": {
     "end_time": "2025-02-27T11:27:29.571182Z",
     "start_time": "2025-02-27T11:27:29.430934Z"
    }
   },
   "cell_type": "code",
   "source": [
    "SQ = nx.MultiGraph()\n",
    "\n",
    "#dodawanie wezlow\n",
    "SQ.add_nodes_from([0, 3])\n",
    "\n",
    "#dodawanie kolejnych krawedzi\n",
    "SQ.add_edge(0, 1)\n",
    "SQ.add_edge(1, 2)\n",
    "SQ.add_edge(2, 3)\n",
    "SQ.add_edge(3, 0)\n",
    "SQ.add_edge(0, 3)\n",
    "\n",
    "#rysowania grafu\n",
    "nx.draw(SQ, with_labels=True, font_weight='bold')\n",
    "\n",
    "#wypisywanie liczby krawedzi\n",
    "SQ.number_of_edges()"
   ],
   "id": "8bc7da613b02e0ac",
   "outputs": [
    {
     "data": {
      "text/plain": [
       "5"
      ]
     },
     "execution_count": 14,
     "metadata": {},
     "output_type": "execute_result"
    },
    {
     "data": {
      "text/plain": [
       "<Figure size 640x480 with 1 Axes>"
      ],
      "image/png": "[encoded data removed]"
     },
     "metadata": {},
     "output_type": "display_data"
    }
   ],
   "execution_count": 14
  },
  {
   "metadata": {},
   "cell_type": "markdown",
   "source": "Tworze stan grafowy uzywajac stworzonej biblioteki QuditsOnQubits gdzie w argumencie mam graf",
   "id": "2143508220d5a3a1"
  },
  {
   "metadata": {
    "ExecuteTime": {
     "end_time": "2025-02-27T11:27:45.731576Z",
     "start_time": "2025-02-27T11:27:45.658587Z"
    }
   },
   "cell_type": "code",
   "source": "ame43 = QuditsOnQubits(SQ)",
   "id": "8ce8fd24b4ed4d46",
   "outputs": [],
   "execution_count": 15
  },
  {
   "metadata": {},
   "cell_type": "markdown",
   "source": "Tworze obwod z grafu",
   "id": "4a2bc222b3202211"
  },
  {
   "metadata": {
    "ExecuteTime": {
     "end_time": "2025-02-27T11:36:17.140585Z",
     "start_time": "2025-02-27T11:36:17.125093Z"
    }
   },
   "cell_type": "code",
   "source": "ame43circ = ame43.circuit",
   "id": "60a5fe70abedab7e",
   "outputs": [],
   "execution_count": 19
  },
  {
   "metadata": {},
   "cell_type": "markdown",
   "source": "Tworze stabilizatory według pracy Santosa. Wzor nr. 42 na stronie 11. ",
   "id": "449b52699f87b5b7"
  },
  {
   "metadata": {
    "ExecuteTime": {
     "end_time": "2025-02-27T11:36:18.144679Z",
     "start_time": "2025-02-27T11:36:18.101667Z"
    }
   },
   "cell_type": "code",
   "source": [
    "G1 = np.kron(X, np.kron(Z, np.kron(np.identity(4), Z)))\n",
    "G1G2 = np.kron(np.dot(X, Z), np.kron(np.kron(Z, X), np.kron(Z, Z)))\n",
    "G1G2pow2 = np.kron(np.dot(X, np.dot(Z, Z)), np.kron(np.kron(Z, np.dot(X, X)), np.kron(np.dot(Z, Z), Z)))\n",
    "G3 = np.kron(np.identity(4), np.kron(Z, np.kron(X, np.dot(Z, Z))))\n",
    "G1G4 = np.kron(np.dot(X, Z), np.kron(Z, np.kron(np.dot(Z, Z), np.dot(Z, X))))"
   ],
   "id": "b84dbdc33122b006",
   "outputs": [],
   "execution_count": 20
  },
  {
   "metadata": {},
   "cell_type": "markdown",
   "source": "Odczytuje stan z obwodu ktory stworzylem",
   "id": "7f90af8fecaa7bf3"
  },
  {
   "metadata": {
    "ExecuteTime": {
     "end_time": "2025-02-27T11:36:21.494645Z",
     "start_time": "2025-02-27T11:36:21.458641Z"
    }
   },
   "cell_type": "code",
   "source": "ame43state = Statevector(ame43circ)",
   "id": "a8864e9d46a7ecb0",
   "outputs": [],
   "execution_count": 21
  },
  {
   "metadata": {},
   "cell_type": "markdown",
   "source": "Obliczam wartosc oczekiwana stabilizatora G1",
   "id": "92b6508cf095fde0"
  },
  {
   "metadata": {
    "ExecuteTime": {
     "end_time": "2025-02-27T11:36:44.598376Z",
     "start_time": "2025-02-27T11:36:44.577323Z"
    }
   },
   "cell_type": "code",
   "source": "G1ev = ame43state.expectation_value(G1)",
   "id": "29c527a39d417421",
   "outputs": [],
   "execution_count": 22
  },
  {
   "metadata": {
    "ExecuteTime": {
     "end_time": "2025-02-27T11:36:49.316780Z",
     "start_time": "2025-02-27T11:36:49.309778Z"
    }
   },
   "cell_type": "code",
   "source": "G1ev",
   "id": "72b3ce35d0b9086b",
   "outputs": [
    {
     "data": {
      "text/plain": [
       "np.complex128(-2.949029909160572e-15-1.582067810090848e-15j)"
      ]
     },
     "execution_count": 23,
     "metadata": {},
     "output_type": "execute_result"
    }
   ],
   "execution_count": 23
  },
  {
   "metadata": {},
   "cell_type": "markdown",
   "source": "Sprawdzam recznie ten stan ame43",
   "id": "810d5e05afcfeea3"
  },
  {
   "metadata": {
    "ExecuteTime": {
     "end_time": "2025-02-27T11:37:55.567348Z",
     "start_time": "2025-02-27T11:37:55.553359Z"
    }
   },
   "cell_type": "code",
   "source": [
    "Zsolo = [[1, 0, 0], [0, omega, 0], [0, 0, omega*omega]]\n",
    "Xsolo = [[0,0,1], [1,0,0], [0,1,0]]"
   ],
   "id": "55a2736899b727fa",
   "outputs": [],
   "execution_count": 24
  },
  {
   "metadata": {
    "ExecuteTime": {
     "end_time": "2025-02-27T11:44:54.220489Z",
     "start_time": "2025-02-27T11:44:54.212487Z"
    }
   },
   "cell_type": "code",
   "source": [
    "qutryt0 = np.array([[1], [0], [0]])\n",
    "qutryt1 = np.array([[0], [1], [0]])\n",
    "qutryt2 = np.array([[0], [0], [1]])"
   ],
   "id": "2e708fe0d682d238",
   "outputs": [],
   "execution_count": 27
  },
  {
   "metadata": {
    "ExecuteTime": {
     "end_time": "2025-02-27T11:44:54.880023Z",
     "start_time": "2025-02-27T11:44:54.864031Z"
    }
   },
   "cell_type": "code",
   "source": "plusQutryt = 1/np.sqrt(3) * (qutryt0 + qutryt1 + qutryt2)",
   "id": "767105bc94c437c0",
   "outputs": [],
   "execution_count": 28
  },
  {
   "metadata": {},
   "cell_type": "markdown",
   "source": "Bramka CZ jest diagonalna i ma na diagonali $\\omega^{i * j}$, gdzie i oraz j to kombinacje wszystkich qutrytow np. $\\ket{0, 0}$ mamy $\\omega^{0 * 0}$, dla $\\ket{0, 1}$ mamy $\\omega^{0 * 1}$ itd",
   "id": "e6881cfec11ea8b8"
  },
  {
   "metadata": {
    "ExecuteTime": {
     "end_time": "2025-02-27T11:45:40.776722Z",
     "start_time": "2025-02-27T11:45:40.763702Z"
    }
   },
   "cell_type": "code",
   "source": "CZqutryt = np.diag([1, 1, 1, 1, omega, omega*omega, 1, omega*omega, omega])",
   "id": "c2160e133335c133",
   "outputs": [],
   "execution_count": 29
  },
  {
   "metadata": {},
   "cell_type": "markdown",
   "source": "Robie plusy na kazdym wierzcholku",
   "id": "78e6e84fa597f9ae"
  },
  {
   "metadata": {
    "ExecuteTime": {
     "end_time": "2025-02-27T11:46:48.726168Z",
     "start_time": "2025-02-27T11:46:48.715165Z"
    }
   },
   "cell_type": "code",
   "source": "stanPlus = np.kron(plusQutryt, np.kron(plusQutryt, np.kron(plusQutryt, plusQutryt)))",
   "id": "accd5aa432da01af",
   "outputs": [],
   "execution_count": 30
  },
  {
   "metadata": {
    "ExecuteTime": {
     "end_time": "2025-02-27T11:53:37.595396Z",
     "start_time": "2025-02-27T11:53:37.578390Z"
    }
   },
   "cell_type": "code",
   "source": [
    "CZ01 = np.kron(CZqutryt, np.kron(np.identity(3), np.identity(3)))\n",
    "CZ12 = np.kron(np.identity(3), np.kron(CZqutryt, np.identity(3)))\n",
    "CZ23 = np.kron(np.identity(3), np.kron(np.identity(3), CZqutryt))"
   ],
   "id": "d30f0819581f6c59",
   "outputs": [],
   "execution_count": 31
  },
  {
   "metadata": {},
   "cell_type": "markdown",
   "source": "Robie funkcje poniewaz nie moge bezposrednio uzyc np.kron bo qutryty nie sa obok siebie tylko na dwoch koncach, wiec tworze juz caly stan CZ03 odrazu.",
   "id": "fae8dd8b6b363e4f"
  },
  {
   "metadata": {
    "ExecuteTime": {
     "end_time": "2025-02-27T11:53:42.658180Z",
     "start_time": "2025-02-27T11:53:42.651179Z"
    }
   },
   "cell_type": "code",
   "source": [
    "def CZ_30_4qutrits():\n",
    "    d = 3\n",
    "    dim = d**4  # 3^4 = 81\n",
    "    diag_elements = np.zeros(dim, dtype=complex)\n",
    "\n",
    "    omega = np.exp(2j * np.pi / d) \n",
    "\n",
    "    index = 0\n",
    "    for x0 in range(d):\n",
    "        for x1 in range(d):\n",
    "            for x2 in range(d):\n",
    "                for x3 in range(d):\n",
    "                    # Faza = omega^( x0 * x3 )  (mod 3)\n",
    "                    diag_elements[index] = omega ** (x0 * x3)\n",
    "                    index += 1\n",
    "\n",
    "    return np.diag(diag_elements)\n",
    "\n",
    "CZ30 = CZ_30_4qutrits()"
   ],
   "id": "e2aa06a11dc5f18e",
   "outputs": [],
   "execution_count": 32
  },
  {
   "metadata": {},
   "cell_type": "markdown",
   "source": "Dodaje biblioteke multi_dot zeby policzyc recznie bramki",
   "id": "33f68919d7c001fc"
  },
  {
   "metadata": {
    "ExecuteTime": {
     "end_time": "2025-02-27T11:54:37.151505Z",
     "start_time": "2025-02-27T11:54:37.145505Z"
    }
   },
   "cell_type": "code",
   "source": "from numpy.linalg import multi_dot",
   "id": "add6d0186684624a",
   "outputs": [],
   "execution_count": 33
  },
  {
   "metadata": {},
   "cell_type": "markdown",
   "source": "Robie CZ na kazdej krawedzi i lacze ze stanem plus na kazdym wierzcholku",
   "id": "24a937b78c0ccc7b"
  },
  {
   "metadata": {
    "ExecuteTime": {
     "end_time": "2025-02-27T11:55:28.601847Z",
     "start_time": "2025-02-27T11:55:28.589874Z"
    }
   },
   "cell_type": "code",
   "source": "ame43test = multi_dot([CZ01, CZ12, CZ23, CZ30, CZ30, stanPlus])",
   "id": "c84a61856e289f01",
   "outputs": [],
   "execution_count": 34
  },
  {
   "metadata": {
    "ExecuteTime": {
     "end_time": "2025-02-27T11:55:57.713145Z",
     "start_time": "2025-02-27T11:55:57.700147Z"
    }
   },
   "cell_type": "code",
   "source": "ame43test.shape",
   "id": "83a92d593f7e6829",
   "outputs": [
    {
     "data": {
      "text/plain": [
       "(81, 1)"
      ]
     },
     "execution_count": 37,
     "metadata": {},
     "output_type": "execute_result"
    }
   ],
   "execution_count": 37
  },
  {
   "metadata": {},
   "cell_type": "markdown",
   "source": "Analogicznie do tworzenia poprzednich stabilizatorow",
   "id": "6f8defb015eb1dea"
  },
  {
   "metadata": {
    "ExecuteTime": {
     "end_time": "2025-02-27T11:57:24.412676Z",
     "start_time": "2025-02-27T11:57:24.389677Z"
    }
   },
   "cell_type": "code",
   "source": [
    "G1test = np.kron(Xsolo, np.kron(Zsolo, np.kron(np.identity(3), Zsolo)))\n",
    "G1G2test = np.kron(np.dot(Xsolo, Zsolo), np.kron(np.kron(Zsolo, Xsolo), np.kron(Zsolo, Zsolo)))\n",
    "G1G2pow2test = np.kron(np.dot(Xsolo, np.dot(Zsolo, Zsolo)), np.kron(np.kron(Zsolo, np.dot(Xsolo, Xsolo)), np.kron(np.dot(Zsolo, Zsolo), Zsolo)))\n",
    "G3test = np.kron(np.identity(3), np.kron(Zsolo, np.kron(Xsolo, np.dot(Zsolo, Zsolo))))\n",
    "G1G4test = np.kron(np.dot(Xsolo, Zsolo), np.kron(Zsolo, np.kron(np.dot(Zsolo, Zsolo), np.dot(Zsolo, Xsolo))))"
   ],
   "id": "92b32283b70d2ef9",
   "outputs": [],
   "execution_count": 38
  },
  {
   "metadata": {},
   "cell_type": "markdown",
   "source": "Obliczam recznie $\\braket{ame43|G1|ame43}$",
   "id": "6c962b7171390816"
  },
  {
   "metadata": {
    "ExecuteTime": {
     "end_time": "2025-02-27T11:58:29.130886Z",
     "start_time": "2025-02-27T11:58:29.110871Z"
    }
   },
   "cell_type": "code",
   "source": "multi_dot([ame43test.conj().transpose(), G1test, ame43test])",
   "id": "e5a76d29d840ebcf",
   "outputs": [
    {
     "data": {
      "text/plain": [
       "array([[1.94289029e-16+8.61579326e-17j]])"
      ]
     },
     "execution_count": 40,
     "metadata": {},
     "output_type": "execute_result"
    }
   ],
   "execution_count": 40
  },
  {
   "metadata": {},
   "cell_type": "markdown",
   "source": "Porownanie z wczesniejszym wynikiem",
   "id": "a711eb1ae5777791"
  },
  {
   "metadata": {
    "ExecuteTime": {
     "end_time": "2025-02-27T11:58:55.989558Z",
     "start_time": "2025-02-27T11:58:55.966552Z"
    }
   },
   "cell_type": "code",
   "source": "G1ev",
   "id": "b28f2fdd082d90d9",
   "outputs": [
    {
     "data": {
      "text/plain": [
       "np.complex128(-2.949029909160572e-15-1.582067810090848e-15j)"
      ]
     },
     "execution_count": 41,
     "metadata": {},
     "output_type": "execute_result"
    }
   ],
   "execution_count": 41
  },
  {
   "metadata": {},
   "cell_type": "code",
   "outputs": [],
   "execution_count": null,
   "source": "",
   "id": "9dd29379eb68b153"
  }
 ],
 "metadata": {
  "kernelspec": {
   "display_name": "Python 3",
   "language": "python",
   "name": "python3"
  },
  "language_info": {
   "codemirror_mode": {
    "name": "ipython",
    "version": 2
   },
   "file_extension": ".py",
   "mimetype": "text/x-python",
   "name": "python",
   "nbconvert_exporter": "python",
   "pygments_lexer": "ipython2",
   "version": "2.7.6"
  }
 },
 "nbformat": 4,
 "nbformat_minor": 5
}
