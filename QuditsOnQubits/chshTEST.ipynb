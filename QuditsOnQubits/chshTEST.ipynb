{
 "cells": [
  {
   "cell_type": "code",
   "id": "initial_id",
   "metadata": {
    "collapsed": true,
    "ExecuteTime": {
     "end_time": "2025-02-27T19:48:18.927946Z",
     "start_time": "2025-02-27T19:48:15.515385Z"
    }
   },
   "source": [
    "from qiskit.quantum_info import Statevector\n",
    "from qiskit_ibm_runtime.estimator import Estimator\n",
    "\n",
    "from QuditsOnQubits import QuditsOnQubits\n",
    "import numpy as np\n",
    "import numpy as np\n",
    "import networkx as nx"
   ],
   "outputs": [],
   "execution_count": 1
  },
  {
   "metadata": {},
   "cell_type": "markdown",
   "source": "Definicja Z i X qutrytowych zakodowanych na qubitach",
   "id": "af9567bc18aa50c9"
  },
  {
   "metadata": {
    "ExecuteTime": {
     "end_time": "2025-02-27T19:50:01.807719Z",
     "start_time": "2025-02-27T19:50:01.797707Z"
    }
   },
   "cell_type": "code",
   "source": [
    "omega = np.exp(2*np.pi*1.j/3)\n",
    "Z = [[1, 0, 0, 0], [0, omega, 0, 0], [0, 0, omega*omega, 0], [0, 0, 0, 1]]\n",
    "X = [[0,0,1,0], [1,0,0,0], [0,1,0,0],[0,0,0,1]]"
   ],
   "id": "6e5c558d4c83f304",
   "outputs": [],
   "execution_count": 7
  },
  {
   "metadata": {},
   "cell_type": "markdown",
   "source": "Tworze graf ame43",
   "id": "df42fce4127c3d03"
  },
  {
   "metadata": {
    "ExecuteTime": {
     "end_time": "2025-02-27T19:37:47.034717Z",
     "start_time": "2025-02-27T19:37:46.931595Z"
    }
   },
   "cell_type": "code",
   "source": [
    "SQ = nx.MultiGraph()\n",
    "\n",
    "#dodawanie wezlow\n",
    "SQ.add_nodes_from([0, 3])\n",
    "\n",
    "#dodawanie kolejnych krawedzi\n",
    "SQ.add_edge(0, 1)\n",
    "SQ.add_edge(1, 2)\n",
    "SQ.add_edge(2, 3)\n",
    "SQ.add_edge(2, 3)\n",
    "SQ.add_edge(3, 0)\n",
    "\n",
    "#rysowania grafu\n",
    "nx.draw(SQ, with_labels=True, font_weight='bold')\n",
    "\n",
    "#wypisywanie liczby krawedzi\n",
    "SQ.number_of_edges()"
   ],
   "id": "8bc7da613b02e0ac",
   "outputs": [
    {
     "data": {
      "text/plain": [
       "5"
      ]
     },
     "execution_count": 100,
     "metadata": {},
     "output_type": "execute_result"
    },
    {
     "data": {
      "text/plain": [
       "<Figure size 640x480 with 1 Axes>"
      ],
      "image/png": "[encoded data removed]"
     },
     "metadata": {},
     "output_type": "display_data"
    }
   ],
   "execution_count": 100
  },
  {
   "metadata": {},
   "cell_type": "markdown",
   "source": "Tworze stan grafowy uzywajac stworzonej biblioteki QuditsOnQubits gdzie w argumencie mam graf",
   "id": "2143508220d5a3a1"
  },
  {
   "metadata": {
    "ExecuteTime": {
     "end_time": "2025-02-27T19:37:50.097805Z",
     "start_time": "2025-02-27T19:37:50.046808Z"
    }
   },
   "cell_type": "code",
   "source": "ame43 = QuditsOnQubits(SQ)",
   "id": "8ce8fd24b4ed4d46",
   "outputs": [],
   "execution_count": 101
  },
  {
   "metadata": {},
   "cell_type": "markdown",
   "source": "Tworze obwod z grafu",
   "id": "4a2bc222b3202211"
  },
  {
   "metadata": {
    "ExecuteTime": {
     "end_time": "2025-02-27T19:37:53.107881Z",
     "start_time": "2025-02-27T19:37:53.094866Z"
    }
   },
   "cell_type": "code",
   "source": "ame43circ = ame43.circuit",
   "id": "60a5fe70abedab7e",
   "outputs": [],
   "execution_count": 102
  },
  {
   "metadata": {},
   "cell_type": "markdown",
   "source": "Tworze stabilizatory według pracy Santosa. Wzor nr. 42 na stronie 11. ",
   "id": "449b52699f87b5b7"
  },
  {
   "metadata": {
    "ExecuteTime": {
     "end_time": "2025-02-27T19:37:55.841081Z",
     "start_time": "2025-02-27T19:37:55.828064Z"
    }
   },
   "cell_type": "code",
   "source": [
    "G1 = np.kron(np.kron(np.kron(X, Z), np.identity(4)), Z)\n",
    "G1G2 = np.kron(np.kron(np.kron(np.dot(X, Z), np.dot(Z, X)), Z), Z)\n",
    "G1G2pow2 = np.kron(np.kron(np.kron(multi_dot([X, Z, Z]), multi_dot([Z, X, X])), multi_dot([Z, Z])), Z)\n",
    "G3 = np.kron(np.kron(np.kron(np.identity(4), Z), X), multi_dot([Z, Z]))\n",
    "G1G4 = np.kron(np.kron(np.kron(multi_dot([X, Z]), Z), multi_dot([Z, Z])), multi_dot([Z, X]))\n",
    "\n",
    "# G1 = np.kron(X, np.kron(Z, np.kron(np.identity(4), Z)))\n",
    "# G1G2 = np.kron(np.dot(X, Z), np.kron(np.kron(Z, X), np.kron(Z, Z)))\n",
    "# G1G2pow2 = np.kron(np.dot(X, np.dot(Z, Z)), np.kron(np.kron(Z, np.dot(X, X)), np.kron(np.dot(Z, Z), Z)))\n",
    "# G3 = np.kron(np.identity(4), np.kron(Z, np.kron(X, np.dot(Z, Z))))\n",
    "# G1G4 = np.kron(np.dot(X, Z), np.kron(Z, np.kron(np.dot(Z, Z), np.dot(Z, X))))"
   ],
   "id": "b84dbdc33122b006",
   "outputs": [],
   "execution_count": 103
  },
  {
   "metadata": {},
   "cell_type": "markdown",
   "source": "Odczytuje stan z obwodu ktory stworzylem",
   "id": "7f90af8fecaa7bf3"
  },
  {
   "metadata": {
    "ExecuteTime": {
     "end_time": "2025-02-27T19:37:58.899833Z",
     "start_time": "2025-02-27T19:37:58.876158Z"
    }
   },
   "cell_type": "code",
   "source": "ame43state = Statevector(ame43circ).data",
   "id": "a8864e9d46a7ecb0",
   "outputs": [],
   "execution_count": 104
  },
  {
   "metadata": {},
   "cell_type": "markdown",
   "source": "Obliczam wartosc oczekiwana stabilizatora G1",
   "id": "92b6508cf095fde0"
  },
  {
   "metadata": {
    "ExecuteTime": {
     "end_time": "2025-02-27T19:39:41.412090Z",
     "start_time": "2025-02-27T19:39:41.394601Z"
    }
   },
   "cell_type": "code",
   "source": "ame43matrix = ame43state.reshape(256, 1)",
   "id": "f18d03ba3714ea3c",
   "outputs": [],
   "execution_count": 108
  },
  {
   "metadata": {
    "ExecuteTime": {
     "end_time": "2025-02-27T19:40:16.503871Z",
     "start_time": "2025-02-27T19:40:16.490872Z"
    }
   },
   "cell_type": "code",
   "source": "multi_dot([ame43matrix.conj().transpose(), G1, ame43matrix])",
   "id": "bd1d552284ca17a7",
   "outputs": [
    {
     "data": {
      "text/plain": [
       "array([[-2.9629077e-15-1.54185538e-15j]])"
      ]
     },
     "execution_count": 109,
     "metadata": {},
     "output_type": "execute_result"
    }
   ],
   "execution_count": 109
  },
  {
   "metadata": {
    "ExecuteTime": {
     "end_time": "2025-02-27T19:28:50.973947Z",
     "start_time": "2025-02-27T19:28:50.959949Z"
    }
   },
   "cell_type": "code",
   "source": "G1ev = ame43state.expectation_value(G1)",
   "id": "29c527a39d417421",
   "outputs": [],
   "execution_count": 87
  },
  {
   "metadata": {
    "ExecuteTime": {
     "end_time": "2025-02-27T19:28:52.636812Z",
     "start_time": "2025-02-27T19:28:52.617795Z"
    }
   },
   "cell_type": "code",
   "source": "G1ev",
   "id": "72b3ce35d0b9086b",
   "outputs": [
    {
     "data": {
      "text/plain": [
       "np.complex128(-2.949029909160572e-15-1.582067810090848e-15j)"
      ]
     },
     "execution_count": 88,
     "metadata": {},
     "output_type": "execute_result"
    }
   ],
   "execution_count": 88
  },
  {
   "metadata": {},
   "cell_type": "markdown",
   "source": "Sprawdzam recznie ten stan ame43",
   "id": "810d5e05afcfeea3"
  },
  {
   "metadata": {
    "ExecuteTime": {
     "end_time": "2025-02-27T19:07:46.186094Z",
     "start_time": "2025-02-27T19:07:46.165054Z"
    }
   },
   "cell_type": "code",
   "source": [
    "Zsolo = [[1, 0, 0], [0, omega, 0], [0, 0, omega*omega]]\n",
    "Xsolo = [[0,0,1], [1,0,0], [0,1,0]]"
   ],
   "id": "55a2736899b727fa",
   "outputs": [],
   "execution_count": 44
  },
  {
   "metadata": {
    "ExecuteTime": {
     "end_time": "2025-02-27T19:07:46.636926Z",
     "start_time": "2025-02-27T19:07:46.624397Z"
    }
   },
   "cell_type": "code",
   "source": [
    "qutryt0 = np.array([[1], [0], [0]])\n",
    "qutryt1 = np.array([[0], [1], [0]])\n",
    "qutryt2 = np.array([[0], [0], [1]])"
   ],
   "id": "2e708fe0d682d238",
   "outputs": [],
   "execution_count": 45
  },
  {
   "metadata": {
    "ExecuteTime": {
     "end_time": "2025-02-27T19:07:47.534613Z",
     "start_time": "2025-02-27T19:07:47.523560Z"
    }
   },
   "cell_type": "code",
   "source": "plusQutryt = 1/np.sqrt(3) * (qutryt0 + qutryt1 + qutryt2)",
   "id": "767105bc94c437c0",
   "outputs": [],
   "execution_count": 46
  },
  {
   "metadata": {},
   "cell_type": "markdown",
   "source": "Bramka CZ jest diagonalna i ma na diagonali $\\omega^{i * j}$, gdzie i oraz j to kombinacje wszystkich qutrytow np. $\\ket{0, 0}$ mamy $\\omega^{0 * 0}$, dla $\\ket{0, 1}$ mamy $\\omega^{0 * 1}$ itd",
   "id": "e6881cfec11ea8b8"
  },
  {
   "metadata": {
    "ExecuteTime": {
     "end_time": "2025-02-27T19:07:50.791631Z",
     "start_time": "2025-02-27T19:07:50.783624Z"
    }
   },
   "cell_type": "code",
   "source": "CZqutryt = np.diag([1, 1, 1, 1, omega, omega*omega, 1, omega*omega, omega])",
   "id": "c2160e133335c133",
   "outputs": [],
   "execution_count": 47
  },
  {
   "metadata": {},
   "cell_type": "markdown",
   "source": "Robie plusy na kazdym wierzcholku",
   "id": "78e6e84fa597f9ae"
  },
  {
   "metadata": {
    "ExecuteTime": {
     "end_time": "2025-02-27T19:07:51.989789Z",
     "start_time": "2025-02-27T19:07:51.968948Z"
    }
   },
   "cell_type": "code",
   "source": "stanPlus = np.kron(np.kron(np.kron(plusQutryt, plusQutryt), plusQutryt), plusQutryt)",
   "id": "accd5aa432da01af",
   "outputs": [],
   "execution_count": 48
  },
  {
   "metadata": {
    "ExecuteTime": {
     "end_time": "2025-02-27T19:07:53.027080Z",
     "start_time": "2025-02-27T19:07:53.012044Z"
    }
   },
   "cell_type": "code",
   "source": [
    "CZ01 = np.kron(CZqutryt, np.kron(np.identity(3), np.identity(3)))\n",
    "CZ12 = np.kron(np.identity(3), np.kron(CZqutryt, np.identity(3)))\n",
    "CZ23 = np.kron(np.identity(3), np.kron(np.identity(3), CZqutryt))"
   ],
   "id": "d30f0819581f6c59",
   "outputs": [],
   "execution_count": 49
  },
  {
   "metadata": {},
   "cell_type": "markdown",
   "source": "Robie funkcje poniewaz nie moge bezposrednio uzyc np.kron bo qutryty nie sa obok siebie tylko na dwoch koncach, wiec tworze juz caly stan CZ03 odrazu.",
   "id": "fae8dd8b6b363e4f"
  },
  {
   "metadata": {
    "ExecuteTime": {
     "end_time": "2025-02-27T19:12:26.176735Z",
     "start_time": "2025-02-27T19:12:26.162659Z"
    }
   },
   "cell_type": "code",
   "source": [
    "def CZ_30_4qutrits():\n",
    "    d = 3\n",
    "    dim = d**4\n",
    "    diag_elements = np.zeros(dim, dtype=complex)\n",
    "\n",
    "    omega = np.exp(2j * np.pi / d) \n",
    "\n",
    "    index = 0\n",
    "    for x0 in range(d):\n",
    "        for x1 in range(d):\n",
    "            for x2 in range(d):\n",
    "                for x3 in range(d):\n",
    "                    \n",
    "                    diag_elements[index] = omega ** (x0 * x3)\n",
    "                    index += 1\n",
    "\n",
    "    return np.diag(diag_elements)\n",
    "\n",
    "CZ30 = CZ_30_4qutrits()"
   ],
   "id": "e2aa06a11dc5f18e",
   "outputs": [],
   "execution_count": 58
  },
  {
   "metadata": {},
   "cell_type": "markdown",
   "source": "Dodaje biblioteke multi_dot zeby policzyc recznie bramki",
   "id": "33f68919d7c001fc"
  },
  {
   "metadata": {
    "ExecuteTime": {
     "end_time": "2025-02-27T19:50:45.077483Z",
     "start_time": "2025-02-27T19:50:45.058500Z"
    }
   },
   "cell_type": "code",
   "source": "from numpy.linalg import multi_dot",
   "id": "add6d0186684624a",
   "outputs": [],
   "execution_count": 10
  },
  {
   "metadata": {},
   "cell_type": "markdown",
   "source": "Robie CZ na kazdej krawedzi i lacze ze stanem plus na kazdym wierzcholku",
   "id": "24a937b78c0ccc7b"
  },
  {
   "metadata": {
    "ExecuteTime": {
     "end_time": "2025-02-27T19:17:34.541840Z",
     "start_time": "2025-02-27T19:17:34.519197Z"
    }
   },
   "cell_type": "code",
   "source": "ame43test = multi_dot([CZ01, CZ12, CZ23, CZ23, CZ30, stanPlus])",
   "id": "c84a61856e289f01",
   "outputs": [],
   "execution_count": 61
  },
  {
   "metadata": {
    "ExecuteTime": {
     "end_time": "2025-02-27T19:17:36.717729Z",
     "start_time": "2025-02-27T19:17:36.700663Z"
    }
   },
   "cell_type": "code",
   "source": "ame43test.shape",
   "id": "83a92d593f7e6829",
   "outputs": [
    {
     "data": {
      "text/plain": [
       "(81, 1)"
      ]
     },
     "execution_count": 62,
     "metadata": {},
     "output_type": "execute_result"
    }
   ],
   "execution_count": 62
  },
  {
   "metadata": {},
   "cell_type": "markdown",
   "source": "Analogicznie do tworzenia poprzednich stabilizatorow",
   "id": "6f8defb015eb1dea"
  },
  {
   "metadata": {
    "ExecuteTime": {
     "end_time": "2025-02-27T19:23:34.870704Z",
     "start_time": "2025-02-27T19:23:34.851683Z"
    }
   },
   "cell_type": "code",
   "source": [
    "G1test = np.kron(np.kron(np.kron(Xsolo, Zsolo), np.identity(3)), Zsolo)\n",
    "G1G2test = np.kron(np.kron(np.kron(np.dot(Xsolo, Zsolo), np.dot(Zsolo, Xsolo)), Zsolo), Zsolo)\n",
    "G1G2pow2test = np.kron(np.kron(np.kron(multi_dot([Xsolo, Zsolo, Zsolo]), multi_dot([Zsolo, Xsolo, Xsolo])), multi_dot([Zsolo, Zsolo])), Zsolo)\n",
    "G3test = np.kron(np.kron(np.kron(np.identity(3), Zsolo), Xsolo), multi_dot([Zsolo, Zsolo]))\n",
    "G1G4test = np.kron(np.kron(np.kron(multi_dot([Xsolo, Zsolo]), Zsolo), multi_dot([Zsolo, Zsolo])), multi_dot([Zsolo, Xsolo]))\n",
    "\n",
    "# G1test = np.kron(Xsolo, np.kron(Zsolo, np.kron(np.identity(3), Zsolo)))\n",
    "# G1G2test = np.kron(np.dot(Xsolo, Zsolo), np.kron(np.kron(Zsolo, Xsolo), np.kron(Zsolo, Zsolo)))\n",
    "# G1G2pow2test = np.kron(np.dot(Xsolo, np.dot(Zsolo, Zsolo)), np.kron(np.kron(Zsolo, np.dot(Xsolo, Xsolo)), np.kron(np.dot(Zsolo, Zsolo), Zsolo)))\n",
    "# G3test = np.kron(np.identity(3), np.kron(Zsolo, np.kron(Xsolo, np.dot(Zsolo, Zsolo))))\n",
    "# G1G4test = np.kron(np.dot(Xsolo, Zsolo), np.kron(Zsolo, np.kron(np.dot(Zsolo, Zsolo), np.dot(Zsolo, Xsolo))))"
   ],
   "id": "92b32283b70d2ef9",
   "outputs": [],
   "execution_count": 72
  },
  {
   "metadata": {},
   "cell_type": "markdown",
   "source": "Obliczam recznie $\\braket{ame43|G1|ame43}$",
   "id": "6c962b7171390816"
  },
  {
   "metadata": {
    "ExecuteTime": {
     "end_time": "2025-02-27T19:17:43.128836Z",
     "start_time": "2025-02-27T19:17:43.109786Z"
    }
   },
   "cell_type": "code",
   "source": "multi_dot([ame43test.conj().transpose(), G1test, ame43test])",
   "id": "e5a76d29d840ebcf",
   "outputs": [
    {
     "data": {
      "text/plain": [
       "array([[1.-4.21537805e-16j]])"
      ]
     },
     "execution_count": 64,
     "metadata": {},
     "output_type": "execute_result"
    }
   ],
   "execution_count": 64
  },
  {
   "metadata": {
    "ExecuteTime": {
     "end_time": "2025-02-27T19:23:30.800008Z",
     "start_time": "2025-02-27T19:23:30.781011Z"
    }
   },
   "cell_type": "code",
   "source": "operatory = [G1test, G1G2test, G1G2pow2test, G3test, G1G4test]",
   "id": "e2b37682c3ed6029",
   "outputs": [],
   "execution_count": 71
  },
  {
   "metadata": {
    "ExecuteTime": {
     "end_time": "2025-02-27T19:20:17.890089Z",
     "start_time": "2025-02-27T19:20:17.872835Z"
    }
   },
   "cell_type": "code",
   "source": [
    "suma = 0\n",
    "for i in operatory:\n",
    "    suma += np.real(multi_dot([ame43test.conj().transpose(), i, ame43test]))\n",
    "    print(np.real(multi_dot([ame43test.conj().transpose(), i, ame43test])))\n",
    "    \n",
    "print(suma)"
   ],
   "id": "e7ca96ccb720b3d7",
   "outputs": [
    {
     "name": "stdout",
     "output_type": "stream",
     "text": [
      "[[1.]]\n",
      "[[1.]]\n",
      "[[1.]]\n",
      "[[1.]]\n",
      "[[1.]]\n",
      "[[5.]]\n"
     ]
    }
   ],
   "execution_count": 68
  },
  {
   "metadata": {
    "ExecuteTime": {
     "end_time": "2025-02-27T19:22:01.990337Z",
     "start_time": "2025-02-27T19:22:01.982334Z"
    }
   },
   "cell_type": "code",
   "source": [
    "def exp_val(op):\n",
    "    return np.real(multi_dot([ame43test.conj().transpose(), op, ame43test]))"
   ],
   "id": "ab022f150857c494",
   "outputs": [],
   "execution_count": 69
  },
  {
   "metadata": {
    "ExecuteTime": {
     "end_time": "2025-02-27T19:25:42.600289Z",
     "start_time": "2025-02-27T19:25:42.590289Z"
    }
   },
   "cell_type": "code",
   "source": "B_ame = G1test + G1G2pow2test + 0.5*(G1G2test + G1G4test) + G3test + G1test.conj().T + G1G2pow2test.conj().T + 0.5*(G1G2test.conj().T + G1G4test.conj().T) + G3test.conj().T",
   "id": "1198c8e8b6a46d3e",
   "outputs": [],
   "execution_count": 75
  },
  {
   "metadata": {
    "ExecuteTime": {
     "end_time": "2025-02-27T19:25:53.256356Z",
     "start_time": "2025-02-27T19:25:53.239379Z"
    }
   },
   "cell_type": "code",
   "source": "np.real(multi_dot([ame43test.conj().transpose(), B_ame, ame43test]))",
   "id": "d8096f3ba1615305",
   "outputs": [
    {
     "data": {
      "text/plain": [
       "array([[8.]])"
      ]
     },
     "execution_count": 76,
     "metadata": {},
     "output_type": "execute_result"
    }
   ],
   "execution_count": 76
  },
  {
   "metadata": {},
   "cell_type": "markdown",
   "source": "Porownanie z wczesniejszym wynikiem",
   "id": "a711eb1ae5777791"
  },
  {
   "metadata": {
    "ExecuteTime": {
     "end_time": "2025-02-27T11:58:55.989558Z",
     "start_time": "2025-02-27T11:58:55.966552Z"
    }
   },
   "cell_type": "code",
   "source": "G1ev",
   "id": "b28f2fdd082d90d9",
   "outputs": [
    {
     "data": {
      "text/plain": [
       "np.complex128(-2.949029909160572e-15-1.582067810090848e-15j)"
      ]
     },
     "execution_count": 41,
     "metadata": {},
     "output_type": "execute_result"
    }
   ],
   "execution_count": 41
  },
  {
   "metadata": {
    "ExecuteTime": {
     "end_time": "2025-02-27T19:48:27.349144Z",
     "start_time": "2025-02-27T19:48:27.232411Z"
    }
   },
   "cell_type": "code",
   "source": "ghz_circ = QuditsOnQubits().circuit",
   "id": "3e7b0c397f6d5443",
   "outputs": [],
   "execution_count": 2
  },
  {
   "metadata": {
    "ExecuteTime": {
     "end_time": "2025-02-27T19:48:37.281921Z",
     "start_time": "2025-02-27T19:48:37.263924Z"
    }
   },
   "cell_type": "code",
   "source": "ghz_circ[0].remove_final_measurements()",
   "id": "7a6be3def90ea852",
   "outputs": [],
   "execution_count": 3
  },
  {
   "metadata": {},
   "cell_type": "code",
   "outputs": [],
   "execution_count": null,
   "source": "ghz_circ[1]",
   "id": "5ba632f6c283a89f"
  },
  {
   "metadata": {
    "ExecuteTime": {
     "end_time": "2025-02-27T19:44:00.927105Z",
     "start_time": "2025-02-27T19:44:00.919106Z"
    }
   },
   "cell_type": "code",
   "source": "ghz_circ",
   "id": "5f1905d517900944",
   "outputs": [
    {
     "data": {
      "text/plain": [
       "<qiskit.circuit.quantumcircuit.QuantumCircuit at 0x2b03a59e620>"
      ]
     },
     "execution_count": 116,
     "metadata": {},
     "output_type": "execute_result"
    }
   ],
   "execution_count": 116
  },
  {
   "metadata": {
    "ExecuteTime": {
     "end_time": "2025-02-27T19:48:50.801861Z",
     "start_time": "2025-02-27T19:48:50.784853Z"
    }
   },
   "cell_type": "code",
   "source": "ghz_matrix = Statevector(ghz_circ[1])",
   "id": "4c152f83969dfb92",
   "outputs": [],
   "execution_count": 4
  },
  {
   "metadata": {
    "ExecuteTime": {
     "end_time": "2025-02-27T19:48:52.825404Z",
     "start_time": "2025-02-27T19:48:51.745405Z"
    }
   },
   "cell_type": "code",
   "source": "ghz_matrix.draw('latex')",
   "id": "2e779e4b7214faa4",
   "outputs": [
    {
     "data": {
      "text/plain": [
       "<IPython.core.display.Latex object>"
      ],
      "text/latex": "$$- \\frac{\\sqrt{3}}{3} |000000\\rangle- \\frac{\\sqrt{3}}{3} |010101\\rangle- \\frac{\\sqrt{3}}{3} |101010\\rangle$$"
     },
     "execution_count": 5,
     "metadata": {},
     "output_type": "execute_result"
    }
   ],
   "execution_count": 5
  },
  {
   "metadata": {
    "ExecuteTime": {
     "end_time": "2025-02-27T19:50:07.159835Z",
     "start_time": "2025-02-27T19:50:07.151834Z"
    }
   },
   "cell_type": "code",
   "source": [
    "g1 = np.kron(np.kron(Z, X), X)\n",
    "g2 = np.kron(np.kron(X, Z), np.identity(4))\n",
    "g3 = np.kron(np.kron(X, np.identity(4)), Z)"
   ],
   "id": "d11fed07f4e1314e",
   "outputs": [],
   "execution_count": 8
  },
  {
   "metadata": {
    "ExecuteTime": {
     "end_time": "2025-02-27T19:51:21.201719Z",
     "start_time": "2025-02-27T19:51:21.184716Z"
    }
   },
   "cell_type": "code",
   "source": "multi_dot([ghz_matrix.data.conj().transpose(), g1, ghz_matrix.data])",
   "id": "590dbb9e7819066f",
   "outputs": [
    {
     "data": {
      "text/plain": [
       "np.complex128(-2.4421441894360897e-16+1.5402969882312747e-18j)"
      ]
     },
     "execution_count": 13,
     "metadata": {},
     "output_type": "execute_result"
    }
   ],
   "execution_count": 13
  },
  {
   "metadata": {},
   "cell_type": "code",
   "outputs": [],
   "execution_count": null,
   "source": "",
   "id": "9a3fc4e1b8632fb8"
  }
 ],
 "metadata": {
  "kernelspec": {
   "display_name": "Python 3",
   "language": "python",
   "name": "python3"
  },
  "language_info": {
   "codemirror_mode": {
    "name": "ipython",
    "version": 2
   },
   "file_extension": ".py",
   "mimetype": "text/x-python",
   "name": "python",
   "nbconvert_exporter": "python",
   "pygments_lexer": "ipython2",
   "version": "2.7.6"
  }
 },
 "nbformat": 4,
 "nbformat_minor": 5
}
