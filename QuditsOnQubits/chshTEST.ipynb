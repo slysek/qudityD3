{
 "cells": [
  {
   "cell_type": "code",
   "id": "initial_id",
   "metadata": {
    "collapsed": true,
    "ExecuteTime": {
     "end_time": "2025-06-09T11:47:39.472972Z",
     "start_time": "2025-06-09T11:47:33.213220Z"
    }
   },
   "source": [
    "from qiskit.quantum_info import Statevector, Operator\n",
    "from QuditsOnQubits import QuditsOnQubits\n",
    "import numpy as np\n",
    "import networkx as nx\n",
    "from numpy.linalg import multi_dot\n",
    "import matplotlib.pyplot as plt\n",
    "import igraph as ig"
   ],
   "outputs": [],
   "execution_count": 1
  },
  {
   "metadata": {
    "ExecuteTime": {
     "end_time": "2025-06-09T11:47:44.577459Z",
     "start_time": "2025-06-09T11:47:39.604005Z"
    }
   },
   "cell_type": "code",
   "source": [
    "import sympy\n",
    "from IPython.display import Math"
   ],
   "id": "edd8d3746df37420",
   "outputs": [],
   "execution_count": 2
  },
  {
   "metadata": {},
   "cell_type": "markdown",
   "source": "Definicja Z i X qutrytowych zakodowanych na qubitach",
   "id": "af9567bc18aa50c9"
  },
  {
   "metadata": {
    "ExecuteTime": {
     "end_time": "2025-03-24T20:28:47.315361Z",
     "start_time": "2025-03-24T20:28:47.301319Z"
    }
   },
   "cell_type": "code",
   "source": [
    "def prtMTX(matrix):\n",
    "    return Math(sympy.latex(sympy.Matrix(matrix)))"
   ],
   "id": "7d5bdaecbda99885",
   "outputs": [],
   "execution_count": 11
  },
  {
   "metadata": {
    "ExecuteTime": {
     "end_time": "2025-04-14T13:04:10.410615Z",
     "start_time": "2025-04-14T13:04:10.396624Z"
    }
   },
   "cell_type": "code",
   "source": [
    "omega = np.exp(2*np.pi*1.j/3)\n",
    "Z = [[1, 0, 0, 0], [0, omega, 0, 0], [0, 0, omega*omega, 0], [0, 0, 0, 1]]\n",
    "X = [[0,0,1,0], [1,0,0,0], [0,1,0,0],[0,0,0,1]]"
   ],
   "id": "6e5c558d4c83f304",
   "outputs": [],
   "execution_count": 2
  },
  {
   "metadata": {
    "ExecuteTime": {
     "end_time": "2025-04-14T13:04:11.761870Z",
     "start_time": "2025-04-14T13:04:11.747891Z"
    }
   },
   "cell_type": "code",
   "source": [
    "qubit0 = np.array([[1], [0]])\n",
    "qubit1 = np.array([[0], [1]])\n",
    "\n",
    "Qtrt0 = np.kron(qubit0, qubit0)\n",
    "Qtrt1 = np.kron(qubit0, qubit1)\n",
    "Qtrt2 = np.kron(qubit1, qubit0)"
   ],
   "id": "f70ef80398368ffd",
   "outputs": [],
   "execution_count": 3
  },
  {
   "metadata": {
    "ExecuteTime": {
     "end_time": "2025-04-14T13:04:17.611647Z",
     "start_time": "2025-04-14T13:04:17.582648Z"
    }
   },
   "cell_type": "code",
   "source": "Qtrt0",
   "id": "13fe616b526a76ce",
   "outputs": [
    {
     "data": {
      "text/plain": [
       "array([[1],\n",
       "       [0],\n",
       "       [0],\n",
       "       [0]])"
      ]
     },
     "execution_count": 4,
     "metadata": {},
     "output_type": "execute_result"
    }
   ],
   "execution_count": 4
  },
  {
   "metadata": {
    "ExecuteTime": {
     "end_time": "2025-04-14T13:04:32.442350Z",
     "start_time": "2025-04-14T13:04:32.429353Z"
    }
   },
   "cell_type": "code",
   "source": "Qtrt1",
   "id": "cd2b7479c40b3e46",
   "outputs": [
    {
     "data": {
      "text/plain": [
       "array([[0],\n",
       "       [1],\n",
       "       [0],\n",
       "       [0]])"
      ]
     },
     "execution_count": 5,
     "metadata": {},
     "output_type": "execute_result"
    }
   ],
   "execution_count": 5
  },
  {
   "metadata": {
    "ExecuteTime": {
     "end_time": "2025-04-14T13:04:37.111588Z",
     "start_time": "2025-04-14T13:04:37.099585Z"
    }
   },
   "cell_type": "code",
   "source": "Qtrt2",
   "id": "d141adafaffdc5b0",
   "outputs": [
    {
     "data": {
      "text/plain": [
       "array([[0],\n",
       "       [0],\n",
       "       [1],\n",
       "       [0]])"
      ]
     },
     "execution_count": 6,
     "metadata": {},
     "output_type": "execute_result"
    }
   ],
   "execution_count": 6
  },
  {
   "metadata": {},
   "cell_type": "markdown",
   "source": "Tworze graf ame43",
   "id": "df42fce4127c3d03"
  },
  {
   "metadata": {
    "ExecuteTime": {
     "end_time": "2025-03-24T20:34:09.729910Z",
     "start_time": "2025-03-24T20:34:09.716627Z"
    }
   },
   "cell_type": "code",
   "source": [
    "sq = ig.Graph()\n",
    "\n",
    "#dodawanie wezlow\n",
    "sq.add_vertices(4)\n",
    "\n",
    "#dodawanie kolejnych krawedzi\n",
    "# SQ.add_edge(0, 1)\n",
    "# SQ.add_edge(1, 2)\n",
    "# SQ.add_edge(3, 0)\n",
    "# SQ.add_edge(2, 3)\n",
    "# SQ.add_edge(2, 3)\n",
    "\n",
    "sq.add_edges([(0, 1), (1, 3), (1, 3), (2, 3), (0, 2)])\n"
   ],
   "id": "8bc7da613b02e0ac",
   "outputs": [],
   "execution_count": 154
  },
  {
   "metadata": {
    "ExecuteTime": {
     "end_time": "2025-03-24T20:34:10.454163Z",
     "start_time": "2025-03-24T20:34:10.287317Z"
    }
   },
   "cell_type": "code",
   "source": [
    "fig, ax = plt.subplots()\n",
    "ig.plot(sq, target=ax)"
   ],
   "id": "b514624db7db8457",
   "outputs": [
    {
     "data": {
      "text/plain": [
       "<igraph.drawing.matplotlib.graph.GraphArtist at 0x282d0424f70>"
      ]
     },
     "execution_count": 155,
     "metadata": {},
     "output_type": "execute_result"
    },
    {
     "data": {
      "text/plain": [
       "<Figure size 640x480 with 1 Axes>"
      ],
      "image/png": "[encoded data removed]"
     },
     "metadata": {},
     "output_type": "display_data"
    }
   ],
   "execution_count": 155
  },
  {
   "metadata": {},
   "cell_type": "markdown",
   "source": "Tworze stan grafowy uzywajac stworzonej biblioteki QuditsOnQubits gdzie w argumencie mam graf",
   "id": "2143508220d5a3a1"
  },
  {
   "metadata": {
    "ExecuteTime": {
     "end_time": "2025-03-24T20:34:21.125934Z",
     "start_time": "2025-03-24T20:34:21.066789Z"
    }
   },
   "cell_type": "code",
   "source": "ame43 = QuditsOnQubits(sq)",
   "id": "8ce8fd24b4ed4d46",
   "outputs": [],
   "execution_count": 156
  },
  {
   "metadata": {},
   "cell_type": "markdown",
   "source": "Tworze obwod z grafu",
   "id": "4a2bc222b3202211"
  },
  {
   "metadata": {
    "ExecuteTime": {
     "end_time": "2025-03-24T20:34:22.075338Z",
     "start_time": "2025-03-24T20:34:22.068317Z"
    }
   },
   "cell_type": "code",
   "source": "ame43circ = ame43.circuit",
   "id": "60a5fe70abedab7e",
   "outputs": [],
   "execution_count": 157
  },
  {
   "metadata": {},
   "cell_type": "markdown",
   "source": "Tworze stabilizatory według pracy Santosa. Wzor nr. 42 na stronie 11.",
   "id": "449b52699f87b5b7"
  },
  {
   "metadata": {
    "ExecuteTime": {
     "end_time": "2025-03-24T20:34:26.170479Z",
     "start_time": "2025-03-24T20:34:25.953007Z"
    }
   },
   "cell_type": "code",
   "source": "ame43circ.draw('mpl')",
   "id": "66f5784956896583",
   "outputs": [
    {
     "data": {
      "text/plain": [
       "<Figure size 621.941x702.333 with 1 Axes>"
      ],
      "image/png": "[encoded data removed]"
     },
     "execution_count": 158,
     "metadata": {},
     "output_type": "execute_result"
    }
   ],
   "execution_count": 158
  },
  {
   "metadata": {
    "ExecuteTime": {
     "end_time": "2025-03-24T20:28:48.642018Z",
     "start_time": "2025-03-24T20:28:48.612340Z"
    }
   },
   "cell_type": "code",
   "source": [
    "G1 = np.kron(np.kron(np.kron(X, Z), np.identity(4)), Z)\n",
    "G1G2 = np.kron(np.kron(np.kron(np.dot(X, Z), np.dot(Z, X)), Z), Z)\n",
    "G1G2pow2 = np.kron(np.kron(np.kron(multi_dot([X, Z, Z]), multi_dot([Z, X, X])), multi_dot([Z, Z])), Z)\n",
    "G3 = np.kron(np.kron(np.kron(np.identity(4), Z), X), multi_dot([Z, Z]))\n",
    "G1G4 = np.kron(np.kron(np.kron(multi_dot([X, Z]), Z), multi_dot([Z, Z])), multi_dot([Z, X]))\n",
    "\n",
    "# G1 = np.kron(X, np.kron(Z, np.kron(np.identity(4), Z)))\n",
    "# G1G2 = np.kron(np.dot(X, Z), np.kron(np.kron(Z, X), np.kron(Z, Z)))\n",
    "# G1G2pow2 = np.kron(np.dot(X, np.dot(Z, Z)), np.kron(np.kron(Z, np.dot(X, X)), np.kron(np.dot(Z, Z), Z)))\n",
    "# G3 = np.kron(np.identity(4), np.kron(Z, np.kron(X, np.dot(Z, Z))))\n",
    "# G1G4 = np.kron(np.dot(X, Z), np.kron(Z, np.kron(np.dot(Z, Z), np.dot(Z, X))))"
   ],
   "id": "b84dbdc33122b006",
   "outputs": [],
   "execution_count": 19
  },
  {
   "metadata": {
    "ExecuteTime": {
     "end_time": "2025-03-24T20:28:48.690234Z",
     "start_time": "2025-03-24T20:28:48.676678Z"
    }
   },
   "cell_type": "code",
   "source": "G1.shape",
   "id": "e68a1fb1b10f7b34",
   "outputs": [
    {
     "data": {
      "text/plain": [
       "(256, 256)"
      ]
     },
     "execution_count": 20,
     "metadata": {},
     "output_type": "execute_result"
    }
   ],
   "execution_count": 20
  },
  {
   "metadata": {},
   "cell_type": "markdown",
   "source": "Odczytuje stan z obwodu ktory stworzylem",
   "id": "7f90af8fecaa7bf3"
  },
  {
   "metadata": {
    "ExecuteTime": {
     "end_time": "2025-03-24T20:34:32.323227Z",
     "start_time": "2025-03-24T20:34:32.294536Z"
    }
   },
   "cell_type": "code",
   "source": "ame43state = Statevector(ame43circ).data",
   "id": "a8864e9d46a7ecb0",
   "outputs": [],
   "execution_count": 159
  },
  {
   "metadata": {},
   "cell_type": "markdown",
   "source": "Obliczam wartosc oczekiwana stabilizatora G1",
   "id": "92b6508cf095fde0"
  },
  {
   "metadata": {},
   "cell_type": "markdown",
   "source": "",
   "id": "55a4344514b90369"
  },
  {
   "metadata": {
    "ExecuteTime": {
     "end_time": "2025-03-24T20:28:48.799840Z",
     "start_time": "2025-03-24T20:28:48.786319Z"
    }
   },
   "cell_type": "code",
   "source": "ame43state",
   "id": "632de8af99457517",
   "outputs": [
    {
     "data": {
      "text/plain": [
       "array([ 1.11111111e-01+7.84095011e-16j,  1.11111111e-01+9.78384040e-16j,\n",
       "        1.11111111e-01+4.30211422e-16j, -1.50608508e-16+5.47790025e-16j,\n",
       "        1.11111111e-01+9.08995101e-16j, -5.55555556e-02+9.62250449e-02j,\n",
       "       -5.55555556e-02-9.62250449e-02j, -1.50608508e-16+5.47790025e-16j,\n",
       "        1.11111111e-01+4.09394740e-16j, -5.55555556e-02-9.62250449e-02j,\n",
       "       -5.55555556e-02+9.62250449e-02j, -1.50608508e-16+5.47790025e-16j,\n",
       "       -1.40467117e-16+5.34486498e-16j, -1.41613276e-16+5.31542012e-16j,\n",
       "       -1.55192142e-16+5.41954881e-16j, -2.43818858e-30-1.54926497e-30j,\n",
       "        1.11111111e-01+9.15933995e-16j,  1.11111111e-01+1.09634524e-15j,\n",
       "        1.11111111e-01+5.06539255e-16j, -1.50608508e-16+5.47790025e-16j,\n",
       "       -5.55555556e-02+9.62250449e-02j, -5.55555556e-02-9.62250449e-02j,\n",
       "        1.11111111e-01+6.59194921e-16j, -3.99095824e-16-4.04325807e-16j,\n",
       "       -5.55555556e-02-9.62250449e-02j, -5.55555556e-02+9.62250449e-02j,\n",
       "        1.11111111e-01+1.66533454e-16j,  5.49704332e-16-1.43464218e-16j,\n",
       "       -1.40467117e-16+5.34486498e-16j, -1.41613276e-16+5.31542012e-16j,\n",
       "       -1.55192142e-16+5.41954881e-16j, -2.43818858e-30-1.54926497e-30j,\n",
       "        1.11111111e-01+3.88578059e-16j,  1.11111111e-01+5.48172618e-16j,\n",
       "        1.11111111e-01+0.00000000e+00j, -1.50608508e-16+5.47790025e-16j,\n",
       "       -5.55555556e-02-9.62250449e-02j,  1.11111111e-01+6.93889390e-16j,\n",
       "       -5.55555556e-02+9.62250449e-02j,  5.49704332e-16-1.43464218e-16j,\n",
       "       -5.55555556e-02+9.62250449e-02j,  1.11111111e-01+2.01227923e-16j,\n",
       "       -5.55555556e-02-9.62250449e-02j, -3.99095824e-16-4.04325807e-16j,\n",
       "       -1.40467117e-16+5.34486498e-16j, -1.41613276e-16+5.31542012e-16j,\n",
       "       -1.55192142e-16+5.41954881e-16j, -2.43818858e-30-1.54926497e-30j,\n",
       "       -1.40081290e-16+5.64471777e-16j, -1.65405456e-16+5.39718182e-16j,\n",
       "       -1.48670812e-16+5.50188611e-16j, -2.51809642e-30-1.50533933e-30j,\n",
       "       -1.35636064e-16+5.20618953e-16j, -4.03375498e-16-4.10172596e-16j,\n",
       "        5.31561989e-16-1.51841911e-16j, -2.46299555e-30-1.46137497e-30j,\n",
       "       -1.60089186e-16+5.56804824e-16j,  5.54582180e-16-1.51070169e-16j,\n",
       "       -3.95863182e-16-4.01435890e-16j, -2.64182066e-30-1.49265197e-30j,\n",
       "       -2.39973583e-30-1.39151720e-30j, -2.49646943e-30-1.41480712e-30j,\n",
       "       -2.44334681e-30-1.55501299e-30j,  1.09561088e-44-9.54002103e-45j,\n",
       "        1.11111111e-01+9.22872889e-16j, -5.55555556e-02+9.62250449e-02j,\n",
       "       -5.55555556e-02-9.62250449e-02j, -1.50608508e-16+5.47790025e-16j,\n",
       "        1.11111111e-01+1.00613962e-15j, -5.55555556e-02-9.62250449e-02j,\n",
       "       -5.55555556e-02+9.62250449e-02j, -1.50608508e-16+5.47790025e-16j,\n",
       "        1.11111111e-01+5.34294831e-16j,  1.11111111e-01+7.00828284e-16j,\n",
       "        1.11111111e-01+1.17961196e-16j, -1.50608508e-16+5.47790025e-16j,\n",
       "       -1.40467117e-16+5.34486498e-16j, -3.89522247e-16-3.88411700e-16j,\n",
       "        5.46942766e-16-1.36577103e-16j, -2.43818858e-30-1.54926497e-30j,\n",
       "       -5.55555556e-02-9.62250449e-02j,  1.11111111e-01+1.14491749e-15j,\n",
       "       -5.55555556e-02+9.62250449e-02j,  5.49704332e-16-1.43464218e-16j,\n",
       "        1.11111111e-01+1.08940634e-15j, -5.55555556e-02-9.62250449e-02j,\n",
       "       -5.55555556e-02+9.62250449e-02j, -1.50608508e-16+5.47790025e-16j,\n",
       "       -5.55555556e-02+9.62250449e-02j, -5.55555556e-02+9.62250449e-02j,\n",
       "       -5.55555556e-02+9.62250449e-02j, -3.99095824e-16-4.04325807e-16j,\n",
       "        5.33112443e-16-1.45595157e-16j, -1.41613276e-16+5.31542012e-16j,\n",
       "       -3.91750624e-16-4.05377778e-16j, -1.22608528e-31+2.88616574e-30j,\n",
       "       -5.55555556e-02+9.62250449e-02j, -5.55555556e-02-9.62250449e-02j,\n",
       "        1.11111111e-01+2.08166817e-16j, -3.99095824e-16-4.04325807e-16j,\n",
       "        1.11111111e-01+7.21644966e-16j, -5.55555556e-02-9.62250449e-02j,\n",
       "       -5.55555556e-02+9.62250449e-02j, -1.50608508e-16+5.47790025e-16j,\n",
       "       -5.55555556e-02-9.62250449e-02j, -5.55555556e-02-9.62250449e-02j,\n",
       "       -5.55555556e-02-9.62250449e-02j,  5.49704332e-16-1.43464218e-16j,\n",
       "       -3.92645327e-16-3.88891340e-16j,  5.31135523e-16-1.43130311e-16j,\n",
       "       -1.55192142e-16+5.41954881e-16j,  2.56079711e-30-1.33690077e-30j,\n",
       "       -1.40081290e-16+5.64471777e-16j, -3.84706928e-16-4.13104417e-16j,\n",
       "        5.50812720e-16-1.46341606e-16j, -2.51809642e-30-1.50533933e-30j,\n",
       "       -1.35636064e-16+5.20618953e-16j,  5.56907637e-16-1.44247131e-16j,\n",
       "       -3.97279947e-16-3.84425230e-16j, -2.46299555e-30-1.46137497e-30j,\n",
       "       -1.60089186e-16+5.56804824e-16j, -1.46460486e-16+5.55817341e-16j,\n",
       "       -1.49722088e-16+5.43545517e-16j, -2.64182066e-30-1.49265197e-30j,\n",
       "       -2.39973583e-30-1.39151720e-30j,  2.47349363e-30-1.45460239e-30j,\n",
       "       -1.25007348e-31+2.89350690e-30j,  1.09561088e-44-9.54002103e-45j,\n",
       "        1.11111111e-01+4.09394740e-16j, -5.55555556e-02-9.62250449e-02j,\n",
       "       -5.55555556e-02+9.62250449e-02j, -1.50608508e-16+5.47790025e-16j,\n",
       "        1.11111111e-01+5.06539255e-16j,  1.11111111e-01+6.66133815e-16j,\n",
       "        1.11111111e-01+9.02056208e-17j, -1.50608508e-16+5.47790025e-16j,\n",
       "        1.11111111e-01+0.00000000e+00j, -5.55555556e-02+9.62250449e-02j,\n",
       "       -5.55555556e-02-9.62250449e-02j, -1.50608508e-16+5.47790025e-16j,\n",
       "       -1.40467117e-16+5.34486498e-16j,  5.31135523e-16-1.43130311e-16j,\n",
       "       -3.91750624e-16-4.05377778e-16j, -2.43818858e-30-1.54926497e-30j,\n",
       "       -5.55555556e-02+9.62250449e-02j,  1.11111111e-01+7.77156117e-16j,\n",
       "       -5.55555556e-02-9.62250449e-02j, -3.99095824e-16-4.04325807e-16j,\n",
       "       -5.55555556e-02-9.62250449e-02j, -5.55555556e-02-9.62250449e-02j,\n",
       "       -5.55555556e-02-9.62250449e-02j,  5.49704332e-16-1.43464218e-16j,\n",
       "        1.11111111e-01+2.01227923e-16j, -5.55555556e-02+9.62250449e-02j,\n",
       "       -5.55555556e-02-9.62250449e-02j, -1.50608508e-16+5.47790025e-16j,\n",
       "       -3.92645327e-16-3.88891340e-16j, -1.41613276e-16+5.31542012e-16j,\n",
       "        5.46942766e-16-1.36577103e-16j,  2.56079711e-30-1.33690077e-30j,\n",
       "       -5.55555556e-02-9.62250449e-02j, -5.55555556e-02+9.62250449e-02j,\n",
       "        1.11111111e-01-4.57966998e-16j,  5.49704332e-16-1.43464218e-16j,\n",
       "       -5.55555556e-02+9.62250449e-02j, -5.55555556e-02+9.62250449e-02j,\n",
       "       -5.55555556e-02+9.62250449e-02j, -3.99095824e-16-4.04325807e-16j,\n",
       "        1.11111111e-01-4.57966998e-16j, -5.55555556e-02+9.62250449e-02j,\n",
       "       -5.55555556e-02-9.62250449e-02j, -1.50608508e-16+5.47790025e-16j,\n",
       "        5.33112443e-16-1.45595157e-16j, -3.89522247e-16-3.88411700e-16j,\n",
       "       -1.55192142e-16+5.41954881e-16j, -1.22608528e-31+2.88616574e-30j,\n",
       "       -1.40081290e-16+5.64471777e-16j,  5.50112384e-16-1.26613764e-16j,\n",
       "       -4.02141908e-16-4.03847005e-16j, -2.51809642e-30-1.50533933e-30j,\n",
       "       -1.35636064e-16+5.20618953e-16j, -1.53532139e-16+5.54419726e-16j,\n",
       "       -1.34282042e-16+5.36267142e-16j, -2.46299555e-30-1.46137497e-30j,\n",
       "       -1.60089186e-16+5.56804824e-16j, -4.08121694e-16-4.04747172e-16j,\n",
       "        5.45585270e-16-1.42109627e-16j, -2.64182066e-30-1.49265197e-30j,\n",
       "       -2.39973583e-30-1.39151720e-30j,  2.29758042e-32+2.86940951e-30j,\n",
       "        2.56835415e-30-1.33849391e-30j,  1.09561088e-44-9.54002103e-45j,\n",
       "       -1.49193227e-16+5.44979803e-16j, -1.46311024e-16+5.55648604e-16j,\n",
       "       -1.37339400e-16+5.62660680e-16j, -2.55681726e-30-1.50612230e-30j,\n",
       "       -1.36653819e-16+5.61700079e-16j, -3.95768456e-16-4.01140377e-16j,\n",
       "        5.46659824e-16-1.38272174e-16j, -2.60087476e-30-1.50573480e-30j,\n",
       "       -1.49362017e-16+5.55616931e-16j,  5.59110953e-16-1.45297752e-16j,\n",
       "       -4.01281675e-16-4.03907370e-16j, -2.43891645e-30-1.54054726e-30j,\n",
       "       -2.45356967e-30-1.42136100e-30j, -2.38212171e-30-1.44531545e-30j,\n",
       "       -2.56932630e-30-1.45143651e-30j,  1.09302766e-44-1.05379744e-44j,\n",
       "       -1.44475909e-16+5.47592578e-16j, -1.40522999e-16+5.74190526e-16j,\n",
       "       -1.42920721e-16+5.53660875e-16j, -2.47512428e-30-1.53167253e-30j,\n",
       "       -4.29756466e-16-3.98097506e-16j,  5.58281141e-16-1.48246903e-16j,\n",
       "       -1.55858161e-16+5.50661513e-16j,  2.61188414e-30-1.55361962e-30j,\n",
       "        5.62103474e-16-1.43752080e-16j, -4.13009648e-16-4.04660728e-16j,\n",
       "       -1.40645463e-16+5.38162506e-16j, -2.99028977e-32+2.87933629e-30j,\n",
       "       -2.45195564e-30-1.40774452e-30j, -2.37519611e-30-1.40854128e-30j,\n",
       "       -2.41939170e-30-1.42581025e-30j,  1.10237700e-44-1.00166944e-44j,\n",
       "       -1.61347935e-16+5.58313085e-16j, -1.57412425e-16+5.57714723e-16j,\n",
       "       -1.44068938e-16+5.32558674e-16j, -2.47421124e-30-1.46395827e-30j,\n",
       "        5.44991093e-16-1.60034437e-16j, -1.61320734e-16+5.50677347e-16j,\n",
       "       -4.15518705e-16-3.97812757e-16j, -2.30467054e-33+2.94248561e-30j,\n",
       "       -3.86294493e-16-4.04482487e-16j, -1.38787052e-16+5.44171730e-16j,\n",
       "        5.57096544e-16-1.46535493e-16j,  2.54537535e-30-1.35997502e-30j,\n",
       "       -2.27356993e-30-1.38416689e-30j, -2.38701277e-30-1.46559813e-30j,\n",
       "       -2.38293424e-30-1.51990630e-30j,  1.09828627e-44-9.95732390e-45j,\n",
       "       -2.67514090e-30-1.47102868e-30j, -2.43068001e-30-1.54613685e-30j,\n",
       "       -2.47792053e-30-1.45658004e-30j,  1.08779454e-44-1.07368110e-44j,\n",
       "       -2.35408105e-30-1.29758562e-30j,  2.51527807e-30-1.39713102e-30j,\n",
       "        1.56266292e-31+2.93889803e-30j,  1.05211804e-44-1.00404810e-44j,\n",
       "       -2.38698858e-30-1.52163347e-30j, -6.34501181e-32+2.90576417e-30j,\n",
       "        2.58607255e-30-1.47155292e-30j,  1.11315856e-44-1.12327693e-44j,\n",
       "        1.03043542e-44-9.81319242e-45j,  1.06432494e-44-1.12797027e-44j,\n",
       "        1.10348991e-44-9.25168231e-45j,  3.49368745e-59+6.75653546e-59j])"
      ]
     },
     "execution_count": 22,
     "metadata": {},
     "output_type": "execute_result"
    }
   ],
   "execution_count": 22
  },
  {
   "metadata": {
    "ExecuteTime": {
     "end_time": "2025-03-24T20:28:48.877299Z",
     "start_time": "2025-03-24T20:28:48.863280Z"
    }
   },
   "cell_type": "code",
   "source": "ame43matrix = ame43state.reshape(256, 1)",
   "id": "f18d03ba3714ea3c",
   "outputs": [],
   "execution_count": 23
  },
  {
   "metadata": {
    "ExecuteTime": {
     "end_time": "2025-03-24T20:28:48.908480Z",
     "start_time": "2025-03-24T20:28:48.886296Z"
    }
   },
   "cell_type": "code",
   "source": "multi_dot([ame43state.conj().transpose(), G1, ame43state])",
   "id": "bd1d552284ca17a7",
   "outputs": [
    {
     "data": {
      "text/plain": [
       "np.complex128(-2.9698465908722937e-15-1.5440032753063703e-15j)"
      ]
     },
     "execution_count": 24,
     "metadata": {},
     "output_type": "execute_result"
    }
   ],
   "execution_count": 24
  },
  {
   "metadata": {
    "ExecuteTime": {
     "end_time": "2025-03-24T20:28:48.954781Z",
     "start_time": "2025-03-24T20:28:48.941248Z"
    }
   },
   "cell_type": "code",
   "source": "#G1ev = ame43state.expectation_value(G1)",
   "id": "29c527a39d417421",
   "outputs": [],
   "execution_count": 25
  },
  {
   "metadata": {},
   "cell_type": "markdown",
   "source": "Sprawdzam recznie ten stan ame43",
   "id": "810d5e05afcfeea3"
  },
  {
   "metadata": {
    "ExecuteTime": {
     "end_time": "2025-03-24T20:28:49.002776Z",
     "start_time": "2025-03-24T20:28:48.988553Z"
    }
   },
   "cell_type": "code",
   "source": [
    "Zsolo = [[1, 0, 0], [0, omega, 0], [0, 0, omega*omega]]\n",
    "Xsolo = [[0,0,1], [1,0,0], [0,1,0]]"
   ],
   "id": "55a2736899b727fa",
   "outputs": [],
   "execution_count": 26
  },
  {
   "metadata": {
    "ExecuteTime": {
     "end_time": "2025-03-24T20:28:49.050374Z",
     "start_time": "2025-03-24T20:28:49.036769Z"
    }
   },
   "cell_type": "code",
   "source": [
    "qutryt0 = np.array([[1], [0], [0]])\n",
    "qutryt1 = np.array([[0], [1], [0]])\n",
    "qutryt2 = np.array([[0], [0], [1]])"
   ],
   "id": "2e708fe0d682d238",
   "outputs": [],
   "execution_count": 27
  },
  {
   "metadata": {
    "ExecuteTime": {
     "end_time": "2025-03-24T20:28:49.096323Z",
     "start_time": "2025-03-24T20:28:49.082793Z"
    }
   },
   "cell_type": "code",
   "source": "plusQutryt = 1/np.sqrt(3) * (qutryt0 + qutryt1 + qutryt2)",
   "id": "767105bc94c437c0",
   "outputs": [],
   "execution_count": 28
  },
  {
   "metadata": {},
   "cell_type": "markdown",
   "source": "Bramka CZ jest diagonalna i ma na diagonali $\\omega^{i * j}$, gdzie i oraz j to kombinacje wszystkich qutrytow np. $\\ket{0, 0}$ mamy $\\omega^{0 * 0}$, dla $\\ket{0, 1}$ mamy $\\omega^{0 * 1}$ itd",
   "id": "e6881cfec11ea8b8"
  },
  {
   "metadata": {
    "ExecuteTime": {
     "end_time": "2025-03-24T20:28:49.158932Z",
     "start_time": "2025-03-24T20:28:49.129583Z"
    }
   },
   "cell_type": "code",
   "source": "CZqutryt = np.diag([1, 1, 1, 1, omega, omega*omega, 1, omega*omega, omega])",
   "id": "c2160e133335c133",
   "outputs": [],
   "execution_count": 29
  },
  {
   "metadata": {},
   "cell_type": "markdown",
   "source": "Robie plusy na kazdym wierzcholku",
   "id": "78e6e84fa597f9ae"
  },
  {
   "metadata": {
    "ExecuteTime": {
     "end_time": "2025-03-24T20:28:49.204948Z",
     "start_time": "2025-03-24T20:28:49.191651Z"
    }
   },
   "cell_type": "code",
   "source": "stanPlus = np.kron(np.kron(np.kron(plusQutryt, plusQutryt), plusQutryt), plusQutryt)",
   "id": "accd5aa432da01af",
   "outputs": [],
   "execution_count": 30
  },
  {
   "metadata": {
    "ExecuteTime": {
     "end_time": "2025-03-24T20:28:49.252086Z",
     "start_time": "2025-03-24T20:28:49.238721Z"
    }
   },
   "cell_type": "code",
   "source": "stanPlus.shape",
   "id": "8cb8c7d2b608985",
   "outputs": [
    {
     "data": {
      "text/plain": [
       "(81, 1)"
      ]
     },
     "execution_count": 31,
     "metadata": {},
     "output_type": "execute_result"
    }
   ],
   "execution_count": 31
  },
  {
   "metadata": {
    "ExecuteTime": {
     "end_time": "2025-03-24T20:28:49.313980Z",
     "start_time": "2025-03-24T20:28:49.302633Z"
    }
   },
   "cell_type": "code",
   "source": [
    "CZ01 = np.kron(CZqutryt, np.kron(np.identity(3), np.identity(3)))\n",
    "CZ12 = np.kron(np.identity(3), np.kron(CZqutryt, np.identity(3)))\n",
    "CZ23 = np.kron(np.identity(3), np.kron(np.identity(3), CZqutryt))"
   ],
   "id": "d30f0819581f6c59",
   "outputs": [],
   "execution_count": 32
  },
  {
   "metadata": {},
   "cell_type": "markdown",
   "source": "Robie funkcje poniewaz nie moge bezposrednio uzyc np.kron bo qutryty nie sa obok siebie tylko na dwoch koncach, wiec tworze juz caly stan CZ03 odrazu.",
   "id": "fae8dd8b6b363e4f"
  },
  {
   "metadata": {
    "ExecuteTime": {
     "end_time": "2025-03-24T20:28:49.360609Z",
     "start_time": "2025-03-24T20:28:49.347072Z"
    }
   },
   "cell_type": "code",
   "source": [
    "def CZ_30_4qutrits():\n",
    "    d = 3\n",
    "    dim = d**4\n",
    "    diag_elements = np.zeros(dim, dtype=complex)\n",
    "\n",
    "    omegaCZ = np.exp(2j * np.pi / d)\n",
    "\n",
    "    index = 0\n",
    "    for x0 in range(d):\n",
    "        for x1 in range(d):\n",
    "            for x2 in range(d):\n",
    "                for x3 in range(d):\n",
    "                    \n",
    "                    diag_elements[index] = omegaCZ ** (x0 * x3)\n",
    "                    index += 1\n",
    "\n",
    "    return np.diag(diag_elements)\n",
    "\n",
    "CZ30 = CZ_30_4qutrits()"
   ],
   "id": "e2aa06a11dc5f18e",
   "outputs": [],
   "execution_count": 33
  },
  {
   "metadata": {},
   "cell_type": "markdown",
   "source": "Robie CZ na kazdej krawedzi i lacze ze stanem plus na kazdym wierzcholku",
   "id": "24a937b78c0ccc7b"
  },
  {
   "metadata": {
    "ExecuteTime": {
     "end_time": "2025-03-24T20:28:49.423242Z",
     "start_time": "2025-03-24T20:28:49.410717Z"
    }
   },
   "cell_type": "code",
   "source": "ame43test = multi_dot([CZ01, CZ12, CZ23, CZ23, CZ30, stanPlus])",
   "id": "c84a61856e289f01",
   "outputs": [],
   "execution_count": 34
  },
  {
   "metadata": {
    "ExecuteTime": {
     "end_time": "2025-03-24T20:28:49.486762Z",
     "start_time": "2025-03-24T20:28:49.472664Z"
    }
   },
   "cell_type": "code",
   "source": "stanPlus.shape",
   "id": "53888898ce3fb1f0",
   "outputs": [
    {
     "data": {
      "text/plain": [
       "(81, 1)"
      ]
     },
     "execution_count": 35,
     "metadata": {},
     "output_type": "execute_result"
    }
   ],
   "execution_count": 35
  },
  {
   "metadata": {
    "ExecuteTime": {
     "end_time": "2025-03-24T20:28:49.550584Z",
     "start_time": "2025-03-24T20:28:49.536717Z"
    }
   },
   "cell_type": "code",
   "source": "ame43test.shape",
   "id": "83a92d593f7e6829",
   "outputs": [
    {
     "data": {
      "text/plain": [
       "(81, 1)"
      ]
     },
     "execution_count": 36,
     "metadata": {},
     "output_type": "execute_result"
    }
   ],
   "execution_count": 36
  },
  {
   "metadata": {},
   "cell_type": "markdown",
   "source": "Analogicznie do tworzenia poprzednich stabilizatorow",
   "id": "6f8defb015eb1dea"
  },
  {
   "metadata": {
    "ExecuteTime": {
     "end_time": "2025-03-24T20:28:49.613563Z",
     "start_time": "2025-03-24T20:28:49.599486Z"
    }
   },
   "cell_type": "code",
   "source": [
    "G1test = np.kron(np.kron(np.kron(Xsolo, Zsolo), np.identity(3)), Zsolo)\n",
    "G1G2test = np.kron(np.kron(np.kron(np.dot(Xsolo, Zsolo), np.dot(Zsolo, Xsolo)), Zsolo), Zsolo)\n",
    "G1G2pow2test = np.kron(np.kron(np.kron(multi_dot([Xsolo, Zsolo, Zsolo]), multi_dot([Zsolo, Xsolo, Xsolo])), multi_dot([Zsolo, Zsolo])), Zsolo)\n",
    "G3test = np.kron(np.kron(np.kron(np.identity(3), Zsolo), Xsolo), multi_dot([Zsolo, Zsolo]))\n",
    "G1G4test = np.kron(np.kron(np.kron(multi_dot([Xsolo, Zsolo]), Zsolo), multi_dot([Zsolo, Zsolo])), multi_dot([Zsolo, Xsolo]))\n",
    "\n",
    "# G1test = np.kron(Xsolo, np.kron(Zsolo, np.kron(np.identity(3), Zsolo)))\n",
    "# G1G2test = np.kron(np.dot(Xsolo, Zsolo), np.kron(np.kron(Zsolo, Xsolo), np.kron(Zsolo, Zsolo)))\n",
    "# G1G2pow2test = np.kron(np.dot(Xsolo, np.dot(Zsolo, Zsolo)), np.kron(np.kron(Zsolo, np.dot(Xsolo, Xsolo)), np.kron(np.dot(Zsolo, Zsolo), Zsolo)))\n",
    "# G3test = np.kron(np.identity(3), np.kron(Zsolo, np.kron(Xsolo, np.dot(Zsolo, Zsolo))))\n",
    "# G1G4test = np.kron(np.dot(Xsolo, Zsolo), np.kron(Zsolo, np.kron(np.dot(Zsolo, Zsolo), np.dot(Zsolo, Xsolo))))"
   ],
   "id": "92b32283b70d2ef9",
   "outputs": [],
   "execution_count": 37
  },
  {
   "metadata": {},
   "cell_type": "markdown",
   "source": "Obliczam recznie $\\braket{ame43|G1|ame43}$",
   "id": "6c962b7171390816"
  },
  {
   "metadata": {
    "ExecuteTime": {
     "end_time": "2025-03-24T20:28:49.677360Z",
     "start_time": "2025-03-24T20:28:49.663673Z"
    }
   },
   "cell_type": "code",
   "source": "multi_dot([ame43test.conj().transpose(), G1test, ame43test])",
   "id": "e5a76d29d840ebcf",
   "outputs": [
    {
     "data": {
      "text/plain": [
       "array([[1.-4.21537805e-16j]])"
      ]
     },
     "execution_count": 38,
     "metadata": {},
     "output_type": "execute_result"
    }
   ],
   "execution_count": 38
  },
  {
   "metadata": {
    "ExecuteTime": {
     "end_time": "2025-03-24T20:28:49.740665Z",
     "start_time": "2025-03-24T20:28:49.726520Z"
    }
   },
   "cell_type": "code",
   "source": "operatory = [G1test, G1G2test, G1G2pow2test, G3test, G1G4test]",
   "id": "e2b37682c3ed6029",
   "outputs": [],
   "execution_count": 39
  },
  {
   "metadata": {
    "ExecuteTime": {
     "end_time": "2025-03-24T20:28:49.819799Z",
     "start_time": "2025-03-24T20:28:49.806624Z"
    }
   },
   "cell_type": "code",
   "source": [
    "suma = 0\n",
    "for i in operatory:\n",
    "    suma += np.real(multi_dot([ame43test.conj().transpose(), i, ame43test]))\n",
    "    print(np.real(multi_dot([ame43test.conj().transpose(), i, ame43test])))\n",
    "    \n",
    "print(suma)"
   ],
   "id": "e7ca96ccb720b3d7",
   "outputs": [
    {
     "name": "stdout",
     "output_type": "stream",
     "text": [
      "[[1.]]\n",
      "[[1.]]\n",
      "[[1.]]\n",
      "[[1.]]\n",
      "[[1.]]\n",
      "[[5.]]\n"
     ]
    }
   ],
   "execution_count": 40
  },
  {
   "metadata": {
    "ExecuteTime": {
     "end_time": "2025-03-24T20:28:50.131548Z",
     "start_time": "2025-03-24T20:28:50.119006Z"
    }
   },
   "cell_type": "code",
   "source": [
    "def exp_val(op):\n",
    "    return np.real(multi_dot([ame43test.conj().transpose(), op, ame43test]))"
   ],
   "id": "ab022f150857c494",
   "outputs": [],
   "execution_count": 41
  },
  {
   "metadata": {
    "ExecuteTime": {
     "end_time": "2025-03-24T20:28:50.289495Z",
     "start_time": "2025-03-24T20:28:50.276952Z"
    }
   },
   "cell_type": "code",
   "source": "B_ame = G1test + G1G2pow2test + 0.5*(G1G2test + G1G4test) + G3test + G1test.conj().T + G1G2pow2test.conj().T + 0.5*(G1G2test.conj().T + G1G4test.conj().T) + G3test.conj().T",
   "id": "1198c8e8b6a46d3e",
   "outputs": [],
   "execution_count": 42
  },
  {
   "metadata": {
    "ExecuteTime": {
     "end_time": "2025-03-24T20:28:50.336170Z",
     "start_time": "2025-03-24T20:28:50.323644Z"
    }
   },
   "cell_type": "code",
   "source": "np.real(multi_dot([ame43test.conj().transpose(), B_ame, ame43test]))",
   "id": "d8096f3ba1615305",
   "outputs": [
    {
     "data": {
      "text/plain": [
       "array([[8.]])"
      ]
     },
     "execution_count": 43,
     "metadata": {},
     "output_type": "execute_result"
    }
   ],
   "execution_count": 43
  },
  {
   "metadata": {
    "ExecuteTime": {
     "end_time": "2025-03-24T20:28:50.382413Z",
     "start_time": "2025-03-24T20:28:50.364749Z"
    }
   },
   "cell_type": "code",
   "source": "",
   "id": "8e8a128771e3fc9f",
   "outputs": [],
   "execution_count": null
  },
  {
   "metadata": {
    "ExecuteTime": {
     "end_time": "2025-03-24T20:28:50.522947Z",
     "start_time": "2025-03-24T20:28:50.391943Z"
    }
   },
   "cell_type": "code",
   "source": [
    "vect_sympy = sympy.Matrix(Statevector(ame43circ).data.round(5).reshape((256, 1)))\n",
    "vect_sympy2 = sympy.Matrix(Statevector(ame43test).data.round(5).reshape((81, 1)))"
   ],
   "id": "566fec7a22c8a85a",
   "outputs": [],
   "execution_count": 44
  },
  {
   "metadata": {},
   "cell_type": "markdown",
   "source": "Porownanie z wczesniejszym wynikiem",
   "id": "a711eb1ae5777791"
  },
  {
   "metadata": {},
   "cell_type": "markdown",
   "source": "Statevector qutrytowy zwykły bez kodowania policzony ręcznie",
   "id": "57fd71c95387faf9"
  },
  {
   "metadata": {
    "ExecuteTime": {
     "end_time": "2025-03-24T20:28:50.648143Z",
     "start_time": "2025-03-24T20:28:50.531461Z"
    }
   },
   "cell_type": "code",
   "source": "Statevector(ame43test).draw('latex')",
   "id": "936881879fa1af07",
   "outputs": [
    {
     "data": {
      "text/plain": [
       "<IPython.core.display.Latex object>"
      ],
      "text/latex": "$$\\begin{align}\n\n\n\\begin{bmatrix}\n\\frac{1}{9} & \\frac{1}{9} & \\frac{1}{9} & \\frac{1}{9} & \\cdots & -0.0555555556 - 0.0962250449 i & -0.0555555556 - 0.0962250449 i & -0.0555555556 - 0.0962250449 i  \\\\\n \\end{bmatrix}\n\\\\\n\\text{dims=(81,)}\n\\end{align}$$"
     },
     "execution_count": 45,
     "metadata": {},
     "output_type": "execute_result"
    }
   ],
   "execution_count": 45
  },
  {
   "metadata": {
    "ExecuteTime": {
     "end_time": "2025-03-24T20:28:50.663670Z",
     "start_time": "2025-03-24T20:28:50.656651Z"
    }
   },
   "cell_type": "code",
   "source": "format(1, '08b')",
   "id": "5b679d0695e32936",
   "outputs": [
    {
     "data": {
      "text/plain": [
       "'00000001'"
      ]
     },
     "execution_count": 46,
     "metadata": {},
     "output_type": "execute_result"
    }
   ],
   "execution_count": 46
  },
  {
   "metadata": {},
   "cell_type": "code",
   "source": "Math(sympy.latex(vect_sympy2))",
   "id": "5ce55ce25d1e5e00",
   "outputs": [],
   "execution_count": null
  },
  {
   "metadata": {},
   "cell_type": "markdown",
   "source": "Statevector qutrytowy zakodowany na qubitach z algorytmu",
   "id": "43947a76b7ddf21d"
  },
  {
   "metadata": {
    "ExecuteTime": {
     "end_time": "2025-03-24T20:28:50.943547Z",
     "start_time": "2025-03-24T20:28:50.734912Z"
    }
   },
   "cell_type": "code",
   "source": "Statevector(ame43circ).draw('latex')",
   "id": "d84636b9096e6972",
   "outputs": [
    {
     "data": {
      "text/plain": [
       "<IPython.core.display.Latex object>"
      ],
      "text/latex": "$$\\frac{1}{9} |00000000\\rangle+\\frac{1}{9} |00000001\\rangle+\\frac{1}{9} |00000010\\rangle+\\frac{1}{9} |00000100\\rangle+(-0.0555555556 + 0.0962250449 i) |00000101\\rangle+(-0.0555555556 - 0.0962250449 i) |00000110\\rangle + \\ldots +(-0.0555555556 + 0.0962250449 i) |10100101\\rangle+(-0.0555555556 + 0.0962250449 i) |10100110\\rangle+\\frac{1}{9} |10101000\\rangle+(-0.0555555556 + 0.0962250449 i) |10101001\\rangle+(-0.0555555556 - 0.0962250449 i) |10101010\\rangle$$"
     },
     "execution_count": 48,
     "metadata": {},
     "output_type": "execute_result"
    }
   ],
   "execution_count": 48
  },
  {
   "metadata": {},
   "cell_type": "code",
   "source": "Math(sympy.latex(vect_sympy))",
   "id": "c880eaa15415a4b5",
   "outputs": [],
   "execution_count": null
  },
  {
   "metadata": {
    "ExecuteTime": {
     "end_time": "2025-03-24T20:28:51.021956Z",
     "start_time": "2025-03-24T20:28:51.003881Z"
    }
   },
   "cell_type": "code",
   "source": [
    "nonzero_dict = Statevector(ame43test).to_dict()\n",
    "num_terms = len(nonzero_dict)\n",
    "print(\"Liczba niezerowych składników w tym Statevector:\", num_terms)"
   ],
   "id": "b9f3ebb347a5b9b8",
   "outputs": [
    {
     "name": "stdout",
     "output_type": "stream",
     "text": [
      "Liczba niezerowych składników w tym Statevector: 81\n"
     ]
    }
   ],
   "execution_count": 50
  },
  {
   "metadata": {},
   "cell_type": "markdown",
   "source": "Poniżej brudnopis, próbowałem policzyć wartości oczekiwane dla naszego podstawowego stanu GHZ.",
   "id": "ec10cdb98351e6fc"
  },
  {
   "metadata": {
    "ExecuteTime": {
     "end_time": "2025-03-24T20:28:51.210652Z",
     "start_time": "2025-03-24T20:28:51.031489Z"
    }
   },
   "cell_type": "code",
   "source": "ghz_circ = QuditsOnQubits().circuit[1]",
   "id": "3e7b0c397f6d5443",
   "outputs": [],
   "execution_count": 51
  },
  {
   "metadata": {
    "ExecuteTime": {
     "end_time": "2025-03-24T20:28:51.258253Z",
     "start_time": "2025-03-24T20:28:51.218158Z"
    }
   },
   "cell_type": "code",
   "source": "ghz_circ",
   "id": "5f1905d517900944",
   "outputs": [
    {
     "data": {
      "text/plain": [
       "array([[-5.77350269e-01-3.95243214e-15j],\n",
       "       [ 1.67231961e-17-5.70531277e-17j],\n",
       "       [-2.95360966e-17-7.70988212e-18j],\n",
       "       [ 7.82584766e-16-2.84640047e-15j],\n",
       "       [-6.95808573e-17+2.70597771e-16j],\n",
       "       [ 1.72181302e-15-6.52394803e-16j],\n",
       "       [-9.38366847e-18-1.94491073e-17j],\n",
       "       [-8.01751384e-31-9.32244759e-31j],\n",
       "       [ 1.57368925e-15-6.62931985e-16j],\n",
       "       [-3.62098557e-18+1.16542063e-17j],\n",
       "       [ 2.28774619e-16+2.54551119e-16j],\n",
       "       [ 9.37868610e-31+8.37042798e-30j],\n",
       "       [ 2.58996946e-16-1.73004099e-15j],\n",
       "       [ 1.92401140e-31+6.05637679e-30j],\n",
       "       [-9.14242598e-31+5.50895484e-31j],\n",
       "       [ 8.15876186e-30+4.01870155e-30j],\n",
       "       [-1.10428400e-16+2.25220175e-16j],\n",
       "       [ 1.77269824e-15-6.57461581e-16j],\n",
       "       [ 9.12004861e-18-2.10464381e-17j],\n",
       "       [-1.06339416e-30-9.05438080e-31j],\n",
       "       [-3.61240573e-17-2.56528861e-17j],\n",
       "       [-5.77350269e-01-4.48651244e-15j],\n",
       "       [ 0.00000000e+00-2.79486768e-18j],\n",
       "       [ 3.13658534e-32+1.91836976e-31j],\n",
       "       [-4.56566624e-17+2.94707839e-17j],\n",
       "       [ 2.98124100e-16+3.19249513e-16j],\n",
       "       [ 1.76136278e-15-5.03881176e-16j],\n",
       "       [-1.31970847e-31+8.42182460e-32j],\n",
       "       [-4.62863708e-31-5.90778009e-31j],\n",
       "       [ 5.84453599e-16-1.67821016e-15j],\n",
       "       [-2.46519033e-31+5.02898827e-30j],\n",
       "       [ 1.98251332e-45-2.88743342e-45j],\n",
       "       [ 1.53820896e-15-5.79665258e-16j],\n",
       "       [ 1.71956961e-17+1.51236533e-17j],\n",
       "       [ 2.98163558e-16+3.06592823e-16j],\n",
       "       [ 7.59142311e-31+8.49368750e-30j],\n",
       "       [-5.59493978e-18+1.86112318e-17j],\n",
       "       [ 2.07384521e-16+3.46506614e-16j],\n",
       "       [ 1.70485525e-15-5.61231232e-16j],\n",
       "       [-1.72189038e-32+4.81180031e-33j],\n",
       "       [-7.58770046e-18+1.38586965e-17j],\n",
       "       [ 0.00000000e+00-1.38776190e-19j],\n",
       "       [-5.77350269e-01-1.62233360e-15j],\n",
       "       [-9.65426781e-32+2.66189920e-31j],\n",
       "       [ 1.00112822e-30+4.57894781e-30j],\n",
       "       [-1.03537994e-30+0.00000000e+00j],\n",
       "       [ 5.16155623e-16-1.56964089e-15j],\n",
       "       [-2.59567024e-44-1.57086070e-45j],\n",
       "       [ 2.73402136e-16-1.76847705e-15j],\n",
       "       [ 1.72849312e-17+2.44064430e-17j],\n",
       "       [ 2.20250588e-17-2.71250893e-18j],\n",
       "       [ 8.44691998e-30+3.80955974e-30j],\n",
       "       [ 2.35565487e-17-4.58286443e-18j],\n",
       "       [ 6.33213547e-16-1.74254837e-15j],\n",
       "       [-1.82427277e-17+3.56259063e-17j],\n",
       "       [-6.92420996e-32+2.11033511e-31j],\n",
       "       [-3.91192184e-17-4.69369136e-17j],\n",
       "       [ 5.33165923e-18+1.54032556e-17j],\n",
       "       [ 4.92809299e-16-1.62725548e-15j],\n",
       "       [ 2.08075012e-32-1.33668621e-31j],\n",
       "       [ 5.08419701e-30+1.62660880e-30j],\n",
       "       [ 4.42085403e-30+3.56706148e-30j],\n",
       "       [ 3.85846077e-30+2.80884718e-30j],\n",
       "       [-1.60421124e-44+2.17111034e-44j]])"
      ]
     },
     "execution_count": 52,
     "metadata": {},
     "output_type": "execute_result"
    }
   ],
   "execution_count": 52
  },
  {
   "metadata": {
    "ExecuteTime": {
     "end_time": "2025-03-24T20:28:51.306190Z",
     "start_time": "2025-03-24T20:28:51.269542Z"
    }
   },
   "cell_type": "code",
   "source": "Statevector(ghz_circ).draw('latex')",
   "id": "1e7a2b4f3fae8922",
   "outputs": [
    {
     "data": {
      "text/plain": [
       "<IPython.core.display.Latex object>"
      ],
      "text/latex": "$$- \\frac{\\sqrt{3}}{3} |000000\\rangle- \\frac{\\sqrt{3}}{3} |010101\\rangle- \\frac{\\sqrt{3}}{3} |101010\\rangle$$"
     },
     "execution_count": 53,
     "metadata": {},
     "output_type": "execute_result"
    }
   ],
   "execution_count": 53
  },
  {
   "metadata": {
    "ExecuteTime": {
     "end_time": "2025-03-24T20:28:51.337355Z",
     "start_time": "2025-03-24T20:28:51.316137Z"
    }
   },
   "cell_type": "code",
   "source": "Statevector(ghz_circ).data.round(5)",
   "id": "3ff950ef7d72bcca",
   "outputs": [
    {
     "data": {
      "text/plain": [
       "array([-0.57735-0.j,  0.     -0.j, -0.     -0.j,  0.     -0.j,\n",
       "       -0.     +0.j,  0.     -0.j, -0.     -0.j, -0.     -0.j,\n",
       "        0.     -0.j, -0.     +0.j,  0.     +0.j,  0.     +0.j,\n",
       "        0.     -0.j,  0.     +0.j, -0.     +0.j,  0.     +0.j,\n",
       "       -0.     +0.j,  0.     -0.j,  0.     -0.j, -0.     -0.j,\n",
       "       -0.     -0.j, -0.57735-0.j,  0.     -0.j,  0.     +0.j,\n",
       "       -0.     +0.j,  0.     +0.j,  0.     -0.j, -0.     +0.j,\n",
       "       -0.     -0.j,  0.     -0.j, -0.     +0.j,  0.     -0.j,\n",
       "        0.     -0.j,  0.     +0.j,  0.     +0.j,  0.     +0.j,\n",
       "       -0.     +0.j,  0.     +0.j,  0.     -0.j, -0.     +0.j,\n",
       "       -0.     +0.j,  0.     -0.j, -0.57735-0.j, -0.     +0.j,\n",
       "        0.     +0.j, -0.     +0.j,  0.     -0.j, -0.     -0.j,\n",
       "        0.     -0.j,  0.     +0.j,  0.     -0.j,  0.     +0.j,\n",
       "        0.     -0.j,  0.     -0.j, -0.     +0.j, -0.     +0.j,\n",
       "       -0.     -0.j,  0.     +0.j,  0.     -0.j,  0.     -0.j,\n",
       "        0.     +0.j,  0.     +0.j,  0.     +0.j, -0.     +0.j])"
      ]
     },
     "execution_count": 54,
     "metadata": {},
     "output_type": "execute_result"
    }
   ],
   "execution_count": 54
  },
  {
   "metadata": {
    "ExecuteTime": {
     "end_time": "2025-03-24T20:28:51.353435Z",
     "start_time": "2025-03-24T20:28:51.343367Z"
    }
   },
   "cell_type": "code",
   "source": [
    "sum = 0\n",
    "for i in Statevector(ghz_circ).data.round(5):\n",
    "    if i != 0:\n",
    "        sum += 1"
   ],
   "id": "77d0a7dfb4791cf9",
   "outputs": [],
   "execution_count": 55
  },
  {
   "metadata": {
    "ExecuteTime": {
     "end_time": "2025-03-24T20:28:51.369479Z",
     "start_time": "2025-03-24T20:28:51.360961Z"
    }
   },
   "cell_type": "code",
   "source": "sum",
   "id": "44a130e875ace9f3",
   "outputs": [
    {
     "data": {
      "text/plain": [
       "3"
      ]
     },
     "execution_count": 56,
     "metadata": {},
     "output_type": "execute_result"
    }
   ],
   "execution_count": 56
  },
  {
   "metadata": {
    "ExecuteTime": {
     "end_time": "2025-03-24T20:28:51.400044Z",
     "start_time": "2025-03-24T20:28:51.387518Z"
    }
   },
   "cell_type": "code",
   "source": "ghz_matrix = (-1) * Statevector(ghz_circ)",
   "id": "4c152f83969dfb92",
   "outputs": [],
   "execution_count": 57
  },
  {
   "metadata": {
    "ExecuteTime": {
     "end_time": "2025-03-24T20:28:51.432154Z",
     "start_time": "2025-03-24T20:28:51.407086Z"
    }
   },
   "cell_type": "code",
   "source": "ghz_matrix.draw('latex')",
   "id": "2e779e4b7214faa4",
   "outputs": [
    {
     "data": {
      "text/plain": [
       "<IPython.core.display.Latex object>"
      ],
      "text/latex": "$$\\frac{\\sqrt{3}}{3} |000000\\rangle+\\frac{\\sqrt{3}}{3} |010101\\rangle+\\frac{\\sqrt{3}}{3} |101010\\rangle$$"
     },
     "execution_count": 58,
     "metadata": {},
     "output_type": "execute_result"
    }
   ],
   "execution_count": 58
  },
  {
   "metadata": {},
   "cell_type": "markdown",
   "source": "$\\ket{000}$ + $\\ket{111}$ + $\\ket{222}$",
   "id": "a59e76290ce0a60a"
  },
  {
   "metadata": {
    "ExecuteTime": {
     "end_time": "2025-03-24T20:28:51.448197Z",
     "start_time": "2025-03-24T20:28:51.438674Z"
    }
   },
   "cell_type": "code",
   "source": "Id = np.identity(4)",
   "id": "3c3a76e1633d40e4",
   "outputs": [],
   "execution_count": 59
  },
  {
   "metadata": {},
   "cell_type": "markdown",
   "source": "Zmienic generatory na baze taka w jakiej jest ghz",
   "id": "bc4f213eefd36749"
  },
  {
   "metadata": {},
   "cell_type": "markdown",
   "source": "Sprawdzic wszystkie mozliwosci dla stabilizatorow, porownac z orginalnymi stabilizatorami i jak przejsc z orginalnych do tych co wyszly",
   "id": "659147784935ef99"
  },
  {
   "metadata": {
    "ExecuteTime": {
     "end_time": "2025-03-24T20:28:51.463768Z",
     "start_time": "2025-03-24T20:28:51.454199Z"
    }
   },
   "cell_type": "code",
   "source": [
    "g1 = np.kron(np.kron(Z, X), X)\n",
    "g2 = np.kron(np.kron(X, Z), np.identity(4))\n",
    "g3 = np.kron(np.kron(X, np.identity(4)), Z)"
   ],
   "id": "d11fed07f4e1314e",
   "outputs": [],
   "execution_count": 60
  },
  {
   "metadata": {
    "ExecuteTime": {
     "end_time": "2025-03-24T20:28:51.495040Z",
     "start_time": "2025-03-24T20:28:51.474287Z"
    }
   },
   "cell_type": "code",
   "source": "multi_dot([Statevector(ghz_circ).data.conj().transpose(), g1, Statevector(ghz_circ).data])",
   "id": "590dbb9e7819066f",
   "outputs": [
    {
     "data": {
      "text/plain": [
       "np.complex128(-2.4421441894360897e-16+1.5402969882312747e-18j)"
      ]
     },
     "execution_count": 61,
     "metadata": {},
     "output_type": "execute_result"
    }
   ],
   "execution_count": 61
  },
  {
   "metadata": {
    "ExecuteTime": {
     "end_time": "2025-03-24T20:28:51.510501Z",
     "start_time": "2025-03-24T20:28:51.500557Z"
    }
   },
   "cell_type": "code",
   "source": [
    "obs_ghz = [Z, X, Id]\n",
    "obs_ghz_text = [\"Z\", \"X\", \"I\"]"
   ],
   "id": "c6610b2d62cb60a6",
   "outputs": [],
   "execution_count": 62
  },
  {
   "metadata": {
    "ExecuteTime": {
     "end_time": "2025-03-24T20:28:51.541816Z",
     "start_time": "2025-03-24T20:28:51.516504Z"
    }
   },
   "cell_type": "code",
   "source": [
    "for i, i2 in zip(obs_ghz, obs_ghz_text):\n",
    "    for j, j2 in zip(obs_ghz, obs_ghz_text):\n",
    "        for k, k2 in zip(obs_ghz, obs_ghz_text):\n",
    "            gener = np.kron(np.kron(i, j), k)\n",
    "            war_ocz = multi_dot([Statevector(ghz_circ).data.conj().transpose(), gener, Statevector(ghz_circ).data])\n",
    "            if war_ocz.round(4) != 0:\n",
    "                print(f'{i2}{j2}{k2}: {war_ocz.round(4)}')"
   ],
   "id": "615224cf23ebc80",
   "outputs": [
    {
     "name": "stdout",
     "output_type": "stream",
     "text": [
      "ZZZ: (1-0j)\n",
      "XXX: (1+0j)\n",
      "III: (1+0j)\n"
     ]
    }
   ],
   "execution_count": 63
  },
  {
   "metadata": {
    "ExecuteTime": {
     "end_time": "2025-03-24T20:28:51.557880Z",
     "start_time": "2025-03-24T20:28:51.550350Z"
    }
   },
   "cell_type": "code",
   "source": "g1.shape",
   "id": "64a81c1e9572fbd1",
   "outputs": [
    {
     "data": {
      "text/plain": [
       "(64, 64)"
      ]
     },
     "execution_count": 64,
     "metadata": {},
     "output_type": "execute_result"
    }
   ],
   "execution_count": 64
  },
  {
   "metadata": {
    "ExecuteTime": {
     "end_time": "2025-03-24T20:28:51.588321Z",
     "start_time": "2025-03-24T20:28:51.572402Z"
    }
   },
   "cell_type": "code",
   "source": [
    "def stabilizator_finder(psi, Z, X, I):\n",
    "    ops = [Z, X, I]\n",
    "    names = [\"Z\", \"X\", \"I\"]\n",
    "    result_dict = {}\n",
    "    for (i, i_name) in zip(ops, names):\n",
    "        for (j, j_name) in zip(ops, names):\n",
    "            for (k, k_name) in zip(ops, names):\n",
    "                gen = np.kron(np.kron(i, j), k)\n",
    "                ev = multi_dot([psi.conj().transpose(), gen, psi])\n",
    "                result_dict[f'{i_name}{j_name}{k_name}'] = np.real(ev.round(5).item())\n",
    "\n",
    "    nonzero = {}\n",
    "\n",
    "    for i in result_dict:\n",
    "        if result_dict[i] != 0:\n",
    "            nonzero[i] = result_dict[i]\n",
    "\n",
    "    return [result_dict, nonzero]"
   ],
   "id": "87ce1471e5ec5017",
   "outputs": [],
   "execution_count": 65
  },
  {
   "metadata": {
    "ExecuteTime": {
     "end_time": "2025-03-24T20:28:51.619922Z",
     "start_time": "2025-03-24T20:28:51.593333Z"
    }
   },
   "cell_type": "code",
   "source": "res = stabilizator_finder(ghz_matrix.data, Z, X, Id)",
   "id": "c67fb50c415d2161",
   "outputs": [],
   "execution_count": 66
  },
  {
   "metadata": {
    "ExecuteTime": {
     "end_time": "2025-03-24T20:28:51.635427Z",
     "start_time": "2025-03-24T20:28:51.626416Z"
    }
   },
   "cell_type": "code",
   "source": "res[1]",
   "id": "dafc71891225a709",
   "outputs": [
    {
     "data": {
      "text/plain": [
       "{'ZZZ': 1.0, 'XXX': 1.0, 'III': 1.0}"
      ]
     },
     "execution_count": 67,
     "metadata": {},
     "output_type": "execute_result"
    }
   ],
   "execution_count": 67
  },
  {
   "metadata": {
    "ExecuteTime": {
     "end_time": "2025-03-24T20:28:51.665626Z",
     "start_time": "2025-03-24T20:28:51.652095Z"
    }
   },
   "cell_type": "code",
   "source": "res",
   "id": "6fb2d3af06a29413",
   "outputs": [
    {
     "data": {
      "text/plain": [
       "[{'ZZZ': 1.0,\n",
       "  'ZZX': -0.0,\n",
       "  'ZZI': -0.0,\n",
       "  'ZXZ': 0.0,\n",
       "  'ZXX': -0.0,\n",
       "  'ZXI': 0.0,\n",
       "  'ZIZ': -0.0,\n",
       "  'ZIX': -0.0,\n",
       "  'ZII': -0.0,\n",
       "  'XZZ': 0.0,\n",
       "  'XZX': -0.0,\n",
       "  'XZI': 0.0,\n",
       "  'XXZ': -0.0,\n",
       "  'XXX': 1.0,\n",
       "  'XXI': 0.0,\n",
       "  'XIZ': 0.0,\n",
       "  'XIX': -0.0,\n",
       "  'XII': -0.0,\n",
       "  'IZZ': -0.0,\n",
       "  'IZX': -0.0,\n",
       "  'IZI': -0.0,\n",
       "  'IXZ': 0.0,\n",
       "  'IXX': -0.0,\n",
       "  'IXI': -0.0,\n",
       "  'IIZ': -0.0,\n",
       "  'IIX': 0.0,\n",
       "  'III': 1.0},\n",
       " {'ZZZ': 1.0, 'XXX': 1.0, 'III': 1.0}]"
      ]
     },
     "execution_count": 68,
     "metadata": {},
     "output_type": "execute_result"
    }
   ],
   "execution_count": 68
  },
  {
   "metadata": {},
   "cell_type": "markdown",
   "source": "Przed zmiana bazy na baze podstawowa",
   "id": "19b59531dd1f9f43"
  },
  {
   "metadata": {
    "ExecuteTime": {
     "end_time": "2025-03-24T20:28:51.806515Z",
     "start_time": "2025-03-24T20:28:51.679712Z"
    }
   },
   "cell_type": "code",
   "source": "ghz_circ_raw = QuditsOnQubits().circuit[0]",
   "id": "554f244eb835e1f7",
   "outputs": [],
   "execution_count": 69
  },
  {
   "metadata": {
    "ExecuteTime": {
     "end_time": "2025-03-24T20:28:51.949502Z",
     "start_time": "2025-03-24T20:28:51.812907Z"
    }
   },
   "cell_type": "code",
   "source": "Statevector(ghz_circ_raw).draw('latex')",
   "id": "d86bd0590021a9ae",
   "outputs": [
    {
     "data": {
      "text/plain": [
       "<IPython.core.display.Latex object>"
      ],
      "text/latex": "$$- \\frac{\\sqrt{3}}{9} |000000\\rangle- \\frac{\\sqrt{3}}{9} |000001\\rangle- \\frac{\\sqrt{3}}{9} |000010\\rangle- \\frac{\\sqrt{3}}{9} |000100\\rangle+(0.0962250449 - 0.1666666667 i) |000101\\rangle+(0.0962250449 + 0.1666666667 i) |000110\\rangle + \\ldots - \\frac{\\sqrt{3}}{9} |100101\\rangle- \\frac{\\sqrt{3}}{9} |100110\\rangle- \\frac{\\sqrt{3}}{9} |101000\\rangle+(0.0962250449 - 0.1666666667 i) |101001\\rangle+(0.0962250449 + 0.1666666667 i) |101010\\rangle$$"
     },
     "execution_count": 70,
     "metadata": {},
     "output_type": "execute_result"
    }
   ],
   "execution_count": 70
  },
  {
   "metadata": {
    "ExecuteTime": {
     "end_time": "2025-03-24T20:28:51.980969Z",
     "start_time": "2025-03-24T20:28:51.957997Z"
    }
   },
   "cell_type": "code",
   "source": "ghz_raw_mtx = Statevector(ghz_circ_raw).data",
   "id": "139277482357d37f",
   "outputs": [],
   "execution_count": 71
  },
  {
   "metadata": {
    "ExecuteTime": {
     "end_time": "2025-03-24T20:28:52.011959Z",
     "start_time": "2025-03-24T20:28:51.992524Z"
    }
   },
   "cell_type": "code",
   "source": "np.count_nonzero(ghz_raw_mtx)",
   "id": "d4915d5613c3e27b",
   "outputs": [
    {
     "data": {
      "text/plain": [
       "64"
      ]
     },
     "execution_count": 72,
     "metadata": {},
     "output_type": "execute_result"
    }
   ],
   "execution_count": 72
  },
  {
   "metadata": {
    "ExecuteTime": {
     "end_time": "2025-03-24T20:28:52.043597Z",
     "start_time": "2025-03-24T20:28:52.017491Z"
    }
   },
   "cell_type": "code",
   "source": "ghz_raw_obs = stabilizator_finder(ghz_raw_mtx, Z, X, Id)",
   "id": "37058ccc29790283",
   "outputs": [],
   "execution_count": 73
  },
  {
   "metadata": {
    "ExecuteTime": {
     "end_time": "2025-03-24T20:28:52.059643Z",
     "start_time": "2025-03-24T20:28:52.051103Z"
    }
   },
   "cell_type": "code",
   "source": "ghz_raw_obs[1]",
   "id": "57a3081963915fb0",
   "outputs": [
    {
     "data": {
      "text/plain": [
       "{'ZZX': 1.0, 'XIZ': 1.0, 'IXZ': 1.0, 'III': 1.0}"
      ]
     },
     "execution_count": 74,
     "metadata": {},
     "output_type": "execute_result"
    }
   ],
   "execution_count": 74
  },
  {
   "metadata": {
    "ExecuteTime": {
     "end_time": "2025-03-24T20:28:52.075192Z",
     "start_time": "2025-03-24T20:28:52.066168Z"
    }
   },
   "cell_type": "code",
   "source": "from itertools import product",
   "id": "d26ea5b86e828d5e",
   "outputs": [],
   "execution_count": 75
  },
  {
   "metadata": {
    "ExecuteTime": {
     "end_time": "2025-03-24T20:28:52.106445Z",
     "start_time": "2025-03-24T20:28:52.081375Z"
    }
   },
   "cell_type": "code",
   "source": [
    "def ame43_checker_gen(ameMTX, Z, X, I):\n",
    "    ops = [Z, X, I]\n",
    "    names = [\"Z\", \"X\", \"I\"]\n",
    "\n",
    "    G1_dict = {}\n",
    "    G1G2_dict = {}\n",
    "    G1G2pow2_dict = {}\n",
    "    G3_dict = {}\n",
    "    G1G4_dict = {}\n",
    "\n",
    "    tensor_symbol = \"\\u2297\"\n",
    "\n",
    "    for combination in product(zip(ops, names), repeat=9):\n",
    "\n",
    "            if len(G1_dict) > 2 and len(G1G2_dict) > 2 and len(G1G2pow2_dict) > 2 and len(G3_dict) > 2 and len(G1G4_dict) > 2:\n",
    "                break\n",
    "\n",
    "            (i, i2), (j, j2), (k, k2), (l, l2), (m, m2), (n, n2), (o, o2), (p, p2), (q, q2) = combination\n",
    "            G1 = np.kron(np.kron(np.kron(i, j), k), l)\n",
    "            G1G2 = np.kron(np.kron(np.kron(np.dot(i, j), np.dot(k, l)), m), n)\n",
    "            G1G2pow2 = np.kron(np.kron(np.kron(multi_dot([i, j, k]), multi_dot([l, m, n])), multi_dot([o, p])), q)\n",
    "            G3 = np.kron(np.kron(np.kron(i, j), k), multi_dot([l, m]))\n",
    "            G1G4 = np.kron(np.kron(np.kron(multi_dot([i, j]), k), multi_dot([l, m])), multi_dot([n, o]))\n",
    "\n",
    "            G1_text = f'{i2}{tensor_symbol}{j2}{tensor_symbol}{k2}{tensor_symbol}{l2}'\n",
    "\n",
    "            G1G2_text = f'{i2}{j2}{tensor_symbol}{k2}{l2}{tensor_symbol}{m2}{tensor_symbol}{n2}'\n",
    "\n",
    "            G1G2pow2_text = f'{i2}{j2}{k2}{tensor_symbol}{l2}{m2}{n2}{tensor_symbol}{o2}{p2}{tensor_symbol}{q2}'\n",
    "\n",
    "            G3_text = f'{i2}{tensor_symbol}{j2}{tensor_symbol}{k2}{tensor_symbol}{l2}{m2}'\n",
    "\n",
    "            G1G4_text = f'{i2}{j2}{tensor_symbol}{k2}{tensor_symbol}{l2}{m2}{tensor_symbol}{n2}{o2}'\n",
    "\n",
    "            evG1 = multi_dot([ameMTX.conj().transpose(), G1, ameMTX])\n",
    "            evG1G2 = multi_dot([ameMTX.conj().transpose(), G1G2, ameMTX])\n",
    "            evG1G2pow2 = multi_dot([ameMTX.conj().transpose(), G1G2pow2, ameMTX])\n",
    "            evG3 = multi_dot([ameMTX.conj().transpose(), G3, ameMTX])\n",
    "            evG1G4 = multi_dot([ameMTX.conj().transpose(), G1G4, ameMTX])\n",
    "\n",
    "            ev_list = [evG1, evG1G2, evG1G2pow2, evG3, evG1G4]\n",
    "\n",
    "            if evG1.round(4) != 0 and G1_text not in G1_dict:\n",
    "                G1_dict[G1_text] = evG1.round(4)\n",
    "            if evG1G2.round(4) != 0 and G1G2_text not in G1G2_dict:\n",
    "                G1G2_dict[G1G2_text] = evG1G2.round(4)\n",
    "            if evG1G2pow2.round(4) != 0 and G1G2pow2_text not in G1G2pow2_dict:\n",
    "                G1G2pow2_dict[G1G2pow2_text] = evG1G2pow2.round(4)\n",
    "            if evG3.round(4) != 0 and G3_text not in G3_dict:\n",
    "                G3_dict[G3_text] = evG3.round(4)\n",
    "            if evG1G4.round(4) != 0 and G1G4_text not in G1G4_dict:\n",
    "                G1G4_dict[G1G4_text] = evG1G4.round(4)\n",
    "\n",
    "            if any(x.round(4) != 0 for x in ev_list):\n",
    "                print(f'G1: {G1_text} => {evG1.round(4)}')\n",
    "                print(f'G1G2: {G1G2_text} => {evG1G2.round(4)}')\n",
    "                print(f'G1G2pow2: {G1G2pow2_text} => {evG1G2pow2.round(4)}')\n",
    "                print(f'G3: {G3_text} => {evG3.round(4)}')\n",
    "                print(f'G1G4: {G1G4_text} => {evG1G4.round(4)}')\n",
    "                print(\"----------------------------------\")\n",
    "\n",
    "    return G1_dict, G1G2_dict, G1G2pow2_dict, G3_dict, G1G4_dict\n",
    "\n"
   ],
   "id": "5dbd743b6b63d5",
   "outputs": [],
   "execution_count": 76
  },
  {
   "metadata": {
    "ExecuteTime": {
     "end_time": "2025-03-24T20:28:52.122473Z",
     "start_time": "2025-03-24T20:28:52.113974Z"
    }
   },
   "cell_type": "code",
   "source": "#g1List, g1g2List, g1g2pow2List, g3List, g1g4List = ame43_checker_gen(ame43state, Z, X, Id)",
   "id": "a7e0de101330d8e9",
   "outputs": [],
   "execution_count": 77
  },
  {
   "metadata": {},
   "cell_type": "markdown",
   "source": "Reczne obliczanie zakodowanego ame43 na qubitach",
   "id": "7a0f27dfc4104b7f"
  },
  {
   "metadata": {
    "ExecuteTime": {
     "end_time": "2025-03-24T20:28:52.138345Z",
     "start_time": "2025-03-24T20:28:52.128798Z"
    }
   },
   "cell_type": "code",
   "source": [
    "enQ0 = np.kron(qubit0, qubit0)\n",
    "enQ1 = np.kron(qubit0, qubit1)\n",
    "enQ2 = np.kron(qubit1, qubit0)"
   ],
   "id": "e5b940d1a2a94f94",
   "outputs": [],
   "execution_count": 78
  },
  {
   "metadata": {
    "ExecuteTime": {
     "end_time": "2025-03-24T20:28:52.169454Z",
     "start_time": "2025-03-24T20:28:52.144330Z"
    }
   },
   "cell_type": "code",
   "source": [
    "pi = np.pi\n",
    "sqrt = np.sqrt\n",
    "log = np.log\n",
    "\n",
    "common_log_term = log(-1 / 6 * (-1) ** (1 / 4) * (sqrt(24 - 6 * sqrt(3)) + 1j * (3 + sqrt(3))))\n",
    "common_factor = 3j + 1j * sqrt(3) + sqrt(6 * (4 - sqrt(3)))\n",
    "denominator = 15 * pi - 4 * 1j * common_log_term\n",
    "\n",
    "VCx = np.array([\n",
    "    [\n",
    "        -(((-1) ** (5 / 8) * common_factor * (30 * pi - 8 * 1j * common_log_term)) / (24 * denominator)) +\n",
    "        (3 * (-1) ** (5 / 8) * (-30 * pi + 8 * 1j * common_log_term)) / (2 * common_factor * denominator),\n",
    "        0,\n",
    "        0,\n",
    "        (3 * (-1) ** (5 / 8) * (-30 * pi + 8 * 1j * common_log_term)) / (2 * common_factor * denominator) -\n",
    "        ((-1) ** (5 / 8) * common_factor * (-30 * pi + 8 * 1j * common_log_term)) / (24 * denominator)\n",
    "    ],\n",
    "    [\n",
    "        0,\n",
    "        -(1 / 2) * (-1) ** (1 / 8) - (1 / 2) * (-1) ** (5 / 8),\n",
    "        -(1 / 2) * (-1) ** (1 / 8) + (1 / 2) * (-1) ** (5 / 8),\n",
    "        0\n",
    "    ],\n",
    "    [\n",
    "        0,\n",
    "        -(1 / 2) * (-1) ** (1 / 8) + (1 / 2) * (-1) ** (5 / 8),\n",
    "        -(1 / 2) * (-1) ** (1 / 8) - (1 / 2) * (-1) ** (5 / 8),\n",
    "        0\n",
    "    ],\n",
    "    [\n",
    "        (3 * (-1) ** (5 / 8) * (-30 * pi + 8 * 1j * common_log_term)) / (2 * common_factor * denominator) -\n",
    "        ((-1) ** (5 / 8) * common_factor * (-30 * pi + 8 * 1j * common_log_term)) / (24 * denominator),\n",
    "        0,\n",
    "        0,\n",
    "        -(((-1) ** (5 / 8) * common_factor * (30 * pi - 8 * 1j * common_log_term)) / (24 * denominator)) +\n",
    "        (3 * (-1) ** (5 / 8) * (-30 * pi + 8 * 1j * common_log_term)) / (2 * common_factor * denominator)\n",
    "    ]\n",
    "], dtype=complex)"
   ],
   "id": "5b1b4f390fbdfcee",
   "outputs": [],
   "execution_count": 79
  },
  {
   "metadata": {
    "ExecuteTime": {
     "end_time": "2025-03-24T20:28:52.200903Z",
     "start_time": "2025-03-24T20:28:52.176496Z"
    }
   },
   "cell_type": "code",
   "source": "Statevector(ame43circ).data.round(5)",
   "id": "65f5e734674d2cd3",
   "outputs": [
    {
     "data": {
      "text/plain": [
       "array([ 0.11111+0.j     ,  0.11111+0.j     ,  0.11111+0.j     ,\n",
       "       -0.     +0.j     ,  0.11111+0.j     , -0.05556+0.09623j,\n",
       "       -0.05556-0.09623j, -0.     +0.j     ,  0.11111+0.j     ,\n",
       "       -0.05556-0.09623j, -0.05556+0.09623j, -0.     +0.j     ,\n",
       "       -0.     +0.j     , -0.     +0.j     , -0.     +0.j     ,\n",
       "       -0.     -0.j     ,  0.11111+0.j     ,  0.11111+0.j     ,\n",
       "        0.11111+0.j     , -0.     +0.j     , -0.05556+0.09623j,\n",
       "       -0.05556-0.09623j,  0.11111+0.j     , -0.     -0.j     ,\n",
       "       -0.05556-0.09623j, -0.05556+0.09623j,  0.11111+0.j     ,\n",
       "        0.     -0.j     , -0.     +0.j     , -0.     +0.j     ,\n",
       "       -0.     +0.j     , -0.     -0.j     ,  0.11111+0.j     ,\n",
       "        0.11111+0.j     ,  0.11111+0.j     , -0.     +0.j     ,\n",
       "       -0.05556-0.09623j,  0.11111+0.j     , -0.05556+0.09623j,\n",
       "        0.     -0.j     , -0.05556+0.09623j,  0.11111+0.j     ,\n",
       "       -0.05556-0.09623j, -0.     -0.j     , -0.     +0.j     ,\n",
       "       -0.     +0.j     , -0.     +0.j     , -0.     -0.j     ,\n",
       "       -0.     +0.j     , -0.     +0.j     , -0.     +0.j     ,\n",
       "       -0.     -0.j     , -0.     +0.j     , -0.     -0.j     ,\n",
       "        0.     -0.j     , -0.     -0.j     , -0.     +0.j     ,\n",
       "        0.     -0.j     , -0.     -0.j     , -0.     -0.j     ,\n",
       "       -0.     -0.j     , -0.     -0.j     , -0.     -0.j     ,\n",
       "        0.     -0.j     ,  0.11111+0.j     , -0.05556+0.09623j,\n",
       "       -0.05556-0.09623j, -0.     +0.j     ,  0.11111+0.j     ,\n",
       "       -0.05556-0.09623j, -0.05556+0.09623j, -0.     +0.j     ,\n",
       "        0.11111+0.j     ,  0.11111+0.j     ,  0.11111+0.j     ,\n",
       "       -0.     +0.j     , -0.     +0.j     , -0.     -0.j     ,\n",
       "        0.     -0.j     , -0.     -0.j     , -0.05556-0.09623j,\n",
       "        0.11111+0.j     , -0.05556+0.09623j,  0.     -0.j     ,\n",
       "        0.11111+0.j     , -0.05556-0.09623j, -0.05556+0.09623j,\n",
       "       -0.     +0.j     , -0.05556+0.09623j, -0.05556+0.09623j,\n",
       "       -0.05556+0.09623j, -0.     -0.j     ,  0.     -0.j     ,\n",
       "       -0.     +0.j     , -0.     -0.j     , -0.     +0.j     ,\n",
       "       -0.05556+0.09623j, -0.05556-0.09623j,  0.11111+0.j     ,\n",
       "       -0.     -0.j     ,  0.11111+0.j     , -0.05556-0.09623j,\n",
       "       -0.05556+0.09623j, -0.     +0.j     , -0.05556-0.09623j,\n",
       "       -0.05556-0.09623j, -0.05556-0.09623j,  0.     -0.j     ,\n",
       "       -0.     -0.j     ,  0.     -0.j     , -0.     +0.j     ,\n",
       "        0.     -0.j     , -0.     +0.j     , -0.     -0.j     ,\n",
       "        0.     -0.j     , -0.     -0.j     , -0.     +0.j     ,\n",
       "        0.     -0.j     , -0.     -0.j     , -0.     -0.j     ,\n",
       "       -0.     +0.j     , -0.     +0.j     , -0.     +0.j     ,\n",
       "       -0.     -0.j     , -0.     -0.j     ,  0.     -0.j     ,\n",
       "       -0.     +0.j     ,  0.     -0.j     ,  0.11111+0.j     ,\n",
       "       -0.05556-0.09623j, -0.05556+0.09623j, -0.     +0.j     ,\n",
       "        0.11111+0.j     ,  0.11111+0.j     ,  0.11111+0.j     ,\n",
       "       -0.     +0.j     ,  0.11111+0.j     , -0.05556+0.09623j,\n",
       "       -0.05556-0.09623j, -0.     +0.j     , -0.     +0.j     ,\n",
       "        0.     -0.j     , -0.     -0.j     , -0.     -0.j     ,\n",
       "       -0.05556+0.09623j,  0.11111+0.j     , -0.05556-0.09623j,\n",
       "       -0.     -0.j     , -0.05556-0.09623j, -0.05556-0.09623j,\n",
       "       -0.05556-0.09623j,  0.     -0.j     ,  0.11111+0.j     ,\n",
       "       -0.05556+0.09623j, -0.05556-0.09623j, -0.     +0.j     ,\n",
       "       -0.     -0.j     , -0.     +0.j     ,  0.     -0.j     ,\n",
       "        0.     -0.j     , -0.05556-0.09623j, -0.05556+0.09623j,\n",
       "        0.11111-0.j     ,  0.     -0.j     , -0.05556+0.09623j,\n",
       "       -0.05556+0.09623j, -0.05556+0.09623j, -0.     -0.j     ,\n",
       "        0.11111-0.j     , -0.05556+0.09623j, -0.05556-0.09623j,\n",
       "       -0.     +0.j     ,  0.     -0.j     , -0.     -0.j     ,\n",
       "       -0.     +0.j     , -0.     +0.j     , -0.     +0.j     ,\n",
       "        0.     -0.j     , -0.     -0.j     , -0.     -0.j     ,\n",
       "       -0.     +0.j     , -0.     +0.j     , -0.     +0.j     ,\n",
       "       -0.     -0.j     , -0.     +0.j     , -0.     -0.j     ,\n",
       "        0.     -0.j     , -0.     -0.j     , -0.     -0.j     ,\n",
       "        0.     +0.j     ,  0.     -0.j     ,  0.     -0.j     ,\n",
       "       -0.     +0.j     , -0.     +0.j     , -0.     +0.j     ,\n",
       "       -0.     -0.j     , -0.     +0.j     , -0.     -0.j     ,\n",
       "        0.     -0.j     , -0.     -0.j     , -0.     +0.j     ,\n",
       "        0.     -0.j     , -0.     -0.j     , -0.     -0.j     ,\n",
       "       -0.     -0.j     , -0.     -0.j     , -0.     -0.j     ,\n",
       "        0.     -0.j     , -0.     +0.j     , -0.     +0.j     ,\n",
       "       -0.     +0.j     , -0.     -0.j     , -0.     -0.j     ,\n",
       "        0.     -0.j     , -0.     +0.j     ,  0.     -0.j     ,\n",
       "        0.     -0.j     , -0.     -0.j     , -0.     +0.j     ,\n",
       "       -0.     +0.j     , -0.     -0.j     , -0.     -0.j     ,\n",
       "       -0.     -0.j     ,  0.     -0.j     , -0.     +0.j     ,\n",
       "       -0.     +0.j     , -0.     +0.j     , -0.     -0.j     ,\n",
       "        0.     -0.j     , -0.     +0.j     , -0.     -0.j     ,\n",
       "       -0.     +0.j     , -0.     -0.j     , -0.     +0.j     ,\n",
       "        0.     -0.j     ,  0.     -0.j     , -0.     -0.j     ,\n",
       "       -0.     -0.j     , -0.     -0.j     ,  0.     -0.j     ,\n",
       "       -0.     -0.j     , -0.     -0.j     , -0.     -0.j     ,\n",
       "        0.     -0.j     , -0.     -0.j     ,  0.     -0.j     ,\n",
       "        0.     +0.j     ,  0.     -0.j     , -0.     -0.j     ,\n",
       "       -0.     +0.j     ,  0.     -0.j     ,  0.     -0.j     ,\n",
       "        0.     -0.j     ,  0.     -0.j     ,  0.     -0.j     ,\n",
       "        0.     +0.j     ])"
      ]
     },
     "execution_count": 80,
     "metadata": {},
     "output_type": "execute_result"
    }
   ],
   "execution_count": 80
  },
  {
   "metadata": {},
   "cell_type": "code",
   "source": "Math(sympy.latex(vect_sympy2))",
   "id": "9eff85b0c30ebbf1",
   "outputs": [],
   "execution_count": null
  },
  {
   "metadata": {
    "ExecuteTime": {
     "end_time": "2025-03-24T20:28:52.263438Z",
     "start_time": "2025-03-24T20:28:52.254911Z"
    }
   },
   "cell_type": "code",
   "source": [
    "from qiskit.circuit import QuantumCircuit\n",
    "import numpy as np\n",
    "\n",
    "def CZqutrit():\n",
    "    circ = QuantumCircuit(4, name=\"CZ\")\n",
    "\n",
    "    omegaCZ = 2*np.pi/3\n",
    "\n",
    "    circ.cp(omegaCZ, 2, 0)\n",
    "    circ.cp(omegaCZ, 3, 1)\n",
    "    circ.cp(-1 * omegaCZ, 3, 0)\n",
    "    circ.cp(-1 * omegaCZ, 2, 1)\n",
    "\n",
    "    return circ"
   ],
   "id": "3ba077cc616e4b6a",
   "outputs": [],
   "execution_count": 82
  },
  {
   "metadata": {
    "ExecuteTime": {
     "end_time": "2025-03-24T20:28:52.294987Z",
     "start_time": "2025-03-24T20:28:52.273966Z"
    }
   },
   "cell_type": "code",
   "source": [
    "CzCirc = QuantumCircuit(4)\n",
    "CzCirc.h(0)\n",
    "CzCirc.append(CZqutrit(), [0, 1, 2, 3])"
   ],
   "id": "c22a96f543646d47",
   "outputs": [
    {
     "data": {
      "text/plain": [
       "<qiskit.circuit.instructionset.InstructionSet at 0x282d040e5f0>"
      ]
     },
     "execution_count": 83,
     "metadata": {},
     "output_type": "execute_result"
    }
   ],
   "execution_count": 83
  },
  {
   "metadata": {
    "ExecuteTime": {
     "end_time": "2025-03-24T20:28:52.467703Z",
     "start_time": "2025-03-24T20:28:52.302512Z"
    }
   },
   "cell_type": "code",
   "source": "CzCirc.decompose().draw('mpl')",
   "id": "a4553ca1844f405e",
   "outputs": [
    {
     "data": {
      "text/plain": [
       "<Figure size 789.163x367.889 with 1 Axes>"
      ],
      "image/png": "[encoded data removed]"
     },
     "execution_count": 84,
     "metadata": {},
     "output_type": "execute_result"
    }
   ],
   "execution_count": 84
  },
  {
   "metadata": {
    "ExecuteTime": {
     "end_time": "2025-03-24T20:28:52.498521Z",
     "start_time": "2025-03-24T20:28:52.478239Z"
    }
   },
   "cell_type": "code",
   "source": [
    "from qiskit.quantum_info import Statevector\n",
    "mtx = Statevector(CzCirc).to_operator()"
   ],
   "id": "ea89f37575144ecf",
   "outputs": [],
   "execution_count": 85
  },
  {
   "metadata": {
    "ExecuteTime": {
     "end_time": "2025-03-24T20:28:52.529870Z",
     "start_time": "2025-03-24T20:28:52.506638Z"
    }
   },
   "cell_type": "code",
   "source": "mtx",
   "id": "df8769be006d6439",
   "outputs": [
    {
     "name": "stdout",
     "output_type": "stream",
     "text": [
      "Operator([[0.5+0.j, 0.5+0.j, 0. +0.j, 0. +0.j, 0. +0.j, 0. +0.j, 0. +0.j,\n",
      "           0. +0.j, 0. +0.j, 0. +0.j, 0. +0.j, 0. +0.j, 0. +0.j, 0. +0.j,\n",
      "           0. +0.j, 0. +0.j],\n",
      "          [0.5+0.j, 0.5+0.j, 0. +0.j, 0. +0.j, 0. +0.j, 0. +0.j, 0. +0.j,\n",
      "           0. +0.j, 0. +0.j, 0. +0.j, 0. +0.j, 0. +0.j, 0. +0.j, 0. +0.j,\n",
      "           0. +0.j, 0. +0.j],\n",
      "          [0. +0.j, 0. +0.j, 0. +0.j, 0. +0.j, 0. +0.j, 0. +0.j, 0. +0.j,\n",
      "           0. +0.j, 0. +0.j, 0. +0.j, 0. +0.j, 0. +0.j, 0. +0.j, 0. +0.j,\n",
      "           0. +0.j, 0. +0.j],\n",
      "          [0. +0.j, 0. +0.j, 0. +0.j, 0. +0.j, 0. +0.j, 0. +0.j, 0. +0.j,\n",
      "           0. +0.j, 0. +0.j, 0. +0.j, 0. +0.j, 0. +0.j, 0. +0.j, 0. +0.j,\n",
      "           0. +0.j, 0. +0.j],\n",
      "          [0. +0.j, 0. +0.j, 0. +0.j, 0. +0.j, 0. +0.j, 0. +0.j, 0. +0.j,\n",
      "           0. +0.j, 0. +0.j, 0. +0.j, 0. +0.j, 0. +0.j, 0. +0.j, 0. +0.j,\n",
      "           0. +0.j, 0. +0.j],\n",
      "          [0. +0.j, 0. +0.j, 0. +0.j, 0. +0.j, 0. +0.j, 0. +0.j, 0. +0.j,\n",
      "           0. +0.j, 0. +0.j, 0. +0.j, 0. +0.j, 0. +0.j, 0. +0.j, 0. +0.j,\n",
      "           0. +0.j, 0. +0.j],\n",
      "          [0. +0.j, 0. +0.j, 0. +0.j, 0. +0.j, 0. +0.j, 0. +0.j, 0. +0.j,\n",
      "           0. +0.j, 0. +0.j, 0. +0.j, 0. +0.j, 0. +0.j, 0. +0.j, 0. +0.j,\n",
      "           0. +0.j, 0. +0.j],\n",
      "          [0. +0.j, 0. +0.j, 0. +0.j, 0. +0.j, 0. +0.j, 0. +0.j, 0. +0.j,\n",
      "           0. +0.j, 0. +0.j, 0. +0.j, 0. +0.j, 0. +0.j, 0. +0.j, 0. +0.j,\n",
      "           0. +0.j, 0. +0.j],\n",
      "          [0. +0.j, 0. +0.j, 0. +0.j, 0. +0.j, 0. +0.j, 0. +0.j, 0. +0.j,\n",
      "           0. +0.j, 0. +0.j, 0. +0.j, 0. +0.j, 0. +0.j, 0. +0.j, 0. +0.j,\n",
      "           0. +0.j, 0. +0.j],\n",
      "          [0. +0.j, 0. +0.j, 0. +0.j, 0. +0.j, 0. +0.j, 0. +0.j, 0. +0.j,\n",
      "           0. +0.j, 0. +0.j, 0. +0.j, 0. +0.j, 0. +0.j, 0. +0.j, 0. +0.j,\n",
      "           0. +0.j, 0. +0.j],\n",
      "          [0. +0.j, 0. +0.j, 0. +0.j, 0. +0.j, 0. +0.j, 0. +0.j, 0. +0.j,\n",
      "           0. +0.j, 0. +0.j, 0. +0.j, 0. +0.j, 0. +0.j, 0. +0.j, 0. +0.j,\n",
      "           0. +0.j, 0. +0.j],\n",
      "          [0. +0.j, 0. +0.j, 0. +0.j, 0. +0.j, 0. +0.j, 0. +0.j, 0. +0.j,\n",
      "           0. +0.j, 0. +0.j, 0. +0.j, 0. +0.j, 0. +0.j, 0. +0.j, 0. +0.j,\n",
      "           0. +0.j, 0. +0.j],\n",
      "          [0. +0.j, 0. +0.j, 0. +0.j, 0. +0.j, 0. +0.j, 0. +0.j, 0. +0.j,\n",
      "           0. +0.j, 0. +0.j, 0. +0.j, 0. +0.j, 0. +0.j, 0. +0.j, 0. +0.j,\n",
      "           0. +0.j, 0. +0.j],\n",
      "          [0. +0.j, 0. +0.j, 0. +0.j, 0. +0.j, 0. +0.j, 0. +0.j, 0. +0.j,\n",
      "           0. +0.j, 0. +0.j, 0. +0.j, 0. +0.j, 0. +0.j, 0. +0.j, 0. +0.j,\n",
      "           0. +0.j, 0. +0.j],\n",
      "          [0. +0.j, 0. +0.j, 0. +0.j, 0. +0.j, 0. +0.j, 0. +0.j, 0. +0.j,\n",
      "           0. +0.j, 0. +0.j, 0. +0.j, 0. +0.j, 0. +0.j, 0. +0.j, 0. +0.j,\n",
      "           0. +0.j, 0. +0.j],\n",
      "          [0. +0.j, 0. +0.j, 0. +0.j, 0. +0.j, 0. +0.j, 0. +0.j, 0. +0.j,\n",
      "           0. +0.j, 0. +0.j, 0. +0.j, 0. +0.j, 0. +0.j, 0. +0.j, 0. +0.j,\n",
      "           0. +0.j, 0. +0.j]],\n",
      "         input_dims=(2, 2, 2, 2), output_dims=(2, 2, 2, 2))\n"
     ]
    }
   ],
   "execution_count": 86
  },
  {
   "metadata": {
    "ExecuteTime": {
     "end_time": "2025-03-24T20:28:52.561300Z",
     "start_time": "2025-03-24T20:28:52.538422Z"
    }
   },
   "cell_type": "code",
   "source": "mtx",
   "id": "39ff94b71440cbd1",
   "outputs": [
    {
     "name": "stdout",
     "output_type": "stream",
     "text": [
      "Operator([[0.5+0.j, 0.5+0.j, 0. +0.j, 0. +0.j, 0. +0.j, 0. +0.j, 0. +0.j,\n",
      "           0. +0.j, 0. +0.j, 0. +0.j, 0. +0.j, 0. +0.j, 0. +0.j, 0. +0.j,\n",
      "           0. +0.j, 0. +0.j],\n",
      "          [0.5+0.j, 0.5+0.j, 0. +0.j, 0. +0.j, 0. +0.j, 0. +0.j, 0. +0.j,\n",
      "           0. +0.j, 0. +0.j, 0. +0.j, 0. +0.j, 0. +0.j, 0. +0.j, 0. +0.j,\n",
      "           0. +0.j, 0. +0.j],\n",
      "          [0. +0.j, 0. +0.j, 0. +0.j, 0. +0.j, 0. +0.j, 0. +0.j, 0. +0.j,\n",
      "           0. +0.j, 0. +0.j, 0. +0.j, 0. +0.j, 0. +0.j, 0. +0.j, 0. +0.j,\n",
      "           0. +0.j, 0. +0.j],\n",
      "          [0. +0.j, 0. +0.j, 0. +0.j, 0. +0.j, 0. +0.j, 0. +0.j, 0. +0.j,\n",
      "           0. +0.j, 0. +0.j, 0. +0.j, 0. +0.j, 0. +0.j, 0. +0.j, 0. +0.j,\n",
      "           0. +0.j, 0. +0.j],\n",
      "          [0. +0.j, 0. +0.j, 0. +0.j, 0. +0.j, 0. +0.j, 0. +0.j, 0. +0.j,\n",
      "           0. +0.j, 0. +0.j, 0. +0.j, 0. +0.j, 0. +0.j, 0. +0.j, 0. +0.j,\n",
      "           0. +0.j, 0. +0.j],\n",
      "          [0. +0.j, 0. +0.j, 0. +0.j, 0. +0.j, 0. +0.j, 0. +0.j, 0. +0.j,\n",
      "           0. +0.j, 0. +0.j, 0. +0.j, 0. +0.j, 0. +0.j, 0. +0.j, 0. +0.j,\n",
      "           0. +0.j, 0. +0.j],\n",
      "          [0. +0.j, 0. +0.j, 0. +0.j, 0. +0.j, 0. +0.j, 0. +0.j, 0. +0.j,\n",
      "           0. +0.j, 0. +0.j, 0. +0.j, 0. +0.j, 0. +0.j, 0. +0.j, 0. +0.j,\n",
      "           0. +0.j, 0. +0.j],\n",
      "          [0. +0.j, 0. +0.j, 0. +0.j, 0. +0.j, 0. +0.j, 0. +0.j, 0. +0.j,\n",
      "           0. +0.j, 0. +0.j, 0. +0.j, 0. +0.j, 0. +0.j, 0. +0.j, 0. +0.j,\n",
      "           0. +0.j, 0. +0.j],\n",
      "          [0. +0.j, 0. +0.j, 0. +0.j, 0. +0.j, 0. +0.j, 0. +0.j, 0. +0.j,\n",
      "           0. +0.j, 0. +0.j, 0. +0.j, 0. +0.j, 0. +0.j, 0. +0.j, 0. +0.j,\n",
      "           0. +0.j, 0. +0.j],\n",
      "          [0. +0.j, 0. +0.j, 0. +0.j, 0. +0.j, 0. +0.j, 0. +0.j, 0. +0.j,\n",
      "           0. +0.j, 0. +0.j, 0. +0.j, 0. +0.j, 0. +0.j, 0. +0.j, 0. +0.j,\n",
      "           0. +0.j, 0. +0.j],\n",
      "          [0. +0.j, 0. +0.j, 0. +0.j, 0. +0.j, 0. +0.j, 0. +0.j, 0. +0.j,\n",
      "           0. +0.j, 0. +0.j, 0. +0.j, 0. +0.j, 0. +0.j, 0. +0.j, 0. +0.j,\n",
      "           0. +0.j, 0. +0.j],\n",
      "          [0. +0.j, 0. +0.j, 0. +0.j, 0. +0.j, 0. +0.j, 0. +0.j, 0. +0.j,\n",
      "           0. +0.j, 0. +0.j, 0. +0.j, 0. +0.j, 0. +0.j, 0. +0.j, 0. +0.j,\n",
      "           0. +0.j, 0. +0.j],\n",
      "          [0. +0.j, 0. +0.j, 0. +0.j, 0. +0.j, 0. +0.j, 0. +0.j, 0. +0.j,\n",
      "           0. +0.j, 0. +0.j, 0. +0.j, 0. +0.j, 0. +0.j, 0. +0.j, 0. +0.j,\n",
      "           0. +0.j, 0. +0.j],\n",
      "          [0. +0.j, 0. +0.j, 0. +0.j, 0. +0.j, 0. +0.j, 0. +0.j, 0. +0.j,\n",
      "           0. +0.j, 0. +0.j, 0. +0.j, 0. +0.j, 0. +0.j, 0. +0.j, 0. +0.j,\n",
      "           0. +0.j, 0. +0.j],\n",
      "          [0. +0.j, 0. +0.j, 0. +0.j, 0. +0.j, 0. +0.j, 0. +0.j, 0. +0.j,\n",
      "           0. +0.j, 0. +0.j, 0. +0.j, 0. +0.j, 0. +0.j, 0. +0.j, 0. +0.j,\n",
      "           0. +0.j, 0. +0.j],\n",
      "          [0. +0.j, 0. +0.j, 0. +0.j, 0. +0.j, 0. +0.j, 0. +0.j, 0. +0.j,\n",
      "           0. +0.j, 0. +0.j, 0. +0.j, 0. +0.j, 0. +0.j, 0. +0.j, 0. +0.j,\n",
      "           0. +0.j, 0. +0.j]],\n",
      "         input_dims=(2, 2, 2, 2), output_dims=(2, 2, 2, 2))\n"
     ]
    }
   ],
   "execution_count": 87
  },
  {
   "metadata": {
    "ExecuteTime": {
     "end_time": "2025-03-24T20:28:52.576498Z",
     "start_time": "2025-03-24T20:28:52.566743Z"
    }
   },
   "cell_type": "code",
   "source": [
    "def CZ_03_encoded_qutrits():\n",
    "    # Definicje\n",
    "    omega = np.exp(2j * np.pi / 3)\n",
    "    diag_elements = np.ones(2**8, dtype=complex)  # 4 qutryty = 8 qubitów\n",
    "\n",
    "    # Kodowanie: 0 = '00', 1 = '10', 2 = '01'\n",
    "    encoding = {'00':0, '10':1, '01':2}\n",
    "\n",
    "    for idx in range(2**8):\n",
    "        binary_state = format(idx, '08b')  # stan qubitów: q0q1 q2q3 q4q5 q6q7\n",
    "\n",
    "        qutrit0_bits = binary_state[0:2]\n",
    "        qutrit3_bits = binary_state[6:8]\n",
    "\n",
    "        # Sprawdź czy bity odpowiadają poprawnemu kodowaniu qutrytów\n",
    "        if qutrit0_bits in encoding and qutrit3_bits in encoding:\n",
    "            qutrit0 = encoding[qutrit0_bits]\n",
    "            qutrit3 = encoding[qutrit3_bits]\n",
    "\n",
    "            diag_elements[idx] = omega ** (qutrit0 * qutrit3)\n",
    "        else:\n",
    "            # stany spoza kodowania (np. '11') pozostają z wartością 1\n",
    "            diag_elements[idx] = 1\n",
    "\n",
    "    return np.diag(diag_elements)"
   ],
   "id": "a8d20e630db416aa",
   "outputs": [],
   "execution_count": 88
  },
  {
   "metadata": {
    "ExecuteTime": {
     "end_time": "2025-03-24T20:28:52.591523Z",
     "start_time": "2025-03-24T20:28:52.583421Z"
    }
   },
   "cell_type": "code",
   "source": "cz4d = CZ_03_encoded_qutrits()",
   "id": "bd181dd07a2cd941",
   "outputs": [],
   "execution_count": 89
  },
  {
   "metadata": {
    "ExecuteTime": {
     "end_time": "2025-03-24T20:28:52.622655Z",
     "start_time": "2025-03-24T20:28:52.599057Z"
    }
   },
   "cell_type": "code",
   "source": [
    "CZqutryt_2d = np.diag([1, 1, 1, 1, 1, omega, omega*omega, 1, 1, omega*omega, omega, 1, 1, 1, 1, 1])\n",
    "CZqutryt_2d[0].shape"
   ],
   "id": "4b6b8ec24083a3a1",
   "outputs": [
    {
     "data": {
      "text/plain": [
       "(16,)"
      ]
     },
     "execution_count": 90,
     "metadata": {},
     "output_type": "execute_result"
    }
   ],
   "execution_count": 90
  },
  {
   "metadata": {
    "ExecuteTime": {
     "end_time": "2025-03-24T20:28:52.654255Z",
     "start_time": "2025-03-24T20:28:52.628474Z"
    }
   },
   "cell_type": "code",
   "source": "prtMTX(CZqutryt_2d)",
   "id": "270138cbf5be4d18",
   "outputs": [
    {
     "data": {
      "text/plain": [
       "<IPython.core.display.Math object>"
      ],
      "text/latex": "$\\displaystyle \\left[\\begin{array}{cccccccccccccccc}1.0 & 0 & 0 & 0 & 0 & 0 & 0 & 0 & 0 & 0 & 0 & 0 & 0 & 0 & 0 & 0\\\\0 & 1.0 & 0 & 0 & 0 & 0 & 0 & 0 & 0 & 0 & 0 & 0 & 0 & 0 & 0 & 0\\\\0 & 0 & 1.0 & 0 & 0 & 0 & 0 & 0 & 0 & 0 & 0 & 0 & 0 & 0 & 0 & 0\\\\0 & 0 & 0 & 1.0 & 0 & 0 & 0 & 0 & 0 & 0 & 0 & 0 & 0 & 0 & 0 & 0\\\\0 & 0 & 0 & 0 & 1.0 & 0 & 0 & 0 & 0 & 0 & 0 & 0 & 0 & 0 & 0 & 0\\\\0 & 0 & 0 & 0 & 0 & -0.5 + 0.866025403784439 i & 0 & 0 & 0 & 0 & 0 & 0 & 0 & 0 & 0 & 0\\\\0 & 0 & 0 & 0 & 0 & 0 & -0.5 - 0.866025403784438 i & 0 & 0 & 0 & 0 & 0 & 0 & 0 & 0 & 0\\\\0 & 0 & 0 & 0 & 0 & 0 & 0 & 1.0 & 0 & 0 & 0 & 0 & 0 & 0 & 0 & 0\\\\0 & 0 & 0 & 0 & 0 & 0 & 0 & 0 & 1.0 & 0 & 0 & 0 & 0 & 0 & 0 & 0\\\\0 & 0 & 0 & 0 & 0 & 0 & 0 & 0 & 0 & -0.5 - 0.866025403784438 i & 0 & 0 & 0 & 0 & 0 & 0\\\\0 & 0 & 0 & 0 & 0 & 0 & 0 & 0 & 0 & 0 & -0.5 + 0.866025403784439 i & 0 & 0 & 0 & 0 & 0\\\\0 & 0 & 0 & 0 & 0 & 0 & 0 & 0 & 0 & 0 & 0 & 1.0 & 0 & 0 & 0 & 0\\\\0 & 0 & 0 & 0 & 0 & 0 & 0 & 0 & 0 & 0 & 0 & 0 & 1.0 & 0 & 0 & 0\\\\0 & 0 & 0 & 0 & 0 & 0 & 0 & 0 & 0 & 0 & 0 & 0 & 0 & 1.0 & 0 & 0\\\\0 & 0 & 0 & 0 & 0 & 0 & 0 & 0 & 0 & 0 & 0 & 0 & 0 & 0 & 1.0 & 0\\\\0 & 0 & 0 & 0 & 0 & 0 & 0 & 0 & 0 & 0 & 0 & 0 & 0 & 0 & 0 & 1.0\\end{array}\\right]$"
     },
     "execution_count": 91,
     "metadata": {},
     "output_type": "execute_result"
    }
   ],
   "execution_count": 91
  },
  {
   "metadata": {
    "ExecuteTime": {
     "end_time": "2025-03-24T20:28:52.685613Z",
     "start_time": "2025-03-24T20:28:52.663770Z"
    }
   },
   "cell_type": "code",
   "source": "omega",
   "id": "5a8633b948d3c13a",
   "outputs": [
    {
     "data": {
      "text/plain": [
       "np.complex128(-0.4999999999999998+0.8660254037844387j)"
      ]
     },
     "execution_count": 92,
     "metadata": {},
     "output_type": "execute_result"
    }
   ],
   "execution_count": 92
  },
  {
   "metadata": {
    "ExecuteTime": {
     "end_time": "2025-03-24T20:28:52.716698Z",
     "start_time": "2025-03-24T20:28:52.695138Z"
    }
   },
   "cell_type": "code",
   "source": [
    "CZ01_4d = np.kron(CZqutryt_2d, np.kron(np.identity(4), np.identity(4)))\n",
    "CZ12_4d = np.kron(np.identity(4), np.kron(CZqutryt_2d, np.identity(4)))\n",
    "CZ23_4d = np.kron(np.identity(4), np.kron(np.identity(4), CZqutryt_2d))"
   ],
   "id": "dc88e25356ef3b48",
   "outputs": [],
   "execution_count": 93
  },
  {
   "metadata": {
    "ExecuteTime": {
     "end_time": "2025-03-24T20:28:52.747786Z",
     "start_time": "2025-03-24T20:28:52.729756Z"
    }
   },
   "cell_type": "code",
   "source": "CZ03_4d = CZ_03_encoded_qutrits()",
   "id": "8d612bd1193c0770",
   "outputs": [],
   "execution_count": 94
  },
  {
   "metadata": {
    "ExecuteTime": {
     "end_time": "2025-03-24T20:28:52.778494Z",
     "start_time": "2025-03-24T20:28:52.755790Z"
    }
   },
   "cell_type": "code",
   "source": "Math(sympy.latex(CZ03_4d))",
   "id": "e31a53c44ea85db7",
   "outputs": [
    {
     "data": {
      "text/plain": [
       "<IPython.core.display.Math object>"
      ],
      "text/latex": "$\\displaystyle \\mathtt{\\text{[[1.+0.j 0.+0.j 0.+0.j ... 0.+0.j 0.+0.j 0.+0.j]\n [0.+0.j 1.+0.j 0.+0.j ... 0.+0.j 0.+0.j 0.+0.j]\n [0.+0.j 0.+0.j 1.+0.j ... 0.+0.j 0.+0.j 0.+0.j]\n ...\n [0.+0.j 0.+0.j 0.+0.j ... 1.+0.j 0.+0.j 0.+0.j]\n [0.+0.j 0.+0.j 0.+0.j ... 0.+0.j 1.+0.j 0.+0.j]\n [0.+0.j 0.+0.j 0.+0.j ... 0.+0.j 0.+0.j 1.+0.j]]}}$"
     },
     "execution_count": 95,
     "metadata": {},
     "output_type": "execute_result"
    }
   ],
   "execution_count": 95
  },
  {
   "metadata": {
    "ExecuteTime": {
     "end_time": "2025-03-24T20:28:52.809597Z",
     "start_time": "2025-03-24T20:28:52.787011Z"
    }
   },
   "cell_type": "code",
   "source": "Math(sympy.latex(CZ30))",
   "id": "667fe706bfa27681",
   "outputs": [
    {
     "data": {
      "text/plain": [
       "<IPython.core.display.Math object>"
      ],
      "text/latex": "$\\displaystyle \\mathtt{\\text{[[ 1. +0.j         0. +0.j         0. +0.j        ...  0. +0.j\n   0. +0.j         0. +0.j       ]\n [ 0. +0.j         1. +0.j         0. +0.j        ...  0. +0.j\n   0. +0.j         0. +0.j       ]\n [ 0. +0.j         0. +0.j         1. +0.j        ...  0. +0.j\n   0. +0.j         0. +0.j       ]\n ...\n [ 0. +0.j         0. +0.j         0. +0.j        ...  1. +0.j\n   0. +0.j         0. +0.j       ]\n [ 0. +0.j         0. +0.j         0. +0.j        ...  0. +0.j\n  -0.5-0.8660254j  0. +0.j       ]\n [ 0. +0.j         0. +0.j         0. +0.j        ...  0. +0.j\n   0. +0.j        -0.5+0.8660254j]]}}$"
     },
     "execution_count": 96,
     "metadata": {},
     "output_type": "execute_result"
    }
   ],
   "execution_count": 96
  },
  {
   "metadata": {
    "ExecuteTime": {
     "end_time": "2025-03-24T20:28:52.825119Z",
     "start_time": "2025-03-24T20:28:52.815594Z"
    }
   },
   "cell_type": "code",
   "source": "F = 1/np.sqrt(3) * np.array([[1, 1, 1, 0], [1, omega, omega*omega, 0], [1, omega*omega, omega, 0], [0, 0, 0, 1]])",
   "id": "978f75b340a8e108",
   "outputs": [],
   "execution_count": 97
  },
  {
   "metadata": {
    "ExecuteTime": {
     "end_time": "2025-03-24T20:28:52.840731Z",
     "start_time": "2025-03-24T20:28:52.830644Z"
    }
   },
   "cell_type": "code",
   "source": "Math(sympy.latex(F))",
   "id": "4672dfc011312287",
   "outputs": [
    {
     "data": {
      "text/plain": [
       "<IPython.core.display.Math object>"
      ],
      "text/latex": "$\\displaystyle \\mathtt{\\text{[[ 0.57735027+0.j   0.57735027+0.j   0.57735027+0.j   0.        +0.j ]\n [ 0.57735027+0.j  -0.28867513+0.5j -0.28867513-0.5j  0.        +0.j ]\n [ 0.57735027+0.j  -0.28867513-0.5j -0.28867513+0.5j  0.        +0.j ]\n [ 0.        +0.j   0.        +0.j   0.        +0.j   0.57735027+0.j ]]}}$"
     },
     "execution_count": 98,
     "metadata": {},
     "output_type": "execute_result"
    }
   ],
   "execution_count": 98
  },
  {
   "metadata": {
    "ExecuteTime": {
     "end_time": "2025-03-24T20:28:52.856486Z",
     "start_time": "2025-03-24T20:28:52.850917Z"
    }
   },
   "cell_type": "code",
   "source": "stanPlus_4d = multi_dot([F, enQ0])",
   "id": "2bf45054359e0f6a",
   "outputs": [],
   "execution_count": 99
  },
  {
   "metadata": {
    "ExecuteTime": {
     "end_time": "2025-03-24T20:28:52.871954Z",
     "start_time": "2025-03-24T20:28:52.863429Z"
    }
   },
   "cell_type": "code",
   "source": "stanPlus_4d.shape",
   "id": "b29b9ce4848ee559",
   "outputs": [
    {
     "data": {
      "text/plain": [
       "(4, 1)"
      ]
     },
     "execution_count": 100,
     "metadata": {},
     "output_type": "execute_result"
    }
   ],
   "execution_count": 100
  },
  {
   "metadata": {
    "ExecuteTime": {
     "end_time": "2025-03-24T20:28:52.887511Z",
     "start_time": "2025-03-24T20:28:52.880469Z"
    }
   },
   "cell_type": "code",
   "source": "stanPlus_4d_all = np.kron(stanPlus_4d, np.kron(stanPlus_4d, np.kron(stanPlus_4d, stanPlus_4d)))",
   "id": "7cedfd43711e7376",
   "outputs": [],
   "execution_count": 101
  },
  {
   "metadata": {
    "ExecuteTime": {
     "end_time": "2025-03-24T20:28:52.903034Z",
     "start_time": "2025-03-24T20:28:52.894507Z"
    }
   },
   "cell_type": "code",
   "source": "stanPlus_4d_all.shape",
   "id": "cf774f419ee80a3",
   "outputs": [
    {
     "data": {
      "text/plain": [
       "(256, 1)"
      ]
     },
     "execution_count": 102,
     "metadata": {},
     "output_type": "execute_result"
    }
   ],
   "execution_count": 102
  },
  {
   "metadata": {
    "ExecuteTime": {
     "end_time": "2025-03-24T20:28:52.933755Z",
     "start_time": "2025-03-24T20:28:52.916580Z"
    }
   },
   "cell_type": "code",
   "source": "ame43_4d = multi_dot([CZ01_4d, CZ12_4d, CZ23_4d, CZ23_4d, stanPlus_4d_all])",
   "id": "d56d324f17523ab2",
   "outputs": [],
   "execution_count": 103
  },
  {
   "metadata": {
    "ExecuteTime": {
     "end_time": "2025-03-24T20:28:52.949787Z",
     "start_time": "2025-03-24T20:28:52.941262Z"
    }
   },
   "cell_type": "code",
   "source": "ame43_4d.shape",
   "id": "26bffe8b225c8786",
   "outputs": [
    {
     "data": {
      "text/plain": [
       "(256, 1)"
      ]
     },
     "execution_count": 104,
     "metadata": {},
     "output_type": "execute_result"
    }
   ],
   "execution_count": 104
  },
  {
   "metadata": {
    "ExecuteTime": {
     "end_time": "2025-03-24T20:28:52.981406Z",
     "start_time": "2025-03-24T20:28:52.959300Z"
    }
   },
   "cell_type": "code",
   "source": "ame43matrix.shape",
   "id": "66582600efba1b38",
   "outputs": [
    {
     "data": {
      "text/plain": [
       "(256, 1)"
      ]
     },
     "execution_count": 105,
     "metadata": {},
     "output_type": "execute_result"
    }
   ],
   "execution_count": 105
  },
  {
   "metadata": {},
   "cell_type": "code",
   "source": "Math(sympy.latex(sympy.Matrix(ame43_4d.round(5))))",
   "id": "93d014734ded884e",
   "outputs": [],
   "execution_count": null
  },
  {
   "metadata": {},
   "cell_type": "code",
   "source": "Math(sympy.latex(sympy.Matrix(ame43matrix.round(5))))",
   "id": "29c0d3c8637101e9",
   "outputs": [],
   "execution_count": null
  },
  {
   "metadata": {
    "ExecuteTime": {
     "end_time": "2025-03-24T20:28:53.155606Z",
     "start_time": "2025-03-24T20:28:53.133720Z"
    }
   },
   "cell_type": "code",
   "source": "ame43_4d[0].round(5)",
   "id": "47bd1d12bfa894b",
   "outputs": [
    {
     "data": {
      "text/plain": [
       "array([0.11111+0.j])"
      ]
     },
     "execution_count": 108,
     "metadata": {},
     "output_type": "execute_result"
    }
   ],
   "execution_count": 108
  },
  {
   "metadata": {
    "ExecuteTime": {
     "end_time": "2025-03-24T20:28:53.187280Z",
     "start_time": "2025-03-24T20:28:53.164132Z"
    }
   },
   "cell_type": "code",
   "source": "ame43_4d",
   "id": "847202e7d3ada17d",
   "outputs": [
    {
     "data": {
      "text/plain": [
       "array([[ 0.11111111+0.00000000e+00j],\n",
       "       [ 0.11111111+0.00000000e+00j],\n",
       "       [ 0.11111111+0.00000000e+00j],\n",
       "       [ 0.        +0.00000000e+00j],\n",
       "       [ 0.11111111+0.00000000e+00j],\n",
       "       [-0.05555556-9.62250449e-02j],\n",
       "       [-0.05555556+9.62250449e-02j],\n",
       "       [ 0.        +0.00000000e+00j],\n",
       "       [ 0.11111111+0.00000000e+00j],\n",
       "       [-0.05555556+9.62250449e-02j],\n",
       "       [-0.05555556-9.62250449e-02j],\n",
       "       [ 0.        +0.00000000e+00j],\n",
       "       [ 0.        +0.00000000e+00j],\n",
       "       [ 0.        +0.00000000e+00j],\n",
       "       [ 0.        +0.00000000e+00j],\n",
       "       [ 0.        +0.00000000e+00j],\n",
       "       [ 0.11111111+0.00000000e+00j],\n",
       "       [ 0.11111111+0.00000000e+00j],\n",
       "       [ 0.11111111+0.00000000e+00j],\n",
       "       [ 0.        +0.00000000e+00j],\n",
       "       [-0.05555556+9.62250449e-02j],\n",
       "       [ 0.11111111-6.93889390e-17j],\n",
       "       [-0.05555556-9.62250449e-02j],\n",
       "       [ 0.        +0.00000000e+00j],\n",
       "       [-0.05555556-9.62250449e-02j],\n",
       "       [ 0.11111111-1.45716772e-16j],\n",
       "       [-0.05555556+9.62250449e-02j],\n",
       "       [ 0.        +0.00000000e+00j],\n",
       "       [ 0.        +0.00000000e+00j],\n",
       "       [ 0.        +0.00000000e+00j],\n",
       "       [ 0.        +0.00000000e+00j],\n",
       "       [ 0.        +0.00000000e+00j],\n",
       "       [ 0.11111111+0.00000000e+00j],\n",
       "       [ 0.11111111+0.00000000e+00j],\n",
       "       [ 0.11111111+0.00000000e+00j],\n",
       "       [ 0.        +0.00000000e+00j],\n",
       "       [-0.05555556-9.62250449e-02j],\n",
       "       [-0.05555556+9.62250449e-02j],\n",
       "       [ 0.11111111-1.45716772e-16j],\n",
       "       [ 0.        +0.00000000e+00j],\n",
       "       [-0.05555556+9.62250449e-02j],\n",
       "       [-0.05555556-9.62250449e-02j],\n",
       "       [ 0.11111111-6.93889390e-17j],\n",
       "       [ 0.        +0.00000000e+00j],\n",
       "       [ 0.        +0.00000000e+00j],\n",
       "       [ 0.        +0.00000000e+00j],\n",
       "       [ 0.        +0.00000000e+00j],\n",
       "       [ 0.        +0.00000000e+00j],\n",
       "       [ 0.        +0.00000000e+00j],\n",
       "       [ 0.        +0.00000000e+00j],\n",
       "       [ 0.        +0.00000000e+00j],\n",
       "       [ 0.        +0.00000000e+00j],\n",
       "       [ 0.        +0.00000000e+00j],\n",
       "       [ 0.        +0.00000000e+00j],\n",
       "       [ 0.        +0.00000000e+00j],\n",
       "       [ 0.        +0.00000000e+00j],\n",
       "       [ 0.        +0.00000000e+00j],\n",
       "       [ 0.        +0.00000000e+00j],\n",
       "       [ 0.        +0.00000000e+00j],\n",
       "       [ 0.        +0.00000000e+00j],\n",
       "       [ 0.        +0.00000000e+00j],\n",
       "       [ 0.        +0.00000000e+00j],\n",
       "       [ 0.        +0.00000000e+00j],\n",
       "       [ 0.        +0.00000000e+00j],\n",
       "       [ 0.11111111+0.00000000e+00j],\n",
       "       [ 0.11111111+0.00000000e+00j],\n",
       "       [ 0.11111111+0.00000000e+00j],\n",
       "       [ 0.        +0.00000000e+00j],\n",
       "       [ 0.11111111+0.00000000e+00j],\n",
       "       [-0.05555556-9.62250449e-02j],\n",
       "       [-0.05555556+9.62250449e-02j],\n",
       "       [ 0.        +0.00000000e+00j],\n",
       "       [ 0.11111111+0.00000000e+00j],\n",
       "       [-0.05555556+9.62250449e-02j],\n",
       "       [-0.05555556-9.62250449e-02j],\n",
       "       [ 0.        +0.00000000e+00j],\n",
       "       [ 0.        +0.00000000e+00j],\n",
       "       [ 0.        +0.00000000e+00j],\n",
       "       [ 0.        +0.00000000e+00j],\n",
       "       [ 0.        +0.00000000e+00j],\n",
       "       [-0.05555556+9.62250449e-02j],\n",
       "       [-0.05555556+9.62250449e-02j],\n",
       "       [-0.05555556+9.62250449e-02j],\n",
       "       [ 0.        +0.00000000e+00j],\n",
       "       [-0.05555556-9.62250449e-02j],\n",
       "       [-0.05555556+9.62250449e-02j],\n",
       "       [ 0.11111111-1.38777878e-16j],\n",
       "       [ 0.        +0.00000000e+00j],\n",
       "       [ 0.11111111-6.24500451e-17j],\n",
       "       [-0.05555556+9.62250449e-02j],\n",
       "       [-0.05555556-9.62250449e-02j],\n",
       "       [ 0.        +0.00000000e+00j],\n",
       "       [ 0.        +0.00000000e+00j],\n",
       "       [ 0.        +0.00000000e+00j],\n",
       "       [ 0.        +0.00000000e+00j],\n",
       "       [ 0.        +0.00000000e+00j],\n",
       "       [-0.05555556-9.62250449e-02j],\n",
       "       [-0.05555556-9.62250449e-02j],\n",
       "       [-0.05555556-9.62250449e-02j],\n",
       "       [ 0.        +0.00000000e+00j],\n",
       "       [-0.05555556+9.62250449e-02j],\n",
       "       [ 0.11111111-1.45716772e-16j],\n",
       "       [-0.05555556-9.62250449e-02j],\n",
       "       [ 0.        +0.00000000e+00j],\n",
       "       [ 0.11111111-7.63278329e-17j],\n",
       "       [-0.05555556+9.62250449e-02j],\n",
       "       [-0.05555556-9.62250449e-02j],\n",
       "       [ 0.        +0.00000000e+00j],\n",
       "       [ 0.        +0.00000000e+00j],\n",
       "       [ 0.        +0.00000000e+00j],\n",
       "       [ 0.        +0.00000000e+00j],\n",
       "       [ 0.        +0.00000000e+00j],\n",
       "       [ 0.        +0.00000000e+00j],\n",
       "       [ 0.        +0.00000000e+00j],\n",
       "       [ 0.        +0.00000000e+00j],\n",
       "       [ 0.        +0.00000000e+00j],\n",
       "       [ 0.        +0.00000000e+00j],\n",
       "       [ 0.        +0.00000000e+00j],\n",
       "       [ 0.        +0.00000000e+00j],\n",
       "       [ 0.        +0.00000000e+00j],\n",
       "       [ 0.        +0.00000000e+00j],\n",
       "       [ 0.        +0.00000000e+00j],\n",
       "       [ 0.        +0.00000000e+00j],\n",
       "       [ 0.        +0.00000000e+00j],\n",
       "       [ 0.        +0.00000000e+00j],\n",
       "       [ 0.        +0.00000000e+00j],\n",
       "       [ 0.        +0.00000000e+00j],\n",
       "       [ 0.        +0.00000000e+00j],\n",
       "       [ 0.11111111+0.00000000e+00j],\n",
       "       [ 0.11111111+0.00000000e+00j],\n",
       "       [ 0.11111111+0.00000000e+00j],\n",
       "       [ 0.        +0.00000000e+00j],\n",
       "       [ 0.11111111+0.00000000e+00j],\n",
       "       [-0.05555556-9.62250449e-02j],\n",
       "       [-0.05555556+9.62250449e-02j],\n",
       "       [ 0.        +0.00000000e+00j],\n",
       "       [ 0.11111111+0.00000000e+00j],\n",
       "       [-0.05555556+9.62250449e-02j],\n",
       "       [-0.05555556-9.62250449e-02j],\n",
       "       [ 0.        +0.00000000e+00j],\n",
       "       [ 0.        +0.00000000e+00j],\n",
       "       [ 0.        +0.00000000e+00j],\n",
       "       [ 0.        +0.00000000e+00j],\n",
       "       [ 0.        +0.00000000e+00j],\n",
       "       [-0.05555556-9.62250449e-02j],\n",
       "       [-0.05555556-9.62250449e-02j],\n",
       "       [-0.05555556-9.62250449e-02j],\n",
       "       [ 0.        +0.00000000e+00j],\n",
       "       [ 0.11111111-7.63278329e-17j],\n",
       "       [-0.05555556-9.62250449e-02j],\n",
       "       [-0.05555556+9.62250449e-02j],\n",
       "       [ 0.        +0.00000000e+00j],\n",
       "       [-0.05555556+9.62250449e-02j],\n",
       "       [-0.05555556-9.62250449e-02j],\n",
       "       [ 0.11111111-1.45716772e-16j],\n",
       "       [ 0.        +0.00000000e+00j],\n",
       "       [ 0.        +0.00000000e+00j],\n",
       "       [ 0.        +0.00000000e+00j],\n",
       "       [ 0.        +0.00000000e+00j],\n",
       "       [ 0.        +0.00000000e+00j],\n",
       "       [-0.05555556+9.62250449e-02j],\n",
       "       [-0.05555556+9.62250449e-02j],\n",
       "       [-0.05555556+9.62250449e-02j],\n",
       "       [ 0.        +0.00000000e+00j],\n",
       "       [ 0.11111111-6.24500451e-17j],\n",
       "       [-0.05555556-9.62250449e-02j],\n",
       "       [-0.05555556+9.62250449e-02j],\n",
       "       [ 0.        +0.00000000e+00j],\n",
       "       [-0.05555556-9.62250449e-02j],\n",
       "       [ 0.11111111-1.38777878e-16j],\n",
       "       [-0.05555556+9.62250449e-02j],\n",
       "       [ 0.        +0.00000000e+00j],\n",
       "       [ 0.        +0.00000000e+00j],\n",
       "       [ 0.        +0.00000000e+00j],\n",
       "       [ 0.        +0.00000000e+00j],\n",
       "       [ 0.        +0.00000000e+00j],\n",
       "       [ 0.        +0.00000000e+00j],\n",
       "       [ 0.        +0.00000000e+00j],\n",
       "       [ 0.        +0.00000000e+00j],\n",
       "       [ 0.        +0.00000000e+00j],\n",
       "       [ 0.        +0.00000000e+00j],\n",
       "       [ 0.        +0.00000000e+00j],\n",
       "       [ 0.        +0.00000000e+00j],\n",
       "       [ 0.        +0.00000000e+00j],\n",
       "       [ 0.        +0.00000000e+00j],\n",
       "       [ 0.        +0.00000000e+00j],\n",
       "       [ 0.        +0.00000000e+00j],\n",
       "       [ 0.        +0.00000000e+00j],\n",
       "       [ 0.        +0.00000000e+00j],\n",
       "       [ 0.        +0.00000000e+00j],\n",
       "       [ 0.        +0.00000000e+00j],\n",
       "       [ 0.        +0.00000000e+00j],\n",
       "       [ 0.        +0.00000000e+00j],\n",
       "       [ 0.        +0.00000000e+00j],\n",
       "       [ 0.        +0.00000000e+00j],\n",
       "       [ 0.        +0.00000000e+00j],\n",
       "       [ 0.        +0.00000000e+00j],\n",
       "       [ 0.        +0.00000000e+00j],\n",
       "       [ 0.        +0.00000000e+00j],\n",
       "       [ 0.        +0.00000000e+00j],\n",
       "       [ 0.        +0.00000000e+00j],\n",
       "       [ 0.        +0.00000000e+00j],\n",
       "       [ 0.        +0.00000000e+00j],\n",
       "       [ 0.        +0.00000000e+00j],\n",
       "       [ 0.        +0.00000000e+00j],\n",
       "       [ 0.        +0.00000000e+00j],\n",
       "       [ 0.        +0.00000000e+00j],\n",
       "       [ 0.        +0.00000000e+00j],\n",
       "       [ 0.        +0.00000000e+00j],\n",
       "       [ 0.        +0.00000000e+00j],\n",
       "       [ 0.        +0.00000000e+00j],\n",
       "       [ 0.        +0.00000000e+00j],\n",
       "       [ 0.        +0.00000000e+00j],\n",
       "       [ 0.        +0.00000000e+00j],\n",
       "       [ 0.        +0.00000000e+00j],\n",
       "       [ 0.        +0.00000000e+00j],\n",
       "       [ 0.        +0.00000000e+00j],\n",
       "       [ 0.        +0.00000000e+00j],\n",
       "       [ 0.        +0.00000000e+00j],\n",
       "       [ 0.        +0.00000000e+00j],\n",
       "       [ 0.        +0.00000000e+00j],\n",
       "       [ 0.        +0.00000000e+00j],\n",
       "       [ 0.        +0.00000000e+00j],\n",
       "       [ 0.        +0.00000000e+00j],\n",
       "       [ 0.        +0.00000000e+00j],\n",
       "       [ 0.        +0.00000000e+00j],\n",
       "       [ 0.        +0.00000000e+00j],\n",
       "       [ 0.        +0.00000000e+00j],\n",
       "       [ 0.        +0.00000000e+00j],\n",
       "       [ 0.        +0.00000000e+00j],\n",
       "       [ 0.        +0.00000000e+00j],\n",
       "       [ 0.        +0.00000000e+00j],\n",
       "       [ 0.        +0.00000000e+00j],\n",
       "       [ 0.        +0.00000000e+00j],\n",
       "       [ 0.        +0.00000000e+00j],\n",
       "       [ 0.        +0.00000000e+00j],\n",
       "       [ 0.        +0.00000000e+00j],\n",
       "       [ 0.        +0.00000000e+00j],\n",
       "       [ 0.        +0.00000000e+00j],\n",
       "       [ 0.        +0.00000000e+00j],\n",
       "       [ 0.        +0.00000000e+00j],\n",
       "       [ 0.        +0.00000000e+00j],\n",
       "       [ 0.        +0.00000000e+00j],\n",
       "       [ 0.        +0.00000000e+00j],\n",
       "       [ 0.        +0.00000000e+00j],\n",
       "       [ 0.        +0.00000000e+00j],\n",
       "       [ 0.        +0.00000000e+00j],\n",
       "       [ 0.        +0.00000000e+00j],\n",
       "       [ 0.        +0.00000000e+00j],\n",
       "       [ 0.        +0.00000000e+00j],\n",
       "       [ 0.        +0.00000000e+00j],\n",
       "       [ 0.        +0.00000000e+00j],\n",
       "       [ 0.        +0.00000000e+00j],\n",
       "       [ 0.        +0.00000000e+00j],\n",
       "       [ 0.        +0.00000000e+00j],\n",
       "       [ 0.        +0.00000000e+00j]])"
      ]
     },
     "execution_count": 109,
     "metadata": {},
     "output_type": "execute_result"
    }
   ],
   "execution_count": 109
  },
  {
   "metadata": {
    "ExecuteTime": {
     "end_time": "2025-03-24T20:28:53.217870Z",
     "start_time": "2025-03-24T20:28:53.196280Z"
    }
   },
   "cell_type": "code",
   "source": [
    "def check_ame43_diff():\n",
    "    same = []\n",
    "    diff = []\n",
    "    for i in range(len(ame43_4d)):\n",
    "        if ame43_4d[i].round(5) == ame43matrix[i].round(5):\n",
    "            same.append((i, ame43_4d[i], ame43matrix[i]))\n",
    "        else:\n",
    "            diff.append((i, ame43_4d[i].round(5), ame43matrix[i].round(5)))\n",
    "\n",
    "    return [same, diff]"
   ],
   "id": "4847348d205873bf",
   "outputs": [],
   "execution_count": 110
  },
  {
   "metadata": {
    "ExecuteTime": {
     "end_time": "2025-03-24T20:28:53.248970Z",
     "start_time": "2025-03-24T20:28:53.224868Z"
    }
   },
   "cell_type": "code",
   "source": "check = check_ame43_diff()",
   "id": "283478839c3b0b23",
   "outputs": [],
   "execution_count": 111
  },
  {
   "metadata": {
    "ExecuteTime": {
     "end_time": "2025-03-24T20:28:53.296702Z",
     "start_time": "2025-03-24T20:28:53.257500Z"
    }
   },
   "cell_type": "code",
   "source": [
    "print(f'index || ame43_4d || ame43matrix')\n",
    "for i in check[1]:\n",
    "    print(f'{i[0]} || {i[1]} || {i[2]} ')"
   ],
   "id": "6c3bbdf39c939f4b",
   "outputs": [
    {
     "name": "stdout",
     "output_type": "stream",
     "text": [
      "index || ame43_4d || ame43matrix\n",
      "5 || [-0.05556-0.09623j] || [-0.05556+0.09623j] \n",
      "6 || [-0.05556+0.09623j] || [-0.05556-0.09623j] \n",
      "9 || [-0.05556+0.09623j] || [-0.05556-0.09623j] \n",
      "10 || [-0.05556-0.09623j] || [-0.05556+0.09623j] \n",
      "21 || [0.11111-0.j] || [-0.05556-0.09623j] \n",
      "22 || [-0.05556-0.09623j] || [0.11111+0.j] \n",
      "25 || [0.11111-0.j] || [-0.05556+0.09623j] \n",
      "26 || [-0.05556+0.09623j] || [0.11111+0.j] \n",
      "37 || [-0.05556+0.09623j] || [0.11111+0.j] \n",
      "38 || [0.11111-0.j] || [-0.05556+0.09623j] \n",
      "41 || [-0.05556-0.09623j] || [0.11111+0.j] \n",
      "42 || [0.11111-0.j] || [-0.05556-0.09623j] \n",
      "65 || [0.11111+0.j] || [-0.05556+0.09623j] \n",
      "66 || [0.11111+0.j] || [-0.05556-0.09623j] \n",
      "73 || [-0.05556+0.09623j] || [0.11111+0.j] \n",
      "74 || [-0.05556-0.09623j] || [0.11111+0.j] \n",
      "80 || [-0.05556+0.09623j] || [-0.05556-0.09623j] \n",
      "81 || [-0.05556+0.09623j] || [0.11111+0.j] \n",
      "84 || [-0.05556-0.09623j] || [0.11111+0.j] \n",
      "85 || [-0.05556+0.09623j] || [-0.05556-0.09623j] \n",
      "86 || [0.11111-0.j] || [-0.05556+0.09623j] \n",
      "88 || [0.11111-0.j] || [-0.05556+0.09623j] \n",
      "90 || [-0.05556-0.09623j] || [-0.05556+0.09623j] \n",
      "96 || [-0.05556-0.09623j] || [-0.05556+0.09623j] \n",
      "98 || [-0.05556-0.09623j] || [0.11111+0.j] \n",
      "100 || [-0.05556+0.09623j] || [0.11111+0.j] \n",
      "101 || [0.11111-0.j] || [-0.05556-0.09623j] \n",
      "102 || [-0.05556-0.09623j] || [-0.05556+0.09623j] \n",
      "104 || [0.11111-0.j] || [-0.05556-0.09623j] \n",
      "105 || [-0.05556+0.09623j] || [-0.05556-0.09623j] \n",
      "129 || [0.11111+0.j] || [-0.05556-0.09623j] \n",
      "130 || [0.11111+0.j] || [-0.05556+0.09623j] \n",
      "133 || [-0.05556-0.09623j] || [0.11111+0.j] \n",
      "134 || [-0.05556+0.09623j] || [0.11111+0.j] \n",
      "144 || [-0.05556-0.09623j] || [-0.05556+0.09623j] \n",
      "145 || [-0.05556-0.09623j] || [0.11111+0.j] \n",
      "148 || [0.11111-0.j] || [-0.05556-0.09623j] \n",
      "150 || [-0.05556+0.09623j] || [-0.05556-0.09623j] \n",
      "152 || [-0.05556+0.09623j] || [0.11111+0.j] \n",
      "153 || [-0.05556-0.09623j] || [-0.05556+0.09623j] \n",
      "154 || [0.11111-0.j] || [-0.05556-0.09623j] \n",
      "160 || [-0.05556+0.09623j] || [-0.05556-0.09623j] \n",
      "162 || [-0.05556+0.09623j] || [0.11111-0.j] \n",
      "164 || [0.11111-0.j] || [-0.05556+0.09623j] \n",
      "165 || [-0.05556-0.09623j] || [-0.05556+0.09623j] \n",
      "168 || [-0.05556-0.09623j] || [0.11111-0.j] \n",
      "169 || [0.11111-0.j] || [-0.05556+0.09623j] \n",
      "170 || [-0.05556+0.09623j] || [-0.05556-0.09623j] \n"
     ]
    }
   ],
   "execution_count": 112
  },
  {
   "metadata": {
    "ExecuteTime": {
     "end_time": "2025-03-24T20:28:53.328737Z",
     "start_time": "2025-03-24T20:28:53.305180Z"
    }
   },
   "cell_type": "code",
   "source": "np.array_equal(ame43_4d.round(5), ame43matrix.round(5))",
   "id": "60f023466e19cf1",
   "outputs": [
    {
     "data": {
      "text/plain": [
       "False"
      ]
     },
     "execution_count": 113,
     "metadata": {},
     "output_type": "execute_result"
    }
   ],
   "execution_count": 113
  },
  {
   "metadata": {
    "ExecuteTime": {
     "end_time": "2025-03-24T20:28:53.344263Z",
     "start_time": "2025-03-24T20:28:53.336256Z"
    }
   },
   "cell_type": "code",
   "source": "Z_4d = np.array([[1, 0, 0, 0], [0, omega, 0, 0], [0, 0, omega*omega, 0], [0, 0, 0, 1]])",
   "id": "e2b8cdce047a0ab2",
   "outputs": [],
   "execution_count": 114
  },
  {
   "metadata": {
    "ExecuteTime": {
     "end_time": "2025-03-24T20:28:53.376420Z",
     "start_time": "2025-03-24T20:28:53.354796Z"
    }
   },
   "cell_type": "code",
   "source": "Math(sympy.latex(sympy.Matrix(Z_4d)))",
   "id": "13246c6942c50ecc",
   "outputs": [
    {
     "data": {
      "text/plain": [
       "<IPython.core.display.Math object>"
      ],
      "text/latex": "$\\displaystyle \\left[\\begin{matrix}1.0 & 0 & 0 & 0\\\\0 & -0.5 + 0.866025403784439 i & 0 & 0\\\\0 & 0 & -0.5 - 0.866025403784438 i & 0\\\\0 & 0 & 0 & 1.0\\end{matrix}\\right]$"
     },
     "execution_count": 115,
     "metadata": {},
     "output_type": "execute_result"
    }
   ],
   "execution_count": 115
  },
  {
   "metadata": {
    "ExecuteTime": {
     "end_time": "2025-03-24T20:28:53.391723Z",
     "start_time": "2025-03-24T20:28:53.383368Z"
    }
   },
   "cell_type": "code",
   "source": "X_4d = np.array([[0, 0, 1, 0], [1, 0, 0, 0], [0, 1, 0, 0], [0, 0, 0, 1]])",
   "id": "d6df4f210bec4412",
   "outputs": [],
   "execution_count": 116
  },
  {
   "metadata": {
    "ExecuteTime": {
     "end_time": "2025-03-24T20:28:53.422842Z",
     "start_time": "2025-03-24T20:28:53.404261Z"
    }
   },
   "cell_type": "code",
   "source": "prtMTX(np.kron(qubit1, qubit1))",
   "id": "ffc1381f946b50a5",
   "outputs": [
    {
     "data": {
      "text/plain": [
       "<IPython.core.display.Math object>"
      ],
      "text/latex": "$\\displaystyle \\left[\\begin{matrix}0\\\\0\\\\0\\\\1\\end{matrix}\\right]$"
     },
     "execution_count": 117,
     "metadata": {},
     "output_type": "execute_result"
    }
   ],
   "execution_count": 117
  },
  {
   "metadata": {
    "ExecuteTime": {
     "end_time": "2025-03-24T20:28:53.454424Z",
     "start_time": "2025-03-24T20:28:53.435378Z"
    }
   },
   "cell_type": "code",
   "source": "prtMTX(multi_dot([X_4d, np.kron(qubit1, qubit1)]))",
   "id": "dbe4954f4fb7beb3",
   "outputs": [
    {
     "data": {
      "text/plain": [
       "<IPython.core.display.Math object>"
      ],
      "text/latex": "$\\displaystyle \\left[\\begin{matrix}0\\\\0\\\\0\\\\1\\end{matrix}\\right]$"
     },
     "execution_count": 118,
     "metadata": {},
     "output_type": "execute_result"
    }
   ],
   "execution_count": 118
  },
  {
   "metadata": {
    "ExecuteTime": {
     "end_time": "2025-03-24T20:28:53.486406Z",
     "start_time": "2025-03-24T20:28:53.467353Z"
    }
   },
   "cell_type": "code",
   "source": [
    "G1_4d = np.kron(np.kron(np.kron(X_4d, Z_4d), np.identity(4)), Z_4d)\n",
    "G1G2_4d = np.kron(np.kron(np.kron(np.dot(X_4d, Z_4d), np.dot(Z_4d, X_4d)), Z_4d), Z_4d)\n",
    "G1G2pow2_4d = np.kron(np.kron(np.kron(multi_dot([X_4d, Z_4d, Z_4d]), multi_dot([Z_4d, X_4d, X_4d])), multi_dot([Z_4d, Z_4d])), Z_4d)\n",
    "G3_4d = np.kron(np.kron(np.kron(np.identity(4), Z_4d), X_4d), multi_dot([Z_4d, Z_4d]))\n",
    "G1G4_4d = np.kron(np.kron(np.kron(multi_dot([X_4d, Z_4d]), Z_4d), multi_dot([Z_4d, Z_4d])), multi_dot([Z_4d, X_4d]))"
   ],
   "id": "f9c823124741b031",
   "outputs": [],
   "execution_count": 119
  },
  {
   "metadata": {
    "ExecuteTime": {
     "end_time": "2025-03-24T20:28:53.501449Z",
     "start_time": "2025-03-24T20:28:53.491925Z"
    }
   },
   "cell_type": "code",
   "source": "wynik_4d = np.real(multi_dot([ame43_4d.conj().transpose(),G1_4d , ame43_4d]))",
   "id": "42d20f062ff7a5fa",
   "outputs": [],
   "execution_count": 120
  },
  {
   "metadata": {
    "ExecuteTime": {
     "end_time": "2025-03-24T20:28:53.517607Z",
     "start_time": "2025-03-24T20:28:53.507459Z"
    }
   },
   "cell_type": "code",
   "source": "Math(sympy.latex(wynik_4d))",
   "id": "44ebcbfe79f99507",
   "outputs": [
    {
     "data": {
      "text/plain": [
       "<IPython.core.display.Math object>"
      ],
      "text/latex": "$\\displaystyle \\mathtt{\\text{[[4.16333634e-17]]}}$"
     },
     "execution_count": 121,
     "metadata": {},
     "output_type": "execute_result"
    }
   ],
   "execution_count": 121
  },
  {
   "metadata": {
    "ExecuteTime": {
     "end_time": "2025-03-24T20:28:53.533133Z",
     "start_time": "2025-03-24T20:28:53.527136Z"
    }
   },
   "cell_type": "code",
   "source": "#g1List_4d, g1g2List_4d, g1g2pow2List_4d, g3List_4d, g1g4List_4d = ame43_checker_gen(ame43_4d, Z, X, Id)",
   "id": "c14a283af9b1b916",
   "outputs": [],
   "execution_count": 122
  },
  {
   "metadata": {
    "ExecuteTime": {
     "end_time": "2025-03-24T20:28:53.722452Z",
     "start_time": "2025-03-24T20:28:53.539656Z"
    }
   },
   "cell_type": "code",
   "source": "ame43.circuit.draw('mpl')",
   "id": "4ddc9b1458bab96f",
   "outputs": [
    {
     "data": {
      "text/plain": [
       "<Figure size 621.941x702.333 with 1 Axes>"
      ],
      "image/png": "[encoded data removed]"
     },
     "execution_count": 123,
     "metadata": {},
     "output_type": "execute_result"
    }
   ],
   "execution_count": 123
  },
  {
   "metadata": {
    "ExecuteTime": {
     "end_time": "2025-03-24T20:28:53.754071Z",
     "start_time": "2025-03-24T20:28:53.734977Z"
    }
   },
   "cell_type": "code",
   "source": [
    "def change_base(psi, F):\n",
    "    oper = [Operator(np.identity(4)), Operator(F), Operator(F).conjugate().transpose(), Operator(X), Operator(Z)]\n",
    "    oper_text = [\"I\", \"F\", \"F+\", \"X\", \"Z\"]\n",
    "\n",
    "    psi_dict = {}\n",
    "\n",
    "    for combination in product(zip(oper, oper_text), repeat=4):\n",
    "        (i, i2), (j, j2), (k, k2), (l, l2) = combination\n",
    "        changeOperator = i.tensor(j).tensor(k).tensor(l).to_matrix()\n",
    "\n",
    "        changed = multi_dot([changeOperator, psi])\n",
    "\n",
    "        psi_dict[f'{i2}{j2}{k2}{l2}'] = changed\n",
    "\n",
    "        if changed.shape[0] < 10:\n",
    "\n",
    "            print(Statevector(changed).draw('latex'))\n",
    "\n",
    "    return psi_dict"
   ],
   "id": "1806acf1c62301eb",
   "outputs": [],
   "execution_count": 124
  },
  {
   "metadata": {
    "ExecuteTime": {
     "end_time": "2025-03-24T20:28:53.880841Z",
     "start_time": "2025-03-24T20:28:53.759568Z"
    }
   },
   "cell_type": "code",
   "source": "Fgate = QuditsOnQubits().circuit[2]",
   "id": "88f32b468fc64f00",
   "outputs": [],
   "execution_count": 125
  },
  {
   "metadata": {
    "ExecuteTime": {
     "end_time": "2025-03-24T20:28:53.912222Z",
     "start_time": "2025-03-24T20:28:53.886347Z"
    }
   },
   "cell_type": "code",
   "source": "Statevector(Fgate).draw('latex')",
   "id": "56fe25a3e2c60249",
   "outputs": [
    {
     "data": {
      "text/plain": [
       "<IPython.core.display.Latex object>"
      ],
      "text/latex": "$$- \\frac{\\sqrt{3}}{3} |00\\rangle- \\frac{\\sqrt{3}}{3} |01\\rangle- \\frac{\\sqrt{3}}{3} |10\\rangle$$"
     },
     "execution_count": 126,
     "metadata": {},
     "output_type": "execute_result"
    }
   ],
   "execution_count": 126
  },
  {
   "metadata": {
    "ExecuteTime": {
     "end_time": "2025-03-24T20:28:54.950087Z",
     "start_time": "2025-03-24T20:28:53.917777Z"
    }
   },
   "cell_type": "code",
   "source": "ame_changed_dict = change_base(Statevector(ame43circ), Fgate)",
   "id": "582dfd9722d994cd",
   "outputs": [],
   "execution_count": 127
  },
  {
   "metadata": {
    "ExecuteTime": {
     "end_time": "2025-03-24T20:28:54.981698Z",
     "start_time": "2025-03-24T20:28:54.961639Z"
    }
   },
   "cell_type": "code",
   "source": "len(ame_changed_dict)",
   "id": "363e0636d207b2c1",
   "outputs": [
    {
     "data": {
      "text/plain": [
       "625"
      ]
     },
     "execution_count": 128,
     "metadata": {},
     "output_type": "execute_result"
    }
   ],
   "execution_count": 128
  },
  {
   "metadata": {
    "ExecuteTime": {
     "end_time": "2025-03-24T20:28:54.997411Z",
     "start_time": "2025-03-24T20:28:54.989894Z"
    }
   },
   "cell_type": "code",
   "source": "list(ame_changed_dict.values())[0].shape[0]",
   "id": "5d1e9095a8ac5719",
   "outputs": [
    {
     "data": {
      "text/plain": [
       "256"
      ]
     },
     "execution_count": 129,
     "metadata": {},
     "output_type": "execute_result"
    }
   ],
   "execution_count": 129
  },
  {
   "metadata": {},
   "cell_type": "code",
   "source": "prtMTX(ame43_4d)",
   "id": "31378e94f16a17fd",
   "outputs": [],
   "execution_count": null
  },
  {
   "metadata": {
    "ExecuteTime": {
     "end_time": "2025-03-24T20:28:56.270061Z",
     "start_time": "2025-03-24T20:28:55.080760Z"
    }
   },
   "cell_type": "code",
   "source": "ameTEST_changed_dict = change_base(ame43_4d, Fgate)",
   "id": "c837ea5ca8809891",
   "outputs": [],
   "execution_count": 131
  },
  {
   "metadata": {
    "ExecuteTime": {
     "end_time": "2025-03-24T20:28:56.302141Z",
     "start_time": "2025-03-24T20:28:56.282583Z"
    }
   },
   "cell_type": "code",
   "source": "len(ameTEST_changed_dict)",
   "id": "c8757415400d874e",
   "outputs": [
    {
     "data": {
      "text/plain": [
       "625"
      ]
     },
     "execution_count": 132,
     "metadata": {},
     "output_type": "execute_result"
    }
   ],
   "execution_count": 132
  },
  {
   "metadata": {
    "ExecuteTime": {
     "end_time": "2025-03-24T20:28:56.332633Z",
     "start_time": "2025-03-24T20:28:56.319256Z"
    }
   },
   "cell_type": "code",
   "source": "dictKEYS = list(ame_changed_dict.keys())",
   "id": "5119bde095c124ff",
   "outputs": [],
   "execution_count": 133
  },
  {
   "metadata": {
    "ExecuteTime": {
     "end_time": "2025-03-24T20:28:56.550251Z",
     "start_time": "2025-03-24T20:28:56.343163Z"
    }
   },
   "cell_type": "code",
   "source": "Statevector(ameTEST_changed_dict['IF+F+F']).draw('latex')",
   "id": "fab28304ac9e551c",
   "outputs": [
    {
     "data": {
      "text/plain": [
       "<IPython.core.display.Latex object>"
      ],
      "text/latex": "$$- \\frac{\\sqrt{3}}{9} |00000000\\rangle- \\frac{\\sqrt{3}}{9} |00000100\\rangle- \\frac{\\sqrt{3}}{9} |00001000\\rangle- \\frac{\\sqrt{3}}{9} |00010001\\rangle+(0.0962250449 + 0.1666666667 i) |00010101\\rangle+(0.0962250449 - 0.1666666667 i) |00011001\\rangle + \\ldots +(0.0962250449 - 0.1666666667 i) |10010110\\rangle+(0.0962250449 + 0.1666666667 i) |10011010\\rangle- \\frac{\\sqrt{3}}{9} |10100000\\rangle- \\frac{\\sqrt{3}}{9} |10100100\\rangle- \\frac{\\sqrt{3}}{9} |10101000\\rangle$$"
     },
     "execution_count": 134,
     "metadata": {},
     "output_type": "execute_result"
    }
   ],
   "execution_count": 134
  },
  {
   "metadata": {
    "ExecuteTime": {
     "end_time": "2025-03-24T20:28:56.582864Z",
     "start_time": "2025-03-24T20:28:56.569320Z"
    }
   },
   "cell_type": "code",
   "source": "len(Statevector(ameTEST_changed_dict['F+FII']))",
   "id": "7a62114dd5a95901",
   "outputs": [
    {
     "data": {
      "text/plain": [
       "256"
      ]
     },
     "execution_count": 135,
     "metadata": {},
     "output_type": "execute_result"
    }
   ],
   "execution_count": 135
  },
  {
   "metadata": {
    "ExecuteTime": {
     "end_time": "2025-03-24T20:28:56.628009Z",
     "start_time": "2025-03-24T20:28:56.595394Z"
    }
   },
   "cell_type": "code",
   "source": "ameTEST_changed_dict['F+FII']",
   "id": "5388f7bb8bad6242",
   "outputs": [
    {
     "data": {
      "text/plain": [
       "array([[ 1.11111111e-01+1.45129918e-17j],\n",
       "       [ 1.11111111e-01+1.45129918e-17j],\n",
       "       [ 1.11111111e-01+1.45129918e-17j],\n",
       "       [ 0.00000000e+00+0.00000000e+00j],\n",
       "       [ 1.11111111e-01+3.96345754e-16j],\n",
       "       [-5.55555556e-02-9.62250449e-02j],\n",
       "       [-5.55555556e-02+9.62250449e-02j],\n",
       "       [ 0.00000000e+00+0.00000000e+00j],\n",
       "       [ 1.11111111e-01-1.42710504e-16j],\n",
       "       [-5.55555556e-02+9.62250449e-02j],\n",
       "       [-5.55555556e-02-9.62250449e-02j],\n",
       "       [ 0.00000000e+00+0.00000000e+00j],\n",
       "       [ 0.00000000e+00+0.00000000e+00j],\n",
       "       [ 0.00000000e+00+0.00000000e+00j],\n",
       "       [ 0.00000000e+00+0.00000000e+00j],\n",
       "       [ 0.00000000e+00+0.00000000e+00j],\n",
       "       [ 1.11111111e-01+5.30588601e-16j],\n",
       "       [ 1.11111111e-01+5.30588601e-16j],\n",
       "       [ 1.11111111e-01+5.30588601e-16j],\n",
       "       [ 0.00000000e+00+0.00000000e+00j],\n",
       "       [ 1.11111111e-01-1.33262303e-17j],\n",
       "       [-5.55555556e-02-9.62250449e-02j],\n",
       "       [-5.55555556e-02+9.62250449e-02j],\n",
       "       [ 0.00000000e+00+0.00000000e+00j],\n",
       "       [ 1.11111111e-01+1.46161287e-16j],\n",
       "       [-5.55555556e-02+9.62250449e-02j],\n",
       "       [-5.55555556e-02-9.62250449e-02j],\n",
       "       [ 0.00000000e+00+0.00000000e+00j],\n",
       "       [ 0.00000000e+00+0.00000000e+00j],\n",
       "       [ 0.00000000e+00+0.00000000e+00j],\n",
       "       [ 0.00000000e+00+0.00000000e+00j],\n",
       "       [ 0.00000000e+00+0.00000000e+00j],\n",
       "       [ 1.11111111e-01-5.42996279e-16j],\n",
       "       [ 1.11111111e-01-5.42996279e-16j],\n",
       "       [ 1.11111111e-01-5.42996279e-16j],\n",
       "       [ 0.00000000e+00+0.00000000e+00j],\n",
       "       [ 1.11111111e-01-3.82835862e-16j],\n",
       "       [-5.55555556e-02-9.62250449e-02j],\n",
       "       [-5.55555556e-02+9.62250449e-02j],\n",
       "       [ 0.00000000e+00+0.00000000e+00j],\n",
       "       [ 1.11111111e-01-3.45660190e-18j],\n",
       "       [-5.55555556e-02+9.62250449e-02j],\n",
       "       [-5.55555556e-02-9.62250449e-02j],\n",
       "       [ 0.00000000e+00+0.00000000e+00j],\n",
       "       [ 0.00000000e+00+0.00000000e+00j],\n",
       "       [ 0.00000000e+00+0.00000000e+00j],\n",
       "       [ 0.00000000e+00+0.00000000e+00j],\n",
       "       [ 0.00000000e+00+0.00000000e+00j],\n",
       "       [-1.46331461e-16+5.45245673e-16j],\n",
       "       [-1.46331461e-16+5.45245673e-16j],\n",
       "       [-1.46331461e-16+5.45245673e-16j],\n",
       "       [ 0.00000000e+00+0.00000000e+00j],\n",
       "       [-1.46331461e-16+5.45245673e-16j],\n",
       "       [ 5.45362335e-16-1.45896074e-16j],\n",
       "       [-3.99030873e-16-3.99349599e-16j],\n",
       "       [ 0.00000000e+00+0.00000000e+00j],\n",
       "       [-1.46331461e-16+5.45245673e-16j],\n",
       "       [-3.99030873e-16-3.99349599e-16j],\n",
       "       [ 5.45362335e-16-1.45896074e-16j],\n",
       "       [ 0.00000000e+00+0.00000000e+00j],\n",
       "       [ 0.00000000e+00+0.00000000e+00j],\n",
       "       [ 0.00000000e+00+0.00000000e+00j],\n",
       "       [ 0.00000000e+00+0.00000000e+00j],\n",
       "       [ 0.00000000e+00+0.00000000e+00j],\n",
       "       [ 1.11111111e-01-7.65170065e-18j],\n",
       "       [ 1.11111111e-01-7.65170065e-18j],\n",
       "       [ 1.11111111e-01-7.65170065e-18j],\n",
       "       [ 0.00000000e+00+0.00000000e+00j],\n",
       "       [-5.55555556e-02+9.62250449e-02j],\n",
       "       [ 1.11111111e-01-5.48172618e-16j],\n",
       "       [-5.55555556e-02-9.62250449e-02j],\n",
       "       [ 0.00000000e+00+0.00000000e+00j],\n",
       "       [-5.55555556e-02-9.62250449e-02j],\n",
       "       [ 1.11111111e-01-3.81639165e-16j],\n",
       "       [-5.55555556e-02+9.62250449e-02j],\n",
       "       [ 0.00000000e+00+0.00000000e+00j],\n",
       "       [ 0.00000000e+00+0.00000000e+00j],\n",
       "       [ 0.00000000e+00+0.00000000e+00j],\n",
       "       [ 0.00000000e+00+0.00000000e+00j],\n",
       "       [ 0.00000000e+00+0.00000000e+00j],\n",
       "       [-5.55555556e-02+9.62250449e-02j],\n",
       "       [-5.55555556e-02+9.62250449e-02j],\n",
       "       [-5.55555556e-02+9.62250449e-02j],\n",
       "       [ 0.00000000e+00+0.00000000e+00j],\n",
       "       [-5.55555556e-02-9.62250449e-02j],\n",
       "       [-5.55555556e-02+9.62250449e-02j],\n",
       "       [ 1.11111111e-01-1.59594560e-16j],\n",
       "       [ 0.00000000e+00+0.00000000e+00j],\n",
       "       [ 1.11111111e-01+1.31838984e-16j],\n",
       "       [-5.55555556e-02+9.62250449e-02j],\n",
       "       [-5.55555556e-02-9.62250449e-02j],\n",
       "       [ 0.00000000e+00+0.00000000e+00j],\n",
       "       [ 0.00000000e+00+0.00000000e+00j],\n",
       "       [ 0.00000000e+00+0.00000000e+00j],\n",
       "       [ 0.00000000e+00+0.00000000e+00j],\n",
       "       [ 0.00000000e+00+0.00000000e+00j],\n",
       "       [-5.55555556e-02-9.62250449e-02j],\n",
       "       [-5.55555556e-02-9.62250449e-02j],\n",
       "       [-5.55555556e-02-9.62250449e-02j],\n",
       "       [ 0.00000000e+00+0.00000000e+00j],\n",
       "       [ 1.11111111e-01+4.09394740e-16j],\n",
       "       [-5.55555556e-02-9.62250449e-02j],\n",
       "       [-5.55555556e-02+9.62250449e-02j],\n",
       "       [ 0.00000000e+00+0.00000000e+00j],\n",
       "       [-5.55555556e-02+9.62250449e-02j],\n",
       "       [-5.55555556e-02-9.62250449e-02j],\n",
       "       [ 1.11111111e-01-1.17961196e-16j],\n",
       "       [ 0.00000000e+00+0.00000000e+00j],\n",
       "       [ 0.00000000e+00+0.00000000e+00j],\n",
       "       [ 0.00000000e+00+0.00000000e+00j],\n",
       "       [ 0.00000000e+00+0.00000000e+00j],\n",
       "       [ 0.00000000e+00+0.00000000e+00j],\n",
       "       [-8.90638570e-17-6.93560074e-16j],\n",
       "       [-8.90638570e-17-6.93560074e-16j],\n",
       "       [-8.90638570e-17-6.93560074e-16j],\n",
       "       [ 0.00000000e+00+0.00000000e+00j],\n",
       "       [ 6.45172572e-16+2.69648475e-16j],\n",
       "       [-8.90638570e-17-6.93560074e-16j],\n",
       "       [-5.56108715e-16+4.23911600e-16j],\n",
       "       [ 0.00000000e+00+0.00000000e+00j],\n",
       "       [-5.56108715e-16+4.23911600e-16j],\n",
       "       [-8.90638570e-17-6.93560074e-16j],\n",
       "       [ 6.45172572e-16+2.69648475e-16j],\n",
       "       [ 0.00000000e+00+0.00000000e+00j],\n",
       "       [ 0.00000000e+00+0.00000000e+00j],\n",
       "       [ 0.00000000e+00+0.00000000e+00j],\n",
       "       [ 0.00000000e+00+0.00000000e+00j],\n",
       "       [ 0.00000000e+00+0.00000000e+00j],\n",
       "       [ 1.11111111e-01-1.03030609e-17j],\n",
       "       [ 1.11111111e-01-1.03030609e-17j],\n",
       "       [ 1.11111111e-01-1.03030609e-17j],\n",
       "       [ 0.00000000e+00+0.00000000e+00j],\n",
       "       [-5.55555556e-02-9.62250449e-02j],\n",
       "       [-5.55555556e-02+9.62250449e-02j],\n",
       "       [ 1.11111111e-01-6.24500451e-17j],\n",
       "       [ 0.00000000e+00+0.00000000e+00j],\n",
       "       [-5.55555556e-02+9.62250449e-02j],\n",
       "       [-5.55555556e-02-9.62250449e-02j],\n",
       "       [ 1.11111111e-01-3.12250226e-16j],\n",
       "       [ 0.00000000e+00+0.00000000e+00j],\n",
       "       [ 0.00000000e+00+0.00000000e+00j],\n",
       "       [ 0.00000000e+00+0.00000000e+00j],\n",
       "       [ 0.00000000e+00+0.00000000e+00j],\n",
       "       [ 0.00000000e+00+0.00000000e+00j],\n",
       "       [-5.55555556e-02-9.62250449e-02j],\n",
       "       [-5.55555556e-02-9.62250449e-02j],\n",
       "       [-5.55555556e-02-9.62250449e-02j],\n",
       "       [ 0.00000000e+00+0.00000000e+00j],\n",
       "       [-5.55555556e-02+9.62250449e-02j],\n",
       "       [ 1.11111111e-01-1.17961196e-16j],\n",
       "       [-5.55555556e-02-9.62250449e-02j],\n",
       "       [ 0.00000000e+00+0.00000000e+00j],\n",
       "       [ 1.11111111e-01+1.73472348e-16j],\n",
       "       [-5.55555556e-02+9.62250449e-02j],\n",
       "       [-5.55555556e-02-9.62250449e-02j],\n",
       "       [ 0.00000000e+00+0.00000000e+00j],\n",
       "       [ 0.00000000e+00+0.00000000e+00j],\n",
       "       [ 0.00000000e+00+0.00000000e+00j],\n",
       "       [ 0.00000000e+00+0.00000000e+00j],\n",
       "       [ 0.00000000e+00+0.00000000e+00j],\n",
       "       [-5.55555556e-02+9.62250449e-02j],\n",
       "       [-5.55555556e-02+9.62250449e-02j],\n",
       "       [-5.55555556e-02+9.62250449e-02j],\n",
       "       [ 0.00000000e+00+0.00000000e+00j],\n",
       "       [ 1.11111111e-01-1.87350135e-16j],\n",
       "       [-5.55555556e-02-9.62250449e-02j],\n",
       "       [-5.55555556e-02+9.62250449e-02j],\n",
       "       [ 0.00000000e+00+0.00000000e+00j],\n",
       "       [-5.55555556e-02-9.62250449e-02j],\n",
       "       [ 1.11111111e-01-1.38777878e-16j],\n",
       "       [-5.55555556e-02+9.62250449e-02j],\n",
       "       [ 0.00000000e+00+0.00000000e+00j],\n",
       "       [ 0.00000000e+00+0.00000000e+00j],\n",
       "       [ 0.00000000e+00+0.00000000e+00j],\n",
       "       [ 0.00000000e+00+0.00000000e+00j],\n",
       "       [ 0.00000000e+00+0.00000000e+00j],\n",
       "       [-4.75646302e-16-2.08220000e-16j],\n",
       "       [-4.75646302e-16-2.08220000e-16j],\n",
       "       [-4.75646302e-16-2.08220000e-16j],\n",
       "       [ 0.00000000e+00+0.00000000e+00j],\n",
       "       [ 5.74993416e-17+5.16031780e-16j],\n",
       "       [ 4.18146960e-16-3.07811781e-16j],\n",
       "       [-4.75646302e-16-2.08220000e-16j],\n",
       "       [ 0.00000000e+00+0.00000000e+00j],\n",
       "       [ 4.18146960e-16-3.07811781e-16j],\n",
       "       [ 5.74993416e-17+5.16031780e-16j],\n",
       "       [-4.75646302e-16-2.08220000e-16j],\n",
       "       [ 0.00000000e+00+0.00000000e+00j],\n",
       "       [ 0.00000000e+00+0.00000000e+00j],\n",
       "       [ 0.00000000e+00+0.00000000e+00j],\n",
       "       [ 0.00000000e+00+0.00000000e+00j],\n",
       "       [ 0.00000000e+00+0.00000000e+00j],\n",
       "       [ 4.16879105e-16+2.24447030e-16j],\n",
       "       [ 4.16879105e-16+2.24447030e-16j],\n",
       "       [ 4.16879105e-16+2.24447030e-16j],\n",
       "       [ 0.00000000e+00+0.00000000e+00j],\n",
       "       [-3.05770224e-16-7.67177478e-16j],\n",
       "       [-5.11510073e-16+6.48393520e-16j],\n",
       "       [ 8.17280297e-16+1.18783957e-16j],\n",
       "       [ 0.00000000e+00+0.00000000e+00j],\n",
       "       [ 1.82394355e-16-4.21070825e-16j],\n",
       "       [ 2.73460854e-16+3.68493558e-16j],\n",
       "       [-4.55855209e-16+5.25772674e-17j],\n",
       "       [ 0.00000000e+00+0.00000000e+00j],\n",
       "       [ 0.00000000e+00+0.00000000e+00j],\n",
       "       [ 0.00000000e+00+0.00000000e+00j],\n",
       "       [ 0.00000000e+00+0.00000000e+00j],\n",
       "       [ 0.00000000e+00+0.00000000e+00j],\n",
       "       [-3.05770224e-16-7.67177478e-16j],\n",
       "       [-3.05770224e-16-7.67177478e-16j],\n",
       "       [-3.05770224e-16-7.67177478e-16j],\n",
       "       [ 0.00000000e+00+0.00000000e+00j],\n",
       "       [ 1.82394355e-16-4.21070825e-16j],\n",
       "       [-4.55855209e-16+5.25772674e-17j],\n",
       "       [ 2.73460854e-16+3.68493558e-16j],\n",
       "       [ 0.00000000e+00+0.00000000e+00j],\n",
       "       [ 4.16879105e-16+2.24447030e-16j],\n",
       "       [-4.02816382e-16+2.48804381e-16j],\n",
       "       [-1.40627229e-17-4.73251410e-16j],\n",
       "       [ 0.00000000e+00+0.00000000e+00j],\n",
       "       [ 0.00000000e+00+0.00000000e+00j],\n",
       "       [ 0.00000000e+00+0.00000000e+00j],\n",
       "       [ 0.00000000e+00+0.00000000e+00j],\n",
       "       [ 0.00000000e+00+0.00000000e+00j],\n",
       "       [ 1.82394355e-16-4.21070825e-16j],\n",
       "       [ 1.82394355e-16-4.21070825e-16j],\n",
       "       [ 1.82394355e-16-4.21070825e-16j],\n",
       "       [ 0.00000000e+00+0.00000000e+00j],\n",
       "       [ 4.16879105e-16+2.24447030e-16j],\n",
       "       [-1.40627229e-17-4.73251410e-16j],\n",
       "       [-4.02816382e-16+2.48804381e-16j],\n",
       "       [ 0.00000000e+00+0.00000000e+00j],\n",
       "       [-3.05770224e-16-7.67177478e-16j],\n",
       "       [ 8.17280297e-16+1.18783957e-16j],\n",
       "       [-5.11510073e-16+6.48393520e-16j],\n",
       "       [ 0.00000000e+00+0.00000000e+00j],\n",
       "       [ 0.00000000e+00+0.00000000e+00j],\n",
       "       [ 0.00000000e+00+0.00000000e+00j],\n",
       "       [ 0.00000000e+00+0.00000000e+00j],\n",
       "       [ 0.00000000e+00+0.00000000e+00j],\n",
       "       [ 3.11936969e-30-8.51534056e-31j],\n",
       "       [ 3.11936969e-30-8.51534056e-31j],\n",
       "       [ 3.11936969e-30-8.51534056e-31j],\n",
       "       [ 0.00000000e+00+0.00000000e+00j],\n",
       "       [ 3.11143036e-31+4.72365047e-30j],\n",
       "       [ 3.93522979e-30-2.63128301e-30j],\n",
       "       [-4.24637282e-30-2.09236746e-30j],\n",
       "       [ 0.00000000e+00+0.00000000e+00j],\n",
       "       [ 9.12524719e-31-1.16252405e-30j],\n",
       "       [ 5.50512996e-31+1.37153161e-30j],\n",
       "       [-1.46303772e-30-2.09007566e-31j],\n",
       "       [ 0.00000000e+00+0.00000000e+00j],\n",
       "       [ 0.00000000e+00+0.00000000e+00j],\n",
       "       [ 0.00000000e+00+0.00000000e+00j],\n",
       "       [ 0.00000000e+00+0.00000000e+00j],\n",
       "       [ 0.00000000e+00+0.00000000e+00j]])"
      ]
     },
     "execution_count": 136,
     "metadata": {},
     "output_type": "execute_result"
    }
   ],
   "execution_count": 136
  },
  {
   "metadata": {
    "ExecuteTime": {
     "end_time": "2025-03-24T20:28:56.689195Z",
     "start_time": "2025-03-24T20:28:56.652079Z"
    }
   },
   "cell_type": "code",
   "source": "dictKEYS",
   "id": "a8a7d710d22b507f",
   "outputs": [
    {
     "data": {
      "text/plain": [
       "['IIII',\n",
       " 'IIIF',\n",
       " 'IIIF+',\n",
       " 'IIIX',\n",
       " 'IIIZ',\n",
       " 'IIFI',\n",
       " 'IIFF',\n",
       " 'IIFF+',\n",
       " 'IIFX',\n",
       " 'IIFZ',\n",
       " 'IIF+I',\n",
       " 'IIF+F',\n",
       " 'IIF+F+',\n",
       " 'IIF+X',\n",
       " 'IIF+Z',\n",
       " 'IIXI',\n",
       " 'IIXF',\n",
       " 'IIXF+',\n",
       " 'IIXX',\n",
       " 'IIXZ',\n",
       " 'IIZI',\n",
       " 'IIZF',\n",
       " 'IIZF+',\n",
       " 'IIZX',\n",
       " 'IIZZ',\n",
       " 'IFII',\n",
       " 'IFIF',\n",
       " 'IFIF+',\n",
       " 'IFIX',\n",
       " 'IFIZ',\n",
       " 'IFFI',\n",
       " 'IFFF',\n",
       " 'IFFF+',\n",
       " 'IFFX',\n",
       " 'IFFZ',\n",
       " 'IFF+I',\n",
       " 'IFF+F',\n",
       " 'IFF+F+',\n",
       " 'IFF+X',\n",
       " 'IFF+Z',\n",
       " 'IFXI',\n",
       " 'IFXF',\n",
       " 'IFXF+',\n",
       " 'IFXX',\n",
       " 'IFXZ',\n",
       " 'IFZI',\n",
       " 'IFZF',\n",
       " 'IFZF+',\n",
       " 'IFZX',\n",
       " 'IFZZ',\n",
       " 'IF+II',\n",
       " 'IF+IF',\n",
       " 'IF+IF+',\n",
       " 'IF+IX',\n",
       " 'IF+IZ',\n",
       " 'IF+FI',\n",
       " 'IF+FF',\n",
       " 'IF+FF+',\n",
       " 'IF+FX',\n",
       " 'IF+FZ',\n",
       " 'IF+F+I',\n",
       " 'IF+F+F',\n",
       " 'IF+F+F+',\n",
       " 'IF+F+X',\n",
       " 'IF+F+Z',\n",
       " 'IF+XI',\n",
       " 'IF+XF',\n",
       " 'IF+XF+',\n",
       " 'IF+XX',\n",
       " 'IF+XZ',\n",
       " 'IF+ZI',\n",
       " 'IF+ZF',\n",
       " 'IF+ZF+',\n",
       " 'IF+ZX',\n",
       " 'IF+ZZ',\n",
       " 'IXII',\n",
       " 'IXIF',\n",
       " 'IXIF+',\n",
       " 'IXIX',\n",
       " 'IXIZ',\n",
       " 'IXFI',\n",
       " 'IXFF',\n",
       " 'IXFF+',\n",
       " 'IXFX',\n",
       " 'IXFZ',\n",
       " 'IXF+I',\n",
       " 'IXF+F',\n",
       " 'IXF+F+',\n",
       " 'IXF+X',\n",
       " 'IXF+Z',\n",
       " 'IXXI',\n",
       " 'IXXF',\n",
       " 'IXXF+',\n",
       " 'IXXX',\n",
       " 'IXXZ',\n",
       " 'IXZI',\n",
       " 'IXZF',\n",
       " 'IXZF+',\n",
       " 'IXZX',\n",
       " 'IXZZ',\n",
       " 'IZII',\n",
       " 'IZIF',\n",
       " 'IZIF+',\n",
       " 'IZIX',\n",
       " 'IZIZ',\n",
       " 'IZFI',\n",
       " 'IZFF',\n",
       " 'IZFF+',\n",
       " 'IZFX',\n",
       " 'IZFZ',\n",
       " 'IZF+I',\n",
       " 'IZF+F',\n",
       " 'IZF+F+',\n",
       " 'IZF+X',\n",
       " 'IZF+Z',\n",
       " 'IZXI',\n",
       " 'IZXF',\n",
       " 'IZXF+',\n",
       " 'IZXX',\n",
       " 'IZXZ',\n",
       " 'IZZI',\n",
       " 'IZZF',\n",
       " 'IZZF+',\n",
       " 'IZZX',\n",
       " 'IZZZ',\n",
       " 'FIII',\n",
       " 'FIIF',\n",
       " 'FIIF+',\n",
       " 'FIIX',\n",
       " 'FIIZ',\n",
       " 'FIFI',\n",
       " 'FIFF',\n",
       " 'FIFF+',\n",
       " 'FIFX',\n",
       " 'FIFZ',\n",
       " 'FIF+I',\n",
       " 'FIF+F',\n",
       " 'FIF+F+',\n",
       " 'FIF+X',\n",
       " 'FIF+Z',\n",
       " 'FIXI',\n",
       " 'FIXF',\n",
       " 'FIXF+',\n",
       " 'FIXX',\n",
       " 'FIXZ',\n",
       " 'FIZI',\n",
       " 'FIZF',\n",
       " 'FIZF+',\n",
       " 'FIZX',\n",
       " 'FIZZ',\n",
       " 'FFII',\n",
       " 'FFIF',\n",
       " 'FFIF+',\n",
       " 'FFIX',\n",
       " 'FFIZ',\n",
       " 'FFFI',\n",
       " 'FFFF',\n",
       " 'FFFF+',\n",
       " 'FFFX',\n",
       " 'FFFZ',\n",
       " 'FFF+I',\n",
       " 'FFF+F',\n",
       " 'FFF+F+',\n",
       " 'FFF+X',\n",
       " 'FFF+Z',\n",
       " 'FFXI',\n",
       " 'FFXF',\n",
       " 'FFXF+',\n",
       " 'FFXX',\n",
       " 'FFXZ',\n",
       " 'FFZI',\n",
       " 'FFZF',\n",
       " 'FFZF+',\n",
       " 'FFZX',\n",
       " 'FFZZ',\n",
       " 'FF+II',\n",
       " 'FF+IF',\n",
       " 'FF+IF+',\n",
       " 'FF+IX',\n",
       " 'FF+IZ',\n",
       " 'FF+FI',\n",
       " 'FF+FF',\n",
       " 'FF+FF+',\n",
       " 'FF+FX',\n",
       " 'FF+FZ',\n",
       " 'FF+F+I',\n",
       " 'FF+F+F',\n",
       " 'FF+F+F+',\n",
       " 'FF+F+X',\n",
       " 'FF+F+Z',\n",
       " 'FF+XI',\n",
       " 'FF+XF',\n",
       " 'FF+XF+',\n",
       " 'FF+XX',\n",
       " 'FF+XZ',\n",
       " 'FF+ZI',\n",
       " 'FF+ZF',\n",
       " 'FF+ZF+',\n",
       " 'FF+ZX',\n",
       " 'FF+ZZ',\n",
       " 'FXII',\n",
       " 'FXIF',\n",
       " 'FXIF+',\n",
       " 'FXIX',\n",
       " 'FXIZ',\n",
       " 'FXFI',\n",
       " 'FXFF',\n",
       " 'FXFF+',\n",
       " 'FXFX',\n",
       " 'FXFZ',\n",
       " 'FXF+I',\n",
       " 'FXF+F',\n",
       " 'FXF+F+',\n",
       " 'FXF+X',\n",
       " 'FXF+Z',\n",
       " 'FXXI',\n",
       " 'FXXF',\n",
       " 'FXXF+',\n",
       " 'FXXX',\n",
       " 'FXXZ',\n",
       " 'FXZI',\n",
       " 'FXZF',\n",
       " 'FXZF+',\n",
       " 'FXZX',\n",
       " 'FXZZ',\n",
       " 'FZII',\n",
       " 'FZIF',\n",
       " 'FZIF+',\n",
       " 'FZIX',\n",
       " 'FZIZ',\n",
       " 'FZFI',\n",
       " 'FZFF',\n",
       " 'FZFF+',\n",
       " 'FZFX',\n",
       " 'FZFZ',\n",
       " 'FZF+I',\n",
       " 'FZF+F',\n",
       " 'FZF+F+',\n",
       " 'FZF+X',\n",
       " 'FZF+Z',\n",
       " 'FZXI',\n",
       " 'FZXF',\n",
       " 'FZXF+',\n",
       " 'FZXX',\n",
       " 'FZXZ',\n",
       " 'FZZI',\n",
       " 'FZZF',\n",
       " 'FZZF+',\n",
       " 'FZZX',\n",
       " 'FZZZ',\n",
       " 'F+III',\n",
       " 'F+IIF',\n",
       " 'F+IIF+',\n",
       " 'F+IIX',\n",
       " 'F+IIZ',\n",
       " 'F+IFI',\n",
       " 'F+IFF',\n",
       " 'F+IFF+',\n",
       " 'F+IFX',\n",
       " 'F+IFZ',\n",
       " 'F+IF+I',\n",
       " 'F+IF+F',\n",
       " 'F+IF+F+',\n",
       " 'F+IF+X',\n",
       " 'F+IF+Z',\n",
       " 'F+IXI',\n",
       " 'F+IXF',\n",
       " 'F+IXF+',\n",
       " 'F+IXX',\n",
       " 'F+IXZ',\n",
       " 'F+IZI',\n",
       " 'F+IZF',\n",
       " 'F+IZF+',\n",
       " 'F+IZX',\n",
       " 'F+IZZ',\n",
       " 'F+FII',\n",
       " 'F+FIF',\n",
       " 'F+FIF+',\n",
       " 'F+FIX',\n",
       " 'F+FIZ',\n",
       " 'F+FFI',\n",
       " 'F+FFF',\n",
       " 'F+FFF+',\n",
       " 'F+FFX',\n",
       " 'F+FFZ',\n",
       " 'F+FF+I',\n",
       " 'F+FF+F',\n",
       " 'F+FF+F+',\n",
       " 'F+FF+X',\n",
       " 'F+FF+Z',\n",
       " 'F+FXI',\n",
       " 'F+FXF',\n",
       " 'F+FXF+',\n",
       " 'F+FXX',\n",
       " 'F+FXZ',\n",
       " 'F+FZI',\n",
       " 'F+FZF',\n",
       " 'F+FZF+',\n",
       " 'F+FZX',\n",
       " 'F+FZZ',\n",
       " 'F+F+II',\n",
       " 'F+F+IF',\n",
       " 'F+F+IF+',\n",
       " 'F+F+IX',\n",
       " 'F+F+IZ',\n",
       " 'F+F+FI',\n",
       " 'F+F+FF',\n",
       " 'F+F+FF+',\n",
       " 'F+F+FX',\n",
       " 'F+F+FZ',\n",
       " 'F+F+F+I',\n",
       " 'F+F+F+F',\n",
       " 'F+F+F+F+',\n",
       " 'F+F+F+X',\n",
       " 'F+F+F+Z',\n",
       " 'F+F+XI',\n",
       " 'F+F+XF',\n",
       " 'F+F+XF+',\n",
       " 'F+F+XX',\n",
       " 'F+F+XZ',\n",
       " 'F+F+ZI',\n",
       " 'F+F+ZF',\n",
       " 'F+F+ZF+',\n",
       " 'F+F+ZX',\n",
       " 'F+F+ZZ',\n",
       " 'F+XII',\n",
       " 'F+XIF',\n",
       " 'F+XIF+',\n",
       " 'F+XIX',\n",
       " 'F+XIZ',\n",
       " 'F+XFI',\n",
       " 'F+XFF',\n",
       " 'F+XFF+',\n",
       " 'F+XFX',\n",
       " 'F+XFZ',\n",
       " 'F+XF+I',\n",
       " 'F+XF+F',\n",
       " 'F+XF+F+',\n",
       " 'F+XF+X',\n",
       " 'F+XF+Z',\n",
       " 'F+XXI',\n",
       " 'F+XXF',\n",
       " 'F+XXF+',\n",
       " 'F+XXX',\n",
       " 'F+XXZ',\n",
       " 'F+XZI',\n",
       " 'F+XZF',\n",
       " 'F+XZF+',\n",
       " 'F+XZX',\n",
       " 'F+XZZ',\n",
       " 'F+ZII',\n",
       " 'F+ZIF',\n",
       " 'F+ZIF+',\n",
       " 'F+ZIX',\n",
       " 'F+ZIZ',\n",
       " 'F+ZFI',\n",
       " 'F+ZFF',\n",
       " 'F+ZFF+',\n",
       " 'F+ZFX',\n",
       " 'F+ZFZ',\n",
       " 'F+ZF+I',\n",
       " 'F+ZF+F',\n",
       " 'F+ZF+F+',\n",
       " 'F+ZF+X',\n",
       " 'F+ZF+Z',\n",
       " 'F+ZXI',\n",
       " 'F+ZXF',\n",
       " 'F+ZXF+',\n",
       " 'F+ZXX',\n",
       " 'F+ZXZ',\n",
       " 'F+ZZI',\n",
       " 'F+ZZF',\n",
       " 'F+ZZF+',\n",
       " 'F+ZZX',\n",
       " 'F+ZZZ',\n",
       " 'XIII',\n",
       " 'XIIF',\n",
       " 'XIIF+',\n",
       " 'XIIX',\n",
       " 'XIIZ',\n",
       " 'XIFI',\n",
       " 'XIFF',\n",
       " 'XIFF+',\n",
       " 'XIFX',\n",
       " 'XIFZ',\n",
       " 'XIF+I',\n",
       " 'XIF+F',\n",
       " 'XIF+F+',\n",
       " 'XIF+X',\n",
       " 'XIF+Z',\n",
       " 'XIXI',\n",
       " 'XIXF',\n",
       " 'XIXF+',\n",
       " 'XIXX',\n",
       " 'XIXZ',\n",
       " 'XIZI',\n",
       " 'XIZF',\n",
       " 'XIZF+',\n",
       " 'XIZX',\n",
       " 'XIZZ',\n",
       " 'XFII',\n",
       " 'XFIF',\n",
       " 'XFIF+',\n",
       " 'XFIX',\n",
       " 'XFIZ',\n",
       " 'XFFI',\n",
       " 'XFFF',\n",
       " 'XFFF+',\n",
       " 'XFFX',\n",
       " 'XFFZ',\n",
       " 'XFF+I',\n",
       " 'XFF+F',\n",
       " 'XFF+F+',\n",
       " 'XFF+X',\n",
       " 'XFF+Z',\n",
       " 'XFXI',\n",
       " 'XFXF',\n",
       " 'XFXF+',\n",
       " 'XFXX',\n",
       " 'XFXZ',\n",
       " 'XFZI',\n",
       " 'XFZF',\n",
       " 'XFZF+',\n",
       " 'XFZX',\n",
       " 'XFZZ',\n",
       " 'XF+II',\n",
       " 'XF+IF',\n",
       " 'XF+IF+',\n",
       " 'XF+IX',\n",
       " 'XF+IZ',\n",
       " 'XF+FI',\n",
       " 'XF+FF',\n",
       " 'XF+FF+',\n",
       " 'XF+FX',\n",
       " 'XF+FZ',\n",
       " 'XF+F+I',\n",
       " 'XF+F+F',\n",
       " 'XF+F+F+',\n",
       " 'XF+F+X',\n",
       " 'XF+F+Z',\n",
       " 'XF+XI',\n",
       " 'XF+XF',\n",
       " 'XF+XF+',\n",
       " 'XF+XX',\n",
       " 'XF+XZ',\n",
       " 'XF+ZI',\n",
       " 'XF+ZF',\n",
       " 'XF+ZF+',\n",
       " 'XF+ZX',\n",
       " 'XF+ZZ',\n",
       " 'XXII',\n",
       " 'XXIF',\n",
       " 'XXIF+',\n",
       " 'XXIX',\n",
       " 'XXIZ',\n",
       " 'XXFI',\n",
       " 'XXFF',\n",
       " 'XXFF+',\n",
       " 'XXFX',\n",
       " 'XXFZ',\n",
       " 'XXF+I',\n",
       " 'XXF+F',\n",
       " 'XXF+F+',\n",
       " 'XXF+X',\n",
       " 'XXF+Z',\n",
       " 'XXXI',\n",
       " 'XXXF',\n",
       " 'XXXF+',\n",
       " 'XXXX',\n",
       " 'XXXZ',\n",
       " 'XXZI',\n",
       " 'XXZF',\n",
       " 'XXZF+',\n",
       " 'XXZX',\n",
       " 'XXZZ',\n",
       " 'XZII',\n",
       " 'XZIF',\n",
       " 'XZIF+',\n",
       " 'XZIX',\n",
       " 'XZIZ',\n",
       " 'XZFI',\n",
       " 'XZFF',\n",
       " 'XZFF+',\n",
       " 'XZFX',\n",
       " 'XZFZ',\n",
       " 'XZF+I',\n",
       " 'XZF+F',\n",
       " 'XZF+F+',\n",
       " 'XZF+X',\n",
       " 'XZF+Z',\n",
       " 'XZXI',\n",
       " 'XZXF',\n",
       " 'XZXF+',\n",
       " 'XZXX',\n",
       " 'XZXZ',\n",
       " 'XZZI',\n",
       " 'XZZF',\n",
       " 'XZZF+',\n",
       " 'XZZX',\n",
       " 'XZZZ',\n",
       " 'ZIII',\n",
       " 'ZIIF',\n",
       " 'ZIIF+',\n",
       " 'ZIIX',\n",
       " 'ZIIZ',\n",
       " 'ZIFI',\n",
       " 'ZIFF',\n",
       " 'ZIFF+',\n",
       " 'ZIFX',\n",
       " 'ZIFZ',\n",
       " 'ZIF+I',\n",
       " 'ZIF+F',\n",
       " 'ZIF+F+',\n",
       " 'ZIF+X',\n",
       " 'ZIF+Z',\n",
       " 'ZIXI',\n",
       " 'ZIXF',\n",
       " 'ZIXF+',\n",
       " 'ZIXX',\n",
       " 'ZIXZ',\n",
       " 'ZIZI',\n",
       " 'ZIZF',\n",
       " 'ZIZF+',\n",
       " 'ZIZX',\n",
       " 'ZIZZ',\n",
       " 'ZFII',\n",
       " 'ZFIF',\n",
       " 'ZFIF+',\n",
       " 'ZFIX',\n",
       " 'ZFIZ',\n",
       " 'ZFFI',\n",
       " 'ZFFF',\n",
       " 'ZFFF+',\n",
       " 'ZFFX',\n",
       " 'ZFFZ',\n",
       " 'ZFF+I',\n",
       " 'ZFF+F',\n",
       " 'ZFF+F+',\n",
       " 'ZFF+X',\n",
       " 'ZFF+Z',\n",
       " 'ZFXI',\n",
       " 'ZFXF',\n",
       " 'ZFXF+',\n",
       " 'ZFXX',\n",
       " 'ZFXZ',\n",
       " 'ZFZI',\n",
       " 'ZFZF',\n",
       " 'ZFZF+',\n",
       " 'ZFZX',\n",
       " 'ZFZZ',\n",
       " 'ZF+II',\n",
       " 'ZF+IF',\n",
       " 'ZF+IF+',\n",
       " 'ZF+IX',\n",
       " 'ZF+IZ',\n",
       " 'ZF+FI',\n",
       " 'ZF+FF',\n",
       " 'ZF+FF+',\n",
       " 'ZF+FX',\n",
       " 'ZF+FZ',\n",
       " 'ZF+F+I',\n",
       " 'ZF+F+F',\n",
       " 'ZF+F+F+',\n",
       " 'ZF+F+X',\n",
       " 'ZF+F+Z',\n",
       " 'ZF+XI',\n",
       " 'ZF+XF',\n",
       " 'ZF+XF+',\n",
       " 'ZF+XX',\n",
       " 'ZF+XZ',\n",
       " 'ZF+ZI',\n",
       " 'ZF+ZF',\n",
       " 'ZF+ZF+',\n",
       " 'ZF+ZX',\n",
       " 'ZF+ZZ',\n",
       " 'ZXII',\n",
       " 'ZXIF',\n",
       " 'ZXIF+',\n",
       " 'ZXIX',\n",
       " 'ZXIZ',\n",
       " 'ZXFI',\n",
       " 'ZXFF',\n",
       " 'ZXFF+',\n",
       " 'ZXFX',\n",
       " 'ZXFZ',\n",
       " 'ZXF+I',\n",
       " 'ZXF+F',\n",
       " 'ZXF+F+',\n",
       " 'ZXF+X',\n",
       " 'ZXF+Z',\n",
       " 'ZXXI',\n",
       " 'ZXXF',\n",
       " 'ZXXF+',\n",
       " 'ZXXX',\n",
       " 'ZXXZ',\n",
       " 'ZXZI',\n",
       " 'ZXZF',\n",
       " 'ZXZF+',\n",
       " 'ZXZX',\n",
       " 'ZXZZ',\n",
       " 'ZZII',\n",
       " 'ZZIF',\n",
       " 'ZZIF+',\n",
       " 'ZZIX',\n",
       " 'ZZIZ',\n",
       " 'ZZFI',\n",
       " 'ZZFF',\n",
       " 'ZZFF+',\n",
       " 'ZZFX',\n",
       " 'ZZFZ',\n",
       " 'ZZF+I',\n",
       " 'ZZF+F',\n",
       " 'ZZF+F+',\n",
       " 'ZZF+X',\n",
       " 'ZZF+Z',\n",
       " 'ZZXI',\n",
       " 'ZZXF',\n",
       " 'ZZXF+',\n",
       " 'ZZXX',\n",
       " 'ZZXZ',\n",
       " 'ZZZI',\n",
       " 'ZZZF',\n",
       " 'ZZZF+',\n",
       " 'ZZZX',\n",
       " 'ZZZZ']"
      ]
     },
     "execution_count": 137,
     "metadata": {},
     "output_type": "execute_result"
    }
   ],
   "execution_count": 137
  },
  {
   "metadata": {
    "ExecuteTime": {
     "end_time": "2025-03-24T20:28:56.720290Z",
     "start_time": "2025-03-24T20:28:56.701737Z"
    }
   },
   "cell_type": "code",
   "source": "",
   "id": "7db6ffd1b571eb2d",
   "outputs": [],
   "execution_count": null
  },
  {
   "metadata": {
    "ExecuteTime": {
     "end_time": "2025-03-24T20:28:56.751775Z",
     "start_time": "2025-03-24T20:28:56.729718Z"
    }
   },
   "cell_type": "code",
   "source": [
    "for i in dictKEYS:\n",
    "    if np.count_nonzero(Statevector(ame_changed_dict[i])) != 256:\n",
    "        print(i)\n",
    "        print(np.count_nonzero(Statevector(ame_changed_dict[i])))"
   ],
   "id": "34d1a3a8c1c3cc89",
   "outputs": [
    {
     "name": "stdout",
     "output_type": "stream",
     "text": [
      "IIIF+\n",
      "255\n",
      "IIXF+\n",
      "255\n",
      "IIZF+\n",
      "255\n",
      "IXIF+\n",
      "255\n",
      "IXXF+\n",
      "255\n",
      "IXZF+\n",
      "255\n",
      "IZIF+\n",
      "255\n",
      "IZXF+\n",
      "255\n",
      "FIFZ\n",
      "255\n",
      "FIF+Z\n",
      "255\n",
      "FXFZ\n",
      "255\n",
      "FXF+Z\n",
      "255\n",
      "FZFZ\n",
      "255\n",
      "FZF+I\n",
      "255\n",
      "FZF+X\n",
      "255\n",
      "FZF+Z\n",
      "254\n",
      "F+IFZ\n",
      "255\n",
      "F+IF+I\n",
      "255\n",
      "F+IF+X\n",
      "255\n",
      "F+XFZ\n",
      "255\n",
      "F+XF+I\n",
      "255\n",
      "F+XF+X\n",
      "255\n",
      "F+ZFZ\n",
      "255\n",
      "F+ZF+I\n",
      "255\n",
      "F+ZF+X\n",
      "255\n",
      "XIIF+\n",
      "255\n",
      "XIXF+\n",
      "255\n",
      "XIZF+\n",
      "255\n",
      "XXIF+\n",
      "255\n",
      "XXXF+\n",
      "255\n",
      "XXZF+\n",
      "255\n",
      "XZIF+\n",
      "255\n",
      "XZXF+\n",
      "255\n",
      "ZIIF+\n",
      "255\n",
      "ZIXF+\n",
      "255\n",
      "ZXIF+\n",
      "255\n",
      "ZXXF+\n",
      "255\n"
     ]
    }
   ],
   "execution_count": 138
  },
  {
   "metadata": {
    "ExecuteTime": {
     "end_time": "2025-03-24T20:28:56.783384Z",
     "start_time": "2025-03-24T20:28:56.759308Z"
    }
   },
   "cell_type": "code",
   "source": [
    "for i in dictKEYS:\n",
    "    if np.count_nonzero(ame_changed_dict[i]) != 256:\n",
    "        print(i)\n",
    "        print(np.count_nonzero(ame_changed_dict[i]))"
   ],
   "id": "1b3b77cbd741c93d",
   "outputs": [
    {
     "name": "stdout",
     "output_type": "stream",
     "text": [
      "IIIF+\n",
      "255\n",
      "IIXF+\n",
      "255\n",
      "IIZF+\n",
      "255\n",
      "IXIF+\n",
      "255\n",
      "IXXF+\n",
      "255\n",
      "IXZF+\n",
      "255\n",
      "IZIF+\n",
      "255\n",
      "IZXF+\n",
      "255\n",
      "FIFZ\n",
      "255\n",
      "FIF+Z\n",
      "255\n",
      "FXFZ\n",
      "255\n",
      "FXF+Z\n",
      "255\n",
      "FZFZ\n",
      "255\n",
      "FZF+I\n",
      "255\n",
      "FZF+X\n",
      "255\n",
      "FZF+Z\n",
      "254\n",
      "F+IFZ\n",
      "255\n",
      "F+IF+I\n",
      "255\n",
      "F+IF+X\n",
      "255\n",
      "F+XFZ\n",
      "255\n",
      "F+XF+I\n",
      "255\n",
      "F+XF+X\n",
      "255\n",
      "F+ZFZ\n",
      "255\n",
      "F+ZF+I\n",
      "255\n",
      "F+ZF+X\n",
      "255\n",
      "XIIF+\n",
      "255\n",
      "XIXF+\n",
      "255\n",
      "XIZF+\n",
      "255\n",
      "XXIF+\n",
      "255\n",
      "XXXF+\n",
      "255\n",
      "XXZF+\n",
      "255\n",
      "XZIF+\n",
      "255\n",
      "XZXF+\n",
      "255\n",
      "ZIIF+\n",
      "255\n",
      "ZIXF+\n",
      "255\n",
      "ZXIF+\n",
      "255\n",
      "ZXXF+\n",
      "255\n"
     ]
    }
   ],
   "execution_count": 139
  },
  {
   "metadata": {
    "ExecuteTime": {
     "end_time": "2025-03-24T20:28:56.799242Z",
     "start_time": "2025-03-24T20:28:56.789709Z"
    }
   },
   "cell_type": "code",
   "source": "from qiskit.quantum_info import partial_trace",
   "id": "c18e95a13b01c920",
   "outputs": [],
   "execution_count": 140
  },
  {
   "metadata": {},
   "cell_type": "markdown",
   "source": "zrobic algorytm ktory sprawdza wszystkie partial_trace i sprawdzic czy wychodzi tak ja u Alby w pracy",
   "id": "242110545f05ef7c"
  },
  {
   "metadata": {
    "ExecuteTime": {
     "end_time": "2025-03-24T20:34:45.828956Z",
     "start_time": "2025-03-24T20:34:45.819923Z"
    }
   },
   "cell_type": "code",
   "source": "pt1 = partial_trace(ame43state, [0,1,2,3])",
   "id": "dcd00113ddce5a48",
   "outputs": [],
   "execution_count": 160
  },
  {
   "metadata": {
    "ExecuteTime": {
     "end_time": "2025-03-24T20:34:46.396887Z",
     "start_time": "2025-03-24T20:34:46.353762Z"
    }
   },
   "cell_type": "code",
   "source": "pt1.draw('latex')",
   "id": "a7fd6b2edfd2ff73",
   "outputs": [
    {
     "data": {
      "text/plain": [
       "<IPython.core.display.Latex object>"
      ],
      "text/latex": "$$\n\n\\begin{bmatrix}\n\\frac{1}{9} & 0 & 0 & 0 & \\cdots & 0 & 0 & 0  \\\\\n 0 & \\frac{1}{9} & 0 & 0 & \\cdots & 0 & 0 & 0  \\\\\n 0 & 0 & \\frac{1}{9} & 0 & \\cdots & 0 & 0 & 0  \\\\\n 0 & 0 & 0 & 0 & \\cdots & 0 & 0 & 0  \\\\\n \\vdots & \\vdots & \\vdots & \\vdots & \\ddots & \\vdots & \\vdots & \\vdots \\\\\n 0 & 0 & 0 & 0 & \\cdots & 0 & 0 & 0  \\\\\n 0 & 0 & 0 & 0 & \\cdots & 0 & 0 & 0  \\\\\n 0 & 0 & 0 & 0 & \\cdots & 0 & 0 & 0  \\\\\n \\end{bmatrix}\n$$"
     },
     "execution_count": 161,
     "metadata": {},
     "output_type": "execute_result"
    }
   ],
   "execution_count": 161
  },
  {
   "metadata": {
    "ExecuteTime": {
     "end_time": "2025-03-24T20:35:57.448834Z",
     "start_time": "2025-03-24T20:35:56.749493Z"
    }
   },
   "cell_type": "code",
   "source": "partial_trace(ame43state, [0,3,4,5,6]).draw('latex')",
   "id": "3c258eb90b80c320",
   "outputs": [
    {
     "data": {
      "text/plain": [
       "<IPython.core.display.Latex object>"
      ],
      "text/latex": "$$\n\n\\begin{bmatrix}\n\\frac{8}{27} & 0 & \\frac{1}{27} & 0 & 0 & 0 & 0 & 0  \\\\\n 0 & \\frac{4}{27} & 0 & - \\frac{1}{27} & 0.0185185185 - 0.032075015 i & 0 & -0.0185185185 - 0.032075015 i & 0  \\\\\n \\frac{1}{27} & 0 & \\frac{4}{27} & 0 & 0 & 0 & 0 & 0  \\\\\n 0 & - \\frac{1}{27} & 0 & \\frac{2}{27} & -0.0185185185 - 0.032075015 i & 0 & -0.0185185185 + 0.032075015 i & 0  \\\\\n 0 & 0.0185185185 + 0.032075015 i & 0 & -0.0185185185 + 0.032075015 i & \\frac{4}{27} & 0 & - \\frac{1}{27} & 0  \\\\\n 0 & 0 & 0 & 0 & 0 & \\frac{2}{27} & 0 & \\frac{1}{27}  \\\\\n 0 & -0.0185185185 + 0.032075015 i & 0 & -0.0185185185 - 0.032075015 i & - \\frac{1}{27} & 0 & \\frac{2}{27} & 0  \\\\\n 0 & 0 & 0 & 0 & 0 & \\frac{1}{27} & 0 & \\frac{1}{27}  \\\\\n \\end{bmatrix}\n$$"
     },
     "execution_count": 167,
     "metadata": {},
     "output_type": "execute_result"
    }
   ],
   "execution_count": 167
  },
  {
   "metadata": {
    "ExecuteTime": {
     "end_time": "2025-03-24T21:10:36.770904Z",
     "start_time": "2025-03-24T21:10:36.757863Z"
    }
   },
   "cell_type": "code",
   "source": "pt2 = partial_trace(ame43_4d, [0,1,6,7])",
   "id": "f7ed108b842eb686",
   "outputs": [],
   "execution_count": 238
  },
  {
   "metadata": {
    "ExecuteTime": {
     "end_time": "2025-03-24T21:12:39.432241Z",
     "start_time": "2025-03-24T21:12:39.421718Z"
    }
   },
   "cell_type": "code",
   "source": "np.set_printoptions(threshold=np.inf)",
   "id": "8ab54442f336bdc9",
   "outputs": [],
   "execution_count": 242
  },
  {
   "metadata": {
    "ExecuteTime": {
     "end_time": "2025-03-24T21:14:09.656166Z",
     "start_time": "2025-03-24T21:14:09.619015Z"
    }
   },
   "cell_type": "code",
   "source": "pt2.draw('latex')",
   "id": "d2d13ab5a74534e8",
   "outputs": [
    {
     "data": {
      "text/plain": [
       "<IPython.core.display.Latex object>"
      ],
      "text/latex": "$$\n\n\\begin{bmatrix}\n\\frac{1}{9} & 0 & 0 & 0 & \\cdots & 0 & 0 & 0  \\\\\n 0 & \\frac{1}{9} & 0 & 0 & \\cdots & 0 & 0 & 0  \\\\\n 0 & 0 & \\frac{1}{9} & 0 & \\cdots & 0 & 0 & 0  \\\\\n 0 & 0 & 0 & 0 & \\cdots & 0 & 0 & 0  \\\\\n \\vdots & \\vdots & \\vdots & \\vdots & \\ddots & \\vdots & \\vdots & \\vdots \\\\\n 0 & 0 & 0 & 0 & \\cdots & 0 & 0 & 0  \\\\\n 0 & 0 & 0 & 0 & \\cdots & 0 & 0 & 0  \\\\\n 0 & 0 & 0 & 0 & \\cdots & 0 & 0 & 0  \\\\\n \\end{bmatrix}\n$$"
     },
     "execution_count": 246,
     "metadata": {},
     "output_type": "execute_result"
    }
   ],
   "execution_count": 246
  },
  {
   "metadata": {
    "ExecuteTime": {
     "end_time": "2025-03-24T20:31:08.948634Z",
     "start_time": "2025-03-24T20:31:08.935588Z"
    }
   },
   "cell_type": "code",
   "source": "pt_4d = partial_trace(ame43_4d, [0,1,2,3]).data",
   "id": "6a590f4e9a54cce8",
   "outputs": [],
   "execution_count": 152
  },
  {
   "metadata": {
    "ExecuteTime": {
     "end_time": "2025-03-24T20:31:09.199443Z",
     "start_time": "2025-03-24T20:31:09.145398Z"
    }
   },
   "cell_type": "code",
   "source": "prtMTX(pt_4d.round(4))",
   "id": "61d96eded61dc9f8",
   "outputs": [
    {
     "data": {
      "text/plain": [
       "<IPython.core.display.Math object>"
      ],
      "text/latex": "$\\displaystyle \\left[\\begin{array}{cccccccccccccccc}0.1111 & 0 & 0 & 0 & 0.1111 & 0 & 0 & 0 & 0.1111 & 0 & 0 & 0 & 0 & 0 & 0 & 0\\\\0 & 0.1111 & 0 & 0 & 0 & -0.0556 - 0.0962 i & 0 & 0 & 0 & -0.0556 + 0.0962 i & 0 & 0 & 0 & 0 & 0 & 0\\\\0 & 0 & 0.1111 & 0 & 0 & 0 & -0.0556 + 0.0962 i & 0 & 0 & 0 & -0.0556 - 0.0962 i & 0 & 0 & 0 & 0 & 0\\\\0 & 0 & 0 & 0 & 0 & 0 & 0 & 0 & 0 & 0 & 0 & 0 & 0 & 0 & 0 & 0\\\\0.1111 & 0 & 0 & 0 & 0.1111 & 0 & 0 & 0 & 0.1111 & 0 & 0 & 0 & 0 & 0 & 0 & 0\\\\0 & -0.0556 + 0.0962 i & 0 & 0 & 0 & 0.1111 & 0 & 0 & 0 & -0.0556 - 0.0962 i & 0 & 0 & 0 & 0 & 0 & 0\\\\0 & 0 & -0.0556 - 0.0962 i & 0 & 0 & 0 & 0.1111 & 0 & 0 & 0 & -0.0556 + 0.0962 i & 0 & 0 & 0 & 0 & 0\\\\0 & 0 & 0 & 0 & 0 & 0 & 0 & 0 & 0 & 0 & 0 & 0 & 0 & 0 & 0 & 0\\\\0.1111 & 0 & 0 & 0 & 0.1111 & 0 & 0 & 0 & 0.1111 & 0 & 0 & 0 & 0 & 0 & 0 & 0\\\\0 & -0.0556 - 0.0962 i & 0 & 0 & 0 & -0.0556 + 0.0962 i & 0 & 0 & 0 & 0.1111 & 0 & 0 & 0 & 0 & 0 & 0\\\\0 & 0 & -0.0556 + 0.0962 i & 0 & 0 & 0 & -0.0556 - 0.0962 i & 0 & 0 & 0 & 0.1111 & 0 & 0 & 0 & 0 & 0\\\\0 & 0 & 0 & 0 & 0 & 0 & 0 & 0 & 0 & 0 & 0 & 0 & 0 & 0 & 0 & 0\\\\0 & 0 & 0 & 0 & 0 & 0 & 0 & 0 & 0 & 0 & 0 & 0 & 0 & 0 & 0 & 0\\\\0 & 0 & 0 & 0 & 0 & 0 & 0 & 0 & 0 & 0 & 0 & 0 & 0 & 0 & 0 & 0\\\\0 & 0 & 0 & 0 & 0 & 0 & 0 & 0 & 0 & 0 & 0 & 0 & 0 & 0 & 0 & 0\\\\0 & 0 & 0 & 0 & 0 & 0 & 0 & 0 & 0 & 0 & 0 & 0 & 0 & 0 & 0 & 0\\end{array}\\right]$"
     },
     "execution_count": 153,
     "metadata": {},
     "output_type": "execute_result"
    }
   ],
   "execution_count": 153
  },
  {
   "metadata": {
    "ExecuteTime": {
     "end_time": "2025-03-24T20:36:58.115293Z",
     "start_time": "2025-03-24T20:36:58.088206Z"
    }
   },
   "cell_type": "code",
   "source": "Statevector(ghz_circ).draw('latex')",
   "id": "454892b4323f597e",
   "outputs": [
    {
     "data": {
      "text/plain": [
       "<IPython.core.display.Latex object>"
      ],
      "text/latex": "$$- \\frac{\\sqrt{3}}{3} |000000\\rangle- \\frac{\\sqrt{3}}{3} |010101\\rangle- \\frac{\\sqrt{3}}{3} |101010\\rangle$$"
     },
     "execution_count": 169,
     "metadata": {},
     "output_type": "execute_result"
    }
   ],
   "execution_count": 169
  },
  {
   "metadata": {
    "ExecuteTime": {
     "end_time": "2025-03-24T21:09:49.122683Z",
     "start_time": "2025-03-24T21:09:49.099540Z"
    }
   },
   "cell_type": "code",
   "source": "partial_trace(Statevector(ghz_circ), [0, 1]).draw('latex')",
   "id": "3020cfc48be5eade",
   "outputs": [
    {
     "data": {
      "text/plain": [
       "<IPython.core.display.Latex object>"
      ],
      "text/latex": "$$\n\n\\begin{bmatrix}\n\\frac{1}{3} & 0 & 0 & 0 & \\cdots & 0 & 0 & 0  \\\\\n 0 & 0 & 0 & 0 & \\cdots & 0 & 0 & 0  \\\\\n 0 & 0 & 0 & 0 & \\cdots & 0 & 0 & 0  \\\\\n 0 & 0 & 0 & 0 & \\cdots & 0 & 0 & 0  \\\\\n \\vdots & \\vdots & \\vdots & \\vdots & \\ddots & \\vdots & \\vdots & \\vdots \\\\\n 0 & 0 & 0 & 0 & \\cdots & 0 & 0 & 0  \\\\\n 0 & 0 & 0 & 0 & \\cdots & 0 & 0 & 0  \\\\\n 0 & 0 & 0 & 0 & \\cdots & 0 & 0 & 0  \\\\\n \\end{bmatrix}\n$$"
     },
     "execution_count": 232,
     "metadata": {},
     "output_type": "execute_result"
    }
   ],
   "execution_count": 232
  },
  {
   "metadata": {
    "ExecuteTime": {
     "end_time": "2025-03-24T21:08:19.760505Z",
     "start_time": "2025-03-24T21:08:19.736908Z"
    }
   },
   "cell_type": "code",
   "source": "np.real(partial_trace(Statevector(ghz_circ), [0, 1, 4, 5]).purity())",
   "id": "21557e5f3fd04b94",
   "outputs": [
    {
     "data": {
      "text/plain": [
       "np.float64(0.33333333333333337)"
      ]
     },
     "execution_count": 224,
     "metadata": {},
     "output_type": "execute_result"
    }
   ],
   "execution_count": 224
  },
  {
   "metadata": {
    "ExecuteTime": {
     "end_time": "2025-03-24T21:09:33.076479Z",
     "start_time": "2025-03-24T21:09:33.067389Z"
    }
   },
   "cell_type": "code",
   "source": "partial_trace(Statevector(ame43state), [6, 7]).purity()",
   "id": "d7b3a797932c91fc",
   "outputs": [
    {
     "data": {
      "text/plain": [
       "np.complex128(0.3333333333333334-2.8034977202235023e-18j)"
      ]
     },
     "execution_count": 231,
     "metadata": {},
     "output_type": "execute_result"
    }
   ],
   "execution_count": 231
  },
  {
   "metadata": {
    "ExecuteTime": {
     "end_time": "2025-03-24T20:47:51.052692Z",
     "start_time": "2025-03-24T20:47:51.024580Z"
    }
   },
   "cell_type": "code",
   "source": "evalue, evect = np.linalg.eig(partial_trace(Statevector(ghz_circ), [0, 4]).data)",
   "id": "6912863a3251c918",
   "outputs": [],
   "execution_count": 184
  },
  {
   "metadata": {
    "ExecuteTime": {
     "end_time": "2025-03-24T20:48:01.369454Z",
     "start_time": "2025-03-24T20:48:01.340342Z"
    }
   },
   "cell_type": "code",
   "source": "evalue.round(4)",
   "id": "6e81ce445e6e1979",
   "outputs": [
    {
     "data": {
      "text/plain": [
       "array([-0.    +0.j,  0.6667+0.j,  0.3333+0.j,  0.    -0.j,  0.    +0.j,\n",
       "        0.    +0.j, -0.    -0.j,  0.    +0.j, -0.    -0.j, -0.    +0.j,\n",
       "       -0.    +0.j, -0.    -0.j,  0.    +0.j,  0.    +0.j,  0.    +0.j,\n",
       "       -0.    +0.j])"
      ]
     },
     "execution_count": 186,
     "metadata": {},
     "output_type": "execute_result"
    }
   ],
   "execution_count": 186
  },
  {
   "metadata": {
    "ExecuteTime": {
     "end_time": "2025-03-24T21:05:03.035303Z",
     "start_time": "2025-03-24T21:05:03.015229Z"
    }
   },
   "cell_type": "code",
   "source": "Statevector(ghz_circ).trace()",
   "id": "d7c02220ad1e8b52",
   "outputs": [
    {
     "data": {
      "text/plain": [
       "np.float64(1.0)"
      ]
     },
     "execution_count": 217,
     "metadata": {},
     "output_type": "execute_result"
    }
   ],
   "execution_count": 217
  },
  {
   "metadata": {},
   "cell_type": "code",
   "outputs": [],
   "execution_count": null,
   "source": "",
   "id": "8708ac8880ec001a"
  }
 ],
 "metadata": {
  "kernelspec": {
   "display_name": "Python 3",
   "language": "python",
   "name": "python3"
  },
  "language_info": {
   "codemirror_mode": {
    "name": "ipython",
    "version": 2
   },
   "file_extension": ".py",
   "mimetype": "text/x-python",
   "name": "python",
   "nbconvert_exporter": "python",
   "pygments_lexer": "ipython2",
   "version": "2.7.6"
  }
 },
 "nbformat": 4,
 "nbformat_minor": 5
}
