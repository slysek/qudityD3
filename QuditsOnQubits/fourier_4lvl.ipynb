{
 "cells": [
  {
   "cell_type": "code",
   "execution_count": 1,
   "id": "initial_id",
   "metadata": {
    "ExecuteTime": {
     "end_time": "2025-07-22T08:08:00.754479Z",
     "start_time": "2025-07-22T08:07:55.664349Z"
    }
   },
   "outputs": [],
   "source": [
    "from qiskit import qpy\n",
    "from qiskit.circuit import QuantumCircuit\n",
    "from qiskit.quantum_info import Statevector, Operator\n",
    "import numpy as np\n",
    "import matplotlib.pyplot as plt"
   ]
  },
  {
   "cell_type": "code",
   "execution_count": 2,
   "id": "61017f0bac8797d3",
   "metadata": {
    "ExecuteTime": {
     "end_time": "2025-07-22T08:08:06.330064Z",
     "start_time": "2025-07-22T08:08:06.316187Z"
    }
   },
   "outputs": [],
   "source": [
    "from qiskit.synthesis import TwoQubitWeylDecomposition\n"
   ]
  },
  {
   "cell_type": "markdown",
   "id": "31858da9c577fb1c",
   "metadata": {},
   "source": [
    "$ |0 \\rangle = | 00 \\rangle$\n",
    "\n",
    "$ |1 \\rangle = | 01 \\rangle$\n",
    "\n",
    "$ |2 \\rangle = | 10 \\rangle$\n",
    "\n",
    "$ |3 \\rangle = | 11 \\rangle$\n"
   ]
  },
  {
   "cell_type": "code",
   "execution_count": 3,
   "id": "2c1c4af013c5006a",
   "metadata": {
    "ExecuteTime": {
     "end_time": "2025-07-22T08:08:08.936150Z",
     "start_time": "2025-07-22T08:08:08.929016Z"
    }
   },
   "outputs": [],
   "source": [
    "omega = np.exp(2j*np.pi/4)\n",
    "omega3 = np.exp(2j*np.pi/3)"
   ]
  },
  {
   "cell_type": "code",
   "execution_count": 4,
   "id": "28ba8d0775353490",
   "metadata": {
    "ExecuteTime": {
     "end_time": "2025-07-22T08:09:44.117669Z",
     "start_time": "2025-07-22T08:09:44.108410Z"
    }
   },
   "outputs": [],
   "source": [
    "qubit0 = np.array([[1], [0]])\n",
    "qubit1 = np.array([[0], [1]])\n",
    "\n",
    "q0 = np.kron(qubit0, qubit0)\n",
    "q1 = np.kron(qubit0, qubit1)\n",
    "q2 = np.kron(qubit1, qubit0)\n",
    "q3 = np.kron(qubit1, qubit1)"
   ]
  },
  {
   "cell_type": "code",
   "execution_count": 5,
   "id": "fd183f91c2d5286f",
   "metadata": {
    "ExecuteTime": {
     "end_time": "2025-07-22T08:08:43.219870Z",
     "start_time": "2025-07-22T08:08:43.209141Z"
    }
   },
   "outputs": [],
   "source": [
    "def proj(a, b):\n",
    "    return a @ b.transpose()"
   ]
  },
  {
   "cell_type": "code",
   "execution_count": 6,
   "id": "918951c79da24721",
   "metadata": {
    "ExecuteTime": {
     "end_time": "2025-07-22T08:08:43.597541Z",
     "start_time": "2025-07-22T08:08:43.584572Z"
    }
   },
   "outputs": [],
   "source": [
    "Fmtx = 1/np.sqrt(4) * (proj(q0, q0) + proj(q0, q1) + proj(q0, q2) + proj(q0, q3) + proj(q1, q0) + omega * proj(q1, q1) + pow(omega, 2) * proj(q1, q2) + pow(omega, 3) * proj(q1, q3) + proj(q2, q0) + pow(omega, 2) * proj(q2, q1) + pow(omega, 4) * proj(q2, q2) + pow(omega, 6) * proj(q2, q3) + proj(q3, q0) + pow(omega, 3) * proj(q3, q1) + pow(omega, 6) * proj(q3, q2) + pow(omega, 9) * proj(q3, q3)).round(3)"
   ]
  },
  {
   "cell_type": "code",
   "execution_count": 7,
   "id": "e2c88ceb0fd8d687",
   "metadata": {
    "ExecuteTime": {
     "end_time": "2025-07-22T08:08:44.443623Z",
     "start_time": "2025-07-22T08:08:44.429373Z"
    }
   },
   "outputs": [
    {
     "data": {
      "text/plain": [
       "array([[ 0.5+0.j ,  0.5+0.j ,  0.5+0.j ,  0.5+0.j ],\n",
       "       [ 0.5+0.j ,  0. +0.5j, -0.5+0.j ,  0. -0.5j],\n",
       "       [ 0.5+0.j , -0.5+0.j ,  0.5+0.j , -0.5+0.j ],\n",
       "       [ 0.5+0.j ,  0. -0.5j, -0.5+0.j ,  0. +0.5j]])"
      ]
     },
     "execution_count": 7,
     "metadata": {},
     "output_type": "execute_result"
    }
   ],
   "source": [
    "Fmtx"
   ]
  },
  {
   "cell_type": "code",
   "execution_count": 8,
   "id": "b5e2b02b1c0ca879",
   "metadata": {
    "ExecuteTime": {
     "end_time": "2025-07-22T08:08:55.611139Z",
     "start_time": "2025-07-22T08:08:55.599341Z"
    }
   },
   "outputs": [],
   "source": [
    "Fgate_4 = TwoQubitWeylDecomposition(Fmtx).circuit()"
   ]
  },
  {
   "cell_type": "code",
   "execution_count": 9,
   "id": "dcac4dcbe2d1df70",
   "metadata": {
    "ExecuteTime": {
     "end_time": "2025-07-22T08:08:56.072650Z",
     "start_time": "2025-07-22T08:08:56.059693Z"
    }
   },
   "outputs": [],
   "source": [
    "Fgate_4.name = \"Fgate_4\""
   ]
  },
  {
   "cell_type": "code",
   "execution_count": 10,
   "id": "b84f967b48d55106",
   "metadata": {
    "ExecuteTime": {
     "end_time": "2025-07-22T08:09:09.769047Z",
     "start_time": "2025-07-22T08:09:00.695278Z"
    }
   },
   "outputs": [
    {
     "data": {
      "text/latex": [
       "$$\n",
       "\n",
       "\\begin{bmatrix}\n",
       "- \\frac{1}{2} & - \\frac{1}{2} & - \\frac{1}{2} & - \\frac{1}{2}  \\\\\n",
       " - \\frac{1}{2} & - \\frac{i}{2} & \\frac{1}{2} & \\frac{i}{2}  \\\\\n",
       " - \\frac{1}{2} & \\frac{1}{2} & - \\frac{1}{2} & \\frac{1}{2}  \\\\\n",
       " - \\frac{1}{2} & \\frac{i}{2} & \\frac{1}{2} & - \\frac{i}{2}  \\\\\n",
       " \\end{bmatrix}\n",
       "$$"
      ],
      "text/plain": [
       "<IPython.core.display.Latex object>"
      ]
     },
     "execution_count": 10,
     "metadata": {},
     "output_type": "execute_result"
    }
   ],
   "source": [
    "Operator(Fgate_4).draw('latex')"
   ]
  },
  {
   "cell_type": "code",
   "execution_count": 11,
   "id": "b3ef6c5d8525c518",
   "metadata": {
    "ExecuteTime": {
     "end_time": "2025-07-22T08:09:16.404280Z",
     "start_time": "2025-07-22T08:09:12.843105Z"
    }
   },
   "outputs": [
    {
     "data": {
      "image/png": "[encoded data removed]",
      "text/plain": [
       "<Figure size 872.572x200.667 with 1 Axes>"
      ]
     },
     "execution_count": 11,
     "metadata": {},
     "output_type": "execute_result"
    }
   ],
   "source": [
    "Fgate_4.draw('mpl')"
   ]
  },
  {
   "cell_type": "code",
   "execution_count": 12,
   "id": "c69badbb20bdc8fb",
   "metadata": {
    "ExecuteTime": {
     "end_time": "2025-07-22T08:09:19.077209Z",
     "start_time": "2025-07-22T08:09:19.055698Z"
    }
   },
   "outputs": [
    {
     "data": {
      "text/latex": [
       "$$- \\frac{1}{2} |00\\rangle- \\frac{1}{2} |01\\rangle- \\frac{1}{2} |10\\rangle- \\frac{1}{2} |11\\rangle$$"
      ],
      "text/plain": [
       "<IPython.core.display.Latex object>"
      ]
     },
     "execution_count": 12,
     "metadata": {},
     "output_type": "execute_result"
    }
   ],
   "source": [
    "Statevector(Fgate_4).draw('latex')"
   ]
  },
  {
   "cell_type": "code",
   "execution_count": 13,
   "id": "b0601b923b75576a",
   "metadata": {
    "ExecuteTime": {
     "end_time": "2025-07-22T08:09:21.716666Z",
     "start_time": "2025-07-22T08:09:21.671569Z"
    }
   },
   "outputs": [
    {
     "data": {
      "text/latex": [
       "$$\n",
       "\n",
       "\\begin{bmatrix}\n",
       "- \\frac{1}{2} & - \\frac{1}{2} & - \\frac{1}{2} & - \\frac{1}{2}  \\\\\n",
       " - \\frac{1}{2} & - \\frac{i}{2} & \\frac{1}{2} & \\frac{i}{2}  \\\\\n",
       " - \\frac{1}{2} & \\frac{1}{2} & - \\frac{1}{2} & \\frac{1}{2}  \\\\\n",
       " - \\frac{1}{2} & \\frac{i}{2} & \\frac{1}{2} & - \\frac{i}{2}  \\\\\n",
       " \\end{bmatrix}\n",
       "$$"
      ],
      "text/plain": [
       "<IPython.core.display.Latex object>"
      ]
     },
     "execution_count": 13,
     "metadata": {},
     "output_type": "execute_result"
    }
   ],
   "source": [
    "Operator(Fgate_4).draw('latex')"
   ]
  },
  {
   "cell_type": "code",
   "execution_count": 14,
   "id": "4b7022e658a6b11f",
   "metadata": {
    "ExecuteTime": {
     "end_time": "2025-07-22T08:09:26.374548Z",
     "start_time": "2025-07-22T08:09:26.349476Z"
    }
   },
   "outputs": [],
   "source": [
    "with open('Xgate.qpy', 'rb') as fd:\n",
    "    Xgate = qpy.load(fd)[0]\n",
    "\n",
    "with open('Fgate.qpy', 'rb') as fd:\n",
    "    Fgate = qpy.load(fd)[0]\n",
    "\n",
    "with open('Zgate.qpy', 'rb') as fd:\n",
    "    Zgate = qpy.load(fd)[0]\n",
    "\n",
    "with open('FDAGgate.qpy', 'rb') as fd:\n",
    "    FDAGgate = qpy.load(fd)[0]"
   ]
  },
  {
   "cell_type": "code",
   "execution_count": 15,
   "id": "f49a51fa330f6076",
   "metadata": {
    "ExecuteTime": {
     "end_time": "2025-07-22T08:09:29.891309Z",
     "start_time": "2025-07-22T08:09:29.807304Z"
    }
   },
   "outputs": [
    {
     "data": {
      "text/latex": [
       "$$\n",
       "\n",
       "\\begin{bmatrix}\n",
       "\\frac{\\sqrt{3}}{3} & \\frac{\\sqrt{3}}{3} & \\frac{\\sqrt{3}}{3} & 0  \\\\\n",
       " \\frac{\\sqrt{3}}{3} & - \\frac{\\sqrt{3}}{6} + \\frac{i}{2} & - \\frac{\\sqrt{3}}{6} - \\frac{i}{2} & 0  \\\\\n",
       " \\frac{\\sqrt{3}}{3} & - \\frac{\\sqrt{3}}{6} - \\frac{i}{2} & - \\frac{\\sqrt{3}}{6} + \\frac{i}{2} & 0  \\\\\n",
       " 0 & 0 & 0 & 1  \\\\\n",
       " \\end{bmatrix}\n",
       "$$"
      ],
      "text/plain": [
       "<IPython.core.display.Latex object>"
      ]
     },
     "execution_count": 15,
     "metadata": {},
     "output_type": "execute_result"
    }
   ],
   "source": [
    "Operator(Fgate).draw('latex')"
   ]
  },
  {
   "cell_type": "code",
   "execution_count": 16,
   "id": "67d6cb5af78de90e",
   "metadata": {
    "ExecuteTime": {
     "end_time": "2025-07-21T10:00:59.811099Z",
     "start_time": "2025-07-21T10:00:59.805237Z"
    }
   },
   "outputs": [],
   "source": [
    "Xgate4 = np.array([[0, 1, 0, 0], [0, 0, 1, 0], [0, 0, 0, 1], [1, 0, 0, 0]])\n",
    "Xgate4 = TwoQubitWeylDecomposition(Xgate4).circuit().inverse()"
   ]
  },
  {
   "cell_type": "code",
   "execution_count": 17,
   "id": "1a680461f7a9c704",
   "metadata": {
    "ExecuteTime": {
     "end_time": "2025-07-21T10:01:30.465997Z",
     "start_time": "2025-07-21T10:01:30.458377Z"
    }
   },
   "outputs": [],
   "source": [
    "Xgate4.name = 'X_4'"
   ]
  },
  {
   "cell_type": "code",
   "execution_count": 18,
   "id": "3ddc45820db30e3",
   "metadata": {
    "ExecuteTime": {
     "end_time": "2025-07-21T10:02:32.877672Z",
     "start_time": "2025-07-21T10:02:32.818717Z"
    }
   },
   "outputs": [
    {
     "data": {
      "image/png": "[encoded data removed]",
      "text/plain": [
       "<Figure size 370.906x200.667 with 1 Axes>"
      ]
     },
     "execution_count": 18,
     "metadata": {},
     "output_type": "execute_result"
    }
   ],
   "source": [
    "testqc = QuantumCircuit(2)\n",
    "testqc.append(Xgate4, [0, 1])\n",
    "#testqc.append(Xgate4, [0, 1])\n",
    "#testqc.append(Xgate4, [0, 1])\n",
    "#testqc.append(Xgate4, [0, 1])\n",
    "testqc.append(Fgate_4, [0, 1])\n",
    "testqc.draw('mpl')"
   ]
  },
  {
   "cell_type": "code",
   "execution_count": 19,
   "id": "cf2602645e690b36",
   "metadata": {
    "ExecuteTime": {
     "end_time": "2025-07-21T10:02:33.569033Z",
     "start_time": "2025-07-21T10:02:33.553116Z"
    }
   },
   "outputs": [
    {
     "data": {
      "text/latex": [
       "$$\\frac{1}{2} |00\\rangle+\\frac{i}{2} |01\\rangle- \\frac{1}{2} |10\\rangle- \\frac{i}{2} |11\\rangle$$"
      ],
      "text/plain": [
       "<IPython.core.display.Latex object>"
      ]
     },
     "execution_count": 19,
     "metadata": {},
     "output_type": "execute_result"
    }
   ],
   "source": [
    "Statevector(testqc).draw('latex')"
   ]
  },
  {
   "cell_type": "code",
   "execution_count": 20,
   "id": "953ee5a9887928ff",
   "metadata": {
    "ExecuteTime": {
     "end_time": "2025-07-21T10:08:55.626694Z",
     "start_time": "2025-07-21T10:08:55.620062Z"
    }
   },
   "outputs": [],
   "source": [
    "from IPython.display import display, Math"
   ]
  },
  {
   "cell_type": "code",
   "execution_count": 21,
   "id": "ac77c4ba91e2949d",
   "metadata": {
    "ExecuteTime": {
     "end_time": "2025-07-21T10:14:12.501694Z",
     "start_time": "2025-07-21T10:14:12.418850Z"
    }
   },
   "outputs": [
    {
     "data": {
      "text/latex": [
       "$\\displaystyle  F|0 \\rangle $"
      ],
      "text/plain": [
       "<IPython.core.display.Math object>"
      ]
     },
     "metadata": {},
     "output_type": "display_data"
    },
    {
     "data": {
      "text/latex": [
       "$$- \\frac{1}{2} |00\\rangle- \\frac{1}{2} |01\\rangle- \\frac{1}{2} |10\\rangle- \\frac{1}{2} |11\\rangle$$"
      ],
      "text/plain": [
       "<IPython.core.display.Latex object>"
      ]
     },
     "metadata": {},
     "output_type": "display_data"
    },
    {
     "data": {
      "text/latex": [
       "$\\displaystyle  F|1 \\rangle$"
      ],
      "text/plain": [
       "<IPython.core.display.Math object>"
      ]
     },
     "metadata": {},
     "output_type": "display_data"
    },
    {
     "data": {
      "text/latex": [
       "$$\\frac{1}{2} |00\\rangle+\\frac{i}{2} |01\\rangle- \\frac{1}{2} |10\\rangle- \\frac{i}{2} |11\\rangle$$"
      ],
      "text/plain": [
       "<IPython.core.display.Latex object>"
      ]
     },
     "metadata": {},
     "output_type": "display_data"
    },
    {
     "data": {
      "text/latex": [
       "$\\displaystyle  F|2 \\rangle$"
      ],
      "text/plain": [
       "<IPython.core.display.Math object>"
      ]
     },
     "metadata": {},
     "output_type": "display_data"
    },
    {
     "data": {
      "text/latex": [
       "$$- \\frac{1}{2} |00\\rangle+\\frac{1}{2} |01\\rangle- \\frac{1}{2} |10\\rangle+\\frac{1}{2} |11\\rangle$$"
      ],
      "text/plain": [
       "<IPython.core.display.Latex object>"
      ]
     },
     "metadata": {},
     "output_type": "display_data"
    },
    {
     "data": {
      "text/latex": [
       "$\\displaystyle  F|3 \\rangle$"
      ],
      "text/plain": [
       "<IPython.core.display.Math object>"
      ]
     },
     "metadata": {},
     "output_type": "display_data"
    },
    {
     "data": {
      "text/latex": [
       "$$\\frac{1}{2} |00\\rangle- \\frac{i}{2} |01\\rangle- \\frac{1}{2} |10\\rangle+\\frac{i}{2} |11\\rangle$$"
      ],
      "text/plain": [
       "<IPython.core.display.Latex object>"
      ]
     },
     "metadata": {},
     "output_type": "display_data"
    }
   ],
   "source": [
    "texts = ['$ F|0 \\\\rangle $', '$ F|1 \\\\rangle$',\n",
    "        '$ F|2 \\\\rangle$', '$ F|3 \\\\rangle$']\n",
    "\n",
    "for i in range(4):\n",
    "    testqc = QuantumCircuit(2)\n",
    "    for j in range(i):\n",
    "        testqc.append(Xgate4, [0, 1])\n",
    "    testqc.append(Fgate_4, [0, 1])\n",
    "    display(Math(texts[i]))\n",
    "    display(Statevector(testqc).draw('latex'))"
   ]
  },
  {
   "cell_type": "code",
   "execution_count": 22,
   "id": "f7ccc0f98f057efa",
   "metadata": {
    "ExecuteTime": {
     "end_time": "2025-07-21T10:51:41.802997Z",
     "start_time": "2025-07-21T10:51:41.797877Z"
    }
   },
   "outputs": [],
   "source": [
    "Zgate_4_mtx = np.diag([1, omega, pow(omega, 2), pow(omega, 3)])"
   ]
  },
  {
   "cell_type": "code",
   "execution_count": 23,
   "id": "397497a1b010dfd1",
   "metadata": {
    "ExecuteTime": {
     "end_time": "2025-07-21T10:52:27.839098Z",
     "start_time": "2025-07-21T10:52:27.832283Z"
    }
   },
   "outputs": [
    {
     "data": {
      "text/plain": [
       "array([[ 1.+0.j,  0.+0.j,  0.+0.j,  0.+0.j],\n",
       "       [ 0.+0.j,  0.+1.j,  0.+0.j,  0.+0.j],\n",
       "       [ 0.+0.j,  0.+0.j, -1.+0.j,  0.+0.j],\n",
       "       [ 0.+0.j,  0.+0.j,  0.+0.j, -0.-1.j]])"
      ]
     },
     "execution_count": 23,
     "metadata": {},
     "output_type": "execute_result"
    }
   ],
   "source": [
    "Zgate_4_mtx.round(2)"
   ]
  },
  {
   "cell_type": "code",
   "execution_count": 24,
   "id": "dfbb937c0d87a37b",
   "metadata": {
    "ExecuteTime": {
     "end_time": "2025-07-21T10:51:18.154439Z",
     "start_time": "2025-07-21T10:51:18.144298Z"
    }
   },
   "outputs": [
    {
     "data": {
      "text/plain": [
       "array([[1.+0.j],\n",
       "       [0.+0.j],\n",
       "       [0.+0.j],\n",
       "       [0.+0.j]])"
      ]
     },
     "execution_count": 24,
     "metadata": {},
     "output_type": "execute_result"
    }
   ],
   "source": [
    "Zgate_4_mtx @ q0"
   ]
  },
  {
   "cell_type": "code",
   "execution_count": 25,
   "id": "b1eaea4fa402a039",
   "metadata": {
    "ExecuteTime": {
     "end_time": "2025-07-21T10:52:40.583028Z",
     "start_time": "2025-07-21T10:52:40.568040Z"
    }
   },
   "outputs": [
    {
     "data": {
      "text/latex": [
       "$$\n",
       "\n",
       "\\begin{bmatrix}\n",
       "1 & 0 & 0 & 0  \\\\\n",
       " 0 & i & 0 & 0  \\\\\n",
       " 0 & 0 & -1 & 0  \\\\\n",
       " 0 & 0 & 0 & - i  \\\\\n",
       " \\end{bmatrix}\n",
       "$$"
      ],
      "text/plain": [
       "<IPython.core.display.Latex object>"
      ]
     },
     "execution_count": 25,
     "metadata": {},
     "output_type": "execute_result"
    }
   ],
   "source": [
    "Operator(Zgate_4_mtx).draw('latex')"
   ]
  },
  {
   "cell_type": "code",
   "execution_count": 26,
   "id": "c0e46c56b180d45e",
   "metadata": {
    "ExecuteTime": {
     "end_time": "2025-07-21T10:20:27.456961Z",
     "start_time": "2025-07-21T10:20:27.450485Z"
    }
   },
   "outputs": [
    {
     "data": {
      "text/plain": [
       "array([[1.+0.j],\n",
       "       [0.+0.j],\n",
       "       [0.+0.j],\n",
       "       [0.+0.j]])"
      ]
     },
     "execution_count": 26,
     "metadata": {},
     "output_type": "execute_result"
    }
   ],
   "source": [
    "(Zgate_4_mtx @ q0).round(3)"
   ]
  },
  {
   "cell_type": "code",
   "execution_count": 27,
   "id": "55ef1dedaa2f606c",
   "metadata": {
    "ExecuteTime": {
     "end_time": "2025-07-21T11:47:59.354843Z",
     "start_time": "2025-07-21T11:47:59.346457Z"
    }
   },
   "outputs": [],
   "source": [
    "Zgate_4 = TwoQubitWeylDecomposition(Zgate_4_mtx).circuit()"
   ]
  },
  {
   "cell_type": "code",
   "execution_count": 28,
   "id": "5972832c50eb7fa2",
   "metadata": {
    "ExecuteTime": {
     "end_time": "2025-07-21T11:06:14.086864Z",
     "start_time": "2025-07-21T11:06:13.948399Z"
    }
   },
   "outputs": [
    {
     "data": {
      "image/png": "[encoded data removed]",
      "text/plain": [
       "<Figure size 956.183x200.667 with 1 Axes>"
      ]
     },
     "execution_count": 28,
     "metadata": {},
     "output_type": "execute_result"
    }
   ],
   "source": [
    "#Zgate_4.global_phase = 3*np.pi/4\n",
    "Zgate_4.draw('mpl')"
   ]
  },
  {
   "cell_type": "code",
   "execution_count": 29,
   "id": "5458470212f491a3",
   "metadata": {
    "ExecuteTime": {
     "end_time": "2025-07-21T11:06:14.813295Z",
     "start_time": "2025-07-21T11:06:14.800610Z"
    }
   },
   "outputs": [
    {
     "data": {
      "text/latex": [
       "$$\n",
       "\n",
       "\\begin{bmatrix}\n",
       "1 & 0 & 0 & 0  \\\\\n",
       " 0 & i & 0 & 0  \\\\\n",
       " 0 & 0 & -1 & 0  \\\\\n",
       " 0 & 0 & 0 & - i  \\\\\n",
       " \\end{bmatrix}\n",
       "$$"
      ],
      "text/plain": [
       "<IPython.core.display.Latex object>"
      ]
     },
     "execution_count": 29,
     "metadata": {},
     "output_type": "execute_result"
    }
   ],
   "source": [
    "Operator(Zgate_4).draw('latex')"
   ]
  },
  {
   "cell_type": "code",
   "execution_count": 30,
   "id": "5f23f1ae00f9e05",
   "metadata": {
    "ExecuteTime": {
     "end_time": "2025-07-21T11:06:22.113440Z",
     "start_time": "2025-07-21T11:06:22.103959Z"
    }
   },
   "outputs": [
    {
     "data": {
      "text/latex": [
       "$$ |00\\rangle$$"
      ],
      "text/plain": [
       "<IPython.core.display.Latex object>"
      ]
     },
     "execution_count": 30,
     "metadata": {},
     "output_type": "execute_result"
    }
   ],
   "source": [
    "Statevector(Zgate_4).draw('latex')"
   ]
  },
  {
   "cell_type": "code",
   "execution_count": 31,
   "id": "e8e468cdefa4cbd2",
   "metadata": {
    "ExecuteTime": {
     "end_time": "2025-07-21T11:09:40.900076Z",
     "start_time": "2025-07-21T11:09:40.860669Z"
    }
   },
   "outputs": [
    {
     "data": {
      "text/latex": [
       "$\\displaystyle  Z|0 \\rangle $"
      ],
      "text/plain": [
       "<IPython.core.display.Math object>"
      ]
     },
     "metadata": {},
     "output_type": "display_data"
    },
    {
     "data": {
      "text/latex": [
       "$$ |00\\rangle$$"
      ],
      "text/plain": [
       "<IPython.core.display.Latex object>"
      ]
     },
     "metadata": {},
     "output_type": "display_data"
    },
    {
     "data": {
      "text/latex": [
       "$\\displaystyle  Z|1 \\rangle$"
      ],
      "text/plain": [
       "<IPython.core.display.Math object>"
      ]
     },
     "metadata": {},
     "output_type": "display_data"
    },
    {
     "data": {
      "text/latex": [
       "$$- i |01\\rangle$$"
      ],
      "text/plain": [
       "<IPython.core.display.Latex object>"
      ]
     },
     "metadata": {},
     "output_type": "display_data"
    },
    {
     "data": {
      "text/latex": [
       "$\\displaystyle  Z|2 \\rangle$"
      ],
      "text/plain": [
       "<IPython.core.display.Math object>"
      ]
     },
     "metadata": {},
     "output_type": "display_data"
    },
    {
     "data": {
      "text/latex": [
       "$$- |10\\rangle$$"
      ],
      "text/plain": [
       "<IPython.core.display.Latex object>"
      ]
     },
     "metadata": {},
     "output_type": "display_data"
    },
    {
     "data": {
      "text/latex": [
       "$\\displaystyle  Z|3 \\rangle$"
      ],
      "text/plain": [
       "<IPython.core.display.Math object>"
      ]
     },
     "metadata": {},
     "output_type": "display_data"
    },
    {
     "data": {
      "text/latex": [
       "$$i |11\\rangle$$"
      ],
      "text/plain": [
       "<IPython.core.display.Latex object>"
      ]
     },
     "metadata": {},
     "output_type": "display_data"
    }
   ],
   "source": [
    "texts = ['$ Z|0 \\\\rangle $', '$ Z|1 \\\\rangle$',\n",
    "        '$ Z|2 \\\\rangle$', '$ Z|3 \\\\rangle$']\n",
    "\n",
    "for i in range(4):\n",
    "    testqcZ = QuantumCircuit(2)\n",
    "    for j in range(i):\n",
    "        testqcZ.append(Xgate4, [0, 1])\n",
    "    testqcZ.append(Zgate_4, [0, 1])\n",
    "    display(Math(texts[i]))\n",
    "    display(Statevector(testqcZ).draw('latex'))"
   ]
  },
  {
   "cell_type": "code",
   "execution_count": 32,
   "id": "9cfebed1346553cd",
   "metadata": {
    "ExecuteTime": {
     "end_time": "2025-07-21T11:07:56.799669Z",
     "start_time": "2025-07-21T11:07:56.787926Z"
    }
   },
   "outputs": [
    {
     "name": "stdout",
     "output_type": "stream",
     "text": [
      "omega = 1j\n",
      "omega^2 = (-1+0j)\n",
      "omega^3 = (-0-1j)\n"
     ]
    }
   ],
   "source": [
    "print(f'omega = {omega.round(3)}')\n",
    "print(f'omega^2 = {(omega**2).round(3)}')\n",
    "print(f'omega^3 = {pow(omega, 3).round(3)}')"
   ]
  },
  {
   "cell_type": "code",
   "execution_count": 33,
   "id": "8490dcc18777b115",
   "metadata": {
    "ExecuteTime": {
     "end_time": "2025-07-21T11:44:00.106841Z",
     "start_time": "2025-07-21T11:44:00.098798Z"
    }
   },
   "outputs": [],
   "source": [
    "Fgate_4.name = 'F_4'"
   ]
  },
  {
   "cell_type": "code",
   "execution_count": 34,
   "id": "aa7e4e19144624e",
   "metadata": {
    "ExecuteTime": {
     "end_time": "2025-07-21T11:10:40.521128Z",
     "start_time": "2025-07-21T11:10:40.513755Z"
    }
   },
   "outputs": [],
   "source": [
    "with open('Zgate4.qpy', 'wb') as fd:\n",
    "    qpy.dump(Zgate_4, fd)"
   ]
  },
  {
   "cell_type": "code",
   "execution_count": 35,
   "id": "9823f0d2d4d0327",
   "metadata": {
    "ExecuteTime": {
     "end_time": "2025-07-21T11:10:23.753485Z",
     "start_time": "2025-07-21T11:10:23.747738Z"
    }
   },
   "outputs": [],
   "source": [
    "with open('Xgate4.qpy', 'wb') as fd:\n",
    "    qpy.dump(Xgate4, fd)"
   ]
  },
  {
   "cell_type": "code",
   "execution_count": 36,
   "id": "4657262cc505e33a",
   "metadata": {
    "ExecuteTime": {
     "end_time": "2025-07-21T11:44:02.322354Z",
     "start_time": "2025-07-21T11:44:02.311184Z"
    }
   },
   "outputs": [],
   "source": [
    "with open('Fgate4.qpy', 'wb') as fd:\n",
    "    qpy.dump(Fgate_4, fd)"
   ]
  },
  {
   "cell_type": "code",
   "execution_count": 37,
   "id": "f9c9a53ee40bf123",
   "metadata": {
    "ExecuteTime": {
     "end_time": "2025-07-21T11:16:57.531895Z",
     "start_time": "2025-07-21T11:16:57.523693Z"
    }
   },
   "outputs": [],
   "source": [
    "with open('CZ.qpy', 'rb') as fd:\n",
    "    CZ = qpy.load(fd)[0]"
   ]
  },
  {
   "cell_type": "code",
   "execution_count": 38,
   "id": "c567a4b0a0d2c4ba",
   "metadata": {
    "ExecuteTime": {
     "end_time": "2025-07-21T11:17:03.684143Z",
     "start_time": "2025-07-21T11:17:03.610006Z"
    }
   },
   "outputs": [
    {
     "data": {
      "image/png": "[encoded data removed]",
      "text/plain": [
       "<Figure size 789.163x367.889 with 1 Axes>"
      ]
     },
     "execution_count": 38,
     "metadata": {},
     "output_type": "execute_result"
    }
   ],
   "source": [
    "CZ.draw('mpl')"
   ]
  },
  {
   "cell_type": "code",
   "execution_count": 39,
   "id": "c83dfc513b6e271",
   "metadata": {
    "ExecuteTime": {
     "end_time": "2025-07-21T11:27:52.294502Z",
     "start_time": "2025-07-21T11:27:52.262063Z"
    }
   },
   "outputs": [
    {
     "data": {
      "text/latex": [
       "$$\\frac{\\sqrt{3}}{3} |00\\rangle+\\frac{\\sqrt{3}}{3} |01\\rangle+\\frac{\\sqrt{3}}{3} |10\\rangle$$"
      ],
      "text/plain": [
       "<IPython.core.display.Latex object>"
      ]
     },
     "execution_count": 39,
     "metadata": {},
     "output_type": "execute_result"
    }
   ],
   "source": [
    "Statevector(Fgate).draw('latex')"
   ]
  },
  {
   "cell_type": "code",
   "execution_count": 40,
   "id": "1f559011536b1f31",
   "metadata": {
    "ExecuteTime": {
     "end_time": "2025-07-21T11:32:06.733287Z",
     "start_time": "2025-07-21T11:32:06.722286Z"
    }
   },
   "outputs": [
    {
     "data": {
      "text/latex": [
       "$$ |0101\\rangle$$"
      ],
      "text/plain": [
       "<IPython.core.display.Latex object>"
      ]
     },
     "execution_count": 40,
     "metadata": {},
     "output_type": "execute_result"
    }
   ],
   "source": [
    "cztest = QuantumCircuit(4)\n",
    "cztest.append(Xgate, [0, 1])\n",
    "cztest.append(Xgate, [2, 3])\n",
    "#cztest.append(CZ, [0, 1, 2, 3])\n",
    "\n",
    "Statevector(cztest).draw('latex')"
   ]
  },
  {
   "cell_type": "code",
   "execution_count": 41,
   "id": "da240c0b9c697ea4",
   "metadata": {
    "ExecuteTime": {
     "end_time": "2025-07-21T11:47:16.371437Z",
     "start_time": "2025-07-21T11:47:16.260867Z"
    }
   },
   "outputs": [
    {
     "data": {
      "image/png": "[encoded data removed]",
      "text/plain": [
       "<Figure size 454.719x367.889 with 1 Axes>"
      ]
     },
     "execution_count": 41,
     "metadata": {},
     "output_type": "execute_result"
    }
   ],
   "source": [
    "CZ4_qc = QuantumCircuit(4)\n",
    "CZ4_qc.cp(np.pi/2, 1, 3)\n",
    "CZ4_qc.cz(2, 1)\n",
    "CZ4_qc.cz(3, 0)\n",
    "CZ4_qc.draw('mpl')"
   ]
  },
  {
   "cell_type": "code",
   "execution_count": 42,
   "id": "891ee5a8b96547a9",
   "metadata": {
    "ExecuteTime": {
     "end_time": "2025-07-21T11:47:21.894654Z",
     "start_time": "2025-07-21T11:47:21.864331Z"
    }
   },
   "outputs": [
    {
     "data": {
      "text/latex": [
       "$$i |1010\\rangle$$"
      ],
      "text/plain": [
       "<IPython.core.display.Latex object>"
      ]
     },
     "execution_count": 42,
     "metadata": {},
     "output_type": "execute_result"
    }
   ],
   "source": [
    "testqcC = QuantumCircuit(4)\n",
    "testqcC.append(Xgate4, [0, 1])\n",
    "testqcC.append(Xgate4, [2, 3])\n",
    "testqcC.append(Xgate4, [0, 1])\n",
    "testqcC.append(Xgate4, [2, 3])\n",
    "\n",
    "testqcC.append(CZ4_qc, [0, 1, 2, 3])\n",
    "\n",
    "Statevector(testqcC).draw('latex')"
   ]
  },
  {
   "cell_type": "code",
   "execution_count": 43,
   "id": "97d6e581f1109cf8",
   "metadata": {
    "ExecuteTime": {
     "end_time": "2025-07-21T11:42:02.785474Z",
     "start_time": "2025-07-21T11:42:02.776194Z"
    }
   },
   "outputs": [],
   "source": [
    "CZ4_qc.name = 'CZ_4'"
   ]
  },
  {
   "cell_type": "code",
   "execution_count": 44,
   "id": "66c9e1ac7d8eee27",
   "metadata": {
    "ExecuteTime": {
     "end_time": "2025-07-21T11:42:03.429935Z",
     "start_time": "2025-07-21T11:42:03.423230Z"
    }
   },
   "outputs": [],
   "source": [
    "with open('CZgate4.qpy', 'wb') as fd:\n",
    "    qpy.dump(CZ4_qc, fd)"
   ]
  },
  {
   "cell_type": "code",
   "execution_count": 45,
   "id": "65bb863f495070ca",
   "metadata": {
    "ExecuteTime": {
     "end_time": "2025-07-21T11:44:09.376270Z",
     "start_time": "2025-07-21T11:44:09.362433Z"
    }
   },
   "outputs": [],
   "source": [
    "with open('Xgate4.qpy', 'rb') as fd:\n",
    "    Xgate4 = qpy.load(fd)[0]\n",
    "\n",
    "with open('Zgate4.qpy', 'rb') as fd:\n",
    "    Zgate4 = qpy.load(fd)[0]\n",
    "\n",
    "with open('Fgate4.qpy', 'rb') as fd:\n",
    "    Fgate4 = qpy.load(fd)[0]\n",
    "\n",
    "with open('CZgate4.qpy', 'rb') as fd:\n",
    "    CZgate4 = qpy.load(fd)[0]"
   ]
  },
  {
   "cell_type": "code",
   "execution_count": 46,
   "id": "a12d6ae3bcbfa8b2",
   "metadata": {
    "ExecuteTime": {
     "end_time": "2025-07-21T12:15:19.437367Z",
     "start_time": "2025-07-21T12:15:19.413610Z"
    }
   },
   "outputs": [
    {
     "data": {
      "text/latex": [
       "$$\n",
       "\n",
       "\\begin{bmatrix}\n",
       "1 & 0 & 0 & 0 & \\cdots & 0 & 0 & 0  \\\\\n",
       " 0 & 1 & 0 & 0 & \\cdots & 0 & 0 & 0  \\\\\n",
       " 0 & 0 & 1 & 0 & \\cdots & 0 & 0 & 0  \\\\\n",
       " 0 & 0 & 0 & 1 & \\cdots & 0 & 0 & 0  \\\\\n",
       " \\vdots & \\vdots & \\vdots & \\vdots & \\ddots & \\vdots & \\vdots & \\vdots \\\\\n",
       " 0 & 0 & 0 & 0 & \\cdots & -1 & 0 & 0  \\\\\n",
       " 0 & 0 & 0 & 0 & \\cdots & 0 & - i & 0  \\\\\n",
       " 0 & 0 & 0 & 0 & \\cdots & 0 & 0 & i  \\\\\n",
       " \\end{bmatrix}\n",
       "$$"
      ],
      "text/plain": [
       "<IPython.core.display.Latex object>"
      ]
     },
     "execution_count": 46,
     "metadata": {},
     "output_type": "execute_result"
    }
   ],
   "source": [
    "Operator(CZgate4).draw('latex')"
   ]
  },
  {
   "cell_type": "code",
   "execution_count": 47,
   "id": "1c9bf47405c7334d",
   "metadata": {
    "ExecuteTime": {
     "end_time": "2025-07-21T11:50:31.668847Z",
     "start_time": "2025-07-21T11:50:31.656752Z"
    }
   },
   "outputs": [],
   "source": [
    "Fmtx_inv = Fmtx.conjugate().transpose()"
   ]
  },
  {
   "cell_type": "code",
   "execution_count": 48,
   "id": "5d469afa8991bb69",
   "metadata": {
    "ExecuteTime": {
     "end_time": "2025-07-21T11:50:49.507715Z",
     "start_time": "2025-07-21T11:50:49.498179Z"
    }
   },
   "outputs": [],
   "source": [
    "Fgate4_inv = TwoQubitWeylDecomposition(Fmtx_inv).circuit()"
   ]
  },
  {
   "cell_type": "code",
   "execution_count": 49,
   "id": "fe7d2cbdc2af1a28",
   "metadata": {
    "ExecuteTime": {
     "end_time": "2025-07-21T11:57:16.999209Z",
     "start_time": "2025-07-21T11:57:16.876087Z"
    }
   },
   "outputs": [
    {
     "data": {
      "text/latex": [
       "$\\displaystyle  F|0 \\rangle $"
      ],
      "text/plain": [
       "<IPython.core.display.Math object>"
      ]
     },
     "metadata": {},
     "output_type": "display_data"
    },
    {
     "data": {
      "text/latex": [
       "$$- \\frac{1}{2} |00\\rangle- \\frac{1}{2} |01\\rangle- \\frac{1}{2} |10\\rangle- \\frac{1}{2} |11\\rangle$$"
      ],
      "text/plain": [
       "<IPython.core.display.Latex object>"
      ]
     },
     "metadata": {},
     "output_type": "display_data"
    },
    {
     "data": {
      "text/latex": [
       "$\\displaystyle  F^\\dagger |0 \\rangle $"
      ],
      "text/plain": [
       "<IPython.core.display.Math object>"
      ]
     },
     "metadata": {},
     "output_type": "display_data"
    },
    {
     "data": {
      "text/latex": [
       "$$\\frac{1}{2} |00\\rangle+\\frac{1}{2} |01\\rangle+\\frac{1}{2} |10\\rangle+\\frac{1}{2} |11\\rangle$$"
      ],
      "text/plain": [
       "<IPython.core.display.Latex object>"
      ]
     },
     "metadata": {},
     "output_type": "display_data"
    },
    {
     "data": {
      "text/latex": [
       "$\\displaystyle  F|1 \\rangle$"
      ],
      "text/plain": [
       "<IPython.core.display.Math object>"
      ]
     },
     "metadata": {},
     "output_type": "display_data"
    },
    {
     "data": {
      "text/latex": [
       "$$\\frac{1}{2} |00\\rangle+\\frac{i}{2} |01\\rangle- \\frac{1}{2} |10\\rangle- \\frac{i}{2} |11\\rangle$$"
      ],
      "text/plain": [
       "<IPython.core.display.Latex object>"
      ]
     },
     "metadata": {},
     "output_type": "display_data"
    },
    {
     "data": {
      "text/latex": [
       "$\\displaystyle  F^\\dagger |1 \\rangle $"
      ],
      "text/plain": [
       "<IPython.core.display.Math object>"
      ]
     },
     "metadata": {},
     "output_type": "display_data"
    },
    {
     "data": {
      "text/latex": [
       "$$- \\frac{1}{2} |00\\rangle+\\frac{i}{2} |01\\rangle+\\frac{1}{2} |10\\rangle- \\frac{i}{2} |11\\rangle$$"
      ],
      "text/plain": [
       "<IPython.core.display.Latex object>"
      ]
     },
     "metadata": {},
     "output_type": "display_data"
    },
    {
     "data": {
      "text/latex": [
       "$\\displaystyle  F|2 \\rangle$"
      ],
      "text/plain": [
       "<IPython.core.display.Math object>"
      ]
     },
     "metadata": {},
     "output_type": "display_data"
    },
    {
     "data": {
      "text/latex": [
       "$$- \\frac{1}{2} |00\\rangle+\\frac{1}{2} |01\\rangle- \\frac{1}{2} |10\\rangle+\\frac{1}{2} |11\\rangle$$"
      ],
      "text/plain": [
       "<IPython.core.display.Latex object>"
      ]
     },
     "metadata": {},
     "output_type": "display_data"
    },
    {
     "data": {
      "text/latex": [
       "$\\displaystyle  F^\\dagger |2 \\rangle $"
      ],
      "text/plain": [
       "<IPython.core.display.Math object>"
      ]
     },
     "metadata": {},
     "output_type": "display_data"
    },
    {
     "data": {
      "text/latex": [
       "$$\\frac{1}{2} |00\\rangle- \\frac{1}{2} |01\\rangle+\\frac{1}{2} |10\\rangle- \\frac{1}{2} |11\\rangle$$"
      ],
      "text/plain": [
       "<IPython.core.display.Latex object>"
      ]
     },
     "metadata": {},
     "output_type": "display_data"
    },
    {
     "data": {
      "text/latex": [
       "$\\displaystyle  F|3 \\rangle$"
      ],
      "text/plain": [
       "<IPython.core.display.Math object>"
      ]
     },
     "metadata": {},
     "output_type": "display_data"
    },
    {
     "data": {
      "text/latex": [
       "$$\\frac{1}{2} |00\\rangle- \\frac{i}{2} |01\\rangle- \\frac{1}{2} |10\\rangle+\\frac{i}{2} |11\\rangle$$"
      ],
      "text/plain": [
       "<IPython.core.display.Latex object>"
      ]
     },
     "metadata": {},
     "output_type": "display_data"
    },
    {
     "data": {
      "text/latex": [
       "$\\displaystyle  F^\\dagger |3 \\rangle $"
      ],
      "text/plain": [
       "<IPython.core.display.Math object>"
      ]
     },
     "metadata": {},
     "output_type": "display_data"
    },
    {
     "data": {
      "text/latex": [
       "$$- \\frac{1}{2} |00\\rangle- \\frac{i}{2} |01\\rangle+\\frac{1}{2} |10\\rangle+\\frac{i}{2} |11\\rangle$$"
      ],
      "text/plain": [
       "<IPython.core.display.Latex object>"
      ]
     },
     "metadata": {},
     "output_type": "display_data"
    }
   ],
   "source": [
    "texts = ['$ F|0 \\\\rangle $', '$ F^\\\\dagger |0 \\\\rangle $', '$ F|1 \\\\rangle$', '$ F^\\\\dagger |1 \\\\rangle $', '$ F|2 \\\\rangle$', '$ F^\\\\dagger |2 \\\\rangle $', '$ F|3 \\\\rangle$', '$ F^\\\\dagger |3 \\\\rangle $',]\n",
    "\n",
    "for i in range(4):\n",
    "    testqc = QuantumCircuit(2)\n",
    "    for j in range(i):\n",
    "        testqc.append(Xgate4, [0, 1])\n",
    "    testqc.append(Fgate4, [0, 1])\n",
    "    display(Math(texts[2 * i]))\n",
    "    display(Statevector(testqc).draw('latex'))\n",
    "\n",
    "    testqc = QuantumCircuit(2)\n",
    "    for j in range(i):\n",
    "        testqc.append(Xgate4, [0, 1])\n",
    "    testqc.append(Fgate4_inv, [0, 1])\n",
    "    display(Math(texts[2 * i + 1]))\n",
    "    display(Statevector(testqc).draw('latex'))"
   ]
  },
  {
   "cell_type": "code",
   "execution_count": 50,
   "id": "1a98884b3092512e",
   "metadata": {
    "ExecuteTime": {
     "end_time": "2025-07-22T06:54:35.328075Z",
     "start_time": "2025-07-22T06:54:35.216981Z"
    }
   },
   "outputs": [
    {
     "data": {
      "image/png": "[encoded data removed]",
      "text/plain": [
       "<Figure size 538.33x367.889 with 1 Axes>"
      ]
     },
     "execution_count": 50,
     "metadata": {},
     "output_type": "execute_result"
    }
   ],
   "source": [
    "ququart2 = QuantumCircuit(4)\n",
    "ququart2.append(Fgate4, [0, 1])\n",
    "ququart2.append(Fgate4, [2, 3])\n",
    "ququart2.append(CZgate4, [0, 1, 2, 3])\n",
    "\n",
    "ququart2.append(Fgate4_inv, [2, 3])\n",
    "\n",
    "ququart2.draw('mpl')"
   ]
  },
  {
   "cell_type": "code",
   "execution_count": 51,
   "id": "2a3cff0c144d8d74",
   "metadata": {
    "ExecuteTime": {
     "end_time": "2025-07-22T06:54:37.491062Z",
     "start_time": "2025-07-22T06:54:37.465291Z"
    }
   },
   "outputs": [
    {
     "data": {
      "text/latex": [
       "$$\\frac{1}{2} |0000\\rangle+(\\frac{1}{4} - \\frac{i}{4}) |0101\\rangle+\\frac{1}{4} |0110\\rangle+\\frac{i}{4} |0111\\rangle+(\\frac{1}{4} + \\frac{i}{4}) |1010\\rangle+(\\frac{1}{4} - \\frac{i}{4}) |1011\\rangle+(\\frac{1}{4} + \\frac{i}{4}) |1101\\rangle- \\frac{i}{4} |1110\\rangle+\\frac{1}{4} |1111\\rangle$$"
      ],
      "text/plain": [
       "<IPython.core.display.Latex object>"
      ]
     },
     "execution_count": 51,
     "metadata": {},
     "output_type": "execute_result"
    }
   ],
   "source": [
    "Statevector(ququart2).draw('latex')"
   ]
  },
  {
   "cell_type": "code",
   "execution_count": 52,
   "id": "b399e99fab4d64d6",
   "metadata": {
    "ExecuteTime": {
     "end_time": "2025-07-22T06:52:05.852566Z",
     "start_time": "2025-07-22T06:52:05.834375Z"
    }
   },
   "outputs": [
    {
     "data": {
      "text/latex": [
       "$$\\frac{1}{2} |0000\\rangle+(\\frac{1}{4} - \\frac{i}{4}) |0101\\rangle+\\frac{1}{4} |0110\\rangle+\\frac{i}{4} |0111\\rangle+(\\frac{1}{4} + \\frac{i}{4}) |1010\\rangle+(\\frac{1}{4} - \\frac{i}{4}) |1011\\rangle+(\\frac{1}{4} + \\frac{i}{4}) |1101\\rangle- \\frac{i}{4} |1110\\rangle+\\frac{1}{4} |1111\\rangle$$"
      ],
      "text/plain": [
       "<IPython.core.display.Latex object>"
      ]
     },
     "execution_count": 52,
     "metadata": {},
     "output_type": "execute_result"
    }
   ],
   "source": [
    "Statevector(ququart2).draw('latex')"
   ]
  },
  {
   "cell_type": "code",
   "execution_count": 53,
   "id": "a6dcf601734eb2e7",
   "metadata": {
    "ExecuteTime": {
     "end_time": "2025-07-22T06:54:48.025246Z",
     "start_time": "2025-07-22T06:54:48.012247Z"
    }
   },
   "outputs": [
    {
     "data": {
      "text/plain": [
       "16"
      ]
     },
     "execution_count": 53,
     "metadata": {},
     "output_type": "execute_result"
    }
   ],
   "source": [
    "len(Statevector(ququart2))"
   ]
  },
  {
   "cell_type": "code",
   "execution_count": 54,
   "id": "272f3b80b6f04f8d",
   "metadata": {
    "ExecuteTime": {
     "end_time": "2025-07-22T06:54:49.481480Z",
     "start_time": "2025-07-22T06:54:49.463696Z"
    }
   },
   "outputs": [
    {
     "data": {
      "text/plain": [
       "array([ 0.5 -0.j  , -0.  -0.j  , -0.  +0.j  ,  0.  +0.j  , -0.  -0.j  ,\n",
       "        0.25-0.25j,  0.25+0.j  , -0.  +0.25j, -0.  +0.j  ,  0.  -0.j  ,\n",
       "        0.25+0.25j,  0.25-0.25j,  0.  -0.j  ,  0.25+0.25j,  0.  -0.25j,\n",
       "        0.25+0.j  ])"
      ]
     },
     "execution_count": 54,
     "metadata": {},
     "output_type": "execute_result"
    }
   ],
   "source": [
    "Statevector(ququart2).data.round(3)"
   ]
  },
  {
   "cell_type": "code",
   "execution_count": 55,
   "id": "3a6f0d357d297e41",
   "metadata": {
    "ExecuteTime": {
     "end_time": "2025-07-21T12:12:39.145033Z",
     "start_time": "2025-07-21T12:12:39.134079Z"
    }
   },
   "outputs": [
    {
     "data": {
      "text/plain": [
       "True"
      ]
     },
     "execution_count": 55,
     "metadata": {},
     "output_type": "execute_result"
    }
   ],
   "source": [
    "Operator(Fgate4).equiv(Operator(Fgate4_inv).adjoint())"
   ]
  },
  {
   "cell_type": "code",
   "execution_count": 56,
   "id": "7631b602c028c30f",
   "metadata": {
    "ExecuteTime": {
     "end_time": "2025-07-22T06:50:52.602580Z",
     "start_time": "2025-07-22T06:50:52.511589Z"
    }
   },
   "outputs": [
    {
     "data": {
      "image/png": "[encoded data removed]",
      "text/plain": [
       "<Figure size 203.885x367.889 with 1 Axes>"
      ]
     },
     "execution_count": 56,
     "metadata": {},
     "output_type": "execute_result"
    }
   ],
   "source": [
    "qc_3ghz = QuantumCircuit(4)\n",
    "qc_3ghz.append(Fgate, [0, 1])\n",
    "qc_3ghz.append(Fgate, [2, 3])\n",
    "qc_3ghz.draw('mpl')"
   ]
  },
  {
   "cell_type": "code",
   "execution_count": 57,
   "id": "1c5d56cdee52f80e",
   "metadata": {
    "ExecuteTime": {
     "end_time": "2025-07-22T06:52:54.244224Z",
     "start_time": "2025-07-22T06:52:54.232389Z"
    }
   },
   "outputs": [
    {
     "data": {
      "text/plain": [
       "16"
      ]
     },
     "execution_count": 57,
     "metadata": {},
     "output_type": "execute_result"
    }
   ],
   "source": [
    "len(Statevector(qc_3ghz))"
   ]
  },
  {
   "cell_type": "code",
   "execution_count": 58,
   "id": "ab5b6c2621afb729",
   "metadata": {
    "ExecuteTime": {
     "end_time": "2025-07-22T06:52:40.349608Z",
     "start_time": "2025-07-22T06:52:40.325352Z"
    }
   },
   "outputs": [
    {
     "data": {
      "text/latex": [
       "$$\\frac{1}{3} |0000\\rangle+\\frac{1}{3} |0001\\rangle+\\frac{1}{3} |0010\\rangle+\\frac{1}{3} |0100\\rangle+\\frac{1}{3} |0101\\rangle+\\frac{1}{3} |0110\\rangle+\\frac{1}{3} |1000\\rangle+\\frac{1}{3} |1001\\rangle+\\frac{1}{3} |1010\\rangle$$"
      ],
      "text/plain": [
       "<IPython.core.display.Latex object>"
      ]
     },
     "execution_count": 58,
     "metadata": {},
     "output_type": "execute_result"
    }
   ],
   "source": [
    "Statevector(qc_3ghz).draw('latex')"
   ]
  },
  {
   "cell_type": "code",
   "execution_count": 59,
   "id": "f1d6c49b9abd83a9",
   "metadata": {
    "ExecuteTime": {
     "end_time": "2025-07-22T06:53:20.199697Z",
     "start_time": "2025-07-22T06:53:20.178150Z"
    }
   },
   "outputs": [
    {
     "data": {
      "text/plain": [
       "array([ 0.33-0.j,  0.33-0.j,  0.33-0.j,  0.  -0.j,  0.33-0.j,  0.33-0.j,\n",
       "        0.33-0.j,  0.  -0.j,  0.33-0.j,  0.33-0.j,  0.33-0.j,  0.  -0.j,\n",
       "        0.  -0.j, -0.  -0.j,  0.  -0.j,  0.  -0.j])"
      ]
     },
     "execution_count": 59,
     "metadata": {},
     "output_type": "execute_result"
    }
   ],
   "source": [
    "Statevector(qc_3ghz).data.round(2)"
   ]
  },
  {
   "cell_type": "code",
   "execution_count": 60,
   "id": "58b2124ac9ed634d",
   "metadata": {
    "ExecuteTime": {
     "end_time": "2025-07-22T07:13:30.874689Z",
     "start_time": "2025-07-22T07:13:30.867984Z"
    }
   },
   "outputs": [],
   "source": [
    "H4_mtx = 0.5 * np.array([[1, 1, 1, 1], [1, 1j, -1, -1j], [1, -1, 1, -1], [1, -1j, -1, 1j]])"
   ]
  },
  {
   "cell_type": "code",
   "execution_count": 61,
   "id": "1bb5b75ab0bece12",
   "metadata": {
    "ExecuteTime": {
     "end_time": "2025-07-22T07:13:32.883334Z",
     "start_time": "2025-07-22T07:13:32.878316Z"
    }
   },
   "outputs": [],
   "source": [
    "H4 = TwoQubitWeylDecomposition(H4_mtx).circuit()"
   ]
  },
  {
   "cell_type": "code",
   "execution_count": 62,
   "id": "aa2201964d9dd304",
   "metadata": {
    "ExecuteTime": {
     "end_time": "2025-07-22T07:13:38.836045Z",
     "start_time": "2025-07-22T07:13:38.829998Z"
    }
   },
   "outputs": [],
   "source": [
    "H4.global_phase = 5 * np.pi / 8"
   ]
  },
  {
   "cell_type": "code",
   "execution_count": 63,
   "id": "bc6045cba6266e0a",
   "metadata": {
    "ExecuteTime": {
     "end_time": "2025-07-22T07:13:39.426393Z",
     "start_time": "2025-07-22T07:13:39.406773Z"
    }
   },
   "outputs": [
    {
     "data": {
      "text/latex": [
       "$$\n",
       "\n",
       "\\begin{bmatrix}\n",
       "\\frac{1}{2} & \\frac{1}{2} & \\frac{1}{2} & \\frac{1}{2}  \\\\\n",
       " \\frac{1}{2} & \\frac{i}{2} & - \\frac{1}{2} & - \\frac{i}{2}  \\\\\n",
       " \\frac{1}{2} & - \\frac{1}{2} & \\frac{1}{2} & - \\frac{1}{2}  \\\\\n",
       " \\frac{1}{2} & - \\frac{i}{2} & - \\frac{1}{2} & \\frac{i}{2}  \\\\\n",
       " \\end{bmatrix}\n",
       "$$"
      ],
      "text/plain": [
       "<IPython.core.display.Latex object>"
      ]
     },
     "execution_count": 63,
     "metadata": {},
     "output_type": "execute_result"
    }
   ],
   "source": [
    "Operator(H4).draw('latex')"
   ]
  },
  {
   "cell_type": "code",
   "execution_count": 64,
   "id": "21851c5dd615888d",
   "metadata": {
    "ExecuteTime": {
     "end_time": "2025-07-22T07:13:43.190281Z",
     "start_time": "2025-07-22T07:13:43.073879Z"
    }
   },
   "outputs": [
    {
     "data": {
      "image/png": "[encoded data removed]",
      "text/plain": [
       "<Figure size 872.572x200.667 with 1 Axes>"
      ]
     },
     "execution_count": 64,
     "metadata": {},
     "output_type": "execute_result"
    }
   ],
   "source": [
    "H4.draw('mpl')"
   ]
  },
  {
   "cell_type": "code",
   "execution_count": 65,
   "id": "5879ad46082baf81",
   "metadata": {
    "ExecuteTime": {
     "end_time": "2025-07-22T07:13:47.071944Z",
     "start_time": "2025-07-22T07:13:47.056082Z"
    }
   },
   "outputs": [
    {
     "data": {
      "text/latex": [
       "$$\\frac{1}{2} |00\\rangle+\\frac{1}{2} |01\\rangle+\\frac{1}{2} |10\\rangle+\\frac{1}{2} |11\\rangle$$"
      ],
      "text/plain": [
       "<IPython.core.display.Latex object>"
      ]
     },
     "execution_count": 65,
     "metadata": {},
     "output_type": "execute_result"
    }
   ],
   "source": [
    "Statevector(H4).draw('latex')"
   ]
  },
  {
   "cell_type": "code",
   "execution_count": 66,
   "id": "167e64b353334942",
   "metadata": {
    "ExecuteTime": {
     "end_time": "2025-07-22T07:13:49.691029Z",
     "start_time": "2025-07-22T07:13:49.686031Z"
    }
   },
   "outputs": [],
   "source": [
    "H4.name = \"H4\""
   ]
  },
  {
   "cell_type": "code",
   "execution_count": 67,
   "id": "998b8d2191d41897",
   "metadata": {
    "ExecuteTime": {
     "end_time": "2025-07-22T07:13:50.561590Z",
     "start_time": "2025-07-22T07:13:50.555912Z"
    }
   },
   "outputs": [],
   "source": [
    "H4mtx_inv = H4_mtx.conjugate().transpose()"
   ]
  },
  {
   "cell_type": "code",
   "execution_count": 68,
   "id": "768a6d96fa97dc9b",
   "metadata": {
    "ExecuteTime": {
     "end_time": "2025-07-22T07:13:51.086487Z",
     "start_time": "2025-07-22T07:13:51.080181Z"
    }
   },
   "outputs": [],
   "source": [
    "H4inv = TwoQubitWeylDecomposition(H4mtx_inv).circuit()"
   ]
  },
  {
   "cell_type": "code",
   "execution_count": 69,
   "id": "b9f31342eabc2249",
   "metadata": {
    "ExecuteTime": {
     "end_time": "2025-07-22T07:13:51.519950Z",
     "start_time": "2025-07-22T07:13:51.512420Z"
    }
   },
   "outputs": [],
   "source": [
    "H4inv.name = \"H4inv\""
   ]
  },
  {
   "cell_type": "code",
   "execution_count": 70,
   "id": "880b337f70ad5bd8",
   "metadata": {
    "ExecuteTime": {
     "end_time": "2025-07-22T07:13:54.901290Z",
     "start_time": "2025-07-22T07:13:54.794604Z"
    }
   },
   "outputs": [
    {
     "data": {
      "image/png": "[encoded data removed]",
      "text/plain": [
       "<Figure size 538.33x367.889 with 1 Axes>"
      ]
     },
     "execution_count": 70,
     "metadata": {},
     "output_type": "execute_result"
    }
   ],
   "source": [
    "test_H = QuantumCircuit(4)\n",
    "test_H.append(H4, [0, 1])\n",
    "test_H.append(H4, [2, 3])\n",
    "\n",
    "test_H.append(CZgate4, [0, 1, 2, 3])\n",
    "\n",
    "test_H.append(H4inv, [0, 1])\n",
    "\n",
    "test_H.draw('mpl')"
   ]
  },
  {
   "cell_type": "code",
   "execution_count": 71,
   "id": "b4f24e7acf597a9e",
   "metadata": {
    "ExecuteTime": {
     "end_time": "2025-07-22T07:13:57.095697Z",
     "start_time": "2025-07-22T07:13:57.076371Z"
    }
   },
   "outputs": [
    {
     "data": {
      "text/latex": [
       "$$\\frac{1}{2} |0000\\rangle+(\\frac{1}{4} - \\frac{i}{4}) |0101\\rangle+(\\frac{1}{4} + \\frac{i}{4}) |0111\\rangle+\\frac{1}{4} |1001\\rangle+(\\frac{1}{4} + \\frac{i}{4}) |1010\\rangle- \\frac{i}{4} |1011\\rangle+\\frac{i}{4} |1101\\rangle+(\\frac{1}{4} - \\frac{i}{4}) |1110\\rangle+\\frac{1}{4} |1111\\rangle$$"
      ],
      "text/plain": [
       "<IPython.core.display.Latex object>"
      ]
     },
     "execution_count": 71,
     "metadata": {},
     "output_type": "execute_result"
    }
   ],
   "source": [
    "Statevector(test_H).draw('latex')"
   ]
  },
  {
   "cell_type": "code",
   "execution_count": 72,
   "id": "39a318eedc71bbb7",
   "metadata": {
    "ExecuteTime": {
     "end_time": "2025-07-22T07:16:51.059098Z",
     "start_time": "2025-07-22T07:16:51.049338Z"
    }
   },
   "outputs": [],
   "source": [
    "cz_test = (np.kron(np.identity(4), proj(q0, q0)) + np.kron(Operator(Zgate4).to_matrix(), proj(q1, q1))).round(3)"
   ]
  },
  {
   "cell_type": "code",
   "execution_count": 73,
   "id": "8a0db987b1d821d6",
   "metadata": {
    "ExecuteTime": {
     "end_time": "2025-07-22T07:30:24.916345Z",
     "start_time": "2025-07-22T07:30:24.911162Z"
    }
   },
   "outputs": [],
   "source": [
    "qubit0 = np.array([[1], [0]])\n",
    "qubit1 = np.array([[0], [1]])"
   ]
  },
  {
   "cell_type": "code",
   "execution_count": 74,
   "id": "43b8fabe61c508",
   "metadata": {
    "ExecuteTime": {
     "end_time": "2025-07-22T07:31:43.364999Z",
     "start_time": "2025-07-22T07:31:43.351265Z"
    }
   },
   "outputs": [
    {
     "data": {
      "text/plain": [
       "array([[ 1,  0,  0,  0],\n",
       "       [ 0,  1,  0,  0],\n",
       "       [ 0,  0,  1,  0],\n",
       "       [ 0,  0,  0, -1]])"
      ]
     },
     "execution_count": 74,
     "metadata": {},
     "output_type": "execute_result"
    }
   ],
   "source": [
    "np.kron(proj(qubit0, qubit0), proj(qubit0, qubit0)) + np.kron(proj(qubit0, qubit0), proj(qubit1, qubit1)) + np.kron(proj(qubit1, qubit1), proj(qubit0, qubit0)) - np.kron(proj(qubit1, qubit1), proj(qubit1, qubit1))"
   ]
  },
  {
   "cell_type": "code",
   "execution_count": 75,
   "id": "55eb637248133c64",
   "metadata": {
    "ExecuteTime": {
     "end_time": "2025-07-22T08:01:40.680993Z",
     "start_time": "2025-07-22T08:01:40.671643Z"
    }
   },
   "outputs": [],
   "source": [
    "qutryt0 = np.kron(qubit0, qubit0)\n",
    "qutryt1 = np.kron(qubit0, qubit1)\n",
    "qutryt2 = np.kron(qubit1, qubit0)\n",
    "qutryt3 = np.kron(qubit1, qubit1)\n",
    "\n",
    "q0 = qutryt0\n",
    "q1 = qutryt1\n",
    "q2 = qutryt2\n",
    "q3 = qutryt3"
   ]
  },
  {
   "cell_type": "code",
   "execution_count": 76,
   "id": "e9aa13be6c6d4dfe",
   "metadata": {
    "ExecuteTime": {
     "end_time": "2025-07-22T08:01:57.289555Z",
     "start_time": "2025-07-22T08:01:57.280368Z"
    }
   },
   "outputs": [],
   "source": [
    "a0 = np.kron(proj(q0, q0), proj(q0, q0)) + np.kron(proj(q0, q0), proj(q1, q1)) + np.kron(proj(q0, q0), proj(q2, q2)) + np.kron(proj(q0, q0), proj(q3, q3))"
   ]
  },
  {
   "cell_type": "code",
   "execution_count": 77,
   "id": "ec85bbc27f2890f0",
   "metadata": {
    "ExecuteTime": {
     "end_time": "2025-07-22T08:01:58.962063Z",
     "start_time": "2025-07-22T08:01:58.948200Z"
    }
   },
   "outputs": [
    {
     "data": {
      "text/plain": [
       "np.complex128(6.123233995736766e-17+1j)"
      ]
     },
     "execution_count": 77,
     "metadata": {},
     "output_type": "execute_result"
    }
   ],
   "source": [
    "omega"
   ]
  },
  {
   "cell_type": "code",
   "execution_count": 78,
   "id": "f41e83ac27521d80",
   "metadata": {
    "ExecuteTime": {
     "end_time": "2025-07-22T08:01:59.349993Z",
     "start_time": "2025-07-22T08:01:59.340424Z"
    }
   },
   "outputs": [],
   "source": [
    "a1 = np.kron(proj(q1, q1), proj(q0, q0)) + omega * np.kron(proj(q1, q1), proj(q1, q1)) + pow(omega, 2) * np.kron(proj(q1, q1), proj(q2, q2)) + pow(omega, 3) * np.kron(proj(q1, q1), proj(q3, q3))"
   ]
  },
  {
   "cell_type": "code",
   "execution_count": 79,
   "id": "7fbca90c882370da",
   "metadata": {
    "ExecuteTime": {
     "end_time": "2025-07-22T08:01:59.754933Z",
     "start_time": "2025-07-22T08:01:59.746109Z"
    }
   },
   "outputs": [],
   "source": [
    "a2 = np.kron(proj(q2, q2), proj(q0, q0)) + pow(omega, 2) * np.kron(proj(q2, q2), proj(q1, q1)) + pow(omega, 4) * np.kron(proj(q2, q2), proj(q2, q2)) + pow(omega, 6) * np.kron(proj(q2, q2), proj(q3, q3))"
   ]
  },
  {
   "cell_type": "code",
   "execution_count": 80,
   "id": "ee0c449c54b1112",
   "metadata": {
    "ExecuteTime": {
     "end_time": "2025-07-22T08:02:00.464533Z",
     "start_time": "2025-07-22T08:02:00.453819Z"
    }
   },
   "outputs": [],
   "source": [
    "a3 = np.kron(proj(q3, q3), proj(q0, q0)) + pow(omega, 3) * np.kron(proj(q3, q3), proj(q1, q1)) + pow(omega, 6) * np.kron(proj(q3, q3), proj(q2, q2)) + pow(omega, 9) * np.kron(proj(q3, q3), proj(q3, q3))"
   ]
  },
  {
   "cell_type": "code",
   "execution_count": 81,
   "id": "42b17e6550cbf2a6",
   "metadata": {
    "ExecuteTime": {
     "end_time": "2025-07-22T08:02:01.452921Z",
     "start_time": "2025-07-22T08:02:01.440698Z"
    }
   },
   "outputs": [],
   "source": [
    "a = a1 + a2 + a3"
   ]
  },
  {
   "cell_type": "code",
   "execution_count": 82,
   "id": "53254fb18edd1ca8",
   "metadata": {
    "ExecuteTime": {
     "end_time": "2025-07-22T08:02:07.019013Z",
     "start_time": "2025-07-22T08:02:07.006771Z"
    }
   },
   "outputs": [
    {
     "data": {
      "text/plain": [
       "array([[ 0.+0.j,  0.+0.j,  0.+0.j,  0.+0.j,  0.+0.j,  0.+0.j,  0.+0.j,\n",
       "         0.+0.j,  0.+0.j,  0.+0.j,  0.+0.j,  0.+0.j,  0.+0.j,  0.+0.j,\n",
       "         0.+0.j,  0.+0.j],\n",
       "       [ 0.+0.j,  0.+0.j,  0.+0.j,  0.+0.j,  0.+0.j,  0.+0.j,  0.+0.j,\n",
       "         0.+0.j,  0.+0.j,  0.+0.j,  0.+0.j,  0.+0.j,  0.+0.j,  0.+0.j,\n",
       "         0.+0.j,  0.+0.j],\n",
       "       [ 0.+0.j,  0.+0.j,  0.+0.j,  0.+0.j,  0.+0.j,  0.+0.j,  0.+0.j,\n",
       "         0.+0.j,  0.+0.j,  0.+0.j,  0.+0.j,  0.+0.j,  0.+0.j,  0.+0.j,\n",
       "         0.+0.j,  0.+0.j],\n",
       "       [ 0.+0.j,  0.+0.j,  0.+0.j,  0.+0.j,  0.+0.j,  0.+0.j,  0.+0.j,\n",
       "         0.+0.j,  0.+0.j,  0.+0.j,  0.+0.j,  0.+0.j,  0.+0.j,  0.+0.j,\n",
       "         0.+0.j,  0.+0.j],\n",
       "       [ 0.+0.j,  0.+0.j,  0.+0.j,  0.+0.j,  1.+0.j,  0.+0.j,  0.+0.j,\n",
       "         0.+0.j,  0.+0.j,  0.+0.j,  0.+0.j,  0.+0.j,  0.+0.j,  0.+0.j,\n",
       "         0.+0.j,  0.+0.j],\n",
       "       [ 0.+0.j,  0.+0.j,  0.+0.j,  0.+0.j,  0.+0.j,  0.+1.j,  0.+0.j,\n",
       "         0.+0.j,  0.+0.j,  0.+0.j,  0.+0.j,  0.+0.j,  0.+0.j,  0.+0.j,\n",
       "         0.+0.j,  0.+0.j],\n",
       "       [ 0.+0.j,  0.+0.j,  0.+0.j,  0.+0.j,  0.+0.j,  0.+0.j, -1.+0.j,\n",
       "         0.+0.j,  0.+0.j,  0.+0.j,  0.+0.j,  0.+0.j,  0.+0.j,  0.+0.j,\n",
       "         0.+0.j,  0.+0.j],\n",
       "       [ 0.+0.j,  0.+0.j,  0.+0.j,  0.+0.j,  0.+0.j,  0.+0.j,  0.+0.j,\n",
       "        -0.-1.j,  0.+0.j,  0.+0.j,  0.+0.j,  0.+0.j,  0.+0.j,  0.+0.j,\n",
       "         0.+0.j,  0.+0.j],\n",
       "       [ 0.+0.j,  0.+0.j,  0.+0.j,  0.+0.j,  0.+0.j,  0.+0.j,  0.+0.j,\n",
       "         0.+0.j,  1.+0.j,  0.+0.j,  0.+0.j,  0.+0.j,  0.+0.j,  0.+0.j,\n",
       "         0.+0.j,  0.+0.j],\n",
       "       [ 0.+0.j,  0.+0.j,  0.+0.j,  0.+0.j,  0.+0.j,  0.+0.j,  0.+0.j,\n",
       "         0.+0.j,  0.+0.j, -1.+0.j,  0.+0.j,  0.+0.j,  0.+0.j,  0.+0.j,\n",
       "         0.+0.j,  0.+0.j],\n",
       "       [ 0.+0.j,  0.+0.j,  0.+0.j,  0.+0.j,  0.+0.j,  0.+0.j,  0.+0.j,\n",
       "         0.+0.j,  0.+0.j,  0.+0.j,  1.-0.j,  0.+0.j,  0.+0.j,  0.+0.j,\n",
       "         0.+0.j,  0.+0.j],\n",
       "       [ 0.+0.j,  0.+0.j,  0.+0.j,  0.+0.j,  0.+0.j,  0.+0.j,  0.+0.j,\n",
       "         0.+0.j,  0.+0.j,  0.+0.j,  0.+0.j, -1.+0.j,  0.+0.j,  0.+0.j,\n",
       "         0.+0.j,  0.+0.j],\n",
       "       [ 0.+0.j,  0.+0.j,  0.+0.j,  0.+0.j,  0.+0.j,  0.+0.j,  0.+0.j,\n",
       "         0.+0.j,  0.+0.j,  0.+0.j,  0.+0.j,  0.+0.j,  1.+0.j,  0.+0.j,\n",
       "         0.+0.j,  0.+0.j],\n",
       "       [ 0.+0.j,  0.+0.j,  0.+0.j,  0.+0.j,  0.+0.j,  0.+0.j,  0.+0.j,\n",
       "         0.+0.j,  0.+0.j,  0.+0.j,  0.+0.j,  0.+0.j,  0.+0.j, -0.-1.j,\n",
       "         0.+0.j,  0.+0.j],\n",
       "       [ 0.+0.j,  0.+0.j,  0.+0.j,  0.+0.j,  0.+0.j,  0.+0.j,  0.+0.j,\n",
       "         0.+0.j,  0.+0.j,  0.+0.j,  0.+0.j,  0.+0.j,  0.+0.j,  0.+0.j,\n",
       "        -1.+0.j,  0.+0.j],\n",
       "       [ 0.+0.j,  0.+0.j,  0.+0.j,  0.+0.j,  0.+0.j,  0.+0.j,  0.+0.j,\n",
       "         0.+0.j,  0.+0.j,  0.+0.j,  0.+0.j,  0.+0.j,  0.+0.j,  0.+0.j,\n",
       "         0.+0.j,  0.+1.j]])"
      ]
     },
     "execution_count": 82,
     "metadata": {},
     "output_type": "execute_result"
    }
   ],
   "source": [
    "a.round(3)"
   ]
  },
  {
   "cell_type": "code",
   "execution_count": 83,
   "id": "9db98b00c2cc9d42",
   "metadata": {
    "ExecuteTime": {
     "end_time": "2025-07-22T07:55:04.519112Z",
     "start_time": "2025-07-22T07:55:04.511151Z"
    }
   },
   "outputs": [],
   "source": [
    "b0 = np.kron(proj(qutryt0, qutryt0), proj(qutryt0, qutryt0)) + np.kron(proj(qutryt0, qutryt0), proj(qutryt1, qutryt1)) + np.kron(proj(qutryt0, qutryt0), proj(qutryt2, qutryt2))"
   ]
  },
  {
   "cell_type": "code",
   "execution_count": 84,
   "id": "df75882e42b69433",
   "metadata": {
    "ExecuteTime": {
     "end_time": "2025-07-22T07:55:59.577186Z",
     "start_time": "2025-07-22T07:55:59.568292Z"
    }
   },
   "outputs": [],
   "source": [
    "b1 = np.kron(proj(qutryt1, qutryt1), proj(qutryt0, qutryt0)) + pow(omega3, 1) * np.kron(proj(qutryt1, qutryt1), proj(qutryt1, qutryt1)) + pow(omega3, 2) * np.kron(proj(qutryt1, qutryt1), proj(qutryt2, qutryt2))"
   ]
  },
  {
   "cell_type": "code",
   "execution_count": 85,
   "id": "540449807b3893e4",
   "metadata": {
    "ExecuteTime": {
     "end_time": "2025-07-22T07:56:50.643986Z",
     "start_time": "2025-07-22T07:56:50.634980Z"
    }
   },
   "outputs": [],
   "source": [
    "b2 = np.kron(proj(qutryt2, qutryt2), proj(qutryt0, qutryt0)) + pow(omega, 2) * np.kron(proj(qutryt2, qutryt2), proj(qutryt1, qutryt1)) + pow(omega, 4) * np.kron(proj(qutryt2, qutryt2), proj(qutryt2, qutryt2))"
   ]
  },
  {
   "cell_type": "code",
   "execution_count": 86,
   "id": "816b1dde4c68e804",
   "metadata": {
    "ExecuteTime": {
     "end_time": "2025-07-22T07:56:59.791172Z",
     "start_time": "2025-07-22T07:56:59.785110Z"
    }
   },
   "outputs": [],
   "source": [
    "b = b0 + b1 + b2"
   ]
  },
  {
   "cell_type": "code",
   "execution_count": 87,
   "id": "d08e71cd9b0a4a3b",
   "metadata": {
    "ExecuteTime": {
     "end_time": "2025-07-22T07:57:05.039345Z",
     "start_time": "2025-07-22T07:57:05.013125Z"
    }
   },
   "outputs": [
    {
     "data": {
      "text/plain": [
       "array([[ 1. +0.j   ,  0. +0.j   ,  0. +0.j   ,  0. +0.j   ,  0. +0.j   ,\n",
       "         0. +0.j   ,  0. +0.j   ,  0. +0.j   ,  0. +0.j   ,  0. +0.j   ,\n",
       "         0. +0.j   ,  0. +0.j   ,  0. +0.j   ,  0. +0.j   ,  0. +0.j   ,\n",
       "         0. +0.j   ],\n",
       "       [ 0. +0.j   ,  1. +0.j   ,  0. +0.j   ,  0. +0.j   ,  0. +0.j   ,\n",
       "         0. +0.j   ,  0. +0.j   ,  0. +0.j   ,  0. +0.j   ,  0. +0.j   ,\n",
       "         0. +0.j   ,  0. +0.j   ,  0. +0.j   ,  0. +0.j   ,  0. +0.j   ,\n",
       "         0. +0.j   ],\n",
       "       [ 0. +0.j   ,  0. +0.j   ,  1. +0.j   ,  0. +0.j   ,  0. +0.j   ,\n",
       "         0. +0.j   ,  0. +0.j   ,  0. +0.j   ,  0. +0.j   ,  0. +0.j   ,\n",
       "         0. +0.j   ,  0. +0.j   ,  0. +0.j   ,  0. +0.j   ,  0. +0.j   ,\n",
       "         0. +0.j   ],\n",
       "       [ 0. +0.j   ,  0. +0.j   ,  0. +0.j   ,  0. +0.j   ,  0. +0.j   ,\n",
       "         0. +0.j   ,  0. +0.j   ,  0. +0.j   ,  0. +0.j   ,  0. +0.j   ,\n",
       "         0. +0.j   ,  0. +0.j   ,  0. +0.j   ,  0. +0.j   ,  0. +0.j   ,\n",
       "         0. +0.j   ],\n",
       "       [ 0. +0.j   ,  0. +0.j   ,  0. +0.j   ,  0. +0.j   ,  1. +0.j   ,\n",
       "         0. +0.j   ,  0. +0.j   ,  0. +0.j   ,  0. +0.j   ,  0. +0.j   ,\n",
       "         0. +0.j   ,  0. +0.j   ,  0. +0.j   ,  0. +0.j   ,  0. +0.j   ,\n",
       "         0. +0.j   ],\n",
       "       [ 0. +0.j   ,  0. +0.j   ,  0. +0.j   ,  0. +0.j   ,  0. +0.j   ,\n",
       "        -0.5+0.866j,  0. +0.j   ,  0. +0.j   ,  0. +0.j   ,  0. +0.j   ,\n",
       "         0. +0.j   ,  0. +0.j   ,  0. +0.j   ,  0. +0.j   ,  0. +0.j   ,\n",
       "         0. +0.j   ],\n",
       "       [ 0. +0.j   ,  0. +0.j   ,  0. +0.j   ,  0. +0.j   ,  0. +0.j   ,\n",
       "         0. +0.j   , -0.5-0.866j,  0. +0.j   ,  0. +0.j   ,  0. +0.j   ,\n",
       "         0. +0.j   ,  0. +0.j   ,  0. +0.j   ,  0. +0.j   ,  0. +0.j   ,\n",
       "         0. +0.j   ],\n",
       "       [ 0. +0.j   ,  0. +0.j   ,  0. +0.j   ,  0. +0.j   ,  0. +0.j   ,\n",
       "         0. +0.j   ,  0. +0.j   ,  0. +0.j   ,  0. +0.j   ,  0. +0.j   ,\n",
       "         0. +0.j   ,  0. +0.j   ,  0. +0.j   ,  0. +0.j   ,  0. +0.j   ,\n",
       "         0. +0.j   ],\n",
       "       [ 0. +0.j   ,  0. +0.j   ,  0. +0.j   ,  0. +0.j   ,  0. +0.j   ,\n",
       "         0. +0.j   ,  0. +0.j   ,  0. +0.j   ,  1. +0.j   ,  0. +0.j   ,\n",
       "         0. +0.j   ,  0. +0.j   ,  0. +0.j   ,  0. +0.j   ,  0. +0.j   ,\n",
       "         0. +0.j   ],\n",
       "       [ 0. +0.j   ,  0. +0.j   ,  0. +0.j   ,  0. +0.j   ,  0. +0.j   ,\n",
       "         0. +0.j   ,  0. +0.j   ,  0. +0.j   ,  0. +0.j   , -1. +0.j   ,\n",
       "         0. +0.j   ,  0. +0.j   ,  0. +0.j   ,  0. +0.j   ,  0. +0.j   ,\n",
       "         0. +0.j   ],\n",
       "       [ 0. +0.j   ,  0. +0.j   ,  0. +0.j   ,  0. +0.j   ,  0. +0.j   ,\n",
       "         0. +0.j   ,  0. +0.j   ,  0. +0.j   ,  0. +0.j   ,  0. +0.j   ,\n",
       "         1. -0.j   ,  0. +0.j   ,  0. +0.j   ,  0. +0.j   ,  0. +0.j   ,\n",
       "         0. +0.j   ],\n",
       "       [ 0. +0.j   ,  0. +0.j   ,  0. +0.j   ,  0. +0.j   ,  0. +0.j   ,\n",
       "         0. +0.j   ,  0. +0.j   ,  0. +0.j   ,  0. +0.j   ,  0. +0.j   ,\n",
       "         0. +0.j   ,  0. +0.j   ,  0. +0.j   ,  0. +0.j   ,  0. +0.j   ,\n",
       "         0. +0.j   ],\n",
       "       [ 0. +0.j   ,  0. +0.j   ,  0. +0.j   ,  0. +0.j   ,  0. +0.j   ,\n",
       "         0. +0.j   ,  0. +0.j   ,  0. +0.j   ,  0. +0.j   ,  0. +0.j   ,\n",
       "         0. +0.j   ,  0. +0.j   ,  0. +0.j   ,  0. +0.j   ,  0. +0.j   ,\n",
       "         0. +0.j   ],\n",
       "       [ 0. +0.j   ,  0. +0.j   ,  0. +0.j   ,  0. +0.j   ,  0. +0.j   ,\n",
       "         0. +0.j   ,  0. +0.j   ,  0. +0.j   ,  0. +0.j   ,  0. +0.j   ,\n",
       "         0. +0.j   ,  0. +0.j   ,  0. +0.j   ,  0. +0.j   ,  0. +0.j   ,\n",
       "         0. +0.j   ],\n",
       "       [ 0. +0.j   ,  0. +0.j   ,  0. +0.j   ,  0. +0.j   ,  0. +0.j   ,\n",
       "         0. +0.j   ,  0. +0.j   ,  0. +0.j   ,  0. +0.j   ,  0. +0.j   ,\n",
       "         0. +0.j   ,  0. +0.j   ,  0. +0.j   ,  0. +0.j   ,  0. +0.j   ,\n",
       "         0. +0.j   ],\n",
       "       [ 0. +0.j   ,  0. +0.j   ,  0. +0.j   ,  0. +0.j   ,  0. +0.j   ,\n",
       "         0. +0.j   ,  0. +0.j   ,  0. +0.j   ,  0. +0.j   ,  0. +0.j   ,\n",
       "         0. +0.j   ,  0. +0.j   ,  0. +0.j   ,  0. +0.j   ,  0. +0.j   ,\n",
       "         0. +0.j   ]])"
      ]
     },
     "execution_count": 87,
     "metadata": {},
     "output_type": "execute_result"
    }
   ],
   "source": [
    "b.round(3)"
   ]
  },
  {
   "cell_type": "code",
   "execution_count": 88,
   "id": "30c2fc53abee95d1",
   "metadata": {
    "ExecuteTime": {
     "end_time": "2025-07-22T07:57:55.738661Z",
     "start_time": "2025-07-22T07:57:55.726972Z"
    }
   },
   "outputs": [
    {
     "data": {
      "text/plain": [
       "array([[ 1. +0.j   ,  0. +0.j   ,  0. +0.j   ,  0. +0.j   ,  0. +0.j   ,\n",
       "         0. +0.j   ,  0. +0.j   ,  0. +0.j   ,  0. +0.j   ,  0. +0.j   ,\n",
       "         0. +0.j   ,  0. +0.j   ,  0. +0.j   ,  0. +0.j   ,  0. +0.j   ,\n",
       "         0. +0.j   ],\n",
       "       [ 0. +0.j   ,  1. +0.j   ,  0. +0.j   ,  0. +0.j   ,  0. +0.j   ,\n",
       "         0. +0.j   ,  0. +0.j   ,  0. +0.j   ,  0. +0.j   ,  0. +0.j   ,\n",
       "         0. +0.j   ,  0. +0.j   ,  0. +0.j   ,  0. +0.j   ,  0. +0.j   ,\n",
       "         0. +0.j   ],\n",
       "       [ 0. +0.j   ,  0. +0.j   ,  1. +0.j   ,  0. +0.j   ,  0. +0.j   ,\n",
       "         0. +0.j   ,  0. +0.j   ,  0. +0.j   ,  0. +0.j   ,  0. +0.j   ,\n",
       "         0. +0.j   ,  0. +0.j   ,  0. +0.j   ,  0. +0.j   ,  0. +0.j   ,\n",
       "         0. +0.j   ],\n",
       "       [ 0. +0.j   ,  0. +0.j   ,  0. +0.j   ,  1. +0.j   ,  0. +0.j   ,\n",
       "         0. +0.j   ,  0. +0.j   ,  0. +0.j   ,  0. +0.j   ,  0. +0.j   ,\n",
       "         0. +0.j   ,  0. +0.j   ,  0. +0.j   ,  0. +0.j   ,  0. +0.j   ,\n",
       "         0. +0.j   ],\n",
       "       [ 0. +0.j   ,  0. +0.j   ,  0. +0.j   ,  0. +0.j   ,  1. +0.j   ,\n",
       "         0. +0.j   ,  0. +0.j   ,  0. +0.j   ,  0. +0.j   ,  0. +0.j   ,\n",
       "         0. +0.j   ,  0. +0.j   ,  0. +0.j   ,  0. +0.j   ,  0. +0.j   ,\n",
       "         0. +0.j   ],\n",
       "       [ 0. +0.j   ,  0. +0.j   ,  0. +0.j   ,  0. +0.j   ,  0. +0.j   ,\n",
       "        -0.5+0.866j,  0. +0.j   ,  0. +0.j   ,  0. +0.j   ,  0. +0.j   ,\n",
       "         0. +0.j   ,  0. +0.j   ,  0. +0.j   ,  0. +0.j   ,  0. +0.j   ,\n",
       "         0. +0.j   ],\n",
       "       [ 0. +0.j   ,  0. +0.j   ,  0. +0.j   ,  0. +0.j   ,  0. +0.j   ,\n",
       "         0. +0.j   , -0.5-0.866j,  0. +0.j   ,  0. +0.j   ,  0. +0.j   ,\n",
       "         0. +0.j   ,  0. +0.j   ,  0. +0.j   ,  0. +0.j   ,  0. +0.j   ,\n",
       "         0. +0.j   ],\n",
       "       [ 0. +0.j   ,  0. +0.j   ,  0. +0.j   ,  0. +0.j   ,  0. +0.j   ,\n",
       "         0. +0.j   ,  0. +0.j   ,  1. +0.j   ,  0. +0.j   ,  0. +0.j   ,\n",
       "         0. +0.j   ,  0. +0.j   ,  0. +0.j   ,  0. +0.j   ,  0. +0.j   ,\n",
       "         0. +0.j   ],\n",
       "       [ 0. +0.j   ,  0. +0.j   ,  0. +0.j   ,  0. +0.j   ,  0. +0.j   ,\n",
       "         0. +0.j   ,  0. +0.j   ,  0. +0.j   ,  1. +0.j   ,  0. +0.j   ,\n",
       "         0. +0.j   ,  0. +0.j   ,  0. +0.j   ,  0. +0.j   ,  0. +0.j   ,\n",
       "         0. +0.j   ],\n",
       "       [ 0. +0.j   ,  0. +0.j   ,  0. +0.j   ,  0. +0.j   ,  0. +0.j   ,\n",
       "         0. +0.j   ,  0. +0.j   ,  0. +0.j   ,  0. +0.j   , -0.5-0.866j,\n",
       "         0. +0.j   ,  0. +0.j   ,  0. +0.j   ,  0. +0.j   ,  0. +0.j   ,\n",
       "         0. +0.j   ],\n",
       "       [ 0. +0.j   ,  0. +0.j   ,  0. +0.j   ,  0. +0.j   ,  0. +0.j   ,\n",
       "         0. +0.j   ,  0. +0.j   ,  0. +0.j   ,  0. +0.j   ,  0. +0.j   ,\n",
       "        -0.5+0.866j,  0. +0.j   ,  0. +0.j   ,  0. +0.j   ,  0. +0.j   ,\n",
       "         0. +0.j   ],\n",
       "       [ 0. +0.j   ,  0. +0.j   ,  0. +0.j   ,  0. +0.j   ,  0. +0.j   ,\n",
       "         0. +0.j   ,  0. +0.j   ,  0. +0.j   ,  0. +0.j   ,  0. +0.j   ,\n",
       "         0. +0.j   ,  1. +0.j   ,  0. +0.j   ,  0. +0.j   ,  0. +0.j   ,\n",
       "         0. +0.j   ],\n",
       "       [ 0. +0.j   ,  0. +0.j   ,  0. +0.j   ,  0. +0.j   ,  0. +0.j   ,\n",
       "         0. +0.j   ,  0. +0.j   ,  0. +0.j   ,  0. +0.j   ,  0. +0.j   ,\n",
       "         0. +0.j   ,  0. +0.j   ,  1. +0.j   ,  0. +0.j   ,  0. +0.j   ,\n",
       "         0. +0.j   ],\n",
       "       [ 0. +0.j   ,  0. +0.j   ,  0. +0.j   ,  0. +0.j   ,  0. +0.j   ,\n",
       "         0. +0.j   ,  0. +0.j   ,  0. +0.j   ,  0. +0.j   ,  0. +0.j   ,\n",
       "         0. +0.j   ,  0. +0.j   ,  0. +0.j   ,  1. +0.j   ,  0. +0.j   ,\n",
       "         0. +0.j   ],\n",
       "       [ 0. +0.j   ,  0. +0.j   ,  0. +0.j   ,  0. +0.j   ,  0. +0.j   ,\n",
       "         0. +0.j   ,  0. +0.j   ,  0. +0.j   ,  0. +0.j   ,  0. +0.j   ,\n",
       "         0. +0.j   ,  0. +0.j   ,  0. +0.j   ,  0. +0.j   ,  1. +0.j   ,\n",
       "         0. +0.j   ],\n",
       "       [ 0. +0.j   ,  0. +0.j   ,  0. +0.j   ,  0. +0.j   ,  0. +0.j   ,\n",
       "         0. +0.j   ,  0. +0.j   ,  0. +0.j   ,  0. +0.j   ,  0. +0.j   ,\n",
       "         0. +0.j   ,  0. +0.j   ,  0. +0.j   ,  0. +0.j   ,  0. +0.j   ,\n",
       "         1. +0.j   ]])"
      ]
     },
     "execution_count": 88,
     "metadata": {},
     "output_type": "execute_result"
    }
   ],
   "source": [
    "Operator(CZ).to_matrix().round(3)"
   ]
  },
  {
   "cell_type": "code",
   "execution_count": null,
   "id": "a724a542c1294c1b",
   "metadata": {},
   "outputs": [],
   "source": []
  }
 ],
 "metadata": {
  "kernelspec": {
   "display_name": "Python 3 [qudity]",
   "language": "python",
   "name": "python3_qudity_v920tu"
  },
  "language_info": {
   "codemirror_mode": {
    "name": "ipython",
    "version": 3
   },
   "file_extension": ".py",
   "mimetype": "text/x-python",
   "name": "python",
   "nbconvert_exporter": "python",
   "pygments_lexer": "ipython3",
   "version": "3.11.9"
  }
 },
 "nbformat": 4,
 "nbformat_minor": 5
}
