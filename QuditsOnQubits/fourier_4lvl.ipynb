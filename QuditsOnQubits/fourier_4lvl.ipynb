{
 "cells": [
  {
   "cell_type": "code",
   "id": "initial_id",
   "metadata": {
    "collapsed": true,
    "ExecuteTime": {
     "end_time": "2025-07-22T08:08:00.754479Z",
     "start_time": "2025-07-22T08:07:55.664349Z"
    }
   },
   "source": [
    "from qiskit import qpy\n",
    "from qiskit.circuit import QuantumCircuit\n",
    "from qiskit.quantum_info import Statevector, Operator\n",
    "import numpy as np\n",
    "import matplotlib.pyplot as plt"
   ],
   "outputs": [],
   "execution_count": 2
  },
  {
   "metadata": {
    "ExecuteTime": {
     "end_time": "2025-07-22T08:08:06.330064Z",
     "start_time": "2025-07-22T08:08:06.316187Z"
    }
   },
   "cell_type": "code",
   "source": "from qiskit.synthesis import TwoQubitWeylDecomposition\n",
   "id": "61017f0bac8797d3",
   "outputs": [],
   "execution_count": 3
  },
  {
   "metadata": {},
   "cell_type": "markdown",
   "source": [
    "$ |0 \\rangle = | 00 \\rangle$\n",
    "\n",
    "$ |1 \\rangle = | 01 \\rangle$\n",
    "\n",
    "$ |2 \\rangle = | 10 \\rangle$\n",
    "\n",
    "$ |3 \\rangle = | 11 \\rangle$\n"
   ],
   "id": "31858da9c577fb1c"
  },
  {
   "metadata": {
    "ExecuteTime": {
     "end_time": "2025-07-22T08:08:08.936150Z",
     "start_time": "2025-07-22T08:08:08.929016Z"
    }
   },
   "cell_type": "code",
   "source": "omega = np.exp(2j*np.pi/4)",
   "id": "2c1c4af013c5006a",
   "outputs": [],
   "execution_count": 4
  },
  {
   "metadata": {
    "ExecuteTime": {
     "end_time": "2025-07-22T08:09:44.117669Z",
     "start_time": "2025-07-22T08:09:44.108410Z"
    }
   },
   "cell_type": "code",
   "source": [
    "qubit0 = np.array([[1], [0]])\n",
    "qubit1 = np.array([[0], [1]])\n",
    "\n",
    "q0 = np.kron(qubit0, qubit0)\n",
    "q1 = np.kron(qubit0, qubit1)\n",
    "q2 = np.kron(qubit1, qubit0)\n",
    "q3 = np.kron(qubit1, qubit1)"
   ],
   "id": "28ba8d0775353490",
   "outputs": [],
   "execution_count": 19
  },
  {
   "metadata": {
    "ExecuteTime": {
     "end_time": "2025-07-22T08:08:43.219870Z",
     "start_time": "2025-07-22T08:08:43.209141Z"
    }
   },
   "cell_type": "code",
   "source": [
    "def proj(a, b):\n",
    "    return a @ b.transpose()"
   ],
   "id": "fd183f91c2d5286f",
   "outputs": [],
   "execution_count": 6
  },
  {
   "metadata": {
    "ExecuteTime": {
     "end_time": "2025-07-22T08:08:43.597541Z",
     "start_time": "2025-07-22T08:08:43.584572Z"
    }
   },
   "cell_type": "code",
   "source": "Fmtx = 1/np.sqrt(4) * (proj(q0, q0) + proj(q0, q1) + proj(q0, q2) + proj(q0, q3) + proj(q1, q0) + omega * proj(q1, q1) + pow(omega, 2) * proj(q1, q2) + pow(omega, 3) * proj(q1, q3) + proj(q2, q0) + pow(omega, 2) * proj(q2, q1) + pow(omega, 4) * proj(q2, q2) + pow(omega, 6) * proj(q2, q3) + proj(q3, q0) + pow(omega, 3) * proj(q3, q1) + pow(omega, 6) * proj(q3, q2) + pow(omega, 9) * proj(q3, q3)).round(3)",
   "id": "918951c79da24721",
   "outputs": [],
   "execution_count": 7
  },
  {
   "metadata": {
    "ExecuteTime": {
     "end_time": "2025-07-22T08:08:44.443623Z",
     "start_time": "2025-07-22T08:08:44.429373Z"
    }
   },
   "cell_type": "code",
   "source": "Fmtx",
   "id": "e2c88ceb0fd8d687",
   "outputs": [
    {
     "data": {
      "text/plain": [
       "array([[ 0.5+0.j ,  0.5+0.j ,  0.5+0.j ,  0.5+0.j ],\n",
       "       [ 0.5+0.j ,  0. +0.5j, -0.5+0.j ,  0. -0.5j],\n",
       "       [ 0.5+0.j , -0.5+0.j ,  0.5+0.j , -0.5+0.j ],\n",
       "       [ 0.5+0.j ,  0. -0.5j, -0.5+0.j ,  0. +0.5j]])"
      ]
     },
     "execution_count": 8,
     "metadata": {},
     "output_type": "execute_result"
    }
   ],
   "execution_count": 8
  },
  {
   "metadata": {
    "ExecuteTime": {
     "end_time": "2025-07-22T08:08:55.611139Z",
     "start_time": "2025-07-22T08:08:55.599341Z"
    }
   },
   "cell_type": "code",
   "source": "Fgate_4 = TwoQubitWeylDecomposition(Fmtx).circuit()",
   "id": "b5e2b02b1c0ca879",
   "outputs": [],
   "execution_count": 10
  },
  {
   "metadata": {
    "ExecuteTime": {
     "end_time": "2025-07-22T08:08:56.072650Z",
     "start_time": "2025-07-22T08:08:56.059693Z"
    }
   },
   "cell_type": "code",
   "source": "Fgate_4.name = \"Fgate_4\"",
   "id": "dcac4dcbe2d1df70",
   "outputs": [],
   "execution_count": 11
  },
  {
   "metadata": {
    "ExecuteTime": {
     "end_time": "2025-07-22T08:09:09.769047Z",
     "start_time": "2025-07-22T08:09:00.695278Z"
    }
   },
   "cell_type": "code",
   "source": "Operator(Fgate_4).draw('latex')",
   "id": "b84f967b48d55106",
   "outputs": [
    {
     "data": {
      "text/plain": [
       "<IPython.core.display.Latex object>"
      ],
      "text/latex": "$$\n\n\\begin{bmatrix}\n- \\frac{1}{2} & - \\frac{1}{2} & - \\frac{1}{2} & - \\frac{1}{2}  \\\\\n - \\frac{1}{2} & - \\frac{i}{2} & \\frac{1}{2} & \\frac{i}{2}  \\\\\n - \\frac{1}{2} & \\frac{1}{2} & - \\frac{1}{2} & \\frac{1}{2}  \\\\\n - \\frac{1}{2} & \\frac{i}{2} & \\frac{1}{2} & - \\frac{i}{2}  \\\\\n \\end{bmatrix}\n$$"
     },
     "execution_count": 12,
     "metadata": {},
     "output_type": "execute_result"
    }
   ],
   "execution_count": 12
  },
  {
   "metadata": {
    "ExecuteTime": {
     "end_time": "2025-07-22T08:09:16.404280Z",
     "start_time": "2025-07-22T08:09:12.843105Z"
    }
   },
   "cell_type": "code",
   "source": "Fgate_4.draw('mpl')",
   "id": "b3ef6c5d8525c518",
   "outputs": [
    {
     "data": {
      "text/plain": [
       "<Figure size 872.572x200.667 with 1 Axes>"
      ],
      "image/png": "[encoded data removed]"
     },
     "execution_count": 13,
     "metadata": {},
     "output_type": "execute_result"
    }
   ],
   "execution_count": 13
  },
  {
   "metadata": {
    "ExecuteTime": {
     "end_time": "2025-07-22T08:09:19.077209Z",
     "start_time": "2025-07-22T08:09:19.055698Z"
    }
   },
   "cell_type": "code",
   "source": "Statevector(Fgate_4).draw('latex')",
   "id": "c69badbb20bdc8fb",
   "outputs": [
    {
     "data": {
      "text/plain": [
       "<IPython.core.display.Latex object>"
      ],
      "text/latex": "$$- \\frac{1}{2} |00\\rangle- \\frac{1}{2} |01\\rangle- \\frac{1}{2} |10\\rangle- \\frac{1}{2} |11\\rangle$$"
     },
     "execution_count": 14,
     "metadata": {},
     "output_type": "execute_result"
    }
   ],
   "execution_count": 14
  },
  {
   "metadata": {
    "ExecuteTime": {
     "end_time": "2025-07-22T08:09:21.716666Z",
     "start_time": "2025-07-22T08:09:21.671569Z"
    }
   },
   "cell_type": "code",
   "source": "Operator(Fgate_4).draw('latex')",
   "id": "b0601b923b75576a",
   "outputs": [
    {
     "data": {
      "text/plain": [
       "<IPython.core.display.Latex object>"
      ],
      "text/latex": "$$\n\n\\begin{bmatrix}\n- \\frac{1}{2} & - \\frac{1}{2} & - \\frac{1}{2} & - \\frac{1}{2}  \\\\\n - \\frac{1}{2} & - \\frac{i}{2} & \\frac{1}{2} & \\frac{i}{2}  \\\\\n - \\frac{1}{2} & \\frac{1}{2} & - \\frac{1}{2} & \\frac{1}{2}  \\\\\n - \\frac{1}{2} & \\frac{i}{2} & \\frac{1}{2} & - \\frac{i}{2}  \\\\\n \\end{bmatrix}\n$$"
     },
     "execution_count": 15,
     "metadata": {},
     "output_type": "execute_result"
    }
   ],
   "execution_count": 15
  },
  {
   "metadata": {
    "ExecuteTime": {
     "end_time": "2025-07-21T11:42:32.877889Z",
     "start_time": "2025-07-21T11:42:32.870901Z"
    }
   },
   "cell_type": "code",
   "source": "fcirctrans.name = 'F_4'",
   "id": "f801b36f676323ae",
   "outputs": [],
   "execution_count": 322
  },
  {
   "metadata": {
    "ExecuteTime": {
     "end_time": "2025-07-22T08:09:26.374548Z",
     "start_time": "2025-07-22T08:09:26.349476Z"
    }
   },
   "cell_type": "code",
   "source": [
    "with open('Xgate.qpy', 'rb') as fd:\n",
    "    Xgate = qpy.load(fd)[0]\n",
    "\n",
    "with open('Fgate.qpy', 'rb') as fd:\n",
    "    Fgate = qpy.load(fd)[0]\n",
    "\n",
    "with open('Zgate.qpy', 'rb') as fd:\n",
    "    Zgate = qpy.load(fd)[0]\n",
    "\n",
    "with open('FDAGgate.qpy', 'rb') as fd:\n",
    "    FDAGgate = qpy.load(fd)[0]"
   ],
   "id": "4b7022e658a6b11f",
   "outputs": [],
   "execution_count": 16
  },
  {
   "metadata": {
    "ExecuteTime": {
     "end_time": "2025-07-22T08:09:29.891309Z",
     "start_time": "2025-07-22T08:09:29.807304Z"
    }
   },
   "cell_type": "code",
   "source": "Operator(Fgate).draw('latex')",
   "id": "f49a51fa330f6076",
   "outputs": [
    {
     "data": {
      "text/plain": [
       "<IPython.core.display.Latex object>"
      ],
      "text/latex": "$$\n\n\\begin{bmatrix}\n\\frac{\\sqrt{3}}{3} & \\frac{\\sqrt{3}}{3} & \\frac{\\sqrt{3}}{3} & 0  \\\\\n \\frac{\\sqrt{3}}{3} & - \\frac{\\sqrt{3}}{6} + \\frac{i}{2} & - \\frac{\\sqrt{3}}{6} - \\frac{i}{2} & 0  \\\\\n \\frac{\\sqrt{3}}{3} & - \\frac{\\sqrt{3}}{6} - \\frac{i}{2} & - \\frac{\\sqrt{3}}{6} + \\frac{i}{2} & 0  \\\\\n 0 & 0 & 0 & 1  \\\\\n \\end{bmatrix}\n$$"
     },
     "execution_count": 17,
     "metadata": {},
     "output_type": "execute_result"
    }
   ],
   "execution_count": 17
  },
  {
   "metadata": {
    "ExecuteTime": {
     "end_time": "2025-07-22T08:09:53.517444Z",
     "start_time": "2025-07-22T08:09:53.503784Z"
    }
   },
   "cell_type": "code",
   "source": "q0",
   "id": "8ec95ad30c0acc2b",
   "outputs": [
    {
     "data": {
      "text/plain": [
       "array([[1],\n",
       "       [0],\n",
       "       [0],\n",
       "       [0]])"
      ]
     },
     "execution_count": 20,
     "metadata": {},
     "output_type": "execute_result"
    }
   ],
   "execution_count": 20
  },
  {
   "metadata": {
    "ExecuteTime": {
     "end_time": "2025-07-21T10:00:59.811099Z",
     "start_time": "2025-07-21T10:00:59.805237Z"
    }
   },
   "cell_type": "code",
   "source": [
    "Xgate4 = np.array([[0, 1, 0, 0], [0, 0, 1, 0], [0, 0, 0, 1], [1, 0, 0, 0]])\n",
    "Xgate4 = TwoQubitWeylDecomposition(Xgate4).circuit().inverse()"
   ],
   "id": "67d6cb5af78de90e",
   "outputs": [],
   "execution_count": 117
  },
  {
   "metadata": {
    "ExecuteTime": {
     "end_time": "2025-07-21T10:01:30.465997Z",
     "start_time": "2025-07-21T10:01:30.458377Z"
    }
   },
   "cell_type": "code",
   "source": "Xgate4.name = 'X_4'",
   "id": "1a680461f7a9c704",
   "outputs": [],
   "execution_count": 118
  },
  {
   "metadata": {
    "ExecuteTime": {
     "end_time": "2025-07-21T10:02:32.877672Z",
     "start_time": "2025-07-21T10:02:32.818717Z"
    }
   },
   "cell_type": "code",
   "source": [
    "testqc = QuantumCircuit(2)\n",
    "testqc.append(Xgate4, [0, 1])\n",
    "#testqc.append(Xgate4, [0, 1])\n",
    "#testqc.append(Xgate4, [0, 1])\n",
    "#testqc.append(Xgate4, [0, 1])\n",
    "testqc.append(Fgate_4, [0, 1])\n",
    "testqc.draw('mpl')"
   ],
   "id": "3ddc45820db30e3",
   "outputs": [
    {
     "data": {
      "text/plain": [
       "<Figure size 370.906x200.667 with 1 Axes>"
      ],
      "image/png": "[encoded data removed]"
     },
     "execution_count": 129,
     "metadata": {},
     "output_type": "execute_result"
    }
   ],
   "execution_count": 129
  },
  {
   "metadata": {
    "ExecuteTime": {
     "end_time": "2025-07-21T10:02:33.569033Z",
     "start_time": "2025-07-21T10:02:33.553116Z"
    }
   },
   "cell_type": "code",
   "source": "Statevector(testqc).draw('latex')",
   "id": "cf2602645e690b36",
   "outputs": [
    {
     "data": {
      "text/plain": [
       "<IPython.core.display.Latex object>"
      ],
      "text/latex": "$$- \\frac{1}{2} |00\\rangle+\\frac{1}{2} |01\\rangle- \\frac{1}{2} |10\\rangle+\\frac{1}{2} |11\\rangle$$"
     },
     "execution_count": 130,
     "metadata": {},
     "output_type": "execute_result"
    }
   ],
   "execution_count": 130
  },
  {
   "metadata": {
    "ExecuteTime": {
     "end_time": "2025-07-21T10:08:55.626694Z",
     "start_time": "2025-07-21T10:08:55.620062Z"
    }
   },
   "cell_type": "code",
   "source": "from IPython.display import display, Math",
   "id": "953ee5a9887928ff",
   "outputs": [],
   "execution_count": 135
  },
  {
   "metadata": {
    "ExecuteTime": {
     "end_time": "2025-07-21T10:14:12.501694Z",
     "start_time": "2025-07-21T10:14:12.418850Z"
    }
   },
   "cell_type": "code",
   "source": [
    "texts = ['$ F|0 \\\\rangle $', '$ F|1 \\\\rangle$',\n",
    "        '$ F|2 \\\\rangle$', '$ F|3 \\\\rangle$']\n",
    "\n",
    "for i in range(4):\n",
    "    testqc = QuantumCircuit(2)\n",
    "    for j in range(i):\n",
    "        testqc.append(Xgate4, [0, 1])\n",
    "    testqc.append(Fgate_4, [0, 1])\n",
    "    display(Math(texts[i]))\n",
    "    display(Statevector(testqc).draw('latex'))"
   ],
   "id": "ac77c4ba91e2949d",
   "outputs": [
    {
     "data": {
      "text/plain": [
       "<IPython.core.display.Math object>"
      ],
      "text/latex": "$\\displaystyle  F|0 \\rangle $"
     },
     "metadata": {},
     "output_type": "display_data"
    },
    {
     "data": {
      "text/plain": [
       "<IPython.core.display.Latex object>"
      ],
      "text/latex": "$$\\frac{i}{2} |00\\rangle- \\frac{1}{2} |01\\rangle- \\frac{i}{2} |10\\rangle+\\frac{1}{2} |11\\rangle$$"
     },
     "metadata": {},
     "output_type": "display_data"
    },
    {
     "data": {
      "text/plain": [
       "<IPython.core.display.Math object>"
      ],
      "text/latex": "$\\displaystyle  F|1 \\rangle$"
     },
     "metadata": {},
     "output_type": "display_data"
    },
    {
     "data": {
      "text/plain": [
       "<IPython.core.display.Latex object>"
      ],
      "text/latex": "$$- \\frac{1}{2} |00\\rangle+\\frac{1}{2} |01\\rangle- \\frac{1}{2} |10\\rangle+\\frac{1}{2} |11\\rangle$$"
     },
     "metadata": {},
     "output_type": "display_data"
    },
    {
     "data": {
      "text/plain": [
       "<IPython.core.display.Math object>"
      ],
      "text/latex": "$\\displaystyle  F|2 \\rangle$"
     },
     "metadata": {},
     "output_type": "display_data"
    },
    {
     "data": {
      "text/plain": [
       "<IPython.core.display.Latex object>"
      ],
      "text/latex": "$$- \\frac{i}{2} |00\\rangle- \\frac{1}{2} |01\\rangle+\\frac{i}{2} |10\\rangle+\\frac{1}{2} |11\\rangle$$"
     },
     "metadata": {},
     "output_type": "display_data"
    },
    {
     "data": {
      "text/plain": [
       "<IPython.core.display.Math object>"
      ],
      "text/latex": "$\\displaystyle  F|3 \\rangle$"
     },
     "metadata": {},
     "output_type": "display_data"
    },
    {
     "data": {
      "text/plain": [
       "<IPython.core.display.Latex object>"
      ],
      "text/latex": "$$\\frac{1}{2} |00\\rangle+\\frac{1}{2} |01\\rangle+\\frac{1}{2} |10\\rangle+\\frac{1}{2} |11\\rangle$$"
     },
     "metadata": {},
     "output_type": "display_data"
    }
   ],
   "execution_count": 145
  },
  {
   "metadata": {
    "ExecuteTime": {
     "end_time": "2025-07-21T10:51:41.802997Z",
     "start_time": "2025-07-21T10:51:41.797877Z"
    }
   },
   "cell_type": "code",
   "source": "Zgate_4_mtx = np.diag([1, omega, pow(omega, 2), pow(omega, 3)])",
   "id": "f7ccc0f98f057efa",
   "outputs": [],
   "execution_count": 217
  },
  {
   "metadata": {
    "ExecuteTime": {
     "end_time": "2025-07-21T10:52:27.839098Z",
     "start_time": "2025-07-21T10:52:27.832283Z"
    }
   },
   "cell_type": "code",
   "source": "Zgate_4_mtx.round(2)",
   "id": "397497a1b010dfd1",
   "outputs": [
    {
     "data": {
      "text/plain": [
       "array([[ 1.+0.j,  0.+0.j,  0.+0.j,  0.+0.j],\n",
       "       [ 0.+0.j,  0.+1.j,  0.+0.j,  0.+0.j],\n",
       "       [ 0.+0.j,  0.+0.j, -1.+0.j,  0.+0.j],\n",
       "       [ 0.+0.j,  0.+0.j,  0.+0.j, -0.-1.j]])"
      ]
     },
     "execution_count": 222,
     "metadata": {},
     "output_type": "execute_result"
    }
   ],
   "execution_count": 222
  },
  {
   "metadata": {
    "ExecuteTime": {
     "end_time": "2025-07-21T10:51:18.154439Z",
     "start_time": "2025-07-21T10:51:18.144298Z"
    }
   },
   "cell_type": "code",
   "source": "Zgate_4_mtx @ q0",
   "id": "dfbb937c0d87a37b",
   "outputs": [
    {
     "data": {
      "text/plain": [
       "array([[0.0000000e+00+0.j],\n",
       "       [0.0000000e+00+0.j],\n",
       "       [0.0000000e+00+0.j],\n",
       "       [1.8369702e-16+1.j]])"
      ]
     },
     "execution_count": 211,
     "metadata": {},
     "output_type": "execute_result"
    }
   ],
   "execution_count": 211
  },
  {
   "metadata": {
    "ExecuteTime": {
     "end_time": "2025-07-21T10:52:40.583028Z",
     "start_time": "2025-07-21T10:52:40.568040Z"
    }
   },
   "cell_type": "code",
   "source": "Operator(Zgate_4_mtx).draw('latex')",
   "id": "b1eaea4fa402a039",
   "outputs": [
    {
     "data": {
      "text/plain": [
       "<IPython.core.display.Latex object>"
      ],
      "text/latex": "$$\n\n\\begin{bmatrix}\n1 & 0 & 0 & 0  \\\\\n 0 & i & 0 & 0  \\\\\n 0 & 0 & -1 & 0  \\\\\n 0 & 0 & 0 & - i  \\\\\n \\end{bmatrix}\n$$"
     },
     "execution_count": 223,
     "metadata": {},
     "output_type": "execute_result"
    }
   ],
   "execution_count": 223
  },
  {
   "metadata": {
    "ExecuteTime": {
     "end_time": "2025-07-21T10:20:27.456961Z",
     "start_time": "2025-07-21T10:20:27.450485Z"
    }
   },
   "cell_type": "code",
   "source": "(Zgate_4_mtx @ q0).round(3)",
   "id": "c0e46c56b180d45e",
   "outputs": [
    {
     "data": {
      "text/plain": [
       "array([[ 0.+0.j],\n",
       "       [ 0.+0.j],\n",
       "       [ 0.+0.j],\n",
       "       [-0.-1.j]])"
      ]
     },
     "execution_count": 169,
     "metadata": {},
     "output_type": "execute_result"
    }
   ],
   "execution_count": 169
  },
  {
   "metadata": {
    "ExecuteTime": {
     "end_time": "2025-07-21T11:47:59.354843Z",
     "start_time": "2025-07-21T11:47:59.346457Z"
    }
   },
   "cell_type": "code",
   "source": "Zgate_4 = TwoQubitWeylDecomposition(Zgate_4_mtx).circuit()",
   "id": "55ef1dedaa2f606c",
   "outputs": [],
   "execution_count": 344
  },
  {
   "metadata": {
    "ExecuteTime": {
     "end_time": "2025-07-21T11:06:14.086864Z",
     "start_time": "2025-07-21T11:06:13.948399Z"
    }
   },
   "cell_type": "code",
   "source": [
    "#Zgate_4.global_phase = 3*np.pi/4\n",
    "Zgate_4.draw('mpl')"
   ],
   "id": "5972832c50eb7fa2",
   "outputs": [
    {
     "data": {
      "text/plain": [
       "<Figure size 956.183x200.667 with 1 Axes>"
      ],
      "image/png": "[encoded data removed]"
     },
     "execution_count": 245,
     "metadata": {},
     "output_type": "execute_result"
    }
   ],
   "execution_count": 245
  },
  {
   "metadata": {
    "ExecuteTime": {
     "end_time": "2025-07-21T11:06:14.813295Z",
     "start_time": "2025-07-21T11:06:14.800610Z"
    }
   },
   "cell_type": "code",
   "source": "Operator(Zgate_4).draw('latex')",
   "id": "5458470212f491a3",
   "outputs": [
    {
     "data": {
      "text/plain": [
       "<IPython.core.display.Latex object>"
      ],
      "text/latex": "$$\n\n\\begin{bmatrix}\n1 & 0 & 0 & 0  \\\\\n 0 & i & 0 & 0  \\\\\n 0 & 0 & -1 & 0  \\\\\n 0 & 0 & 0 & - i  \\\\\n \\end{bmatrix}\n$$"
     },
     "execution_count": 246,
     "metadata": {},
     "output_type": "execute_result"
    }
   ],
   "execution_count": 246
  },
  {
   "metadata": {
    "ExecuteTime": {
     "end_time": "2025-07-21T11:06:22.113440Z",
     "start_time": "2025-07-21T11:06:22.103959Z"
    }
   },
   "cell_type": "code",
   "source": "Statevector(Zgate_4).draw('latex')",
   "id": "5f23f1ae00f9e05",
   "outputs": [
    {
     "data": {
      "text/plain": [
       "<IPython.core.display.Latex object>"
      ],
      "text/latex": "$$ |00\\rangle$$"
     },
     "execution_count": 247,
     "metadata": {},
     "output_type": "execute_result"
    }
   ],
   "execution_count": 247
  },
  {
   "metadata": {
    "ExecuteTime": {
     "end_time": "2025-07-21T11:09:40.900076Z",
     "start_time": "2025-07-21T11:09:40.860669Z"
    }
   },
   "cell_type": "code",
   "source": [
    "texts = ['$ Z|0 \\\\rangle $', '$ Z|1 \\\\rangle$',\n",
    "        '$ Z|2 \\\\rangle$', '$ Z|3 \\\\rangle$']\n",
    "\n",
    "for i in range(4):\n",
    "    testqcZ = QuantumCircuit(2)\n",
    "    for j in range(i):\n",
    "        testqcZ.append(Xgate4, [0, 1])\n",
    "    testqcZ.append(Zgate_4, [0, 1])\n",
    "    display(Math(texts[i]))\n",
    "    display(Statevector(testqcZ).draw('latex'))"
   ],
   "id": "e8e468cdefa4cbd2",
   "outputs": [
    {
     "data": {
      "text/plain": [
       "<IPython.core.display.Math object>"
      ],
      "text/latex": "$\\displaystyle  Z|0 \\rangle $"
     },
     "metadata": {},
     "output_type": "display_data"
    },
    {
     "data": {
      "text/plain": [
       "<IPython.core.display.Latex object>"
      ],
      "text/latex": "$$ |00\\rangle$$"
     },
     "metadata": {},
     "output_type": "display_data"
    },
    {
     "data": {
      "text/plain": [
       "<IPython.core.display.Math object>"
      ],
      "text/latex": "$\\displaystyle  Z|1 \\rangle$"
     },
     "metadata": {},
     "output_type": "display_data"
    },
    {
     "data": {
      "text/plain": [
       "<IPython.core.display.Latex object>"
      ],
      "text/latex": "$$i |01\\rangle$$"
     },
     "metadata": {},
     "output_type": "display_data"
    },
    {
     "data": {
      "text/plain": [
       "<IPython.core.display.Math object>"
      ],
      "text/latex": "$\\displaystyle  Z|2 \\rangle$"
     },
     "metadata": {},
     "output_type": "display_data"
    },
    {
     "data": {
      "text/plain": [
       "<IPython.core.display.Latex object>"
      ],
      "text/latex": "$$- |10\\rangle$$"
     },
     "metadata": {},
     "output_type": "display_data"
    },
    {
     "data": {
      "text/plain": [
       "<IPython.core.display.Math object>"
      ],
      "text/latex": "$\\displaystyle  Z|3 \\rangle$"
     },
     "metadata": {},
     "output_type": "display_data"
    },
    {
     "data": {
      "text/plain": [
       "<IPython.core.display.Latex object>"
      ],
      "text/latex": "$$- i |11\\rangle$$"
     },
     "metadata": {},
     "output_type": "display_data"
    }
   ],
   "execution_count": 255
  },
  {
   "metadata": {
    "ExecuteTime": {
     "end_time": "2025-07-21T11:07:56.799669Z",
     "start_time": "2025-07-21T11:07:56.787926Z"
    }
   },
   "cell_type": "code",
   "source": [
    "print(f'omega = {omega.round(3)}')\n",
    "print(f'omega^2 = {(omega**2).round(3)}')\n",
    "print(f'omega^3 = {pow(omega, 3).round(3)}')"
   ],
   "id": "9cfebed1346553cd",
   "outputs": [
    {
     "name": "stdout",
     "output_type": "stream",
     "text": [
      "omega = 1j\n",
      "omega^2 = (-1+0j)\n",
      "omega^3 = (-0-1j)\n"
     ]
    }
   ],
   "execution_count": 253
  },
  {
   "metadata": {
    "ExecuteTime": {
     "end_time": "2025-07-21T11:44:00.106841Z",
     "start_time": "2025-07-21T11:44:00.098798Z"
    }
   },
   "cell_type": "code",
   "source": "Fgate_4.name = 'F_4'",
   "id": "8490dcc18777b115",
   "outputs": [],
   "execution_count": 326
  },
  {
   "metadata": {
    "ExecuteTime": {
     "end_time": "2025-07-21T11:10:40.521128Z",
     "start_time": "2025-07-21T11:10:40.513755Z"
    }
   },
   "cell_type": "code",
   "source": [
    "with open('Zgate4.qpy', 'wb') as fd:\n",
    "    qpy.dump(Zgate_4, fd)"
   ],
   "id": "aa7e4e19144624e",
   "outputs": [],
   "execution_count": 257
  },
  {
   "metadata": {
    "ExecuteTime": {
     "end_time": "2025-07-21T11:10:23.753485Z",
     "start_time": "2025-07-21T11:10:23.747738Z"
    }
   },
   "cell_type": "code",
   "source": [
    "with open('Xgate4.qpy', 'wb') as fd:\n",
    "    qpy.dump(Xgate4, fd)"
   ],
   "id": "9823f0d2d4d0327",
   "outputs": [],
   "execution_count": 256
  },
  {
   "metadata": {
    "ExecuteTime": {
     "end_time": "2025-07-21T11:44:02.322354Z",
     "start_time": "2025-07-21T11:44:02.311184Z"
    }
   },
   "cell_type": "code",
   "source": [
    "with open('Fgate4.qpy', 'wb') as fd:\n",
    "    qpy.dump(Fgate_4, fd)"
   ],
   "id": "4657262cc505e33a",
   "outputs": [],
   "execution_count": 327
  },
  {
   "metadata": {
    "ExecuteTime": {
     "end_time": "2025-07-21T11:16:57.531895Z",
     "start_time": "2025-07-21T11:16:57.523693Z"
    }
   },
   "cell_type": "code",
   "source": [
    "with open('CZ.qpy', 'rb') as fd:\n",
    "    CZ = qpy.load(fd)[0]"
   ],
   "id": "f9c9a53ee40bf123",
   "outputs": [],
   "execution_count": 259
  },
  {
   "metadata": {
    "ExecuteTime": {
     "end_time": "2025-07-21T11:17:03.684143Z",
     "start_time": "2025-07-21T11:17:03.610006Z"
    }
   },
   "cell_type": "code",
   "source": "CZ.draw('mpl')",
   "id": "c567a4b0a0d2c4ba",
   "outputs": [
    {
     "data": {
      "text/plain": [
       "<Figure size 789.163x367.889 with 1 Axes>"
      ],
      "image/png": "[encoded data removed]"
     },
     "execution_count": 260,
     "metadata": {},
     "output_type": "execute_result"
    }
   ],
   "execution_count": 260
  },
  {
   "metadata": {
    "ExecuteTime": {
     "end_time": "2025-07-21T11:27:52.294502Z",
     "start_time": "2025-07-21T11:27:52.262063Z"
    }
   },
   "cell_type": "code",
   "source": "Statevector(Fgate).draw('latex')",
   "id": "c83dfc513b6e271",
   "outputs": [
    {
     "data": {
      "text/plain": [
       "<IPython.core.display.Latex object>"
      ],
      "text/latex": "$$\\frac{\\sqrt{3}}{3} |00\\rangle+\\frac{\\sqrt{3}}{3} |01\\rangle+\\frac{\\sqrt{3}}{3} |10\\rangle$$"
     },
     "execution_count": 273,
     "metadata": {},
     "output_type": "execute_result"
    }
   ],
   "execution_count": 273
  },
  {
   "metadata": {
    "ExecuteTime": {
     "end_time": "2025-07-21T11:32:06.733287Z",
     "start_time": "2025-07-21T11:32:06.722286Z"
    }
   },
   "cell_type": "code",
   "source": [
    "cztest = QuantumCircuit(4)\n",
    "cztest.append(Xgate, [0, 1])\n",
    "cztest.append(Xgate, [2, 3])\n",
    "#cztest.append(CZ, [0, 1, 2, 3])\n",
    "\n",
    "Statevector(cztest).draw('latex')"
   ],
   "id": "1f559011536b1f31",
   "outputs": [
    {
     "data": {
      "text/plain": [
       "<IPython.core.display.Latex object>"
      ],
      "text/latex": "$$ |0101\\rangle$$"
     },
     "execution_count": 293,
     "metadata": {},
     "output_type": "execute_result"
    }
   ],
   "execution_count": 293
  },
  {
   "metadata": {
    "ExecuteTime": {
     "end_time": "2025-07-21T11:47:16.371437Z",
     "start_time": "2025-07-21T11:47:16.260867Z"
    }
   },
   "cell_type": "code",
   "source": [
    "CZ4_qc = QuantumCircuit(4)\n",
    "CZ4_qc.cp(np.pi/2, 1, 3)\n",
    "CZ4_qc.cz(2, 1)\n",
    "CZ4_qc.cz(3, 0)\n",
    "CZ4_qc.draw('mpl')"
   ],
   "id": "da240c0b9c697ea4",
   "outputs": [
    {
     "data": {
      "text/plain": [
       "<Figure size 454.719x367.889 with 1 Axes>"
      ],
      "image/png": "[encoded data removed]"
     },
     "execution_count": 340,
     "metadata": {},
     "output_type": "execute_result"
    }
   ],
   "execution_count": 340
  },
  {
   "metadata": {
    "ExecuteTime": {
     "end_time": "2025-07-21T11:47:21.894654Z",
     "start_time": "2025-07-21T11:47:21.864331Z"
    }
   },
   "cell_type": "code",
   "source": [
    "testqcC = QuantumCircuit(4)\n",
    "testqcC.append(Xgate4, [0, 1])\n",
    "testqcC.append(Xgate4, [2, 3])\n",
    "testqcC.append(Xgate4, [0, 1])\n",
    "testqcC.append(Xgate4, [2, 3])\n",
    "\n",
    "testqcC.append(CZ4_qc, [0, 1, 2, 3])\n",
    "\n",
    "Statevector(testqcC).draw('latex')"
   ],
   "id": "891ee5a8b96547a9",
   "outputs": [
    {
     "data": {
      "text/plain": [
       "<IPython.core.display.Latex object>"
      ],
      "text/latex": "$$i |1010\\rangle$$"
     },
     "execution_count": 341,
     "metadata": {},
     "output_type": "execute_result"
    }
   ],
   "execution_count": 341
  },
  {
   "metadata": {
    "ExecuteTime": {
     "end_time": "2025-07-21T11:42:02.785474Z",
     "start_time": "2025-07-21T11:42:02.776194Z"
    }
   },
   "cell_type": "code",
   "source": "CZ4_qc.name = 'CZ_4'",
   "id": "97d6e581f1109cf8",
   "outputs": [],
   "execution_count": 318
  },
  {
   "metadata": {
    "ExecuteTime": {
     "end_time": "2025-07-21T11:42:03.429935Z",
     "start_time": "2025-07-21T11:42:03.423230Z"
    }
   },
   "cell_type": "code",
   "source": [
    "with open('CZgate4.qpy', 'wb') as fd:\n",
    "    qpy.dump(CZ4_qc, fd)"
   ],
   "id": "66c9e1ac7d8eee27",
   "outputs": [],
   "execution_count": 319
  },
  {
   "metadata": {
    "ExecuteTime": {
     "end_time": "2025-07-21T11:44:09.376270Z",
     "start_time": "2025-07-21T11:44:09.362433Z"
    }
   },
   "cell_type": "code",
   "source": [
    "with open('Xgate4.qpy', 'rb') as fd:\n",
    "    Xgate4 = qpy.load(fd)[0]\n",
    "\n",
    "with open('Zgate4.qpy', 'rb') as fd:\n",
    "    Zgate4 = qpy.load(fd)[0]\n",
    "\n",
    "with open('Fgate4.qpy', 'rb') as fd:\n",
    "    Fgate4 = qpy.load(fd)[0]\n",
    "\n",
    "with open('CZgate4.qpy', 'rb') as fd:\n",
    "    CZgate4 = qpy.load(fd)[0]"
   ],
   "id": "65bb863f495070ca",
   "outputs": [],
   "execution_count": 328
  },
  {
   "metadata": {
    "ExecuteTime": {
     "end_time": "2025-07-21T12:15:19.437367Z",
     "start_time": "2025-07-21T12:15:19.413610Z"
    }
   },
   "cell_type": "code",
   "source": "Operator(CZgate4).draw('latex')",
   "id": "a12d6ae3bcbfa8b2",
   "outputs": [
    {
     "data": {
      "text/plain": [
       "<IPython.core.display.Latex object>"
      ],
      "text/latex": "$$\n\n\\begin{bmatrix}\n1 & 0 & 0 & 0 & \\cdots & 0 & 0 & 0  \\\\\n 0 & 1 & 0 & 0 & \\cdots & 0 & 0 & 0  \\\\\n 0 & 0 & 1 & 0 & \\cdots & 0 & 0 & 0  \\\\\n 0 & 0 & 0 & 1 & \\cdots & 0 & 0 & 0  \\\\\n \\vdots & \\vdots & \\vdots & \\vdots & \\ddots & \\vdots & \\vdots & \\vdots \\\\\n 0 & 0 & 0 & 0 & \\cdots & -1 & 0 & 0  \\\\\n 0 & 0 & 0 & 0 & \\cdots & 0 & - i & 0  \\\\\n 0 & 0 & 0 & 0 & \\cdots & 0 & 0 & i  \\\\\n \\end{bmatrix}\n$$"
     },
     "execution_count": 370,
     "metadata": {},
     "output_type": "execute_result"
    }
   ],
   "execution_count": 370
  },
  {
   "metadata": {
    "ExecuteTime": {
     "end_time": "2025-07-21T11:50:24.068440Z",
     "start_time": "2025-07-21T11:50:24.039269Z"
    }
   },
   "cell_type": "code",
   "source": "Fmtx_inv = Fmtx.adjoint()",
   "id": "ec671016ad8d7012",
   "outputs": [
    {
     "ename": "AttributeError",
     "evalue": "'numpy.ndarray' object has no attribute 'adjoint'",
     "output_type": "error",
     "traceback": [
      "\u001B[31m---------------------------------------------------------------------------\u001B[39m",
      "\u001B[31mAttributeError\u001B[39m                            Traceback (most recent call last)",
      "\u001B[36mCell\u001B[39m\u001B[36m \u001B[39m\u001B[32mIn[349]\u001B[39m\u001B[32m, line 1\u001B[39m\n\u001B[32m----> \u001B[39m\u001B[32m1\u001B[39m Fmtx_inv = Fmtx.adjoint()\n",
      "\u001B[31mAttributeError\u001B[39m: 'numpy.ndarray' object has no attribute 'adjoint'"
     ]
    }
   ],
   "execution_count": 349
  },
  {
   "metadata": {
    "ExecuteTime": {
     "end_time": "2025-07-21T11:50:31.668847Z",
     "start_time": "2025-07-21T11:50:31.656752Z"
    }
   },
   "cell_type": "code",
   "source": "Fmtx_inv = Fmtx.conjugate().transpose()",
   "id": "1c9bf47405c7334d",
   "outputs": [],
   "execution_count": 350
  },
  {
   "metadata": {
    "ExecuteTime": {
     "end_time": "2025-07-21T11:50:49.507715Z",
     "start_time": "2025-07-21T11:50:49.498179Z"
    }
   },
   "cell_type": "code",
   "source": "Fgate4_inv = TwoQubitWeylDecomposition(Fmtx_inv).circuit()",
   "id": "5d469afa8991bb69",
   "outputs": [],
   "execution_count": 351
  },
  {
   "metadata": {
    "ExecuteTime": {
     "end_time": "2025-07-21T11:57:16.999209Z",
     "start_time": "2025-07-21T11:57:16.876087Z"
    }
   },
   "cell_type": "code",
   "source": [
    "texts = ['$ F|0 \\\\rangle $', '$ F^\\\\dagger |0 \\\\rangle $', '$ F|1 \\\\rangle$', '$ F^\\\\dagger |1 \\\\rangle $', '$ F|2 \\\\rangle$', '$ F^\\\\dagger |2 \\\\rangle $', '$ F|3 \\\\rangle$', '$ F^\\\\dagger |3 \\\\rangle $',]\n",
    "\n",
    "for i in range(4):\n",
    "    testqc = QuantumCircuit(2)\n",
    "    for j in range(i):\n",
    "        testqc.append(Xgate4, [0, 1])\n",
    "    testqc.append(Fgate4, [0, 1])\n",
    "    display(Math(texts[2 * i]))\n",
    "    display(Statevector(testqc).draw('latex'))\n",
    "\n",
    "    testqc = QuantumCircuit(2)\n",
    "    for j in range(i):\n",
    "        testqc.append(Xgate4, [0, 1])\n",
    "    testqc.append(Fgate4_inv, [0, 1])\n",
    "    display(Math(texts[2 * i + 1]))\n",
    "    display(Statevector(testqc).draw('latex'))"
   ],
   "id": "fe7d2cbdc2af1a28",
   "outputs": [
    {
     "data": {
      "text/plain": [
       "<IPython.core.display.Math object>"
      ],
      "text/latex": "$\\displaystyle  F|0 \\rangle $"
     },
     "metadata": {},
     "output_type": "display_data"
    },
    {
     "data": {
      "text/plain": [
       "<IPython.core.display.Latex object>"
      ],
      "text/latex": "$$\\frac{i}{2} |00\\rangle- \\frac{1}{2} |01\\rangle- \\frac{i}{2} |10\\rangle+\\frac{1}{2} |11\\rangle$$"
     },
     "metadata": {},
     "output_type": "display_data"
    },
    {
     "data": {
      "text/plain": [
       "<IPython.core.display.Math object>"
      ],
      "text/latex": "$\\displaystyle  F^\\dagger |0 \\rangle $"
     },
     "metadata": {},
     "output_type": "display_data"
    },
    {
     "data": {
      "text/plain": [
       "<IPython.core.display.Latex object>"
      ],
      "text/latex": "$$- \\frac{i}{2} |00\\rangle- \\frac{1}{2} |01\\rangle+\\frac{i}{2} |10\\rangle+\\frac{1}{2} |11\\rangle$$"
     },
     "metadata": {},
     "output_type": "display_data"
    },
    {
     "data": {
      "text/plain": [
       "<IPython.core.display.Math object>"
      ],
      "text/latex": "$\\displaystyle  F|1 \\rangle$"
     },
     "metadata": {},
     "output_type": "display_data"
    },
    {
     "data": {
      "text/plain": [
       "<IPython.core.display.Latex object>"
      ],
      "text/latex": "$$- \\frac{1}{2} |00\\rangle+\\frac{1}{2} |01\\rangle- \\frac{1}{2} |10\\rangle+\\frac{1}{2} |11\\rangle$$"
     },
     "metadata": {},
     "output_type": "display_data"
    },
    {
     "data": {
      "text/plain": [
       "<IPython.core.display.Math object>"
      ],
      "text/latex": "$\\displaystyle  F^\\dagger |1 \\rangle $"
     },
     "metadata": {},
     "output_type": "display_data"
    },
    {
     "data": {
      "text/plain": [
       "<IPython.core.display.Latex object>"
      ],
      "text/latex": "$$- \\frac{1}{2} |00\\rangle+\\frac{1}{2} |01\\rangle- \\frac{1}{2} |10\\rangle+\\frac{1}{2} |11\\rangle$$"
     },
     "metadata": {},
     "output_type": "display_data"
    },
    {
     "data": {
      "text/plain": [
       "<IPython.core.display.Math object>"
      ],
      "text/latex": "$\\displaystyle  F|2 \\rangle$"
     },
     "metadata": {},
     "output_type": "display_data"
    },
    {
     "data": {
      "text/plain": [
       "<IPython.core.display.Latex object>"
      ],
      "text/latex": "$$- \\frac{i}{2} |00\\rangle- \\frac{1}{2} |01\\rangle+\\frac{i}{2} |10\\rangle+\\frac{1}{2} |11\\rangle$$"
     },
     "metadata": {},
     "output_type": "display_data"
    },
    {
     "data": {
      "text/plain": [
       "<IPython.core.display.Math object>"
      ],
      "text/latex": "$\\displaystyle  F^\\dagger |2 \\rangle $"
     },
     "metadata": {},
     "output_type": "display_data"
    },
    {
     "data": {
      "text/plain": [
       "<IPython.core.display.Latex object>"
      ],
      "text/latex": "$$\\frac{i}{2} |00\\rangle- \\frac{1}{2} |01\\rangle- \\frac{i}{2} |10\\rangle+\\frac{1}{2} |11\\rangle$$"
     },
     "metadata": {},
     "output_type": "display_data"
    },
    {
     "data": {
      "text/plain": [
       "<IPython.core.display.Math object>"
      ],
      "text/latex": "$\\displaystyle  F|3 \\rangle$"
     },
     "metadata": {},
     "output_type": "display_data"
    },
    {
     "data": {
      "text/plain": [
       "<IPython.core.display.Latex object>"
      ],
      "text/latex": "$$\\frac{1}{2} |00\\rangle+\\frac{1}{2} |01\\rangle+\\frac{1}{2} |10\\rangle+\\frac{1}{2} |11\\rangle$$"
     },
     "metadata": {},
     "output_type": "display_data"
    },
    {
     "data": {
      "text/plain": [
       "<IPython.core.display.Math object>"
      ],
      "text/latex": "$\\displaystyle  F^\\dagger |3 \\rangle $"
     },
     "metadata": {},
     "output_type": "display_data"
    },
    {
     "data": {
      "text/plain": [
       "<IPython.core.display.Latex object>"
      ],
      "text/latex": "$$\\frac{1}{2} |00\\rangle+\\frac{1}{2} |01\\rangle+\\frac{1}{2} |10\\rangle+\\frac{1}{2} |11\\rangle$$"
     },
     "metadata": {},
     "output_type": "display_data"
    }
   ],
   "execution_count": 352
  },
  {
   "metadata": {
    "ExecuteTime": {
     "end_time": "2025-07-22T06:54:35.328075Z",
     "start_time": "2025-07-22T06:54:35.216981Z"
    }
   },
   "cell_type": "code",
   "source": [
    "ququart2 = QuantumCircuit(4)\n",
    "ququart2.append(Fgate4, [0, 1])\n",
    "ququart2.append(Fgate4, [2, 3])\n",
    "ququart2.append(CZgate4, [0, 1, 2, 3])\n",
    "\n",
    "ququart2.append(Fgate4_inv, [2, 3])\n",
    "\n",
    "ququart2.draw('mpl')"
   ],
   "id": "1a98884b3092512e",
   "outputs": [
    {
     "data": {
      "text/plain": [
       "<Figure size 621.941x367.889 with 1 Axes>"
      ],
      "image/png": "[encoded data removed]"
     },
     "execution_count": 398,
     "metadata": {},
     "output_type": "execute_result"
    }
   ],
   "execution_count": 398
  },
  {
   "metadata": {
    "ExecuteTime": {
     "end_time": "2025-07-22T06:54:37.491062Z",
     "start_time": "2025-07-22T06:54:37.465291Z"
    }
   },
   "cell_type": "code",
   "source": "Statevector(ququart2).draw('latex')",
   "id": "2a3cff0c144d8d74",
   "outputs": [
    {
     "data": {
      "text/plain": [
       "<IPython.core.display.Latex object>"
      ],
      "text/latex": "$$\\frac{i}{2} |0000\\rangle+(\\frac{1}{4} + \\frac{i}{4}) |0101\\rangle- \\frac{1}{4} |0110\\rangle+\\frac{1}{4} |0111\\rangle+(- \\frac{1}{4} + \\frac{i}{4}) |1010\\rangle+(- \\frac{1}{4} + \\frac{i}{4}) |1011\\rangle+(\\frac{1}{4} - \\frac{i}{4}) |1101\\rangle- \\frac{i}{4} |1110\\rangle+\\frac{i}{4} |1111\\rangle$$"
     },
     "execution_count": 399,
     "metadata": {},
     "output_type": "execute_result"
    }
   ],
   "execution_count": 399
  },
  {
   "metadata": {
    "ExecuteTime": {
     "end_time": "2025-07-22T06:52:05.852566Z",
     "start_time": "2025-07-22T06:52:05.834375Z"
    }
   },
   "cell_type": "code",
   "source": "Statevector(ququart2).draw('latex')",
   "id": "b399e99fab4d64d6",
   "outputs": [
    {
     "data": {
      "text/plain": [
       "<IPython.core.display.Latex object>"
      ],
      "text/latex": "$$- \\frac{1}{4} |0000\\rangle- \\frac{i}{4} |0001\\rangle+\\frac{1}{4} |0010\\rangle+\\frac{i}{4} |0011\\rangle- \\frac{i}{4} |0100\\rangle+\\frac{1}{4} |0101\\rangle + \\ldots - \\frac{1}{4} |1011\\rangle+\\frac{i}{4} |1100\\rangle+\\frac{1}{4} |1101\\rangle- \\frac{1}{4} |1110\\rangle+\\frac{i}{4} |1111\\rangle$$"
     },
     "execution_count": 390,
     "metadata": {},
     "output_type": "execute_result"
    }
   ],
   "execution_count": 390
  },
  {
   "metadata": {
    "ExecuteTime": {
     "end_time": "2025-07-22T06:54:48.025246Z",
     "start_time": "2025-07-22T06:54:48.012247Z"
    }
   },
   "cell_type": "code",
   "source": "len(Statevector(ququart2))",
   "id": "a6dcf601734eb2e7",
   "outputs": [
    {
     "data": {
      "text/plain": [
       "16"
      ]
     },
     "execution_count": 400,
     "metadata": {},
     "output_type": "execute_result"
    }
   ],
   "execution_count": 400
  },
  {
   "metadata": {
    "ExecuteTime": {
     "end_time": "2025-07-22T06:54:49.481480Z",
     "start_time": "2025-07-22T06:54:49.463696Z"
    }
   },
   "cell_type": "code",
   "source": "Statevector(ququart2).data.round(3)",
   "id": "272f3b80b6f04f8d",
   "outputs": [
    {
     "data": {
      "text/plain": [
       "array([-0.  +0.5j ,  0.  +0.j  ,  0.  +0.j  ,  0.  +0.j  , -0.  +0.j  ,\n",
       "        0.25+0.25j, -0.25-0.j  ,  0.25-0.j  ,  0.  -0.j  ,  0.  +0.j  ,\n",
       "       -0.25+0.25j, -0.25+0.25j,  0.  +0.j  ,  0.25-0.25j, -0.  -0.25j,\n",
       "        0.  +0.25j])"
      ]
     },
     "execution_count": 401,
     "metadata": {},
     "output_type": "execute_result"
    }
   ],
   "execution_count": 401
  },
  {
   "metadata": {
    "ExecuteTime": {
     "end_time": "2025-07-21T12:12:39.145033Z",
     "start_time": "2025-07-21T12:12:39.134079Z"
    }
   },
   "cell_type": "code",
   "source": "Operator(Fgate4).equiv(Operator(Fgate4_inv).adjoint())",
   "id": "3a6f0d357d297e41",
   "outputs": [
    {
     "data": {
      "text/plain": [
       "True"
      ]
     },
     "execution_count": 369,
     "metadata": {},
     "output_type": "execute_result"
    }
   ],
   "execution_count": 369
  },
  {
   "metadata": {
    "ExecuteTime": {
     "end_time": "2025-07-22T06:50:52.602580Z",
     "start_time": "2025-07-22T06:50:52.511589Z"
    }
   },
   "cell_type": "code",
   "source": [
    "qc_3ghz = QuantumCircuit(4)\n",
    "qc_3ghz.append(Fgate, [0, 1])\n",
    "qc_3ghz.append(Fgate, [2, 3])\n",
    "qc_3ghz.draw('mpl')"
   ],
   "id": "7631b602c028c30f",
   "outputs": [
    {
     "data": {
      "text/plain": [
       "<Figure size 203.885x367.889 with 1 Axes>"
      ],
      "image/png": "[encoded data removed]"
     },
     "execution_count": 385,
     "metadata": {},
     "output_type": "execute_result"
    }
   ],
   "execution_count": 385
  },
  {
   "metadata": {
    "ExecuteTime": {
     "end_time": "2025-07-22T06:52:54.244224Z",
     "start_time": "2025-07-22T06:52:54.232389Z"
    }
   },
   "cell_type": "code",
   "source": "len(Statevector(qc_3ghz))",
   "id": "1c5d56cdee52f80e",
   "outputs": [
    {
     "data": {
      "text/plain": [
       "16"
      ]
     },
     "execution_count": 394,
     "metadata": {},
     "output_type": "execute_result"
    }
   ],
   "execution_count": 394
  },
  {
   "metadata": {
    "ExecuteTime": {
     "end_time": "2025-07-22T06:52:40.349608Z",
     "start_time": "2025-07-22T06:52:40.325352Z"
    }
   },
   "cell_type": "code",
   "source": "Statevector(qc_3ghz).draw('latex')",
   "id": "ab5b6c2621afb729",
   "outputs": [
    {
     "data": {
      "text/plain": [
       "<IPython.core.display.Latex object>"
      ],
      "text/latex": "$$\\frac{1}{3} |0000\\rangle+\\frac{1}{3} |0001\\rangle+\\frac{1}{3} |0010\\rangle+\\frac{1}{3} |0100\\rangle+\\frac{1}{3} |0101\\rangle+\\frac{1}{3} |0110\\rangle+\\frac{1}{3} |1000\\rangle+\\frac{1}{3} |1001\\rangle+\\frac{1}{3} |1010\\rangle$$"
     },
     "execution_count": 393,
     "metadata": {},
     "output_type": "execute_result"
    }
   ],
   "execution_count": 393
  },
  {
   "metadata": {
    "ExecuteTime": {
     "end_time": "2025-07-22T06:53:20.199697Z",
     "start_time": "2025-07-22T06:53:20.178150Z"
    }
   },
   "cell_type": "code",
   "source": "Statevector(qc_3ghz).data.round(2)",
   "id": "f1d6c49b9abd83a9",
   "outputs": [
    {
     "data": {
      "text/plain": [
       "array([ 0.33-0.j,  0.33-0.j,  0.33-0.j,  0.  -0.j,  0.33-0.j,  0.33-0.j,\n",
       "        0.33-0.j,  0.  -0.j,  0.33-0.j,  0.33-0.j,  0.33-0.j,  0.  -0.j,\n",
       "        0.  -0.j, -0.  -0.j, -0.  -0.j, -0.  -0.j])"
      ]
     },
     "execution_count": 396,
     "metadata": {},
     "output_type": "execute_result"
    }
   ],
   "execution_count": 396
  },
  {
   "metadata": {
    "ExecuteTime": {
     "end_time": "2025-07-22T07:13:30.874689Z",
     "start_time": "2025-07-22T07:13:30.867984Z"
    }
   },
   "cell_type": "code",
   "source": "H4_mtx = 0.5 * np.array([[1, 1, 1, 1], [1, 1j, -1, -1j], [1, -1, 1, -1], [1, -1j, -1, 1j]])",
   "id": "58b2124ac9ed634d",
   "outputs": [],
   "execution_count": 439
  },
  {
   "metadata": {
    "ExecuteTime": {
     "end_time": "2025-07-22T07:13:32.883334Z",
     "start_time": "2025-07-22T07:13:32.878316Z"
    }
   },
   "cell_type": "code",
   "source": "H4 = TwoQubitWeylDecomposition(H4_mtx).circuit()",
   "id": "1bb5b75ab0bece12",
   "outputs": [],
   "execution_count": 440
  },
  {
   "metadata": {
    "ExecuteTime": {
     "end_time": "2025-07-22T07:13:38.836045Z",
     "start_time": "2025-07-22T07:13:38.829998Z"
    }
   },
   "cell_type": "code",
   "source": "H4.global_phase = 5 * np.pi / 8",
   "id": "aa2201964d9dd304",
   "outputs": [],
   "execution_count": 441
  },
  {
   "metadata": {
    "ExecuteTime": {
     "end_time": "2025-07-22T07:13:39.426393Z",
     "start_time": "2025-07-22T07:13:39.406773Z"
    }
   },
   "cell_type": "code",
   "source": "Operator(H4).draw('latex')",
   "id": "bc6045cba6266e0a",
   "outputs": [
    {
     "data": {
      "text/plain": [
       "<IPython.core.display.Latex object>"
      ],
      "text/latex": "$$\n\n\\begin{bmatrix}\n\\frac{1}{2} & \\frac{1}{2} & \\frac{1}{2} & \\frac{1}{2}  \\\\\n \\frac{1}{2} & \\frac{i}{2} & - \\frac{1}{2} & - \\frac{i}{2}  \\\\\n \\frac{1}{2} & - \\frac{1}{2} & \\frac{1}{2} & - \\frac{1}{2}  \\\\\n \\frac{1}{2} & - \\frac{i}{2} & - \\frac{1}{2} & \\frac{i}{2}  \\\\\n \\end{bmatrix}\n$$"
     },
     "execution_count": 442,
     "metadata": {},
     "output_type": "execute_result"
    }
   ],
   "execution_count": 442
  },
  {
   "metadata": {
    "ExecuteTime": {
     "end_time": "2025-07-22T07:13:43.190281Z",
     "start_time": "2025-07-22T07:13:43.073879Z"
    }
   },
   "cell_type": "code",
   "source": "H4.draw('mpl')",
   "id": "21851c5dd615888d",
   "outputs": [
    {
     "data": {
      "text/plain": [
       "<Figure size 872.572x200.667 with 1 Axes>"
      ],
      "image/png": "[encoded data removed]"
     },
     "execution_count": 443,
     "metadata": {},
     "output_type": "execute_result"
    }
   ],
   "execution_count": 443
  },
  {
   "metadata": {
    "ExecuteTime": {
     "end_time": "2025-07-22T07:13:47.071944Z",
     "start_time": "2025-07-22T07:13:47.056082Z"
    }
   },
   "cell_type": "code",
   "source": "Statevector(H4).draw('latex')",
   "id": "5879ad46082baf81",
   "outputs": [
    {
     "data": {
      "text/plain": [
       "<IPython.core.display.Latex object>"
      ],
      "text/latex": "$$\\frac{1}{2} |00\\rangle+\\frac{1}{2} |01\\rangle+\\frac{1}{2} |10\\rangle+\\frac{1}{2} |11\\rangle$$"
     },
     "execution_count": 444,
     "metadata": {},
     "output_type": "execute_result"
    }
   ],
   "execution_count": 444
  },
  {
   "metadata": {
    "ExecuteTime": {
     "end_time": "2025-07-22T07:13:49.691029Z",
     "start_time": "2025-07-22T07:13:49.686031Z"
    }
   },
   "cell_type": "code",
   "source": "H4.name = \"H4\"",
   "id": "167e64b353334942",
   "outputs": [],
   "execution_count": 445
  },
  {
   "metadata": {
    "ExecuteTime": {
     "end_time": "2025-07-22T07:13:50.561590Z",
     "start_time": "2025-07-22T07:13:50.555912Z"
    }
   },
   "cell_type": "code",
   "source": "H4mtx_inv = H4_mtx.conjugate().transpose()",
   "id": "998b8d2191d41897",
   "outputs": [],
   "execution_count": 446
  },
  {
   "metadata": {
    "ExecuteTime": {
     "end_time": "2025-07-22T07:13:51.086487Z",
     "start_time": "2025-07-22T07:13:51.080181Z"
    }
   },
   "cell_type": "code",
   "source": "H4inv = TwoQubitWeylDecomposition(H4mtx_inv).circuit()",
   "id": "768a6d96fa97dc9b",
   "outputs": [],
   "execution_count": 447
  },
  {
   "metadata": {
    "ExecuteTime": {
     "end_time": "2025-07-22T07:13:51.519950Z",
     "start_time": "2025-07-22T07:13:51.512420Z"
    }
   },
   "cell_type": "code",
   "source": "H4inv.name = \"H4inv\"",
   "id": "b9f31342eabc2249",
   "outputs": [],
   "execution_count": 448
  },
  {
   "metadata": {
    "ExecuteTime": {
     "end_time": "2025-07-22T07:13:54.901290Z",
     "start_time": "2025-07-22T07:13:54.794604Z"
    }
   },
   "cell_type": "code",
   "source": [
    "test_H = QuantumCircuit(4)\n",
    "test_H.append(H4, [0, 1])\n",
    "test_H.append(H4, [2, 3])\n",
    "\n",
    "test_H.append(CZgate4, [0, 1, 2, 3])\n",
    "\n",
    "test_H.append(H4inv, [0, 1])\n",
    "\n",
    "test_H.draw('mpl')"
   ],
   "id": "880b337f70ad5bd8",
   "outputs": [
    {
     "data": {
      "text/plain": [
       "<Figure size 538.33x367.889 with 1 Axes>"
      ],
      "image/png": "[encoded data removed]"
     },
     "execution_count": 449,
     "metadata": {},
     "output_type": "execute_result"
    }
   ],
   "execution_count": 449
  },
  {
   "metadata": {
    "ExecuteTime": {
     "end_time": "2025-07-22T07:13:57.095697Z",
     "start_time": "2025-07-22T07:13:57.076371Z"
    }
   },
   "cell_type": "code",
   "source": "Statevector(test_H).draw('latex')",
   "id": "b4f24e7acf597a9e",
   "outputs": [
    {
     "data": {
      "text/plain": [
       "<IPython.core.display.Latex object>"
      ],
      "text/latex": "$$\\frac{1}{2} |0000\\rangle+(\\frac{1}{4} - \\frac{i}{4}) |0101\\rangle+(\\frac{1}{4} + \\frac{i}{4}) |0111\\rangle+\\frac{1}{4} |1001\\rangle+(\\frac{1}{4} + \\frac{i}{4}) |1010\\rangle- \\frac{i}{4} |1011\\rangle+\\frac{i}{4} |1101\\rangle+(\\frac{1}{4} - \\frac{i}{4}) |1110\\rangle+\\frac{1}{4} |1111\\rangle$$"
     },
     "execution_count": 450,
     "metadata": {},
     "output_type": "execute_result"
    }
   ],
   "execution_count": 450
  },
  {
   "metadata": {
    "ExecuteTime": {
     "end_time": "2025-07-22T07:16:51.059098Z",
     "start_time": "2025-07-22T07:16:51.049338Z"
    }
   },
   "cell_type": "code",
   "source": "cz_test = (np.kron(np.identity(4), proj(q0, q0)) + np.kron(Operator(Zgate4).to_matrix(), proj(q1, q1))).round(3)",
   "id": "39a318eedc71bbb7",
   "outputs": [],
   "execution_count": 455
  },
  {
   "metadata": {
    "ExecuteTime": {
     "end_time": "2025-07-22T07:30:24.916345Z",
     "start_time": "2025-07-22T07:30:24.911162Z"
    }
   },
   "cell_type": "code",
   "source": [
    "qubit0 = np.array([[1], [0]])\n",
    "qubit1 = np.array([[0], [1]])"
   ],
   "id": "8a0db987b1d821d6",
   "outputs": [],
   "execution_count": 457
  },
  {
   "metadata": {
    "ExecuteTime": {
     "end_time": "2025-07-22T07:31:43.364999Z",
     "start_time": "2025-07-22T07:31:43.351265Z"
    }
   },
   "cell_type": "code",
   "source": "np.kron(proj(qubit0, qubit0), proj(qubit0, qubit0)) + np.kron(proj(qubit0, qubit0), proj(qubit1, qubit1)) + np.kron(proj(qubit1, qubit1), proj(qubit0, qubit0)) - np.kron(proj(qubit1, qubit1), proj(qubit1, qubit1))",
   "id": "43b8fabe61c508",
   "outputs": [
    {
     "data": {
      "text/plain": [
       "array([[ 1,  0,  0,  0],\n",
       "       [ 0,  1,  0,  0],\n",
       "       [ 0,  0,  1,  0],\n",
       "       [ 0,  0,  0, -1]])"
      ]
     },
     "execution_count": 458,
     "metadata": {},
     "output_type": "execute_result"
    }
   ],
   "execution_count": 458
  },
  {
   "metadata": {
    "ExecuteTime": {
     "end_time": "2025-07-22T08:01:40.680993Z",
     "start_time": "2025-07-22T08:01:40.671643Z"
    }
   },
   "cell_type": "code",
   "source": [
    "qutryt0 = np.kron(qubit0, qubit0)\n",
    "qutryt1 = np.kron(qubit0, qubit1)\n",
    "qutryt2 = np.kron(qubit1, qubit0)\n",
    "qutryt3 = np.kron(qubit1, qubit1)\n",
    "\n",
    "q0 = qutryt0\n",
    "q1 = qutryt1\n",
    "q2 = qutryt2\n",
    "q3 = qutryt3"
   ],
   "id": "55eb637248133c64",
   "outputs": [],
   "execution_count": 485
  },
  {
   "metadata": {
    "ExecuteTime": {
     "end_time": "2025-07-22T08:01:57.289555Z",
     "start_time": "2025-07-22T08:01:57.280368Z"
    }
   },
   "cell_type": "code",
   "source": "a0 = np.kron(proj(q0, q0), proj(q0, q0)) + np.kron(proj(q0, q0), proj(q1, q1)) + np.kron(proj(q0, q0), proj(q2, q2)) + np.kron(proj(q0, q0), proj(q3, q3))",
   "id": "e9aa13be6c6d4dfe",
   "outputs": [],
   "execution_count": 486
  },
  {
   "metadata": {
    "ExecuteTime": {
     "end_time": "2025-07-22T08:01:58.962063Z",
     "start_time": "2025-07-22T08:01:58.948200Z"
    }
   },
   "cell_type": "code",
   "source": "omega",
   "id": "ec85bbc27f2890f0",
   "outputs": [
    {
     "data": {
      "text/plain": [
       "np.complex128(6.123233995736766e-17+1j)"
      ]
     },
     "execution_count": 487,
     "metadata": {},
     "output_type": "execute_result"
    }
   ],
   "execution_count": 487
  },
  {
   "metadata": {
    "ExecuteTime": {
     "end_time": "2025-07-22T08:01:59.349993Z",
     "start_time": "2025-07-22T08:01:59.340424Z"
    }
   },
   "cell_type": "code",
   "source": "a1 = np.kron(proj(q1, q1), proj(q0, q0)) + omega * np.kron(proj(q1, q1), proj(q1, q1)) + pow(omega, 2) * np.kron(proj(q1, q1), proj(q2, q2)) + pow(omega, 3) * np.kron(proj(q1, q1), proj(q3, q3))",
   "id": "f41e83ac27521d80",
   "outputs": [],
   "execution_count": 488
  },
  {
   "metadata": {
    "ExecuteTime": {
     "end_time": "2025-07-22T08:01:59.754933Z",
     "start_time": "2025-07-22T08:01:59.746109Z"
    }
   },
   "cell_type": "code",
   "source": "a2 = np.kron(proj(q2, q2), proj(q0, q0)) + pow(omega, 2) * np.kron(proj(q2, q2), proj(q1, q1)) + pow(omega, 4) * np.kron(proj(q2, q2), proj(q2, q2)) + pow(omega, 6) * np.kron(proj(q2, q2), proj(q3, q3))",
   "id": "7fbca90c882370da",
   "outputs": [],
   "execution_count": 489
  },
  {
   "metadata": {
    "ExecuteTime": {
     "end_time": "2025-07-22T08:02:00.464533Z",
     "start_time": "2025-07-22T08:02:00.453819Z"
    }
   },
   "cell_type": "code",
   "source": "a3 = np.kron(proj(q3, q3), proj(q0, q0)) + pow(omega, 3) * np.kron(proj(q3, q3), proj(q1, q1)) + pow(omega, 6) * np.kron(proj(q3, q3), proj(q2, q2)) + pow(omega, 9) * np.kron(proj(q3, q3), proj(q3, q3))",
   "id": "ee0c449c54b1112",
   "outputs": [],
   "execution_count": 490
  },
  {
   "metadata": {
    "ExecuteTime": {
     "end_time": "2025-07-22T08:02:01.452921Z",
     "start_time": "2025-07-22T08:02:01.440698Z"
    }
   },
   "cell_type": "code",
   "source": "a = a1 + a2 + a3",
   "id": "42b17e6550cbf2a6",
   "outputs": [],
   "execution_count": 491
  },
  {
   "metadata": {
    "ExecuteTime": {
     "end_time": "2025-07-22T08:02:07.019013Z",
     "start_time": "2025-07-22T08:02:07.006771Z"
    }
   },
   "cell_type": "code",
   "source": "a.round(3)",
   "id": "53254fb18edd1ca8",
   "outputs": [
    {
     "data": {
      "text/plain": [
       "array([[ 0.+0.j,  0.+0.j,  0.+0.j,  0.+0.j,  0.+0.j,  0.+0.j,  0.+0.j,\n",
       "         0.+0.j,  0.+0.j,  0.+0.j,  0.+0.j,  0.+0.j,  0.+0.j,  0.+0.j,\n",
       "         0.+0.j,  0.+0.j],\n",
       "       [ 0.+0.j,  0.+0.j,  0.+0.j,  0.+0.j,  0.+0.j,  0.+0.j,  0.+0.j,\n",
       "         0.+0.j,  0.+0.j,  0.+0.j,  0.+0.j,  0.+0.j,  0.+0.j,  0.+0.j,\n",
       "         0.+0.j,  0.+0.j],\n",
       "       [ 0.+0.j,  0.+0.j,  0.+0.j,  0.+0.j,  0.+0.j,  0.+0.j,  0.+0.j,\n",
       "         0.+0.j,  0.+0.j,  0.+0.j,  0.+0.j,  0.+0.j,  0.+0.j,  0.+0.j,\n",
       "         0.+0.j,  0.+0.j],\n",
       "       [ 0.+0.j,  0.+0.j,  0.+0.j,  0.+0.j,  0.+0.j,  0.+0.j,  0.+0.j,\n",
       "         0.+0.j,  0.+0.j,  0.+0.j,  0.+0.j,  0.+0.j,  0.+0.j,  0.+0.j,\n",
       "         0.+0.j,  0.+0.j],\n",
       "       [ 0.+0.j,  0.+0.j,  0.+0.j,  0.+0.j,  1.+0.j,  0.+0.j,  0.+0.j,\n",
       "         0.+0.j,  0.+0.j,  0.+0.j,  0.+0.j,  0.+0.j,  0.+0.j,  0.+0.j,\n",
       "         0.+0.j,  0.+0.j],\n",
       "       [ 0.+0.j,  0.+0.j,  0.+0.j,  0.+0.j,  0.+0.j,  0.+1.j,  0.+0.j,\n",
       "         0.+0.j,  0.+0.j,  0.+0.j,  0.+0.j,  0.+0.j,  0.+0.j,  0.+0.j,\n",
       "         0.+0.j,  0.+0.j],\n",
       "       [ 0.+0.j,  0.+0.j,  0.+0.j,  0.+0.j,  0.+0.j,  0.+0.j, -1.+0.j,\n",
       "         0.+0.j,  0.+0.j,  0.+0.j,  0.+0.j,  0.+0.j,  0.+0.j,  0.+0.j,\n",
       "         0.+0.j,  0.+0.j],\n",
       "       [ 0.+0.j,  0.+0.j,  0.+0.j,  0.+0.j,  0.+0.j,  0.+0.j,  0.+0.j,\n",
       "        -0.-1.j,  0.+0.j,  0.+0.j,  0.+0.j,  0.+0.j,  0.+0.j,  0.+0.j,\n",
       "         0.+0.j,  0.+0.j],\n",
       "       [ 0.+0.j,  0.+0.j,  0.+0.j,  0.+0.j,  0.+0.j,  0.+0.j,  0.+0.j,\n",
       "         0.+0.j,  1.+0.j,  0.+0.j,  0.+0.j,  0.+0.j,  0.+0.j,  0.+0.j,\n",
       "         0.+0.j,  0.+0.j],\n",
       "       [ 0.+0.j,  0.+0.j,  0.+0.j,  0.+0.j,  0.+0.j,  0.+0.j,  0.+0.j,\n",
       "         0.+0.j,  0.+0.j, -1.+0.j,  0.+0.j,  0.+0.j,  0.+0.j,  0.+0.j,\n",
       "         0.+0.j,  0.+0.j],\n",
       "       [ 0.+0.j,  0.+0.j,  0.+0.j,  0.+0.j,  0.+0.j,  0.+0.j,  0.+0.j,\n",
       "         0.+0.j,  0.+0.j,  0.+0.j,  1.-0.j,  0.+0.j,  0.+0.j,  0.+0.j,\n",
       "         0.+0.j,  0.+0.j],\n",
       "       [ 0.+0.j,  0.+0.j,  0.+0.j,  0.+0.j,  0.+0.j,  0.+0.j,  0.+0.j,\n",
       "         0.+0.j,  0.+0.j,  0.+0.j,  0.+0.j, -1.+0.j,  0.+0.j,  0.+0.j,\n",
       "         0.+0.j,  0.+0.j],\n",
       "       [ 0.+0.j,  0.+0.j,  0.+0.j,  0.+0.j,  0.+0.j,  0.+0.j,  0.+0.j,\n",
       "         0.+0.j,  0.+0.j,  0.+0.j,  0.+0.j,  0.+0.j,  1.+0.j,  0.+0.j,\n",
       "         0.+0.j,  0.+0.j],\n",
       "       [ 0.+0.j,  0.+0.j,  0.+0.j,  0.+0.j,  0.+0.j,  0.+0.j,  0.+0.j,\n",
       "         0.+0.j,  0.+0.j,  0.+0.j,  0.+0.j,  0.+0.j,  0.+0.j, -0.-1.j,\n",
       "         0.+0.j,  0.+0.j],\n",
       "       [ 0.+0.j,  0.+0.j,  0.+0.j,  0.+0.j,  0.+0.j,  0.+0.j,  0.+0.j,\n",
       "         0.+0.j,  0.+0.j,  0.+0.j,  0.+0.j,  0.+0.j,  0.+0.j,  0.+0.j,\n",
       "        -1.+0.j,  0.+0.j],\n",
       "       [ 0.+0.j,  0.+0.j,  0.+0.j,  0.+0.j,  0.+0.j,  0.+0.j,  0.+0.j,\n",
       "         0.+0.j,  0.+0.j,  0.+0.j,  0.+0.j,  0.+0.j,  0.+0.j,  0.+0.j,\n",
       "         0.+0.j,  0.+1.j]])"
      ]
     },
     "execution_count": 492,
     "metadata": {},
     "output_type": "execute_result"
    }
   ],
   "execution_count": 492
  },
  {
   "metadata": {
    "ExecuteTime": {
     "end_time": "2025-07-22T07:55:04.519112Z",
     "start_time": "2025-07-22T07:55:04.511151Z"
    }
   },
   "cell_type": "code",
   "source": "b0 = np.kron(proj(qutryt0, qutryt0), proj(qutryt0, qutryt0)) + np.kron(proj(qutryt0, qutryt0), proj(qutryt1, qutryt1)) + np.kron(proj(qutryt0, qutryt0), proj(qutryt2, qutryt2))",
   "id": "9db98b00c2cc9d42",
   "outputs": [],
   "execution_count": 474
  },
  {
   "metadata": {
    "ExecuteTime": {
     "end_time": "2025-07-22T07:55:59.577186Z",
     "start_time": "2025-07-22T07:55:59.568292Z"
    }
   },
   "cell_type": "code",
   "source": "b1 = np.kron(proj(qutryt1, qutryt1), proj(qutryt0, qutryt0)) + pow(omega3, 1) * np.kron(proj(qutryt1, qutryt1), proj(qutryt1, qutryt1)) + pow(omega3, 2) * np.kron(proj(qutryt1, qutryt1), proj(qutryt2, qutryt2))",
   "id": "df75882e42b69433",
   "outputs": [],
   "execution_count": 475
  },
  {
   "metadata": {
    "ExecuteTime": {
     "end_time": "2025-07-22T07:56:50.643986Z",
     "start_time": "2025-07-22T07:56:50.634980Z"
    }
   },
   "cell_type": "code",
   "source": "b2 = np.kron(proj(qutryt2, qutryt2), proj(qutryt0, qutryt0)) + pow(omega, 2) * np.kron(proj(qutryt2, qutryt2), proj(qutryt1, qutryt1)) + pow(omega, 4) * np.kron(proj(qutryt2, qutryt2), proj(qutryt2, qutryt2))",
   "id": "540449807b3893e4",
   "outputs": [],
   "execution_count": 476
  },
  {
   "metadata": {
    "ExecuteTime": {
     "end_time": "2025-07-22T07:56:59.791172Z",
     "start_time": "2025-07-22T07:56:59.785110Z"
    }
   },
   "cell_type": "code",
   "source": "b = b0 + b1 + b2",
   "id": "816b1dde4c68e804",
   "outputs": [],
   "execution_count": 477
  },
  {
   "metadata": {
    "ExecuteTime": {
     "end_time": "2025-07-22T07:57:05.039345Z",
     "start_time": "2025-07-22T07:57:05.013125Z"
    }
   },
   "cell_type": "code",
   "source": "b.round(3)",
   "id": "d08e71cd9b0a4a3b",
   "outputs": [
    {
     "data": {
      "text/plain": [
       "array([[ 1. +0.j   ,  0. +0.j   ,  0. +0.j   ,  0. +0.j   ,  0. +0.j   ,\n",
       "         0. +0.j   ,  0. +0.j   ,  0. +0.j   ,  0. +0.j   ,  0. +0.j   ,\n",
       "         0. +0.j   ,  0. +0.j   ,  0. +0.j   ,  0. +0.j   ,  0. +0.j   ,\n",
       "         0. +0.j   ],\n",
       "       [ 0. +0.j   ,  1. +0.j   ,  0. +0.j   ,  0. +0.j   ,  0. +0.j   ,\n",
       "         0. +0.j   ,  0. +0.j   ,  0. +0.j   ,  0. +0.j   ,  0. +0.j   ,\n",
       "         0. +0.j   ,  0. +0.j   ,  0. +0.j   ,  0. +0.j   ,  0. +0.j   ,\n",
       "         0. +0.j   ],\n",
       "       [ 0. +0.j   ,  0. +0.j   ,  1. +0.j   ,  0. +0.j   ,  0. +0.j   ,\n",
       "         0. +0.j   ,  0. +0.j   ,  0. +0.j   ,  0. +0.j   ,  0. +0.j   ,\n",
       "         0. +0.j   ,  0. +0.j   ,  0. +0.j   ,  0. +0.j   ,  0. +0.j   ,\n",
       "         0. +0.j   ],\n",
       "       [ 0. +0.j   ,  0. +0.j   ,  0. +0.j   ,  0. +0.j   ,  0. +0.j   ,\n",
       "         0. +0.j   ,  0. +0.j   ,  0. +0.j   ,  0. +0.j   ,  0. +0.j   ,\n",
       "         0. +0.j   ,  0. +0.j   ,  0. +0.j   ,  0. +0.j   ,  0. +0.j   ,\n",
       "         0. +0.j   ],\n",
       "       [ 0. +0.j   ,  0. +0.j   ,  0. +0.j   ,  0. +0.j   ,  1. +0.j   ,\n",
       "         0. +0.j   ,  0. +0.j   ,  0. +0.j   ,  0. +0.j   ,  0. +0.j   ,\n",
       "         0. +0.j   ,  0. +0.j   ,  0. +0.j   ,  0. +0.j   ,  0. +0.j   ,\n",
       "         0. +0.j   ],\n",
       "       [ 0. +0.j   ,  0. +0.j   ,  0. +0.j   ,  0. +0.j   ,  0. +0.j   ,\n",
       "        -0.5+0.866j,  0. +0.j   ,  0. +0.j   ,  0. +0.j   ,  0. +0.j   ,\n",
       "         0. +0.j   ,  0. +0.j   ,  0. +0.j   ,  0. +0.j   ,  0. +0.j   ,\n",
       "         0. +0.j   ],\n",
       "       [ 0. +0.j   ,  0. +0.j   ,  0. +0.j   ,  0. +0.j   ,  0. +0.j   ,\n",
       "         0. +0.j   , -0.5-0.866j,  0. +0.j   ,  0. +0.j   ,  0. +0.j   ,\n",
       "         0. +0.j   ,  0. +0.j   ,  0. +0.j   ,  0. +0.j   ,  0. +0.j   ,\n",
       "         0. +0.j   ],\n",
       "       [ 0. +0.j   ,  0. +0.j   ,  0. +0.j   ,  0. +0.j   ,  0. +0.j   ,\n",
       "         0. +0.j   ,  0. +0.j   ,  0. +0.j   ,  0. +0.j   ,  0. +0.j   ,\n",
       "         0. +0.j   ,  0. +0.j   ,  0. +0.j   ,  0. +0.j   ,  0. +0.j   ,\n",
       "         0. +0.j   ],\n",
       "       [ 0. +0.j   ,  0. +0.j   ,  0. +0.j   ,  0. +0.j   ,  0. +0.j   ,\n",
       "         0. +0.j   ,  0. +0.j   ,  0. +0.j   ,  1. +0.j   ,  0. +0.j   ,\n",
       "         0. +0.j   ,  0. +0.j   ,  0. +0.j   ,  0. +0.j   ,  0. +0.j   ,\n",
       "         0. +0.j   ],\n",
       "       [ 0. +0.j   ,  0. +0.j   ,  0. +0.j   ,  0. +0.j   ,  0. +0.j   ,\n",
       "         0. +0.j   ,  0. +0.j   ,  0. +0.j   ,  0. +0.j   , -1. +0.j   ,\n",
       "         0. +0.j   ,  0. +0.j   ,  0. +0.j   ,  0. +0.j   ,  0. +0.j   ,\n",
       "         0. +0.j   ],\n",
       "       [ 0. +0.j   ,  0. +0.j   ,  0. +0.j   ,  0. +0.j   ,  0. +0.j   ,\n",
       "         0. +0.j   ,  0. +0.j   ,  0. +0.j   ,  0. +0.j   ,  0. +0.j   ,\n",
       "         1. -0.j   ,  0. +0.j   ,  0. +0.j   ,  0. +0.j   ,  0. +0.j   ,\n",
       "         0. +0.j   ],\n",
       "       [ 0. +0.j   ,  0. +0.j   ,  0. +0.j   ,  0. +0.j   ,  0. +0.j   ,\n",
       "         0. +0.j   ,  0. +0.j   ,  0. +0.j   ,  0. +0.j   ,  0. +0.j   ,\n",
       "         0. +0.j   ,  0. +0.j   ,  0. +0.j   ,  0. +0.j   ,  0. +0.j   ,\n",
       "         0. +0.j   ],\n",
       "       [ 0. +0.j   ,  0. +0.j   ,  0. +0.j   ,  0. +0.j   ,  0. +0.j   ,\n",
       "         0. +0.j   ,  0. +0.j   ,  0. +0.j   ,  0. +0.j   ,  0. +0.j   ,\n",
       "         0. +0.j   ,  0. +0.j   ,  0. +0.j   ,  0. +0.j   ,  0. +0.j   ,\n",
       "         0. +0.j   ],\n",
       "       [ 0. +0.j   ,  0. +0.j   ,  0. +0.j   ,  0. +0.j   ,  0. +0.j   ,\n",
       "         0. +0.j   ,  0. +0.j   ,  0. +0.j   ,  0. +0.j   ,  0. +0.j   ,\n",
       "         0. +0.j   ,  0. +0.j   ,  0. +0.j   ,  0. +0.j   ,  0. +0.j   ,\n",
       "         0. +0.j   ],\n",
       "       [ 0. +0.j   ,  0. +0.j   ,  0. +0.j   ,  0. +0.j   ,  0. +0.j   ,\n",
       "         0. +0.j   ,  0. +0.j   ,  0. +0.j   ,  0. +0.j   ,  0. +0.j   ,\n",
       "         0. +0.j   ,  0. +0.j   ,  0. +0.j   ,  0. +0.j   ,  0. +0.j   ,\n",
       "         0. +0.j   ],\n",
       "       [ 0. +0.j   ,  0. +0.j   ,  0. +0.j   ,  0. +0.j   ,  0. +0.j   ,\n",
       "         0. +0.j   ,  0. +0.j   ,  0. +0.j   ,  0. +0.j   ,  0. +0.j   ,\n",
       "         0. +0.j   ,  0. +0.j   ,  0. +0.j   ,  0. +0.j   ,  0. +0.j   ,\n",
       "         0. +0.j   ]])"
      ]
     },
     "execution_count": 478,
     "metadata": {},
     "output_type": "execute_result"
    }
   ],
   "execution_count": 478
  },
  {
   "metadata": {
    "ExecuteTime": {
     "end_time": "2025-07-22T07:57:55.738661Z",
     "start_time": "2025-07-22T07:57:55.726972Z"
    }
   },
   "cell_type": "code",
   "source": "Operator(CZ).to_matrix().round(3)",
   "id": "30c2fc53abee95d1",
   "outputs": [
    {
     "data": {
      "text/plain": [
       "array([[ 1. +0.j   ,  0. +0.j   ,  0. +0.j   ,  0. +0.j   ,  0. +0.j   ,\n",
       "         0. +0.j   ,  0. +0.j   ,  0. +0.j   ,  0. +0.j   ,  0. +0.j   ,\n",
       "         0. +0.j   ,  0. +0.j   ,  0. +0.j   ,  0. +0.j   ,  0. +0.j   ,\n",
       "         0. +0.j   ],\n",
       "       [ 0. +0.j   ,  1. +0.j   ,  0. +0.j   ,  0. +0.j   ,  0. +0.j   ,\n",
       "         0. +0.j   ,  0. +0.j   ,  0. +0.j   ,  0. +0.j   ,  0. +0.j   ,\n",
       "         0. +0.j   ,  0. +0.j   ,  0. +0.j   ,  0. +0.j   ,  0. +0.j   ,\n",
       "         0. +0.j   ],\n",
       "       [ 0. +0.j   ,  0. +0.j   ,  1. +0.j   ,  0. +0.j   ,  0. +0.j   ,\n",
       "         0. +0.j   ,  0. +0.j   ,  0. +0.j   ,  0. +0.j   ,  0. +0.j   ,\n",
       "         0. +0.j   ,  0. +0.j   ,  0. +0.j   ,  0. +0.j   ,  0. +0.j   ,\n",
       "         0. +0.j   ],\n",
       "       [ 0. +0.j   ,  0. +0.j   ,  0. +0.j   ,  1. +0.j   ,  0. +0.j   ,\n",
       "         0. +0.j   ,  0. +0.j   ,  0. +0.j   ,  0. +0.j   ,  0. +0.j   ,\n",
       "         0. +0.j   ,  0. +0.j   ,  0. +0.j   ,  0. +0.j   ,  0. +0.j   ,\n",
       "         0. +0.j   ],\n",
       "       [ 0. +0.j   ,  0. +0.j   ,  0. +0.j   ,  0. +0.j   ,  1. +0.j   ,\n",
       "         0. +0.j   ,  0. +0.j   ,  0. +0.j   ,  0. +0.j   ,  0. +0.j   ,\n",
       "         0. +0.j   ,  0. +0.j   ,  0. +0.j   ,  0. +0.j   ,  0. +0.j   ,\n",
       "         0. +0.j   ],\n",
       "       [ 0. +0.j   ,  0. +0.j   ,  0. +0.j   ,  0. +0.j   ,  0. +0.j   ,\n",
       "        -0.5+0.866j,  0. +0.j   ,  0. +0.j   ,  0. +0.j   ,  0. +0.j   ,\n",
       "         0. +0.j   ,  0. +0.j   ,  0. +0.j   ,  0. +0.j   ,  0. +0.j   ,\n",
       "         0. +0.j   ],\n",
       "       [ 0. +0.j   ,  0. +0.j   ,  0. +0.j   ,  0. +0.j   ,  0. +0.j   ,\n",
       "         0. +0.j   , -0.5-0.866j,  0. +0.j   ,  0. +0.j   ,  0. +0.j   ,\n",
       "         0. +0.j   ,  0. +0.j   ,  0. +0.j   ,  0. +0.j   ,  0. +0.j   ,\n",
       "         0. +0.j   ],\n",
       "       [ 0. +0.j   ,  0. +0.j   ,  0. +0.j   ,  0. +0.j   ,  0. +0.j   ,\n",
       "         0. +0.j   ,  0. +0.j   ,  1. +0.j   ,  0. +0.j   ,  0. +0.j   ,\n",
       "         0. +0.j   ,  0. +0.j   ,  0. +0.j   ,  0. +0.j   ,  0. +0.j   ,\n",
       "         0. +0.j   ],\n",
       "       [ 0. +0.j   ,  0. +0.j   ,  0. +0.j   ,  0. +0.j   ,  0. +0.j   ,\n",
       "         0. +0.j   ,  0. +0.j   ,  0. +0.j   ,  1. +0.j   ,  0. +0.j   ,\n",
       "         0. +0.j   ,  0. +0.j   ,  0. +0.j   ,  0. +0.j   ,  0. +0.j   ,\n",
       "         0. +0.j   ],\n",
       "       [ 0. +0.j   ,  0. +0.j   ,  0. +0.j   ,  0. +0.j   ,  0. +0.j   ,\n",
       "         0. +0.j   ,  0. +0.j   ,  0. +0.j   ,  0. +0.j   , -0.5-0.866j,\n",
       "         0. +0.j   ,  0. +0.j   ,  0. +0.j   ,  0. +0.j   ,  0. +0.j   ,\n",
       "         0. +0.j   ],\n",
       "       [ 0. +0.j   ,  0. +0.j   ,  0. +0.j   ,  0. +0.j   ,  0. +0.j   ,\n",
       "         0. +0.j   ,  0. +0.j   ,  0. +0.j   ,  0. +0.j   ,  0. +0.j   ,\n",
       "        -0.5+0.866j,  0. +0.j   ,  0. +0.j   ,  0. +0.j   ,  0. +0.j   ,\n",
       "         0. +0.j   ],\n",
       "       [ 0. +0.j   ,  0. +0.j   ,  0. +0.j   ,  0. +0.j   ,  0. +0.j   ,\n",
       "         0. +0.j   ,  0. +0.j   ,  0. +0.j   ,  0. +0.j   ,  0. +0.j   ,\n",
       "         0. +0.j   ,  1. +0.j   ,  0. +0.j   ,  0. +0.j   ,  0. +0.j   ,\n",
       "         0. +0.j   ],\n",
       "       [ 0. +0.j   ,  0. +0.j   ,  0. +0.j   ,  0. +0.j   ,  0. +0.j   ,\n",
       "         0. +0.j   ,  0. +0.j   ,  0. +0.j   ,  0. +0.j   ,  0. +0.j   ,\n",
       "         0. +0.j   ,  0. +0.j   ,  1. +0.j   ,  0. +0.j   ,  0. +0.j   ,\n",
       "         0. +0.j   ],\n",
       "       [ 0. +0.j   ,  0. +0.j   ,  0. +0.j   ,  0. +0.j   ,  0. +0.j   ,\n",
       "         0. +0.j   ,  0. +0.j   ,  0. +0.j   ,  0. +0.j   ,  0. +0.j   ,\n",
       "         0. +0.j   ,  0. +0.j   ,  0. +0.j   ,  1. +0.j   ,  0. +0.j   ,\n",
       "         0. +0.j   ],\n",
       "       [ 0. +0.j   ,  0. +0.j   ,  0. +0.j   ,  0. +0.j   ,  0. +0.j   ,\n",
       "         0. +0.j   ,  0. +0.j   ,  0. +0.j   ,  0. +0.j   ,  0. +0.j   ,\n",
       "         0. +0.j   ,  0. +0.j   ,  0. +0.j   ,  0. +0.j   ,  1. +0.j   ,\n",
       "         0. +0.j   ],\n",
       "       [ 0. +0.j   ,  0. +0.j   ,  0. +0.j   ,  0. +0.j   ,  0. +0.j   ,\n",
       "         0. +0.j   ,  0. +0.j   ,  0. +0.j   ,  0. +0.j   ,  0. +0.j   ,\n",
       "         0. +0.j   ,  0. +0.j   ,  0. +0.j   ,  0. +0.j   ,  0. +0.j   ,\n",
       "         1. +0.j   ]])"
      ]
     },
     "execution_count": 481,
     "metadata": {},
     "output_type": "execute_result"
    }
   ],
   "execution_count": 481
  },
  {
   "metadata": {},
   "cell_type": "code",
   "outputs": [],
   "execution_count": null,
   "source": "",
   "id": "a724a542c1294c1b"
  }
 ],
 "metadata": {
  "kernelspec": {
   "display_name": "Python 3",
   "language": "python",
   "name": "python3"
  },
  "language_info": {
   "codemirror_mode": {
    "name": "ipython",
    "version": 2
   },
   "file_extension": ".py",
   "mimetype": "text/x-python",
   "name": "python",
   "nbconvert_exporter": "python",
   "pygments_lexer": "ipython2",
   "version": "2.7.6"
  }
 },
 "nbformat": 4,
 "nbformat_minor": 5
}
