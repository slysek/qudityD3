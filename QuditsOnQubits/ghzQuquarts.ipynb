{
 "cells": [
  {
   "cell_type": "code",
   "execution_count": 1,
   "id": "5cddd7ff-7ed8-4c6a-a7c3-3191b4ba8f94",
   "metadata": {},
   "outputs": [],
   "source": [
    "from qiskit import qpy\n",
    "from qiskit.circuit import QuantumCircuit\n",
    "from qiskit.quantum_info import Statevector, Operator\n",
    "import numpy as np\n",
    "import matplotlib.pyplot as plt"
   ]
  },
  {
   "cell_type": "code",
   "execution_count": 2,
   "id": "f4bedfb6-814d-46e7-953e-bddab22ce425",
   "metadata": {},
   "outputs": [],
   "source": [
    "from qiskit.quantum_info import partial_trace"
   ]
  },
  {
   "cell_type": "code",
   "execution_count": 3,
   "id": "abc9c488-a703-46cb-9597-d1a0d7ab4988",
   "metadata": {},
   "outputs": [],
   "source": [
    "with open('Xgate4.qpy', 'rb') as fd:\n",
    "    Xgate4 = qpy.load(fd)[0]\n",
    "\n",
    "with open('Zgate4.qpy', 'rb') as fd:\n",
    "    Zgate4 = qpy.load(fd)[0]\n",
    "\n",
    "with open('Fgate4.qpy', 'rb') as fd:\n",
    "    Fgate4 = qpy.load(fd)[0]\n",
    "\n",
    "with open('CZgate4.qpy', 'rb') as fd:\n",
    "    CZgate4 = qpy.load(fd)[0]"
   ]
  },
  {
   "cell_type": "code",
   "execution_count": 4,
   "id": "ad0b0da7-15f7-4634-b446-dd8e4134b62f",
   "metadata": {},
   "outputs": [
    {
     "data": {
      "image/png": "[encoded data removed]",
      "text/plain": [
       "<Figure size 538.33x535.111 with 1 Axes>"
      ]
     },
     "execution_count": 4,
     "metadata": {},
     "output_type": "execute_result"
    }
   ],
   "source": [
    "ghz4 = QuantumCircuit(6) \n",
    "for i in range(3):\n",
    "    ghz4.append(Fgate4, [2*i, 2*i + 1])\n",
    "\n",
    "ghz4.append(CZgate4, [0, 1, 2, 3])\n",
    "ghz4.append(CZgate4, [0, 1, 4, 5])\n",
    "\n",
    "ghz4.draw('mpl')"
   ]
  },
  {
   "cell_type": "code",
   "execution_count": 5,
   "id": "da46c24c-3bab-4450-9f92-2f9745934867",
   "metadata": {},
   "outputs": [
    {
     "data": {
      "text/latex": [
       "$$- \\frac{1}{8} |000000\\rangle- \\frac{1}{8} |000001\\rangle- \\frac{1}{8} |000010\\rangle- \\frac{1}{8} |000011\\rangle- \\frac{1}{8} |000100\\rangle- \\frac{1}{8} |000101\\rangle + \\ldots - \\frac{1}{8} |111011\\rangle- \\frac{1}{8} |111100\\rangle- \\frac{1}{8} |111101\\rangle+\\frac{1}{8} |111110\\rangle+\\frac{1}{8} |111111\\rangle$$"
      ],
      "text/plain": [
       "<IPython.core.display.Latex object>"
      ]
     },
     "execution_count": 5,
     "metadata": {},
     "output_type": "execute_result"
    }
   ],
   "source": [
    "Statevector(ghz4).draw('latex')"
   ]
  },
  {
   "cell_type": "code",
   "execution_count": 14,
   "id": "ff8abb51-55d7-4025-a93f-aa74ed4f480e",
   "metadata": {},
   "outputs": [
    {
     "data": {
      "text/latex": [
       "$$\n",
       "\n",
       "\\begin{bmatrix}\n",
       "\\frac{1}{4} & 0 & 0 & 0  \\\\\n",
       " 0 & \\frac{1}{4} & 0 & 0  \\\\\n",
       " 0 & 0 & \\frac{1}{4} & 0  \\\\\n",
       " 0 & 0 & 0 & \\frac{1}{4}  \\\\\n",
       " \\end{bmatrix}\n",
       "$$"
      ],
      "text/plain": [
       "<IPython.core.display.Latex object>"
      ]
     },
     "execution_count": 14,
     "metadata": {},
     "output_type": "execute_result"
    }
   ],
   "source": [
    "partial_trace(Statevector(ghz4), [0, 1, 2, 3]).draw('latex') "
   ]
  },
  {
   "cell_type": "code",
   "execution_count": 1,
   "id": "ce7cac19-5859-4f1e-bcaa-7e8272b86c94",
   "metadata": {},
   "outputs": [],
   "source": [
    "#robiepusha"
   ]
  },
  {
   "cell_type": "code",
   "execution_count": null,
   "id": "76033d8d-13ae-4f03-85c8-c4d69ba0ddc4",
   "metadata": {},
   "outputs": [],
   "source": []
  }
 ],
 "metadata": {
  "kernelspec": {
   "display_name": "Python 3 [qudity]",
   "language": "python",
   "name": "python3_qudity_v920tu"
  },
  "language_info": {
   "codemirror_mode": {
    "name": "ipython",
    "version": 3
   },
   "file_extension": ".py",
   "mimetype": "text/x-python",
   "name": "python",
   "nbconvert_exporter": "python",
   "pygments_lexer": "ipython3",
   "version": "3.11.9"
  }
 },
 "nbformat": 4,
 "nbformat_minor": 5
}
