{
 "cells": [
  {
   "cell_type": "code",
   "id": "initial_id",
   "metadata": {
    "collapsed": true,
    "ExecuteTime": {
     "end_time": "2025-07-21T12:13:40.103762Z",
     "start_time": "2025-07-21T12:13:39.994080Z"
    }
   },
   "source": "import numpy as np",
   "outputs": [],
   "execution_count": 1
  },
  {
   "metadata": {
    "ExecuteTime": {
     "end_time": "2025-07-21T12:14:16.716993Z",
     "start_time": "2025-07-21T12:14:16.710390Z"
    }
   },
   "cell_type": "code",
   "source": [
    "def proj(a, b):\n",
    "    return a @ b.transpose()"
   ],
   "id": "42ab8c25eae34ed3",
   "outputs": [],
   "execution_count": 2
  },
  {
   "metadata": {
    "ExecuteTime": {
     "end_time": "2025-07-21T12:14:35.240857Z",
     "start_time": "2025-07-21T12:14:35.235114Z"
    }
   },
   "cell_type": "code",
   "source": "omega = np.exp(2j*np.pi/4)",
   "id": "99d1fca72d1b862d",
   "outputs": [],
   "execution_count": 4
  },
  {
   "metadata": {
    "ExecuteTime": {
     "end_time": "2025-07-21T12:15:54.178505Z",
     "start_time": "2025-07-21T12:15:53.288324Z"
    }
   },
   "cell_type": "code",
   "source": "from qiskit import qpy\n",
   "id": "4061a0f095c937a9",
   "outputs": [],
   "execution_count": 6
  },
  {
   "metadata": {
    "ExecuteTime": {
     "end_time": "2025-07-21T12:14:35.589333Z",
     "start_time": "2025-07-21T12:14:35.580841Z"
    }
   },
   "cell_type": "code",
   "source": [
    "q0 = np.array([[0], [0], [0], [1]])\n",
    "q1 = np.array([[0], [0], [1], [0]])\n",
    "q2 = np.array([[0], [1], [0], [0]])\n",
    "q3 = np.array([[1], [0], [0], [0]])\n",
    "\n",
    "Fmtx = 1/np.sqrt(4) * (proj(q0, q0) + proj(q0, q1) + proj(q0, q2) + proj(q0, q3) + proj(q1, q0) + omega * proj(q1, q1) + pow(omega, 2) * proj(q1, q2) + pow(omega, 3) * proj(q1, q3) + proj(q2, q0) + pow(omega, 2) * proj(q2, q1) + pow(omega, 4) * proj(q2, q2) + pow(omega, 6) * proj(q2, q3) + proj(q3, q0) + pow(omega, 3) * proj(q3, q1) + pow(omega, 6) * proj(q3, q2) + pow(omega, 9) * proj(q3, q3)).round(3)"
   ],
   "id": "d40b9031d879bd32",
   "outputs": [],
   "execution_count": 5
  },
  {
   "metadata": {
    "ExecuteTime": {
     "end_time": "2025-07-21T12:15:56.399788Z",
     "start_time": "2025-07-21T12:15:56.392553Z"
    }
   },
   "cell_type": "code",
   "source": [
    "with open('CZgate4.qpy', 'rb') as fd:\n",
    "    CZgate4 = qpy.load(fd)[0]"
   ],
   "id": "745cd52051038c6f",
   "outputs": [],
   "execution_count": 7
  },
  {
   "metadata": {
    "ExecuteTime": {
     "end_time": "2025-07-21T12:16:21.436988Z",
     "start_time": "2025-07-21T12:16:21.428371Z"
    }
   },
   "cell_type": "code",
   "source": "from qiskit.quantum_info import Statevector, Operator",
   "id": "80186756dd93a652",
   "outputs": [],
   "execution_count": 8
  },
  {
   "metadata": {
    "ExecuteTime": {
     "end_time": "2025-07-21T12:16:22.743125Z",
     "start_time": "2025-07-21T12:16:22.733389Z"
    }
   },
   "cell_type": "code",
   "source": "CZ = Operator(CZgate4).to_matrix()",
   "id": "5f250133850a0f48",
   "outputs": [],
   "execution_count": 9
  },
  {
   "metadata": {
    "ExecuteTime": {
     "end_time": "2025-07-21T12:17:26.542242Z",
     "start_time": "2025-07-21T12:17:26.537725Z"
    }
   },
   "cell_type": "code",
   "source": "a1 = Fmtx @ q0",
   "id": "1f6e862acfa9b2de",
   "outputs": [],
   "execution_count": 11
  },
  {
   "metadata": {
    "ExecuteTime": {
     "end_time": "2025-07-22T06:36:00.592176Z",
     "start_time": "2025-07-22T06:36:00.460890Z"
    }
   },
   "cell_type": "code",
   "source": "CZ @ np.kron(a1, a1)",
   "id": "bb3614d70011048c",
   "outputs": [
    {
     "data": {
      "text/plain": [
       "array([[ 2.5000000e-01+0.j  ],\n",
       "       [ 2.5000000e-01+0.j  ],\n",
       "       [ 2.5000000e-01+0.j  ],\n",
       "       [ 2.5000000e-01+0.j  ],\n",
       "       [ 2.5000000e-01+0.j  ],\n",
       "       [ 2.5000000e-01+0.j  ],\n",
       "       [-2.5000000e-01+0.j  ],\n",
       "       [-2.5000000e-01+0.j  ],\n",
       "       [ 2.5000000e-01+0.j  ],\n",
       "       [-2.5000000e-01+0.j  ],\n",
       "       [ 1.5308085e-17+0.25j],\n",
       "       [-1.5308085e-17-0.25j],\n",
       "       [ 2.5000000e-01+0.j  ],\n",
       "       [-2.5000000e-01+0.j  ],\n",
       "       [-1.5308085e-17-0.25j],\n",
       "       [ 1.5308085e-17+0.25j]])"
      ]
     },
     "execution_count": 16,
     "metadata": {},
     "output_type": "execute_result"
    }
   ],
   "execution_count": 16
  },
  {
   "metadata": {
    "ExecuteTime": {
     "end_time": "2025-07-22T06:37:00.169415Z",
     "start_time": "2025-07-22T06:37:00.158871Z"
    }
   },
   "cell_type": "code",
   "source": "b1 = np.kron(Fmtx.conjugate().transpose(), np.identity(4))",
   "id": "f7beb2a1460659c0",
   "outputs": [],
   "execution_count": 17
  },
  {
   "metadata": {
    "ExecuteTime": {
     "end_time": "2025-07-22T06:37:18.541369Z",
     "start_time": "2025-07-22T06:37:18.527219Z"
    }
   },
   "cell_type": "code",
   "source": "b1 @ CZ @ np.kron(a1, a1)",
   "id": "adc114d2cb54e106",
   "outputs": [
    {
     "data": {
      "text/plain": [
       "array([[ 0.00000000e+00+0.00000000e+00j],\n",
       "       [-2.50000000e-01-2.50000000e-01j],\n",
       "       [-7.65404249e-18-2.50000000e-01j],\n",
       "       [ 2.50000000e-01+0.00000000e+00j],\n",
       "       [ 0.00000000e+00+0.00000000e+00j],\n",
       "       [ 0.00000000e+00+0.00000000e+00j],\n",
       "       [-2.50000000e-01-2.50000000e-01j],\n",
       "       [-2.50000000e-01+2.50000000e-01j],\n",
       "       [ 0.00000000e+00+0.00000000e+00j],\n",
       "       [-2.50000000e-01+2.50000000e-01j],\n",
       "       [ 2.50000000e-01-1.38777878e-17j],\n",
       "       [ 7.65404249e-18+2.50000000e-01j],\n",
       "       [ 5.00000000e-01+0.00000000e+00j],\n",
       "       [ 0.00000000e+00+0.00000000e+00j],\n",
       "       [ 0.00000000e+00+0.00000000e+00j],\n",
       "       [ 0.00000000e+00+0.00000000e+00j]])"
      ]
     },
     "execution_count": 18,
     "metadata": {},
     "output_type": "execute_result"
    }
   ],
   "execution_count": 18
  },
  {
   "metadata": {},
   "cell_type": "code",
   "outputs": [],
   "execution_count": null,
   "source": "",
   "id": "4164741557172ff9"
  }
 ],
 "metadata": {
  "kernelspec": {
   "display_name": "Python 3",
   "language": "python",
   "name": "python3"
  },
  "language_info": {
   "codemirror_mode": {
    "name": "ipython",
    "version": 2
   },
   "file_extension": ".py",
   "mimetype": "text/x-python",
   "name": "python",
   "nbconvert_exporter": "python",
   "pygments_lexer": "ipython2",
   "version": "2.7.6"
  }
 },
 "nbformat": 4,
 "nbformat_minor": 5
}
