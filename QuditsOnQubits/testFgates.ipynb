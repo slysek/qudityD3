{
 "cells": [
  {
   "cell_type": "code",
   "id": "initial_id",
   "metadata": {
    "collapsed": true,
    "ExecuteTime": {
     "end_time": "2025-06-05T14:46:24.878132Z",
     "start_time": "2025-06-05T14:46:23.490177Z"
    }
   },
   "source": [
    "from qiskit import qpy\n",
    "from qiskit.circuit import QuantumCircuit\n",
    "from qiskit.primitives import StatevectorSampler\n",
    "from qiskit.quantum_info import Statevector\n",
    "import numpy as np\n",
    "import matplotlib.pyplot as plt"
   ],
   "outputs": [],
   "execution_count": 1
  },
  {
   "metadata": {
    "ExecuteTime": {
     "end_time": "2025-06-05T15:09:10.796569Z",
     "start_time": "2025-06-05T15:09:10.751553Z"
    }
   },
   "cell_type": "code",
   "source": [
    "with open('Zgate.qpy', 'rb') as fd:\n",
    "    Zgate = qpy.load(fd)[0]\n",
    "\n",
    "with open('Xgate.qpy', 'rb') as fd:\n",
    "    Xgate = qpy.load(fd)[0]\n",
    "\n",
    "with open('Fgate.qpy', 'rb') as fd:\n",
    "    Fgate = qpy.load(fd)[0]\n",
    "\n",
    "with open('FDAGgate.qpy', 'rb') as fd:\n",
    "    FDAGgate = qpy.load(fd)[0]\n",
    "\n",
    "with open('ame43_v2.qpy', 'rb') as fd:\n",
    "    ame43_v2 = qpy.load(fd)[0]"
   ],
   "id": "df1879461931c698",
   "outputs": [],
   "execution_count": 57
  },
  {
   "metadata": {
    "ExecuteTime": {
     "end_time": "2025-06-05T15:09:11.080190Z",
     "start_time": "2025-06-05T15:09:11.003188Z"
    }
   },
   "cell_type": "code",
   "source": [
    "qc = QuantumCircuit(2)\n",
    "qc.x(1)\n",
    "qc.append(Fgate, [0, 1])\n",
    "\n",
    "qc.draw('mpl')"
   ],
   "id": "d5af96b068f5e3f1",
   "outputs": [
    {
     "data": {
      "text/plain": [
       "<Figure size 287.294x200.667 with 1 Axes>"
      ],
      "image/png": "[encoded data removed]"
     },
     "execution_count": 58,
     "metadata": {},
     "output_type": "execute_result"
    }
   ],
   "execution_count": 58
  },
  {
   "metadata": {
    "ExecuteTime": {
     "end_time": "2025-06-05T14:49:32.226011Z",
     "start_time": "2025-06-05T14:49:32.188009Z"
    }
   },
   "cell_type": "code",
   "source": "Statevector(qc).draw(\"latex\")",
   "id": "b330d45c9082a58a",
   "outputs": [
    {
     "data": {
      "text/plain": [
       "<IPython.core.display.Latex object>"
      ],
      "text/latex": "$$- \\frac{\\sqrt{3}}{3} |00\\rangle+(\\frac{\\sqrt{3}}{6} + \\frac{i}{2}) |01\\rangle+(\\frac{\\sqrt{3}}{6} - \\frac{i}{2}) |10\\rangle$$"
     },
     "execution_count": 12,
     "metadata": {},
     "output_type": "execute_result"
    }
   ],
   "execution_count": 12
  },
  {
   "metadata": {
    "ExecuteTime": {
     "end_time": "2025-06-05T14:52:26.952919Z",
     "start_time": "2025-06-05T14:52:26.930913Z"
    }
   },
   "cell_type": "code",
   "source": [
    "omega = np.exp(2j * np.pi / 3)\n",
    "omega*omega"
   ],
   "id": "1e579870a622e79e",
   "outputs": [
    {
     "data": {
      "text/plain": [
       "np.complex128(-0.5000000000000003-0.8660254037844384j)"
      ]
     },
     "execution_count": 17,
     "metadata": {},
     "output_type": "execute_result"
    }
   ],
   "execution_count": 17
  },
  {
   "metadata": {
    "ExecuteTime": {
     "end_time": "2025-06-05T14:50:40.662319Z",
     "start_time": "2025-06-05T14:50:40.635316Z"
    }
   },
   "cell_type": "code",
   "source": "np.sqrt(3) / 2",
   "id": "5d9efe92a8d97f4d",
   "outputs": [
    {
     "data": {
      "text/plain": [
       "np.float64(0.8660254037844386)"
      ]
     },
     "execution_count": 13,
     "metadata": {},
     "output_type": "execute_result"
    }
   ],
   "execution_count": 13
  },
  {
   "metadata": {
    "ExecuteTime": {
     "end_time": "2025-06-05T14:53:11.413423Z",
     "start_time": "2025-06-05T14:53:11.320424Z"
    }
   },
   "cell_type": "code",
   "source": [
    "qc2 = QuantumCircuit(2)\n",
    "qc2.x(0)\n",
    "qc2.append(FDAGgate, [0, 1])\n",
    "\n",
    "qc2.draw('mpl')"
   ],
   "id": "49d57957a1179b93",
   "outputs": [
    {
     "data": {
      "text/plain": [
       "<Figure size 370.906x200.667 with 1 Axes>"
      ],
      "image/png": "[encoded data removed]"
     },
     "execution_count": 20,
     "metadata": {},
     "output_type": "execute_result"
    }
   ],
   "execution_count": 20
  },
  {
   "metadata": {
    "ExecuteTime": {
     "end_time": "2025-06-05T14:53:13.183710Z",
     "start_time": "2025-06-05T14:53:13.144712Z"
    }
   },
   "cell_type": "code",
   "source": "Statevector(qc2).draw(\"latex\")",
   "id": "bcbec9c6649dfa54",
   "outputs": [
    {
     "data": {
      "text/plain": [
       "<IPython.core.display.Latex object>"
      ],
      "text/latex": "$$\\frac{\\sqrt{3}}{3} |00\\rangle+(- \\frac{\\sqrt{3}}{6} - \\frac{i}{2}) |01\\rangle+(- \\frac{\\sqrt{3}}{6} + \\frac{i}{2}) |10\\rangle$$"
     },
     "execution_count": 21,
     "metadata": {},
     "output_type": "execute_result"
    }
   ],
   "execution_count": 21
  },
  {
   "metadata": {
    "ExecuteTime": {
     "end_time": "2025-06-05T15:03:39.999563Z",
     "start_time": "2025-06-05T15:03:39.953565Z"
    }
   },
   "cell_type": "code",
   "source": "Statevector(Fgate).draw('latex')",
   "id": "29122653c1e14837",
   "outputs": [
    {
     "data": {
      "text/plain": [
       "<IPython.core.display.Latex object>"
      ],
      "text/latex": "$$\\frac{\\sqrt{3}}{3} |00\\rangle+\\frac{\\sqrt{3}}{3} |01\\rangle+\\frac{\\sqrt{3}}{3} |10\\rangle$$"
     },
     "execution_count": 32,
     "metadata": {},
     "output_type": "execute_result"
    }
   ],
   "execution_count": 32
  },
  {
   "metadata": {
    "ExecuteTime": {
     "end_time": "2025-06-05T15:04:43.397133Z",
     "start_time": "2025-06-05T15:04:43.368117Z"
    }
   },
   "cell_type": "code",
   "source": "Statevector(Fgate.inverse()).draw('latex')",
   "id": "9ff7ae06a234fbb1",
   "outputs": [
    {
     "data": {
      "text/plain": [
       "<IPython.core.display.Latex object>"
      ],
      "text/latex": "$$\\frac{\\sqrt{3}}{3} |00\\rangle+\\frac{\\sqrt{3}}{3} |01\\rangle+\\frac{\\sqrt{3}}{3} |10\\rangle$$"
     },
     "execution_count": 33,
     "metadata": {},
     "output_type": "execute_result"
    }
   ],
   "execution_count": 33
  },
  {
   "metadata": {
    "ExecuteTime": {
     "end_time": "2025-06-05T15:09:31.070389Z",
     "start_time": "2025-06-05T15:09:30.924384Z"
    }
   },
   "cell_type": "code",
   "source": [
    "qc2 = QuantumCircuit(2)\n",
    "qc2.x(1)\n",
    "qc2.append(Fgate, [0, 1])\n",
    "\n",
    "qc2.draw('mpl')"
   ],
   "id": "1c0976e94596045b",
   "outputs": [
    {
     "data": {
      "text/plain": [
       "<Figure size 287.294x200.667 with 1 Axes>"
      ],
      "image/png": "[encoded data removed]"
     },
     "execution_count": 63,
     "metadata": {},
     "output_type": "execute_result"
    }
   ],
   "execution_count": 63
  },
  {
   "metadata": {
    "ExecuteTime": {
     "end_time": "2025-06-05T15:09:31.482383Z",
     "start_time": "2025-06-05T15:09:31.426391Z"
    }
   },
   "cell_type": "code",
   "source": "Statevector(qc2).draw('latex')",
   "id": "cf9b1cae6668748e",
   "outputs": [
    {
     "data": {
      "text/plain": [
       "<IPython.core.display.Latex object>"
      ],
      "text/latex": "$$\\frac{\\sqrt{3}}{3} |00\\rangle+(- \\frac{\\sqrt{3}}{6} - \\frac{i}{2}) |01\\rangle+(- \\frac{\\sqrt{3}}{6} + \\frac{i}{2}) |10\\rangle$$"
     },
     "execution_count": 64,
     "metadata": {},
     "output_type": "execute_result"
    }
   ],
   "execution_count": 64
  },
  {
   "metadata": {},
   "cell_type": "code",
   "outputs": [],
   "execution_count": null,
   "source": "",
   "id": "75c8bb04bf3af9b7"
  }
 ],
 "metadata": {
  "kernelspec": {
   "display_name": "Python 3",
   "language": "python",
   "name": "python3"
  },
  "language_info": {
   "codemirror_mode": {
    "name": "ipython",
    "version": 2
   },
   "file_extension": ".py",
   "mimetype": "text/x-python",
   "name": "python",
   "nbconvert_exporter": "python",
   "pygments_lexer": "ipython2",
   "version": "2.7.6"
  }
 },
 "nbformat": 4,
 "nbformat_minor": 5
}
