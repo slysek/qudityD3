{
 "cells": [
  {
   "cell_type": "code",
   "id": "initial_id",
   "metadata": {
    "collapsed": true,
    "ExecuteTime": {
     "end_time": "2024-10-23T00:13:18.412440Z",
     "start_time": "2024-10-23T00:13:18.406444Z"
    }
   },
   "source": [
    "from qiskit import QuantumCircuit, QuantumRegister, ClassicalRegister\n",
    "from qiskit_aer import AerSimulator\n",
    "import numpy as np\n"
   ],
   "outputs": [],
   "execution_count": 8
  },
  {
   "metadata": {
    "ExecuteTime": {
     "end_time": "2024-10-23T00:13:18.821360Z",
     "start_time": "2024-10-23T00:13:18.806369Z"
    }
   },
   "cell_type": "code",
   "source": [
    "def create_qutrit_plus_state(circuit, qubits):\n",
    "    theta = 2 * np.arccos(1 / np.sqrt(3))\n",
    "    phi = np.pi / 2\n",
    "\n",
    "    circuit.reset(qubits[0])\n",
    "    circuit.reset(qubits[1])\n",
    "\n",
    "    # Zastosuj bramkę Ry na pierwszym qubicie\n",
    "    circuit.ry(theta, qubits[0])\n",
    "    # Zastosuj bramkę Rz na pierwszym qubicie\n",
    "    circuit.rz(phi, qubits[0])\n",
    "    # Zastosuj bramkę Ry na drugim qubicie z kątem pi/2\n",
    "    circuit.ry(np.pi/2, qubits[1])\n",
    "    # Zastosuj bramkę kontrolowaną (np. bramka kontrolowana faza)\n",
    "    circuit.crz(np.pi, qubits[0], qubits[1])\n",
    "\n"
   ],
   "id": "2fe6772c4bb9fdf7",
   "outputs": [],
   "execution_count": 9
  },
  {
   "metadata": {
    "ExecuteTime": {
     "end_time": "2024-10-23T00:13:19.341266Z",
     "start_time": "2024-10-23T00:13:19.334291Z"
    }
   },
   "cell_type": "code",
   "source": [
    "# Tworzymy rejestr kwantowy z 6 qubitami\n",
    "qreg = QuantumRegister(6, 'q')\n",
    "# Tworzymy rejestr klasyczny do pomiarów\n",
    "creg = ClassicalRegister(6, 'c')\n",
    "# Tworzymy obwód kwantowy\n",
    "circuit = QuantumCircuit(qreg, creg)\n"
   ],
   "id": "7b72477b1dece1fb",
   "outputs": [],
   "execution_count": 10
  },
  {
   "metadata": {
    "ExecuteTime": {
     "end_time": "2024-10-23T00:13:19.762035Z",
     "start_time": "2024-10-23T00:13:19.746044Z"
    }
   },
   "cell_type": "code",
   "source": [
    "# Zastosowanie operacji na każdym qutricie\n",
    "create_qutrit_plus_state(circuit, [qreg[0], qreg[1]])  # Qutrit 1\n",
    "create_qutrit_plus_state(circuit, [qreg[2], qreg[3]])  # Qutrit 2\n",
    "create_qutrit_plus_state(circuit, [qreg[4], qreg[5]])  # Qutrit 3\n"
   ],
   "id": "d677fa09dbf23c06",
   "outputs": [],
   "execution_count": 11
  },
  {
   "metadata": {
    "ExecuteTime": {
     "end_time": "2024-10-23T00:13:20.150809Z",
     "start_time": "2024-10-23T00:13:20.128823Z"
    }
   },
   "cell_type": "code",
   "source": [
    "# Dodajemy pomiary\n",
    "circuit.measure(qreg, creg)\n"
   ],
   "id": "61177d73ed1d81a3",
   "outputs": [
    {
     "data": {
      "text/plain": [
       "<qiskit.circuit.instructionset.InstructionSet at 0x29c916b7b20>"
      ]
     },
     "execution_count": 12,
     "metadata": {},
     "output_type": "execute_result"
    }
   ],
   "execution_count": 12
  },
  {
   "metadata": {
    "ExecuteTime": {
     "end_time": "2024-10-23T00:16:11.184281Z",
     "start_time": "2024-10-23T00:16:11.167293Z"
    }
   },
   "cell_type": "code",
   "source": [
    "print(\"Wyniki pomiarów (posortowane według bitów):\")\n",
    "for outcome in sorted(counts):\n",
    "    print(f\"{outcome} : {counts[outcome]}\")\n",
    "\n",
    "# Wyświetlamy wyniki posortowane według liczby wystąpień\n",
    "print(\"\\nWyniki pomiarów (posortowane według liczby wystąpień):\")\n",
    "for outcome, count in sorted(counts.items(), key=lambda item: item[1], reverse=True):\n",
    "    print(f\"{outcome} : {count}\")"
   ],
   "id": "d18033ed48210fcd",
   "outputs": [
    {
     "name": "stdout",
     "output_type": "stream",
     "text": [
      "Wyniki pomiarów (posortowane według bitów):\n",
      "000000 : 3\n",
      "000001 : 9\n",
      "000010 : 5\n",
      "000011 : 16\n",
      "000100 : 8\n",
      "000101 : 19\n",
      "000110 : 9\n",
      "000111 : 13\n",
      "001000 : 3\n",
      "001001 : 5\n",
      "001010 : 3\n",
      "001011 : 13\n",
      "001100 : 16\n",
      "001101 : 16\n",
      "001110 : 12\n",
      "001111 : 18\n",
      "010000 : 10\n",
      "010001 : 25\n",
      "010010 : 12\n",
      "010011 : 26\n",
      "010100 : 20\n",
      "010101 : 39\n",
      "010110 : 18\n",
      "010111 : 43\n",
      "011000 : 5\n",
      "011001 : 25\n",
      "011010 : 12\n",
      "011011 : 22\n",
      "011100 : 22\n",
      "011101 : 47\n",
      "011110 : 21\n",
      "011111 : 37\n",
      "100000 : 6\n",
      "100001 : 6\n",
      "100010 : 3\n",
      "100011 : 5\n",
      "100100 : 5\n",
      "100101 : 31\n",
      "100110 : 9\n",
      "100111 : 13\n",
      "101000 : 5\n",
      "101001 : 7\n",
      "101010 : 1\n",
      "101011 : 5\n",
      "101100 : 11\n",
      "101101 : 28\n",
      "101110 : 6\n",
      "101111 : 19\n",
      "110000 : 7\n",
      "110001 : 14\n",
      "110010 : 8\n",
      "110011 : 15\n",
      "110100 : 19\n",
      "110101 : 39\n",
      "110110 : 19\n",
      "110111 : 30\n",
      "111000 : 13\n",
      "111001 : 17\n",
      "111010 : 9\n",
      "111011 : 13\n",
      "111100 : 17\n",
      "111101 : 42\n",
      "111110 : 17\n",
      "111111 : 33\n",
      "\n",
      "Wyniki pomiarów (posortowane według liczby wystąpień):\n",
      "011101 : 47\n",
      "010111 : 43\n",
      "111101 : 42\n",
      "110101 : 39\n",
      "010101 : 39\n",
      "011111 : 37\n",
      "111111 : 33\n",
      "100101 : 31\n",
      "110111 : 30\n",
      "101101 : 28\n",
      "010011 : 26\n",
      "011001 : 25\n",
      "010001 : 25\n",
      "011100 : 22\n",
      "011011 : 22\n",
      "011110 : 21\n",
      "010100 : 20\n",
      "110100 : 19\n",
      "101111 : 19\n",
      "000101 : 19\n",
      "110110 : 19\n",
      "010110 : 18\n",
      "001111 : 18\n",
      "111110 : 17\n",
      "111100 : 17\n",
      "111001 : 17\n",
      "000011 : 16\n",
      "001100 : 16\n",
      "001101 : 16\n",
      "110011 : 15\n",
      "110001 : 14\n",
      "001011 : 13\n",
      "111011 : 13\n",
      "111000 : 13\n",
      "000111 : 13\n",
      "100111 : 13\n",
      "001110 : 12\n",
      "011010 : 12\n",
      "010010 : 12\n",
      "101100 : 11\n",
      "010000 : 10\n",
      "111010 : 9\n",
      "100110 : 9\n",
      "000110 : 9\n",
      "000001 : 9\n",
      "000100 : 8\n",
      "110010 : 8\n",
      "110000 : 7\n",
      "101001 : 7\n",
      "100001 : 6\n",
      "101110 : 6\n",
      "100000 : 6\n",
      "100011 : 5\n",
      "101011 : 5\n",
      "000010 : 5\n",
      "100100 : 5\n",
      "011000 : 5\n",
      "001001 : 5\n",
      "101000 : 5\n",
      "100010 : 3\n",
      "001010 : 3\n",
      "001000 : 3\n",
      "000000 : 3\n",
      "101010 : 1\n"
     ]
    }
   ],
   "execution_count": 15
  },
  {
   "metadata": {
    "ExecuteTime": {
     "end_time": "2024-10-23T00:17:02.073858Z",
     "start_time": "2024-10-23T00:17:02.054873Z"
    }
   },
   "cell_type": "code",
   "source": [
    "# Wyświetlamy tylko stany bez '11' w parach qubitów\n",
    "print(\"Wyniki pomiarów (filtrowane i posortowane):\")\n",
    "for outcome, count in sorted(counts.items(), key=lambda item: item[1], reverse=True):\n",
    "    # Sprawdzamy każdą parę bitów\n",
    "    valid = True\n",
    "    bits = outcome[::-1]  # Odwracamy ciąg, ponieważ Qiskit używa małego endian\n",
    "    for i in range(0, 6, 2):\n",
    "        if bits[i:i+2] == '11':\n",
    "            valid = False\n",
    "            break\n",
    "    if valid:\n",
    "        print(f\"{outcome} : {count}\")\n"
   ],
   "id": "7f7e88929bf7074a",
   "outputs": [
    {
     "name": "stdout",
     "output_type": "stream",
     "text": [
      "Wyniki pomiarów (filtrowane i posortowane):\n",
      "010101 : 39\n",
      "100101 : 31\n",
      "011001 : 25\n",
      "010001 : 25\n",
      "010100 : 20\n",
      "000101 : 19\n",
      "010110 : 18\n",
      "011010 : 12\n",
      "010010 : 12\n",
      "010000 : 10\n",
      "100110 : 9\n",
      "000110 : 9\n",
      "000001 : 9\n",
      "000100 : 8\n",
      "101001 : 7\n",
      "100001 : 6\n",
      "100000 : 6\n",
      "000010 : 5\n",
      "100100 : 5\n",
      "011000 : 5\n",
      "001001 : 5\n",
      "101000 : 5\n",
      "100010 : 3\n",
      "001010 : 3\n",
      "001000 : 3\n",
      "000000 : 3\n",
      "101010 : 1\n"
     ]
    }
   ],
   "execution_count": 16
  },
  {
   "metadata": {
    "ExecuteTime": {
     "end_time": "2024-10-23T00:13:23.185312Z",
     "start_time": "2024-10-23T00:13:22.680604Z"
    }
   },
   "cell_type": "code",
   "source": "circuit.draw('mpl')",
   "id": "447d15b0f62a8ce7",
   "outputs": [
    {
     "data": {
      "text/plain": [
       "<Figure size 956.385x618.722 with 1 Axes>"
      ],
      "image/png": "[encoded data removed]"
     },
     "execution_count": 14,
     "metadata": {},
     "output_type": "execute_result"
    }
   ],
   "execution_count": 14
  },
  {
   "metadata": {},
   "cell_type": "code",
   "outputs": [],
   "execution_count": null,
   "source": "",
   "id": "85ba2be2ef07f67"
  }
 ],
 "metadata": {
  "kernelspec": {
   "display_name": "Python 3",
   "language": "python",
   "name": "python3"
  },
  "language_info": {
   "codemirror_mode": {
    "name": "ipython",
    "version": 2
   },
   "file_extension": ".py",
   "mimetype": "text/x-python",
   "name": "python",
   "nbconvert_exporter": "python",
   "pygments_lexer": "ipython2",
   "version": "2.7.6"
  }
 },
 "nbformat": 4,
 "nbformat_minor": 5
}
