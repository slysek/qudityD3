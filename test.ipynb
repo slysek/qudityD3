{
 "cells": [
  {
   "cell_type": "code",
   "id": "initial_id",
   "metadata": {
    "collapsed": true,
    "ExecuteTime": {
     "end_time": "2025-02-13T05:02:40.699216Z",
     "start_time": "2025-02-13T05:02:40.680152Z"
    }
   },
   "source": "from qubitsonqudits import QuditsOnQubits",
   "outputs": [],
   "execution_count": 12
  },
  {
   "metadata": {
    "ExecuteTime": {
     "end_time": "2025-02-13T05:02:41.587404Z",
     "start_time": "2025-02-13T05:02:41.498624Z"
    }
   },
   "cell_type": "code",
   "source": "ghz_circ = QuditsOnQubits()",
   "id": "e5fbdb2f6191725d",
   "outputs": [],
   "execution_count": 13
  },
  {
   "metadata": {
    "ExecuteTime": {
     "end_time": "2025-02-13T05:02:41.821364Z",
     "start_time": "2025-02-13T05:02:41.595563Z"
    }
   },
   "cell_type": "code",
   "source": "ghz_circ.draw('mpl')",
   "id": "f9ce060d99f5678d",
   "outputs": [
    {
     "ename": "AttributeError",
     "evalue": "'QuditsOnQubits' object has no attribute 'draw'",
     "output_type": "error",
     "traceback": [
      "\u001B[1;31m---------------------------------------------------------------------------\u001B[0m",
      "\u001B[1;31mAttributeError\u001B[0m                            Traceback (most recent call last)",
      "Cell \u001B[1;32mIn[14], line 1\u001B[0m\n\u001B[1;32m----> 1\u001B[0m \u001B[43mghz_circ\u001B[49m\u001B[38;5;241;43m.\u001B[39;49m\u001B[43mdraw\u001B[49m(\u001B[38;5;124m'\u001B[39m\u001B[38;5;124mmpl\u001B[39m\u001B[38;5;124m'\u001B[39m)\n",
      "\u001B[1;31mAttributeError\u001B[0m: 'QuditsOnQubits' object has no attribute 'draw'"
     ]
    }
   ],
   "execution_count": 14
  },
  {
   "metadata": {
    "ExecuteTime": {
     "end_time": "2025-02-13T05:02:43.519620Z",
     "start_time": "2025-02-13T05:02:42.952931Z"
    }
   },
   "cell_type": "code",
   "source": "brisbane = ghz_circ.torino()",
   "id": "461aae73432c5e79",
   "outputs": [],
   "execution_count": 15
  },
  {
   "metadata": {},
   "cell_type": "code",
   "source": "brisbane.draw('mpl')",
   "id": "2dd8471b79e999c",
   "outputs": [],
   "execution_count": null
  },
  {
   "metadata": {},
   "cell_type": "code",
   "source": "brisbane.draw('mpl', idle_wires=False)",
   "id": "d1e24b3db8904bd0",
   "outputs": [],
   "execution_count": null
  },
  {
   "metadata": {
    "ExecuteTime": {
     "end_time": "2025-02-13T05:04:57.721863Z",
     "start_time": "2025-02-13T05:04:40.257420Z"
    }
   },
   "cell_type": "code",
   "source": "ghz_circ.distrb()",
   "id": "c26b191e88ca604a",
   "outputs": [],
   "execution_count": 18
  },
  {
   "metadata": {
    "ExecuteTime": {
     "end_time": "2025-02-13T05:06:15.304158Z",
     "start_time": "2025-02-13T05:06:15.201640Z"
    }
   },
   "cell_type": "code",
   "source": "ghz_circ.fidelity(\"Torino\")",
   "id": "707db11eaa9c2515",
   "outputs": [
    {
     "ename": "AttributeError",
     "evalue": "'NoneType' object has no attribute 'values'",
     "output_type": "error",
     "traceback": [
      "\u001B[1;31m---------------------------------------------------------------------------\u001B[0m",
      "\u001B[1;31mAttributeError\u001B[0m                            Traceback (most recent call last)",
      "Cell \u001B[1;32mIn[19], line 1\u001B[0m\n\u001B[1;32m----> 1\u001B[0m \u001B[43mghz_circ\u001B[49m\u001B[38;5;241;43m.\u001B[39;49m\u001B[43mfidelity\u001B[49m\u001B[43m(\u001B[49m\u001B[38;5;124;43m\"\u001B[39;49m\u001B[38;5;124;43mTorino\u001B[39;49m\u001B[38;5;124;43m\"\u001B[39;49m\u001B[43m)\u001B[49m\n",
      "File \u001B[1;32m~\\DataspellProjects\\qudityD3\\QuditsOnQubits\\QuditsOnQubits\\main.py:82\u001B[0m, in \u001B[0;36mfidelity\u001B[1;34m(self, backend_name)\u001B[0m\n\u001B[0;32m     80\u001B[0m \u001B[38;5;28;01mif\u001B[39;00m backend_name \u001B[38;5;241m==\u001B[39m \u001B[38;5;124m\"\u001B[39m\u001B[38;5;124mBrisbane\u001B[39m\u001B[38;5;124m\"\u001B[39m:\n\u001B[0;32m     81\u001B[0m     fid \u001B[38;5;241m=\u001B[39m hellinger_fidelity(\u001B[38;5;28mself\u001B[39m\u001B[38;5;241m.\u001B[39mstatBasic, \u001B[38;5;28mself\u001B[39m\u001B[38;5;241m.\u001B[39mstatBrisbane)\n\u001B[1;32m---> 82\u001B[0m \u001B[38;5;28;01melif\u001B[39;00m backend_name \u001B[38;5;241m==\u001B[39m \u001B[38;5;124m\"\u001B[39m\u001B[38;5;124mTorino\u001B[39m\u001B[38;5;124m\"\u001B[39m:\n\u001B[0;32m     83\u001B[0m     fid \u001B[38;5;241m=\u001B[39m hellinger_fidelity(\u001B[38;5;28mself\u001B[39m\u001B[38;5;241m.\u001B[39mstatBasic, \u001B[38;5;28mself\u001B[39m\u001B[38;5;241m.\u001B[39mstatTorino)\n\u001B[0;32m     85\u001B[0m \u001B[38;5;28;01mreturn\u001B[39;00m fid\n",
      "File \u001B[1;32m~\\.conda\\envs\\qudityPAN\\lib\\site-packages\\qiskit\\quantum_info\\analysis\\distance.py:101\u001B[0m, in \u001B[0;36mhellinger_fidelity\u001B[1;34m(dist_p, dist_q)\u001B[0m\n\u001B[0;32m     57\u001B[0m \u001B[38;5;28;01mdef\u001B[39;00m \u001B[38;5;21mhellinger_fidelity\u001B[39m(dist_p: \u001B[38;5;28mdict\u001B[39m, dist_q: \u001B[38;5;28mdict\u001B[39m) \u001B[38;5;241m-\u001B[39m\u001B[38;5;241m>\u001B[39m \u001B[38;5;28mfloat\u001B[39m:\n\u001B[0;32m     58\u001B[0m \u001B[38;5;250m    \u001B[39m\u001B[38;5;124;03m\"\"\"Computes the Hellinger fidelity between\u001B[39;00m\n\u001B[0;32m     59\u001B[0m \u001B[38;5;124;03m    two counts distributions.\u001B[39;00m\n\u001B[0;32m     60\u001B[0m \n\u001B[1;32m   (...)\u001B[0m\n\u001B[0;32m     99\u001B[0m \u001B[38;5;124;03m        `Hellinger Distance @ wikipedia <https://en.wikipedia.org/wiki/Hellinger_distance>`_\u001B[39;00m\n\u001B[0;32m    100\u001B[0m \u001B[38;5;124;03m    \"\"\"\u001B[39;00m\n\u001B[1;32m--> 101\u001B[0m     dist \u001B[38;5;241m=\u001B[39m \u001B[43mhellinger_distance\u001B[49m\u001B[43m(\u001B[49m\u001B[43mdist_p\u001B[49m\u001B[43m,\u001B[49m\u001B[43m \u001B[49m\u001B[43mdist_q\u001B[49m\u001B[43m)\u001B[49m\n\u001B[0;32m    102\u001B[0m     \u001B[38;5;28;01mreturn\u001B[39;00m (\u001B[38;5;241m1\u001B[39m \u001B[38;5;241m-\u001B[39m dist\u001B[38;5;241m*\u001B[39m\u001B[38;5;241m*\u001B[39m\u001B[38;5;241m2\u001B[39m) \u001B[38;5;241m*\u001B[39m\u001B[38;5;241m*\u001B[39m \u001B[38;5;241m2\u001B[39m\n",
      "File \u001B[1;32m~\\.conda\\envs\\qudityPAN\\lib\\site-packages\\qiskit\\quantum_info\\analysis\\distance.py:32\u001B[0m, in \u001B[0;36mhellinger_distance\u001B[1;34m(dist_p, dist_q)\u001B[0m\n\u001B[0;32m     18\u001B[0m \u001B[38;5;28;01mdef\u001B[39;00m \u001B[38;5;21mhellinger_distance\u001B[39m(dist_p: \u001B[38;5;28mdict\u001B[39m, dist_q: \u001B[38;5;28mdict\u001B[39m) \u001B[38;5;241m-\u001B[39m\u001B[38;5;241m>\u001B[39m \u001B[38;5;28mfloat\u001B[39m:\n\u001B[0;32m     19\u001B[0m \u001B[38;5;250m    \u001B[39m\u001B[38;5;124;03m\"\"\"Computes the Hellinger distance between\u001B[39;00m\n\u001B[0;32m     20\u001B[0m \u001B[38;5;124;03m    two counts distributions.\u001B[39;00m\n\u001B[0;32m     21\u001B[0m \n\u001B[1;32m   (...)\u001B[0m\n\u001B[0;32m     30\u001B[0m \u001B[38;5;124;03m        `Hellinger Distance @ wikipedia <https://en.wikipedia.org/wiki/Hellinger_distance>`_\u001B[39;00m\n\u001B[0;32m     31\u001B[0m \u001B[38;5;124;03m    \"\"\"\u001B[39;00m\n\u001B[1;32m---> 32\u001B[0m     p_sum \u001B[38;5;241m=\u001B[39m \u001B[38;5;28msum\u001B[39m(\u001B[43mdist_p\u001B[49m\u001B[38;5;241;43m.\u001B[39;49m\u001B[43mvalues\u001B[49m())\n\u001B[0;32m     33\u001B[0m     q_sum \u001B[38;5;241m=\u001B[39m \u001B[38;5;28msum\u001B[39m(dist_q\u001B[38;5;241m.\u001B[39mvalues())\n\u001B[0;32m     35\u001B[0m     p_normed \u001B[38;5;241m=\u001B[39m {}\n",
      "\u001B[1;31mAttributeError\u001B[0m: 'NoneType' object has no attribute 'values'"
     ]
    }
   ],
   "execution_count": 19
  },
  {
   "metadata": {},
   "cell_type": "code",
   "outputs": [],
   "execution_count": null,
   "source": "",
   "id": "caab7361cc995910"
  }
 ],
 "metadata": {
  "kernelspec": {
   "display_name": "Python 3",
   "language": "python",
   "name": "python3"
  },
  "language_info": {
   "codemirror_mode": {
    "name": "ipython",
    "version": 2
   },
   "file_extension": ".py",
   "mimetype": "text/x-python",
   "name": "python",
   "nbconvert_exporter": "python",
   "pygments_lexer": "ipython2",
   "version": "2.7.6"
  }
 },
 "nbformat": 4,
 "nbformat_minor": 5
}
